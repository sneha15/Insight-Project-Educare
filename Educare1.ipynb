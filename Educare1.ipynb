{
 "cells": [
  {
   "cell_type": "code",
   "execution_count": 86,
   "metadata": {
    "collapsed": false
   },
   "outputs": [
    {
     "data": {
      "text/html": [
       "<script>requirejs.config({paths: { 'plotly': ['https://cdn.plot.ly/plotly-latest.min']},});if(!window.Plotly) {{require(['plotly'],function(plotly) {window.Plotly=plotly;});}}</script>"
      ],
      "text/plain": [
       "<IPython.core.display.HTML object>"
      ]
     },
     "metadata": {},
     "output_type": "display_data"
    }
   ],
   "source": [
    "import pandas as pd\n",
    "import glob\n",
    "import time\n",
    "import matplotlib.pyplot as plt\n",
    "import numpy as np\n",
    "import seaborn as sns\n",
    "from datetime import datetime, timedelta\n",
    "import plotly\n",
    "from plotly.offline import download_plotlyjs, init_notebook_mode, iplot\n",
    "init_notebook_mode(connected=True)\n",
    "from plotly.graph_objs import *\n",
    "#from pyzipcode import ZipCodeDatabase\n",
    "#from geopy import geocoders\n",
    "from geopy.geocoders import Nominatim"
   ]
  },
  {
   "cell_type": "code",
   "execution_count": 87,
   "metadata": {
    "collapsed": false
   },
   "outputs": [
    {
     "data": {
      "text/plain": [
       "37.4233552"
      ]
     },
     "execution_count": 87,
     "metadata": {},
     "output_type": "execute_result"
    }
   ],
   "source": [
    "geolocator = Nominatim()\n",
    "location = geolocator.geocode(\"94306\")\n",
    "location.latitude\n",
    "\n"
   ]
  },
  {
   "cell_type": "code",
   "execution_count": 88,
   "metadata": {
    "collapsed": false
   },
   "outputs": [
    {
     "data": {
      "text/html": [
       "<div>\n",
       "<table border=\"1\" class=\"dataframe\">\n",
       "  <thead>\n",
       "    <tr style=\"text-align: right;\">\n",
       "      <th></th>\n",
       "      <th>camp_id</th>\n",
       "      <th>student_id</th>\n",
       "      <th>gender</th>\n",
       "      <th>date_of_birth</th>\n",
       "      <th>enroll_date</th>\n",
       "      <th>end_date</th>\n",
       "      <th>grade_level</th>\n",
       "      <th>city_student</th>\n",
       "      <th>country_student</th>\n",
       "      <th>zip_student</th>\n",
       "      <th>state_student</th>\n",
       "      <th>city_camp</th>\n",
       "      <th>zip_camp</th>\n",
       "      <th>state_camp,</th>\n",
       "      <th>country_camp</th>\n",
       "      <th>open_date</th>\n",
       "      <th>center_days</th>\n",
       "    </tr>\n",
       "  </thead>\n",
       "  <tbody>\n",
       "    <tr>\n",
       "      <th>0</th>\n",
       "      <td>2824</td>\n",
       "      <td>61913</td>\n",
       "      <td>M</td>\n",
       "      <td>2002-01-22</td>\n",
       "      <td>2015-09-01</td>\n",
       "      <td>2015-11-30</td>\n",
       "      <td>12</td>\n",
       "      <td>Santa Rosa</td>\n",
       "      <td>USA</td>\n",
       "      <td>95409</td>\n",
       "      <td>CA</td>\n",
       "      <td>Windsor</td>\n",
       "      <td>95492</td>\n",
       "      <td>CA</td>\n",
       "      <td>US</td>\n",
       "      <td>2015-01-01</td>\n",
       "      <td>[2, 5]</td>\n",
       "    </tr>\n",
       "    <tr>\n",
       "      <th>1</th>\n",
       "      <td>2824</td>\n",
       "      <td>61922</td>\n",
       "      <td>F</td>\n",
       "      <td>2002-04-28</td>\n",
       "      <td>2015-01-01</td>\n",
       "      <td>2016-09-18</td>\n",
       "      <td>11</td>\n",
       "      <td>Santa Rosa</td>\n",
       "      <td>USA</td>\n",
       "      <td>95403</td>\n",
       "      <td>CA</td>\n",
       "      <td>Windsor</td>\n",
       "      <td>95492</td>\n",
       "      <td>CA</td>\n",
       "      <td>US</td>\n",
       "      <td>2015-01-01</td>\n",
       "      <td>[2, 5]</td>\n",
       "    </tr>\n",
       "    <tr>\n",
       "      <th>2</th>\n",
       "      <td>2824</td>\n",
       "      <td>61938</td>\n",
       "      <td>M</td>\n",
       "      <td>2000-12-13</td>\n",
       "      <td>2015-01-01</td>\n",
       "      <td>2015-08-30</td>\n",
       "      <td>12</td>\n",
       "      <td>Santa Rosa</td>\n",
       "      <td>USA</td>\n",
       "      <td>95404</td>\n",
       "      <td>CA</td>\n",
       "      <td>Windsor</td>\n",
       "      <td>95492</td>\n",
       "      <td>CA</td>\n",
       "      <td>US</td>\n",
       "      <td>2015-01-01</td>\n",
       "      <td>[2, 5]</td>\n",
       "    </tr>\n",
       "    <tr>\n",
       "      <th>3</th>\n",
       "      <td>2824</td>\n",
       "      <td>61958</td>\n",
       "      <td>M</td>\n",
       "      <td>2008-07-21</td>\n",
       "      <td>2016-01-05</td>\n",
       "      <td>2016-09-18</td>\n",
       "      <td>6</td>\n",
       "      <td>Windsor</td>\n",
       "      <td>USA</td>\n",
       "      <td>95492</td>\n",
       "      <td>CA</td>\n",
       "      <td>Windsor</td>\n",
       "      <td>95492</td>\n",
       "      <td>CA</td>\n",
       "      <td>US</td>\n",
       "      <td>2015-01-01</td>\n",
       "      <td>[2, 5]</td>\n",
       "    </tr>\n",
       "    <tr>\n",
       "      <th>4</th>\n",
       "      <td>2824</td>\n",
       "      <td>61981</td>\n",
       "      <td>F</td>\n",
       "      <td>2008-01-21</td>\n",
       "      <td>2016-03-04</td>\n",
       "      <td>2016-05-28</td>\n",
       "      <td>7</td>\n",
       "      <td>Santa Rosa</td>\n",
       "      <td>USA</td>\n",
       "      <td>95409</td>\n",
       "      <td>CA</td>\n",
       "      <td>Windsor</td>\n",
       "      <td>95492</td>\n",
       "      <td>CA</td>\n",
       "      <td>US</td>\n",
       "      <td>2015-01-01</td>\n",
       "      <td>[2, 5]</td>\n",
       "    </tr>\n",
       "  </tbody>\n",
       "</table>\n",
       "</div>"
      ],
      "text/plain": [
       "   camp_id  student_id gender date_of_birth enroll_date   end_date  \\\n",
       "0     2824       61913      M    2002-01-22  2015-09-01 2015-11-30   \n",
       "1     2824       61922      F    2002-04-28  2015-01-01 2016-09-18   \n",
       "2     2824       61938      M    2000-12-13  2015-01-01 2015-08-30   \n",
       "3     2824       61958      M    2008-07-21  2016-01-05 2016-09-18   \n",
       "4     2824       61981      F    2008-01-21  2016-03-04 2016-05-28   \n",
       "\n",
       "   grade_level city_student country_student zip_student state_student  \\\n",
       "0           12   Santa Rosa             USA       95409            CA   \n",
       "1           11   Santa Rosa             USA       95403            CA   \n",
       "2           12   Santa Rosa             USA       95404            CA   \n",
       "3            6      Windsor             USA       95492            CA   \n",
       "4            7   Santa Rosa             USA       95409            CA   \n",
       "\n",
       "  city_camp zip_camp state_camp, country_camp  open_date center_days  \n",
       "0   Windsor    95492          CA           US 2015-01-01      [2, 5]  \n",
       "1   Windsor    95492          CA           US 2015-01-01      [2, 5]  \n",
       "2   Windsor    95492          CA           US 2015-01-01      [2, 5]  \n",
       "3   Windsor    95492          CA           US 2015-01-01      [2, 5]  \n",
       "4   Windsor    95492          CA           US 2015-01-01      [2, 5]  "
      ]
     },
     "execution_count": 88,
     "metadata": {},
     "output_type": "execute_result"
    }
   ],
   "source": [
    "# READ IN AND MERGE CAMP AND STUDENT FILES\n",
    "\n",
    "stud = pd.read_csv('/home/harisk87/Dropbox/PythonProjects/EduCare/StudentCA.csv', parse_dates = ['enroll_date', 'end_date', 'date_of_birth'])\n",
    "camps = pd.read_csv('/home/harisk87/Dropbox/PythonProjects/EduCare/MathCampAll.csv', parse_dates = ['open_date'])\n",
    "\n",
    "students = pd.merge(stud, camps, on='camp_id')\n",
    "students = students.rename(columns={'city_x': 'city_student', 'country': 'country_student', 'zip_code_x': 'zip_student', 'state_code_x': 'state_student', 'city_y':'city_camp', 'zip_code_y':'zip_camp', 'state_code_y':'state_camp,', 'country_code':'country_camp'})\n",
    "\n",
    "students.head()"
   ]
  },
  {
   "cell_type": "code",
   "execution_count": 89,
   "metadata": {
    "collapsed": false
   },
   "outputs": [
    {
     "name": "stdout",
     "output_type": "stream",
     "text": [
      "4428 Total Students Enrolled\n",
      "4204 remaining students after nulls dropped ~5%\n",
      "4204\n",
      "0 absolute duplicates in the data\n"
     ]
    }
   ],
   "source": [
    "# REMOVE NULLS AND DUPLICATE DATA\n",
    "print(str(len(students)) + ' Total Students Enrolled')\n",
    "\n",
    "#print(students.isnull().sum())\n",
    "# 215 students who did not submit worksheets - dont know if they quit on the first day \n",
    "# or are enrolled and did not submit worksheets.. leave them out for now\n",
    "\n",
    "print(str(len(students.dropna(how='any'))) + ' remaining students after nulls dropped ~5%')\n",
    "students = students.dropna(how='any')\n",
    "\n",
    "print(len(students))\n",
    "print(str(len(students[students.duplicated()]))+' absolute duplicates in the data')\n",
    "#print(str(len(students[students.duplicated(subset=['student_id'])])))\n",
    "# no duplicates in data, very clean"
   ]
  },
  {
   "cell_type": "code",
   "execution_count": 90,
   "metadata": {
    "collapsed": false
   },
   "outputs": [],
   "source": [
    "# TIME ENROLLED FOR EACH STUDENT\n",
    "td = (students['end_date'] - students['enroll_date'])\n",
    "students[\"time_enrolled\"] = (td / np.timedelta64(1, 'D')).astype(int)\n",
    "#students.head()"
   ]
  },
  {
   "cell_type": "code",
   "execution_count": 91,
   "metadata": {
    "collapsed": false
   },
   "outputs": [
    {
     "data": {
      "text/html": [
       "<div id=\"85e5a117-3e6f-46dd-849f-bbfd7b094266\" style=\"height: 525px; width: 100%;\" class=\"plotly-graph-div\"></div><script type=\"text/javascript\">require([\"plotly\"], function(Plotly) { window.PLOTLYENV=window.PLOTLYENV || {};window.PLOTLYENV.BASE_URL=\"https://plot.ly\";Plotly.newPlot(\"85e5a117-3e6f-46dd-849f-bbfd7b094266\", [{\"x\": [90, 241, 85, 83, 149, 47, 57, 205, 225, 234, 469, 38, 23, 445, 82, 59, 54, 206, 17, 40, 240, 522, 15, 98, 161, 426, 23, 392, 263, 264, 424, 53, 41, 598, 139, 212, 77, 241, 160, 464, 12, 18, 41, 187, 210, 229, 272, 207, 68, 53, 453, 271, 133, 119, 107, 416, 348, 76, 229, 232, 97, 113, 142, 167, 12, 13, 140, 147, 101, 351, 327, 86, 85, 84, 609, 109, 98, 31, 552, 148, 148, 51, 27, 74, 41, 193, 77, 537, 433, 878, 334, 732, 338, 74, 557, 47, 88, 36, 259, 74, 93, 196, 75, 197, 118, 49, 1050, 505, 77, 77, 785, 480, 77, 263, 270, 229, 52, 40, 113, 52, 182, 112, 57, 418, 141, 42, 1332, 1188, 175, 1085, 389, 490, 478, 588, 154, 160, 551, 150, 42, 678, 40, 241, 155, 13, 292, 231, 1506, 1343, 451, 224, 288, 65, 85, 50, 401, 91, 395, 287, 159, 389, 363, 651, 150, 112, 150, 116, 115, 806, 663, 299, 678, 231, 663, 679, 244, 425, 1285, 505, 146, 99, 659, 657, 786, 191, 59, 59, 69, 110, 286, 34, 18, 821, 191, 173, 1049, 772, 160, 175, 1059, 203, 357, 14, 77, 224, 37, 14, 131, 134, 210, 32, 53, 209, 334, 288, 558, 267, 232, 14, 34, 173, 1134, 37, 133, 336, 838, 735, 117, 732, 293, 162, 111, 961, 105, 537, 61, 114, 176, 826, 28, 951, 537, 118, 82, 208, 318, 615, 157, 77, 343, 236, 660, 270, 270, 137, 122, 224, 235, 261, 221, 1165, 762, 289, 126, 425, 16, 103, 294, 126, 180, 426, 294, 180, 146, 236, 307, 80, 257, 196, 1340, 699, 210, 340, 998, 116, 233, 1363, 97, 257, 108, 104, 1342, 823, 1442, 14, 457, 440, 616, 1362, 41, 54, 616, 475, 635, 210, 658, 137, 152, 1071, 31, 3, 196, 398, 585, 279, 137, 197, 173, 175, 312, 224, 373, 232, 124, 231, 105, 173, 40, 431, 208, 322, 143, 87, 25, 697, 312, 697, 87, 324, 62, 104, 827, 399, 574, 201, 596, 623, 156, 496, 13, 453, 576, 911, 212, 1267, 392, 136, 392, 709, 102, 227, 210, 196, 806, 105, 1185, 211, 984, 211, 68, 114, 171, 211, 249, 307, 44, 155, 357, 602, 57, 1088, 73, 307, 89, 196, 489, 89, 114, 905, 157, 56, 59, 905, 18, 805, 574, 66, 260, 881, 196, 714, 441, 326, 504, 842, 13, 187, 87, 1763, 1296, 180, 80, 545, 209, 30, 77, 675, 538, 504, 48, 537, 305, 140, 139, 77, 337, 305, 161, 440, 455, 378, 21, 261, 448, 290, 67, 546, 637, 196, 713, 1609, 546, 285, 84, 196, 106, 906, 245, 247, 189, 146, 149, 191, 91, 254, 193, 174, 245, 24, 244, 246, 89, 253, 245, 121, 64, 72, 254, 260, 150, 143, 141, 260, 101, 30, 253, 266, 19, 37, 255, 25, 269, 53, 73, 257, 181, 247, 45, 14, 230, 219, 206, 36, 272, 19, 19, 23, 183, 36, 6, 257, 274, 171, 159, 157, 30, 26, 176, 155, 262, 92, 77, 61, 260, 255, 273, 62, 197, 77, 289, 92, 153, 32, 31, 168, 153, 122, 245, 249, 222, 269, 123, 6, 245, 19, 0, 0, 0, 249, 59, 87, 249, 252, 31, 252, 78, 122, 12, 247, 266, 236, 63, 176, 51, 473, 103, 39, 76, 285, 42, 42, 106, 58, 84, 86, 107, 111, 33, 122, 201, 80, 168, 141, 270, 177, 377, 77, 196, 73, 289, 83, 98, 179, 181, 60, 81, 74, 41, 324, 324, 102, 102, 5, 91, 173, 236, 353, 23, 23, 117, 200, 42, 56, 578, 114, 55, 23, 212, 212, 69, 212, 212, 222, 25, 35, 73, 71, 220, 240, 474, 40, 42, 111, 76, 172, 172, 301, 52, 69, 114, 99, 288, 241, 134, 39, 368, 117, 220, 53, 54, 118, 86, 117, 454, 454, 77, 140, 46, 128, 116, 228, 228, 53, 502, 513, 38, 38, 257, 248, 178, 368, 96, 492, 163, 748, 404, 790, 105, 188, 28, 92, 104, 49, 79, 87, 137, 104, 133, 307, 185, 27, 412, 103, 83, 105, 23, 329, 48, 748, 452, 0, 474, 417, 563, 342, 188, 309, 34, 829, 179, 39, 48, 333, 124, 72, 137, 406, 220, 22, 425, 19, 138, 249, 285, 128, 164, 252, 1, 360, 126, 14, 836, 97, 83, 305, 305, 25, 154, 47, 153, 76, 216, 882, 315, 563, 333, 43, 9, 132, 84, 139, 351, 398, 426, 177, 398, 266, 489, 168, 190, 665, 426, 305, 1033, 211, 63, 629, 456, 570, 1144, 426, 304, 46, 265, 55, 230, 279, 48, 90, 104, 88, 350, 69, 214, 21, 400, 753, 66, 45, 140, 55, 188, 174, 135, 265, 19, 87, 142, 110, 111, 184, 110, 358, 50, 50, 81, 204, 267, 267, 134, 122, 107, 23, 273, 212, 9, 7, 172, 172, 13, 242, 50, 241, 297, 261, 293, 292, 167, 27, 35, 29, 83, 128, 238, 38, 46, 57, 273, 216, 240, 316, 43, 261, 730, 157, 28, 406, 381, 301, 144, 129, 175, 169, 93, 84, 275, 371, 197, 112, 328, 177, 49, 58, 406, 500, 91, 616, 106, 106, 157, 57, 195, 485, 97, 112, 169, 45, 485, 45, 266, 263, 107, 211, 539, 539, 132, 24, 98, 281, 69, 96, 7, 16, 328, 350, 30, 305, 178, 625, 283, 169, 339, 318, 45, 45, 515, 535, 357, 75, 613, 56, 413, 397, 86, 7, 558, 603, 698, 52, 188, 699, 322, 158, 473, 913, 552, 1428, 223, 59, 444, 318, 205, 77, 109, 166, 381, 130, 59, 315, 94, 1252, 69, 132, 1449, 1449, 192, 1347, 378, 248, 906, 52, 248, 73, 689, 33, 301, 83, 298, 842, 724, 1245, 545, 87, 814, 258, 75, 815, 7, 141, 426, 1801, 441, 89, 1372, 21, 42, 139, 65, 30, 121, 63, 70, 39, 464, 86, 85, 87, 215, 83, 385, 82, 619, 78, 45, 48, 286, 1155, 319, 1290, 606, 259, 452, 111, 168, 782, 531, 251, 166, 119, 290, 798, 224, 606, 1379, 821, 119, 459, 1670, 31, 331, 598, 181, 346, 542, 293, 157, 14, 231, 462, 612, 150, 1169, 231, 206, 27, 85, 183, 839, 498, 115, 682, 323, 151, 90, 120, 440, 16, 256, 236, 973, 149, 401, 63, 371, 908, 913, 45, 637, 526, 198, 148, 155, 343, 789, 427, 172, 51, 1207, 372, 87, 175, 1025, 760, 759, 329, 592, 196, 126, 271, 1114, 362, 119, 149, 263, 122, 369, 1033, 223, 294, 235, 1113, 1315, 994, 178, 753, 390, 210, 240, 86, 170, 55, 90, 507, 636, 126, 448, 142, 745, 946, 176, 452, 74, 81, 136, 239, 1120, 1347, 383, 119, 84, 110, 134, 325, 268, 84, 326, 14, 226, 247, 205, 921, 711, 221, 53, 23, 28, 28, 35, 37, 35, 17, 149, 25, 24, 25, 119, 57, 115, 212, 101, 84, 137, 133, 70, 137, 193, 178, 140, 116, 187, 184, 233, 589, 176, 270, 11, 796, 108, 249, 215, 130, 33, 149, 798, 796, 1120, 142, 99, 804, 307, 34, 902, 29, 585, 56, 135, 254, 568, 827, 337, 15, 363, 269, 357, -102, 101, 458, 224, 69, 58, 493, 199, 122, 124, 1093, 1385, 121, 40, 781, 1385, 98, 545, 177, 55, 235, 82, 208, 523, 542, 210, 316, 35, 23, 546, 130, 313, 184, 163, 303, 31, 11, 232, 197, 110, 34, 175, 553, 189, 951, 476, 561, 56, 136, 34, 134, 228, 314, 394, 309, 1147, 41, 12, 37, 141, 77, 77, 70, 42, 255, 169, 49, 43, 231, 373, 116, 170, 260, 220, 1338, 66, 159, 76, 191, 7, 377, 98, 156, 83, 156, 154, 421, 141, 1048, 1274, 678, 160, 176, 132, 548, 403, 39, 228, 39, 85, 382, 364, 78, 79, 148, 875, 143, 39, 232, 364, 77, 410, 207, 364, 708, 176, 64, 93, 999, 69, 46, 52, 1006, 43, 41, 650, 732, 171, 81, 55, 336, 175, 251, 173, 663, 364, 15, 343, 44, 2, 988, 239, 218, 447, 80, 267, 36, 1086, 78, 264, 105, 78, 980, 321, 197, 261, 100, 362, 66, 116, 30, 189, 230, 197, 30, 86, 200, 226, 413, 287, 30, 218, 457, 356, 99, 19, 16, 30, 189, 39, 528, 259, 30, 48, 312, 91, 9, 543, 20, 211, 848, 48, 92, 50, 712, 220, 211, 211, 959, 823, 692, 1449, 573, 566, 100, 546, 1267, 580, 1692, 547, 105, 996, 1896, 573, 2081, 243, 1113, 1206, 1973, 574, 1110, 164, 1455, 114, 393, 410, 791, 107, 1497, 663, 679, 1475, 202, 879, 1078, 807, 909, 1733, 601, 219, 193, 2624, 748, 138, 244, 725, 1352, 275, 2501, 1536, 1483, 1677, 335, 429, 358, 1325, 162, 146, 303, 775, 174, 51, 1833, 427, 363, 62, 89, 366, 946, 55, 85, 431, 1028, 479, 482, 348, 743, 752, 419, 133, 1402, 535, 752, 37, 1730, 121, 1301, 1553, 2338, 636, 544, 913, 121, 590, 174, 328, 317, 174, 1322, 356, 463, 359, 258, 1333, 477, 1344, 699, 988, 113, 126, 969, 608, 484, 575, 1692, 574, 747, 45, 1269, 192, 1143, 198, 83, 62, 745, 139, 44, 332, 1193, 65, 230, 331, 93, 206, 258, 561, 324, 6, 2266, 1323, 545, 311, 496, 84, 1525, 363, 2313, 521, 530, 561, 240, 417, 1190, 848, 19, 359, 148, 1199, 617, 1454, 897, 601, 601, 1666, 1539, 1013, 267, 377, 267, 734, 288, 345, 288, 469, 91, 819, 464, 398, 758, 592, 1099, 1819, 454, 443, 965, 758, 741, 378, 1212, 500, 818, 388, 131, 1427, 91, 103, 755, 576, 1760, 2077, 2180, 1710, 1476, 568, 456, 2860, 2076, 2024, 808, 980, 227, 865, 429, 521, 392, 949, 1985, 1657, 699, 834, 848, 713, 713, 132, 834, 402, 315, 1213, 107, 197, 671, 1215, 345, 342, 1393, 657, 234, 631, 734, 104, 650, 651, 41, 479, 83, 244, 508, 76, 227, 350, 261, 384, 380, 450, 381, 373, 338, 368, 272, 274, 1605, 148, 388, 1217, 321, 497, 377, 733, 761, 626, 997, 23, 656, 1200, 763, 1873, 66, 2635, 638, 20, 846, 366, 1162, 202, 1122, 1983, 390, 393, 2522, 254, 393, 477, 390, 30, 118, 432, 2006, 457, 2629, 118, 544, 123, 1290, 80, 2222, 624, 1357, 138, 1725, 2263, 314, 380, 486, 1970, 874, 1717, 38, 1611, 120, 2071, 2623, 838, 444, 51, 211, 689, 2207, 1035, 982, 2067, 597, 440, 28, 147, 959, 402, 2695, 28, 314, 503, 1088, 848, 2112, 884, 149, 907, 148, 132, 1356, 233, 1007, 1766, 1133, 363, 1186, 265, 1215, 149, 1818, 941, 142, 395, 631, 77, 552, 265, 628, 772, 1321, 1441, 580, 1374, 370, 720, 2728, 2469, 1542, 631, 88, 1727, 646, 251, 1307, 2627, 1487, 118, 1563, 911, 103, 88, 790, 267, 1642, 1244, 2207, 688, 191, 593, 198, 905, 545, 1209, 114, 712, 1094, 541, 593, 34, 122, 23, 287, 343, 1249, 99, 46, 653, 2772, 338, 1114, 215, 198, 721, 335, 553, 1106, 1726, 315, 412, 973, 40, 979, 37, 226, 311, 117, 323, 1726, 19, 238, 655, 479, 20, 161, 241, 1061, 821, 905, 272, 86, 230, 1716, 193, 373, 935, 450, 40, 299, 105, 1884, 132, 73, 399, 198, 246, 443, 180, 164, 99, 65, 730, 282, 552, 436, 178, 527, 414, 245, 79, 506, 54, 1460, 499, 28, 106, 388, 232, 336, 351, 210, 357, 192, 1636, 317, 568, 479, 1270, 559, 26, 2031, 1516, 450, 35, 726, 137, 531, 833, 1065, 1064, 79, 1270, 137, 179, 1738, 270, 1491, 128, 131, 393, 466, 470, 1491, 132, 516, 71, 177, 542, 347, 122, 791, 116, 311, 2128, 147, 598, 1047, 179, 513, 13, 223, 748, 1883, 114, 272, 512, 171, 111, 348, 308, 63, 896, 114, 48, 349, 268, 105, 207, 51, 168, 77, 5, 51, 217, 211, 201, 837, 257, 85, 298, 764, 532, 124, 1132, 213, 590, 1012, 44, 134, 424, 153, 501, 423, 170, 274, 21, 1623, 1650, 329, 181, 1219, 358, 281, 50, 19, 51, 516, 29, 1631, 657, 215, 312, 353, 261, 1513, 512, 657, 156, 212, 14, 182, 161, 149, 184, 214, 609, 680, 658, 230, 271, 200, 147, 194, 329, 403, 235, 118, 220, 126, 166, 510, 592, 73, 588, 71, 96, 195, 294, 648, 242, 84, 1765, 664, 986, 802, 1473, 546, 1640, 77, 355, 125, 361, 603, 323, 243, 464, 660, 660, 433, 301, 175, 723, 547, 201, 1032, 44, 305, 271, 212, 104, 224, 343, 350, 1205, 177, 320, 40, 63, 459, 108, 183, 688, 490, 300, 140, 1367, 163, 482, 258, 39, 626, 300, 986, 895, 622, 626, 329, 601, 168, 49, 195, 601, 119, 864, 195, 198, 249, 107, 176, 865, 34, 181, 179, 872, 170, 323, 1405, 461, 169, 1201, 798, 1428, 51, 751, 237, 245, 120, 97, 373, 173, 310, 455, 14, 187, 702, 383, 823, 454, 454, 77, 100, 63, 671, 48, 399, 745, 1445, 459, 882, 104, 252, 1393, 405, 184, 350, 574, 574, 81, 525, 889, 808, 284, 142, 1203, 168, 168, 83, 185, 940, 1332, 225, 86, 209, 247, 499, 170, 329, 1133, 243, 443, 139, 54, 688, 133, 437, 746, 334, 139, 334, 235, 334, 15, 77, 90, 143, 148, 733, 111, 61, 228, 1274, 275, 63, 64, 63, 442, 426, 105, 123, 775, 525, 167, 395, 22, 378, 359, 514, 1461, 161, 350, 58, 419, 1260, 241, 350, 861, 1598, 775, 1398, 926, 2090, 285, 161, 332, 180, 1139, 112, 8, 142, 90, 502, 295, 47, 636, 118, 342, 217, 218, 138, 367, 435, 1134, 365, 952, 574, 189, 293, 758, 36, 163, 689, 890, 1090, 296, 34, 327, 560, 67, 2357, 238, 357, 62, 517, 1825, 242, 991, 833, 189, 177, 190, 81, 379, 411, 79, 981, 135, 341, 53, 14, 455, 701, 29, 29, 260, 576, 342, 708, 170, 28, 247, 58, 112, 928, 180, 1388, 112, 2537, 250, 2070, 75, 133, 545, 350, 546, 434, 1269, 625, 175, 213, 370, 44, 1113, 514, 260, 332, 35, 608, 227, 152, 455, 680, 55, 74, 532, 180, 41, 202, 390, 343, 889, 202, 342, 350, 420, 907, 253, 547, 889, 392, 107, 452, 374, 547, 367, 248, 42, 58, 101, 140, 101, 874, 1708, 1047, 403, 716, 1141, 90, 183, 450, 900, 60, 354, 298, 297, 135, 523, 1330, 127, 301, 266, 940, 600, 813, 63, 192, 467, 143, 14, 59, 1271, 379, 239, 189, 1349, 469, 51, 504, 546, 114, 339, 164, 237, 160, 105, 323, 520, 101, 546, 155, 197, 600, 212, 547, 89, 57, 322, 56, 151, 8, 211, 39, 28, 64, 322, 1680, 151, 1721, 306, 1607, 440, 1815, 498, 1881, 98, 291, 970, 889, 2035, 1501, 89, 23, 85, 14, 549, 409, 93, 42, 500, 30, 25, 252, 15, 59, 524, 15, 124, 58, 28, 104, 166, 136, 87, 329, 106, 179, 39, 365, 37, 7, 152, 76, 243, 77, 57, 211, 243, 240, 260, 214, 250, 48, 121, 148, 149, 48, 85, 75, 265, 149, 76, 343, 213, 88, 429, 24, 250, 142, 47, 318, 350, 26, 362, 75, 89, 46, 228, 57, 59, 60, 209, 26, 14, 515, 89, 12, 75, 518, 76, 457, 334, 60, 107, 75, 128, 25, 470, 209, 105, 464, 32, 67, 20, 100, 149, 100, 64, 16, 206, 16, 133, 334, 303, 89, 20, 497, 98, 20, 29, 90, 18, 56, 63, 53, 349, 341, 309, 211, 67, 252, 323, 231, 39, 534, 407, 152, 137, 450, 393, 14, 123, 14, 14, 116, 171, 21, 238, 252, 49, 426, 318, 399, 112, 58, 27, 20, 417, 18, 295, 53, 175, 11, 56, 116, 56, 46, 119, 119, 232, 238, 60, 133, 177, 30, 224, 483, 479, 119, 18, 159, 88, 406, 220, 73, 76, 56, 197, 419, 32, 173, 420, 99, 100, 123, 53, 604, 305, 91, 603, 235, 124, 41, 227, 138, 174, 127, 145, 43, 48, 19, 46, 165, 31, 108, 273, 108, 98, 25, 110, 91, 45, 266, 335, 58, 67, 121, 596, 63, 377, 78, 90, 378, 90, 37, 70, 346, 33, 71, 370, 176, 166, 91, 372, 212, 321, 70, 44, 289, 373, 34, 21, 151, 165, 362, 316, 161, 266, 35, 21, 61, 21, 119, 37, 334, 18, 14, 3, 524, 172], \"type\": \"histogram\"}], {\"yaxis\": {\"title\": \"Number of students\"}, \"xaxis\": {\"title\": \"Time of Enrollment\"}, \"title\": \"Time of enrollemnt for students\"}, {\"linkText\": \"Export to plot.ly\", \"showLink\": true})});</script>"
      ],
      "text/plain": [
       "<IPython.core.display.HTML object>"
      ]
     },
     "metadata": {},
     "output_type": "display_data"
    },
    {
     "data": {
      "text/plain": [
       "2679"
      ]
     },
     "execution_count": 91,
     "metadata": {},
     "output_type": "execute_result"
    }
   ],
   "source": [
    "#dealing with end dates of those who are still enrolled?\n",
    "#to make it easy maybe eliminate students who are still enrolled? \n",
    "# and do long-term vs short-term enrollment\n",
    "\n",
    "\n",
    "#last day they pulled data will depend on the center??\n",
    "#probably need to get last day they pulled data from each camp? \n",
    "#- for now ill just look at 1 week bfore\n",
    "\n",
    "dy = 7\n",
    "t = students[students['end_date'] <= students.end_date.max()-timedelta(days=dy)]['time_enrolled']\n",
    "trace1 = Histogram(x=t)\n",
    "data = [trace1]\n",
    "layout = Layout(xaxis=dict(title = 'Time of Enrollment'),\n",
    "                 yaxis=dict(title='Number of students'),\n",
    "                title='Time of enrollemnt for students')\n",
    "\n",
    "\n",
    "fig1 = Figure(data=data, layout=layout)\n",
    "iplot(fig1)\n",
    "\n",
    "#iplot([Histogram(x=t)])\n",
    "\n",
    "students = students[students['end_date'] <= students.end_date.max()-timedelta(days=dy)]\n",
    "len(students)"
   ]
  },
  {
   "cell_type": "code",
   "execution_count": 92,
   "metadata": {
    "collapsed": false
   },
   "outputs": [],
   "source": [
    "#len(students[students['time_enrolled'] < 240])"
   ]
  },
  {
   "cell_type": "code",
   "execution_count": 93,
   "metadata": {
    "collapsed": false
   },
   "outputs": [
    {
     "data": {
      "text/plain": [
       "231.0"
      ]
     },
     "execution_count": 93,
     "metadata": {},
     "output_type": "execute_result"
    }
   ],
   "source": [
    "students['time_enrolled'].median()"
   ]
  },
  {
   "cell_type": "code",
   "execution_count": 94,
   "metadata": {
    "collapsed": false
   },
   "outputs": [],
   "source": [
    "# PICK A BOUNDARY - LESS THAN THAT IS SHORT-TERM, MORE IS LONG-TERM\n",
    "\n",
    "# WHat is the right boundary to define?\n",
    "\n",
    "\n",
    "ndays = 230#120#400#240 #120\n",
    "students['short_term'] = 0\n",
    "students.ix[students['time_enrolled'] <= ndays, 'short_term'] = 1\n"
   ]
  },
  {
   "cell_type": "code",
   "execution_count": 95,
   "metadata": {
    "collapsed": false
   },
   "outputs": [
    {
     "data": {
      "text/plain": [
       "2672"
      ]
     },
     "execution_count": 95,
     "metadata": {},
     "output_type": "execute_result"
    }
   ],
   "source": [
    "# First Feature: Gender - classify by gender - male or female, deal with unclean data\n",
    "# there re entries in the gender column called: {u'@xml:space': u'preserve'} \n",
    "#- i have no idea if these are male or female, i think they were not filled out on the form \n",
    "# so they are left as blank - I will eliminate these\n",
    "\n",
    "grouped = students.groupby('gender')\n",
    "students = students.drop(grouped.get_group(\"{u'@xml:space': u'preserve'}\").index) \n",
    "len(students)         "
   ]
  },
  {
   "cell_type": "code",
   "execution_count": 96,
   "metadata": {
    "collapsed": false
   },
   "outputs": [
    {
     "name": "stdout",
     "output_type": "stream",
     "text": [
      "age_2016\n",
      "2       2\n",
      "3       7\n",
      "4      17\n",
      "5      42\n",
      "6      74\n",
      "7     127\n",
      "8     165\n",
      "9     225\n",
      "10    250\n",
      "11    286\n",
      "12    301\n",
      "13    293\n",
      "14    206\n",
      "15    203\n",
      "16    150\n",
      "17    102\n",
      "18     88\n",
      "19     54\n",
      "20     31\n",
      "21     24\n",
      "22     10\n",
      "23      4\n",
      "24      5\n",
      "29      1\n",
      "48      1\n",
      "50      2\n",
      "51      1\n",
      "54      1\n",
      "dtype: int64\n",
      "age_enroll\n",
      "2       5\n",
      "3      48\n",
      "4     114\n",
      "5     211\n",
      "6     273\n",
      "7     341\n",
      "8     333\n",
      "9     328\n",
      "10    310\n",
      "11    253\n",
      "12    199\n",
      "13    113\n",
      "14     69\n",
      "15     41\n",
      "16     17\n",
      "17      8\n",
      "18      2\n",
      "19      1\n",
      "26      1\n",
      "42      2\n",
      "46      3\n",
      "dtype: int64\n",
      "age_end\n",
      "2       3\n",
      "3      20\n",
      "4      45\n",
      "5     120\n",
      "6     191\n",
      "7     276\n",
      "8     281\n",
      "9     345\n",
      "10    333\n",
      "11    309\n",
      "12    271\n",
      "13    207\n",
      "14    143\n",
      "15     60\n",
      "16     37\n",
      "17     19\n",
      "18      5\n",
      "20      1\n",
      "27      1\n",
      "42      2\n",
      "46      2\n",
      "47      1\n",
      "dtype: int64\n"
     ]
    }
   ],
   "source": [
    "# AGE\n",
    "\n",
    "# there are students who are 50 plus years old.. is this correct data?\n",
    "# are there too many features and should i group the features? - 28 features including the oldies - made it into one continuous feature\n",
    "#  i can eliminate these students, to have fewer features, \n",
    "# but actually for now maybe include all then later eliminate to improve algorithm\n",
    "\n",
    "ag_2016 = students.end_date.max() - students['date_of_birth']\n",
    "ag_enroll = students['enroll_date'] - students['date_of_birth']\n",
    "ag_end = students['end_date'] - students['date_of_birth']\n",
    "students['age_2016'] = (((ag_2016 / np.timedelta64(1, 'D')).astype(int))/365).astype(int)\n",
    "students['age_enroll'] = (((ag_enroll / np.timedelta64(1, 'D')).astype(int))/365).astype(int)\n",
    "students['age_end'] = (((ag_end / np.timedelta64(1, 'D')).astype(int))/365).astype(int)\n",
    "\n",
    "print(students.groupby('age_2016').size())\n",
    "print(students.groupby('age_enroll').size())\n",
    "print(students.groupby('age_end').size())\n",
    "\n",
    "#print(len(students.groupby('age').size()))\n",
    "#students[students['age'] == 54]"
   ]
  },
  {
   "cell_type": "code",
   "execution_count": 97,
   "metadata": {
    "collapsed": false
   },
   "outputs": [
    {
     "data": {
      "text/plain": [
       "grade_level\n",
       "1      10\n",
       "2      23\n",
       "3      25\n",
       "4      40\n",
       "5     117\n",
       "6     197\n",
       "7     271\n",
       "8     333\n",
       "9     398\n",
       "10    356\n",
       "11    276\n",
       "12    150\n",
       "13    164\n",
       "14    119\n",
       "15     86\n",
       "16     62\n",
       "17     22\n",
       "18     11\n",
       "19      4\n",
       "20      3\n",
       "21      5\n",
       "dtype: int64"
      ]
     },
     "execution_count": 97,
     "metadata": {},
     "output_type": "execute_result"
    }
   ],
   "source": [
    "# GRADE LEVEL\n",
    "\n",
    "# do i group students with these 15 features - 1 through 15, \n",
    "# or do i split them up into elementary, middle and high school\n",
    "# what do grade levels 1 through 21 mean\n",
    "# these are probably way too many features - leave it be for now\n",
    "grlv = students['grade_level']\n",
    "students.groupby('grade_level').size()\n"
   ]
  },
  {
   "cell_type": "code",
   "execution_count": 98,
   "metadata": {
    "collapsed": false
   },
   "outputs": [
    {
     "data": {
      "text/plain": [
       "days_open\n",
       "2    1923\n",
       "3     749\n",
       "dtype: int64"
      ]
     },
     "execution_count": 98,
     "metadata": {},
     "output_type": "execute_result"
    }
   ],
   "source": [
    "# NUMBER OF DAYS CAMP IS OPEN\n",
    "# students['center_days'].count\n",
    "# divide by 3 not subtract 4\n",
    "students['days_open'] = (students['center_days'].str.len()/3).astype(int)\n",
    "students.groupby('days_open').size()"
   ]
  },
  {
   "cell_type": "code",
   "execution_count": 99,
   "metadata": {
    "collapsed": false,
    "scrolled": true
   },
   "outputs": [
    {
     "data": {
      "text/plain": [
       "city_camp\n",
       "Concord          121\n",
       "Fairfield        107\n",
       "Fresno            46\n",
       "Los Alamitos     626\n",
       "Mission Viejo    234\n",
       "San Clemente      27\n",
       "San Francisco    103\n",
       "San Jose         221\n",
       "San Rafael       354\n",
       "Santa Clara       53\n",
       "Stockton         410\n",
       "Torrance          71\n",
       "Victorville      113\n",
       "Whittier         100\n",
       "Windsor           86\n",
       "dtype: int64"
      ]
     },
     "execution_count": 99,
     "metadata": {},
     "output_type": "execute_result"
    }
   ],
   "source": [
    "# CITY CAMP IS IN\n",
    "# looks good and clean\n",
    "\n",
    "\n",
    "students.groupby('city_camp').size()"
   ]
  },
  {
   "cell_type": "code",
   "execution_count": 100,
   "metadata": {
    "collapsed": false
   },
   "outputs": [
    {
     "data": {
      "text/plain": [
       "zip_camp\n",
       "90505     71\n",
       "90602    100\n",
       "90720    626\n",
       "92395    113\n",
       "92673     27\n",
       "92691    234\n",
       "93722     46\n",
       "94123    103\n",
       "94519    121\n",
       "94534    107\n",
       "94901    354\n",
       "95054     53\n",
       "95131    221\n",
       "95207    410\n",
       "95492     86\n",
       "dtype: int64"
      ]
     },
     "execution_count": 100,
     "metadata": {},
     "output_type": "execute_result"
    }
   ],
   "source": [
    "# CITY STUDENT IS IN - \n",
    "# maybe leave this out for now cuz there are 194 features..\n",
    "\n",
    "len(students.groupby('city_student').size())\n",
    "\n",
    "students.groupby('zip_camp').size()\n"
   ]
  },
  {
   "cell_type": "code",
   "execution_count": 101,
   "metadata": {
    "collapsed": true
   },
   "outputs": [],
   "source": [
    "# engineering features - distance and census data\n",
    "\n",
    "students.groupby('zip_student').size()\n",
    "students = students[students['zip_student'].str.startswith(\"9\")]\n",
    "students['dist'] = \"\""
   ]
  },
  {
   "cell_type": "code",
   "execution_count": 118,
   "metadata": {
    "collapsed": false
   },
   "outputs": [
    {
     "data": {
      "text/plain": [
       "camp_id                           2825\n",
       "student_id                      480561\n",
       "gender                               F\n",
       "date_of_birth      2002-11-06 00:00:00\n",
       "enroll_date        2011-07-07 00:00:00\n",
       "end_date           2012-10-29 00:00:00\n",
       "grade_level                         10\n",
       "city_student                SAN RAFAEL\n",
       "country_student                    USA\n",
       "zip_student                      94901\n",
       "state_student                       CA\n",
       "city_camp                   San Rafael\n",
       "zip_camp                         94901\n",
       "state_camp,                         CA\n",
       "country_camp                        US\n",
       "open_date          2010-12-01 00:00:00\n",
       "center_days                  [2, 4, 6]\n",
       "time_enrolled                      480\n",
       "short_term                           0\n",
       "age_2016                            13\n",
       "age_enroll                           8\n",
       "age_end                              9\n",
       "days_open                            3\n",
       "dist                                 0\n",
       "Name: 211, dtype: object"
      ]
     },
     "execution_count": 118,
     "metadata": {},
     "output_type": "execute_result"
    }
   ],
   "source": [
    "#students = pd.read_pickle('students')\n",
    "students.loc[211]#.head(210)"
   ]
  },
  {
   "cell_type": "code",
   "execution_count": 196,
   "metadata": {
    "collapsed": false
   },
   "outputs": [],
   "source": [
    "geolocator = Nominatim()\n",
    "from geopy.distance import vincenty\n",
    "from geopy.distance import great_circle\n",
    "for a in range(2501,len(students)):\n",
    "    if students['zip_student'].iloc[a] == students['zip_camp'].iloc[a]:\n",
    "        students['dist'].iloc[a] = 0\n",
    "    else:\n",
    "        locationa = geolocator.geocode(students['zip_camp'].iloc[a], timeout=None)\n",
    "        locationb = geolocator.geocode(students['zip_student'].iloc[a], timeout=None)\n",
    "        if locationa and locationb:\n",
    "            zipa = (locationa.latitude, locationa.longitude)\n",
    "            zipb = (locationb.latitude, locationb.longitude)\n",
    "            students['dist'].iloc[a] = great_circle(zipa, zipb).miles\n",
    "    #students['camp_lon'].iloc[a] = (geolocator.geocode(students['zip_camp'].iloc[a], timeout=None)).longitude\n",
    "#students_all = pd.read_pickle('students')\n",
    "#print(students.head(300))\n",
    "students.to_pickle('students') \n",
    "#students.head(50)"
   ]
  },
  {
   "cell_type": "code",
   "execution_count": 383,
   "metadata": {
    "collapsed": false
   },
   "outputs": [
    {
     "data": {
      "text/plain": [
       "2611"
      ]
     },
     "execution_count": 383,
     "metadata": {},
     "output_type": "execute_result"
    }
   ],
   "source": [
    "#students = pd.read_pickle('students')\n",
    "\n",
    "# TO-DOs:\n",
    "# look for empty rows \n",
    "studentsshort = students[students['dist'] != \"\"]#[['zip_student','zip_camp', 'dist']]\n",
    "len(studentsshort)\n",
    "# look for rows with distance = 0  -to check - all look fine\n",
    "#students[students['dist'] == 0][['zip_student','zip_camp', 'dist']]"
   ]
  },
  {
   "cell_type": "code",
   "execution_count": 397,
   "metadata": {
    "collapsed": false
   },
   "outputs": [
    {
     "name": "stderr",
     "output_type": "stream",
     "text": [
      "/home/harisk87/anaconda2/envs/my_projects_env/lib/python2.7/site-packages/ipykernel/__main__.py:5: SettingWithCopyWarning:\n",
      "\n",
      "\n",
      "A value is trying to be set on a copy of a slice from a DataFrame.\n",
      "Try using .loc[row_indexer,col_indexer] = value instead\n",
      "\n",
      "See the caveats in the documentation: http://pandas.pydata.org/pandas-docs/stable/indexing.html#indexing-view-versus-copy\n",
      "\n"
     ]
    },
    {
     "data": {
      "text/plain": [
       "0        0.102496\n",
       "2       0.0488616\n",
       "4        0.102496\n",
       "5        0.102496\n",
       "9        0.184793\n",
       "10              0\n",
       "11              0\n",
       "12              0\n",
       "13              0\n",
       "14       0.102496\n",
       "15      0.0488616\n",
       "16      0.0763632\n",
       "17       0.102496\n",
       "18      0.0488616\n",
       "19      0.0488616\n",
       "20              0\n",
       "21              0\n",
       "23      0.0763632\n",
       "24       0.142875\n",
       "26      0.0220801\n",
       "30              0\n",
       "33       0.102496\n",
       "34              0\n",
       "36              0\n",
       "37      0.0220801\n",
       "41              0\n",
       "42              0\n",
       "45        0.54008\n",
       "48       0.142875\n",
       "49       0.142875\n",
       "          ...    \n",
       "4362    0.0787015\n",
       "4364    0.0604966\n",
       "4366            0\n",
       "4367            0\n",
       "4370    0.0604966\n",
       "4372     0.311619\n",
       "4373            0\n",
       "4376    0.0604966\n",
       "4382            0\n",
       "4385            0\n",
       "4386    0.0787015\n",
       "4390            0\n",
       "4393    0.0787015\n",
       "4395            0\n",
       "4397    0.0787015\n",
       "4401    0.0604966\n",
       "4402    0.0787015\n",
       "4404            0\n",
       "4405            0\n",
       "4406    0.0787015\n",
       "4407            0\n",
       "4408     0.303296\n",
       "4410    0.0787015\n",
       "4411            0\n",
       "4412     0.303296\n",
       "4413            0\n",
       "4414    0.0787015\n",
       "4417     0.315094\n",
       "4421            0\n",
       "4426            0\n",
       "Name: dist, dtype: object"
      ]
     },
     "execution_count": 397,
     "metadata": {},
     "output_type": "execute_result"
    }
   ],
   "source": [
    "studentsshort = students[students['dist'] != \"\"]#[['zip_student','zip_camp', 'dist']]\n",
    "len(studentsshort)\n",
    "studentsshortnew = studentsshort[studentsshort['dist']<100]\n",
    "len(studentsshortnew)\n",
    "studentsshortnew['dist'] = studentsshortnew['dist'] / studentsshortnew['dist'].max()\n",
    "studentsshortnew['dist']"
   ]
  },
  {
   "cell_type": "code",
   "execution_count": 258,
   "metadata": {
    "collapsed": false
   },
   "outputs": [
    {
     "data": {
      "text/plain": [
       "2235"
      ]
     },
     "execution_count": 258,
     "metadata": {},
     "output_type": "execute_result"
    }
   ],
   "source": [
    "len(studentsshortnew)\n"
   ]
  },
  {
   "cell_type": "code",
   "execution_count": 398,
   "metadata": {
    "collapsed": false
   },
   "outputs": [],
   "source": [
    "#load census data\n",
    "\n",
    "income1 = pd.read_csv('/home/harisk87/Dropbox/PythonProjects/Insight-Project/IncomeData.csv')\n",
    "income = income1[['GEO.id2', 'HC02_EST_VC02', 'HC02_EST_VC04']]\n",
    "income = income.rename(columns={'GEO.id2':'zip_student'})\n",
    "# get zip codes and median income\n",
    "studentsshortnew = pd.merge(studentsshortnew, income, on='zip_student')\n",
    "# put in median income into clumns\n",
    "studentsshortnew = studentsshortnew.rename(columns={'HC02_EST_VC02': 'household_income', 'HC02_EST_VC04': 'median_income'})\n"
   ]
  },
  {
   "cell_type": "code",
   "execution_count": 233,
   "metadata": {
    "collapsed": false
   },
   "outputs": [
    {
     "data": {
      "text/html": [
       "<div id=\"be98af03-efb3-4b8f-99de-2f772814cd3c\" style=\"height: 525px; width: 100%;\" class=\"plotly-graph-div\"></div><script type=\"text/javascript\">require([\"plotly\"], function(Plotly) { window.PLOTLYENV=window.PLOTLYENV || {};window.PLOTLYENV.BASE_URL=\"https://plot.ly\";Plotly.newPlot(\"be98af03-efb3-4b8f-99de-2f772814cd3c\", [{\"x\": [5.163634413512014, 2.461605106341902, 5.163634413512014, 5.163634413512014, 9.309683410474321, 0.0, 0.0, 0.0, 0.0, 5.163634413512014, 2.461605106341902, 3.8471104430053007, 5.163634413512014, 2.461605106341902, 2.461605106341902, 0.0, 0.0, 5727.787175128224, 3.8471104430053007, 7.19789682555519, 1.1123762410312652, 0.0, 5727.787175128224, 5.163634413512014, 0.0, 0.0, 1.1123762410312652, 5727.787175128224, 0.0, 0.0, 27.20873054215671, 7.19789682555519, 7.19789682555519, 2.461605106341902, 5727.787175128224, 3.8471104430053007, 2.461605106341902, 5727.787175128224, 5727.787175128224, 1.1123762410312652, 10.246772126048356, 39.87329107430664, 1.1123762410312652, 0.0, 2.7262832710673313, 1.1123762410312652, 0.0, 2.461605106341902, 1.1123762410312652, 19.374782985850306, 2.7262832710673313, 0.0, 1.1123762410312652, 7.19789682555519, 7.19789682555519, 50.379106157743934, 7.29982533912045, 0.0, 9.309683410474321, 9.309683410474321, 1.1123762410312652, 0.0, 0.0, 0.0, 2.7262832710673313, 2.7262832710673313, 9.309683410474321, 9.309683410474321, 1.1123762410312652, 0.0, 5.163634413512014, 0.0, 7.19789682555519, 16.3645406131987, 3.8471104430053007, 7.19789682555519, 7.19789682555519, 0.0, 7.29982533912045, 2.461605106341902, 2.461605106341902, 0.0, 0.0, 0.0, 9.309683410474321, 2.7262832710673313, 0.0, 3.5212436077567197, 3.5212436077567197, 33.02904906217611, 9.097063435526312, 5.808242024494186, 5.808242024494186, 15.628802075466192, 33.02904906217611, 2.119342836313438, 4.597961484264902, 0.0, 5.808242024494186, 15.628802075466192, 2.119342836313438, 0.0, 3.7400921597014247, 2.4076522850299793, 3.5212436077567197, 3.5212436077567197, 0.0, 0.0, 3.7400921597014247, 0.0, 0.0, 21.283219947139827, 3.549261885397986, 3.7400921597014247, 0.0, 5.808242024494186, 7.609920605717573, 0.0, 7.609920605717573, 4.597961484264902, 3.549261885397986, 5562.785521756293, 7.609920605717573, 9.167964577989112, 5562.785521756293, 5.808242024494186, 3.5212436077567197, 0.0, 3.5212436077567197, 2.119342836313438, 2.119342836313438, 3.5212436077567197, 0.0, 8.164646291043788, 9.097063435526312, 2.4076522850299793, 5.3303493670673685, 3.5212436077567197, 3.5212436077567197, 2.4076522850299793, 5.808242024494186, 19.0027552959601, 2.119342836313438, 2.119342836313438, 4.597961484264902, 19.0027552959601, 0.0, 4.597961484264902, 2.400046946052544, 2.400046946052544, 3.549261885397986, 0.0, 7.609920605717573, 9.097063435526312, 5.808242024494186, 2.400046946052544, 5.808242024494186, 5.3303493670673685, 0.0, 7.609920605717573, 5.808242024494186, 8.164646291043788, 5.3303493670673685, 0.0, 2.400046946052544, 19.0027552959601, 2.400046946052544, 5.808242024494186, 19.0027552959601, 5.808242024494186, 4.597961484264902, 9.097063435526312, 0.0, 2.119342836313438, 0.0, 3.549261885397986, 5.3303493670673685, 5.3303493670673685, 7.609920605717573, 2.119342836313438, 0.0, 3.549261885397986, 2.119342836313438, 4.597961484264902, 3.5212436077567197, 7.609920605717573, 0.0, 7.609920605717573, 2.119342836313438, 7.609920605717573, 5.3303493670673685, 3.5212436077567197, 0.0, 0.0, 5.3303493670673685, 4.597961484264902, 7.609920605717573, 2.4076522850299793, 3.5212436077567197, 2.400046946052544, 2.4076522850299793, 2.119342836313438, 7.609920605717573, 9.097063435526312, 2.119342836313438, 7.609920605717573, 9.097063435526312, 4.597961484264902, 8.164646291043788, 0, 2.119342836313438, 5.808242024494186, 2.119342836313438, 8.164646291043788, 5.808242024494186, 5.3303493670673685, 8.164646291043788, 2.4076522850299793, 0, 2.4076522850299793, 4.597961484264902, 9.097063435526312, 0, 5.808242024494186, 3.7400921597014247, 3.5212436077567197, 8.164646291043788, 5.808242024494186, 8.164646291043788, 3.5212436077567197, 2.119342836313438, 3.5212436077567197, 3.5212436077567197, 0, 0, 2.119342836313438, 3.5212436077567197, 0, 8.164646291043788, 0, 0, 0, 9.097063435526312, 4.597961484264902, 9.097063435526312, 3.549261885397986, 4.597961484264902, 0, 4.597961484264902, 9.097063435526312, 0, 9.097063435526312, 3.5212436077567197, 2.4076522850299793, 5.808242024494186, 0, 2.400046946052544, 0, 2.4076522850299793, 5.808242024494186, 3.5212436077567197, 5.808242024494186, 2.4076522850299793, 3.5212436077567197, 4.597961484264902, 9.097063435526312, 2.119342836313438, 0, 2.400046946052544, 7.609920605717573, 2.119342836313438, 2.119342836313438, 5.808242024494186, 5.808242024494186, 9.097063435526312, 9.097063435526312, 2.400046946052544, 2.400046946052544, 0, 2.400046946052544, 8.164646291043788, 4.597961484264902, 3.7400921597014247, 0, 0, 0, 9.097063435526312, 2.119342836313438, 2.119342836313438, 0, 4.597961484264902, 2.400046946052544, 2.119342836313438, 2.400046946052544, 7.609920605717573, 9.097063435526312, 7.609920605717573, 9.097063435526312, 2.119342836313438, 0, 8.164646291043788, 0, 0, 7.609920605717573, 0, 9.097063435526312, 7.609920605717573, 2.400046946052544, 5.3303493670673685, 5.808242024494186, 2.119342836313438, 5.808242024494186, 0, 2.400046946052544, 2.119342836313438, 19.0027552959601, 8.164646291043788, 8.164646291043788, 8.164646291043788, 0, 5.808242024494186, 7.609920605717573, 3.7400921597014247, 7.609920605717573, 0, 5.808242024494186, 5.808242024494186, 0, 5.808242024494186, 0, 5.808242024494186, 4.597961484264902, 2.119342836313438, 5.808242024494186, 2.119342836313438, 9.097063435526312, 3.7400921597014247, 4.597961484264902, 19.0027552959601, 2.119342836313438, 7.609920605717573, 3.549261885397986, 5.808242024494186, 3.7400921597014247, 5.808242024494186, 7.609920605717573, 19.994443644110323, 19.994443644110323, 7.609920605717573, 2.119342836313438, 2.119342836313438, 7.609920605717573, 5.808242024494186, 2.4076522850299793, 2.119342836313438, 2.4076522850299793, 7.609920605717573, 9.097063435526312, 8.164646291043788, 2.4076522850299793, 0, 2.400046946052544, 5.3303493670673685, 4.597961484264902, 2.119342836313438, 2.400046946052544, 2.4076522850299793, 2.119342836313438, 2.400046946052544, 2.400046946052544, 5.3303493670673685, 3.5212436077567197, 14.88911492226708, 5.3303493670673685, 2.400046946052544, 2.4076522850299793, 3.5212436077567197, 2.4076522850299793, 2.119342836313438, 2.119342836313438, 2.119342836313438, 0, 7.609920605717573, 7.609920605717573, 3.5212436077567197, 2.119342836313438, 2.119342836313438, 3.7400921597014247, 7.609920605717573, 7.609920605717573, 2.119342836313438, 0, 5.808242024494186, 2.4076522850299793, 3.5212436077567197, 2.400046946052544, 3.5212436077567197, 2.400046946052544, 2.119342836313438, 2.119342836313438, 2.4076522850299793, 2.119342836313438, 5.808242024494186, 0, 4.597961484264902, 0, 7.609920605717573, 7.609920605717573, 0, 0, 0, 0, 5.808242024494186, 7.609920605717573, 0, 2.119342836313438, 2.119342836313438, 0, 7.609920605717573, 4.597961484264902, 7.609920605717573, 7.609920605717573, 2.4076522850299793, 6004.607589566196, 7.609920605717573, 2.400046946052544, 2.119342836313438, 2.4076522850299793, 5.808242024494186, 5.3303493670673685, 1.4612877203811638, 0, 0, 0.7224972150006077, 0.7224972150006077, 0, 0, 8.382525840301684, 6.021283728041971, 6.021283728041971, 1.3999657994714272, 2.1368147575647614, 0.8860270506866595, 0.8860270506866595, 3.256417763227469, 3.256417763227469, 3.256417763227469, 0.7224972150006077, 3.4611939533754796, 3.4611939533754796, 0, 0, 0.7224972150006077, 0.7224972150006077, 0.7224972150006077, 1.4612877203811638, 1.2270315645078296, 1.7588886117699067, 0, 0, 2.1368147575647614, 1.4672034050475802, 1.2270315645078296, 1.2270315645078296, 0, 0, 1.2270315645078296, 1.2270315645078296, 0.7224972150006077, 0.7224972150006077, 0.8860270506866595, 0.8860270506866595, 0.8860270506866595, 0.8860270506866595, 2.1368147575647614, 0.8860270506866595, 0, 0, 0, 0, 0.7224972150006077, 0, 8.382525840301684, 8.382525840301684, 2.0435824369666364, 2.0435824369666364, 0, 3.4611939533754796, 0, 0, 20.15450305092447, 1.4612877203811638, 0, 0, 0, 2.087671278553441, 0.8860270506866595, 0.8860270506866595, 0, 3.4611939533754796, 3.4611939533754796, 0.8860270506866595, 0.7224972150006077, 0.7224972150006077, 0.7224972150006077, 2.087671278553441, 0.7224972150006077, 4.591668011068041, 0, 1.7712927709889312, 1.7712927709889312, 0, 0.7224972150006077, 0.8860270506866595, 2.0435824369666364, 0.8860270506866595, 6.021283728041971, 1.3999657994714272, 1.3999657994714272, 0, 0.7224972150006077, 2.087671278553441, 2.0435824369666364, 0, 0, 0.8860270506866595, 0.8860270506866595, 8.382525840301684, 8.382525840301684, 1.3999657994714272, 1.3999657994714272, 1.3999657994714272, 7.649146490769298, 0, 7.649146490769298, 0, 7.649146490769298, 0, 7.321988514739526, 0, 7.321988514739526, 0, 0, 7.321988514739526, 12.200329189606647, 0, 7.321988514739526, 7.321988514739526, 0, 0, 0, 0, 0, 0, 0, 7.649146490769298, 0, 7.649146490769298, 7.649146490769298, 0, 7.649146490769298, 0, 0, 7.649146490769298, 0, 0, 0, 0, 0, 0, 0, 7.321988514739526, 7.321988514739526, 7.321988514739526, 7.649146490769298, 7.321988514739526, 7.321988514739526, 7.321988514739526, 7.649146490769298, 7.321988514739526, 7.321988514739526, 0, 7.649146490769298, 0, 0, 0, 0, 0, 0, 7.321988514739526, 7.649146490769298, 7.649146490769298, 0, 11.155130672289072, 0, 7.321988514739526, 7.321988514739526, 0, 7.321988514739526, 0, 0, 7.649146490769298, 0, 7.321988514739526, 0, 7.321988514739526, 7.321988514739526, 0, 34.65892295224383, 0, 7.321988514739526, 0, 7.649146490769298, 7.649146490769298, 7.649146490769298, 7.649146490769298, 0, 0, 0, 0, 7.649146490769298, 6476.58710143117, 6476.58710143117, 7.649146490769298, 7.649146490769298, 7.321988514739526, 0, 0, 7.649146490769298, 7.649146490769298, 1.4527896420940718, 0, 6.497363473188419, 3.844159296558129, 6.497363473188419, 6.497363473188419, 0, 0, 5.834902888954547, 7.646427899833231, 2.368620970210487, 0, 2.368620970210487, 6.497363473188419, 6.497363473188419, 2.102055271234845, 6.497363473188419, 6.497363473188419, 0, 6.497363473188419, 6.497363473188419, 6.497363473188419, 2.368620970210487, 2.368620970210487, 2.102055271234845, 0, 1.4527896420940718, 6.497363473188419, 0, 0, 2.368620970210487, 0, 1.4527896420940718, 6.497363473188419, 0, 2.368620970210487, 2.368620970210487, 2.368620970210487, 0, 2.368620970210487, 1.4527896420940718, 2.368620970210487, 1.4527896420940718, 0, 6.497363473188419, 2.368620970210487, 6.497363473188419, 2.102055271234845, 2.368620970210487, 2.368620970210487, 0, 0, 2.368620970210487, 0, 0, 1.4527896420940718, 0, 6.497363473188419, 1.4527896420940718, 6.497363473188419, 0, 1.4527896420940718, 1.4527896420940718, 0, 0, 0, 1.4527896420940718, 6.497363473188419, 1.4527896420940718, 1.4527896420940718, 0, 2.368620970210487, 6.497363473188419, 2.368620970210487, 2.368620970210487, 0, 2.368620970210487, 0, 0, 0, 6.497363473188419, 0, 0, 0, 6.497363473188419, 6.497363473188419, 10.854647915957543, 6.497363473188419, 6.497363473188419, 6.497363473188419, 6.497363473188419, 0, 6.497363473188419, 6.497363473188419, 1.4527896420940718, 23.297617769329847, 2.368620970210487, 0, 6.209264627858174, 2.368620970210487, 16.549218795268033, 2.368620970210487, 2.368620970210487, 6.497363473188419, 1.4527896420940718, 2.368620970210487, 0, 0, 6.497363473188419, 5.150926634670877, 6.497363473188419, 2.368620970210487, 1.4527896420940718, 6.497363473188419, 0, 1.4527896420940718, 0, 1.4527896420940718, 2.368620970210487, 6.209264627858174, 0, 2.060439956150817, 0, 0, 0, 0, 0, 0, 0, 0, 0, 0, 0, 0, 5.181018002930314, 4.894427727368792, 4.894427727368792, 0, 0, 0, 0, 0, 0, 0, 5.373154478029855, 0, 0, 0, 0, 0, 0, 0, 0, 0, 0, 0, 0, 4.894427727368792, 0, 6583.730022870145, 0, 0, 0, 0, 0, 0, 0, 0, 0, 0, 0, 1.1637477808714287, 2.251391769193901, 1.1637477808714287, 0, 0, 0, 0, 0, 0, 0, 0, 0, 0, 0, 7.024582244251849, 1.1637477808714287, 2.4041089894708407, 0, 2.251391769193901, 4.588142626323136, 4.588142626323136, 4.588142626323136, 0, 0, 0.0, 2.4041089894708407, 4.588142626323136, 4.588142626323136, 0, 2.4041089894708407, 2.251391769193901, 0, 0, 0, 0, 3.9844660654120685, 0, 3.9844660654120685, 4.588142626323136, 4.588142626323136, 3.457086835668779, 0, 4.588142626323136, 4.588142626323136, 0, 0, 0, 0, 0, 4.588142626323136, 0, 0, 0, 0, 3.042370095984949, 4.588142626323136, 1.1637477808714287, 1.1637477808714287, 0, 4.588142626323136, 0, 0, 2.4041089894708407, 2.4041089894708407, 0, 2.4041089894708407, 7.024582244251849, 4.588142626323136, 5.276565234246529, 1.1637477808714287, 4.588142626323136, 6581.1435523302225, 6584.098848417551, 6578.687853255255, 6581.1435523302225, 6581.6741223677445, 0, 0, 6581.1435523302225, 0, 6584.098848417551, 0, 0, 6584.098848417551, 0, 6581.1435523302225, 6581.1435523302225, 0, 6578.687853255255, 0, 0, 0, 6578.687853255255, 0, 6581.1435523302225, 6581.1435523302225, 0, 0, 0, 6581.1435523302225, 6584.098848417551, 6584.098848417551, 6581.1435523302225, 3.074000371435893, 6581.1435523302225, 6581.1435523302225, 3.074000371435893, 0, 6581.1435523302225, 6581.1435523302225, 6581.1435523302225, 6584.098848417551, 6581.1435523302225, 6584.098848417551, 6582.763350409428, 0, 0, 6581.1435523302225, 6581.1435523302225, 0, 6584.098848417551, 0, 6579.745753716065, 6584.098848417551, 6581.1435523302225, 6584.634611805808, 6581.1435523302225, 6584.098848417551, 0, 6584.098848417551, 0, 6581.1435523302225, 6578.687853255255, 6584.634611805808, 6582.763350409428, 0, 6584.098848417551, 6578.687853255255, 6582.763350409428, 6581.1435523302225, 6581.1435523302225, 0, 0.26939680270934985, 0, 6578.687853255255, 0, 0, 0, 6581.1435523302225, 0, 0, 6584.098848417551, 6584.098848417551, 6579.745753716065, 6584.098848417551, 0, 0, 0, 0, 0, 6579.745753716065, 0, 6418.2346879099705, 0, 6579.745753716065, 0, 0, 0, 0, 0, 0, 6582.763350409428, 6581.7107417922025, 6581.1435523302225, 0, 6581.1435523302225, 6579.745753716065, 0, 6581.1435523302225, 0, 6581.1435523302225, 0, 6582.763350409428, 0, 0, 0, 6581.1435523302225, 0, 0, 6578.687853255255, 0, 845.4694397304455, 6581.1435523302225, 6579.745753716065, 6582.763350409428, 6584.098848417551, 6581.1435523302225, 6581.1435523302225, 6581.1435523302225, 6581.1435523302225, 6587.782031239917, 6581.1435523302225, 3.074000371435893, 6581.1435523302225, 6581.1435523302225, 6581.1435523302225, 6581.1435523302225, 6584.098848417551, 0, 6583.088494851822, 6582.763350409428, 6582.763350409428, 6584.098848417551, 0, 0, 0, 0, 6581.7107417922025, 3.074000371435893, 0, 6581.1435523302225, 6584.098848417551, 6581.1435523302225, 0, 0, 0, 6584.098848417551, 0, 6581.1435523302225, 6581.1435523302225, 6581.1435523302225, 6582.763350409428, 6579.745753716065, 0, 0, 0, 0, 0, 6579.745753716065, 0, 6581.1435523302225, 0, 6584.098848417551, 0, 0, 0, 6581.1435523302225, 6581.1435523302225, 6581.7107417922025, 6579.745753716065, 0, 6581.1435523302225, 0, 0.26939680270934985, 0, 6581.1435523302225, 0, 0, 6581.1435523302225, 6581.1435523302225, 0, 6584.098848417551, 6581.1435523302225, 0, 0, 0, 6581.1435523302225, 6581.1435523302225, 6581.1435523302225, 0, 6584.098848417551, 6581.1435523302225, 0, 6581.7107417922025, 6581.1435523302225, 6581.7107417922025, 0, 6587.782031239917, 6584.098848417551, 6587.782031239917, 6579.745753716065, 0, 0.26939680270934985, 6581.1435523302225, 0, 0, 0, 0, 0, 0, 0, 0, 0, 0, 0, 0, 0, 0, 0, 0, 0, 0, 0, 0, 2.9053298621805723, 0, 0, 0, 0, 2.5268278898588257, 0, 0, 0, 2.5268278898588257, 4.849601262826875, 2.3791413413498335, 6.957757689856792, 4.849601262826875, 4.849601262826875, 2.3791413413498335, 4.849601262826875, 2.3791413413498335, 4.849601262826875, 6.957757689856792, 6.957757689856792, 5324.5168982082805, 6.957757689856792, 4.849601262826875, 4.849601262826875, 4.584498405939748, 6.957757689856792, 4.849601262826875, 4.849601262826875, 4.584498405939748, 5324.5168982082805, 2.3791413413498335, 6.957757689856792, 4.849601262826875, 4.849601262826875, 1.7300050884163296, 4.849601262826875, 4.849601262826875, 2.3791413413498335, 2.3791413413498335, 4.849601262826875, 4.849601262826875, 4.849601262826875, 2.3791413413498335, 6.957757689856792, 4.849601262826875, 2.3791413413498335, 6.957757689856792, 4.849601262826875, 2.3791413413498335, 2.3791413413498335, 6.957757689856792, 4.849601262826875, 4.849601262826875, 6.957757689856792, 4.584498405939748, 2.3791413413498335, 0, 6.957757689856792, 4.584498405939748, 4.849601262826875, 6.957757689856792, 4.849601262826875, 2.3791413413498335, 6.957757689856792, 2.3791413413498335, 2.3791413413498335, 4.849601262826875, 6.957757689856792, 4.849601262826875, 4.849601262826875, 4.849601262826875, 6.957757689856792, 4.849601262826875, 4.849601262826875, 4.849601262826875, 6.957757689856792, 6.957757689856792, 4.849601262826875, 2.3791413413498335, 7.381488890696372, 4.849601262826875, 0.6549404822299775, 4.849601262826875, 4.849601262826875, 6.957757689856792, 2.3791413413498335, 4.849601262826875, 4.849601262826875, 6.957757689856792, 4.849601262826875, 5726.334365330371, 6.957757689856792, 2.3791413413498335, 4.849601262826875, 6.957757689856792, 4.849601262826875, 6.957757689856792, 6.957757689856792, 4.849601262826875, 0, 0, 3.787239642860282, 4.849601262826875, 4.849601262826875, 4.849601262826875, 2.3791413413498335, 6.957757689856792, 2.3791413413498335, 4.849601262826875, 2.3791413413498335, 2.3791413413498335, 4.849601262826875, 4.849601262826875, 4.584498405939748, 4.849601262826875, 4.849601262826875, 6.957757689856792, 0, 4.849601262826875, 4.849601262826875, 4.849601262826875, 2.3791413413498335, 4.849601262826875, 6.957757689856792, 6.957757689856792, 4.849601262826875, 2.3791413413498335, 6.957757689856792, 2.3791413413498335, 4.849601262826875, 6.957757689856792, 4.849601262826875, 2.3791413413498335, 6.957757689856792, 0, 4.849601262826875, 4.849601262826875, 6.957757689856792, 0, 0, 2.3791413413498335, 6.957757689856792, 2.3791413413498335, 2.3791413413498335, 2.3791413413498335, 4.849601262826875, 4.849601262826875, 4.849601262826875, 4.849601262826875, 4.849601262826875, 2.3791413413498335, 0, 4.849601262826875, 4.849601262826875, 2.3791413413498335, 4.849601262826875, 14.601143552717174, 2.3791413413498335, 4.849601262826875, 6.957757689856792, 2.3791413413498335, 4.849601262826875, 4.849601262826875, 0, 2.3791413413498335, 4.849601262826875, 4.584498405939748, 4.584498405939748, 2.3791413413498335, 6.957757689856792, 1.7300050884163296, 2.3791413413498335, 4.849601262826875, 6.1048374361861075, 4.584498405939748, 6.957757689856792, 2.3791413413498335, 6.957757689856792, 2.3791413413498335, 0, 6.957757689856792, 0.6549404822299775, 4.849601262826875, 6.957757689856792, 2.3791413413498335, 0.6549404822299775, 6.957757689856792, 4.849601262826875, 9.071599276358722, 4.849601262826875, 4.849601262826875, 4.849601262826875, 4.849601262826875, 7365.543998818419, 4.584498405939748, 1.7300050884163296, 4.584498405939748, 9.071599276358722, 4.584498405939748, 2.3791413413498335, 2.3791413413498335, 2.3791413413498335, 7365.543998818419, 2.3791413413498335, 4.584498405939748, 4.849601262826875, 1.7300050884163296, 6.957757689856792, 2.3791413413498335, 2.3791413413498335, 6.60190180453719, 4.584498405939748, 6.957757689856792, 9.071599276358722, 4.584498405939748, 17.266074513564913, 4.849601262826875, 6.957757689856792, 17.266074513564913, 4.849601262826875, 6.957757689856792, 4.849601262826875, 4.849601262826875, 6.957757689856792, 4.849601262826875, 4.849601262826875, 4.849601262826875, 6.957757689856792, 6.957757689856792, 4.849601262826875, 4.849601262826875, 4.849601262826875, 6.957757689856792, 6.957757689856792, 6.957757689856792, 6.957757689856792, 6.957757689856792, 6.957757689856792, 4.849601262826875, 2.7722118792738684, 3.9590117910580322, 2.22096253634113, 2.7722118792738684, 3.9590117910580322, 5600.7463168812, 2.22096253634113, 2.7722118792738684, 5600.7463168812, 113.43445178797019, 2.22096253634113, 2.22096253634113, 2.7722118792738684, 2.22096253634113, 5600.7463168812, 3.9590117910580322, 2.22096253634113, 2.22096253634113, 2.7722118792738684, 3.9590117910580322, 5600.7463168812, 2.7722118792738684, 2.7722118792738684, 2.22096253634113, 2.22096253634113, 0, 0, 2.7722118792738684, 2.22096253634113, 2.9028098044206962, 1.9118497197188316, 2.22096253634113, 2.22096253634113, 2.22096253634113, 2.22096253634113, 2.22096253634113, 2.22096253634113, 0, 2.22096253634113, 1.9118497197188316, 2.22096253634113, 5600.7463168812, 2.7722118792738684, 5600.7463168812, 5600.7463168812, 2.22096253634113, 2.22096253634113, 2.7722118792738684, 2.7722118792738684, 2.22096253634113, 2.22096253634113, 0, 2.22096253634113, 3.9590117910580322, 5600.7463168812, 2.7722118792738684, 2.22096253634113, 3.9590117910580322, 2.9028098044206962, 0, 2.22096253634113, 2.7722118792738684, 2.22096253634113, 2.22096253634113, 3.9590117910580322, 2.22096253634113, 2.22096253634113, 2.9028098044206962, 3.9590117910580322, 3.9590117910580322, 2.22096253634113, 3.9590117910580322, 2.7722118792738684, 2.22096253634113, 2.7722118792738684, 2.7722118792738684, 5600.7463168812, 2.7722118792738684, 2.22096253634113, 2.9028098044206962, 0, 5600.7463168812, 2.7722118792738684, 2.7722118792738684, 2.7722118792738684, 5600.7463168812, 2.7722118792738684, 0, 5600.7463168812, 0, 5600.7463168812, 2.22096253634113, 0, 2.7722118792738684, 2.22096253634113, 2.22096253634113, 2.9028098044206962, 2.22096253634113, 5600.7463168812, 2.22096253634113, 5600.7463168812, 2.22096253634113, 2.7722118792738684, 2.22096253634113, 1.9118497197188316, 5600.7463168812, 2.22096253634113, 2.22096253634113, 2.7722118792738684, 1.9118497197188316, 2.22096253634113, 1.9118497197188316, 4.294864121822446, 5600.7463168812, 2.7722118792738684, 0, 2.22096253634113, 0, 2.22096253634113, 0, 2.7722118792738684, 2.22096253634113, 2.9028098044206962, 2.9028098044206962, 2.22096253634113, 2.22096253634113, 5600.7463168812, 2.9028098044206962, 2.22096253634113, 0, 9.28231826479185, 5507.3809142101845, 2.22096253634113, 9.28231826479185, 2.22096253634113, 2.22096253634113, 2.22096253634113, 2.22096253634113, 2.22096253634113, 2.22096253634113, 5600.7463168812, 2.22096253634113, 2.7722118792738684, 2.7722118792738684, 2.22096253634113, 2.7722118792738684, 2.22096253634113, 2.22096253634113, 1.9118497197188316, 3.9590117910580322, 3.9590117910580322, 3.9590117910580322, 3.9590117910580322, 3.9590117910580322, 9.28231826479185, 3.9590117910580322, 2.22096253634113, 2.22096253634113, 5509.49055877606, 2.7722118792738684, 3.9590117910580322, 5600.7463168812, 2.22096253634113, 5600.7463168812, 2.22096253634113, 2.22096253634113, 2.7722118792738684, 2.22096253634113, 0, 9.28231826479185, 5600.7463168812, 2.7722118792738684, 7.632575518036324, 9.28231826479185, 9.28231826479185, 2.22096253634113, 5600.7463168812, 5600.7463168812, 2.7722118792738684, 7.632575518036324, 2.22096253634113, 2.22096253634113, 2.7722118792738684, 2.22096253634113, 9.28231826479185, 2.22096253634113, 3.9590117910580322, 2.22096253634113, 2.7722118792738684, 5600.7463168812, 2.22096253634113, 2.22096253634113, 2.22096253634113, 2.22096253634113, 2.22096253634113, 2.22096253634113, 2.22096253634113, 5600.7463168812, 2.22096253634113, 2.7722118792738684, 2.22096253634113, 2.7722118792738684, 2.7722118792738684, 0, 1.9118497197188316, 2.22096253634113, 2.22096253634113, 2.22096253634113, 3.9590117910580322, 2.22096253634113, 2.7722118792738684, 2.22096253634113, 2.7722118792738684, 2.22096253634113, 2.7722118792738684, 5600.7463168812, 5600.7463168812, 2.22096253634113, 2.22096253634113, 2.22096253634113, 2.22096253634113, 3.9590117910580322, 5600.7463168812, 3.9590117910580322, 2.22096253634113, 3.9590117910580322, 2.22096253634113, 2.7722118792738684, 2.22096253634113, 2.7722118792738684, 3.9590117910580322, 2.22096253634113, 2.7722118792738684, 2.22096253634113, 2.22096253634113, 2.22096253634113, 2.7722118792738684, 0, 0, 2.22096253634113, 5600.7463168812, 2.22096253634113, 3.9590117910580322, 5600.7463168812, 5600.7463168812, 2.22096253634113, 3.9590117910580322, 3.9590117910580322, 2.7722118792738684, 5600.7463168812, 2.7722118792738684, 0, 3.3051139329447303, 3.9590117910580322, 5600.7463168812, 2.7722118792738684, 5600.7463168812, 2.22096253634113, 4.294864121822446, 5600.7463168812, 5600.7463168812, 4.294864121822446, 4.294864121822446, 2.22096253634113, 4.294864121822446, 2.22096253634113, 5600.7463168812, 2.22096253634113, 2.7722118792738684, 2.22096253634113, 2.22096253634113, 2.22096253634113, 2.22096253634113, 2.22096253634113, 2.22096253634113, 2.7722118792738684, 2.7722118792738684, 0, 2.7722118792738684, 5600.7463168812, 2.22096253634113, 2.22096253634113, 5600.7463168812, 2.22096253634113, 2.7722118792738684, 2.22096253634113, 2.22096253634113, 2.22096253634113, 2.22096253634113, 2.7722118792738684, 2.22096253634113, 3.9590117910580322, 1.9118497197188316, 2.22096253634113, 1.9118497197188316, 2.7722118792738684, 2.22096253634113, 2.7722118792738684, 0, 2.7722118792738684, 2.22096253634113, 2.7722118792738684, 2.22096253634113, 7.632575518036324, 2.9028098044206962, 1.9118497197188316, 5600.7463168812, 2.7722118792738684, 2.22096253634113, 2.22096253634113, 3.9590117910580322, 2.22096253634113, 2.7722118792738684, 2.22096253634113, 2.7722118792738684, 9.28231826479185, 5600.7463168812, 2.7722118792738684, 2.7722118792738684, 2.7722118792738684, 2.7722118792738684, 2.22096253634113, 2.7722118792738684, 2.7722118792738684, 3.9590117910580322, 5600.7463168812, 2.22096253634113, 2.7722118792738684, 3.9590117910580322, 5600.7463168812, 2.7722118792738684, 5600.7463168812, 1.9118497197188316, 2.22096253634113, 3.9590117910580322, 2.22096253634113, 3.9590117910580322, 3.9590117910580322, 2.22096253634113, 2.22096253634113, 5600.7463168812, 3.9590117910580322, 2.22096253634113, 2.22096253634113, 5600.7463168812, 2.7722118792738684, 3.9590117910580322, 1.9118497197188316, 2.22096253634113, 2.22096253634113, 5600.7463168812, 2.9028098044206962, 3.9590117910580322, 2.22096253634113, 2.22096253634113, 2.22096253634113, 3.9590117910580322, 2.22096253634113, 2.7722118792738684, 2.7722118792738684, 2.7722118792738684, 2.22096253634113, 2.7722118792738684, 1.9118497197188316, 2.22096253634113, 2.7722118792738684, 3.9590117910580322, 2.22096253634113, 2.22096253634113, 2.7722118792738684, 2.22096253634113, 2.22096253634113, 2.22096253634113, 2.22096253634113, 2.7722118792738684, 2.7722118792738684, 2.22096253634113, 2.22096253634113, 5725.111778252504, 1.9118497197188316, 5725.111778252504, 9.28231826479185, 5600.7463168812, 2.22096253634113, 2.22096253634113, 2.22096253634113, 2.22096253634113, 2.22096253634113, 9.28231826479185, 2.9028098044206962, 2.22096253634113, 2.22096253634113, 2.22096253634113, 2.22096253634113, 2.22096253634113, 2.22096253634113, 2.22096253634113, 5600.7463168812, 0, 5322.302620735698, 0, 0, 0, 5322.302620735698, 5334.33295503102, 5322.302620735698, 0, 0, 0, 2.664309169161786, 0, 0, 2.664309169161786, 5334.33295503102, 5.791969708034264, 5334.33295503102, 5322.302620735698, 2.664309169161786, 3.1478762167723136, 5322.302620735698, 2.664309169161786, 0, 2.664309169161786, 0, 0, 5.367984159537702, 2.684265023522854, 0, 5322.302620735698, 2.664309169161786, 0, 0, 2.684265023522854, 5.038927013833408, 0, 0, 5334.33295503102, 0, 5334.33295503102, 5334.33295503102, 5.306552765541542, 2.684265023522854, 0, 4.2595455643444495, 2.8171551396203656, 0, 2.8171551396203656, 4.2595455643444495, 5322.302620735698, 5322.302620735698, 0, 7.610839086381289, 0, 0, 0, 0, 4.2595455643444495, 5322.302620735698, 0, 0, 5322.302620735698, 2.664309169161786, 2.8171551396203656, 5334.33295503102, 5333.740643669655, 2.8171551396203656, 0, 2.8171551396203656, 3.1478762167723136, 2.664309169161786, 4.928110005845623, 2.684265023522854, 2.664309169161786, 5.038927013833408, 2.664309169161786, 0, 0, 5.038927013833408, 0, 0, 0, 8.40586203747773, 0, 0, 5334.33295503102, 5.594409505107132, 2.8171551396203656, 4.2595455643444495, 2.8171551396203656, 2.684265023522854, 5334.33295503102, 5.038927013833408, 2.664309169161786, 2.8171551396203656, 4.2595455643444495, 2.8171551396203656, 4.2595455643444495, 2.684265023522854, 0, 0, 5334.33295503102, 0, 0, 0, 2.8171551396203656, 5334.33295503102, 0, 0, 2.684265023522854, 4.12178520990463, 0, 4.9051639445698285, 0, 5334.33295503102, 9.532180763575537, 4.9051639445698285, 0, 5322.302620735698, 0, 0, 4.2595455643444495, 0, 0, 2.664309169161786, 0, 2.8171551396203656, 0, 4.2595455643444495, 0, 0, 4.928110005845623, 4.2595455643444495, 2.664309169161786, 0, 0, 4.928110005845623, 2.664309169161786, 0, 5322.302620735698, 5334.33295503102, 4.563465016909729, 4.563465016909729, 0, 5334.33295503102, 10.728716042758931, 10.728716042758931, 0, 0, 0, 5334.33295503102, 5.791969708034264, 2.8171551396203656, 4.2595455643444495, 4.563465016909729, 5322.302620735698, 5322.302620735698, 5322.302620735698, 5322.302620735698, 0, 0, 5334.33295503102, 0, 0, 5334.33295503102, 5334.33295503102, 0, 2.664309169161786, 0, 0, 4.12178520990463, 5334.33295503102, 4.9051639445698285, 5334.33295503102, 5322.302620735698, 11.096987988177027, 0, 11.096987988177027, 4.9051639445698285, 5322.302620735698, 0, 2.664309169161786, 0, 0, 7.017053026124393, 5334.33295503102, 0, 4.2595455643444495, 2.664309169161786, 0, 0, 2.664309169161786, 7.017053026124393, 2.8171551396203656, 5334.33295503102, 7.610839086381289, 2.664309169161786, 2.8171551396203656, 2.684265023522854, 0, 2.664309169161786, 0, 2.8171551396203656, 0, 2.664309169161786, 9.680341319329633, 5.594409505107132, 2.664309169161786, 5.653788657737764, 5322.302620735698, 2.684265023522854, 0, 5.594409505107132, 0, 0, 0, 0, 0, 5322.302620735698, 2.664309169161786, 0, 0, 0, 6.280340491020733, 5322.302620735698, 5334.33295503102, 5322.302620735698, 2.684265023522854, 5322.302620735698, 0, 5334.33295503102, 0, 0, 5322.302620735698, 5322.302620735698, 5334.33295503102, 0, 5322.302620735698, 5322.302620735698, 0, 0, 2.664309169161786, 2.684265023522854, 0, 5333.740643669655, 7.610839086381289, 5322.302620735698, 5334.33295503102, 0, 4.12178520990463, 0, 5322.302620735698, 5322.302620735698, 5322.302620735698, 5322.302620735698, 0, 2.664309169161786, 5322.302620735698, 4.137497408196655, 0, 2.664309169161786, 0, 0, 2.664309169161786, 0, 0, 2.684265023522854, 2.8171551396203656, 2.664309169161786, 0, 0, 0, 0, 0, 0, 2.684265023522854, 0, 2.684265023522854, 0, 7.017053026124393, 0, 2.664309169161786, 2.664309169161786, 0, 5334.33295503102, 2.664309169161786, 0, 5334.33295503102, 12.456403021197428, 5334.33295503102, 5334.33295503102, 2.684265023522854, 5334.33295503102, 4.2595455643444495, 5322.302620735698, 5334.33295503102, 5.038927013833408, 0, 0, 0, 0, 2.664309169161786, 5322.302620735698, 7.88499079560241, 2.664309169161786, 7.017053026124393, 7.017053026124393, 5334.33295503102, 4.2595455643444495, 0, 4.2595455643444495, 0, 0, 0, 0, 0, 0, 0, 2.5299819204378076, 0, 2.5299819204378076, 0, 0, 0, 5334.33295503102, 5334.33295503102, 0, 5334.33295503102, 8.229098193460112, 5322.302620735698, 7.610839086381289, 2.684265023522854, 8.742548901656646, 7.610839086381289, 5334.33295503102, 5322.302620735698, 5322.302620735698, 5334.33295503102, 5334.33295503102, 5322.302620735698, 2.8171551396203656, 2.664309169161786, 5334.33295503102, 2.664309169161786, 0, 0, 2.664309169161786, 5322.302620735698, 6.701024734979493, 0, 5322.302620735698, 5322.302620735698, 5322.302620735698, 4.928110005845623, 0, 2.664309169161786, 0, 2.664309169161786, 4.928110005845623, 2.664309169161786, 0, 5334.33295503102, 5334.33295503102, 5334.33295503102, 4.2595455643444495, 2.664309169161786, 0, 0, 0, 4.563465016909729, 5334.33295503102, 0, 2.684265023522854, 4.563465016909729, 10.584535347587513, 4.563465016909729, 2.664309169161786, 0, 5334.33295503102, 4.2595455643444495, 5322.302620735698, 5334.33295503102, 5334.33295503102, 5334.33295503102, 5334.33295503102, 2.8171551396203656, 5322.302620735698, 5333.740643669655, 7.017053026124393, 0, 2.8171551396203656, 0, 0, 5322.302620735698, 5334.33295503102, 0, 2.684265023522854, 5334.33295503102, 5334.33295503102, 5322.302620735698, 2.664309169161786, 5322.302620735698, 4.2595455643444495, 5322.302620735698, 5322.302620735698, 9.680341319329633, 5334.33295503102, 6.701024734979493, 4.2595455643444495, 0, 0, 5322.302620735698, 4.2595455643444495, 5322.302620735698, 4.2595455643444495, 2.664309169161786, 2.664309169161786, 2.664309169161786, 2.664309169161786, 9.680341319329633, 5334.33295503102, 2.664309169161786, 0, 4.9051639445698285, 0, 7.610839086381289, 5334.33295503102, 0, 4.9051639445698285, 2.664309169161786, 2.664309169161786, 4.2595455643444495, 0, 5334.33295503102, 4.2595455643444495, 0, 7.88499079560241, 5333.740643669655, 3.31059581723108, 5.653788657737764, 0, 0, 5322.302620735698, 0, 0, 5322.302620735698, 6.280340491020733, 0, 4.2595455643444495, 7.88499079560241, 4.2595455643444495, 4.563465016909729, 0, 0, 2.664309169161786, 5334.33295503102, 2.664309169161786, 0, 0, 4.2595455643444495, 0, 0, 4.928110005845623, 2.8171551396203656, 0, 0, 5322.302620735698, 0, 3.31059581723108, 0, 0, 0, 0, 3.1478762167723136, 2.664309169161786, 0, 2.664309169161786, 2.664309169161786, 5334.33295503102, 3.1478762167723136, 4.12178520990463, 4.2595455643444495, 2.664309169161786, 0, 4.12178520990463, 0, 0, 3.1478762167723136, 11.02552525048623, 2.664309169161786, 3.1478762167723136, 4.2595455643444495, 5333.740643669655, 5322.302620735698, 5322.302620735698, 4.2595455643444495, 4.12178520990463, 0, 2.664309169161786, 5334.33295503102, 0, 11.096987988177027, 2.664309169161786, 0, 5334.33295503102, 5334.33295503102, 5322.302620735698, 0, 0, 5334.33295503102, 2.684265023522854, 2.684265023522854, 0, 5322.302620735698, 0, 5322.302620735698, 5322.302620735698, 2.8171551396203656, 5322.302620735698, 0, 5322.302620735698, 2.664309169161786, 2.664309169161786, 2.684265023522854, 2.8171551396203656, 2.8171551396203656, 2.664309169161786, 5334.33295503102, 0, 5334.33295503102, 2.8171551396203656, 2.664309169161786, 4.928110005845623, 4.9051639445698285, 4.563465016909729, 4.137497408196655, 5.306552765541542, 0, 0, 2.664309169161786, 0, 2.8171551396203656, 0, 0, 5334.33295503102, 2.8171551396203656, 0, 0, 5333.740643669655, 0, 0, 5322.302620735698, 0, 5322.302620735698, 5322.302620735698, 2.664309169161786, 0, 5322.302620735698, 2.664309169161786, 5334.33295503102, 5322.302620735698, 4.9051639445698285, 4.137497408196655, 2.664309169161786, 0, 5322.302620735698, 4.2595455643444495, 0, 0, 4.9051639445698285, 4.2595455643444495, 4.137497408196655, 3.1478762167723136, 2.8171551396203656, 0, 5336.727720967056, 5336.727720967056, 0, 2.684265023522854, 0, 5322.302620735698, 0, 5334.33295503102, 4.137497408196655, 0, 5322.302620735698, 0, 5334.33295503102, 5334.33295503102, 0, 5322.302620735698, 7.610839086381289, 0, 5334.33295503102, 2.8171551396203656, 4.137497408196655, 0, 5334.33295503102, 2.8171551396203656, 0, 0, 5322.302620735698, 2.8171551396203656, 5322.302620735698, 5322.302620735698, 5322.302620735698, 2.8171551396203656, 0, 0, 5322.302620735698, 0, 0, 2.8171551396203656, 5334.33295503102, 0, 1.9407630952558774, 0, 3.1951201472189306, 2.2459621168817923, 1.1235964280093906, 1.1235964280093906, 2.2459621168817923, 2.9961742168498215, 0, 0, 1.9407630952558774, 0, 1.9407630952558774, 1.9407630952558774, 2.9961742168498215, 1.9407630952558774, 1.1235964280093906, 1.1235964280093906, 2.799166561939063, 1.1235964280093906, 1.9407630952558774, 2.2459621168817923, 1.1235964280093906, 1.1235964280093906, 1.1235964280093906, 1.9407630952558774, 0, 0, 2.2459621168817923, 5551.366401016985, 1.1235964280093906, 2.9961742168498215, 1.1235964280093906, 0, 0, 1.9407630952558774, 1.1235964280093906, 0, 3.1951201472189306, 2.9961742168498215, 1.1235964280093906, 0, 1.1235964280093906, 3.1951201472189306, 7.9706534994812674, 0, 2.9961742168498215, 2.2459621168817923, 1.1235964280093906, 2.2459621168817923, 1.1235964280093906, 1.1235964280093906, 2.2459621168817923, 2.2459621168817923, 2.799166561939063, 3.1951201472189306, 2.799166561939063, 2.2459621168817923, 2.9961742168498215, 0, 2.2459621168817923, 0, 3.4519111100843003, 2.2459621168817923, 5307.677852339241, 6.312367306677842, 1.1235964280093906, 2.2459621168817923, 1.1235964280093906, 0, 2.2459621168817923, 0, 5.0365621800259515, 3.4519111100843003, 1.1235964280093906, 2.799166561939063, 3.1951201472189306, 1.1235964280093906, 0, 2.2459621168817923, 0, 2.2459621168817923, 2.2459621168817923, 1.1235964280093906, 2.799166561939063, 0, 1.9407630952558774, 2.2459621168817923, 1.1235964280093906, 0, 2.799166561939063, 0, 2.2459621168817923, 2.799166561939063, 2.2459621168817923, 1.1235964280093906, 13.216010914544952, 0, 6.443482319872692, 8.474196059744001, 0, 8.474196059744001, 9.185071849444565, 5740.178376653292, 0, 9.185071849444565, 0, 3.6619383899417826, 9.185071849444565, 5587.803056562863, 5740.178376653292, 5587.803056562863, 3.5996955509623403, 6.443482319872692, 3.6619383899417826, 3.6619383899417826, 3.6619383899417826, 0, 3.6619383899417826, 8.474196059744001, 9.185071849444565, 9.185071849444565, 3.6619383899417826, 0, 0, 0, 31.011863201870156, 0, 0, 3.6619383899417826, 5740.178376653292, 0, 8.474196059744001, 9.185071849444565, 6.443482319872692, 8.474196059744001, 3.5996955509623403, 6.443482319872692, 3.6619383899417826, 3.6619383899417826, 0, 3.5996955509623403, 3.6619383899417826, 8.474196059744001, 8.474196059744001, 6.443482319872692, 8.474196059744001, 3.6619383899417826, 5739.958227038345, 3.6619383899417826, 0, 5740.178376653292, 5740.178376653292, 6.443482319872692, 3.6619383899417826, 3.5996955509623403, 0, 6.443482319872692, 6.443482319872692, 8.474196059744001, 6.443482319872692, 9.185071849444565, 3.6619383899417826, 5740.178376653292, 0, 8.474196059744001, 5740.178376653292, 8.474196059744001, 0, 8.474196059744001, 3.6619383899417826, 5740.178376653292, 0, 5587.803056562863, 9.185071849444565, 0, 8.474196059744001, 6.443482319872692, 31.011863201870156, 6.443482319872692, 3.5996955509623403, 6.443482319872692, 8.474196059744001, 3.5996955509623403, 5740.178376653292, 8.474196059744001, 3.6619383899417826, 5740.178376653292, 6.443482319872692, 5740.178376653292, 6.443482319872692, 0, 8.474196059744001, 6.443482319872692, 8.474196059744001, 5740.178376653292, 3.6619383899417826, 6.443482319872692, 0, 0, 8.474196059744001, 18.71984460092482, 18.71984460092482, 5740.178376653292, 8.474196059744001, 6.443482319872692, 0, 3.04776502151772, 0, 3.9649116949961978, 0, 0, 0, 0, 0, 0, 0, 3.9649116949961978, 0, 3.9649116949961978, 0, 0, 3.9649116949961978, 3.04776502151772, 0, 0, 3.04776502151772, 15.69908952908239, 0, 3.04776502151772, 0, 0, 3.9649116949961978, 0, 3.9649116949961978, 0, 3.9649116949961978, 3.04776502151772, 3.9649116949961978, 0, 0, 3.9649116949961978, 0, 15.2797616022975, 3.9649116949961978, 0, 15.2797616022975, 0, 3.9649116949961978, 15.874138035265506, 0, 0], \"type\": \"histogram\"}], {\"yaxis\": {\"title\": \"Number of students\"}, \"xaxis\": {\"title\": \"Distance(miles)\"}, \"title\": \"Distance Distribution\"}, {\"linkText\": \"Export to plot.ly\", \"showLink\": true})});</script>"
      ],
      "text/plain": [
       "<IPython.core.display.HTML object>"
      ]
     },
     "metadata": {},
     "output_type": "display_data"
    },
    {
     "data": {
      "text/html": [
       "<div>\n",
       "<table border=\"1\" class=\"dataframe\">\n",
       "  <thead>\n",
       "    <tr style=\"text-align: right;\">\n",
       "      <th></th>\n",
       "      <th>zip_student</th>\n",
       "      <th>zip_camp</th>\n",
       "      <th>dist</th>\n",
       "    </tr>\n",
       "  </thead>\n",
       "  <tbody>\n",
       "    <tr>\n",
       "      <th>22</th>\n",
       "      <td>95448</td>\n",
       "      <td>95492</td>\n",
       "      <td>5727.79</td>\n",
       "    </tr>\n",
       "    <tr>\n",
       "      <th>32</th>\n",
       "      <td>95448</td>\n",
       "      <td>95492</td>\n",
       "      <td>5727.79</td>\n",
       "    </tr>\n",
       "    <tr>\n",
       "      <th>38</th>\n",
       "      <td>95448</td>\n",
       "      <td>95492</td>\n",
       "      <td>5727.79</td>\n",
       "    </tr>\n",
       "    <tr>\n",
       "      <th>56</th>\n",
       "      <td>95448</td>\n",
       "      <td>95492</td>\n",
       "      <td>5727.79</td>\n",
       "    </tr>\n",
       "    <tr>\n",
       "      <th>59</th>\n",
       "      <td>95448</td>\n",
       "      <td>95492</td>\n",
       "      <td>5727.79</td>\n",
       "    </tr>\n",
       "    <tr>\n",
       "      <th>60</th>\n",
       "      <td>95448</td>\n",
       "      <td>95492</td>\n",
       "      <td>5727.79</td>\n",
       "    </tr>\n",
       "    <tr>\n",
       "      <th>231</th>\n",
       "      <td>94547</td>\n",
       "      <td>94901</td>\n",
       "      <td>5562.79</td>\n",
       "    </tr>\n",
       "    <tr>\n",
       "      <th>236</th>\n",
       "      <td>94547</td>\n",
       "      <td>94901</td>\n",
       "      <td>5562.79</td>\n",
       "    </tr>\n",
       "    <tr>\n",
       "      <th>757</th>\n",
       "      <td>94912</td>\n",
       "      <td>94901</td>\n",
       "      <td>6004.61</td>\n",
       "    </tr>\n",
       "    <tr>\n",
       "      <th>1072</th>\n",
       "      <td>96534</td>\n",
       "      <td>94534</td>\n",
       "      <td>6476.59</td>\n",
       "    </tr>\n",
       "    <tr>\n",
       "      <th>1073</th>\n",
       "      <td>96534</td>\n",
       "      <td>94534</td>\n",
       "      <td>6476.59</td>\n",
       "    </tr>\n",
       "    <tr>\n",
       "      <th>1400</th>\n",
       "      <td>95131</td>\n",
       "      <td>95054</td>\n",
       "      <td>6583.73</td>\n",
       "    </tr>\n",
       "    <tr>\n",
       "      <th>1556</th>\n",
       "      <td>95133</td>\n",
       "      <td>95131</td>\n",
       "      <td>6581.14</td>\n",
       "    </tr>\n",
       "    <tr>\n",
       "      <th>1558</th>\n",
       "      <td>95112</td>\n",
       "      <td>95131</td>\n",
       "      <td>6584.1</td>\n",
       "    </tr>\n",
       "    <tr>\n",
       "      <th>1559</th>\n",
       "      <td>95035</td>\n",
       "      <td>95131</td>\n",
       "      <td>6578.69</td>\n",
       "    </tr>\n",
       "    <tr>\n",
       "      <th>1561</th>\n",
       "      <td>95133</td>\n",
       "      <td>95131</td>\n",
       "      <td>6581.14</td>\n",
       "    </tr>\n",
       "    <tr>\n",
       "      <th>1562</th>\n",
       "      <td>95134</td>\n",
       "      <td>95131</td>\n",
       "      <td>6581.67</td>\n",
       "    </tr>\n",
       "    <tr>\n",
       "      <th>1569</th>\n",
       "      <td>95133</td>\n",
       "      <td>95131</td>\n",
       "      <td>6581.14</td>\n",
       "    </tr>\n",
       "    <tr>\n",
       "      <th>1574</th>\n",
       "      <td>95112</td>\n",
       "      <td>95131</td>\n",
       "      <td>6584.1</td>\n",
       "    </tr>\n",
       "    <tr>\n",
       "      <th>1578</th>\n",
       "      <td>95112</td>\n",
       "      <td>95131</td>\n",
       "      <td>6584.1</td>\n",
       "    </tr>\n",
       "    <tr>\n",
       "      <th>1582</th>\n",
       "      <td>95133</td>\n",
       "      <td>95131</td>\n",
       "      <td>6581.14</td>\n",
       "    </tr>\n",
       "    <tr>\n",
       "      <th>1583</th>\n",
       "      <td>95133</td>\n",
       "      <td>95131</td>\n",
       "      <td>6581.14</td>\n",
       "    </tr>\n",
       "    <tr>\n",
       "      <th>1585</th>\n",
       "      <td>95035</td>\n",
       "      <td>95131</td>\n",
       "      <td>6578.69</td>\n",
       "    </tr>\n",
       "    <tr>\n",
       "      <th>1591</th>\n",
       "      <td>95035</td>\n",
       "      <td>95131</td>\n",
       "      <td>6578.69</td>\n",
       "    </tr>\n",
       "    <tr>\n",
       "      <th>1594</th>\n",
       "      <td>95133</td>\n",
       "      <td>95131</td>\n",
       "      <td>6581.14</td>\n",
       "    </tr>\n",
       "    <tr>\n",
       "      <th>1595</th>\n",
       "      <td>95133</td>\n",
       "      <td>95131</td>\n",
       "      <td>6581.14</td>\n",
       "    </tr>\n",
       "    <tr>\n",
       "      <th>1601</th>\n",
       "      <td>95133</td>\n",
       "      <td>95131</td>\n",
       "      <td>6581.14</td>\n",
       "    </tr>\n",
       "    <tr>\n",
       "      <th>1602</th>\n",
       "      <td>95112</td>\n",
       "      <td>95131</td>\n",
       "      <td>6584.1</td>\n",
       "    </tr>\n",
       "    <tr>\n",
       "      <th>1603</th>\n",
       "      <td>95112</td>\n",
       "      <td>95131</td>\n",
       "      <td>6584.1</td>\n",
       "    </tr>\n",
       "    <tr>\n",
       "      <th>1604</th>\n",
       "      <td>95133</td>\n",
       "      <td>95131</td>\n",
       "      <td>6581.14</td>\n",
       "    </tr>\n",
       "    <tr>\n",
       "      <th>...</th>\n",
       "      <td>...</td>\n",
       "      <td>...</td>\n",
       "      <td>...</td>\n",
       "    </tr>\n",
       "    <tr>\n",
       "      <th>3872</th>\n",
       "      <td>90630</td>\n",
       "      <td>90720</td>\n",
       "      <td>5334.33</td>\n",
       "    </tr>\n",
       "    <tr>\n",
       "      <th>3873</th>\n",
       "      <td>90630</td>\n",
       "      <td>90720</td>\n",
       "      <td>5334.33</td>\n",
       "    </tr>\n",
       "    <tr>\n",
       "      <th>3875</th>\n",
       "      <td>90740</td>\n",
       "      <td>90720</td>\n",
       "      <td>5322.3</td>\n",
       "    </tr>\n",
       "    <tr>\n",
       "      <th>3879</th>\n",
       "      <td>90630</td>\n",
       "      <td>90720</td>\n",
       "      <td>5334.33</td>\n",
       "    </tr>\n",
       "    <tr>\n",
       "      <th>3885</th>\n",
       "      <td>90630</td>\n",
       "      <td>90720</td>\n",
       "      <td>5334.33</td>\n",
       "    </tr>\n",
       "    <tr>\n",
       "      <th>3893</th>\n",
       "      <td>90740</td>\n",
       "      <td>90720</td>\n",
       "      <td>5322.3</td>\n",
       "    </tr>\n",
       "    <tr>\n",
       "      <th>3897</th>\n",
       "      <td>90740</td>\n",
       "      <td>90720</td>\n",
       "      <td>5322.3</td>\n",
       "    </tr>\n",
       "    <tr>\n",
       "      <th>3899</th>\n",
       "      <td>90740</td>\n",
       "      <td>90720</td>\n",
       "      <td>5322.3</td>\n",
       "    </tr>\n",
       "    <tr>\n",
       "      <th>3902</th>\n",
       "      <td>90740</td>\n",
       "      <td>90720</td>\n",
       "      <td>5322.3</td>\n",
       "    </tr>\n",
       "    <tr>\n",
       "      <th>3906</th>\n",
       "      <td>90740</td>\n",
       "      <td>90720</td>\n",
       "      <td>5322.3</td>\n",
       "    </tr>\n",
       "    <tr>\n",
       "      <th>3910</th>\n",
       "      <td>90630</td>\n",
       "      <td>90720</td>\n",
       "      <td>5334.33</td>\n",
       "    </tr>\n",
       "    <tr>\n",
       "      <th>3976</th>\n",
       "      <td>9283</td>\n",
       "      <td>90602</td>\n",
       "      <td>5551.37</td>\n",
       "    </tr>\n",
       "    <tr>\n",
       "      <th>4037</th>\n",
       "      <td>90640</td>\n",
       "      <td>90602</td>\n",
       "      <td>5307.68</td>\n",
       "    </tr>\n",
       "    <tr>\n",
       "      <th>4107</th>\n",
       "      <td>92307</td>\n",
       "      <td>92395</td>\n",
       "      <td>5740.18</td>\n",
       "    </tr>\n",
       "    <tr>\n",
       "      <th>4119</th>\n",
       "      <td>92310</td>\n",
       "      <td>92395</td>\n",
       "      <td>5587.8</td>\n",
       "    </tr>\n",
       "    <tr>\n",
       "      <th>4121</th>\n",
       "      <td>92307</td>\n",
       "      <td>92395</td>\n",
       "      <td>5740.18</td>\n",
       "    </tr>\n",
       "    <tr>\n",
       "      <th>4122</th>\n",
       "      <td>92310</td>\n",
       "      <td>92395</td>\n",
       "      <td>5587.8</td>\n",
       "    </tr>\n",
       "    <tr>\n",
       "      <th>4163</th>\n",
       "      <td>92307</td>\n",
       "      <td>92395</td>\n",
       "      <td>5740.18</td>\n",
       "    </tr>\n",
       "    <tr>\n",
       "      <th>4196</th>\n",
       "      <td>92329</td>\n",
       "      <td>92395</td>\n",
       "      <td>5739.96</td>\n",
       "    </tr>\n",
       "    <tr>\n",
       "      <th>4199</th>\n",
       "      <td>92307</td>\n",
       "      <td>92395</td>\n",
       "      <td>5740.18</td>\n",
       "    </tr>\n",
       "    <tr>\n",
       "      <th>4200</th>\n",
       "      <td>92307</td>\n",
       "      <td>92395</td>\n",
       "      <td>5740.18</td>\n",
       "    </tr>\n",
       "    <tr>\n",
       "      <th>4217</th>\n",
       "      <td>92307</td>\n",
       "      <td>92395</td>\n",
       "      <td>5740.18</td>\n",
       "    </tr>\n",
       "    <tr>\n",
       "      <th>4220</th>\n",
       "      <td>92307</td>\n",
       "      <td>92395</td>\n",
       "      <td>5740.18</td>\n",
       "    </tr>\n",
       "    <tr>\n",
       "      <th>4233</th>\n",
       "      <td>92307</td>\n",
       "      <td>92395</td>\n",
       "      <td>5740.18</td>\n",
       "    </tr>\n",
       "    <tr>\n",
       "      <th>4239</th>\n",
       "      <td>92310</td>\n",
       "      <td>92395</td>\n",
       "      <td>5587.8</td>\n",
       "    </tr>\n",
       "    <tr>\n",
       "      <th>4267</th>\n",
       "      <td>92307</td>\n",
       "      <td>92395</td>\n",
       "      <td>5740.18</td>\n",
       "    </tr>\n",
       "    <tr>\n",
       "      <th>4277</th>\n",
       "      <td>92307</td>\n",
       "      <td>92395</td>\n",
       "      <td>5740.18</td>\n",
       "    </tr>\n",
       "    <tr>\n",
       "      <th>4280</th>\n",
       "      <td>92307</td>\n",
       "      <td>92395</td>\n",
       "      <td>5740.18</td>\n",
       "    </tr>\n",
       "    <tr>\n",
       "      <th>4301</th>\n",
       "      <td>92307</td>\n",
       "      <td>92395</td>\n",
       "      <td>5740.18</td>\n",
       "    </tr>\n",
       "    <tr>\n",
       "      <th>4313</th>\n",
       "      <td>92307</td>\n",
       "      <td>92395</td>\n",
       "      <td>5740.18</td>\n",
       "    </tr>\n",
       "  </tbody>\n",
       "</table>\n",
       "<p>367 rows × 3 columns</p>\n",
       "</div>"
      ],
      "text/plain": [
       "     zip_student zip_camp     dist\n",
       "22         95448    95492  5727.79\n",
       "32         95448    95492  5727.79\n",
       "38         95448    95492  5727.79\n",
       "56         95448    95492  5727.79\n",
       "59         95448    95492  5727.79\n",
       "60         95448    95492  5727.79\n",
       "231        94547    94901  5562.79\n",
       "236        94547    94901  5562.79\n",
       "757        94912    94901  6004.61\n",
       "1072       96534    94534  6476.59\n",
       "1073       96534    94534  6476.59\n",
       "1400       95131    95054  6583.73\n",
       "1556       95133    95131  6581.14\n",
       "1558       95112    95131   6584.1\n",
       "1559       95035    95131  6578.69\n",
       "1561       95133    95131  6581.14\n",
       "1562       95134    95131  6581.67\n",
       "1569       95133    95131  6581.14\n",
       "1574       95112    95131   6584.1\n",
       "1578       95112    95131   6584.1\n",
       "1582       95133    95131  6581.14\n",
       "1583       95133    95131  6581.14\n",
       "1585       95035    95131  6578.69\n",
       "1591       95035    95131  6578.69\n",
       "1594       95133    95131  6581.14\n",
       "1595       95133    95131  6581.14\n",
       "1601       95133    95131  6581.14\n",
       "1602       95112    95131   6584.1\n",
       "1603       95112    95131   6584.1\n",
       "1604       95133    95131  6581.14\n",
       "...          ...      ...      ...\n",
       "3872       90630    90720  5334.33\n",
       "3873       90630    90720  5334.33\n",
       "3875       90740    90720   5322.3\n",
       "3879       90630    90720  5334.33\n",
       "3885       90630    90720  5334.33\n",
       "3893       90740    90720   5322.3\n",
       "3897       90740    90720   5322.3\n",
       "3899       90740    90720   5322.3\n",
       "3902       90740    90720   5322.3\n",
       "3906       90740    90720   5322.3\n",
       "3910       90630    90720  5334.33\n",
       "3976        9283    90602  5551.37\n",
       "4037       90640    90602  5307.68\n",
       "4107       92307    92395  5740.18\n",
       "4119       92310    92395   5587.8\n",
       "4121       92307    92395  5740.18\n",
       "4122       92310    92395   5587.8\n",
       "4163       92307    92395  5740.18\n",
       "4196       92329    92395  5739.96\n",
       "4199       92307    92395  5740.18\n",
       "4200       92307    92395  5740.18\n",
       "4217       92307    92395  5740.18\n",
       "4220       92307    92395  5740.18\n",
       "4233       92307    92395  5740.18\n",
       "4239       92310    92395   5587.8\n",
       "4267       92307    92395  5740.18\n",
       "4277       92307    92395  5740.18\n",
       "4280       92307    92395  5740.18\n",
       "4301       92307    92395  5740.18\n",
       "4313       92307    92395  5740.18\n",
       "\n",
       "[367 rows x 3 columns]"
      ]
     },
     "execution_count": 233,
     "metadata": {},
     "output_type": "execute_result"
    }
   ],
   "source": [
    "# look for rows with weird distances \n",
    "\n",
    "trace1 = Histogram(x=studentsshort['dist'])\n",
    "data = [trace1]\n",
    "layout = Layout(xaxis=dict(title = 'Distance(miles)'),yaxis=dict(title='Number of students'),title='Distance Distribution')\n",
    "\n",
    "\n",
    "fig1 = Figure(data=data, layout=layout)\n",
    "iplot(fig1)\n",
    "\n",
    "studentsshort[studentsshort['dist'] > 1000][['zip_student','zip_camp', 'dist']]\n",
    "\n",
    "\n",
    "\n",
    "\n",
    "\n",
    "\n"
   ]
  },
  {
   "cell_type": "code",
   "execution_count": 197,
   "metadata": {
    "collapsed": false
   },
   "outputs": [
    {
     "data": {
      "text/html": [
       "<div>\n",
       "<table border=\"1\" class=\"dataframe\">\n",
       "  <thead>\n",
       "    <tr style=\"text-align: right;\">\n",
       "      <th></th>\n",
       "      <th>camp_id</th>\n",
       "      <th>student_id</th>\n",
       "      <th>gender</th>\n",
       "      <th>date_of_birth</th>\n",
       "      <th>enroll_date</th>\n",
       "      <th>end_date</th>\n",
       "      <th>grade_level</th>\n",
       "      <th>city_student</th>\n",
       "      <th>country_student</th>\n",
       "      <th>zip_student</th>\n",
       "      <th>...</th>\n",
       "      <th>country_camp</th>\n",
       "      <th>open_date</th>\n",
       "      <th>center_days</th>\n",
       "      <th>time_enrolled</th>\n",
       "      <th>short_term</th>\n",
       "      <th>age_2016</th>\n",
       "      <th>age_enroll</th>\n",
       "      <th>age_end</th>\n",
       "      <th>days_open</th>\n",
       "      <th>dist</th>\n",
       "    </tr>\n",
       "  </thead>\n",
       "  <tbody>\n",
       "    <tr>\n",
       "      <th>4413</th>\n",
       "      <td>3221</td>\n",
       "      <td>555476</td>\n",
       "      <td>M</td>\n",
       "      <td>2008-08-22</td>\n",
       "      <td>2015-07-10</td>\n",
       "      <td>2015-07-28</td>\n",
       "      <td>5</td>\n",
       "      <td>FRESNO</td>\n",
       "      <td>USA</td>\n",
       "      <td>93722</td>\n",
       "      <td>...</td>\n",
       "      <td>US</td>\n",
       "      <td>2014-09-01</td>\n",
       "      <td>[4, 6]</td>\n",
       "      <td>18</td>\n",
       "      <td>1</td>\n",
       "      <td>8</td>\n",
       "      <td>6</td>\n",
       "      <td>6</td>\n",
       "      <td>2</td>\n",
       "      <td>0</td>\n",
       "    </tr>\n",
       "    <tr>\n",
       "      <th>4414</th>\n",
       "      <td>3221</td>\n",
       "      <td>555518</td>\n",
       "      <td>M</td>\n",
       "      <td>2009-08-26</td>\n",
       "      <td>2015-04-22</td>\n",
       "      <td>2015-05-06</td>\n",
       "      <td>4</td>\n",
       "      <td>FRESNO</td>\n",
       "      <td>USA</td>\n",
       "      <td>93723</td>\n",
       "      <td>...</td>\n",
       "      <td>US</td>\n",
       "      <td>2014-09-01</td>\n",
       "      <td>[4, 6]</td>\n",
       "      <td>14</td>\n",
       "      <td>1</td>\n",
       "      <td>7</td>\n",
       "      <td>5</td>\n",
       "      <td>5</td>\n",
       "      <td>2</td>\n",
       "      <td>3.96491</td>\n",
       "    </tr>\n",
       "    <tr>\n",
       "      <th>4417</th>\n",
       "      <td>3221</td>\n",
       "      <td>555993</td>\n",
       "      <td>F</td>\n",
       "      <td>2005-07-11</td>\n",
       "      <td>2015-05-16</td>\n",
       "      <td>2015-05-19</td>\n",
       "      <td>7</td>\n",
       "      <td>MADERA</td>\n",
       "      <td>USA</td>\n",
       "      <td>93638</td>\n",
       "      <td>...</td>\n",
       "      <td>US</td>\n",
       "      <td>2014-09-01</td>\n",
       "      <td>[4, 6]</td>\n",
       "      <td>3</td>\n",
       "      <td>1</td>\n",
       "      <td>11</td>\n",
       "      <td>9</td>\n",
       "      <td>9</td>\n",
       "      <td>2</td>\n",
       "      <td>15.8741</td>\n",
       "    </tr>\n",
       "    <tr>\n",
       "      <th>4421</th>\n",
       "      <td>3221</td>\n",
       "      <td>556263</td>\n",
       "      <td>F</td>\n",
       "      <td>2003-09-29</td>\n",
       "      <td>2014-09-19</td>\n",
       "      <td>2016-02-25</td>\n",
       "      <td>13</td>\n",
       "      <td>FRESNO</td>\n",
       "      <td>USA</td>\n",
       "      <td>93722</td>\n",
       "      <td>...</td>\n",
       "      <td>US</td>\n",
       "      <td>2014-09-01</td>\n",
       "      <td>[4, 6]</td>\n",
       "      <td>524</td>\n",
       "      <td>0</td>\n",
       "      <td>12</td>\n",
       "      <td>10</td>\n",
       "      <td>12</td>\n",
       "      <td>2</td>\n",
       "      <td>0</td>\n",
       "    </tr>\n",
       "    <tr>\n",
       "      <th>4426</th>\n",
       "      <td>3221</td>\n",
       "      <td>556873</td>\n",
       "      <td>F</td>\n",
       "      <td>2002-03-14</td>\n",
       "      <td>2014-09-19</td>\n",
       "      <td>2015-03-10</td>\n",
       "      <td>14</td>\n",
       "      <td>FRESNO</td>\n",
       "      <td>USA</td>\n",
       "      <td>93722</td>\n",
       "      <td>...</td>\n",
       "      <td>US</td>\n",
       "      <td>2014-09-01</td>\n",
       "      <td>[4, 6]</td>\n",
       "      <td>172</td>\n",
       "      <td>1</td>\n",
       "      <td>14</td>\n",
       "      <td>12</td>\n",
       "      <td>12</td>\n",
       "      <td>2</td>\n",
       "      <td>0</td>\n",
       "    </tr>\n",
       "  </tbody>\n",
       "</table>\n",
       "<p>5 rows × 24 columns</p>\n",
       "</div>"
      ],
      "text/plain": [
       "      camp_id  student_id gender date_of_birth enroll_date   end_date  \\\n",
       "4413     3221      555476      M    2008-08-22  2015-07-10 2015-07-28   \n",
       "4414     3221      555518      M    2009-08-26  2015-04-22 2015-05-06   \n",
       "4417     3221      555993      F    2005-07-11  2015-05-16 2015-05-19   \n",
       "4421     3221      556263      F    2003-09-29  2014-09-19 2016-02-25   \n",
       "4426     3221      556873      F    2002-03-14  2014-09-19 2015-03-10   \n",
       "\n",
       "      grade_level city_student country_student zip_student   ...     \\\n",
       "4413            5       FRESNO             USA       93722   ...      \n",
       "4414            4       FRESNO             USA       93723   ...      \n",
       "4417            7       MADERA             USA       93638   ...      \n",
       "4421           13       FRESNO             USA       93722   ...      \n",
       "4426           14       FRESNO             USA       93722   ...      \n",
       "\n",
       "     country_camp  open_date center_days time_enrolled short_term age_2016  \\\n",
       "4413           US 2014-09-01      [4, 6]            18          1        8   \n",
       "4414           US 2014-09-01      [4, 6]            14          1        7   \n",
       "4417           US 2014-09-01      [4, 6]             3          1       11   \n",
       "4421           US 2014-09-01      [4, 6]           524          0       12   \n",
       "4426           US 2014-09-01      [4, 6]           172          1       14   \n",
       "\n",
       "     age_enroll  age_end  days_open     dist  \n",
       "4413          6        6          2        0  \n",
       "4414          5        5          2  3.96491  \n",
       "4417          9        9          2  15.8741  \n",
       "4421         10       12          2        0  \n",
       "4426         12       12          2        0  \n",
       "\n",
       "[5 rows x 24 columns]"
      ]
     },
     "execution_count": 197,
     "metadata": {},
     "output_type": "execute_result"
    }
   ],
   "source": [
    "# see ow many rows are left\n",
    "# remove data and run LR - and see accuracy is correct\n",
    "# add distance and camp city and LR\n",
    "# use only distance and LR"
   ]
  },
  {
   "cell_type": "code",
   "execution_count": 399,
   "metadata": {
    "collapsed": false
   },
   "outputs": [],
   "source": [
    "# CENSUS DATA:\n",
    "# open new notebook\n",
    "#load census data\n",
    "# get zip codes and median income\n",
    "# put in median income into clumns[\n",
    "#type(studentsshortnew['median_income'][0])\n",
    "#int(studentsshortnew['household_income'])#.astype(int)\n",
    "#studentsshortnew[studentsshortnew['median_income']=='']\n",
    "#type(studentsshortnew['median_income'].values)#[0]\n",
    "studentsshortnew['median_income'] = pd.to_numeric(studentsshortnew['median_income'], errors='coerce')\n",
    "studentsshortnew['household_income'] = pd.to_numeric(studentsshortnew['household_income'], errors='coerce')\n",
    "\n",
    "studentsshortnew = studentsshortnew.dropna(how='any')\n",
    "#print(len(studentsshortnew))\n",
    "\n",
    "#print (studentsshortnew[ pd.to_numeric(studentsshortnew['median_income'], errors='coerce').isnull()])\n",
    "#studentsshortnew[studentsshortnew['household_income'].isnull()]\n",
    "#studentsshortnew[studentsshortnew['median_income'] == NaN]\n",
    "#studentsshortnew.isnull\n",
    "#print(str(len(studentsshortnew.dropna(how='any'))))\n",
    "#print(str(len(students.dropna(how='any'))) + ' remaining students after nulls dropped ~5%')\n",
    "#students = students.dropna(how='any')\n",
    "\n",
    "studentsshortnew['median_income'] = studentsshortnew['median_income']/studentsshortnew['median_income'].max()\n",
    "studentsshortnew['household_income'] = studentsshortnew['household_income']/studentsshortnew['household_income'].max()\n",
    "#studentsshortnew['age_enroll'] = studentsshortnew['age_enroll']/studentsshortnew['age_enroll'].max()\n",
    "#studentsshortnew['grade_level'] = studentsshortnew['grade_level']/studentsshortnew['grade_level'].max()\n",
    "#studentsshortnew['days_open'] = studentsshortnew['days_open']/studentsshortnew['days_open'].max()"
   ]
  },
  {
   "cell_type": "code",
   "execution_count": 400,
   "metadata": {
    "collapsed": false
   },
   "outputs": [
    {
     "data": {
      "text/html": [
       "<div>\n",
       "<table border=\"1\" class=\"dataframe\">\n",
       "  <thead>\n",
       "    <tr style=\"text-align: right;\">\n",
       "      <th></th>\n",
       "      <th>camp_id</th>\n",
       "      <th>student_id</th>\n",
       "      <th>gender</th>\n",
       "      <th>date_of_birth</th>\n",
       "      <th>enroll_date</th>\n",
       "      <th>end_date</th>\n",
       "      <th>grade_level</th>\n",
       "      <th>city_student</th>\n",
       "      <th>country_student</th>\n",
       "      <th>zip_student</th>\n",
       "      <th>...</th>\n",
       "      <th>center_days</th>\n",
       "      <th>time_enrolled</th>\n",
       "      <th>short_term</th>\n",
       "      <th>age_2016</th>\n",
       "      <th>age_enroll</th>\n",
       "      <th>age_end</th>\n",
       "      <th>days_open</th>\n",
       "      <th>dist</th>\n",
       "      <th>household_income</th>\n",
       "      <th>median_income</th>\n",
       "    </tr>\n",
       "  </thead>\n",
       "  <tbody>\n",
       "    <tr>\n",
       "      <th>0</th>\n",
       "      <td>2824</td>\n",
       "      <td>61913</td>\n",
       "      <td>M</td>\n",
       "      <td>2002-01-22</td>\n",
       "      <td>2015-09-01</td>\n",
       "      <td>2015-11-30</td>\n",
       "      <td>12</td>\n",
       "      <td>Santa Rosa</td>\n",
       "      <td>USA</td>\n",
       "      <td>95409</td>\n",
       "      <td>...</td>\n",
       "      <td>[2, 5]</td>\n",
       "      <td>90</td>\n",
       "      <td>1</td>\n",
       "      <td>14</td>\n",
       "      <td>13</td>\n",
       "      <td>13</td>\n",
       "      <td>2</td>\n",
       "      <td>0.102496</td>\n",
       "      <td>0.298022</td>\n",
       "      <td>0.30956</td>\n",
       "    </tr>\n",
       "    <tr>\n",
       "      <th>1</th>\n",
       "      <td>2824</td>\n",
       "      <td>61981</td>\n",
       "      <td>F</td>\n",
       "      <td>2008-01-21</td>\n",
       "      <td>2016-03-04</td>\n",
       "      <td>2016-05-28</td>\n",
       "      <td>7</td>\n",
       "      <td>Santa Rosa</td>\n",
       "      <td>USA</td>\n",
       "      <td>95409</td>\n",
       "      <td>...</td>\n",
       "      <td>[2, 5]</td>\n",
       "      <td>85</td>\n",
       "      <td>1</td>\n",
       "      <td>8</td>\n",
       "      <td>8</td>\n",
       "      <td>8</td>\n",
       "      <td>2</td>\n",
       "      <td>0.102496</td>\n",
       "      <td>0.298022</td>\n",
       "      <td>0.30956</td>\n",
       "    </tr>\n",
       "    <tr>\n",
       "      <th>2</th>\n",
       "      <td>2824</td>\n",
       "      <td>61991</td>\n",
       "      <td>F</td>\n",
       "      <td>2004-09-25</td>\n",
       "      <td>2016-03-04</td>\n",
       "      <td>2016-05-26</td>\n",
       "      <td>7</td>\n",
       "      <td>Santa Rosa</td>\n",
       "      <td>USA</td>\n",
       "      <td>95409</td>\n",
       "      <td>...</td>\n",
       "      <td>[2, 5]</td>\n",
       "      <td>83</td>\n",
       "      <td>1</td>\n",
       "      <td>11</td>\n",
       "      <td>11</td>\n",
       "      <td>11</td>\n",
       "      <td>2</td>\n",
       "      <td>0.102496</td>\n",
       "      <td>0.298022</td>\n",
       "      <td>0.30956</td>\n",
       "    </tr>\n",
       "    <tr>\n",
       "      <th>3</th>\n",
       "      <td>2824</td>\n",
       "      <td>62145</td>\n",
       "      <td>F</td>\n",
       "      <td>2005-06-11</td>\n",
       "      <td>2015-01-01</td>\n",
       "      <td>2015-08-23</td>\n",
       "      <td>10</td>\n",
       "      <td>Santa Rosa</td>\n",
       "      <td>USA</td>\n",
       "      <td>95409</td>\n",
       "      <td>...</td>\n",
       "      <td>[2, 5]</td>\n",
       "      <td>234</td>\n",
       "      <td>0</td>\n",
       "      <td>11</td>\n",
       "      <td>9</td>\n",
       "      <td>10</td>\n",
       "      <td>2</td>\n",
       "      <td>0.102496</td>\n",
       "      <td>0.298022</td>\n",
       "      <td>0.30956</td>\n",
       "    </tr>\n",
       "    <tr>\n",
       "      <th>4</th>\n",
       "      <td>2824</td>\n",
       "      <td>62186</td>\n",
       "      <td>F</td>\n",
       "      <td>2007-09-28</td>\n",
       "      <td>2015-05-01</td>\n",
       "      <td>2015-05-24</td>\n",
       "      <td>6</td>\n",
       "      <td>Santa Rosa</td>\n",
       "      <td>USA</td>\n",
       "      <td>95409</td>\n",
       "      <td>...</td>\n",
       "      <td>[2, 5]</td>\n",
       "      <td>23</td>\n",
       "      <td>1</td>\n",
       "      <td>8</td>\n",
       "      <td>7</td>\n",
       "      <td>7</td>\n",
       "      <td>2</td>\n",
       "      <td>0.102496</td>\n",
       "      <td>0.298022</td>\n",
       "      <td>0.30956</td>\n",
       "    </tr>\n",
       "  </tbody>\n",
       "</table>\n",
       "<p>5 rows × 26 columns</p>\n",
       "</div>"
      ],
      "text/plain": [
       "   camp_id  student_id gender date_of_birth enroll_date   end_date  \\\n",
       "0     2824       61913      M    2002-01-22  2015-09-01 2015-11-30   \n",
       "1     2824       61981      F    2008-01-21  2016-03-04 2016-05-28   \n",
       "2     2824       61991      F    2004-09-25  2016-03-04 2016-05-26   \n",
       "3     2824       62145      F    2005-06-11  2015-01-01 2015-08-23   \n",
       "4     2824       62186      F    2007-09-28  2015-05-01 2015-05-24   \n",
       "\n",
       "   grade_level city_student country_student zip_student      ...        \\\n",
       "0           12   Santa Rosa             USA       95409      ...         \n",
       "1            7   Santa Rosa             USA       95409      ...         \n",
       "2            7   Santa Rosa             USA       95409      ...         \n",
       "3           10   Santa Rosa             USA       95409      ...         \n",
       "4            6   Santa Rosa             USA       95409      ...         \n",
       "\n",
       "  center_days time_enrolled short_term age_2016 age_enroll age_end days_open  \\\n",
       "0      [2, 5]            90          1       14         13      13         2   \n",
       "1      [2, 5]            85          1        8          8       8         2   \n",
       "2      [2, 5]            83          1       11         11      11         2   \n",
       "3      [2, 5]           234          0       11          9      10         2   \n",
       "4      [2, 5]            23          1        8          7       7         2   \n",
       "\n",
       "       dist  household_income  median_income  \n",
       "0  0.102496          0.298022        0.30956  \n",
       "1  0.102496          0.298022        0.30956  \n",
       "2  0.102496          0.298022        0.30956  \n",
       "3  0.102496          0.298022        0.30956  \n",
       "4  0.102496          0.298022        0.30956  \n",
       "\n",
       "[5 rows x 26 columns]"
      ]
     },
     "execution_count": 400,
     "metadata": {},
     "output_type": "execute_result"
    }
   ],
   "source": [
    "studentsshortnew.head()"
   ]
  },
  {
   "cell_type": "code",
   "execution_count": 290,
   "metadata": {
    "collapsed": false
   },
   "outputs": [
    {
     "data": {
      "text/plain": [
       "array([[ 0.25      ,  0.55      ,  0.        ],\n",
       "       [ 0.27272727,  0.55      ,  0.        ],\n",
       "       [ 0.13636364,  0.3       ,  0.        ],\n",
       "       ..., \n",
       "       [ 0.15909091,  0.3       ,  0.        ],\n",
       "       [ 0.18181818,  0.6       ,  0.        ],\n",
       "       [ 0.22727273,  0.65      ,  0.        ]])"
      ]
     },
     "execution_count": 290,
     "metadata": {},
     "output_type": "execute_result"
    }
   ],
   "source": [
    "#from sklearn import preprocessing\n",
    "#min_max_scaler = preprocessing.MinMaxScaler()\n",
    "#X_train_minmax = min_max_scaler.fit_transform(xprev)\n",
    "#X_train_minmax"
   ]
  },
  {
   "cell_type": "code",
   "execution_count": 409,
   "metadata": {
    "collapsed": false
   },
   "outputs": [
    {
     "name": "stdout",
     "output_type": "stream",
     "text": [
      "Accuracy of model on test set is 80.9843400447 %\n",
      "F1 scores are long-term/short-term[ 0.8098434  0.8098434]\n",
      "Precision scores are lt-st[ 0.81531532  0.80444444]\n",
      "Recall scores are lt-st[ 0.80444444  0.81531532]\n",
      "[[181  44]\n",
      " [ 41 181]]\n",
      "Predicting everything as falling as long term will give accuracy of 50.3355704698\n"
     ]
    },
    {
     "data": {
      "text/html": [
       "<div id=\"47ccd86d-8a3e-4a4c-8156-e79f0dc44baa\" style=\"height: 525px; width: 100%;\" class=\"plotly-graph-div\"></div><script type=\"text/javascript\">require([\"plotly\"], function(Plotly) { window.PLOTLYENV=window.PLOTLYENV || {};window.PLOTLYENV.BASE_URL=\"https://plot.ly\";Plotly.newPlot(\"47ccd86d-8a3e-4a4c-8156-e79f0dc44baa\", [{\"y\": [0.631365528476533, 0.3184704346077919, 0.7158489279174356, 0.21852956240302213, 0.2804324069434323, 0.32483790637265114, 0.8716703273683065, 0.18366195171582195, 0.7745096402623489, 0.43260592482189647, 0.39313240606156774, 0.29197024949186645, 0.46067946937201454, 0.35238838772803277, 0.45845225938756057, 0.8002256823771449, 0.06633192611733583, 0.1250459942411352, 0.325332799122072, 0.19606306936576084], \"x\": [\"age_enroll\", \"days_open\", \"grade_level\", \"F\", \"M\", \"Concord\", \"Fairfield\", \"Fresno\", \"Los Alamitos\", \"Mission Viejo\", \"San Clemente\", \"San Francisco\", \"San Jose\", \"San Rafael\", \"Santa Clara\", \"Stockton\", \"Torrance\", \"Victorville\", \"Whittier\", \"Windsor\"], \"type\": \"bar\"}], {\"yaxis\": {\"title\": \"Coefficients\"}, \"xaxis\": {\"title\": \"Features\"}, \"title\": \"Feature Coefficients\"}, {\"linkText\": \"Export to plot.ly\", \"showLink\": true})});</script>"
      ],
      "text/plain": [
       "<IPython.core.display.HTML object>"
      ]
     },
     "metadata": {},
     "output_type": "display_data"
    }
   ],
   "source": [
    "from sklearn.linear_model import LogisticRegression\n",
    "from sklearn.metrics import accuracy_score, f1_score, precision_score, recall_score, classification_report, confusion_matrix\n",
    "from sklearn import linear_model, datasets, metrics\n",
    "from sklearn.cross_validation import train_test_split\n",
    "\n",
    "logreg = LogisticRegression(penalty = \"l2\", C=0.1, class_weight = 'balanced', tol = 0.0001)\n",
    "#logreg = linear_model.LogisticRegression()\n",
    "feature_cols = ['age_enroll','days_open', 'grade_level']\n",
    "\n",
    "xprev = studentsshortnew[feature_cols]#.reset_index()[feature_cols]\n",
    "y = studentsshortnew['short_term']#.reset_index()['short_term']x\n",
    "x1 = []\n",
    "x1 = pd.concat([xprev, pd.get_dummies(studentsshortnew['gender'])],axis=1)\n",
    "x = []\n",
    "x = pd.concat([x1, pd.get_dummies(studentsshortnew['city_camp'])],axis=1)\n",
    "\n",
    "\n",
    "X_train,X_test,y_train,y_test = train_test_split(x,y,test_size=0.2)\n",
    "L = logreg.fit(X_train,y_train)\n",
    "y_pred = logreg.predict(X_test)\n",
    "\n",
    "print 'Accuracy of model on test set is ' + str(metrics.accuracy_score(y_test,y_pred)*100) +' %'\n",
    "print('F1 scores are long-term/short-term' + str(f1_score(y_test, y_pred, average=None)))\n",
    "#print('Weighted F1 score is ' + str(f1_score(y_test, y_pred, average='weighted')))\n",
    "print('Precision scores are lt-st' + str(precision_score(y_test, y_pred, average=None)))\n",
    "#print('Weighted Precision score is ' + str(precision_score(y_test, y_pred, average='weighted')))\n",
    "print('Recall scores are lt-st' + str(recall_score(y_test, y_pred, average=None)))\n",
    "#print('Weighted Recall score is ' + str(recall_score(y_test, y_pred, average='weighted')))\n",
    "print metrics.confusion_matrix(y_test, y_pred)\n",
    "print (\"Predicting everything as falling as long term will give accuracy of \"+ str((len([i for i in y_test if i == 0])/float(len(y_test)))*100))\n",
    "\n",
    "fimplr = np.abs(logreg.coef_)\n",
    "vv = list(x)\n",
    "#ll = np.argsort(np.abs(logreg.coef_))\n",
    "#print(fimplr.ravel())\n",
    "#print(vv)\n",
    "#print(ll)\n",
    "#print(ll[vv])\n",
    "\n",
    "\n",
    "data = [Bar(x=vv,y=fimplr.ravel())]\n",
    "\n",
    "layout = Layout(xaxis=dict(title = 'Features'),\n",
    "                 yaxis=dict(title='Coefficients'),\n",
    "                title='Feature Coefficients')\n",
    "\n",
    "\n",
    "fig1 = Figure(data=data, layout=layout)\n",
    "iplot(fig1)\n"
   ]
  },
  {
   "cell_type": "code",
   "execution_count": 471,
   "metadata": {
    "collapsed": true
   },
   "outputs": [],
   "source": [
    "scores = pd.read_csv('/home/harisk87/Dropbox/PythonProjects/EduCare/ScoresCA.csv')\n",
    "scores2 = scores.groupby(['student_id'], sort=False)['grade_level'].min()\n",
    "scores4 = pd.DataFrame({'student_id':scores2.keys(), 'grade_level_begin':scores2.values})\n",
    "studentsn = pd.merge(studentsshortnew, scores4, on='student_id')\n",
    "studentsn['skill_increase'] = ((studentsn['grade_level']-studentsn['grade_level_begin'])/studentsn['time_enrolled'])\n",
    "studentsn = studentsn.dropna(how='any')"
   ]
  },
  {
   "cell_type": "code",
   "execution_count": 488,
   "metadata": {
    "collapsed": false
   },
   "outputs": [],
   "source": [
    "studentsn = studentsn.replace([np.inf, -np.inf], np.nan).dropna(subset=[\"skill_increase\"], how=\"all\")\n",
    "studentsn[np.isinf(studentsn['skill_increase'])]\n",
    "studentsn['skill_increase'] = studentsn['skill_increase']/studentsn['skill_increase'].max()"
   ]
  },
  {
   "cell_type": "code",
   "execution_count": 610,
   "metadata": {
    "collapsed": false
   },
   "outputs": [
    {
     "data": {
      "text/html": [
       "<div>\n",
       "<table border=\"1\" class=\"dataframe\">\n",
       "  <thead>\n",
       "    <tr style=\"text-align: right;\">\n",
       "      <th></th>\n",
       "      <th>camp_id</th>\n",
       "      <th>student_id</th>\n",
       "      <th>gender</th>\n",
       "      <th>date_of_birth</th>\n",
       "      <th>enroll_date</th>\n",
       "      <th>end_date</th>\n",
       "      <th>grade_level</th>\n",
       "      <th>city_student</th>\n",
       "      <th>country_student</th>\n",
       "      <th>zip_student</th>\n",
       "      <th>...</th>\n",
       "      <th>age_2016</th>\n",
       "      <th>age_enroll</th>\n",
       "      <th>age_end</th>\n",
       "      <th>days_open</th>\n",
       "      <th>dist</th>\n",
       "      <th>household_income</th>\n",
       "      <th>median_income</th>\n",
       "      <th>grade_level_begin</th>\n",
       "      <th>skill_increase</th>\n",
       "      <th>shorter_term</th>\n",
       "    </tr>\n",
       "  </thead>\n",
       "  <tbody>\n",
       "    <tr>\n",
       "      <th>0</th>\n",
       "      <td>2824</td>\n",
       "      <td>61913</td>\n",
       "      <td>M</td>\n",
       "      <td>2002-01-22</td>\n",
       "      <td>2015-09-01</td>\n",
       "      <td>2015-11-30</td>\n",
       "      <td>12</td>\n",
       "      <td>Santa Rosa</td>\n",
       "      <td>USA</td>\n",
       "      <td>95409</td>\n",
       "      <td>...</td>\n",
       "      <td>14</td>\n",
       "      <td>13</td>\n",
       "      <td>13</td>\n",
       "      <td>2</td>\n",
       "      <td>0.102496</td>\n",
       "      <td>0.298022</td>\n",
       "      <td>0.30956</td>\n",
       "      <td>11</td>\n",
       "      <td>0.008333</td>\n",
       "      <td>1</td>\n",
       "    </tr>\n",
       "    <tr>\n",
       "      <th>1</th>\n",
       "      <td>2824</td>\n",
       "      <td>61981</td>\n",
       "      <td>F</td>\n",
       "      <td>2008-01-21</td>\n",
       "      <td>2016-03-04</td>\n",
       "      <td>2016-05-28</td>\n",
       "      <td>7</td>\n",
       "      <td>Santa Rosa</td>\n",
       "      <td>USA</td>\n",
       "      <td>95409</td>\n",
       "      <td>...</td>\n",
       "      <td>8</td>\n",
       "      <td>8</td>\n",
       "      <td>8</td>\n",
       "      <td>2</td>\n",
       "      <td>0.102496</td>\n",
       "      <td>0.298022</td>\n",
       "      <td>0.30956</td>\n",
       "      <td>5</td>\n",
       "      <td>0.017647</td>\n",
       "      <td>1</td>\n",
       "    </tr>\n",
       "    <tr>\n",
       "      <th>2</th>\n",
       "      <td>2824</td>\n",
       "      <td>61991</td>\n",
       "      <td>F</td>\n",
       "      <td>2004-09-25</td>\n",
       "      <td>2016-03-04</td>\n",
       "      <td>2016-05-26</td>\n",
       "      <td>7</td>\n",
       "      <td>Santa Rosa</td>\n",
       "      <td>USA</td>\n",
       "      <td>95409</td>\n",
       "      <td>...</td>\n",
       "      <td>11</td>\n",
       "      <td>11</td>\n",
       "      <td>11</td>\n",
       "      <td>2</td>\n",
       "      <td>0.102496</td>\n",
       "      <td>0.298022</td>\n",
       "      <td>0.30956</td>\n",
       "      <td>6</td>\n",
       "      <td>0.009036</td>\n",
       "      <td>1</td>\n",
       "    </tr>\n",
       "    <tr>\n",
       "      <th>3</th>\n",
       "      <td>2824</td>\n",
       "      <td>62145</td>\n",
       "      <td>F</td>\n",
       "      <td>2005-06-11</td>\n",
       "      <td>2015-01-01</td>\n",
       "      <td>2015-08-23</td>\n",
       "      <td>10</td>\n",
       "      <td>Santa Rosa</td>\n",
       "      <td>USA</td>\n",
       "      <td>95409</td>\n",
       "      <td>...</td>\n",
       "      <td>11</td>\n",
       "      <td>9</td>\n",
       "      <td>10</td>\n",
       "      <td>2</td>\n",
       "      <td>0.102496</td>\n",
       "      <td>0.298022</td>\n",
       "      <td>0.30956</td>\n",
       "      <td>2</td>\n",
       "      <td>0.025641</td>\n",
       "      <td>0</td>\n",
       "    </tr>\n",
       "    <tr>\n",
       "      <th>4</th>\n",
       "      <td>2824</td>\n",
       "      <td>62186</td>\n",
       "      <td>F</td>\n",
       "      <td>2007-09-28</td>\n",
       "      <td>2015-05-01</td>\n",
       "      <td>2015-05-24</td>\n",
       "      <td>6</td>\n",
       "      <td>Santa Rosa</td>\n",
       "      <td>USA</td>\n",
       "      <td>95409</td>\n",
       "      <td>...</td>\n",
       "      <td>8</td>\n",
       "      <td>7</td>\n",
       "      <td>7</td>\n",
       "      <td>2</td>\n",
       "      <td>0.102496</td>\n",
       "      <td>0.298022</td>\n",
       "      <td>0.30956</td>\n",
       "      <td>5</td>\n",
       "      <td>0.032609</td>\n",
       "      <td>1</td>\n",
       "    </tr>\n",
       "  </tbody>\n",
       "</table>\n",
       "<p>5 rows × 29 columns</p>\n",
       "</div>"
      ],
      "text/plain": [
       "   camp_id  student_id gender date_of_birth enroll_date   end_date  \\\n",
       "0     2824       61913      M    2002-01-22  2015-09-01 2015-11-30   \n",
       "1     2824       61981      F    2008-01-21  2016-03-04 2016-05-28   \n",
       "2     2824       61991      F    2004-09-25  2016-03-04 2016-05-26   \n",
       "3     2824       62145      F    2005-06-11  2015-01-01 2015-08-23   \n",
       "4     2824       62186      F    2007-09-28  2015-05-01 2015-05-24   \n",
       "\n",
       "   grade_level city_student country_student zip_student      ...       \\\n",
       "0           12   Santa Rosa             USA       95409      ...        \n",
       "1            7   Santa Rosa             USA       95409      ...        \n",
       "2            7   Santa Rosa             USA       95409      ...        \n",
       "3           10   Santa Rosa             USA       95409      ...        \n",
       "4            6   Santa Rosa             USA       95409      ...        \n",
       "\n",
       "  age_2016 age_enroll age_end days_open      dist household_income  \\\n",
       "0       14         13      13         2  0.102496         0.298022   \n",
       "1        8          8       8         2  0.102496         0.298022   \n",
       "2       11         11      11         2  0.102496         0.298022   \n",
       "3       11          9      10         2  0.102496         0.298022   \n",
       "4        8          7       7         2  0.102496         0.298022   \n",
       "\n",
       "  median_income  grade_level_begin  skill_increase  shorter_term  \n",
       "0       0.30956                 11        0.008333             1  \n",
       "1       0.30956                  5        0.017647             1  \n",
       "2       0.30956                  6        0.009036             1  \n",
       "3       0.30956                  2        0.025641             0  \n",
       "4       0.30956                  5        0.032609             1  \n",
       "\n",
       "[5 rows x 29 columns]"
      ]
     },
     "execution_count": 610,
     "metadata": {},
     "output_type": "execute_result"
    }
   ],
   "source": [
    "#studentsn[np.isinf(studentsn['skill_increase'])]['skill_increase']=0\n",
    "#students[studentsn['skill_increase'] == np.inf]#.isinf().sum()\n",
    "#studentsn[np.isinf(studentsn['skill_increase'])]\n",
    "#studentsn['skill_increase'].replace(np.inf, 0)\n",
    "studentsn.head()"
   ]
  },
  {
   "cell_type": "code",
   "execution_count": 644,
   "metadata": {
    "collapsed": false
   },
   "outputs": [
    {
     "name": "stdout",
     "output_type": "stream",
     "text": [
      "Accuracy of model on test set is 96.4125560538 %\n",
      "F1 scores are long-term/short-term[ 0.96428571  0.96396396]\n",
      "Precision scores are lt-st[ 0.98630137  0.94273128]\n",
      "Recall scores are lt-st[ 0.94323144  0.98617512]\n",
      "[[216  13]\n",
      " [  3 214]]\n",
      "Predicting everything as falling as long term will give accuracy of 51.3452914798\n"
     ]
    },
    {
     "data": {
      "text/html": [
       "<div id=\"6e60dea6-8876-41e1-b828-4fbbfe549dc6\" style=\"height: 525px; width: 100%;\" class=\"plotly-graph-div\"></div><script type=\"text/javascript\">require([\"plotly\"], function(Plotly) { window.PLOTLYENV=window.PLOTLYENV || {};window.PLOTLYENV.BASE_URL=\"https://plot.ly\";Plotly.newPlot(\"6e60dea6-8876-41e1-b828-4fbbfe549dc6\", [{\"y\": [0.4775535910256561, -0.26412872523629083, 0.8804755538782226, 0.6346289333343449, -6.7211791571579065, 6.283019288120974, 1753.7276161612874], \"x\": [\"age_enroll\", \"days_open\", \"dist\", \"median_income\", \"grade_level\", \"grade_level_begin\", \"skill_increase\"], \"type\": \"bar\"}], {\"yaxis\": {\"title\": \"Coefficients\"}, \"xaxis\": {\"title\": \"Features\"}, \"title\": \"Feature Coefficients\"}, {\"linkText\": \"Export to plot.ly\", \"showLink\": true})});</script>"
      ],
      "text/plain": [
       "<IPython.core.display.HTML object>"
      ]
     },
     "metadata": {},
     "output_type": "display_data"
    }
   ],
   "source": [
    "logreg = LogisticRegression(penalty = \"l2\", C=1000000, class_weight = 'balanced', tol = 0.0001)\n",
    "feature_cols = ['age_enroll','days_open', 'dist', 'median_income',  'grade_level','grade_level_begin', 'skill_increase']\n",
    "\n",
    "xprev = studentsn[feature_cols]#.reset_index()[feature_cols]\n",
    "y = studentsn['short_term']#.reset_index()['short_term']x\n",
    "x = xprev\n",
    "\n",
    "X_train,X_test,y_train,y_test = train_test_split(x,y,test_size=0.2)\n",
    "L = logreg.fit(X_train,y_train)\n",
    "y_pred = logreg.predict(X_test)\n",
    "\n",
    "print 'Accuracy of model on test set is ' + str(metrics.accuracy_score(y_test,y_pred)*100) +' %'\n",
    "print('F1 scores are long-term/short-term' + str(f1_score(y_test, y_pred, average=None)))\n",
    "print('Precision scores are lt-st' + str(precision_score(y_test, y_pred, average=None)))\n",
    "print('Recall scores are lt-st' + str(recall_score(y_test, y_pred, average=None)))\n",
    "print metrics.confusion_matrix(y_test, y_pred)\n",
    "print (\"Predicting everything as falling as long term will give accuracy of \"+ str((len([i for i in y_test if i == 0])/float(len(y_test)))*100))\n",
    "\n",
    "fimplr = logreg.coef_\n",
    "vv = list(x)\n",
    "\n",
    "\n",
    "data = [Bar(x=vv,y=fimplr.ravel())]\n",
    "\n",
    "layout = Layout(xaxis=dict(title = 'Features'),\n",
    "                 yaxis=dict(title='Coefficients'),\n",
    "                title='Feature Coefficients')\n",
    "\n",
    "\n",
    "fig1 = Figure(data=data, layout=layout)\n",
    "iplot(fig1)\n"
   ]
  },
  {
   "cell_type": "code",
   "execution_count": 605,
   "metadata": {
    "collapsed": false
   },
   "outputs": [
    {
     "name": "stdout",
     "output_type": "stream",
     "text": [
      "The p value is 3.02873596065e-27 and the t value is 5.5139276208\n",
      "The effect size is 0.465218490351\n",
      "SHort terms increase skills on average at rate 0.0219624424506\n",
      "LOng terms increase skills on avergae at rate 0.00695645365014\n",
      "\n",
      " The p value is 0.0127760178808 and the t value is 1.11723781798\n",
      "The effect size is 0.0947476616482\n",
      "SHort terms begin at grade level 6.14133333333\n",
      "LOng terms begin at grade level 5.90760869565\n",
      "\n",
      " The p value is 0.310625146601 and the t value is 0.247074074105\n",
      "The effect size is 0.0209420240341\n",
      "SHort terms commute 0.0617287724045\n",
      "LOng terms commute 0.0602362976335\n",
      "\n",
      "The p value is 0.422897904187 and the t value is 0.0972540495816\n",
      "The effect size is 0.00824202570696\n",
      "SHort terms income 0.419150221348\n",
      "LOng terms income 0.4180760078\n",
      "\n",
      "The p value is 7.01374482192e-11 and the t value is 3.22366082497\n",
      "The effect size is 0.272972052696\n",
      "SHort terms enroll age 9.15466666667\n",
      "LOng terms enroll age 8.25996376812\n",
      "\n",
      "The p value is 5.0484840687e-86 and the t value is -10.2570393341\n",
      "The effect size is -0.869805694299\n",
      "SHort terms exit level 8.27733333333\n",
      "LOng terms exit level 10.8115942029\n",
      "\n",
      "The p value is 0.311673406212 and the t value is 0.245590518894\n",
      "The effect size is 0.020816553039\n",
      "SHort terms days open 2.27555555556\n",
      "LOng terms days open 2.26630434783\n"
     ]
    }
   ],
   "source": [
    "stsk = studentsn[studentsn['short_term']==1]['skill_increase']\n",
    "ltsk = studentsn[studentsn['short_term']==0]['skill_increase']\n",
    "print(\"The p value is \" + str(sp.stats.ttest_ind(stsk, ltsk,axis=0, equal_var=False).pvalue/float(2)) + \" and the t value is \" + str(sp.stats.ttest_ind(stsk, ltsk,axis=0, equal_var=False).statistic/float(2)))\n",
    "print (\"The effect size is \" + str(cohensd(stsk, ltsk)))\n",
    "print(\"SHort terms increase skills on average at rate \" + str(np.mean(stsk)))\n",
    "print(\"LOng terms increase skills on avergae at rate \" + str(np.mean(ltsk)))\n",
    "#print(\"Females are enrolled on average for a longer number of days, so might want to target males, but this is probably not a high return on investment because the distributions are not significantly different, and the effect on predicting churn is also small.\")\n",
    "stsk = studentsn[studentsn['short_term']==1]['grade_level_begin']\n",
    "ltsk = studentsn[studentsn['short_term']==0]['grade_level_begin']\n",
    "print(\"\\n The p value is \" + str(sp.stats.ttest_ind(stsk, ltsk,axis=0, equal_var=False).pvalue/float(2)) + \" and the t value is \" + str(sp.stats.ttest_ind(stsk, ltsk,axis=0, equal_var=False).statistic/float(2)))\n",
    "print (\"The effect size is \" + str(cohensd(stsk, ltsk)))\n",
    "print(\"SHort terms begin at grade level \" + str(np.mean(stsk)))\n",
    "print(\"LOng terms begin at grade level \" + str(np.mean(ltsk)))\n",
    "#print(\"Females are enrolled on average for a longer number of days, so might want to target males, but this is probably not a high return on investment because the distributions are not significantly different, and the effect on predicting churn is also small.\")\n",
    "stsk = studentsn[studentsn['short_term']==1]['dist']\n",
    "ltsk = studentsn[studentsn['short_term']==0]['dist']\n",
    "print(\"\\n The p value is \" + str(sp.stats.ttest_ind(stsk, ltsk,axis=0, equal_var=False).pvalue/float(2)) + \" and the t value is \" + str(sp.stats.ttest_ind(stsk, ltsk,axis=0, equal_var=False).statistic/float(2)))\n",
    "print (\"The effect size is \" + str(cohensd(stsk, ltsk)))\n",
    "print(\"SHort terms commute \" + str(np.mean(stsk)))\n",
    "print(\"LOng terms commute \" + str(np.mean(ltsk)))\n",
    "#print(\"Females are enrolled on average for a longer number of days, so might want to target males, but this is probably not a high return on investment because the distributions are not significantly different, and the effect on predicting churn is also small.\")\n",
    "stsk = studentsn[studentsn['short_term']==1]['median_income']\n",
    "ltsk = studentsn[studentsn['short_term']==0]['median_income']\n",
    "print(\"\\nThe p value is \" + str(sp.stats.ttest_ind(stsk, ltsk,axis=0, equal_var=False).pvalue/float(2)) + \" and the t value is \" + str(sp.stats.ttest_ind(stsk, ltsk,axis=0, equal_var=False).statistic/float(2)))\n",
    "print (\"The effect size is \" + str(cohensd(stsk, ltsk)))\n",
    "print(\"SHort terms income \" + str(np.mean(stsk)))\n",
    "print(\"LOng terms income \" + str(np.mean(ltsk)))\n",
    "#print(\"Females are enrolled on average for a longer number of days, so might want to target males, but this is probably not a high return on investment because the distributions are not significantly different, and the effect on predicting churn is also small.\")\n",
    "stsk = studentsn[studentsn['short_term']==1]['age_enroll']\n",
    "ltsk = studentsn[studentsn['short_term']==0]['age_enroll']\n",
    "print(\"\\nThe p value is \" + str(sp.stats.ttest_ind(stsk, ltsk,axis=0, equal_var=False).pvalue/float(2)) + \" and the t value is \" + str(sp.stats.ttest_ind(stsk, ltsk,axis=0, equal_var=False).statistic/float(2)))\n",
    "print (\"The effect size is \" + str(cohensd(stsk, ltsk)))\n",
    "print(\"SHort terms enroll age \" + str(np.mean(stsk)))\n",
    "print(\"LOng terms enroll age \" + str(np.mean(ltsk)))\n",
    "#print(\"Females are enrolled on average for a longer number of days, so might want to target males, but this is probably not a high return on investment because the distributions are not significantly different, and the effect on predicting churn is also small.\")\n",
    "stsk = studentsn[studentsn['short_term']==1]['grade_level']\n",
    "ltsk = studentsn[studentsn['short_term']==0]['grade_level']\n",
    "print(\"\\nThe p value is \" + str(sp.stats.ttest_ind(stsk, ltsk,axis=0, equal_var=False).pvalue/float(2)) + \" and the t value is \" + str(sp.stats.ttest_ind(stsk, ltsk,axis=0, equal_var=False).statistic/float(2)))\n",
    "print (\"The effect size is \" + str(cohensd(stsk, ltsk)))\n",
    "print(\"SHort terms exit level \" + str(np.mean(stsk)))\n",
    "print(\"LOng terms exit level \" + str(np.mean(ltsk)))\n",
    "#print(\"Females are enrolled on average for a longer number of days, so might want to target males, but this is probably not a high return on investment because the distributions are not significantly different, and the effect on predicting churn is also small.\")\n",
    "stsk = studentsn[studentsn['short_term']==1]['days_open']\n",
    "ltsk = studentsn[studentsn['short_term']==0]['days_open']\n",
    "print(\"\\nThe p value is \" + str(sp.stats.ttest_ind(stsk, ltsk,axis=0, equal_var=False).pvalue/float(2)) + \" and the t value is \" + str(sp.stats.ttest_ind(stsk, ltsk,axis=0, equal_var=False).statistic/float(2)))\n",
    "print (\"The effect size is \" + str(cohensd(stsk, ltsk)))\n",
    "print(\"SHort terms days open \" + str(np.mean(stsk)))\n",
    "print(\"LOng terms days open \" + str(np.mean(ltsk)))"
   ]
  },
  {
   "cell_type": "code",
   "execution_count": 628,
   "metadata": {
    "collapsed": false
   },
   "outputs": [
    {
     "name": "stdout",
     "output_type": "stream",
     "text": [
      "Accuracy of model on test set is 81.3340807175 %\n",
      "F1 scores are long-term/short-term[ 0.85955293  0.72180451]\n",
      "Precision scores are lt-st[ 0.89385965  0.67080745]\n",
      "Recall scores are lt-st[ 0.82778229  0.78119349]\n",
      "[[1019  212]\n",
      " [ 121  432]]\n",
      "Predicting everything as falling as long term will give accuracy of 69.0022421525\n"
     ]
    },
    {
     "data": {
      "text/html": [
       "<div id=\"d5ebc8de-ee78-41b9-922d-7d79e7e93ac2\" style=\"height: 525px; width: 100%;\" class=\"plotly-graph-div\"></div><script type=\"text/javascript\">require([\"plotly\"], function(Plotly) { window.PLOTLYENV=window.PLOTLYENV || {};window.PLOTLYENV.BASE_URL=\"https://plot.ly\";Plotly.newPlot(\"d5ebc8de-ee78-41b9-922d-7d79e7e93ac2\", [{\"y\": [0.45226267343678295, 0.2044416712570994, 0.07344996218394947, 0.08966038617678705, -1.103397233032336, 0.7813742049677884, 0.25952789411160526], \"x\": [\"age_enroll\", \"days_open\", \"dist\", \"median_income\", \"grade_level\", \"grade_level_begin\", \"skill_increase\"], \"type\": \"bar\"}], {\"yaxis\": {\"title\": \"Coefficients\"}, \"xaxis\": {\"title\": \"Features\"}, \"title\": \"Feature Coefficients\"}, {\"linkText\": \"Export to plot.ly\", \"showLink\": true})});</script>"
      ],
      "text/plain": [
       "<IPython.core.display.HTML object>"
      ]
     },
     "metadata": {},
     "output_type": "display_data"
    }
   ],
   "source": [
    "studentsn['shorter_term'] = 0\n",
    "studentsn.ix[studentsn['time_enrolled'] <= 120, 'shorter_term'] = 1\n",
    "\n",
    "logreg = LogisticRegression(penalty = \"l2\", C=0.1, class_weight = 'balanced', tol = 0.0001)\n",
    "feature_cols = ['age_enroll','days_open', 'dist', 'median_income',  'grade_level','grade_level_begin', 'skill_increase']\n",
    "\n",
    "xprev = studentsn[feature_cols]#.reset_index()[feature_cols]\n",
    "y = studentsn['shorter_term']#.reset_index()['short_term']x\n",
    "x = xprev\n",
    "\n",
    "X_train,X_test,y_train,y_test = train_test_split(x,y,test_size=0.8)\n",
    "L = logreg.fit(X_train,y_train)\n",
    "y_pred = logreg.predict(X_test)\n",
    "\n",
    "print 'Accuracy of model on test set is ' + str(metrics.accuracy_score(y_test,y_pred)*100) +' %'\n",
    "print('F1 scores are long-term/short-term' + str(f1_score(y_test, y_pred, average=None)))\n",
    "print('Precision scores are lt-st' + str(precision_score(y_test, y_pred, average=None)))\n",
    "print('Recall scores are lt-st' + str(recall_score(y_test, y_pred, average=None)))\n",
    "print metrics.confusion_matrix(y_test, y_pred)\n",
    "print (\"Predicting everything as falling as long term will give accuracy of \"+ str((len([i for i in y_test if i == 0])/float(len(y_test)))*100))\n",
    "\n",
    "fimplr = logreg.coef_\n",
    "vv = list(x)\n",
    "\n",
    "\n",
    "data = [Bar(x=vv,y=fimplr.ravel())]\n",
    "\n",
    "layout = Layout(xaxis=dict(title = 'Features'),\n",
    "                 yaxis=dict(title='Coefficients'),\n",
    "                title='Feature Coefficients')\n",
    "\n",
    "\n",
    "fig1 = Figure(data=data, layout=layout)\n",
    "iplot(fig1)\n"
   ]
  },
  {
   "cell_type": "code",
   "execution_count": 604,
   "metadata": {
    "collapsed": false
   },
   "outputs": [
    {
     "name": "stdout",
     "output_type": "stream",
     "text": [
      "The p value is 2.14548071754e-18 and the t value is 4.4569254467\n",
      "The effect size is 0.479008947353\n",
      "SHort terms increase skills on average at rate 0.0279150399773\n",
      "LOng terms increase skills on avergae at rate 0.00854169483269\n",
      "\n",
      " The p value is 0.00858941288064 and the t value is 1.19282269495\n",
      "The effect size is 0.107652800726\n",
      "SHort terms begin at grade level 6.206095791\n",
      "LOng terms begin at grade level 5.94480519481\n",
      "\n",
      " The p value is 0.31307978416 and the t value is 0.243627735685\n",
      "The effect size is 0.022434000145\n",
      "SHort terms commute 0.0620986101336\n",
      "LOng terms commute 0.0604933760781\n",
      "\n",
      "The p value is 0.0131657293671 and the t value is -1.1118810653\n",
      "The effect size is -0.101808846642\n",
      "SHort terms income 0.409474417767\n",
      "LOng terms income 0.422709115446\n",
      "\n",
      "The p value is 5.74156454628e-09 and the t value is 2.87759537503\n",
      "The effect size is 0.280345235092\n",
      "SHort terms enroll age 9.39187227866\n",
      "LOng terms enroll age 8.40714285714\n",
      "\n",
      "The p value is 1.35382262906e-65 and the t value is -8.98095068665\n",
      "The effect size is -0.808013442428\n",
      "SHort terms exit level 7.89840348331\n",
      "LOng terms exit level 10.2636363636\n",
      "\n",
      "The p value is 0.243572078051 and the t value is -0.347525059486\n",
      "The effect size is -0.0317745388456\n",
      "SHort terms days open 2.26124818578\n",
      "LOng terms days open 2.27532467532\n"
     ]
    }
   ],
   "source": [
    "stsk = studentsn[studentsn['shorter_term']==1]['skill_increase']\n",
    "ltsk = studentsn[studentsn['shorter_term']==0]['skill_increase']\n",
    "print(\"The p value is \" + str(sp.stats.ttest_ind(stsk, ltsk,axis=0, equal_var=False).pvalue/float(2)) + \" and the t value is \" + str(sp.stats.ttest_ind(stsk, ltsk,axis=0, equal_var=False).statistic/float(2)))\n",
    "print (\"The effect size is \" + str(cohensd(stsk, ltsk)))\n",
    "print(\"SHort terms increase skills on average at rate \" + str(np.mean(stsk)))\n",
    "print(\"LOng terms increase skills on avergae at rate \" + str(np.mean(ltsk)))\n",
    "#print(\"Females are enrolled on average for a longer number of days, so might want to target males, but this is probably not a high return on investment because the distributions are not significantly different, and the effect on predicting churn is also small.\")\n",
    "stsk = studentsn[studentsn['shorter_term']==1]['grade_level_begin']\n",
    "ltsk = studentsn[studentsn['shorter_term']==0]['grade_level_begin']\n",
    "print(\"\\n The p value is \" + str(sp.stats.ttest_ind(stsk, ltsk,axis=0, equal_var=False).pvalue/float(2)) + \" and the t value is \" + str(sp.stats.ttest_ind(stsk, ltsk,axis=0, equal_var=False).statistic/float(2)))\n",
    "print (\"The effect size is \" + str(cohensd(stsk, ltsk)))\n",
    "print(\"SHort terms begin at grade level \" + str(np.mean(stsk)))\n",
    "print(\"LOng terms begin at grade level \" + str(np.mean(ltsk)))\n",
    "#print(\"Females are enrolled on average for a longer number of days, so might want to target males, but this is probably not a high return on investment because the distributions are not significantly different, and the effect on predicting churn is also small.\")\n",
    "stsk = studentsn[studentsn['shorter_term']==1]['dist']\n",
    "ltsk = studentsn[studentsn['shorter_term']==0]['dist']\n",
    "print(\"\\n The p value is \" + str(sp.stats.ttest_ind(stsk, ltsk,axis=0, equal_var=False).pvalue/float(2)) + \" and the t value is \" + str(sp.stats.ttest_ind(stsk, ltsk,axis=0, equal_var=False).statistic/float(2)))\n",
    "print (\"The effect size is \" + str(cohensd(stsk, ltsk)))\n",
    "print(\"SHort terms commute \" + str(np.mean(stsk)))\n",
    "print(\"LOng terms commute \" + str(np.mean(ltsk)))\n",
    "#print(\"Females are enrolled on average for a longer number of days, so might want to target males, but this is probably not a high return on investment because the distributions are not significantly different, and the effect on predicting churn is also small.\")\n",
    "stsk = studentsn[studentsn['shorter_term']==1]['median_income']\n",
    "ltsk = studentsn[studentsn['shorter_term']==0]['median_income']\n",
    "print(\"\\nThe p value is \" + str(sp.stats.ttest_ind(stsk, ltsk,axis=0, equal_var=False).pvalue/float(2)) + \" and the t value is \" + str(sp.stats.ttest_ind(stsk, ltsk,axis=0, equal_var=False).statistic/float(2)))\n",
    "print (\"The effect size is \" + str(cohensd(stsk, ltsk)))\n",
    "print(\"SHort terms income \" + str(np.mean(stsk)))\n",
    "print(\"LOng terms income \" + str(np.mean(ltsk)))\n",
    "#print(\"Females are enrolled on average for a longer number of days, so might want to target males, but this is probably not a high return on investment because the distributions are not significantly different, and the effect on predicting churn is also small.\")\n",
    "stsk = studentsn[studentsn['shorter_term']==1]['age_enroll']\n",
    "ltsk = studentsn[studentsn['shorter_term']==0]['age_enroll']\n",
    "print(\"\\nThe p value is \" + str(sp.stats.ttest_ind(stsk, ltsk,axis=0, equal_var=False).pvalue/float(2)) + \" and the t value is \" + str(sp.stats.ttest_ind(stsk, ltsk,axis=0, equal_var=False).statistic/float(2)))\n",
    "print (\"The effect size is \" + str(cohensd(stsk, ltsk)))\n",
    "print(\"SHort terms enroll age \" + str(np.mean(stsk)))\n",
    "print(\"LOng terms enroll age \" + str(np.mean(ltsk)))\n",
    "#print(\"Females are enrolled on average for a longer number of days, so might want to target males, but this is probably not a high return on investment because the distributions are not significantly different, and the effect on predicting churn is also small.\")\n",
    "stsk = studentsn[studentsn['shorter_term']==1]['grade_level']\n",
    "ltsk = studentsn[studentsn['shorter_term']==0]['grade_level']\n",
    "print(\"\\nThe p value is \" + str(sp.stats.ttest_ind(stsk, ltsk,axis=0, equal_var=False).pvalue/float(2)) + \" and the t value is \" + str(sp.stats.ttest_ind(stsk, ltsk,axis=0, equal_var=False).statistic/float(2)))\n",
    "print (\"The effect size is \" + str(cohensd(stsk, ltsk)))\n",
    "print(\"SHort terms exit level \" + str(np.mean(stsk)))\n",
    "print(\"LOng terms exit level \" + str(np.mean(ltsk)))\n",
    "#print(\"Females are enrolled on average for a longer number of days, so might want to target males, but this is probably not a high return on investment because the distributions are not significantly different, and the effect on predicting churn is also small.\")\n",
    "stsk = studentsn[studentsn['shorter_term']==1]['days_open']\n",
    "ltsk = studentsn[studentsn['shorter_term']==0]['days_open']\n",
    "print(\"\\nThe p value is \" + str(sp.stats.ttest_ind(stsk, ltsk,axis=0, equal_var=False).pvalue/float(2)) + \" and the t value is \" + str(sp.stats.ttest_ind(stsk, ltsk,axis=0, equal_var=False).statistic/float(2)))\n",
    "print (\"The effect size is \" + str(cohensd(stsk, ltsk)))\n",
    "print(\"SHort terms days open \" + str(np.mean(stsk)))\n",
    "print(\"LOng terms days open \" + str(np.mean(ltsk)))"
   ]
  },
  {
   "cell_type": "code",
   "execution_count": 602,
   "metadata": {
    "collapsed": false
   },
   "outputs": [
    {
     "data": {
      "text/html": [
       "<div>\n",
       "<table border=\"1\" class=\"dataframe\">\n",
       "  <thead>\n",
       "    <tr style=\"text-align: right;\">\n",
       "      <th></th>\n",
       "      <th>camp_id</th>\n",
       "      <th>student_id</th>\n",
       "      <th>gender</th>\n",
       "      <th>date_of_birth</th>\n",
       "      <th>enroll_date</th>\n",
       "      <th>end_date</th>\n",
       "      <th>grade_level</th>\n",
       "      <th>city_student</th>\n",
       "      <th>country_student</th>\n",
       "      <th>zip_student</th>\n",
       "      <th>...</th>\n",
       "      <th>age_2016</th>\n",
       "      <th>age_enroll</th>\n",
       "      <th>age_end</th>\n",
       "      <th>days_open</th>\n",
       "      <th>dist</th>\n",
       "      <th>household_income</th>\n",
       "      <th>median_income</th>\n",
       "      <th>grade_level_begin</th>\n",
       "      <th>skill_increase</th>\n",
       "      <th>shorter_term</th>\n",
       "    </tr>\n",
       "  </thead>\n",
       "  <tbody>\n",
       "    <tr>\n",
       "      <th>0</th>\n",
       "      <td>2824</td>\n",
       "      <td>61913</td>\n",
       "      <td>M</td>\n",
       "      <td>2002-01-22</td>\n",
       "      <td>2015-09-01</td>\n",
       "      <td>2015-11-30</td>\n",
       "      <td>12</td>\n",
       "      <td>Santa Rosa</td>\n",
       "      <td>USA</td>\n",
       "      <td>95409</td>\n",
       "      <td>...</td>\n",
       "      <td>14</td>\n",
       "      <td>13</td>\n",
       "      <td>13</td>\n",
       "      <td>2</td>\n",
       "      <td>0.102496</td>\n",
       "      <td>0.298022</td>\n",
       "      <td>0.309560</td>\n",
       "      <td>11</td>\n",
       "      <td>0.008333</td>\n",
       "      <td>1</td>\n",
       "    </tr>\n",
       "    <tr>\n",
       "      <th>1</th>\n",
       "      <td>2824</td>\n",
       "      <td>61981</td>\n",
       "      <td>F</td>\n",
       "      <td>2008-01-21</td>\n",
       "      <td>2016-03-04</td>\n",
       "      <td>2016-05-28</td>\n",
       "      <td>7</td>\n",
       "      <td>Santa Rosa</td>\n",
       "      <td>USA</td>\n",
       "      <td>95409</td>\n",
       "      <td>...</td>\n",
       "      <td>8</td>\n",
       "      <td>8</td>\n",
       "      <td>8</td>\n",
       "      <td>2</td>\n",
       "      <td>0.102496</td>\n",
       "      <td>0.298022</td>\n",
       "      <td>0.309560</td>\n",
       "      <td>5</td>\n",
       "      <td>0.017647</td>\n",
       "      <td>1</td>\n",
       "    </tr>\n",
       "    <tr>\n",
       "      <th>2</th>\n",
       "      <td>2824</td>\n",
       "      <td>61991</td>\n",
       "      <td>F</td>\n",
       "      <td>2004-09-25</td>\n",
       "      <td>2016-03-04</td>\n",
       "      <td>2016-05-26</td>\n",
       "      <td>7</td>\n",
       "      <td>Santa Rosa</td>\n",
       "      <td>USA</td>\n",
       "      <td>95409</td>\n",
       "      <td>...</td>\n",
       "      <td>11</td>\n",
       "      <td>11</td>\n",
       "      <td>11</td>\n",
       "      <td>2</td>\n",
       "      <td>0.102496</td>\n",
       "      <td>0.298022</td>\n",
       "      <td>0.309560</td>\n",
       "      <td>6</td>\n",
       "      <td>0.009036</td>\n",
       "      <td>1</td>\n",
       "    </tr>\n",
       "    <tr>\n",
       "      <th>3</th>\n",
       "      <td>2824</td>\n",
       "      <td>62145</td>\n",
       "      <td>F</td>\n",
       "      <td>2005-06-11</td>\n",
       "      <td>2015-01-01</td>\n",
       "      <td>2015-08-23</td>\n",
       "      <td>10</td>\n",
       "      <td>Santa Rosa</td>\n",
       "      <td>USA</td>\n",
       "      <td>95409</td>\n",
       "      <td>...</td>\n",
       "      <td>11</td>\n",
       "      <td>9</td>\n",
       "      <td>10</td>\n",
       "      <td>2</td>\n",
       "      <td>0.102496</td>\n",
       "      <td>0.298022</td>\n",
       "      <td>0.309560</td>\n",
       "      <td>2</td>\n",
       "      <td>0.025641</td>\n",
       "      <td>0</td>\n",
       "    </tr>\n",
       "    <tr>\n",
       "      <th>4</th>\n",
       "      <td>2824</td>\n",
       "      <td>62186</td>\n",
       "      <td>F</td>\n",
       "      <td>2007-09-28</td>\n",
       "      <td>2015-05-01</td>\n",
       "      <td>2015-05-24</td>\n",
       "      <td>6</td>\n",
       "      <td>Santa Rosa</td>\n",
       "      <td>USA</td>\n",
       "      <td>95409</td>\n",
       "      <td>...</td>\n",
       "      <td>8</td>\n",
       "      <td>7</td>\n",
       "      <td>7</td>\n",
       "      <td>2</td>\n",
       "      <td>0.102496</td>\n",
       "      <td>0.298022</td>\n",
       "      <td>0.309560</td>\n",
       "      <td>5</td>\n",
       "      <td>0.032609</td>\n",
       "      <td>1</td>\n",
       "    </tr>\n",
       "    <tr>\n",
       "      <th>5</th>\n",
       "      <td>2824</td>\n",
       "      <td>62436</td>\n",
       "      <td>M</td>\n",
       "      <td>1999-09-09</td>\n",
       "      <td>2016-06-02</td>\n",
       "      <td>2016-09-08</td>\n",
       "      <td>9</td>\n",
       "      <td>Santa Rosa</td>\n",
       "      <td>USA</td>\n",
       "      <td>95409</td>\n",
       "      <td>...</td>\n",
       "      <td>17</td>\n",
       "      <td>16</td>\n",
       "      <td>17</td>\n",
       "      <td>2</td>\n",
       "      <td>0.102496</td>\n",
       "      <td>0.298022</td>\n",
       "      <td>0.309560</td>\n",
       "      <td>8</td>\n",
       "      <td>0.007653</td>\n",
       "      <td>1</td>\n",
       "    </tr>\n",
       "    <tr>\n",
       "      <th>6</th>\n",
       "      <td>2824</td>\n",
       "      <td>63963</td>\n",
       "      <td>M</td>\n",
       "      <td>2005-06-04</td>\n",
       "      <td>2015-05-04</td>\n",
       "      <td>2016-03-26</td>\n",
       "      <td>9</td>\n",
       "      <td>Santa Rosa</td>\n",
       "      <td>USA</td>\n",
       "      <td>95409</td>\n",
       "      <td>...</td>\n",
       "      <td>11</td>\n",
       "      <td>9</td>\n",
       "      <td>10</td>\n",
       "      <td>2</td>\n",
       "      <td>0.102496</td>\n",
       "      <td>0.298022</td>\n",
       "      <td>0.309560</td>\n",
       "      <td>5</td>\n",
       "      <td>0.009174</td>\n",
       "      <td>0</td>\n",
       "    </tr>\n",
       "    <tr>\n",
       "      <th>7</th>\n",
       "      <td>2825</td>\n",
       "      <td>477782</td>\n",
       "      <td>M</td>\n",
       "      <td>2006-01-04</td>\n",
       "      <td>2011-02-03</td>\n",
       "      <td>2013-06-30</td>\n",
       "      <td>8</td>\n",
       "      <td>Mill Valley</td>\n",
       "      <td>USA</td>\n",
       "      <td>95409</td>\n",
       "      <td>...</td>\n",
       "      <td>10</td>\n",
       "      <td>5</td>\n",
       "      <td>7</td>\n",
       "      <td>3</td>\n",
       "      <td>0.655610</td>\n",
       "      <td>0.298022</td>\n",
       "      <td>0.309560</td>\n",
       "      <td>2</td>\n",
       "      <td>0.005125</td>\n",
       "      <td>0</td>\n",
       "    </tr>\n",
       "    <tr>\n",
       "      <th>8</th>\n",
       "      <td>2825</td>\n",
       "      <td>478329</td>\n",
       "      <td>F</td>\n",
       "      <td>2009-03-18</td>\n",
       "      <td>2014-06-12</td>\n",
       "      <td>2015-12-21</td>\n",
       "      <td>7</td>\n",
       "      <td>Mill Valley</td>\n",
       "      <td>USA</td>\n",
       "      <td>95409</td>\n",
       "      <td>...</td>\n",
       "      <td>7</td>\n",
       "      <td>5</td>\n",
       "      <td>6</td>\n",
       "      <td>3</td>\n",
       "      <td>0.655610</td>\n",
       "      <td>0.298022</td>\n",
       "      <td>0.309560</td>\n",
       "      <td>2</td>\n",
       "      <td>0.006732</td>\n",
       "      <td>0</td>\n",
       "    </tr>\n",
       "    <tr>\n",
       "      <th>9</th>\n",
       "      <td>2824</td>\n",
       "      <td>61938</td>\n",
       "      <td>M</td>\n",
       "      <td>2000-12-13</td>\n",
       "      <td>2015-01-01</td>\n",
       "      <td>2015-08-30</td>\n",
       "      <td>12</td>\n",
       "      <td>Santa Rosa</td>\n",
       "      <td>USA</td>\n",
       "      <td>95404</td>\n",
       "      <td>...</td>\n",
       "      <td>15</td>\n",
       "      <td>14</td>\n",
       "      <td>14</td>\n",
       "      <td>2</td>\n",
       "      <td>0.048862</td>\n",
       "      <td>0.312023</td>\n",
       "      <td>0.328014</td>\n",
       "      <td>8</td>\n",
       "      <td>0.012448</td>\n",
       "      <td>0</td>\n",
       "    </tr>\n",
       "  </tbody>\n",
       "</table>\n",
       "<p>10 rows × 29 columns</p>\n",
       "</div>"
      ],
      "text/plain": [
       "   camp_id  student_id gender date_of_birth enroll_date   end_date  \\\n",
       "0     2824       61913      M    2002-01-22  2015-09-01 2015-11-30   \n",
       "1     2824       61981      F    2008-01-21  2016-03-04 2016-05-28   \n",
       "2     2824       61991      F    2004-09-25  2016-03-04 2016-05-26   \n",
       "3     2824       62145      F    2005-06-11  2015-01-01 2015-08-23   \n",
       "4     2824       62186      F    2007-09-28  2015-05-01 2015-05-24   \n",
       "5     2824       62436      M    1999-09-09  2016-06-02 2016-09-08   \n",
       "6     2824       63963      M    2005-06-04  2015-05-04 2016-03-26   \n",
       "7     2825      477782      M    2006-01-04  2011-02-03 2013-06-30   \n",
       "8     2825      478329      F    2009-03-18  2014-06-12 2015-12-21   \n",
       "9     2824       61938      M    2000-12-13  2015-01-01 2015-08-30   \n",
       "\n",
       "   grade_level city_student country_student zip_student      ...       \\\n",
       "0           12   Santa Rosa             USA       95409      ...        \n",
       "1            7   Santa Rosa             USA       95409      ...        \n",
       "2            7   Santa Rosa             USA       95409      ...        \n",
       "3           10   Santa Rosa             USA       95409      ...        \n",
       "4            6   Santa Rosa             USA       95409      ...        \n",
       "5            9   Santa Rosa             USA       95409      ...        \n",
       "6            9   Santa Rosa             USA       95409      ...        \n",
       "7            8  Mill Valley             USA       95409      ...        \n",
       "8            7  Mill Valley             USA       95409      ...        \n",
       "9           12   Santa Rosa             USA       95404      ...        \n",
       "\n",
       "  age_2016 age_enroll age_end days_open      dist household_income  \\\n",
       "0       14         13      13         2  0.102496         0.298022   \n",
       "1        8          8       8         2  0.102496         0.298022   \n",
       "2       11         11      11         2  0.102496         0.298022   \n",
       "3       11          9      10         2  0.102496         0.298022   \n",
       "4        8          7       7         2  0.102496         0.298022   \n",
       "5       17         16      17         2  0.102496         0.298022   \n",
       "6       11          9      10         2  0.102496         0.298022   \n",
       "7       10          5       7         3  0.655610         0.298022   \n",
       "8        7          5       6         3  0.655610         0.298022   \n",
       "9       15         14      14         2  0.048862         0.312023   \n",
       "\n",
       "  median_income  grade_level_begin  skill_increase  shorter_term  \n",
       "0      0.309560                 11        0.008333             1  \n",
       "1      0.309560                  5        0.017647             1  \n",
       "2      0.309560                  6        0.009036             1  \n",
       "3      0.309560                  2        0.025641             0  \n",
       "4      0.309560                  5        0.032609             1  \n",
       "5      0.309560                  8        0.007653             1  \n",
       "6      0.309560                  5        0.009174             0  \n",
       "7      0.309560                  2        0.005125             0  \n",
       "8      0.309560                  2        0.006732             0  \n",
       "9      0.328014                  8        0.012448             0  \n",
       "\n",
       "[10 rows x 29 columns]"
      ]
     },
     "execution_count": 602,
     "metadata": {},
     "output_type": "execute_result"
    }
   ],
   "source": [
    "#studentsn.head(10)\n",
    "# look at data from 2 angles\n",
    "# winter / summer ?"
   ]
  },
  {
   "cell_type": "code",
   "execution_count": null,
   "metadata": {
    "collapsed": false
   },
   "outputs": [],
   "source": [
    "#"
   ]
  },
  {
   "cell_type": "code",
   "execution_count": null,
   "metadata": {
    "collapsed": false
   },
   "outputs": [],
   "source": []
  },
  {
   "cell_type": "code",
   "execution_count": null,
   "metadata": {
    "collapsed": false
   },
   "outputs": [],
   "source": []
  },
  {
   "cell_type": "code",
   "execution_count": 435,
   "metadata": {
    "collapsed": false
   },
   "outputs": [
    {
     "name": "stdout",
     "output_type": "stream",
     "text": [
      "Accuracy of model on test set is 77.4049217002 %\n",
      "F1 scores are long-term/short-term[ 0.77404922  0.77404922]\n",
      "Precision scores are lt-st[ 0.75877193  0.78995434]\n",
      "Recall scores are lt-st[ 0.78995434  0.75877193]\n",
      "[[173  46]\n",
      " [ 55 173]]\n",
      "Predicting everything as falling as long term will give accuracy of 48.9932885906\n"
     ]
    },
    {
     "data": {
      "text/html": [
       "<div id=\"051b91ac-5b7c-480e-9956-a1d28e8c8fe1\" style=\"height: 525px; width: 100%;\" class=\"plotly-graph-div\"></div><script type=\"text/javascript\">require([\"plotly\"], function(Plotly) { window.PLOTLYENV=window.PLOTLYENV || {};window.PLOTLYENV.BASE_URL=\"https://plot.ly\";Plotly.newPlot(\"051b91ac-5b7c-480e-9956-a1d28e8c8fe1\", [{\"y\": [0.694076535894435, -0.011972484427428674, 0.29925474623956294, 0.7623777129184587, -0.8036271402064199], \"x\": [\"age_enroll\", \"days_open\", \"dist\", \"median_income\", \"grade_level\"], \"type\": \"bar\"}], {\"yaxis\": {\"title\": \"Coefficients\"}, \"xaxis\": {\"title\": \"Features\"}, \"title\": \"Feature Coefficients\"}, {\"linkText\": \"Export to plot.ly\", \"showLink\": true})});</script>"
      ],
      "text/plain": [
       "<IPython.core.display.HTML object>"
      ]
     },
     "metadata": {},
     "output_type": "display_data"
    }
   ],
   "source": [
    "from sklearn.linear_model import LogisticRegression\n",
    "from sklearn.metrics import accuracy_score, f1_score, precision_score, recall_score, classification_report, confusion_matrix\n",
    "from sklearn import linear_model, datasets, metrics\n",
    "from sklearn.cross_validation import train_test_split\n",
    "\n",
    "logreg = LogisticRegression(penalty = \"l2\", C=1, class_weight = 'balanced', tol = 0.0001)\n",
    "#logreg = linear_model.LogisticRegression()\n",
    "feature_cols = ['age_enroll','days_open', 'dist', 'median_income', 'grade_level']\n",
    "\n",
    "xprev = studentsshortnew[feature_cols]#.reset_index()[feature_cols]\n",
    "y = studentsshortnew['short_term']#.reset_index()['short_term']x\n",
    "#x1 = []\n",
    "#x1 = pd.concat([xprev, pd.get_dummies(studentsshortnew['gender'])],axis=1)\n",
    "#x = []\n",
    "#x = pd.concat([x1, pd.get_dummies(studentsshortnew['city_camp'])],axis=1)\n",
    "#print x\n",
    "x = xprev\n",
    "#names = []\n",
    "#names = perm_dict['city_camp'].keys()\n",
    "#names.extend(perm_dict['gender'].keys())\n",
    "#names.extend(perm_dict['days_open'].keys())\n",
    "#names.extend(perm_dict['grade_level'].keys())\n",
    "#names.extend(perm_dict['age_enroll'].keys())\n",
    "#xprev.head()\n",
    "\n",
    "\n",
    "X_train,X_test,y_train,y_test = train_test_split(x,y,test_size=0.2)\n",
    "L = logreg.fit(X_train,y_train)\n",
    "y_pred = logreg.predict(X_test)\n",
    "\n",
    "print 'Accuracy of model on test set is ' + str(metrics.accuracy_score(y_test,y_pred)*100) +' %'\n",
    "print('F1 scores are long-term/short-term' + str(f1_score(y_test, y_pred, average=None)))\n",
    "#print('Weighted F1 score is ' + str(f1_score(y_test, y_pred, average='weighted')))\n",
    "print('Precision scores are lt-st' + str(precision_score(y_test, y_pred, average=None)))\n",
    "#print('Weighted Precision score is ' + str(precision_score(y_test, y_pred, average='weighted')))\n",
    "print('Recall scores are lt-st' + str(recall_score(y_test, y_pred, average=None)))\n",
    "#print('Weighted Recall score is ' + str(recall_score(y_test, y_pred, average='weighted')))\n",
    "print metrics.confusion_matrix(y_test, y_pred)\n",
    "print (\"Predicting everything as falling as long term will give accuracy of \"+ str((len([i for i in y_test if i == 0])/float(len(y_test)))*100))\n",
    "\n",
    "fimplr = logreg.coef_\n",
    "vv = list(x)\n",
    "#ll = np.argsort(np.abs(logreg.coef_))\n",
    "#print(fimplr.ravel())\n",
    "#print(vv)\n",
    "#print(ll)\n",
    "#print(ll[vv])\n",
    "\n",
    "\n",
    "data = [Bar(x=vv,y=fimplr.ravel())]\n",
    "\n",
    "layout = Layout(xaxis=dict(title = 'Features'),\n",
    "                 yaxis=dict(title='Coefficients'),\n",
    "                title='Feature Coefficients')\n",
    "\n",
    "\n",
    "fig1 = Figure(data=data, layout=layout)\n",
    "iplot(fig1)\n",
    "\n",
    "\n",
    "\n",
    "\n",
    "\n",
    "\n",
    "# sort and plot positive and negative features on different plots\n",
    "# pre process, normalize data\n",
    "# combine gender as 1 feature? or remove gender?\n",
    "\n",
    "# This is based on the idea that when all features are on the same scale, \n",
    "#the most important features should have the highest coefficients in the model, \n",
    "\n",
    "# normalize feature coefficients?\n",
    "# engineer distance as a feature?\n",
    "# correlated coefficients get similar features\n",
    "# tail-end data, outliers"
   ]
  },
  {
   "cell_type": "code",
   "execution_count": null,
   "metadata": {
    "collapsed": true
   },
   "outputs": [],
   "source": []
  },
  {
   "cell_type": "code",
   "execution_count": 314,
   "metadata": {
    "collapsed": false
   },
   "outputs": [
    {
     "data": {
      "text/html": [
       "<div id=\"232e8990-8bc4-4d45-ba3a-63548c8d16d1\" style=\"height: 525px; width: 100%;\" class=\"plotly-graph-div\"></div><script type=\"text/javascript\">require([\"plotly\"], function(Plotly) { window.PLOTLYENV=window.PLOTLYENV || {};window.PLOTLYENV.BASE_URL=\"https://plot.ly\";Plotly.newPlot(\"232e8990-8bc4-4d45-ba3a-63548c8d16d1\", [{\"y\": [90, 85, 83, 234, 23, 98, 327, 878, 557, 241, 469, 445, 82, 598, 77, 207, 148, 148, 149, 229, 232, 140, 147, 41, 47, 57, 205, 225, 59, 54, 522, 161, 426, 263, 264, 187, 272, 271, 76, 113, 142, 167, 351, 86, 31, 51, 27, 74, 38, 17, 212, 609, 40, 53, 41, 119, 107, 85, 109, 98, 240, 23, 464, 41, 229, 68, 133, 97, 101, 424, 12, 210, 453, 12, 13, 193, 53, 263, 416, 348, 552, 84, 13, 1343, 663, 663, 431, 576, 77, 36, 196, 77, 77, 480, 77, 52, 52, 1085, 154, 451, 50, 363, 115, 1285, 146, 59, 18, 160, 175, 267, 117, 111, 118, 82, 615, 77, 343, 236, 224, 221, 425, 103, 80, 108, 457, 440, 616, 616, 398, 279, 137, 173, 105, 87, 87, 104, 399, 249, 66, 87, 48, 305, 77, 337, 305, 161, 378, 448, 537, 433, 1050, 505, 175, 389, 588, 678, 40, 286, 772, 224, 537, 826, 951, 537, 318, 762, 180, 180, 196, 157, 196, 180, 545, 334, 551, 91, 425, 210, 209, 162, 660, 270, 261, 1165, 236, 233, 1363, 1362, 1071, 3, 175, 496, 114, 732, 338, 259, 40, 1188, 155, 395, 159, 150, 678, 679, 34, 37, 961, 114, 126, 126, 426, 340, 116, 232, 231, 25, 324, 62, 827, 574, 623, 392, 392, 1185, 1763, 504, 440, 106, 254, 257, 274, 78, 122, 74, 74, 47, 93, 490, 478, 292, 231, 505, 191, 69, 191, 131, 32, 14, 173, 28, 208, 307, 699, 210, 41, 54, 210, 196, 124, 40, 596, 156, 911, 196, 806, 984, 357, 1088, 18, 805, 574, 714, 441, 13, 30, 77, 538, 21, 261, 84, 88, 112, 1506, 224, 244, 110, 203, 288, 293, 270, 122, 235, 146, 1442, 475, 201, 453, 155, 537, 67, 197, 785, 229, 105, 14, 312, 13, 136, 326, 270, 57, 85, 99, 59, 137, 1267, 113, 182, 141, 401, 651, 786, 34, 821, 173, 357, 134, 53, 196, 152, 31, 197, 312, 697, 697, 212, 709, 210, 105, 68, 260, 881, 504, 842, 140, 139, 455, 290, 546, 637, 546, 42, 160, 112, 558, 1134, 336, 61, 176, 157, 823, 585, 208, 322, 143, 171, 150, 241, 14, 14, 735, 732, 289, 294, 294, 211, 211, 211, 57, 905, 905, 1296, 675, 196, 196, 42, 389, 116, 659, 657, 1049, 1059, 133, 373, 44, 89, 89, 906, 288, 65, 287, 806, 299, 37, 16, 257, 97, 257, 104, 635, 658, 224, 173, 307, 602, 73, 307, 114, 80, 209, 285, 102, 227, 489, 244, 246, 45, 14, 230, 219, 36, 255, 273, 289, 123, 245, 31, 252, 245, 260, 262, 247, 189, 191, 91, 254, 260, 253, 266, 269, 53, 272, 19, 19, 23, 6, 157, 26, 176, 92, 77, 61, 62, 122, 222, 0, 249, 252, 146, 149, 121, 150, 143, 141, 181, 247, 36, 92, 153, 32, 168, 269, 249, 193, 174, 19, 245, 0, 0, 12, 247, 266, 24, 19, 206, 89, 253, 245, 64, 72, 30, 197, 77, 101, 255, 25, 73, 257, 37, 171, 159, 6, 87, 260, 31, 59, 153, 245, 249, 63, 51, 103, 377, 196, 73, 83, 60, 353, 56, 23, 73, 71, 301, 53, 54, 86, 117, 46, 228, 228, 38, 38, 176, 473, 39, 285, 42, 106, 86, 122, 201, 80, 168, 141, 270, 177, 77, 289, 179, 181, 81, 74, 41, 324, 324, 102, 102, 55, 212, 212, 69, 212, 222, 25, 220, 474, 111, 172, 172, 52, 114, 134, 368, 220, 454, 454, 77, 140, 502, 513, 76, 42, 58, 107, 111, 5, 173, 236, 23, 23, 42, 578, 114, 35, 40, 42, 76, 69, 288, 241, 117, 53, 84, 240, 39, 257, 83, 452, 34, 179, 285, 252, 126, 14, 305, 25, 154, 305, 46, 88, 214, 400, 248, 163, 748, 188, 137, 103, 23, 329, 748, 474, 188, 39, 220, 22, 19, 138, 128, 360, 836, 97, 83, 47, 315, 333, 43, 9, 84, 139, 351, 190, 63, 55, 230, 69, 21, 178, 96, 492, 92, 104, 79, 87, 104, 133, 307, 105, 0, 48, 124, 164, 1, 305, 76, 132, 398, 426, 398, 266, 489, 168, 665, 426, 304, 279, 90, 350, 368, 404, 790, 105, 28, 185, 27, 48, 417, 563, 342, 309, 829, 333, 137, 406, 425, 153, 216, 882, 563, 211, 456, 1144, 426, 265, 104, 753, 49, 412, 72, 177, 1033, 629, 66, 570, 48, 45, 55, 188, 174, 135, 265, 19, 87, 142, 110, 111, 184, 110, 81, 267, 267, 134, 122, 107, 23, 212, 9, 7, 172, 172, 13, 242, 50, 297, 261, 293, 292, 27, 29, 83, 128, 238, 38, 46, 57, 273, 216, 240, 316, 140, 358, 50, 50, 167, 273, 43, 730, 371, 178, 625, 56, 261, 328, 195, 157, 28, 406, 381, 301, 144, 129, 175, 169, 93, 84, 112, 406, 500, 157, 485, 97, 112, 169, 485, 211, 132, 24, 98, 281, 69, 7, 16, 328, 350, 283, 339, 318, 515, 275, 357, 197, 616, 57, 45, 45, 535, 177, 49, 58, 106, 106, 266, 263, 539, 539, 96, 305, 169, 75, 413, 45, 45, 107, 30, 613, 698, 52, 699, 473, 913, 1428, 444, 205, 77, 166, 130, 94, 1252, 69, 52, 842, 724, 87, 258, 441, 1372, 30, 86, 87, 83, 385, 82, 78, 45, 1290, 606, 259, 452, 111, 782, 251, 119, 290, 798, 224, 606, 1379, 1670, 598, 346, 157, 231, 462, 612, 1169, 231, 27, 63, 637, 526, 198, 148, 789, 1207, 372, 87, 1025, 126, 271, 1114, 362, 119, 263, 369, 223, 294, 1113, 390, 240, 170, 90, 507, 448, 946, 176, 452, 239, 383, 134, 226, 921, 711, 221, 1347, 906, 16, 343, 85, 86, 247, 53, 23, 28, 28, 35, 37, 35, 17, 149, 25, 24, 25, 119, 57, 115, 212, 101, 137, 133, 70, 137, 178, 140, 116, 84, 193, 187, 184, 176, 270, 796, 249, 798, 796, 99, 804, 585, 56, 254, 568, 15, 363, 269, 101, 69, 122, 124, 98, 177, 523, 316, 35, 23, 313, 184, 163, 11, 110, 175, 553, 476, 561, 136, 314, 309, 12, 77, 70, 42, 43, 116, 170, 1338, 76, 191, 7, 98, 156, 1048, 678, 548, 403, 148, 875, 143, 39, 232, 410, 207, 708, 93, 46, 52, 41, 251, 218, 1086, 264, 78, 980, 321, 200, 30, 528, 30, 48, 91, 9, 543, 848, 48, 92, 823, 233, 11, 108, 902, 827, 337, 357, 458, 58, 493, 121, 55, 82, 208, 232, 951, 228, 255, 49, 231, 373, 377, 154, 141, 160, 85, 364, 78, 79, 364, 364, 64, 69, 43, 171, 175, 15, 44, 80, 30, 189, 230, 30, 287, 30, 589, 215, 130, 149, 142, 29, -102, 224, 199, 1093, 781, 545, 235, 542, 546, 303, 31, 189, 56, 134, 394, 1147, 41, 169, 66, 156, 83, 421, 1274, 176, 39, 382, 999, 81, 364, 343, 988, 447, 36, 413, 356, 189, 259, 312, 20, 211, 50, 712, 220, 211, 211, 959, 1120, 307, 1385, 1385, 260, 650, 732, 663, 261, 362, 116, 86, 457, 19, 135, 55, 100, 226, 40, 37, 141, 159, 132, 228, 39, 77, 1006, 2, 197, 34, 239, 267, 77, 176, 173, 78, 66, 99, 218, 16, 39, 882, 692, 566, 1692, 573, 574, 1455, 114, 1497, 725, 1483, 1677, 303, 62, 743, 419, 133, 535, 1301, 1553, 2338, 544, 174, 699, 484, 1269, 745, 521, 530, 240, 1539, 345, 398, 965, 1212, 91, 2860, 2024, 808, 1985, 699, 848, 1393, 234, 104, 479, 338, 272, 1217, 66, 202, 1122, 390, 390, 457, 80, 624, 138, 2263, 1717, 2623, 444, 689, 2207, 1035, 982, 597, 440, 2695, 503, 1186, 1441, 580, 1374, 720, 1542, 646, 1563, 911, 1449, 100, 1113, 1110, 162, 174, 946, 1028, 479, 348, 19, 359, 148, 1199, 617, 897, 1013, 131, 392, 1213, 197, 1215, 631, 350, 381, 373, 148, 118, 120, 28, 28, 884, 907, 148, 1007, 265, 631, 628, 631, 573, 580, 996, 1896, 2081, 1206, 1973, 393, 410, 663, 879, 1078, 807, 909, 601, 219, 2624, 138, 2501, 1536, 335, 429, 1325, 775, 363, 89, 366, 55, 85, 482, 752, 752, 328, 1322, 356, 359, 1333, 1344, 988, 969, 608, 1692, 1143, 83, 139, 1193, 65, 206, 6, 1323, 545, 311, 496, 84, 1525, 2313, 561, 417, 1190, 601, 601, 377, 734, 288, 469, 1819, 741, 378, 500, 388, 1427, 755, 576, 1760, 2077, 2180, 1710, 1476, 456, 2076, 865, 429, 521, 949, 1657, 834, 132, 834, 402, 315, 671, 345, 657, 734, 650, 651, 41, 508, 227, 450, 497, 23, 1200, 1873, 2635, 638, 20, 846, 366, 1162, 2522, 254, 477, 30, 118, 432, 2006, 2629, 123, 2222, 1725, 314, 38, 1611, 2071, 838, 2067, 402, 2112, 149, 132, 1356, 1766, 1133, 149, 1818, 77, 552, 265, 1321, 370, 2469, 88, 1727, 1307, 2627, 1487, 118, 103, 88, 191, 593, 198, 905, 545, 712, 1094, 541, 593, 34, 122, 23, 791, 107, 193, 358, 1833, 1730, 913, 590, 317, 192, 198, 62, 258, 91, 980, 83, 244, 274, 1983, 1357, 1475, 51, 431, 37, 463, 44, 332, 331, 486, 142, 114, 202, 748, 113, 575, 574, 848, 227, 544, 1290, 1970, 848, 1215, 2728, 267, 747, 377, 626, 997, 656, 561, 2266, 1454, 819, 592, 1099, 818, 51, 1244, 1209, 758, 758, 380, 1605, 343, 99, 46, 653, 215, 198, 721, 553, 1106, 117, 19, 238, 20, 1061, 821, 86, 230, 935, 1884, 399, 164, 65, 730, 282, 552, 527, 414, 28, 1636, 317, 479, 1270, 559, 2031, 1516, 1491, 128, 393, 466, 470, 516, 71, 347, 791, 147, 1047, 513, 223, 748, 114, 512, 111, 348, 114, 48, 105, 5, 201, 837, 257, 44, 134, 153, 501, 274, 1623, 1650, 19, 1631, 215, 312, 1513, 156, 212, 658, 271, 147, 166, 592, 73, 588, 71, 96, 242, 84, 1765, 77, 125, 361, 464, 433, 301, 547, 271, 104, 177, 459, 183, 688, 300, 140, 258, 39, 626, 300, 986, 895, 626, 601, 49, 119, 198, 1405, 461, 169, 1201, 373, 310, 455, 14, 187, 702, 383, 823, 77, 63, 671, 48, 1445, 168, 168, 1332, 499, 329, 139, 334, 139, 334, 15, 111, 775, 167, 395, 359, 926, 2090, 636, 342, 138, 952, 293, 890, 1090, 34, 327, 2357, 1825, 242, 177, 190, 379, 411, 135, 341, 14, 701, 29, 29, 260, 708, 1388, 2537, 250, 213, 1113, 332, 152, 455, 532, 41, 342, 452, 101, 874, 1047, 716, 1141, 450, 60, 298, 297, 523, 266, 14, 379, 239, 546, 164, 160, 323, 546, 197, 547, 322, 211, 64, 322, 1815, 498, 98, 291, 2035, 335, 1726, 979, 311, 1726, 241, 79, 232, 210, 192, 79, 1883, 896, 268, 21, 657, 657, 14, 214, 230, 194, 235, 648, 175, 320, 108, 490, 482, 195, 601, 195, 798, 751, 284, 1203, 83, 170, 1133, 443, 746, 733, 58, 1139, 112, 142, 90, 47, 435, 1134, 991, 189, 342, 170, 28, 180, 133, 370, 260, 420, 907, 392, 367, 1708, 301, 600, 143, 412, 298, 37, 388, 576, 58, 2070, 545, 51, 655, 479, 905, 105, 351, 833, 270, 177, 680, 126, 546, 723, 1367, 622, 329, 34, 1393, 77, 514, 55, 74, 253, 237, 272, 357, 568, 1064, 323, 299, 140, 132, 246, 436, 137, 137, 1738, 13, 171, 63, 532, 512, 179, 97, 173, 437, 228, 1260, 1398, 161, 180, 365, 189, 238, 62, 81, 928, 350, 625, 1271, 1349, 73, 198, 506, 499, 106, 726, 531, 1270, 179, 1491, 272, 764, 161, 609, 200, 163, 808, 442, 525, 981, 889, 547, 889, 547, 403, 183, 504, 151, 28, 151, 440, 970, 99, 184, 1032, 252, 184, 217, 57, 336, 308, 349, 247, 243, 79, 248, 26, 35, 403, 510, 542, 329, 212, 112, 112, 175, 122, 2128, 1219, 516, 118, 367, 192, 189, 311, 14, 168, 77, 124, 235, 90, 148, 517, 58, 217, 211, 85, 260, 148, 24, 518, 50, 51, 514, 28, 429, 250, 75, 25, 67, 149, 353, 182, 168, 237, 245, 123, 329, 861, 502, 118, 689, 664, 67, 63, 101, 467, 469, 101, 8, 107, 51, 758, 357, 405, 940, 775, 143, 163, 455, 75, 549, 409, 124, 58, 104, 87, 329, 106, 152, 243, 243, 250, 121, 265, 76, 343, 228, 59, 12, 76, 128, 464, 64, 89, 25, 15, 59, 15, 166, 179, 211, 209, 23, 500, 30, 252, 39, 365, 77, 57, 240, 48, 48, 318, 26, 60, 26, 457, 60, 470, 32, 20, 206, 14, 93, 136, 37, 75, 149, 213, 88, 142, 350, 75, 57, 209, 334, 107, 75, 105, 100, 100, 42, 524, 76, 214, 85, 47, 149, 362, 515, 46, 16, 133, 341, 426, 112, 175, 232, 177, 30, 483, 100, 53, 305, 138, 145, 19, 108, 266, 334, 89, 534, 238, 318, 295, 53, 11, 224, 88, 220, 76, 99, 91, 124, 48, 46, 98, 45, 303, 98, 29, 231, 450, 393, 14, 14, 14, 21, 20, 46, 133, 159, 73, 419, 420, 43, 273, 108, 335, 20, 20, 18, 407, 152, 49, 479, 173, 90, 211, 67, 252, 39, 137, 116, 58, 27, 18, 56, 56, 238, 119, 56, 41, 31, 349, 399, 417, 60, 604, 603, 123, 123, 25, 110, 58, 176, 372, 70, 316, 67, 596, 63, 377, 78, 90, 378, 90, 70, 33, 71, 166, 91, 321, 44, 289, 34, 151, 266, 35, 61, 37, 18, 524, 172, 121, 37, 346, 370, 373, 21, 165, 161, 21, 119, 14, 212, 21, 334, 3], \"x\": [0.30955970265633936, 0.30955970265633936, 0.30955970265633936, 0.30955970265633936, 0.30955970265633936, 0.30955970265633936, 0.30955970265633936, 0.30955970265633936, 0.30955970265633936, 0.32801372355356867, 0.32801372355356867, 0.32801372355356867, 0.32801372355356867, 0.32801372355356867, 0.32801372355356867, 0.32801372355356867, 0.32801372355356867, 0.32801372355356867, 0.2805909067280383, 0.2805909067280383, 0.2805909067280383, 0.2805909067280383, 0.2805909067280383, 0.2805909067280383, 0.41829429083158876, 0.41829429083158876, 0.41829429083158876, 0.41829429083158876, 0.41829429083158876, 0.41829429083158876, 0.41829429083158876, 0.41829429083158876, 0.41829429083158876, 0.41829429083158876, 0.41829429083158876, 0.41829429083158876, 0.41829429083158876, 0.41829429083158876, 0.41829429083158876, 0.41829429083158876, 0.41829429083158876, 0.41829429083158876, 0.41829429083158876, 0.41829429083158876, 0.41829429083158876, 0.41829429083158876, 0.41829429083158876, 0.41829429083158876, 0.35220952047900117, 0.35220952047900117, 0.35220952047900117, 0.35220952047900117, 0.26383815280212847, 0.26383815280212847, 0.26383815280212847, 0.26383815280212847, 0.26383815280212847, 0.26383815280212847, 0.26383815280212847, 0.26383815280212847, 0.30145505583463683, 0.30145505583463683, 0.30145505583463683, 0.30145505583463683, 0.30145505583463683, 0.30145505583463683, 0.30145505583463683, 0.30145505583463683, 0.30145505583463683, 0.27040693360805645, 0.3169649397231661, 0.2738378220002174, 0.2738378220002174, 0.2738378220002174, 0.2738378220002174, 0.2738378220002174, 0.30956915413951336, 0.30956915413951336, 0.26659798588893563, 0.3434952529925759, 0.3434952529925759, 0.39685832699296336, 0.39685832699296336, 0.39685832699296336, 0.39685832699296336, 0.39685832699296336, 0.39685832699296336, 0.39685832699296336, 0.4200522667019522, 0.4200522667019522, 0.4200522667019522, 0.4200522667019522, 0.4200522667019522, 0.4200522667019522, 0.4200522667019522, 0.4200522667019522, 0.4200522667019522, 0.4200522667019522, 0.4200522667019522, 0.4200522667019522, 0.4200522667019522, 0.4200522667019522, 0.4200522667019522, 0.4200522667019522, 0.4200522667019522, 0.4200522667019522, 0.4200522667019522, 0.4200522667019522, 0.4200522667019522, 0.4200522667019522, 0.4200522667019522, 0.4200522667019522, 0.4200522667019522, 0.4200522667019522, 0.4200522667019522, 0.4200522667019522, 0.4200522667019522, 0.4200522667019522, 0.4200522667019522, 0.4200522667019522, 0.4200522667019522, 0.4200522667019522, 0.4200522667019522, 0.4200522667019522, 0.4200522667019522, 0.4200522667019522, 0.4200522667019522, 0.4200522667019522, 0.4200522667019522, 0.4200522667019522, 0.4200522667019522, 0.4200522667019522, 0.4200522667019522, 0.4200522667019522, 0.4200522667019522, 0.4200522667019522, 0.4200522667019522, 0.4200522667019522, 0.4200522667019522, 0.4200522667019522, 0.4200522667019522, 0.4200522667019522, 0.4200522667019522, 0.4200522667019522, 0.4200522667019522, 0.4200522667019522, 0.4200522667019522, 0.4200522667019522, 0.5222275255544476, 0.5222275255544476, 0.5222275255544476, 0.5222275255544476, 0.5222275255544476, 0.5222275255544476, 0.5222275255544476, 0.5222275255544476, 0.5222275255544476, 0.5222275255544476, 0.5222275255544476, 0.5222275255544476, 0.5222275255544476, 0.5222275255544476, 0.5222275255544476, 0.5222275255544476, 0.5222275255544476, 0.5222275255544476, 0.5222275255544476, 0.5222275255544476, 0.5222275255544476, 0.5222275255544476, 0.5222275255544476, 0.5222275255544476, 0.5222275255544476, 0.4200664439267132, 0.4200664439267132, 0.4200664439267132, 0.4200664439267132, 0.4200664439267132, 0.4200664439267132, 0.4200664439267132, 0.4200664439267132, 0.4200664439267132, 0.4200664439267132, 0.4200664439267132, 0.4200664439267132, 0.4200664439267132, 0.4200664439267132, 0.4200664439267132, 0.4200664439267132, 0.4200664439267132, 0.4200664439267132, 0.4200664439267132, 0.4200664439267132, 0.6974154919260706, 0.6974154919260706, 0.6974154919260706, 0.6974154919260706, 0.6974154919260706, 0.6974154919260706, 0.6974154919260706, 0.6974154919260706, 0.6974154919260706, 0.6974154919260706, 0.6974154919260706, 0.6974154919260706, 0.6974154919260706, 0.6974154919260706, 0.6974154919260706, 0.6974154919260706, 0.6974154919260706, 0.6974154919260706, 0.6974154919260706, 0.6974154919260706, 0.6974154919260706, 0.6974154919260706, 0.6974154919260706, 0.6974154919260706, 0.6974154919260706, 0.6974154919260706, 0.6974154919260706, 0.6974154919260706, 0.6974154919260706, 0.6974154919260706, 0.6974154919260706, 0.6974154919260706, 0.6974154919260706, 0.6974154919260706, 0.6974154919260706, 0.6974154919260706, 0.6974154919260706, 0.6974154919260706, 0.6974154919260706, 0.6974154919260706, 0.5087875164810238, 0.5087875164810238, 0.4507459583095077, 0.4507459583095077, 0.4507459583095077, 0.4507459583095077, 0.4507459583095077, 0.4507459583095077, 0.4507459583095077, 0.4507459583095077, 0.4507459583095077, 0.4507459583095077, 0.4507459583095077, 0.4507459583095077, 0.4507459583095077, 0.4507459583095077, 0.4507459583095077, 0.4507459583095077, 0.4507459583095077, 0.4507459583095077, 0.4507459583095077, 0.4507459583095077, 0.4507459583095077, 0.4507459583095077, 0.4507459583095077, 0.4507459583095077, 0.4507459583095077, 0.4507459583095077, 0.4507459583095077, 0.4507459583095077, 0.4507459583095077, 0.4507459583095077, 0.4507459583095077, 0.4507459583095077, 0.4507459583095077, 0.4507459583095077, 0.4507459583095077, 0.4507459583095077, 0.4507459583095077, 0.4507459583095077, 0.4507459583095077, 0.4507459583095077, 0.4507459583095077, 0.4507459583095077, 0.4507459583095077, 0.4507459583095077, 0.4507459583095077, 0.5885391315032111, 0.5885391315032111, 0.5885391315032111, 0.5885391315032111, 0.5885391315032111, 0.5885391315032111, 0.5885391315032111, 0.5885391315032111, 0.5885391315032111, 0.5885391315032111, 0.5885391315032111, 0.5885391315032111, 0.5885391315032111, 0.5885391315032111, 0.5885391315032111, 0.5885391315032111, 0.5885391315032111, 0.5885391315032111, 0.5885391315032111, 0.5885391315032111, 0.4456043514628533, 0.4456043514628533, 0.4456043514628533, 0.4456043514628533, 0.4456043514628533, 0.4456043514628533, 0.4456043514628533, 0.4456043514628533, 0.4456043514628533, 0.48014952246381265, 0.48014952246381265, 0.48014952246381265, 0.48014952246381265, 0.48014952246381265, 0.48014952246381265, 0.48014952246381265, 0.6302438010084732, 0.6302438010084732, 0.6302438010084732, 0.6302438010084732, 0.6302438010084732, 0.6302438010084732, 0.6302438010084732, 0.6302438010084732, 0.6302438010084732, 0.6302438010084732, 0.6302438010084732, 0.6302438010084732, 0.6302438010084732, 0.6302438010084732, 0.6302438010084732, 0.6302438010084732, 0.6302438010084732, 0.6302438010084732, 0.6302438010084732, 0.6302438010084732, 0.6302438010084732, 0.6302438010084732, 0.6302438010084732, 0.6302438010084732, 0.6302438010084732, 0.6302438010084732, 0.6302438010084732, 0.6302438010084732, 0.6302438010084732, 0.6302438010084732, 0.6302438010084732, 0.6302438010084732, 0.6302438010084732, 0.6302438010084732, 0.6302438010084732, 0.5293822983171634, 0.40047351930701724, 0.40047351930701724, 0.40047351930701724, 0.40047351930701724, 0.40047351930701724, 0.40047351930701724, 0.40047351930701724, 0.40047351930701724, 0.40047351930701724, 0.40047351930701724, 0.40047351930701724, 0.40047351930701724, 0.40047351930701724, 0.40047351930701724, 1.0, 1.0, 1.0, 1.0, 1.0, 1.0, 1.0, 1.0, 1.0, 1.0, 1.0, 1.0, 1.0, 1.0, 1.0, 1.0, 1.0, 1.0, 1.0, 0.36425543578426045, 0.36425543578426045, 0.36425543578426045, 0.36425543578426045, 0.36425543578426045, 0.36425543578426045, 0.36425543578426045, 0.36425543578426045, 0.36425543578426045, 0.36425543578426045, 0.36425543578426045, 0.36425543578426045, 0.36425543578426045, 0.5198788319857094, 0.5198788319857094, 0.5198788319857094, 0.5198788319857094, 0.5198788319857094, 0.5198788319857094, 0.5198788319857094, 0.5198788319857094, 0.5198788319857094, 0.5198788319857094, 0.5198788319857094, 0.5198788319857094, 0.5198788319857094, 0.5198788319857094, 0.5198788319857094, 0.5198788319857094, 0.5198788319857094, 0.5198788319857094, 0.5198788319857094, 0.5198788319857094, 0.5198788319857094, 0.5198788319857094, 0.5198788319857094, 0.3640805833455415, 0.3640805833455415, 0.5324540303487125, 0.5324540303487125, 0.5324540303487125, 0.5324540303487125, 0.5324540303487125, 0.5324540303487125, 0.5324540303487125, 0.5324540303487125, 0.5324540303487125, 0.5324540303487125, 0.5324540303487125, 0.5324540303487125, 0.5324540303487125, 0.5324540303487125, 0.5324540303487125, 0.16673834041406949, 0.16673834041406949, 0.16673834041406949, 0.588992802695563, 0.588992802695563, 0.588992802695563, 0.588992802695563, 0.588992802695563, 0.588992802695563, 0.588992802695563, 0.588992802695563, 0.588992802695563, 0.588992802695563, 0.588992802695563, 0.588992802695563, 0.588992802695563, 0.588992802695563, 0.588992802695563, 0.588992802695563, 0.588992802695563, 0.588992802695563, 0.588992802695563, 0.588992802695563, 0.588992802695563, 0.588992802695563, 0.588992802695563, 0.588992802695563, 0.588992802695563, 0.588992802695563, 0.588992802695563, 0.38754861606657626, 0.38754861606657626, 0.38754861606657626, 0.38754861606657626, 0.38754861606657626, 0.38754861606657626, 0.38754861606657626, 0.38754861606657626, 0.38754861606657626, 0.38754861606657626, 0.38754861606657626, 0.38754861606657626, 0.38754861606657626, 0.38754861606657626, 0.38754861606657626, 0.4184549660455467, 0.4184549660455467, 0.4184549660455467, 0.47855222180740714, 0.47855222180740714, 0.47855222180740714, 0.47855222180740714, 0.47855222180740714, 0.47855222180740714, 0.7714773140775116, 0.7714773140775116, 0.7714773140775116, 0.35570656925338007, 0.35570656925338007, 0.35570656925338007, 0.5072894563979452, 0.5072894563979452, 0.5072894563979452, 0.5072894563979452, 0.5072894563979452, 0.4795020958663938, 0.4795020958663938, 0.4795020958663938, 0.4795020958663938, 0.4795020958663938, 0.35904766855538806, 0.34740344128502365, 0.34740344128502365, 0.34740344128502365, 0.34740344128502365, 0.8245379406163312, 0.8245379406163312, 0.8245379406163312, 0.38360262184143246, 0.5066278525757655, 0.5066278525757655, 0.28888930895480774, 0.28888930895480774, 0.28888930895480774, 0.28888930895480774, 0.28888930895480774, 0.28888930895480774, 0.28888930895480774, 0.28888930895480774, 0.28888930895480774, 0.28888930895480774, 0.28888930895480774, 0.28888930895480774, 0.28888930895480774, 0.28888930895480774, 0.28888930895480774, 0.28888930895480774, 0.28888930895480774, 0.28888930895480774, 0.28888930895480774, 0.28888930895480774, 0.28888930895480774, 0.28888930895480774, 0.28888930895480774, 0.43666797412183905, 0.43666797412183905, 0.43666797412183905, 0.43666797412183905, 0.43666797412183905, 0.43666797412183905, 0.43666797412183905, 0.43666797412183905, 0.43666797412183905, 0.43666797412183905, 0.43666797412183905, 0.43666797412183905, 0.43666797412183905, 0.43666797412183905, 0.43666797412183905, 0.43666797412183905, 0.43666797412183905, 0.43666797412183905, 0.43666797412183905, 0.43666797412183905, 0.43666797412183905, 0.43666797412183905, 0.43666797412183905, 0.43666797412183905, 0.43666797412183905, 0.43666797412183905, 0.43666797412183905, 0.43666797412183905, 0.43666797412183905, 0.43666797412183905, 0.43666797412183905, 0.43666797412183905, 0.43666797412183905, 0.43666797412183905, 0.43666797412183905, 0.43666797412183905, 0.43666797412183905, 0.43666797412183905, 0.43666797412183905, 0.43666797412183905, 0.43666797412183905, 0.43666797412183905, 0.43666797412183905, 0.43666797412183905, 0.43666797412183905, 0.43666797412183905, 0.43666797412183905, 0.43666797412183905, 0.34750268185835065, 0.34750268185835065, 0.34750268185835065, 0.34750268185835065, 0.34750268185835065, 0.34750268185835065, 0.34750268185835065, 0.34750268185835065, 0.34750268185835065, 0.34750268185835065, 0.34750268185835065, 0.34750268185835065, 0.34750268185835065, 0.34750268185835065, 0.34750268185835065, 0.34750268185835065, 0.34750268185835065, 0.34750268185835065, 0.34750268185835065, 0.34750268185835065, 0.34750268185835065, 0.34750268185835065, 0.2698823762918996, 0.401314701309503, 0.3414348296606445, 0.23737399991493666, 0.23737399991493666, 0.23737399991493666, 0.23737399991493666, 0.23737399991493666, 0.23737399991493666, 0.23737399991493666, 0.23737399991493666, 0.23737399991493666, 0.23737399991493666, 0.23737399991493666, 0.23737399991493666, 0.23737399991493666, 0.23737399991493666, 0.23737399991493666, 0.23737399991493666, 0.23737399991493666, 0.3368366830964949, 0.3368366830964949, 0.3368366830964949, 0.3368366830964949, 0.3368366830964949, 0.3368366830964949, 0.3368366830964949, 0.3368366830964949, 0.3368366830964949, 0.3368366830964949, 0.3368366830964949, 0.3368366830964949, 0.3368366830964949, 0.3368366830964949, 0.3368366830964949, 0.3368366830964949, 0.3368366830964949, 0.3368366830964949, 0.3368366830964949, 0.3368366830964949, 0.3368366830964949, 0.3368366830964949, 0.3368366830964949, 0.3368366830964949, 0.3368366830964949, 0.3368366830964949, 0.3368366830964949, 0.3368366830964949, 0.3368366830964949, 0.3368366830964949, 0.3368366830964949, 0.3368366830964949, 0.3368366830964949, 0.3368366830964949, 0.3368366830964949, 0.2714891284314791, 0.2714891284314791, 0.2714891284314791, 0.2714891284314791, 0.2714891284314791, 0.2714891284314791, 0.2714891284314791, 0.2714891284314791, 0.2714891284314791, 0.2714891284314791, 0.2714891284314791, 0.2714891284314791, 0.2714891284314791, 0.2714891284314791, 0.2714891284314791, 0.2714891284314791, 0.2714891284314791, 0.2714891284314791, 0.2714891284314791, 0.2714891284314791, 0.2714891284314791, 0.2714891284314791, 0.2714891284314791, 0.2714891284314791, 0.2714891284314791, 0.2714891284314791, 0.2714891284314791, 0.2714891284314791, 0.2714891284314791, 0.2714891284314791, 0.2714891284314791, 0.4098115846829264, 0.38518101953149, 0.6219406730401168, 0.4121744554764256, 0.4121744554764256, 0.4121744554764256, 0.4121744554764256, 0.4121744554764256, 0.4121744554764256, 0.4121744554764256, 0.4121744554764256, 0.4121744554764256, 0.4121744554764256, 0.4121744554764256, 0.4121744554764256, 0.4121744554764256, 0.4121744554764256, 0.4121744554764256, 0.4121744554764256, 0.4121744554764256, 0.4121744554764256, 0.4121744554764256, 0.4121744554764256, 0.4121744554764256, 0.4121744554764256, 0.4121744554764256, 0.4121744554764256, 0.4121744554764256, 0.3534004073589248, 0.3534004073589248, 0.3534004073589248, 0.6025887612413579, 0.5620655271328453, 0.5927592187404008, 0.5927592187404008, 0.45943187134641106, 0.37402354364458645, 0.5026393266763387, 0.5026393266763387, 0.5026393266763387, 0.5026393266763387, 0.5026393266763387, 0.5026393266763387, 0.5026393266763387, 0.5026393266763387, 0.5026393266763387, 0.5026393266763387, 0.5026393266763387, 0.5026393266763387, 0.5026393266763387, 0.5026393266763387, 0.5026393266763387, 0.5026393266763387, 0.5026393266763387, 0.5026393266763387, 0.5026393266763387, 0.5026393266763387, 0.5026393266763387, 0.5026393266763387, 0.5026393266763387, 0.5026393266763387, 0.5026393266763387, 0.5026393266763387, 0.5026393266763387, 0.5026393266763387, 0.5026393266763387, 0.5026393266763387, 0.5026393266763387, 0.5026393266763387, 0.5026393266763387, 0.5026393266763387, 0.5026393266763387, 0.5026393266763387, 0.5026393266763387, 0.5026393266763387, 0.5026393266763387, 0.5026393266763387, 0.5026393266763387, 0.5026393266763387, 0.5026393266763387, 0.5026393266763387, 0.5544712604025387, 0.42252382955195245, 0.33800394126848354, 0.33800394126848354, 0.33800394126848354, 0.34841474998464134, 0.2997301601553824, 0.2997301601553824, 0.2997301601553824, 0.2997301601553824, 0.2997301601553824, 0.2997301601553824, 0.24702396423558767, 0.24702396423558767, 0.24702396423558767, 0.4060971517955455, 0.4060971517955455, 0.4060971517955455, 0.4060971517955455, 0.4060971517955455, 0.4060971517955455, 0.4060971517955455, 0.4060971517955455, 0.4060971517955455, 0.4060971517955455, 0.4060971517955455, 0.4060971517955455, 0.4060971517955455, 0.4060971517955455, 0.4060971517955455, 0.4060971517955455, 0.4060971517955455, 0.4060971517955455, 0.4060971517955455, 0.4060971517955455, 0.4060971517955455, 0.4060971517955455, 0.4060971517955455, 0.4060971517955455, 0.4060971517955455, 0.4060971517955455, 0.4060971517955455, 0.4060971517955455, 0.4060971517955455, 0.4060971517955455, 0.4060971517955455, 0.4060971517955455, 0.4060971517955455, 0.4060971517955455, 0.6818819793296063, 0.6818819793296063, 0.7952903259343973, 0.7952903259343973, 0.7952903259343973, 0.7952903259343973, 0.7952903259343973, 0.7952903259343973, 0.5534883061524429, 0.5534883061524429, 0.5534883061524429, 0.5534883061524429, 0.5534883061524429, 0.5534883061524429, 0.5534883061524429, 0.5534883061524429, 0.5534883061524429, 0.5534883061524429, 0.5534883061524429, 0.5534883061524429, 0.5534883061524429, 0.5534883061524429, 0.4826069080890519, 0.4826069080890519, 0.2950469502426668, 0.3629558568478358, 0.26285519855203276, 0.45300486278809304, 0.45300486278809304, 0.45300486278809304, 0.45300486278809304, 0.45300486278809304, 0.45300486278809304, 0.45300486278809304, 0.45300486278809304, 0.45300486278809304, 0.45300486278809304, 0.45300486278809304, 0.45300486278809304, 0.45300486278809304, 0.45300486278809304, 0.45300486278809304, 0.45300486278809304, 0.45300486278809304, 0.45300486278809304, 0.45300486278809304, 0.45300486278809304, 0.45300486278809304, 0.45300486278809304, 0.45300486278809304, 0.45300486278809304, 0.45300486278809304, 0.45300486278809304, 0.45300486278809304, 0.45300486278809304, 0.45300486278809304, 0.45300486278809304, 0.45300486278809304, 0.45300486278809304, 0.45300486278809304, 0.45300486278809304, 0.45300486278809304, 0.45300486278809304, 0.45300486278809304, 0.45300486278809304, 0.45300486278809304, 0.45300486278809304, 0.45300486278809304, 0.45300486278809304, 0.45300486278809304, 0.45300486278809304, 0.45300486278809304, 0.45300486278809304, 0.45300486278809304, 0.45300486278809304, 0.45300486278809304, 0.45300486278809304, 0.45300486278809304, 0.45300486278809304, 0.45300486278809304, 0.45300486278809304, 0.45300486278809304, 0.45300486278809304, 0.45300486278809304, 0.45300486278809304, 0.45300486278809304, 0.45300486278809304, 0.45300486278809304, 0.45300486278809304, 0.45300486278809304, 0.45300486278809304, 0.45300486278809304, 0.45300486278809304, 0.45300486278809304, 0.45300486278809304, 0.45300486278809304, 0.45300486278809304, 0.45300486278809304, 0.45300486278809304, 0.45300486278809304, 0.45300486278809304, 0.45300486278809304, 0.45300486278809304, 0.45300486278809304, 0.45300486278809304, 0.45300486278809304, 0.45300486278809304, 0.45300486278809304, 0.45300486278809304, 0.45300486278809304, 0.45300486278809304, 0.45300486278809304, 0.45300486278809304, 0.45300486278809304, 0.45300486278809304, 0.3598604961083518, 0.3598604961083518, 0.3598604961083518, 0.3598604961083518, 0.36624497299238684, 0.36624497299238684, 0.36624497299238684, 0.6301398346935593, 0.6301398346935593, 0.6301398346935593, 0.6301398346935593, 0.6301398346935593, 0.6301398346935593, 0.6301398346935593, 0.6301398346935593, 0.6301398346935593, 0.6301398346935593, 0.6301398346935593, 0.6301398346935593, 0.6301398346935593, 0.6301398346935593, 0.6301398346935593, 0.6301398346935593, 0.6301398346935593, 0.6301398346935593, 0.6301398346935593, 0.6301398346935593, 0.6301398346935593, 0.6301398346935593, 0.6301398346935593, 0.6301398346935593, 0.3829410180192527, 0.3765943470679136, 0.3765943470679136, 0.47629804307040885, 0.47629804307040885, 0.47629804307040885, 0.47629804307040885, 0.47629804307040885, 0.47629804307040885, 0.47629804307040885, 0.47629804307040885, 0.47629804307040885, 0.47629804307040885, 0.47629804307040885, 0.47629804307040885, 0.47629804307040885, 0.47629804307040885, 0.47629804307040885, 0.47629804307040885, 0.47629804307040885, 0.47629804307040885, 0.47629804307040885, 0.47629804307040885, 0.47629804307040885, 0.47629804307040885, 0.47629804307040885, 0.47629804307040885, 0.47629804307040885, 0.47629804307040885, 0.47629804307040885, 0.47629804307040885, 0.47629804307040885, 0.47629804307040885, 0.47629804307040885, 0.47629804307040885, 0.47629804307040885, 0.47629804307040885, 0.47629804307040885, 0.47629804307040885, 0.47629804307040885, 0.47629804307040885, 0.47629804307040885, 0.47629804307040885, 0.47629804307040885, 0.47629804307040885, 0.47629804307040885, 0.47629804307040885, 0.47629804307040885, 0.47629804307040885, 0.47629804307040885, 0.47629804307040885, 0.47629804307040885, 0.47629804307040885, 0.47629804307040885, 0.47629804307040885, 0.47629804307040885, 0.47629804307040885, 0.47629804307040885, 0.47629804307040885, 0.47629804307040885, 0.47629804307040885, 0.47629804307040885, 0.47629804307040885, 0.47629804307040885, 0.47629804307040885, 0.47629804307040885, 0.47629804307040885, 0.47629804307040885, 0.47629804307040885, 0.47629804307040885, 0.47629804307040885, 0.47629804307040885, 0.47629804307040885, 0.47629804307040885, 0.47629804307040885, 0.47629804307040885, 0.47629804307040885, 0.47629804307040885, 0.47629804307040885, 0.47629804307040885, 0.47629804307040885, 0.47629804307040885, 0.47629804307040885, 0.47629804307040885, 0.47629804307040885, 0.47629804307040885, 0.47629804307040885, 0.47629804307040885, 0.47629804307040885, 0.4867844636519586, 0.4867844636519586, 0.4867844636519586, 0.4867844636519586, 0.4867844636519586, 0.4867844636519586, 0.4867844636519586, 0.4867844636519586, 0.4867844636519586, 0.4867844636519586, 0.4867844636519586, 0.4867844636519586, 0.4867844636519586, 0.4867844636519586, 0.4867844636519586, 0.4867844636519586, 0.4867844636519586, 0.4867844636519586, 0.4867844636519586, 0.4867844636519586, 0.4867844636519586, 0.4867844636519586, 0.4867844636519586, 0.4867844636519586, 0.4867844636519586, 0.4867844636519586, 0.4867844636519586, 0.4867844636519586, 0.4867844636519586, 0.4867844636519586, 0.4867844636519586, 0.4867844636519586, 0.4867844636519586, 0.4867844636519586, 0.4867844636519586, 0.4867844636519586, 0.4867844636519586, 0.4867844636519586, 0.4867844636519586, 0.4867844636519586, 0.4867844636519586, 0.4867844636519586, 0.4867844636519586, 0.4867844636519586, 0.4867844636519586, 0.724711375332574, 0.724711375332574, 0.724711375332574, 0.724711375332574, 0.724711375332574, 0.724711375332574, 0.724711375332574, 0.724711375332574, 0.724711375332574, 0.724711375332574, 0.724711375332574, 0.724711375332574, 0.724711375332574, 0.724711375332574, 0.724711375332574, 0.724711375332574, 0.724711375332574, 0.724711375332574, 0.724711375332574, 0.724711375332574, 0.724711375332574, 0.724711375332574, 0.724711375332574, 0.724711375332574, 0.724711375332574, 0.724711375332574, 0.724711375332574, 0.724711375332574, 0.724711375332574, 0.724711375332574, 0.724711375332574, 0.724711375332574, 0.724711375332574, 0.724711375332574, 0.724711375332574, 0.724711375332574, 0.724711375332574, 0.724711375332574, 0.724711375332574, 0.724711375332574, 0.724711375332574, 0.724711375332574, 0.724711375332574, 0.724711375332574, 0.724711375332574, 0.724711375332574, 0.724711375332574, 0.724711375332574, 0.724711375332574, 0.724711375332574, 0.724711375332574, 0.724711375332574, 0.5650332928494805, 0.5650332928494805, 0.5650332928494805, 0.5650332928494805, 0.5650332928494805, 0.5650332928494805, 0.5650332928494805, 0.5650332928494805, 0.5650332928494805, 0.5650332928494805, 0.5650332928494805, 0.5650332928494805, 0.5650332928494805, 0.5650332928494805, 0.40601681418856655, 0.40601681418856655, 0.40601681418856655, 0.40601681418856655, 0.46483811972193734, 0.46483811972193734, 0.46483811972193734, 0.46483811972193734, 0.46483811972193734, 0.46483811972193734, 0.46483811972193734, 0.46483811972193734, 0.46483811972193734, 0.46483811972193734, 0.43030712594573906, 0.6690374136961442, 0.6690374136961442, 0.6690374136961442, 0.47583492039488295, 0.30849168505767766, 0.4550794633447854, 0.4653532255549202, 0.4653532255549202, 0.4653532255549202, 0.3957808579111277, 0.25901317064180296, 0.25901317064180296, 0.25901317064180296, 0.35855146568875323, 0.35855146568875323, 0.35855146568875323, 0.35855146568875323, 0.35855146568875323, 0.35855146568875323, 0.35855146568875323, 0.35855146568875323, 0.35855146568875323, 0.35855146568875323, 0.35855146568875323, 0.35855146568875323, 0.35855146568875323, 0.35855146568875323, 0.35855146568875323, 0.35855146568875323, 0.35855146568875323, 0.35855146568875323, 0.35855146568875323, 0.35855146568875323, 0.35855146568875323, 0.35855146568875323, 0.35855146568875323, 0.35855146568875323, 0.35855146568875323, 0.35855146568875323, 0.35855146568875323, 0.35855146568875323, 0.35855146568875323, 0.35855146568875323, 0.35855146568875323, 0.35855146568875323, 0.35855146568875323, 0.35855146568875323, 0.35855146568875323, 0.35855146568875323, 0.35855146568875323, 0.35855146568875323, 0.35855146568875323, 0.35855146568875323, 0.35855146568875323, 0.35855146568875323, 0.35855146568875323, 0.35855146568875323, 0.35855146568875323, 0.35855146568875323, 0.35855146568875323, 0.35855146568875323, 0.35855146568875323, 0.35855146568875323, 0.35855146568875323, 0.35855146568875323, 0.35855146568875323, 0.35855146568875323, 0.35855146568875323, 0.35855146568875323, 0.35855146568875323, 0.35855146568875323, 0.35855146568875323, 0.35855146568875323, 0.35855146568875323, 0.35855146568875323, 0.35855146568875323, 0.35855146568875323, 0.35855146568875323, 0.35855146568875323, 0.35855146568875323, 0.35855146568875323, 0.35855146568875323, 0.35855146568875323, 0.35855146568875323, 0.35855146568875323, 0.35855146568875323, 0.35855146568875323, 0.35855146568875323, 0.35855146568875323, 0.35855146568875323, 0.35855146568875323, 0.38049780961877444, 0.38049780961877444, 0.38049780961877444, 0.38049780961877444, 0.38049780961877444, 0.38049780961877444, 0.38049780961877444, 0.38049780961877444, 0.38049780961877444, 0.38049780961877444, 0.38049780961877444, 0.38049780961877444, 0.38049780961877444, 0.38049780961877444, 0.38049780961877444, 0.38049780961877444, 0.38049780961877444, 0.38049780961877444, 0.38049780961877444, 0.38049780961877444, 0.38049780961877444, 0.38049780961877444, 0.38049780961877444, 0.38049780961877444, 0.38049780961877444, 0.38049780961877444, 0.38049780961877444, 0.38049780961877444, 0.38049780961877444, 0.38049780961877444, 0.38049780961877444, 0.38049780961877444, 0.38049780961877444, 0.38049780961877444, 0.38049780961877444, 0.38049780961877444, 0.38049780961877444, 0.38049780961877444, 0.38049780961877444, 0.36037560194133467, 0.36037560194133467, 0.36037560194133467, 0.36037560194133467, 0.36037560194133467, 0.36037560194133467, 0.36037560194133467, 0.36037560194133467, 0.36037560194133467, 0.36037560194133467, 0.36037560194133467, 0.36037560194133467, 0.36037560194133467, 0.36037560194133467, 0.36037560194133467, 0.36037560194133467, 0.36037560194133467, 0.36037560194133467, 0.36037560194133467, 0.36037560194133467, 0.36037560194133467, 0.36037560194133467, 0.36037560194133467, 0.36037560194133467, 0.36037560194133467, 0.36037560194133467, 0.36037560194133467, 0.36037560194133467, 0.36037560194133467, 0.36037560194133467, 0.36037560194133467, 0.36037560194133467, 0.36037560194133467, 0.36037560194133467, 0.36037560194133467, 0.36037560194133467, 0.36037560194133467, 0.36037560194133467, 0.36037560194133467, 0.36037560194133467, 0.36037560194133467, 0.36037560194133467, 0.36037560194133467, 0.36037560194133467, 0.36037560194133467, 0.36037560194133467, 0.36037560194133467, 0.36037560194133467, 0.36037560194133467, 0.36037560194133467, 0.36037560194133467, 0.36037560194133467, 0.36037560194133467, 0.36037560194133467, 0.36037560194133467, 0.36037560194133467, 0.36037560194133467, 0.36037560194133467, 0.36037560194133467, 0.36037560194133467, 0.36037560194133467, 0.36037560194133467, 0.36037560194133467, 0.36037560194133467, 0.36037560194133467, 0.36037560194133467, 0.36037560194133467, 0.36037560194133467, 0.36037560194133467, 0.36037560194133467, 0.36037560194133467, 0.36037560194133467, 0.36037560194133467, 0.36037560194133467, 0.36037560194133467, 0.36037560194133467, 0.36037560194133467, 0.36037560194133467, 0.36037560194133467, 0.36037560194133467, 0.36037560194133467, 0.36037560194133467, 0.36037560194133467, 0.36037560194133467, 0.36037560194133467, 0.36037560194133467, 0.36037560194133467, 0.36037560194133467, 0.36037560194133467, 0.36037560194133467, 0.36037560194133467, 0.36037560194133467, 0.36037560194133467, 0.36037560194133467, 0.36037560194133467, 0.36037560194133467, 0.36037560194133467, 0.36037560194133467, 0.36037560194133467, 0.36037560194133467, 0.36037560194133467, 0.36037560194133467, 0.36037560194133467, 0.36037560194133467, 0.36037560194133467, 0.36037560194133467, 0.36037560194133467, 0.36037560194133467, 0.36037560194133467, 0.36037560194133467, 0.36037560194133467, 0.36037560194133467, 0.36037560194133467, 0.36037560194133467, 0.36037560194133467, 0.36037560194133467, 0.36037560194133467, 0.36037560194133467, 0.36037560194133467, 0.36037560194133467, 0.36037560194133467, 0.36037560194133467, 0.36037560194133467, 0.36037560194133467, 0.36037560194133467, 0.36037560194133467, 0.36037560194133467, 0.36037560194133467, 0.36037560194133467, 0.36037560194133467, 0.36037560194133467, 0.36037560194133467, 0.36037560194133467, 0.36037560194133467, 0.36037560194133467, 0.36037560194133467, 0.36037560194133467, 0.36037560194133467, 0.36037560194133467, 0.36037560194133467, 0.36037560194133467, 0.36037560194133467, 0.36037560194133467, 0.36037560194133467, 0.36037560194133467, 0.36037560194133467, 0.36037560194133467, 0.36037560194133467, 0.36037560194133467, 0.36037560194133467, 0.36037560194133467, 0.36037560194133467, 0.36037560194133467, 0.36037560194133467, 0.36037560194133467, 0.36037560194133467, 0.36037560194133467, 0.36037560194133467, 0.36037560194133467, 0.36037560194133467, 0.36037560194133467, 0.36037560194133467, 0.21089094406139683, 0.21089094406139683, 0.21089094406139683, 0.21089094406139683, 0.21089094406139683, 0.21089094406139683, 0.21089094406139683, 0.21089094406139683, 0.21089094406139683, 0.21089094406139683, 0.21089094406139683, 0.21089094406139683, 0.21089094406139683, 0.21089094406139683, 0.21089094406139683, 0.21089094406139683, 0.21089094406139683, 0.21089094406139683, 0.21089094406139683, 0.21089094406139683, 0.21207237945814647, 0.21207237945814647, 0.21207237945814647, 0.21207237945814647, 0.21207237945814647, 0.21207237945814647, 0.21207237945814647, 0.21207237945814647, 0.21207237945814647, 0.21207237945814647, 0.21207237945814647, 0.19050882059667212, 0.19050882059667212, 0.19050882059667212, 0.19050882059667212, 0.19050882059667212, 0.19050882059667212, 0.19050882059667212, 0.19050882059667212, 0.19050882059667212, 0.19050882059667212, 0.19050882059667212, 0.19050882059667212, 0.19050882059667212, 0.19050882059667212, 0.15107723279475632, 0.15107723279475632, 0.15107723279475632, 0.15107723279475632, 0.15107723279475632, 0.3018709210942927, 0.3018709210942927, 0.3018709210942927, 0.3018709210942927, 0.3018709210942927, 0.3018709210942927, 0.3018709210942927, 0.3018709210942927, 0.3018709210942927, 0.3018709210942927, 0.2161790488972482, 0.2161790488972482, 0.2161790488972482, 0.22242175353367327, 0.45100114835520566, 0.45100114835520566, 0.45100114835520566, 0.45100114835520566, 0.45100114835520566, 0.45100114835520566, 0.45100114835520566, 0.45100114835520566, 0.45100114835520566, 0.45100114835520566, 0.45100114835520566, 0.45100114835520566, 0.45100114835520566, 0.45100114835520566, 0.45100114835520566, 0.45100114835520566, 0.45100114835520566, 0.45100114835520566, 0.45100114835520566, 0.45100114835520566, 0.45100114835520566, 0.45100114835520566, 0.45100114835520566, 0.45100114835520566, 0.45100114835520566, 0.45100114835520566, 0.45100114835520566, 0.45100114835520566, 0.45100114835520566, 0.45100114835520566, 0.45100114835520566, 0.45100114835520566, 0.45100114835520566, 0.45100114835520566, 0.45100114835520566, 0.45100114835520566, 0.45100114835520566, 0.45100114835520566, 0.45100114835520566, 0.45100114835520566, 0.45100114835520566, 0.45100114835520566, 0.45100114835520566, 0.45100114835520566, 0.45100114835520566, 0.45100114835520566, 0.45100114835520566, 0.45100114835520566, 0.45100114835520566, 0.45100114835520566, 0.45100114835520566, 0.45100114835520566, 0.45100114835520566, 0.45100114835520566, 0.45100114835520566, 0.45100114835520566, 0.45100114835520566, 0.45100114835520566, 0.45100114835520566, 0.45100114835520566, 0.45100114835520566, 0.45100114835520566, 0.45100114835520566, 0.45100114835520566, 0.45100114835520566, 0.45100114835520566, 0.45100114835520566, 0.45100114835520566, 0.45100114835520566, 0.45100114835520566, 0.45100114835520566, 0.45100114835520566, 0.45100114835520566, 0.45100114835520566, 0.45100114835520566, 0.45100114835520566, 0.45100114835520566, 0.45100114835520566, 0.45100114835520566, 0.45100114835520566, 0.45100114835520566, 0.45100114835520566, 0.45100114835520566, 0.45100114835520566, 0.45100114835520566, 0.45100114835520566, 0.45100114835520566, 0.45100114835520566, 0.45100114835520566, 0.45100114835520566, 0.45100114835520566, 0.45100114835520566, 0.45100114835520566, 0.45100114835520566, 0.45100114835520566, 0.45100114835520566, 0.45100114835520566, 0.45100114835520566, 0.45100114835520566, 0.45100114835520566, 0.45100114835520566, 0.45100114835520566, 0.45100114835520566, 0.45100114835520566, 0.45100114835520566, 0.45100114835520566, 0.45100114835520566, 0.45100114835520566, 0.45100114835520566, 0.45100114835520566, 0.45100114835520566, 0.45100114835520566, 0.45100114835520566, 0.45100114835520566, 0.45100114835520566, 0.45100114835520566, 0.45100114835520566, 0.45100114835520566, 0.45100114835520566, 0.45100114835520566, 0.45100114835520566, 0.45100114835520566, 0.45100114835520566, 0.45100114835520566, 0.45100114835520566, 0.45100114835520566, 0.45100114835520566, 0.45100114835520566, 0.45100114835520566, 0.45100114835520566, 0.45100114835520566, 0.45100114835520566, 0.45100114835520566, 0.45100114835520566, 0.45100114835520566, 0.45100114835520566, 0.45100114835520566, 0.45100114835520566, 0.45100114835520566, 0.45100114835520566, 0.45100114835520566, 0.45100114835520566, 0.45100114835520566, 0.45100114835520566, 0.45100114835520566, 0.45100114835520566, 0.45100114835520566, 0.45100114835520566, 0.45100114835520566, 0.45100114835520566, 0.45100114835520566, 0.45100114835520566, 0.45100114835520566, 0.45100114835520566, 0.45100114835520566, 0.45100114835520566, 0.45100114835520566, 0.45100114835520566, 0.45100114835520566, 0.45100114835520566, 0.45100114835520566, 0.45100114835520566, 0.45100114835520566, 0.45100114835520566, 0.45100114835520566, 0.45100114835520566, 0.45100114835520566, 0.45100114835520566, 0.45100114835520566, 0.45100114835520566, 0.45100114835520566, 0.45100114835520566, 0.45100114835520566, 0.45100114835520566, 0.45100114835520566, 0.45100114835520566, 0.45100114835520566, 0.45100114835520566, 0.45100114835520566, 0.45100114835520566, 0.45100114835520566, 0.45100114835520566, 0.45100114835520566, 0.45100114835520566, 0.45100114835520566, 0.45100114835520566, 0.45100114835520566, 0.45100114835520566, 0.45100114835520566, 0.45100114835520566, 0.45100114835520566, 0.45100114835520566, 0.45100114835520566, 0.45100114835520566, 0.45100114835520566, 0.45100114835520566, 0.45100114835520566, 0.45100114835520566, 0.45100114835520566, 0.45100114835520566, 0.45100114835520566, 0.45100114835520566, 0.45100114835520566, 0.45100114835520566, 0.45100114835520566, 0.45100114835520566, 0.45100114835520566, 0.45100114835520566, 0.45100114835520566, 0.45100114835520566, 0.45100114835520566, 0.45100114835520566, 0.4482696697179205, 0.4482696697179205, 0.4482696697179205, 0.4482696697179205, 0.4482696697179205, 0.4482696697179205, 0.4482696697179205, 0.4482696697179205, 0.4482696697179205, 0.4482696697179205, 0.4482696697179205, 0.4482696697179205, 0.4482696697179205, 0.4482696697179205, 0.4482696697179205, 0.4482696697179205, 0.4482696697179205, 0.4482696697179205, 0.4482696697179205, 0.4482696697179205, 0.4482696697179205, 0.4482696697179205, 0.4482696697179205, 0.4482696697179205, 0.4482696697179205, 0.4482696697179205, 0.4482696697179205, 0.4482696697179205, 0.4482696697179205, 0.4482696697179205, 0.4482696697179205, 0.4482696697179205, 0.4482696697179205, 0.4482696697179205, 0.4482696697179205, 0.4482696697179205, 0.4482696697179205, 0.4482696697179205, 0.4482696697179205, 0.4482696697179205, 0.4482696697179205, 0.4482696697179205, 0.4482696697179205, 0.4482696697179205, 0.4482696697179205, 0.4482696697179205, 0.4482696697179205, 0.4482696697179205, 0.4482696697179205, 0.4482696697179205, 0.4482696697179205, 0.4482696697179205, 0.4482696697179205, 0.4482696697179205, 0.4482696697179205, 0.4482696697179205, 0.4482696697179205, 0.4482696697179205, 0.4482696697179205, 0.4482696697179205, 0.4482696697179205, 0.4482696697179205, 0.4482696697179205, 0.4482696697179205, 0.4482696697179205, 0.4482696697179205, 0.2530918164332938, 0.2530918164332938, 0.3028207951532794, 0.3028207951532794, 0.3028207951532794, 0.3028207951532794, 0.3028207951532794, 0.3028207951532794, 0.3028207951532794, 0.24032758840681073, 0.4282703313217427, 0.4282703313217427, 0.4282703313217427, 0.4282703313217427, 0.4282703313217427, 0.4282703313217427, 0.4282703313217427, 0.4282703313217427, 0.4282703313217427, 0.4282703313217427, 0.4282703313217427, 0.4282703313217427, 0.4282703313217427, 0.4282703313217427, 0.4282703313217427, 0.4282703313217427, 0.4282703313217427, 0.4282703313217427, 0.4282703313217427, 0.4282703313217427, 0.4282703313217427, 0.4282703313217427, 0.22895745414849225, 0.22895745414849225, 0.22895745414849225, 0.22895745414849225, 0.22895745414849225, 0.40755268020434104, 0.40755268020434104, 0.35323028066179285, 0.35323028066179285, 0.35323028066179285, 0.35323028066179285, 0.35323028066179285, 0.35323028066179285, 0.35323028066179285, 0.35323028066179285, 0.35323028066179285, 0.35323028066179285, 0.35323028066179285, 0.35323028066179285, 0.35323028066179285, 0.35323028066179285, 0.35323028066179285, 0.35323028066179285, 0.35323028066179285, 0.35323028066179285, 0.35323028066179285, 0.35323028066179285, 0.35323028066179285, 0.35323028066179285, 0.35323028066179285, 0.35323028066179285, 0.35323028066179285, 0.35323028066179285, 0.35323028066179285, 0.35323028066179285, 0.35323028066179285, 0.35323028066179285, 0.36415619521093345, 0.36415619521093345, 0.36415619521093345, 0.36415619521093345, 0.36415619521093345, 0.36415619521093345, 0.36415619521093345, 0.36415619521093345, 0.36415619521093345, 0.36415619521093345, 0.36415619521093345, 0.36415619521093345, 0.36415619521093345, 0.36415619521093345, 0.36415619521093345, 0.36415619521093345, 0.36415619521093345, 0.36415619521093345, 0.36415619521093345, 0.36415619521093345, 0.36415619521093345, 0.36415619521093345, 0.36415619521093345, 0.36415619521093345, 0.36415619521093345, 0.36415619521093345, 0.36415619521093345, 0.36415619521093345, 0.36415619521093345, 0.36415619521093345, 0.36415619521093345, 0.36415619521093345, 0.300991933159111, 0.300991933159111, 0.300991933159111, 0.300991933159111, 0.300991933159111, 0.300991933159111, 0.300991933159111, 0.35555061978100916, 0.35555061978100916, 0.35555061978100916, 0.35555061978100916, 0.35555061978100916, 0.35555061978100916, 0.35555061978100916, 0.3254949032876984, 0.3566706205371278, 0.3566706205371278, 0.3566706205371278, 0.22314479199648404, 0.22314479199648404, 0.22314479199648404, 0.22314479199648404, 0.22314479199648404, 0.22314479199648404, 0.2735590032465845, 0.2735590032465845, 0.2735590032465845, 0.2735590032465845, 0.2735590032465845, 0.2735590032465845, 0.2735590032465845, 0.2735590032465845, 0.36836210522336216, 0.36836210522336216, 0.40578997859239063, 0.40578997859239063, 0.40578997859239063, 0.40578997859239063, 0.40578997859239063, 0.40578997859239063, 0.40578997859239063, 0.40578997859239063, 0.2443113885646505, 0.2443113885646505, 0.2443113885646505, 0.2443113885646505, 0.2443113885646505, 0.2443113885646505, 0.2443113885646505, 0.40916415808550755, 0.40916415808550755, 0.40916415808550755, 0.40916415808550755, 0.40916415808550755, 0.40916415808550755, 0.40916415808550755, 0.40916415808550755, 0.40916415808550755, 0.40916415808550755, 0.2417831168156063, 0.2417831168156063, 0.2417831168156063, 0.2417831168156063, 0.2417831168156063, 0.2417831168156063, 0.27067157513692836, 0.27067157513692836, 0.27067157513692836, 0.3640616803791935, 0.3640616803791935, 0.3662733274419088, 0.3662733274419088, 0.3718591539977411, 0.3718591539977411, 0.3718591539977411, 0.3718591539977411, 0.3718591539977411, 0.3718591539977411, 0.20450646717736182, 0.20828233470537363, 0.20828233470537363, 0.20828233470537363, 0.20929364340499132, 0.35682657000949874, 0.35682657000949874, 0.2793007792747877, 0.17977666145259844, 0.17977666145259844, 0.3178533791415218, 0.3178533791415218, 0.3178533791415218, 0.3178533791415218, 0.3178533791415218, 0.3178533791415218, 0.3178533791415218, 0.3178533791415218, 0.3178533791415218, 0.3178533791415218, 0.3178533791415218, 0.3178533791415218, 0.3178533791415218, 0.3178533791415218, 0.3178533791415218, 0.3178533791415218, 0.3178533791415218, 0.3178533791415218, 0.3178533791415218, 0.3178533791415218, 0.3178533791415218, 0.3178533791415218, 0.3178533791415218, 0.3178533791415218, 0.29142230644543893, 0.29142230644543893, 0.29142230644543893, 0.29142230644543893, 0.29142230644543893, 0.29142230644543893, 0.29142230644543893, 0.29142230644543893, 0.29142230644543893, 0.23996370630461186, 0.23996370630461186, 0.23996370630461186, 0.23996370630461186, 0.23996370630461186, 0.23996370630461186, 0.23996370630461186, 0.23996370630461186, 0.23996370630461186, 0.23996370630461186, 0.23996370630461186, 0.23996370630461186, 0.23996370630461186, 0.23996370630461186, 0.23996370630461186, 0.23996370630461186, 0.23996370630461186, 0.23996370630461186, 0.23996370630461186, 0.23996370630461186, 0.23996370630461186, 0.33252208102756525, 0.33252208102756525, 0.33252208102756525, 0.33252208102756525, 0.33252208102756525, 0.33252208102756525, 0.33252208102756525, 0.33252208102756525, 0.33252208102756525, 0.33252208102756525, 0.33252208102756525, 0.33252208102756525, 0.33252208102756525, 0.33252208102756525, 0.33252208102756525, 0.33252208102756525, 0.33252208102756525, 0.33252208102756525, 0.33252208102756525, 0.3158638419333954, 0.3158638419333954, 0.3158638419333954, 0.3158638419333954, 0.3158638419333954, 0.3158638419333954, 0.2837666050745013, 0.24581890013090305, 0.24581890013090305, 0.2853922601804288, 0.47363272481534163, 0.20915659689896837, 0.20915659689896837, 0.20915659689896837, 0.20915659689896837, 0.20915659689896837, 0.20915659689896837, 0.20915659689896837, 0.20915659689896837, 0.20915659689896837, 0.20915659689896837, 0.20915659689896837, 0.20915659689896837, 0.20915659689896837, 0.20915659689896837, 0.20915659689896837, 0.20915659689896837, 0.20915659689896837, 0.2000264641528872, 0.2000264641528872, 0.2000264641528872, 0.2000264641528872, 0.2000264641528872, 0.2000264641528872, 0.2000264641528872, 0.2000264641528872, 0.2000264641528872, 0.2000264641528872, 0.2000264641528872, 0.2000264641528872, 0.2000264641528872, 0.2000264641528872, 0.2000264641528872, 0.2000264641528872, 0.2000264641528872, 0.2000264641528872, 0.2000264641528872, 0.19367979320154816, 0.19367979320154816, 0.19367979320154816, 0.19367979320154816, 0.19367979320154816, 0.19367979320154816, 0.19367979320154816, 0.19367979320154816, 0.19367979320154816, 0.19367979320154816, 0.19367979320154816, 0.19367979320154816, 0.19367979320154816, 0.19367979320154816, 0.19367979320154816, 0.19367979320154816, 0.19367979320154816, 0.19367979320154816, 0.19367979320154816, 0.19367979320154816, 0.19367979320154816, 0.3284484917795725, 0.3284484917795725, 0.3284484917795725, 0.3284484917795725, 0.3284484917795725, 0.3284484917795725, 0.3284484917795725, 0.3284484917795725, 0.2808839027064322, 0.2808839027064322, 0.2808839027064322, 0.2808839027064322, 0.2808839027064322, 0.2808839027064322, 0.2808839027064322, 0.2808839027064322, 0.2808839027064322, 0.2808839027064322, 0.2808839027064322, 0.2808839027064322, 0.2808839027064322, 0.2808839027064322, 0.2808839027064322, 0.2808839027064322, 0.2808839027064322, 0.24330480560661982, 0.24330480560661982, 0.24330480560661982, 0.24330480560661982, 0.24330480560661982, 0.24330480560661982, 0.24251088102000407, 0.24251088102000407, 0.2511495366410374, 0.2511495366410374, 0.323609332394486, 0.323609332394486, 0.323609332394486, 0.323609332394486, 0.323609332394486, 0.2677699698025113, 0.2677699698025113, 0.2677699698025113, 0.2677699698025113, 0.2677699698025113, 0.2677699698025113, 0.2677699698025113, 0.2677699698025113, 0.2677699698025113, 0.2677699698025113, 0.2677699698025113, 0.2677699698025113, 0.2677699698025113, 0.2677699698025113, 0.2677699698025113, 0.2677699698025113, 0.2677699698025113, 0.2677699698025113, 0.2677699698025113, 0.2677699698025113, 0.2677699698025113, 0.2677699698025113, 0.2677699698025113, 0.2677699698025113, 0.2677699698025113, 0.36002589706389676, 0.36002589706389676, 0.36002589706389676, 0.36002589706389676, 0.36002589706389676, 0.36002589706389676, 0.36002589706389676, 0.36002589706389676, 0.36002589706389676, 0.36002589706389676, 0.36002589706389676, 0.22677416153529892, 0.48697821905702554, 0.48697821905702554, 0.17360956868156535], \"type\": \"scatter\", \"mode\": \"markers\"}], {\"yaxis\": {\"title\": \"Time Enrolled\"}, \"xaxis\": {\"title\": \"Median Income\"}, \"title\": \"Median Income vs Time Enrolled\"}, {\"linkText\": \"Export to plot.ly\", \"showLink\": true})});</script>"
      ],
      "text/plain": [
       "<IPython.core.display.HTML object>"
      ]
     },
     "metadata": {},
     "output_type": "display_data"
    }
   ],
   "source": [
    "trace1 = Scatter(x=studentsshortnew['median_income'],y=studentsshortnew['time_enrolled'], mode='markers')\n",
    "data = [trace1]\n",
    "layout = Layout(xaxis=dict(title = 'Median Income'),\n",
    "                 yaxis=dict(title='Time Enrolled'),\n",
    "                title='Median Income vs Time Enrolled')\n",
    "\n",
    "\n",
    "fig1 = Figure(data=data, layout=layout)\n",
    "iplot(fig1)\n"
   ]
  },
  {
   "cell_type": "code",
   "execution_count": 437,
   "metadata": {
    "collapsed": false
   },
   "outputs": [
    {
     "data": {
      "text/plain": [
       "2233"
      ]
     },
     "execution_count": 437,
     "metadata": {},
     "output_type": "execute_result"
    }
   ],
   "source": [
    "len(studentsshortnew)"
   ]
  },
  {
   "cell_type": "code",
   "execution_count": 240,
   "metadata": {
    "collapsed": false
   },
   "outputs": [
    {
     "data": {
      "text/html": [
       "<div id=\"fa133c8e-18ff-4f7d-a9c2-3f5a93bfb0d9\" style=\"height: 525px; width: 100%;\" class=\"plotly-graph-div\"></div><script type=\"text/javascript\">require([\"plotly\"], function(Plotly) { window.PLOTLYENV=window.PLOTLYENV || {};window.PLOTLYENV.BASE_URL=\"https://plot.ly\";Plotly.newPlot(\"fa133c8e-18ff-4f7d-a9c2-3f5a93bfb0d9\", [{\"y\": [90, 241, 85, 83, 149, 47, 57, 205, 225, 234, 469, 38, 23, 445, 82, 59, 54, 17, 40, 240, 522, 98, 161, 426, 23, 263, 264, 424, 53, 41, 598, 212, 77, 464, 12, 18, 41, 187, 210, 229, 272, 207, 68, 53, 453, 271, 133, 119, 107, 416, 348, 76, 229, 232, 97, 113, 142, 167, 12, 13, 140, 147, 101, 351, 327, 86, 85, 84, 609, 109, 98, 31, 552, 148, 148, 51, 27, 74, 41, 193, 77, 537, 433, 878, 334, 732, 338, 74, 557, 47, 88, 36, 259, 74, 93, 196, 197, 49, 1050, 505, 77, 77, 785, 480, 77, 263, 270, 229, 52, 40, 113, 52, 182, 112, 57, 141, 42, 1188, 175, 1085, 389, 490, 478, 588, 154, 160, 551, 150, 42, 678, 40, 241, 155, 13, 292, 231, 1506, 1343, 451, 224, 288, 65, 85, 50, 401, 91, 395, 287, 159, 389, 363, 651, 150, 112, 116, 115, 806, 663, 299, 678, 663, 679, 244, 425, 1285, 505, 146, 99, 659, 657, 786, 191, 59, 59, 69, 110, 286, 34, 18, 821, 191, 173, 1049, 772, 160, 175, 1059, 203, 357, 14, 224, 37, 14, 131, 134, 210, 32, 53, 209, 288, 558, 267, 14, 34, 173, 1134, 37, 133, 336, 735, 117, 732, 293, 162, 111, 961, 105, 537, 61, 114, 176, 826, 28, 951, 537, 118, 82, 208, 318, 615, 157, 77, 343, 236, 660, 270, 270, 137, 122, 224, 235, 261, 221, 1165, 762, 289, 126, 425, 16, 103, 294, 126, 180, 426, 294, 180, 146, 236, 307, 80, 257, 196, 699, 210, 340, 116, 233, 1363, 97, 257, 108, 104, 823, 1442, 14, 457, 440, 616, 1362, 41, 54, 616, 475, 635, 210, 658, 152, 1071, 31, 3, 196, 398, 585, 279, 137, 197, 173, 175, 312, 224, 373, 232, 124, 231, 105, 173, 40, 431, 208, 322, 143, 87, 25, 697, 312, 697, 87, 324, 62, 104, 827, 399, 574, 201, 596, 623, 156, 496, 13, 453, 576, 911, 212, 1267, 392, 136, 392, 709, 102, 227, 210, 196, 806, 105, 1185, 211, 984, 211, 68, 114, 171, 211, 249, 307, 44, 155, 357, 602, 57, 1088, 73, 307, 89, 196, 489, 89, 114, 905, 157, 905, 18, 805, 574, 66, 260, 881, 196, 714, 441, 326, 504, 842, 13, 87, 1763, 1296, 180, 80, 545, 209, 30, 77, 675, 538, 504, 48, 537, 305, 140, 139, 77, 337, 305, 161, 440, 455, 378, 21, 261, 448, 290, 67, 546, 637, 196, 546, 285, 84, 196, 106, 906, 245, 247, 189, 146, 149, 191, 91, 254, 193, 174, 245, 24, 244, 246, 89, 253, 245, 121, 64, 72, 254, 260, 150, 143, 141, 260, 101, 30, 253, 266, 19, 37, 255, 25, 269, 53, 73, 257, 181, 247, 45, 14, 230, 219, 206, 36, 272, 19, 19, 23, 36, 6, 257, 274, 171, 159, 157, 30, 26, 176, 155, 262, 92, 77, 61, 260, 255, 273, 62, 197, 77, 289, 92, 153, 32, 31, 168, 153, 122, 245, 249, 222, 269, 123, 6, 245, 19, 0, 0, 0, 249, 59, 87, 249, 252, 31, 252, 78, 122, 12, 247, 266, 63, 176, 51, 473, 103, 39, 76, 285, 42, 42, 106, 58, 84, 86, 107, 111, 122, 201, 80, 168, 141, 270, 177, 377, 77, 196, 73, 289, 83, 179, 181, 60, 81, 74, 41, 324, 324, 102, 102, 5, 173, 236, 353, 23, 23, 42, 56, 578, 114, 55, 23, 212, 212, 69, 212, 222, 25, 35, 73, 71, 220, 240, 474, 40, 42, 111, 76, 172, 172, 301, 52, 69, 114, 288, 241, 134, 39, 368, 117, 220, 53, 54, 86, 117, 454, 454, 77, 140, 46, 228, 228, 53, 502, 513, 38, 38, 257, 248, 178, 368, 96, 492, 163, 748, 404, 790, 105, 188, 28, 92, 104, 49, 79, 87, 137, 104, 133, 307, 185, 27, 412, 103, 83, 105, 23, 329, 48, 748, 452, 0, 474, 417, 563, 342, 188, 309, 34, 829, 179, 39, 48, 333, 124, 72, 137, 406, 220, 22, 425, 19, 138, 285, 128, 164, 252, 1, 360, 126, 14, 836, 97, 83, 305, 305, 25, 154, 47, 153, 76, 216, 882, 315, 563, 333, 43, 9, 132, 84, 139, 351, 398, 426, 177, 398, 266, 489, 168, 190, 665, 426, 305, 1033, 211, 63, 629, 456, 570, 1144, 426, 304, 46, 265, 55, 230, 279, 48, 90, 104, 88, 350, 69, 214, 21, 400, 753, 66, 45, 140, 55, 188, 174, 135, 265, 19, 87, 142, 110, 111, 184, 110, 358, 50, 50, 81, 267, 267, 134, 122, 107, 23, 273, 212, 9, 7, 172, 172, 13, 242, 50, 297, 261, 293, 292, 167, 27, 29, 83, 128, 238, 38, 46, 57, 273, 216, 240, 316, 43, 261, 730, 157, 28, 406, 381, 301, 144, 129, 175, 169, 93, 84, 275, 371, 197, 112, 328, 177, 49, 58, 406, 500, 91, 616, 106, 106, 157, 57, 195, 485, 97, 112, 169, 45, 485, 45, 266, 263, 107, 211, 539, 539, 132, 24, 98, 281, 69, 96, 7, 16, 328, 350, 30, 305, 178, 625, 283, 169, 339, 318, 45, 45, 515, 535, 357, 75, 613, 56, 413, 698, 52, 699, 473, 913, 1428, 444, 205, 77, 166, 130, 94, 1252, 69, 1347, 906, 52, 842, 724, 87, 258, 441, 1372, 30, 86, 85, 87, 83, 385, 82, 78, 45, 1290, 606, 259, 452, 111, 782, 251, 119, 290, 798, 224, 606, 1379, 1670, 598, 346, 157, 231, 462, 612, 1169, 231, 27, 16, 63, 637, 526, 198, 148, 343, 789, 1207, 372, 87, 1025, 126, 271, 1114, 362, 119, 263, 369, 223, 294, 1113, 390, 240, 86, 170, 90, 507, 448, 946, 176, 452, 239, 383, 134, 226, 247, 921, 711, 221, 53, 23, 28, 28, 35, 37, 35, 17, 149, 25, 24, 25, 119, 57, 115, 212, 101, 84, 137, 133, 70, 137, 193, 178, 140, 116, 187, 184, 233, 589, 176, 270, 11, 796, 108, 249, 215, 130, 149, 798, 796, 1120, 142, 99, 804, 307, 902, 29, 585, 56, 135, 254, 568, 827, 337, 15, 363, 269, 357, -102, 101, 458, 224, 69, 58, 493, 199, 122, 124, 1093, 1385, 121, 40, 781, 1385, 98, 545, 177, 55, 235, 82, 208, 523, 542, 316, 35, 23, 546, 313, 184, 163, 303, 31, 11, 232, 197, 110, 34, 175, 553, 189, 951, 476, 561, 56, 136, 134, 228, 314, 394, 309, 1147, 41, 12, 37, 141, 77, 77, 70, 42, 255, 169, 49, 43, 231, 373, 116, 170, 260, 220, 1338, 66, 159, 76, 191, 7, 377, 98, 156, 83, 156, 154, 421, 141, 1048, 1274, 678, 160, 176, 132, 548, 403, 39, 228, 39, 85, 382, 364, 78, 79, 148, 875, 143, 39, 232, 364, 77, 410, 207, 364, 708, 176, 64, 93, 999, 69, 46, 52, 1006, 43, 41, 650, 732, 171, 81, 55, 175, 251, 173, 663, 364, 15, 343, 44, 2, 988, 239, 218, 447, 80, 267, 36, 1086, 78, 264, 78, 980, 321, 261, 100, 362, 66, 116, 30, 189, 230, 30, 86, 200, 226, 413, 287, 30, 218, 457, 356, 99, 19, 16, 30, 189, 39, 528, 259, 30, 48, 312, 91, 9, 543, 20, 211, 848, 48, 92, 50, 712, 220, 211, 211, 959, 823, 692, 1449, 573, 566, 100, 580, 1692, 996, 1896, 573, 2081, 1113, 1206, 1973, 574, 1110, 1455, 114, 393, 410, 791, 107, 1497, 663, 1475, 202, 879, 1078, 807, 909, 601, 219, 193, 2624, 748, 138, 725, 2501, 1536, 1483, 1677, 335, 429, 358, 1325, 162, 303, 775, 174, 51, 1833, 363, 62, 89, 366, 946, 55, 85, 431, 1028, 479, 482, 348, 743, 752, 419, 133, 535, 752, 37, 1730, 1301, 1553, 2338, 544, 913, 590, 328, 317, 174, 1322, 356, 463, 359, 1333, 1344, 699, 988, 113, 969, 608, 484, 575, 1692, 574, 747, 1269, 192, 1143, 198, 83, 62, 745, 139, 44, 332, 1193, 65, 331, 206, 258, 561, 6, 2266, 1323, 545, 311, 496, 84, 1525, 2313, 521, 530, 561, 240, 417, 1190, 848, 19, 359, 148, 1199, 617, 1454, 897, 601, 601, 1539, 1013, 377, 734, 288, 345, 469, 91, 819, 398, 758, 592, 1099, 1819, 965, 758, 741, 378, 1212, 500, 818, 388, 131, 1427, 91, 755, 576, 1760, 2077, 2180, 1710, 1476, 456, 2860, 2076, 2024, 808, 980, 227, 865, 429, 521, 392, 949, 1985, 1657, 699, 834, 848, 132, 834, 402, 315, 1213, 197, 671, 1215, 345, 1393, 657, 234, 631, 734, 104, 650, 651, 41, 479, 83, 244, 508, 227, 350, 450, 381, 373, 338, 272, 274, 1605, 148, 1217, 497, 377, 626, 997, 23, 656, 1200, 1873, 66, 2635, 638, 20, 846, 366, 1162, 202, 1122, 1983, 390, 2522, 254, 477, 390, 30, 118, 432, 2006, 457, 2629, 118, 544, 123, 1290, 80, 2222, 624, 1357, 138, 1725, 2263, 314, 380, 486, 1970, 1717, 38, 1611, 120, 2071, 2623, 838, 444, 51, 689, 2207, 1035, 982, 2067, 597, 440, 28, 402, 2695, 28, 503, 848, 2112, 884, 149, 907, 148, 132, 1356, 1007, 1766, 1133, 1186, 265, 1215, 149, 1818, 142, 631, 77, 552, 265, 628, 1321, 1441, 580, 1374, 370, 720, 2728, 2469, 1542, 631, 88, 1727, 646, 1307, 2627, 1487, 118, 1563, 911, 103, 88, 267, 1244, 191, 593, 198, 905, 545, 1209, 114, 712, 1094, 541, 593, 34, 122, 23, 343, 99, 46, 653, 215, 198, 721, 335, 553, 1106, 1726, 412, 979, 37, 311, 117, 1726, 19, 238, 655, 479, 20, 241, 1061, 821, 905, 272, 86, 230, 935, 299, 105, 1884, 132, 73, 399, 198, 246, 164, 99, 65, 730, 282, 552, 436, 527, 414, 79, 506, 499, 28, 106, 388, 232, 336, 351, 210, 357, 192, 1636, 317, 568, 479, 1270, 559, 26, 2031, 1516, 35, 726, 137, 531, 833, 1064, 79, 1270, 137, 179, 1738, 270, 1491, 128, 393, 466, 470, 1491, 516, 71, 177, 542, 347, 122, 791, 311, 2128, 147, 1047, 513, 13, 223, 748, 1883, 114, 272, 512, 171, 111, 348, 308, 63, 896, 114, 48, 349, 268, 105, 168, 77, 5, 217, 211, 201, 837, 257, 298, 764, 532, 124, 44, 134, 153, 501, 274, 21, 1623, 1650, 329, 1219, 50, 19, 51, 516, 1631, 657, 215, 312, 353, 1513, 512, 657, 156, 212, 14, 182, 161, 184, 214, 609, 680, 658, 230, 271, 200, 147, 194, 329, 403, 235, 118, 126, 166, 510, 592, 73, 588, 71, 96, 648, 242, 84, 1765, 664, 546, 77, 125, 361, 464, 433, 301, 175, 723, 547, 1032, 271, 212, 104, 177, 320, 63, 459, 108, 183, 688, 490, 300, 140, 1367, 163, 482, 258, 39, 626, 300, 986, 895, 622, 626, 329, 601, 168, 49, 195, 601, 119, 195, 198, 107, 34, 179, 323, 1405, 461, 169, 1201, 798, 51, 751, 237, 245, 97, 373, 173, 310, 455, 14, 187, 702, 383, 823, 454, 77, 100, 63, 671, 48, 1445, 882, 252, 1393, 405, 184, 808, 284, 1203, 168, 168, 83, 940, 1332, 247, 499, 170, 329, 1133, 243, 443, 139, 437, 746, 334, 139, 334, 235, 15, 77, 90, 143, 148, 733, 111, 228, 442, 123, 775, 525, 167, 395, 359, 514, 58, 1260, 861, 775, 1398, 926, 2090, 161, 180, 1139, 112, 142, 90, 502, 47, 636, 118, 342, 217, 138, 367, 435, 1134, 365, 952, 189, 293, 758, 163, 689, 890, 1090, 34, 327, 67, 2357, 238, 357, 62, 517, 1825, 242, 991, 189, 177, 190, 81, 379, 411, 79, 981, 135, 341, 14, 455, 701, 29, 29, 260, 576, 342, 708, 170, 28, 58, 112, 928, 180, 1388, 112, 2537, 250, 2070, 75, 133, 545, 350, 625, 175, 213, 370, 1113, 514, 260, 332, 152, 455, 55, 74, 532, 41, 889, 342, 420, 907, 253, 547, 889, 392, 452, 547, 367, 248, 42, 58, 101, 140, 101, 874, 1708, 1047, 403, 716, 1141, 183, 450, 60, 298, 297, 523, 301, 266, 600, 192, 467, 143, 14, 1271, 379, 239, 189, 1349, 469, 51, 504, 546, 164, 237, 160, 323, 101, 546, 197, 547, 57, 322, 151, 8, 211, 28, 64, 322, 151, 440, 1815, 498, 98, 291, 970, 2035, 89, 23, 85, 14, 549, 409, 93, 42, 500, 30, 25, 252, 15, 59, 524, 15, 124, 58, 28, 104, 166, 136, 87, 329, 106, 179, 39, 365, 37, 152, 76, 243, 77, 57, 211, 243, 240, 260, 214, 250, 48, 121, 148, 149, 48, 85, 75, 265, 149, 76, 343, 213, 88, 429, 24, 250, 142, 47, 318, 350, 26, 362, 75, 46, 228, 57, 59, 60, 209, 26, 14, 515, 12, 75, 518, 76, 457, 334, 60, 107, 75, 128, 25, 470, 209, 105, 464, 32, 67, 20, 100, 149, 100, 64, 16, 206, 133, 334, 303, 89, 20, 98, 20, 29, 90, 18, 349, 341, 211, 67, 252, 231, 39, 534, 407, 152, 137, 450, 393, 14, 123, 14, 14, 116, 21, 238, 49, 426, 318, 399, 112, 58, 27, 20, 417, 18, 295, 53, 175, 11, 56, 56, 46, 232, 238, 60, 133, 177, 30, 224, 483, 479, 119, 159, 88, 220, 73, 76, 56, 419, 173, 420, 99, 100, 123, 53, 604, 305, 91, 603, 124, 41, 138, 145, 43, 48, 19, 46, 31, 108, 273, 108, 98, 25, 110, 45, 266, 335, 58, 67, 121, 596, 63, 377, 78, 90, 378, 90, 37, 70, 346, 33, 71, 370, 176, 166, 91, 372, 212, 321, 70, 44, 289, 373, 34, 21, 151, 165, 316, 161, 266, 35, 21, 61, 21, 119, 37, 334, 18, 14, 3, 524, 172], \"x\": [5.163634413512014, 2.461605106341902, 5.163634413512014, 5.163634413512014, 9.309683410474321, 0.0, 0.0, 0.0, 0.0, 5.163634413512014, 2.461605106341902, 3.8471104430053007, 5.163634413512014, 2.461605106341902, 2.461605106341902, 0.0, 0.0, 3.8471104430053007, 7.19789682555519, 1.1123762410312652, 0.0, 5.163634413512014, 0.0, 0.0, 1.1123762410312652, 0.0, 0.0, 27.20873054215671, 7.19789682555519, 7.19789682555519, 2.461605106341902, 3.8471104430053007, 2.461605106341902, 1.1123762410312652, 10.246772126048356, 39.87329107430664, 1.1123762410312652, 0.0, 2.7262832710673313, 1.1123762410312652, 0.0, 2.461605106341902, 1.1123762410312652, 19.374782985850306, 2.7262832710673313, 0.0, 1.1123762410312652, 7.19789682555519, 7.19789682555519, 50.379106157743934, 7.29982533912045, 0.0, 9.309683410474321, 9.309683410474321, 1.1123762410312652, 0.0, 0.0, 0.0, 2.7262832710673313, 2.7262832710673313, 9.309683410474321, 9.309683410474321, 1.1123762410312652, 0.0, 5.163634413512014, 0.0, 7.19789682555519, 16.3645406131987, 3.8471104430053007, 7.19789682555519, 7.19789682555519, 0.0, 7.29982533912045, 2.461605106341902, 2.461605106341902, 0.0, 0.0, 0.0, 9.309683410474321, 2.7262832710673313, 0.0, 3.5212436077567197, 3.5212436077567197, 33.02904906217611, 9.097063435526312, 5.808242024494186, 5.808242024494186, 15.628802075466192, 33.02904906217611, 2.119342836313438, 4.597961484264902, 0.0, 5.808242024494186, 15.628802075466192, 2.119342836313438, 0.0, 3.7400921597014247, 2.4076522850299793, 3.5212436077567197, 3.5212436077567197, 0.0, 0.0, 3.7400921597014247, 0.0, 0.0, 21.283219947139827, 3.549261885397986, 3.7400921597014247, 0.0, 5.808242024494186, 7.609920605717573, 0.0, 7.609920605717573, 4.597961484264902, 3.549261885397986, 7.609920605717573, 9.167964577989112, 5.808242024494186, 3.5212436077567197, 0.0, 3.5212436077567197, 2.119342836313438, 2.119342836313438, 3.5212436077567197, 0.0, 8.164646291043788, 9.097063435526312, 2.4076522850299793, 5.3303493670673685, 3.5212436077567197, 3.5212436077567197, 2.4076522850299793, 5.808242024494186, 19.0027552959601, 2.119342836313438, 2.119342836313438, 4.597961484264902, 19.0027552959601, 0.0, 4.597961484264902, 2.400046946052544, 2.400046946052544, 3.549261885397986, 0.0, 7.609920605717573, 9.097063435526312, 5.808242024494186, 2.400046946052544, 5.808242024494186, 5.3303493670673685, 0.0, 7.609920605717573, 5.808242024494186, 8.164646291043788, 5.3303493670673685, 0.0, 2.400046946052544, 19.0027552959601, 2.400046946052544, 5.808242024494186, 19.0027552959601, 5.808242024494186, 4.597961484264902, 9.097063435526312, 0.0, 2.119342836313438, 0.0, 3.549261885397986, 5.3303493670673685, 5.3303493670673685, 7.609920605717573, 2.119342836313438, 0.0, 3.549261885397986, 2.119342836313438, 4.597961484264902, 3.5212436077567197, 7.609920605717573, 0.0, 7.609920605717573, 2.119342836313438, 7.609920605717573, 5.3303493670673685, 3.5212436077567197, 0.0, 0.0, 5.3303493670673685, 4.597961484264902, 7.609920605717573, 2.4076522850299793, 3.5212436077567197, 2.400046946052544, 2.4076522850299793, 2.119342836313438, 7.609920605717573, 9.097063435526312, 2.119342836313438, 7.609920605717573, 9.097063435526312, 4.597961484264902, 8.164646291043788, 0, 2.119342836313438, 5.808242024494186, 2.119342836313438, 8.164646291043788, 5.808242024494186, 5.3303493670673685, 8.164646291043788, 2.4076522850299793, 0, 2.4076522850299793, 4.597961484264902, 9.097063435526312, 0, 5.808242024494186, 3.7400921597014247, 3.5212436077567197, 8.164646291043788, 5.808242024494186, 8.164646291043788, 3.5212436077567197, 2.119342836313438, 3.5212436077567197, 3.5212436077567197, 0, 0, 2.119342836313438, 3.5212436077567197, 0, 8.164646291043788, 0, 0, 0, 9.097063435526312, 4.597961484264902, 9.097063435526312, 3.549261885397986, 4.597961484264902, 0, 4.597961484264902, 9.097063435526312, 0, 9.097063435526312, 3.5212436077567197, 2.4076522850299793, 5.808242024494186, 0, 2.400046946052544, 0, 2.4076522850299793, 5.808242024494186, 3.5212436077567197, 5.808242024494186, 2.4076522850299793, 3.5212436077567197, 4.597961484264902, 9.097063435526312, 2.119342836313438, 0, 2.400046946052544, 7.609920605717573, 2.119342836313438, 2.119342836313438, 5.808242024494186, 5.808242024494186, 9.097063435526312, 9.097063435526312, 2.400046946052544, 2.400046946052544, 0, 2.400046946052544, 8.164646291043788, 4.597961484264902, 3.7400921597014247, 0, 0, 0, 9.097063435526312, 2.119342836313438, 2.119342836313438, 0, 4.597961484264902, 2.400046946052544, 2.119342836313438, 2.400046946052544, 7.609920605717573, 9.097063435526312, 7.609920605717573, 9.097063435526312, 2.119342836313438, 0, 8.164646291043788, 0, 0, 7.609920605717573, 0, 9.097063435526312, 7.609920605717573, 2.400046946052544, 5.3303493670673685, 5.808242024494186, 2.119342836313438, 5.808242024494186, 0, 2.400046946052544, 2.119342836313438, 19.0027552959601, 8.164646291043788, 8.164646291043788, 8.164646291043788, 0, 5.808242024494186, 7.609920605717573, 3.7400921597014247, 7.609920605717573, 0, 5.808242024494186, 5.808242024494186, 0, 5.808242024494186, 0, 5.808242024494186, 4.597961484264902, 2.119342836313438, 5.808242024494186, 2.119342836313438, 9.097063435526312, 3.7400921597014247, 4.597961484264902, 19.0027552959601, 2.119342836313438, 7.609920605717573, 3.549261885397986, 5.808242024494186, 3.7400921597014247, 5.808242024494186, 7.609920605717573, 19.994443644110323, 19.994443644110323, 7.609920605717573, 2.119342836313438, 2.119342836313438, 7.609920605717573, 5.808242024494186, 2.4076522850299793, 2.119342836313438, 2.4076522850299793, 7.609920605717573, 9.097063435526312, 8.164646291043788, 2.4076522850299793, 0, 2.400046946052544, 5.3303493670673685, 4.597961484264902, 2.119342836313438, 2.400046946052544, 2.4076522850299793, 2.119342836313438, 2.400046946052544, 2.400046946052544, 5.3303493670673685, 3.5212436077567197, 14.88911492226708, 5.3303493670673685, 2.400046946052544, 2.4076522850299793, 3.5212436077567197, 2.4076522850299793, 2.119342836313438, 2.119342836313438, 2.119342836313438, 0, 7.609920605717573, 7.609920605717573, 3.5212436077567197, 2.119342836313438, 2.119342836313438, 3.7400921597014247, 7.609920605717573, 7.609920605717573, 2.119342836313438, 0, 5.808242024494186, 2.4076522850299793, 3.5212436077567197, 2.400046946052544, 3.5212436077567197, 2.400046946052544, 2.119342836313438, 2.119342836313438, 2.4076522850299793, 2.119342836313438, 5.808242024494186, 0, 4.597961484264902, 0, 7.609920605717573, 7.609920605717573, 0, 0, 0, 0, 5.808242024494186, 7.609920605717573, 0, 2.119342836313438, 2.119342836313438, 0, 7.609920605717573, 4.597961484264902, 7.609920605717573, 7.609920605717573, 2.4076522850299793, 7.609920605717573, 2.400046946052544, 2.119342836313438, 2.4076522850299793, 5.808242024494186, 5.3303493670673685, 1.4612877203811638, 0, 0, 0.7224972150006077, 0.7224972150006077, 0, 0, 8.382525840301684, 6.021283728041971, 6.021283728041971, 1.3999657994714272, 2.1368147575647614, 0.8860270506866595, 0.8860270506866595, 3.256417763227469, 3.256417763227469, 3.256417763227469, 0.7224972150006077, 3.4611939533754796, 3.4611939533754796, 0, 0, 0.7224972150006077, 0.7224972150006077, 0.7224972150006077, 1.4612877203811638, 1.2270315645078296, 1.7588886117699067, 0, 0, 2.1368147575647614, 1.4672034050475802, 1.2270315645078296, 1.2270315645078296, 0, 0, 1.2270315645078296, 1.2270315645078296, 0.7224972150006077, 0.7224972150006077, 0.8860270506866595, 0.8860270506866595, 0.8860270506866595, 0.8860270506866595, 2.1368147575647614, 0.8860270506866595, 0, 0, 0, 0, 0.7224972150006077, 0, 8.382525840301684, 8.382525840301684, 2.0435824369666364, 2.0435824369666364, 0, 3.4611939533754796, 0, 0, 20.15450305092447, 1.4612877203811638, 0, 0, 0, 2.087671278553441, 0.8860270506866595, 0.8860270506866595, 0, 3.4611939533754796, 3.4611939533754796, 0.8860270506866595, 0.7224972150006077, 0.7224972150006077, 0.7224972150006077, 2.087671278553441, 0.7224972150006077, 4.591668011068041, 0, 1.7712927709889312, 1.7712927709889312, 0, 0.7224972150006077, 0.8860270506866595, 2.0435824369666364, 0.8860270506866595, 6.021283728041971, 1.3999657994714272, 1.3999657994714272, 0, 0.7224972150006077, 2.087671278553441, 2.0435824369666364, 0, 0, 0.8860270506866595, 0.8860270506866595, 8.382525840301684, 8.382525840301684, 1.3999657994714272, 1.3999657994714272, 1.3999657994714272, 7.649146490769298, 0, 7.649146490769298, 0, 7.649146490769298, 0, 7.321988514739526, 0, 7.321988514739526, 0, 0, 7.321988514739526, 12.200329189606647, 0, 7.321988514739526, 7.321988514739526, 0, 0, 0, 0, 0, 0, 0, 7.649146490769298, 0, 7.649146490769298, 7.649146490769298, 0, 7.649146490769298, 0, 0, 7.649146490769298, 0, 0, 0, 0, 0, 0, 0, 7.321988514739526, 7.321988514739526, 7.321988514739526, 7.649146490769298, 7.321988514739526, 7.321988514739526, 7.321988514739526, 7.649146490769298, 7.321988514739526, 7.321988514739526, 0, 7.649146490769298, 0, 0, 0, 0, 0, 0, 7.321988514739526, 7.649146490769298, 7.649146490769298, 0, 11.155130672289072, 0, 7.321988514739526, 7.321988514739526, 0, 7.321988514739526, 0, 0, 7.649146490769298, 0, 7.321988514739526, 0, 7.321988514739526, 7.321988514739526, 0, 34.65892295224383, 0, 7.321988514739526, 0, 7.649146490769298, 7.649146490769298, 7.649146490769298, 7.649146490769298, 0, 0, 0, 0, 7.649146490769298, 7.649146490769298, 7.649146490769298, 7.321988514739526, 0, 0, 7.649146490769298, 7.649146490769298, 1.4527896420940718, 0, 6.497363473188419, 3.844159296558129, 6.497363473188419, 6.497363473188419, 0, 0, 5.834902888954547, 7.646427899833231, 2.368620970210487, 0, 2.368620970210487, 6.497363473188419, 6.497363473188419, 2.102055271234845, 6.497363473188419, 6.497363473188419, 0, 6.497363473188419, 6.497363473188419, 6.497363473188419, 2.368620970210487, 2.368620970210487, 2.102055271234845, 0, 1.4527896420940718, 6.497363473188419, 0, 0, 2.368620970210487, 0, 1.4527896420940718, 6.497363473188419, 0, 2.368620970210487, 2.368620970210487, 2.368620970210487, 0, 2.368620970210487, 1.4527896420940718, 2.368620970210487, 1.4527896420940718, 0, 6.497363473188419, 2.368620970210487, 6.497363473188419, 2.102055271234845, 2.368620970210487, 2.368620970210487, 0, 0, 2.368620970210487, 0, 0, 1.4527896420940718, 0, 6.497363473188419, 1.4527896420940718, 6.497363473188419, 0, 1.4527896420940718, 1.4527896420940718, 0, 0, 0, 1.4527896420940718, 6.497363473188419, 1.4527896420940718, 1.4527896420940718, 0, 2.368620970210487, 6.497363473188419, 2.368620970210487, 2.368620970210487, 0, 2.368620970210487, 0, 0, 0, 6.497363473188419, 0, 0, 0, 6.497363473188419, 6.497363473188419, 10.854647915957543, 6.497363473188419, 6.497363473188419, 6.497363473188419, 6.497363473188419, 0, 6.497363473188419, 6.497363473188419, 1.4527896420940718, 23.297617769329847, 2.368620970210487, 0, 6.209264627858174, 2.368620970210487, 16.549218795268033, 2.368620970210487, 2.368620970210487, 6.497363473188419, 1.4527896420940718, 2.368620970210487, 0, 0, 6.497363473188419, 5.150926634670877, 6.497363473188419, 2.368620970210487, 1.4527896420940718, 6.497363473188419, 0, 1.4527896420940718, 0, 1.4527896420940718, 2.368620970210487, 6.209264627858174, 0, 2.060439956150817, 0, 0, 0, 0, 0, 0, 0, 0, 0, 0, 0, 0, 5.181018002930314, 4.894427727368792, 4.894427727368792, 0, 0, 0, 0, 0, 0, 0, 5.373154478029855, 0, 0, 0, 0, 0, 0, 0, 0, 0, 0, 0, 0, 4.894427727368792, 0, 0, 0, 0, 0, 0, 0, 0, 0, 0, 0, 0, 1.1637477808714287, 2.251391769193901, 1.1637477808714287, 0, 0, 0, 0, 0, 0, 0, 0, 0, 0, 0, 7.024582244251849, 1.1637477808714287, 2.4041089894708407, 0, 2.251391769193901, 4.588142626323136, 4.588142626323136, 4.588142626323136, 0, 0, 0.0, 2.4041089894708407, 4.588142626323136, 4.588142626323136, 0, 2.4041089894708407, 2.251391769193901, 0, 0, 0, 0, 3.9844660654120685, 0, 3.9844660654120685, 4.588142626323136, 4.588142626323136, 3.457086835668779, 0, 4.588142626323136, 4.588142626323136, 0, 0, 0, 0, 0, 4.588142626323136, 0, 0, 0, 0, 3.042370095984949, 4.588142626323136, 1.1637477808714287, 1.1637477808714287, 0, 4.588142626323136, 0, 0, 2.4041089894708407, 2.4041089894708407, 0, 2.4041089894708407, 7.024582244251849, 4.588142626323136, 5.276565234246529, 1.1637477808714287, 4.588142626323136, 0, 0, 0, 0, 0, 0, 0, 0, 0, 0, 0, 0, 0, 0, 3.074000371435893, 3.074000371435893, 0, 0, 0, 0, 0, 0, 0, 0, 0, 0.26939680270934985, 0, 0, 0, 0, 0, 0, 0, 0, 0, 0, 0, 0, 0, 0, 0, 0, 0, 0, 0, 0, 0, 0, 0, 0, 0, 0, 0, 0, 0, 3.074000371435893, 0, 0, 0, 0, 0, 3.074000371435893, 0, 0, 0, 0, 0, 0, 0, 0, 0, 0, 0, 0, 0, 0, 0, 0, 0, 0.26939680270934985, 0, 0, 0, 0, 0, 0, 0, 0, 0, 0, 0, 0.26939680270934985, 0, 0, 0, 0, 0, 0, 0, 0, 0, 0, 0, 0, 0, 0, 0, 0, 0, 0, 0, 0, 2.9053298621805723, 0, 0, 0, 0, 2.5268278898588257, 0, 0, 0, 2.5268278898588257, 4.849601262826875, 2.3791413413498335, 6.957757689856792, 4.849601262826875, 4.849601262826875, 2.3791413413498335, 4.849601262826875, 2.3791413413498335, 4.849601262826875, 6.957757689856792, 6.957757689856792, 6.957757689856792, 4.849601262826875, 4.849601262826875, 4.584498405939748, 6.957757689856792, 4.849601262826875, 4.849601262826875, 4.584498405939748, 2.3791413413498335, 6.957757689856792, 4.849601262826875, 4.849601262826875, 1.7300050884163296, 4.849601262826875, 4.849601262826875, 2.3791413413498335, 2.3791413413498335, 4.849601262826875, 4.849601262826875, 4.849601262826875, 2.3791413413498335, 6.957757689856792, 4.849601262826875, 2.3791413413498335, 6.957757689856792, 4.849601262826875, 2.3791413413498335, 2.3791413413498335, 6.957757689856792, 4.849601262826875, 4.849601262826875, 6.957757689856792, 4.584498405939748, 2.3791413413498335, 0, 6.957757689856792, 4.584498405939748, 4.849601262826875, 6.957757689856792, 4.849601262826875, 2.3791413413498335, 6.957757689856792, 2.3791413413498335, 2.3791413413498335, 4.849601262826875, 6.957757689856792, 4.849601262826875, 4.849601262826875, 4.849601262826875, 6.957757689856792, 4.849601262826875, 4.849601262826875, 4.849601262826875, 6.957757689856792, 6.957757689856792, 4.849601262826875, 2.3791413413498335, 7.381488890696372, 4.849601262826875, 0.6549404822299775, 4.849601262826875, 4.849601262826875, 6.957757689856792, 2.3791413413498335, 4.849601262826875, 4.849601262826875, 6.957757689856792, 4.849601262826875, 6.957757689856792, 2.3791413413498335, 4.849601262826875, 6.957757689856792, 4.849601262826875, 6.957757689856792, 6.957757689856792, 4.849601262826875, 0, 0, 3.787239642860282, 4.849601262826875, 4.849601262826875, 4.849601262826875, 2.3791413413498335, 6.957757689856792, 2.3791413413498335, 4.849601262826875, 2.3791413413498335, 2.3791413413498335, 4.849601262826875, 4.849601262826875, 4.584498405939748, 4.849601262826875, 4.849601262826875, 6.957757689856792, 0, 4.849601262826875, 4.849601262826875, 4.849601262826875, 2.3791413413498335, 4.849601262826875, 6.957757689856792, 6.957757689856792, 4.849601262826875, 2.3791413413498335, 6.957757689856792, 2.3791413413498335, 4.849601262826875, 6.957757689856792, 4.849601262826875, 2.3791413413498335, 6.957757689856792, 0, 4.849601262826875, 4.849601262826875, 6.957757689856792, 0, 0, 2.3791413413498335, 6.957757689856792, 2.3791413413498335, 2.3791413413498335, 2.3791413413498335, 4.849601262826875, 4.849601262826875, 4.849601262826875, 4.849601262826875, 4.849601262826875, 2.3791413413498335, 0, 4.849601262826875, 4.849601262826875, 2.3791413413498335, 4.849601262826875, 14.601143552717174, 2.3791413413498335, 4.849601262826875, 6.957757689856792, 2.3791413413498335, 4.849601262826875, 4.849601262826875, 0, 2.3791413413498335, 4.849601262826875, 4.584498405939748, 4.584498405939748, 2.3791413413498335, 6.957757689856792, 1.7300050884163296, 2.3791413413498335, 4.849601262826875, 6.1048374361861075, 4.584498405939748, 6.957757689856792, 2.3791413413498335, 6.957757689856792, 2.3791413413498335, 0, 6.957757689856792, 0.6549404822299775, 4.849601262826875, 6.957757689856792, 2.3791413413498335, 0.6549404822299775, 6.957757689856792, 4.849601262826875, 9.071599276358722, 4.849601262826875, 4.849601262826875, 4.849601262826875, 4.849601262826875, 4.584498405939748, 1.7300050884163296, 4.584498405939748, 9.071599276358722, 4.584498405939748, 2.3791413413498335, 2.3791413413498335, 2.3791413413498335, 2.3791413413498335, 4.584498405939748, 4.849601262826875, 1.7300050884163296, 6.957757689856792, 2.3791413413498335, 2.3791413413498335, 6.60190180453719, 4.584498405939748, 6.957757689856792, 9.071599276358722, 4.584498405939748, 17.266074513564913, 4.849601262826875, 6.957757689856792, 17.266074513564913, 4.849601262826875, 6.957757689856792, 4.849601262826875, 4.849601262826875, 6.957757689856792, 4.849601262826875, 4.849601262826875, 4.849601262826875, 6.957757689856792, 6.957757689856792, 4.849601262826875, 4.849601262826875, 4.849601262826875, 6.957757689856792, 6.957757689856792, 6.957757689856792, 6.957757689856792, 6.957757689856792, 6.957757689856792, 4.849601262826875, 2.7722118792738684, 3.9590117910580322, 2.22096253634113, 2.7722118792738684, 3.9590117910580322, 2.22096253634113, 2.7722118792738684, 2.22096253634113, 2.22096253634113, 2.7722118792738684, 2.22096253634113, 3.9590117910580322, 2.22096253634113, 2.22096253634113, 2.7722118792738684, 3.9590117910580322, 2.7722118792738684, 2.7722118792738684, 2.22096253634113, 2.22096253634113, 0, 0, 2.7722118792738684, 2.22096253634113, 2.9028098044206962, 1.9118497197188316, 2.22096253634113, 2.22096253634113, 2.22096253634113, 2.22096253634113, 2.22096253634113, 2.22096253634113, 0, 2.22096253634113, 1.9118497197188316, 2.22096253634113, 2.7722118792738684, 2.22096253634113, 2.22096253634113, 2.7722118792738684, 2.7722118792738684, 2.22096253634113, 2.22096253634113, 0, 2.22096253634113, 3.9590117910580322, 2.7722118792738684, 2.22096253634113, 3.9590117910580322, 2.9028098044206962, 0, 2.22096253634113, 2.7722118792738684, 2.22096253634113, 2.22096253634113, 3.9590117910580322, 2.22096253634113, 2.22096253634113, 2.9028098044206962, 3.9590117910580322, 3.9590117910580322, 2.22096253634113, 3.9590117910580322, 2.7722118792738684, 2.22096253634113, 2.7722118792738684, 2.7722118792738684, 2.7722118792738684, 2.22096253634113, 2.9028098044206962, 0, 2.7722118792738684, 2.7722118792738684, 2.7722118792738684, 2.7722118792738684, 0, 0, 2.22096253634113, 0, 2.7722118792738684, 2.22096253634113, 2.22096253634113, 2.9028098044206962, 2.22096253634113, 2.22096253634113, 2.22096253634113, 2.7722118792738684, 2.22096253634113, 1.9118497197188316, 2.22096253634113, 2.22096253634113, 2.7722118792738684, 1.9118497197188316, 2.22096253634113, 1.9118497197188316, 4.294864121822446, 2.7722118792738684, 0, 2.22096253634113, 0, 2.22096253634113, 0, 2.7722118792738684, 2.22096253634113, 2.9028098044206962, 2.9028098044206962, 2.22096253634113, 2.22096253634113, 2.9028098044206962, 2.22096253634113, 0, 9.28231826479185, 2.22096253634113, 9.28231826479185, 2.22096253634113, 2.22096253634113, 2.22096253634113, 2.22096253634113, 2.22096253634113, 2.22096253634113, 2.22096253634113, 2.7722118792738684, 2.7722118792738684, 2.22096253634113, 2.7722118792738684, 2.22096253634113, 2.22096253634113, 1.9118497197188316, 3.9590117910580322, 3.9590117910580322, 3.9590117910580322, 3.9590117910580322, 3.9590117910580322, 9.28231826479185, 3.9590117910580322, 2.22096253634113, 2.22096253634113, 2.7722118792738684, 3.9590117910580322, 2.22096253634113, 2.22096253634113, 2.22096253634113, 2.7722118792738684, 2.22096253634113, 0, 9.28231826479185, 2.7722118792738684, 7.632575518036324, 9.28231826479185, 9.28231826479185, 2.22096253634113, 2.7722118792738684, 7.632575518036324, 2.22096253634113, 2.22096253634113, 2.7722118792738684, 2.22096253634113, 9.28231826479185, 2.22096253634113, 3.9590117910580322, 2.22096253634113, 2.7722118792738684, 2.22096253634113, 2.22096253634113, 2.22096253634113, 2.22096253634113, 2.22096253634113, 2.22096253634113, 2.22096253634113, 2.22096253634113, 2.7722118792738684, 2.22096253634113, 2.7722118792738684, 2.7722118792738684, 0, 1.9118497197188316, 2.22096253634113, 2.22096253634113, 2.22096253634113, 3.9590117910580322, 2.22096253634113, 2.7722118792738684, 2.22096253634113, 2.7722118792738684, 2.22096253634113, 2.7722118792738684, 2.22096253634113, 2.22096253634113, 2.22096253634113, 2.22096253634113, 3.9590117910580322, 3.9590117910580322, 2.22096253634113, 3.9590117910580322, 2.22096253634113, 2.7722118792738684, 2.22096253634113, 2.7722118792738684, 3.9590117910580322, 2.22096253634113, 2.7722118792738684, 2.22096253634113, 2.22096253634113, 2.22096253634113, 2.7722118792738684, 0, 0, 2.22096253634113, 2.22096253634113, 3.9590117910580322, 2.22096253634113, 3.9590117910580322, 3.9590117910580322, 2.7722118792738684, 2.7722118792738684, 0, 3.3051139329447303, 3.9590117910580322, 2.7722118792738684, 2.22096253634113, 4.294864121822446, 4.294864121822446, 4.294864121822446, 2.22096253634113, 4.294864121822446, 2.22096253634113, 2.22096253634113, 2.7722118792738684, 2.22096253634113, 2.22096253634113, 2.22096253634113, 2.22096253634113, 2.22096253634113, 2.22096253634113, 2.7722118792738684, 2.7722118792738684, 0, 2.7722118792738684, 2.22096253634113, 2.22096253634113, 2.22096253634113, 2.7722118792738684, 2.22096253634113, 2.22096253634113, 2.22096253634113, 2.22096253634113, 2.7722118792738684, 2.22096253634113, 3.9590117910580322, 1.9118497197188316, 2.22096253634113, 1.9118497197188316, 2.7722118792738684, 2.22096253634113, 2.7722118792738684, 0, 2.7722118792738684, 2.22096253634113, 2.7722118792738684, 2.22096253634113, 7.632575518036324, 2.9028098044206962, 1.9118497197188316, 2.7722118792738684, 2.22096253634113, 2.22096253634113, 3.9590117910580322, 2.22096253634113, 2.7722118792738684, 2.22096253634113, 2.7722118792738684, 9.28231826479185, 2.7722118792738684, 2.7722118792738684, 2.7722118792738684, 2.7722118792738684, 2.22096253634113, 2.7722118792738684, 2.7722118792738684, 3.9590117910580322, 2.22096253634113, 2.7722118792738684, 3.9590117910580322, 2.7722118792738684, 1.9118497197188316, 2.22096253634113, 3.9590117910580322, 2.22096253634113, 3.9590117910580322, 3.9590117910580322, 2.22096253634113, 2.22096253634113, 3.9590117910580322, 2.22096253634113, 2.22096253634113, 2.7722118792738684, 3.9590117910580322, 1.9118497197188316, 2.22096253634113, 2.22096253634113, 2.9028098044206962, 3.9590117910580322, 2.22096253634113, 2.22096253634113, 2.22096253634113, 3.9590117910580322, 2.22096253634113, 2.7722118792738684, 2.7722118792738684, 2.7722118792738684, 2.22096253634113, 2.7722118792738684, 1.9118497197188316, 2.22096253634113, 2.7722118792738684, 3.9590117910580322, 2.22096253634113, 2.22096253634113, 2.7722118792738684, 2.22096253634113, 2.22096253634113, 2.22096253634113, 2.22096253634113, 2.7722118792738684, 2.7722118792738684, 2.22096253634113, 2.22096253634113, 1.9118497197188316, 9.28231826479185, 2.22096253634113, 2.22096253634113, 2.22096253634113, 2.22096253634113, 2.22096253634113, 9.28231826479185, 2.9028098044206962, 2.22096253634113, 2.22096253634113, 2.22096253634113, 2.22096253634113, 2.22096253634113, 2.22096253634113, 2.22096253634113, 0, 0, 0, 0, 0, 0, 0, 2.664309169161786, 0, 0, 2.664309169161786, 5.791969708034264, 2.664309169161786, 3.1478762167723136, 2.664309169161786, 0, 2.664309169161786, 0, 0, 5.367984159537702, 2.684265023522854, 0, 2.664309169161786, 0, 0, 2.684265023522854, 5.038927013833408, 0, 0, 0, 5.306552765541542, 2.684265023522854, 0, 4.2595455643444495, 2.8171551396203656, 0, 2.8171551396203656, 4.2595455643444495, 0, 7.610839086381289, 0, 0, 0, 0, 4.2595455643444495, 0, 0, 2.664309169161786, 2.8171551396203656, 2.8171551396203656, 0, 2.8171551396203656, 3.1478762167723136, 2.664309169161786, 4.928110005845623, 2.684265023522854, 2.664309169161786, 5.038927013833408, 2.664309169161786, 0, 0, 5.038927013833408, 0, 0, 0, 8.40586203747773, 0, 0, 5.594409505107132, 2.8171551396203656, 4.2595455643444495, 2.8171551396203656, 2.684265023522854, 5.038927013833408, 2.664309169161786, 2.8171551396203656, 4.2595455643444495, 2.8171551396203656, 4.2595455643444495, 2.684265023522854, 0, 0, 0, 0, 0, 2.8171551396203656, 0, 0, 2.684265023522854, 4.12178520990463, 0, 4.9051639445698285, 0, 9.532180763575537, 4.9051639445698285, 0, 0, 0, 4.2595455643444495, 0, 0, 2.664309169161786, 0, 2.8171551396203656, 0, 4.2595455643444495, 0, 0, 4.928110005845623, 4.2595455643444495, 2.664309169161786, 0, 0, 4.928110005845623, 2.664309169161786, 0, 4.563465016909729, 4.563465016909729, 0, 10.728716042758931, 10.728716042758931, 0, 0, 0, 5.791969708034264, 2.8171551396203656, 4.2595455643444495, 4.563465016909729, 0, 0, 0, 0, 0, 2.664309169161786, 0, 0, 4.12178520990463, 4.9051639445698285, 11.096987988177027, 0, 11.096987988177027, 4.9051639445698285, 0, 2.664309169161786, 0, 0, 7.017053026124393, 0, 4.2595455643444495, 2.664309169161786, 0, 0, 2.664309169161786, 7.017053026124393, 2.8171551396203656, 7.610839086381289, 2.664309169161786, 2.8171551396203656, 2.684265023522854, 0, 2.664309169161786, 0, 2.8171551396203656, 0, 2.664309169161786, 9.680341319329633, 5.594409505107132, 2.664309169161786, 5.653788657737764, 2.684265023522854, 0, 5.594409505107132, 0, 0, 0, 0, 0, 2.664309169161786, 0, 0, 0, 6.280340491020733, 2.684265023522854, 0, 0, 0, 0, 0, 0, 2.664309169161786, 2.684265023522854, 0, 7.610839086381289, 0, 4.12178520990463, 0, 0, 2.664309169161786, 4.137497408196655, 0, 2.664309169161786, 0, 0, 2.664309169161786, 0, 0, 2.684265023522854, 2.8171551396203656, 2.664309169161786, 0, 0, 0, 0, 0, 0, 2.684265023522854, 0, 2.684265023522854, 0, 7.017053026124393, 0, 2.664309169161786, 2.664309169161786, 0, 2.664309169161786, 0, 12.456403021197428, 2.684265023522854, 4.2595455643444495, 5.038927013833408, 0, 0, 0, 0, 2.664309169161786, 7.88499079560241, 2.664309169161786, 7.017053026124393, 7.017053026124393, 4.2595455643444495, 0, 4.2595455643444495, 0, 0, 0, 0, 0, 0, 0, 2.5299819204378076, 0, 2.5299819204378076, 0, 0, 0, 0, 8.229098193460112, 7.610839086381289, 2.684265023522854, 8.742548901656646, 7.610839086381289, 2.8171551396203656, 2.664309169161786, 2.664309169161786, 0, 0, 2.664309169161786, 6.701024734979493, 0, 4.928110005845623, 0, 2.664309169161786, 0, 2.664309169161786, 4.928110005845623, 2.664309169161786, 0, 4.2595455643444495, 2.664309169161786, 0, 0, 0, 4.563465016909729, 0, 2.684265023522854, 4.563465016909729, 10.584535347587513, 4.563465016909729, 2.664309169161786, 0, 4.2595455643444495, 2.8171551396203656, 7.017053026124393, 0, 2.8171551396203656, 0, 0, 0, 2.684265023522854, 2.664309169161786, 4.2595455643444495, 9.680341319329633, 6.701024734979493, 4.2595455643444495, 0, 0, 4.2595455643444495, 4.2595455643444495, 2.664309169161786, 2.664309169161786, 2.664309169161786, 2.664309169161786, 9.680341319329633, 2.664309169161786, 0, 4.9051639445698285, 0, 7.610839086381289, 0, 4.9051639445698285, 2.664309169161786, 2.664309169161786, 4.2595455643444495, 0, 4.2595455643444495, 0, 7.88499079560241, 3.31059581723108, 5.653788657737764, 0, 0, 0, 0, 6.280340491020733, 0, 4.2595455643444495, 7.88499079560241, 4.2595455643444495, 4.563465016909729, 0, 0, 2.664309169161786, 2.664309169161786, 0, 0, 4.2595455643444495, 0, 0, 4.928110005845623, 2.8171551396203656, 0, 0, 0, 3.31059581723108, 0, 0, 0, 0, 3.1478762167723136, 2.664309169161786, 0, 2.664309169161786, 2.664309169161786, 3.1478762167723136, 4.12178520990463, 4.2595455643444495, 2.664309169161786, 0, 4.12178520990463, 0, 0, 3.1478762167723136, 11.02552525048623, 2.664309169161786, 3.1478762167723136, 4.2595455643444495, 4.2595455643444495, 4.12178520990463, 0, 2.664309169161786, 0, 11.096987988177027, 2.664309169161786, 0, 0, 0, 2.684265023522854, 2.684265023522854, 0, 0, 2.8171551396203656, 0, 2.664309169161786, 2.664309169161786, 2.684265023522854, 2.8171551396203656, 2.8171551396203656, 2.664309169161786, 0, 2.8171551396203656, 2.664309169161786, 4.928110005845623, 4.9051639445698285, 4.563465016909729, 4.137497408196655, 5.306552765541542, 0, 0, 2.664309169161786, 0, 2.8171551396203656, 0, 0, 2.8171551396203656, 0, 0, 0, 0, 0, 2.664309169161786, 0, 2.664309169161786, 4.9051639445698285, 4.137497408196655, 2.664309169161786, 0, 4.2595455643444495, 0, 0, 4.9051639445698285, 4.2595455643444495, 4.137497408196655, 3.1478762167723136, 2.8171551396203656, 0, 0, 2.684265023522854, 0, 0, 4.137497408196655, 0, 0, 0, 7.610839086381289, 0, 2.8171551396203656, 4.137497408196655, 0, 2.8171551396203656, 0, 0, 2.8171551396203656, 2.8171551396203656, 0, 0, 0, 0, 2.8171551396203656, 0, 1.9407630952558774, 0, 3.1951201472189306, 2.2459621168817923, 1.1235964280093906, 1.1235964280093906, 2.2459621168817923, 2.9961742168498215, 0, 0, 1.9407630952558774, 0, 1.9407630952558774, 1.9407630952558774, 2.9961742168498215, 1.9407630952558774, 1.1235964280093906, 1.1235964280093906, 2.799166561939063, 1.1235964280093906, 1.9407630952558774, 2.2459621168817923, 1.1235964280093906, 1.1235964280093906, 1.1235964280093906, 1.9407630952558774, 0, 0, 2.2459621168817923, 1.1235964280093906, 2.9961742168498215, 1.1235964280093906, 0, 0, 1.9407630952558774, 1.1235964280093906, 0, 3.1951201472189306, 2.9961742168498215, 1.1235964280093906, 0, 1.1235964280093906, 3.1951201472189306, 7.9706534994812674, 0, 2.9961742168498215, 2.2459621168817923, 1.1235964280093906, 2.2459621168817923, 1.1235964280093906, 1.1235964280093906, 2.2459621168817923, 2.2459621168817923, 2.799166561939063, 3.1951201472189306, 2.799166561939063, 2.2459621168817923, 2.9961742168498215, 0, 2.2459621168817923, 0, 3.4519111100843003, 2.2459621168817923, 6.312367306677842, 1.1235964280093906, 2.2459621168817923, 1.1235964280093906, 0, 2.2459621168817923, 0, 5.0365621800259515, 3.4519111100843003, 1.1235964280093906, 2.799166561939063, 3.1951201472189306, 1.1235964280093906, 0, 2.2459621168817923, 0, 2.2459621168817923, 2.2459621168817923, 1.1235964280093906, 2.799166561939063, 0, 1.9407630952558774, 2.2459621168817923, 1.1235964280093906, 0, 2.799166561939063, 0, 2.2459621168817923, 2.799166561939063, 2.2459621168817923, 1.1235964280093906, 13.216010914544952, 0, 6.443482319872692, 8.474196059744001, 0, 8.474196059744001, 9.185071849444565, 0, 9.185071849444565, 0, 3.6619383899417826, 9.185071849444565, 3.5996955509623403, 6.443482319872692, 3.6619383899417826, 3.6619383899417826, 3.6619383899417826, 0, 3.6619383899417826, 8.474196059744001, 9.185071849444565, 9.185071849444565, 3.6619383899417826, 0, 0, 0, 31.011863201870156, 0, 0, 3.6619383899417826, 0, 8.474196059744001, 9.185071849444565, 6.443482319872692, 8.474196059744001, 3.5996955509623403, 6.443482319872692, 3.6619383899417826, 3.6619383899417826, 0, 3.5996955509623403, 3.6619383899417826, 8.474196059744001, 8.474196059744001, 6.443482319872692, 8.474196059744001, 3.6619383899417826, 3.6619383899417826, 0, 6.443482319872692, 3.6619383899417826, 3.5996955509623403, 0, 6.443482319872692, 6.443482319872692, 8.474196059744001, 6.443482319872692, 9.185071849444565, 3.6619383899417826, 0, 8.474196059744001, 8.474196059744001, 0, 8.474196059744001, 3.6619383899417826, 0, 9.185071849444565, 0, 8.474196059744001, 6.443482319872692, 31.011863201870156, 6.443482319872692, 3.5996955509623403, 6.443482319872692, 8.474196059744001, 3.5996955509623403, 8.474196059744001, 3.6619383899417826, 6.443482319872692, 6.443482319872692, 0, 8.474196059744001, 6.443482319872692, 8.474196059744001, 3.6619383899417826, 6.443482319872692, 0, 0, 8.474196059744001, 18.71984460092482, 18.71984460092482, 8.474196059744001, 6.443482319872692, 0, 3.04776502151772, 0, 3.9649116949961978, 0, 0, 0, 0, 0, 0, 0, 3.9649116949961978, 0, 3.9649116949961978, 0, 0, 3.9649116949961978, 3.04776502151772, 0, 0, 3.04776502151772, 15.69908952908239, 0, 3.04776502151772, 0, 0, 3.9649116949961978, 0, 3.9649116949961978, 0, 3.9649116949961978, 3.04776502151772, 3.9649116949961978, 0, 0, 3.9649116949961978, 0, 15.2797616022975, 3.9649116949961978, 0, 15.2797616022975, 0, 3.9649116949961978, 15.874138035265506, 0, 0], \"type\": \"scatter\", \"mode\": \"markers\"}], {\"yaxis\": {\"title\": \"Time Enrolled\"}, \"xaxis\": {\"title\": \"Distance\"}, \"title\": \"Distance vs Time Enrolled\"}, {\"linkText\": \"Export to plot.ly\", \"showLink\": true})});</script>"
      ],
      "text/plain": [
       "<IPython.core.display.HTML object>"
      ]
     },
     "metadata": {},
     "output_type": "display_data"
    },
    {
     "data": {
      "text/plain": [
       "city_camp\n",
       "Concord          260.750000\n",
       "Fairfield        156.322917\n",
       "Fresno           165.155556\n",
       "Los Alamitos     457.235294\n",
       "Mission Viejo    292.266667\n",
       "San Clemente      91.037037\n",
       "San Francisco    149.254902\n",
       "San Jose         448.547368\n",
       "San Rafael       347.495601\n",
       "Santa Clara      147.500000\n",
       "Stockton         805.326531\n",
       "Torrance         233.338028\n",
       "Victorville      169.706522\n",
       "Whittier         160.614583\n",
       "Windsor          176.700000\n",
       "Name: time_enrolled, dtype: float64"
      ]
     },
     "execution_count": 240,
     "metadata": {},
     "output_type": "execute_result"
    }
   ],
   "source": [
    "trace1 = Scatter(x=studentsshortnew['dist'],y=studentsshortnew['time_enrolled'], mode='markers')\n",
    "data = [trace1]\n",
    "layout = Layout(xaxis=dict(title = 'Distance'),\n",
    "                 yaxis=dict(title='Time Enrolled'),\n",
    "                title='Distance vs Time Enrolled')\n",
    "\n",
    "\n",
    "fig1 = Figure(data=data, layout=layout)\n",
    "iplot(fig1)\n",
    "\n",
    "#studentsshortnew['time_enrolled'].groupby(studentsshortnew['city_camp']).mean()\n",
    "#print('Definitely time enrolled depends on city - Stockton, Los ALamitos, San Jose have high enrollment times, SF, San CLemente not great - IN LR not super clear whats going on')\n"
   ]
  },
  {
   "cell_type": "code",
   "execution_count": 313,
   "metadata": {
    "collapsed": false
   },
   "outputs": [
    {
     "data": {
      "text/html": [
       "<div id=\"1049d28f-65a4-4ffa-a72f-f460aa51418c\" style=\"height: 525px; width: 100%;\" class=\"plotly-graph-div\"></div><script type=\"text/javascript\">require([\"plotly\"], function(Plotly) { window.PLOTLYENV=window.PLOTLYENV || {};window.PLOTLYENV.BASE_URL=\"https://plot.ly\";Plotly.newPlot(\"1049d28f-65a4-4ffa-a72f-f460aa51418c\", [{\"y\": [90, 241, 85, 83, 149, 47, 57, 205, 225, 234, 469, 38, 23, 445, 82, 59, 54, 206, 17, 40, 240, 522, 15, 98, 161, 426, 23, 392, 263, 264, 424, 53, 41, 598, 139, 212, 77, 241, 160, 464, 12, 18, 41, 187, 210, 229, 272, 207, 68, 53, 453, 271, 133, 119, 107, 416, 348, 76, 229, 232, 97, 113, 142, 167, 12, 13, 140, 147, 101, 351, 327, 86, 85, 84, 609, 109, 98, 31, 552, 148, 148, 51, 27, 74, 41, 193, 77, 537, 433, 878, 334, 732, 338, 74, 557, 47, 88, 36, 259, 74, 93, 196, 197, 49, 1050, 505, 77, 77, 785, 480, 77, 263, 270, 229, 52, 40, 113, 52, 182, 112, 57, 418, 141, 42, 1332, 1188, 175, 1085, 389, 490, 478, 588, 154, 160, 551, 150, 42, 678, 40, 241, 155, 13, 292, 231, 1506, 1343, 451, 224, 288, 65, 85, 50, 401, 91, 395, 287, 159, 389, 363, 651, 150, 112, 150, 116, 115, 806, 663, 299, 678, 231, 663, 679, 244, 425, 1285, 505, 146, 99, 659, 657, 786, 191, 59, 59, 69, 110, 286, 34, 18, 821, 191, 173, 1049, 772, 160, 175, 1059, 203, 357, 14, 77, 224, 37, 14, 131, 134, 210, 32, 53, 209, 334, 288, 558, 267, 14, 34, 173, 1134, 37, 133, 336, 735, 117, 732, 293, 162, 111, 961, 105, 537, 61, 114, 176, 826, 28, 951, 537, 118, 82, 208, 318, 615, 157, 77, 343, 236, 660, 270, 270, 137, 122, 224, 235, 261, 221, 1165, 762, 289, 126, 425, 16, 103, 294, 126, 180, 426, 294, 180, 146, 236, 307, 80, 257, 196, 1340, 699, 210, 340, 116, 233, 1363, 97, 257, 108, 104, 1342, 823, 1442, 14, 457, 440, 616, 1362, 41, 54, 616, 475, 635, 210, 658, 137, 152, 1071, 31, 3, 196, 398, 585, 279, 137, 197, 173, 175, 312, 224, 373, 232, 124, 231, 105, 173, 40, 431, 208, 322, 143, 87, 25, 697, 312, 697, 87, 324, 62, 104, 827, 399, 574, 201, 596, 623, 156, 496, 13, 453, 576, 911, 212, 1267, 392, 136, 392, 709, 102, 227, 210, 196, 806, 105, 1185, 211, 984, 211, 68, 114, 171, 211, 249, 307, 44, 155, 357, 602, 57, 1088, 73, 307, 89, 196, 489, 89, 114, 905, 157, 56, 59, 905, 18, 805, 574, 66, 260, 881, 196, 714, 441, 326, 504, 842, 13, 187, 87, 1763, 1296, 180, 80, 545, 209, 30, 77, 675, 538, 504, 48, 537, 305, 140, 139, 77, 337, 305, 161, 440, 455, 378, 21, 261, 448, 290, 67, 546, 637, 196, 713, 546, 285, 84, 196, 106, 906, 245, 247, 189, 146, 149, 191, 91, 254, 193, 174, 245, 24, 244, 246, 89, 253, 245, 121, 64, 72, 254, 260, 150, 143, 141, 260, 101, 30, 253, 266, 19, 37, 255, 25, 269, 53, 73, 257, 181, 247, 45, 14, 230, 219, 206, 36, 272, 19, 19, 23, 183, 36, 6, 257, 274, 171, 159, 157, 30, 26, 176, 155, 262, 92, 77, 61, 260, 255, 273, 62, 197, 77, 289, 92, 153, 32, 31, 168, 153, 122, 245, 249, 222, 269, 123, 6, 245, 19, 0, 0, 0, 249, 59, 87, 249, 252, 31, 252, 78, 122, 12, 247, 266, 236, 63, 176, 51, 473, 103, 39, 76, 285, 42, 42, 106, 58, 84, 86, 107, 111, 33, 122, 201, 80, 168, 141, 270, 177, 377, 77, 196, 73, 289, 83, 98, 179, 181, 60, 81, 74, 41, 324, 324, 102, 102, 5, 91, 173, 236, 353, 23, 23, 117, 200, 42, 56, 578, 114, 55, 23, 212, 212, 69, 212, 212, 222, 25, 35, 73, 71, 220, 240, 474, 40, 42, 111, 76, 172, 172, 301, 52, 69, 114, 99, 288, 241, 134, 39, 368, 117, 220, 53, 54, 118, 86, 117, 454, 454, 77, 140, 46, 128, 116, 228, 228, 53, 502, 513, 38, 38, 257, 248, 178, 368, 96, 492, 163, 748, 404, 790, 105, 188, 28, 92, 104, 49, 79, 87, 137, 104, 133, 307, 185, 27, 412, 103, 83, 105, 23, 329, 48, 748, 452, 0, 474, 417, 563, 342, 188, 309, 34, 829, 179, 39, 48, 333, 124, 72, 137, 406, 220, 22, 425, 19, 138, 249, 285, 128, 164, 252, 1, 360, 126, 14, 836, 97, 83, 305, 305, 25, 154, 47, 153, 76, 216, 882, 315, 563, 333, 43, 9, 132, 84, 139, 351, 398, 426, 177, 398, 266, 489, 168, 190, 665, 426, 305, 1033, 211, 63, 629, 456, 570, 1144, 426, 304, 46, 265, 55, 230, 279, 48, 90, 104, 88, 350, 69, 214, 21, 400, 753, 66, 45, 140, 55, 188, 174, 135, 265, 19, 87, 142, 110, 111, 184, 110, 358, 50, 50, 81, 204, 267, 267, 134, 122, 107, 23, 273, 212, 9, 7, 172, 172, 13, 242, 50, 241, 297, 261, 293, 292, 167, 27, 35, 29, 83, 128, 238, 38, 46, 57, 273, 216, 240, 316, 43, 261, 730, 157, 28, 406, 381, 301, 144, 129, 175, 169, 93, 84, 275, 371, 197, 112, 328, 177, 49, 58, 406, 500, 91, 616, 106, 106, 157, 57, 195, 485, 97, 112, 169, 45, 485, 45, 266, 263, 107, 211, 539, 539, 132, 24, 98, 281, 69, 96, 7, 16, 328, 350, 30, 305, 178, 625, 283, 169, 339, 318, 45, 45, 515, 535, 357, 75, 613, 56, 413, 397, 86, 7, 558, 603, 698, 52, 188, 699, 322, 158, 473, 913, 552, 1428, 223, 59, 444, 318, 205, 77, 109, 166, 381, 130, 59, 315, 94, 1252, 69, 132, 1449, 1449, 192, 1347, 378, 248, 906, 52, 248, 73, 689, 33, 301, 83, 298, 842, 724, 1245, 545, 87, 814, 258, 75, 815, 7, 141, 426, 1801, 441, 89, 1372, 21, 42, 139, 65, 30, 121, 63, 70, 39, 464, 86, 85, 87, 215, 83, 385, 82, 619, 78, 45, 48, 286, 1155, 319, 1290, 606, 259, 452, 111, 168, 782, 531, 251, 166, 119, 290, 798, 224, 606, 1379, 821, 119, 459, 1670, 31, 331, 598, 181, 346, 542, 293, 157, 14, 231, 462, 612, 150, 1169, 231, 206, 27, 85, 183, 839, 498, 115, 682, 323, 151, 90, 120, 440, 16, 256, 236, 973, 149, 401, 63, 371, 908, 913, 45, 637, 526, 198, 148, 155, 343, 789, 427, 172, 51, 1207, 372, 87, 175, 1025, 760, 759, 329, 592, 196, 126, 271, 1114, 362, 119, 149, 263, 122, 369, 1033, 223, 294, 235, 1113, 1315, 994, 178, 753, 390, 210, 240, 86, 170, 55, 90, 507, 636, 126, 448, 142, 745, 946, 176, 452, 74, 81, 136, 239, 1120, 1347, 383, 119, 84, 110, 134, 325, 268, 84, 326, 14, 226, 247, 205, 921, 711, 221, 53, 23, 28, 28, 35, 37, 35, 17, 149, 25, 24, 25, 119, 57, 115, 212, 101, 84, 137, 133, 70, 137, 193, 178, 140, 116, 187, 184, 233, 589, 176, 270, 11, 796, 108, 249, 215, 130, 33, 149, 798, 796, 1120, 142, 99, 804, 307, 34, 902, 29, 585, 56, 135, 254, 568, 827, 337, 15, 363, 269, 357, -102, 101, 458, 224, 69, 58, 493, 199, 122, 124, 1093, 1385, 121, 40, 781, 1385, 98, 545, 177, 55, 235, 82, 208, 523, 542, 210, 316, 35, 23, 546, 130, 313, 184, 163, 303, 31, 11, 232, 197, 110, 34, 175, 553, 189, 951, 476, 561, 56, 136, 34, 134, 228, 314, 394, 309, 1147, 41, 12, 37, 141, 77, 77, 70, 42, 255, 169, 49, 43, 231, 373, 116, 170, 260, 220, 1338, 66, 159, 76, 191, 7, 377, 98, 156, 83, 156, 154, 421, 141, 1048, 1274, 678, 160, 176, 132, 548, 403, 39, 228, 39, 85, 382, 364, 78, 79, 148, 875, 143, 39, 232, 364, 77, 410, 207, 364, 708, 176, 64, 93, 999, 69, 46, 52, 1006, 43, 41, 650, 732, 171, 81, 55, 336, 175, 251, 173, 663, 364, 15, 343, 44, 2, 988, 239, 218, 447, 80, 267, 36, 1086, 78, 264, 105, 78, 980, 321, 197, 261, 100, 362, 66, 116, 30, 189, 230, 197, 30, 86, 200, 226, 413, 287, 30, 218, 457, 356, 99, 19, 16, 30, 189, 39, 528, 259, 30, 48, 312, 91, 9, 543, 20, 211, 848, 48, 92, 50, 712, 220, 211, 211, 959, 823, 692, 1449, 573, 566, 100, 546, 1267, 580, 1692, 547, 105, 996, 1896, 573, 2081, 243, 1113, 1206, 1973, 574, 1110, 164, 1455, 114, 393, 410, 791, 107, 1497, 663, 679, 1475, 202, 879, 1078, 807, 909, 601, 219, 193, 2624, 748, 138, 244, 725, 1352, 275, 2501, 1536, 1483, 1677, 335, 429, 358, 1325, 162, 146, 303, 775, 174, 51, 1833, 427, 363, 62, 89, 366, 946, 55, 85, 431, 1028, 479, 482, 348, 743, 752, 419, 133, 1402, 535, 752, 37, 1730, 121, 1301, 1553, 2338, 636, 544, 913, 121, 590, 174, 328, 317, 174, 1322, 356, 463, 359, 258, 1333, 477, 1344, 699, 988, 113, 126, 969, 608, 484, 575, 1692, 574, 747, 45, 1269, 192, 1143, 198, 83, 62, 745, 139, 44, 332, 1193, 65, 230, 331, 93, 206, 258, 561, 324, 6, 2266, 1323, 545, 311, 496, 84, 1525, 363, 2313, 521, 530, 561, 240, 417, 1190, 848, 19, 359, 148, 1199, 617, 1454, 897, 601, 601, 1666, 1539, 1013, 267, 377, 267, 734, 288, 345, 288, 469, 91, 819, 464, 398, 758, 592, 1099, 1819, 454, 443, 965, 758, 741, 378, 1212, 500, 818, 388, 131, 1427, 91, 103, 755, 576, 1760, 2077, 2180, 1710, 1476, 568, 456, 2860, 2076, 2024, 808, 980, 227, 865, 429, 521, 392, 949, 1985, 1657, 699, 834, 848, 713, 713, 132, 834, 402, 315, 1213, 107, 197, 671, 1215, 345, 342, 1393, 657, 234, 631, 734, 104, 650, 651, 41, 479, 83, 244, 508, 76, 227, 350, 261, 384, 380, 450, 381, 373, 338, 368, 272, 274, 1605, 148, 388, 1217, 321, 497, 377, 733, 761, 626, 997, 23, 656, 1200, 763, 1873, 66, 2635, 638, 20, 846, 366, 1162, 202, 1122, 1983, 390, 393, 2522, 254, 393, 477, 390, 30, 118, 432, 2006, 457, 2629, 118, 544, 123, 1290, 80, 2222, 624, 1357, 138, 1725, 2263, 314, 380, 486, 1970, 874, 1717, 38, 1611, 120, 2071, 2623, 838, 444, 51, 211, 689, 2207, 1035, 982, 2067, 597, 440, 28, 147, 959, 402, 2695, 28, 314, 503, 1088, 848, 2112, 884, 149, 907, 148, 132, 1356, 233, 1007, 1766, 1133, 363, 1186, 265, 1215, 149, 1818, 941, 142, 395, 631, 77, 552, 265, 628, 772, 1321, 1441, 580, 1374, 370, 720, 2728, 2469, 1542, 631, 88, 1727, 646, 251, 1307, 2627, 1487, 118, 1563, 911, 103, 88, 790, 267, 1642, 1244, 2207, 688, 191, 593, 198, 905, 545, 1209, 114, 712, 1094, 541, 593, 34, 122, 23, 287, 343, 1249, 99, 46, 653, 2772, 338, 1114, 215, 198, 721, 335, 553, 1106, 1726, 315, 412, 973, 40, 979, 37, 226, 311, 117, 323, 1726, 19, 238, 655, 479, 20, 161, 241, 1061, 821, 905, 272, 86, 230, 1716, 193, 373, 935, 450, 40, 299, 105, 1884, 132, 73, 399, 198, 246, 443, 180, 164, 99, 65, 730, 282, 552, 436, 178, 527, 414, 245, 79, 506, 54, 1460, 499, 28, 106, 388, 232, 336, 351, 210, 357, 192, 1636, 317, 568, 479, 1270, 559, 26, 2031, 1516, 450, 35, 726, 137, 531, 833, 1065, 1064, 79, 1270, 137, 179, 1738, 270, 1491, 128, 131, 393, 466, 470, 1491, 132, 516, 71, 177, 542, 347, 122, 791, 116, 311, 2128, 147, 598, 1047, 179, 513, 13, 223, 748, 1883, 114, 272, 512, 171, 111, 348, 308, 63, 896, 114, 48, 349, 268, 105, 207, 51, 168, 77, 5, 51, 217, 211, 201, 837, 257, 85, 298, 764, 532, 124, 1132, 213, 590, 1012, 44, 134, 424, 153, 501, 423, 170, 274, 21, 1623, 1650, 329, 181, 1219, 358, 281, 50, 19, 51, 516, 29, 1631, 657, 215, 312, 353, 261, 1513, 512, 657, 156, 212, 14, 182, 161, 149, 184, 214, 609, 680, 658, 230, 271, 200, 147, 194, 329, 403, 235, 118, 220, 126, 166, 510, 592, 73, 588, 71, 96, 195, 294, 648, 242, 84, 1765, 664, 986, 802, 1473, 546, 1640, 77, 355, 125, 361, 603, 323, 243, 464, 660, 660, 433, 301, 175, 723, 547, 201, 1032, 44, 305, 271, 212, 104, 224, 343, 350, 1205, 177, 320, 40, 63, 459, 108, 183, 688, 490, 300, 140, 1367, 163, 482, 258, 39, 626, 300, 986, 895, 622, 626, 329, 601, 168, 49, 195, 601, 119, 864, 195, 198, 249, 107, 176, 865, 34, 181, 179, 872, 170, 323, 1405, 461, 169, 1201, 798, 1428, 51, 751, 237, 245, 120, 97, 373, 173, 310, 455, 14, 187, 702, 383, 823, 454, 454, 77, 100, 63, 671, 48, 399, 745, 1445, 459, 882, 104, 252, 1393, 405, 184, 350, 574, 574, 81, 525, 889, 808, 284, 142, 1203, 168, 168, 83, 185, 940, 1332, 225, 86, 209, 247, 499, 170, 329, 1133, 243, 443, 139, 54, 688, 133, 437, 746, 334, 139, 334, 235, 334, 15, 77, 90, 143, 148, 733, 111, 61, 228, 1274, 275, 63, 64, 63, 442, 426, 105, 123, 775, 525, 167, 395, 22, 378, 359, 514, 1461, 161, 350, 58, 419, 1260, 241, 350, 861, 1598, 775, 1398, 926, 2090, 285, 161, 332, 180, 1139, 112, 8, 142, 90, 502, 295, 47, 636, 118, 342, 217, 218, 138, 367, 435, 1134, 365, 952, 574, 189, 293, 758, 36, 163, 689, 890, 1090, 296, 34, 327, 560, 67, 2357, 238, 357, 62, 517, 1825, 242, 991, 833, 189, 177, 190, 81, 379, 411, 79, 981, 135, 341, 53, 14, 455, 701, 29, 29, 260, 576, 342, 708, 170, 28, 247, 58, 112, 928, 180, 1388, 112, 2537, 250, 2070, 75, 133, 545, 350, 546, 434, 1269, 625, 175, 213, 370, 44, 1113, 514, 260, 332, 35, 608, 227, 152, 455, 680, 55, 74, 532, 180, 41, 202, 390, 343, 889, 202, 342, 350, 420, 907, 253, 547, 889, 392, 107, 452, 374, 547, 367, 248, 42, 58, 101, 140, 101, 874, 1708, 1047, 403, 716, 1141, 90, 183, 450, 900, 60, 354, 298, 297, 135, 523, 1330, 127, 301, 266, 940, 600, 813, 63, 192, 467, 143, 14, 59, 1271, 379, 239, 189, 1349, 469, 51, 504, 546, 114, 339, 164, 237, 160, 105, 323, 520, 101, 546, 155, 197, 600, 212, 547, 89, 57, 322, 56, 151, 8, 211, 39, 28, 64, 322, 1680, 151, 1721, 306, 1607, 440, 1815, 498, 1881, 98, 291, 970, 889, 2035, 1501, 89, 23, 85, 14, 549, 409, 93, 42, 500, 30, 25, 252, 15, 59, 524, 15, 124, 58, 28, 104, 166, 136, 87, 329, 106, 179, 39, 365, 37, 7, 152, 76, 243, 77, 57, 211, 243, 240, 260, 214, 250, 48, 121, 148, 149, 48, 85, 75, 265, 149, 76, 343, 213, 88, 429, 24, 250, 142, 47, 318, 350, 26, 362, 75, 89, 46, 228, 57, 59, 60, 209, 26, 14, 515, 89, 12, 75, 518, 76, 457, 334, 60, 107, 75, 128, 25, 470, 209, 105, 464, 32, 67, 20, 100, 149, 100, 64, 16, 206, 16, 133, 334, 303, 89, 20, 497, 98, 20, 29, 90, 18, 56, 63, 53, 349, 341, 309, 211, 67, 252, 323, 231, 39, 534, 407, 152, 137, 450, 393, 14, 123, 14, 14, 116, 171, 21, 238, 252, 49, 426, 318, 399, 112, 58, 27, 20, 417, 18, 295, 53, 175, 11, 56, 116, 56, 46, 119, 119, 232, 238, 60, 133, 177, 30, 224, 483, 479, 119, 18, 159, 88, 406, 220, 73, 76, 56, 197, 419, 32, 173, 420, 99, 100, 123, 53, 604, 305, 91, 603, 235, 124, 41, 227, 138, 174, 127, 145, 43, 48, 19, 46, 165, 31, 108, 273, 108, 98, 25, 110, 91, 45, 266, 335, 58, 67, 121, 596, 63, 377, 78, 90, 378, 90, 37, 70, 346, 33, 71, 370, 176, 166, 91, 372, 212, 321, 70, 44, 289, 373, 34, 21, 151, 165, 362, 316, 161, 266, 35, 21, 61, 21, 119, 37, 334, 18, 14, 3, 524, 172], \"x\": [\"Windsor\", \"Windsor\", \"Windsor\", \"Windsor\", \"Windsor\", \"Windsor\", \"Windsor\", \"Windsor\", \"Windsor\", \"Windsor\", \"Windsor\", \"Windsor\", \"Windsor\", \"Windsor\", \"Windsor\", \"Windsor\", \"Windsor\", \"Windsor\", \"Windsor\", \"Windsor\", \"Windsor\", \"Windsor\", \"Windsor\", \"Windsor\", \"Windsor\", \"Windsor\", \"Windsor\", \"Windsor\", \"Windsor\", \"Windsor\", \"Windsor\", \"Windsor\", \"Windsor\", \"Windsor\", \"Windsor\", \"Windsor\", \"Windsor\", \"Windsor\", \"Windsor\", \"Windsor\", \"Windsor\", \"Windsor\", \"Windsor\", \"Windsor\", \"Windsor\", \"Windsor\", \"Windsor\", \"Windsor\", \"Windsor\", \"Windsor\", \"Windsor\", \"Windsor\", \"Windsor\", \"Windsor\", \"Windsor\", \"Windsor\", \"Windsor\", \"Windsor\", \"Windsor\", \"Windsor\", \"Windsor\", \"Windsor\", \"Windsor\", \"Windsor\", \"Windsor\", \"Windsor\", \"Windsor\", \"Windsor\", \"Windsor\", \"Windsor\", \"Windsor\", \"Windsor\", \"Windsor\", \"Windsor\", \"Windsor\", \"Windsor\", \"Windsor\", \"Windsor\", \"Windsor\", \"Windsor\", \"Windsor\", \"Windsor\", \"Windsor\", \"Windsor\", \"Windsor\", \"Windsor\", \"San Rafael\", \"San Rafael\", \"San Rafael\", \"San Rafael\", \"San Rafael\", \"San Rafael\", \"San Rafael\", \"San Rafael\", \"San Rafael\", \"San Rafael\", \"San Rafael\", \"San Rafael\", \"San Rafael\", \"San Rafael\", \"San Rafael\", \"San Rafael\", \"San Rafael\", \"San Rafael\", \"San Rafael\", \"San Rafael\", \"San Rafael\", \"San Rafael\", \"San Rafael\", \"San Rafael\", \"San Rafael\", \"San Rafael\", \"San Rafael\", \"San Rafael\", \"San Rafael\", \"San Rafael\", \"San Rafael\", \"San Rafael\", \"San Rafael\", \"San Rafael\", \"San Rafael\", \"San Rafael\", \"San Rafael\", \"San Rafael\", \"San Rafael\", \"San Rafael\", \"San Rafael\", \"San Rafael\", \"San Rafael\", \"San Rafael\", \"San Rafael\", \"San Rafael\", \"San Rafael\", \"San Rafael\", \"San Rafael\", \"San Rafael\", \"San Rafael\", \"San Rafael\", \"San Rafael\", \"San Rafael\", \"San Rafael\", \"San Rafael\", \"San Rafael\", \"San Rafael\", \"San Rafael\", \"San Rafael\", \"San Rafael\", \"San Rafael\", \"San Rafael\", \"San Rafael\", \"San Rafael\", \"San Rafael\", \"San Rafael\", \"San Rafael\", \"San Rafael\", \"San Rafael\", \"San Rafael\", \"San Rafael\", \"San Rafael\", \"San Rafael\", \"San Rafael\", \"San Rafael\", \"San Rafael\", \"San Rafael\", \"San Rafael\", \"San Rafael\", \"San Rafael\", \"San Rafael\", \"San Rafael\", \"San Rafael\", \"San Rafael\", \"San Rafael\", \"San Rafael\", \"San Rafael\", \"San Rafael\", \"San Rafael\", \"San Rafael\", \"San Rafael\", \"San Rafael\", \"San Rafael\", \"San Rafael\", \"San Rafael\", \"San Rafael\", \"San Rafael\", \"San Rafael\", \"San Rafael\", \"San Rafael\", \"San Rafael\", \"San Rafael\", \"San Rafael\", \"San Rafael\", \"San Rafael\", \"San Rafael\", \"San Rafael\", \"San Rafael\", \"San Rafael\", \"San Rafael\", \"San Rafael\", \"San Rafael\", \"San Rafael\", \"San Rafael\", \"San Rafael\", \"San Rafael\", \"San Rafael\", \"San Rafael\", \"San Rafael\", \"San Rafael\", \"San Rafael\", \"San Rafael\", \"San Rafael\", \"San Rafael\", \"San Rafael\", \"San Rafael\", \"San Rafael\", \"San Rafael\", \"San Rafael\", \"San Rafael\", \"San Rafael\", \"San Rafael\", \"San Rafael\", \"San Rafael\", \"San Rafael\", \"San Rafael\", \"San Rafael\", \"San Rafael\", \"San Rafael\", \"San Rafael\", \"San Rafael\", \"San Rafael\", \"San Rafael\", \"San Rafael\", \"San Rafael\", \"San Rafael\", \"San Rafael\", \"San Rafael\", \"San Rafael\", \"San Rafael\", \"San Rafael\", \"San Rafael\", \"San Rafael\", \"San Rafael\", \"San Rafael\", \"San Rafael\", \"San Rafael\", \"San Rafael\", \"San Rafael\", \"San Rafael\", \"San Rafael\", \"San Rafael\", \"San Rafael\", \"San Rafael\", \"San Rafael\", \"San Rafael\", \"San Rafael\", \"San Rafael\", \"San Rafael\", \"San Rafael\", \"San Rafael\", \"San Rafael\", \"San Rafael\", \"San Rafael\", \"San Rafael\", \"San Rafael\", \"San Rafael\", \"San Rafael\", \"San Rafael\", \"San Rafael\", \"San Rafael\", \"San Rafael\", \"San Rafael\", \"San Rafael\", \"San Rafael\", \"San Rafael\", \"San Rafael\", \"San Rafael\", \"San Rafael\", \"San Rafael\", \"San Rafael\", \"San Rafael\", \"San Rafael\", \"San Rafael\", \"San Rafael\", \"San Rafael\", \"San Rafael\", \"San Rafael\", \"San Rafael\", \"San Rafael\", \"San Rafael\", \"San Rafael\", \"San Rafael\", \"San Rafael\", \"San Rafael\", \"San Rafael\", \"San Rafael\", \"San Rafael\", \"San Rafael\", \"San Rafael\", \"San Rafael\", \"San Rafael\", \"San Rafael\", \"San Rafael\", \"San Rafael\", \"San Rafael\", \"San Rafael\", \"San Rafael\", \"San Rafael\", \"San Rafael\", \"San Rafael\", \"San Rafael\", \"San Rafael\", \"San Rafael\", \"San Rafael\", \"San Rafael\", \"San Rafael\", \"San Rafael\", \"San Rafael\", \"San Rafael\", \"San Rafael\", \"San Rafael\", \"San Rafael\", \"San Rafael\", \"San Rafael\", \"San Rafael\", \"San Rafael\", \"San Rafael\", \"San Rafael\", \"San Rafael\", \"San Rafael\", \"San Rafael\", \"San Rafael\", \"San Rafael\", \"San Rafael\", \"San Rafael\", \"San Rafael\", \"San Rafael\", \"San Rafael\", \"San Rafael\", \"San Rafael\", \"San Rafael\", \"San Rafael\", \"San Rafael\", \"San Rafael\", \"San Rafael\", \"San Rafael\", \"San Rafael\", \"San Rafael\", \"San Rafael\", \"San Rafael\", \"San Rafael\", \"San Rafael\", \"San Rafael\", \"San Rafael\", \"San Rafael\", \"San Rafael\", \"San Rafael\", \"San Rafael\", \"San Rafael\", \"San Rafael\", \"San Rafael\", \"San Rafael\", \"San Rafael\", \"San Rafael\", \"San Rafael\", \"San Rafael\", \"San Rafael\", \"San Rafael\", \"San Rafael\", \"San Rafael\", \"San Rafael\", \"San Rafael\", \"San Rafael\", \"San Rafael\", \"San Rafael\", \"San Rafael\", \"San Rafael\", \"San Rafael\", \"San Rafael\", \"San Rafael\", \"San Rafael\", \"San Rafael\", \"San Rafael\", \"San Rafael\", \"San Rafael\", \"San Rafael\", \"San Rafael\", \"San Rafael\", \"San Rafael\", \"San Rafael\", \"San Rafael\", \"San Rafael\", \"San Rafael\", \"San Rafael\", \"San Rafael\", \"San Rafael\", \"San Rafael\", \"San Rafael\", \"San Rafael\", \"San Rafael\", \"San Rafael\", \"San Rafael\", \"San Rafael\", \"San Rafael\", \"San Rafael\", \"San Rafael\", \"San Rafael\", \"San Rafael\", \"San Rafael\", \"San Rafael\", \"San Rafael\", \"San Rafael\", \"San Rafael\", \"San Rafael\", \"San Rafael\", \"San Rafael\", \"San Rafael\", \"San Rafael\", \"San Rafael\", \"San Rafael\", \"San Rafael\", \"San Rafael\", \"San Rafael\", \"San Rafael\", \"San Rafael\", \"San Rafael\", \"San Rafael\", \"San Rafael\", \"San Rafael\", \"San Rafael\", \"San Rafael\", \"San Rafael\", \"San Rafael\", \"San Rafael\", \"San Rafael\", \"San Rafael\", \"San Rafael\", \"San Rafael\", \"San Rafael\", \"San Rafael\", \"San Rafael\", \"San Rafael\", \"San Francisco\", \"San Francisco\", \"San Francisco\", \"San Francisco\", \"San Francisco\", \"San Francisco\", \"San Francisco\", \"San Francisco\", \"San Francisco\", \"San Francisco\", \"San Francisco\", \"San Francisco\", \"San Francisco\", \"San Francisco\", \"San Francisco\", \"San Francisco\", \"San Francisco\", \"San Francisco\", \"San Francisco\", \"San Francisco\", \"San Francisco\", \"San Francisco\", \"San Francisco\", \"San Francisco\", \"San Francisco\", \"San Francisco\", \"San Francisco\", \"San Francisco\", \"San Francisco\", \"San Francisco\", \"San Francisco\", \"San Francisco\", \"San Francisco\", \"San Francisco\", \"San Francisco\", \"San Francisco\", \"San Francisco\", \"San Francisco\", \"San Francisco\", \"San Francisco\", \"San Francisco\", \"San Francisco\", \"San Francisco\", \"San Francisco\", \"San Francisco\", \"San Francisco\", \"San Francisco\", \"San Francisco\", \"San Francisco\", \"San Francisco\", \"San Francisco\", \"San Francisco\", \"San Francisco\", \"San Francisco\", \"San Francisco\", \"San Francisco\", \"San Francisco\", \"San Francisco\", \"San Francisco\", \"San Francisco\", \"San Francisco\", \"San Francisco\", \"San Francisco\", \"San Francisco\", \"San Francisco\", \"San Francisco\", \"San Francisco\", \"San Francisco\", \"San Francisco\", \"San Francisco\", \"San Francisco\", \"San Francisco\", \"San Francisco\", \"San Francisco\", \"San Francisco\", \"San Francisco\", \"San Francisco\", \"San Francisco\", \"San Francisco\", \"San Francisco\", \"San Francisco\", \"San Francisco\", \"San Francisco\", \"San Francisco\", \"San Francisco\", \"San Francisco\", \"San Francisco\", \"San Francisco\", \"San Francisco\", \"San Francisco\", \"San Francisco\", \"San Francisco\", \"San Francisco\", \"San Francisco\", \"San Francisco\", \"San Francisco\", \"San Francisco\", \"San Francisco\", \"San Francisco\", \"San Francisco\", \"San Francisco\", \"San Francisco\", \"San Francisco\", \"Fairfield\", \"Fairfield\", \"Fairfield\", \"Fairfield\", \"Fairfield\", \"Fairfield\", \"Fairfield\", \"Fairfield\", \"Fairfield\", \"Fairfield\", \"Fairfield\", \"Fairfield\", \"Fairfield\", \"Fairfield\", \"Fairfield\", \"Fairfield\", \"Fairfield\", \"Fairfield\", \"Fairfield\", \"Fairfield\", \"Fairfield\", \"Fairfield\", \"Fairfield\", \"Fairfield\", \"Fairfield\", \"Fairfield\", \"Fairfield\", \"Fairfield\", \"Fairfield\", \"Fairfield\", \"Fairfield\", \"Fairfield\", \"Fairfield\", \"Fairfield\", \"Fairfield\", \"Fairfield\", \"Fairfield\", \"Fairfield\", \"Fairfield\", \"Fairfield\", \"Fairfield\", \"Fairfield\", \"Fairfield\", \"Fairfield\", \"Fairfield\", \"Fairfield\", \"Fairfield\", \"Fairfield\", \"Fairfield\", \"Fairfield\", \"Fairfield\", \"Fairfield\", \"Fairfield\", \"Fairfield\", \"Fairfield\", \"Fairfield\", \"Fairfield\", \"Fairfield\", \"Fairfield\", \"Fairfield\", \"Fairfield\", \"Fairfield\", \"Fairfield\", \"Fairfield\", \"Fairfield\", \"Fairfield\", \"Fairfield\", \"Fairfield\", \"Fairfield\", \"Fairfield\", \"Fairfield\", \"Fairfield\", \"Fairfield\", \"Fairfield\", \"Fairfield\", \"Fairfield\", \"Fairfield\", \"Fairfield\", \"Fairfield\", \"Fairfield\", \"Fairfield\", \"Fairfield\", \"Fairfield\", \"Fairfield\", \"Fairfield\", \"Fairfield\", \"Fairfield\", \"Fairfield\", \"Fairfield\", \"Fairfield\", \"Fairfield\", \"Fairfield\", \"Fairfield\", \"Fairfield\", \"Fairfield\", \"Fairfield\", \"Fairfield\", \"Fairfield\", \"Fairfield\", \"Fairfield\", \"Fairfield\", \"Fairfield\", \"Fairfield\", \"Fairfield\", \"Fairfield\", \"Fairfield\", \"Fairfield\", \"Concord\", \"Concord\", \"Concord\", \"Concord\", \"Concord\", \"Concord\", \"Concord\", \"Concord\", \"Concord\", \"Concord\", \"Concord\", \"Concord\", \"Concord\", \"Concord\", \"Concord\", \"Concord\", \"Concord\", \"Concord\", \"Concord\", \"Concord\", \"Concord\", \"Concord\", \"Concord\", \"Concord\", \"Concord\", \"Concord\", \"Concord\", \"Concord\", \"Concord\", \"Concord\", \"Concord\", \"Concord\", \"Concord\", \"Concord\", \"Concord\", \"Concord\", \"Concord\", \"Concord\", \"Concord\", \"Concord\", \"Concord\", \"Concord\", \"Concord\", \"Concord\", \"Concord\", \"Concord\", \"Concord\", \"Concord\", \"Concord\", \"Concord\", \"Concord\", \"Concord\", \"Concord\", \"Concord\", \"Concord\", \"Concord\", \"Concord\", \"Concord\", \"Concord\", \"Concord\", \"Concord\", \"Concord\", \"Concord\", \"Concord\", \"Concord\", \"Concord\", \"Concord\", \"Concord\", \"Concord\", \"Concord\", \"Concord\", \"Concord\", \"Concord\", \"Concord\", \"Concord\", \"Concord\", \"Concord\", \"Concord\", \"Concord\", \"Concord\", \"Concord\", \"Concord\", \"Concord\", \"Concord\", \"Concord\", \"Concord\", \"Concord\", \"Concord\", \"Concord\", \"Concord\", \"Concord\", \"Concord\", \"Concord\", \"Concord\", \"Concord\", \"Concord\", \"Concord\", \"Concord\", \"Concord\", \"Concord\", \"Concord\", \"Concord\", \"Concord\", \"Concord\", \"Concord\", \"Concord\", \"Concord\", \"Concord\", \"Concord\", \"Concord\", \"Concord\", \"Concord\", \"Concord\", \"Concord\", \"Concord\", \"Concord\", \"Concord\", \"Concord\", \"Concord\", \"Concord\", \"Concord\", \"Santa Clara\", \"Santa Clara\", \"Santa Clara\", \"Santa Clara\", \"Santa Clara\", \"Santa Clara\", \"Santa Clara\", \"Santa Clara\", \"Santa Clara\", \"Santa Clara\", \"Santa Clara\", \"Santa Clara\", \"Santa Clara\", \"Santa Clara\", \"Santa Clara\", \"Santa Clara\", \"Santa Clara\", \"Santa Clara\", \"Santa Clara\", \"Santa Clara\", \"Santa Clara\", \"Santa Clara\", \"Santa Clara\", \"Santa Clara\", \"Santa Clara\", \"Santa Clara\", \"Santa Clara\", \"Santa Clara\", \"Santa Clara\", \"Santa Clara\", \"Santa Clara\", \"Santa Clara\", \"Santa Clara\", \"Santa Clara\", \"Santa Clara\", \"Santa Clara\", \"Santa Clara\", \"Santa Clara\", \"Santa Clara\", \"Santa Clara\", \"Santa Clara\", \"Santa Clara\", \"Santa Clara\", \"Santa Clara\", \"Santa Clara\", \"Santa Clara\", \"Santa Clara\", \"Santa Clara\", \"Santa Clara\", \"Santa Clara\", \"Santa Clara\", \"Santa Clara\", \"Santa Clara\", \"Torrance\", \"Torrance\", \"Torrance\", \"Torrance\", \"Torrance\", \"Torrance\", \"Torrance\", \"Torrance\", \"Torrance\", \"Torrance\", \"Torrance\", \"Torrance\", \"Torrance\", \"Torrance\", \"Torrance\", \"Torrance\", \"Torrance\", \"Torrance\", \"Torrance\", \"Torrance\", \"Torrance\", \"Torrance\", \"Torrance\", \"Torrance\", \"Torrance\", \"Torrance\", \"Torrance\", \"Torrance\", \"Torrance\", \"Torrance\", \"Torrance\", \"Torrance\", \"Torrance\", \"Torrance\", \"Torrance\", \"Torrance\", \"Torrance\", \"Torrance\", \"Torrance\", \"Torrance\", \"Torrance\", \"Torrance\", \"Torrance\", \"Torrance\", \"Torrance\", \"Torrance\", \"Torrance\", \"Torrance\", \"Torrance\", \"Torrance\", \"Torrance\", \"Torrance\", \"Torrance\", \"Torrance\", \"Torrance\", \"Torrance\", \"Torrance\", \"Torrance\", \"Torrance\", \"Torrance\", \"Torrance\", \"Torrance\", \"Torrance\", \"Torrance\", \"Torrance\", \"Torrance\", \"Torrance\", \"Torrance\", \"Torrance\", \"Torrance\", \"Torrance\", \"San Jose\", \"San Jose\", \"San Jose\", \"San Jose\", \"San Jose\", \"San Jose\", \"San Jose\", \"San Jose\", \"San Jose\", \"San Jose\", \"San Jose\", \"San Jose\", \"San Jose\", \"San Jose\", \"San Jose\", \"San Jose\", \"San Jose\", \"San Jose\", \"San Jose\", \"San Jose\", \"San Jose\", \"San Jose\", \"San Jose\", \"San Jose\", \"San Jose\", \"San Jose\", \"San Jose\", \"San Jose\", \"San Jose\", \"San Jose\", \"San Jose\", \"San Jose\", \"San Jose\", \"San Jose\", \"San Jose\", \"San Jose\", \"San Jose\", \"San Jose\", \"San Jose\", \"San Jose\", \"San Jose\", \"San Jose\", \"San Jose\", \"San Jose\", \"San Jose\", \"San Jose\", \"San Jose\", \"San Jose\", \"San Jose\", \"San Jose\", \"San Jose\", \"San Jose\", \"San Jose\", \"San Jose\", \"San Jose\", \"San Jose\", \"San Jose\", \"San Jose\", \"San Jose\", \"San Jose\", \"San Jose\", \"San Jose\", \"San Jose\", \"San Jose\", \"San Jose\", \"San Jose\", \"San Jose\", \"San Jose\", \"San Jose\", \"San Jose\", \"San Jose\", \"San Jose\", \"San Jose\", \"San Jose\", \"San Jose\", \"San Jose\", \"San Jose\", \"San Jose\", \"San Jose\", \"San Jose\", \"San Jose\", \"San Jose\", \"San Jose\", \"San Jose\", \"San Jose\", \"San Jose\", \"San Jose\", \"San Jose\", \"San Jose\", \"San Jose\", \"San Jose\", \"San Jose\", \"San Jose\", \"San Jose\", \"San Jose\", \"San Jose\", \"San Jose\", \"San Jose\", \"San Jose\", \"San Jose\", \"San Jose\", \"San Jose\", \"San Jose\", \"San Jose\", \"San Jose\", \"San Jose\", \"San Jose\", \"San Jose\", \"San Jose\", \"San Jose\", \"San Jose\", \"San Jose\", \"San Jose\", \"San Jose\", \"San Jose\", \"San Jose\", \"San Jose\", \"San Jose\", \"San Jose\", \"San Jose\", \"San Jose\", \"San Jose\", \"San Jose\", \"San Jose\", \"San Jose\", \"San Jose\", \"San Jose\", \"San Jose\", \"San Jose\", \"San Jose\", \"San Jose\", \"San Jose\", \"San Jose\", \"San Jose\", \"San Jose\", \"San Jose\", \"San Jose\", \"San Jose\", \"San Jose\", \"San Jose\", \"San Jose\", \"San Jose\", \"San Jose\", \"San Jose\", \"San Jose\", \"San Jose\", \"San Jose\", \"San Jose\", \"San Jose\", \"San Jose\", \"San Jose\", \"San Jose\", \"San Jose\", \"San Jose\", \"San Jose\", \"San Jose\", \"San Jose\", \"San Jose\", \"San Jose\", \"San Jose\", \"San Jose\", \"San Jose\", \"San Jose\", \"San Jose\", \"San Jose\", \"San Jose\", \"San Jose\", \"San Jose\", \"San Jose\", \"San Jose\", \"San Jose\", \"San Jose\", \"San Jose\", \"San Jose\", \"San Jose\", \"San Jose\", \"San Jose\", \"San Jose\", \"San Jose\", \"San Jose\", \"San Jose\", \"San Jose\", \"San Jose\", \"San Jose\", \"San Jose\", \"San Jose\", \"San Jose\", \"San Jose\", \"San Jose\", \"San Jose\", \"San Jose\", \"San Jose\", \"San Jose\", \"San Jose\", \"San Jose\", \"San Jose\", \"San Jose\", \"San Jose\", \"San Jose\", \"San Jose\", \"San Jose\", \"San Jose\", \"San Jose\", \"San Jose\", \"San Jose\", \"San Jose\", \"San Jose\", \"San Jose\", \"San Jose\", \"San Jose\", \"San Jose\", \"San Jose\", \"San Jose\", \"San Jose\", \"San Jose\", \"San Jose\", \"San Jose\", \"San Jose\", \"San Jose\", \"San Jose\", \"San Jose\", \"San Clemente\", \"San Clemente\", \"San Clemente\", \"San Clemente\", \"San Clemente\", \"San Clemente\", \"San Clemente\", \"San Clemente\", \"San Clemente\", \"San Clemente\", \"San Clemente\", \"San Clemente\", \"San Clemente\", \"San Clemente\", \"San Clemente\", \"San Clemente\", \"San Clemente\", \"San Clemente\", \"San Clemente\", \"San Clemente\", \"San Clemente\", \"San Clemente\", \"San Clemente\", \"San Clemente\", \"San Clemente\", \"San Clemente\", \"San Clemente\", \"Mission Viejo\", \"Mission Viejo\", \"Mission Viejo\", \"Mission Viejo\", \"Mission Viejo\", \"Mission Viejo\", \"Mission Viejo\", \"Mission Viejo\", \"Mission Viejo\", \"Mission Viejo\", \"Mission Viejo\", \"Mission Viejo\", \"Mission Viejo\", \"Mission Viejo\", \"Mission Viejo\", \"Mission Viejo\", \"Mission Viejo\", \"Mission Viejo\", \"Mission Viejo\", \"Mission Viejo\", \"Mission Viejo\", \"Mission Viejo\", \"Mission Viejo\", \"Mission Viejo\", \"Mission Viejo\", \"Mission Viejo\", \"Mission Viejo\", \"Mission Viejo\", \"Mission Viejo\", \"Mission Viejo\", \"Mission Viejo\", \"Mission Viejo\", \"Mission Viejo\", \"Mission Viejo\", \"Mission Viejo\", \"Mission Viejo\", \"Mission Viejo\", \"Mission Viejo\", \"Mission Viejo\", \"Mission Viejo\", \"Mission Viejo\", \"Mission Viejo\", \"Mission Viejo\", \"Mission Viejo\", \"Mission Viejo\", \"Mission Viejo\", \"Mission Viejo\", \"Mission Viejo\", \"Mission Viejo\", \"Mission Viejo\", \"Mission Viejo\", \"Mission Viejo\", \"Mission Viejo\", \"Mission Viejo\", \"Mission Viejo\", \"Mission Viejo\", \"Mission Viejo\", \"Mission Viejo\", \"Mission Viejo\", \"Mission Viejo\", \"Mission Viejo\", \"Mission Viejo\", \"Mission Viejo\", \"Mission Viejo\", \"Mission Viejo\", \"Mission Viejo\", \"Mission Viejo\", \"Mission Viejo\", \"Mission Viejo\", \"Mission Viejo\", \"Mission Viejo\", \"Mission Viejo\", \"Mission Viejo\", \"Mission Viejo\", \"Mission Viejo\", \"Mission Viejo\", \"Mission Viejo\", \"Mission Viejo\", \"Mission Viejo\", \"Mission Viejo\", \"Mission Viejo\", \"Mission Viejo\", \"Mission Viejo\", \"Mission Viejo\", \"Mission Viejo\", \"Mission Viejo\", \"Mission Viejo\", \"Mission Viejo\", \"Mission Viejo\", \"Mission Viejo\", \"Mission Viejo\", \"Mission Viejo\", \"Mission Viejo\", \"Mission Viejo\", \"Mission Viejo\", \"Mission Viejo\", \"Mission Viejo\", \"Mission Viejo\", \"Mission Viejo\", \"Mission Viejo\", \"Mission Viejo\", \"Mission Viejo\", \"Mission Viejo\", \"Mission Viejo\", \"Mission Viejo\", \"Mission Viejo\", \"Mission Viejo\", \"Mission Viejo\", \"Mission Viejo\", \"Mission Viejo\", \"Mission Viejo\", \"Mission Viejo\", \"Mission Viejo\", \"Mission Viejo\", \"Mission Viejo\", \"Mission Viejo\", \"Mission Viejo\", \"Mission Viejo\", \"Mission Viejo\", \"Mission Viejo\", \"Mission Viejo\", \"Mission Viejo\", \"Mission Viejo\", \"Mission Viejo\", \"Mission Viejo\", \"Mission Viejo\", \"Mission Viejo\", \"Mission Viejo\", \"Mission Viejo\", \"Mission Viejo\", \"Mission Viejo\", \"Mission Viejo\", \"Mission Viejo\", \"Mission Viejo\", \"Mission Viejo\", \"Mission Viejo\", \"Mission Viejo\", \"Mission Viejo\", \"Mission Viejo\", \"Mission Viejo\", \"Mission Viejo\", \"Mission Viejo\", \"Mission Viejo\", \"Mission Viejo\", \"Mission Viejo\", \"Mission Viejo\", \"Mission Viejo\", \"Mission Viejo\", \"Mission Viejo\", \"Mission Viejo\", \"Mission Viejo\", \"Mission Viejo\", \"Mission Viejo\", \"Mission Viejo\", \"Mission Viejo\", \"Mission Viejo\", \"Mission Viejo\", \"Mission Viejo\", \"Mission Viejo\", \"Mission Viejo\", \"Mission Viejo\", \"Mission Viejo\", \"Mission Viejo\", \"Mission Viejo\", \"Mission Viejo\", \"Mission Viejo\", \"Mission Viejo\", \"Mission Viejo\", \"Mission Viejo\", \"Mission Viejo\", \"Mission Viejo\", \"Mission Viejo\", \"Mission Viejo\", \"Mission Viejo\", \"Mission Viejo\", \"Mission Viejo\", \"Mission Viejo\", \"Mission Viejo\", \"Mission Viejo\", \"Mission Viejo\", \"Mission Viejo\", \"Mission Viejo\", \"Mission Viejo\", \"Mission Viejo\", \"Mission Viejo\", \"Mission Viejo\", \"Mission Viejo\", \"Mission Viejo\", \"Mission Viejo\", \"Mission Viejo\", \"Mission Viejo\", \"Mission Viejo\", \"Mission Viejo\", \"Mission Viejo\", \"Mission Viejo\", \"Mission Viejo\", \"Mission Viejo\", \"Mission Viejo\", \"Mission Viejo\", \"Mission Viejo\", \"Mission Viejo\", \"Mission Viejo\", \"Mission Viejo\", \"Mission Viejo\", \"Mission Viejo\", \"Mission Viejo\", \"Mission Viejo\", \"Mission Viejo\", \"Mission Viejo\", \"Mission Viejo\", \"Mission Viejo\", \"Mission Viejo\", \"Mission Viejo\", \"Mission Viejo\", \"Mission Viejo\", \"Mission Viejo\", \"Mission Viejo\", \"Mission Viejo\", \"Mission Viejo\", \"Mission Viejo\", \"Mission Viejo\", \"Mission Viejo\", \"Mission Viejo\", \"Mission Viejo\", \"Mission Viejo\", \"Mission Viejo\", \"Mission Viejo\", \"Mission Viejo\", \"Mission Viejo\", \"Mission Viejo\", \"Mission Viejo\", \"Mission Viejo\", \"Mission Viejo\", \"Mission Viejo\", \"Stockton\", \"Stockton\", \"Stockton\", \"Stockton\", \"Stockton\", \"Stockton\", \"Stockton\", \"Stockton\", \"Stockton\", \"Stockton\", \"Stockton\", \"Stockton\", \"Stockton\", \"Stockton\", \"Stockton\", \"Stockton\", \"Stockton\", \"Stockton\", \"Stockton\", \"Stockton\", \"Stockton\", \"Stockton\", \"Stockton\", \"Stockton\", \"Stockton\", \"Stockton\", \"Stockton\", \"Stockton\", \"Stockton\", \"Stockton\", \"Stockton\", \"Stockton\", \"Stockton\", \"Stockton\", \"Stockton\", \"Stockton\", \"Stockton\", \"Stockton\", \"Stockton\", \"Stockton\", \"Stockton\", \"Stockton\", \"Stockton\", \"Stockton\", \"Stockton\", \"Stockton\", \"Stockton\", \"Stockton\", \"Stockton\", \"Stockton\", \"Stockton\", \"Stockton\", \"Stockton\", \"Stockton\", \"Stockton\", \"Stockton\", \"Stockton\", \"Stockton\", \"Stockton\", \"Stockton\", \"Stockton\", \"Stockton\", \"Stockton\", \"Stockton\", \"Stockton\", \"Stockton\", \"Stockton\", \"Stockton\", \"Stockton\", \"Stockton\", \"Stockton\", \"Stockton\", \"Stockton\", \"Stockton\", \"Stockton\", \"Stockton\", \"Stockton\", \"Stockton\", \"Stockton\", \"Stockton\", \"Stockton\", \"Stockton\", \"Stockton\", \"Stockton\", \"Stockton\", \"Stockton\", \"Stockton\", \"Stockton\", \"Stockton\", \"Stockton\", \"Stockton\", \"Stockton\", \"Stockton\", \"Stockton\", \"Stockton\", \"Stockton\", \"Stockton\", \"Stockton\", \"Stockton\", \"Stockton\", \"Stockton\", \"Stockton\", \"Stockton\", \"Stockton\", \"Stockton\", \"Stockton\", \"Stockton\", \"Stockton\", \"Stockton\", \"Stockton\", \"Stockton\", \"Stockton\", \"Stockton\", \"Stockton\", \"Stockton\", \"Stockton\", \"Stockton\", \"Stockton\", \"Stockton\", \"Stockton\", \"Stockton\", \"Stockton\", \"Stockton\", \"Stockton\", \"Stockton\", \"Stockton\", \"Stockton\", \"Stockton\", \"Stockton\", \"Stockton\", \"Stockton\", \"Stockton\", \"Stockton\", \"Stockton\", \"Stockton\", \"Stockton\", \"Stockton\", \"Stockton\", \"Stockton\", \"Stockton\", \"Stockton\", \"Stockton\", \"Stockton\", \"Stockton\", \"Stockton\", \"Stockton\", \"Stockton\", \"Stockton\", \"Stockton\", \"Stockton\", \"Stockton\", \"Stockton\", \"Stockton\", \"Stockton\", \"Stockton\", \"Stockton\", \"Stockton\", \"Stockton\", \"Stockton\", \"Stockton\", \"Stockton\", \"Stockton\", \"Stockton\", \"Stockton\", \"Stockton\", \"Stockton\", \"Stockton\", \"Stockton\", \"Stockton\", \"Stockton\", \"Stockton\", \"Stockton\", \"Stockton\", \"Stockton\", \"Stockton\", \"Stockton\", \"Stockton\", \"Stockton\", \"Stockton\", \"Stockton\", \"Stockton\", \"Stockton\", \"Stockton\", \"Stockton\", \"Stockton\", \"Stockton\", \"Stockton\", \"Stockton\", \"Stockton\", \"Stockton\", \"Stockton\", \"Stockton\", \"Stockton\", \"Stockton\", \"Stockton\", \"Stockton\", \"Stockton\", \"Stockton\", \"Stockton\", \"Stockton\", \"Stockton\", \"Stockton\", \"Stockton\", \"Stockton\", \"Stockton\", \"Stockton\", \"Stockton\", \"Stockton\", \"Stockton\", \"Stockton\", \"Stockton\", \"Stockton\", \"Stockton\", \"Stockton\", \"Stockton\", \"Stockton\", \"Stockton\", \"Stockton\", \"Stockton\", \"Stockton\", \"Stockton\", \"Stockton\", \"Stockton\", \"Stockton\", \"Stockton\", \"Stockton\", \"Stockton\", \"Stockton\", \"Stockton\", \"Stockton\", \"Stockton\", \"Stockton\", \"Stockton\", \"Stockton\", \"Stockton\", \"Stockton\", \"Stockton\", \"Stockton\", \"Stockton\", \"Stockton\", \"Stockton\", \"Stockton\", \"Stockton\", \"Stockton\", \"Stockton\", \"Stockton\", \"Stockton\", \"Stockton\", \"Stockton\", \"Stockton\", \"Stockton\", \"Stockton\", \"Stockton\", \"Stockton\", \"Stockton\", \"Stockton\", \"Stockton\", \"Stockton\", \"Stockton\", \"Stockton\", \"Stockton\", \"Stockton\", \"Stockton\", \"Stockton\", \"Stockton\", \"Stockton\", \"Stockton\", \"Stockton\", \"Stockton\", \"Stockton\", \"Stockton\", \"Stockton\", \"Stockton\", \"Stockton\", \"Stockton\", \"Stockton\", \"Stockton\", \"Stockton\", \"Stockton\", \"Stockton\", \"Stockton\", \"Stockton\", \"Stockton\", \"Stockton\", \"Stockton\", \"Stockton\", \"Stockton\", \"Stockton\", \"Stockton\", \"Stockton\", \"Stockton\", \"Stockton\", \"Stockton\", \"Stockton\", \"Stockton\", \"Stockton\", \"Stockton\", \"Stockton\", \"Stockton\", \"Stockton\", \"Stockton\", \"Stockton\", \"Stockton\", \"Stockton\", \"Stockton\", \"Stockton\", \"Stockton\", \"Stockton\", \"Stockton\", \"Stockton\", \"Stockton\", \"Stockton\", \"Stockton\", \"Stockton\", \"Stockton\", \"Stockton\", \"Stockton\", \"Stockton\", \"Stockton\", \"Stockton\", \"Stockton\", \"Stockton\", \"Stockton\", \"Stockton\", \"Stockton\", \"Stockton\", \"Stockton\", \"Stockton\", \"Stockton\", \"Stockton\", \"Stockton\", \"Stockton\", \"Stockton\", \"Stockton\", \"Stockton\", \"Stockton\", \"Stockton\", \"Stockton\", \"Stockton\", \"Stockton\", \"Stockton\", \"Stockton\", \"Stockton\", \"Stockton\", \"Stockton\", \"Stockton\", \"Stockton\", \"Stockton\", \"Stockton\", \"Stockton\", \"Stockton\", \"Stockton\", \"Stockton\", \"Stockton\", \"Stockton\", \"Stockton\", \"Stockton\", \"Stockton\", \"Stockton\", \"Stockton\", \"Stockton\", \"Stockton\", \"Stockton\", \"Stockton\", \"Stockton\", \"Stockton\", \"Stockton\", \"Stockton\", \"Stockton\", \"Stockton\", \"Stockton\", \"Stockton\", \"Stockton\", \"Stockton\", \"Stockton\", \"Stockton\", \"Stockton\", \"Stockton\", \"Stockton\", \"Stockton\", \"Stockton\", \"Stockton\", \"Stockton\", \"Stockton\", \"Stockton\", \"Stockton\", \"Stockton\", \"Stockton\", \"Stockton\", \"Stockton\", \"Stockton\", \"Stockton\", \"Stockton\", \"Stockton\", \"Stockton\", \"Stockton\", \"Stockton\", \"Stockton\", \"Stockton\", \"Stockton\", \"Stockton\", \"Stockton\", \"Stockton\", \"Stockton\", \"Stockton\", \"Stockton\", \"Stockton\", \"Stockton\", \"Stockton\", \"Stockton\", \"Los Alamitos\", \"Los Alamitos\", \"Los Alamitos\", \"Los Alamitos\", \"Los Alamitos\", \"Los Alamitos\", \"Los Alamitos\", \"Los Alamitos\", \"Los Alamitos\", \"Los Alamitos\", \"Los Alamitos\", \"Los Alamitos\", \"Los Alamitos\", \"Los Alamitos\", \"Los Alamitos\", \"Los Alamitos\", \"Los Alamitos\", \"Los Alamitos\", \"Los Alamitos\", \"Los Alamitos\", \"Los Alamitos\", \"Los Alamitos\", \"Los Alamitos\", \"Los Alamitos\", \"Los Alamitos\", \"Los Alamitos\", \"Los Alamitos\", \"Los Alamitos\", \"Los Alamitos\", \"Los Alamitos\", \"Los Alamitos\", \"Los Alamitos\", \"Los Alamitos\", \"Los Alamitos\", \"Los Alamitos\", \"Los Alamitos\", \"Los Alamitos\", \"Los Alamitos\", \"Los Alamitos\", \"Los Alamitos\", \"Los Alamitos\", \"Los Alamitos\", \"Los Alamitos\", \"Los Alamitos\", \"Los Alamitos\", \"Los Alamitos\", \"Los Alamitos\", \"Los Alamitos\", \"Los Alamitos\", \"Los Alamitos\", \"Los Alamitos\", \"Los Alamitos\", \"Los Alamitos\", \"Los Alamitos\", \"Los Alamitos\", \"Los Alamitos\", \"Los Alamitos\", \"Los Alamitos\", \"Los Alamitos\", \"Los Alamitos\", \"Los Alamitos\", \"Los Alamitos\", \"Los Alamitos\", \"Los Alamitos\", \"Los Alamitos\", \"Los Alamitos\", \"Los Alamitos\", \"Los Alamitos\", \"Los Alamitos\", \"Los Alamitos\", \"Los Alamitos\", \"Los Alamitos\", \"Los Alamitos\", \"Los Alamitos\", \"Los Alamitos\", \"Los Alamitos\", \"Los Alamitos\", \"Los Alamitos\", \"Los Alamitos\", \"Los Alamitos\", \"Los Alamitos\", \"Los Alamitos\", \"Los Alamitos\", \"Los Alamitos\", \"Los Alamitos\", \"Los Alamitos\", \"Los Alamitos\", \"Los Alamitos\", \"Los Alamitos\", \"Los Alamitos\", \"Los Alamitos\", \"Los Alamitos\", \"Los Alamitos\", \"Los Alamitos\", \"Los Alamitos\", \"Los Alamitos\", \"Los Alamitos\", \"Los Alamitos\", \"Los Alamitos\", \"Los Alamitos\", \"Los Alamitos\", \"Los Alamitos\", \"Los Alamitos\", \"Los Alamitos\", \"Los Alamitos\", \"Los Alamitos\", \"Los Alamitos\", \"Los Alamitos\", \"Los Alamitos\", \"Los Alamitos\", \"Los Alamitos\", \"Los Alamitos\", \"Los Alamitos\", \"Los Alamitos\", \"Los Alamitos\", \"Los Alamitos\", \"Los Alamitos\", \"Los Alamitos\", \"Los Alamitos\", \"Los Alamitos\", \"Los Alamitos\", \"Los Alamitos\", \"Los Alamitos\", \"Los Alamitos\", \"Los Alamitos\", \"Los Alamitos\", \"Los Alamitos\", \"Los Alamitos\", \"Los Alamitos\", \"Los Alamitos\", \"Los Alamitos\", \"Los Alamitos\", \"Los Alamitos\", \"Los Alamitos\", \"Los Alamitos\", \"Los Alamitos\", \"Los Alamitos\", \"Los Alamitos\", \"Los Alamitos\", \"Los Alamitos\", \"Los Alamitos\", \"Los Alamitos\", \"Los Alamitos\", \"Los Alamitos\", \"Los Alamitos\", \"Los Alamitos\", \"Los Alamitos\", \"Los Alamitos\", \"Los Alamitos\", \"Los Alamitos\", \"Los Alamitos\", \"Los Alamitos\", \"Los Alamitos\", \"Los Alamitos\", \"Los Alamitos\", \"Los Alamitos\", \"Los Alamitos\", \"Los Alamitos\", \"Los Alamitos\", \"Los Alamitos\", \"Los Alamitos\", \"Los Alamitos\", \"Los Alamitos\", \"Los Alamitos\", \"Los Alamitos\", \"Los Alamitos\", \"Los Alamitos\", \"Los Alamitos\", \"Los Alamitos\", \"Los Alamitos\", \"Los Alamitos\", \"Los Alamitos\", \"Los Alamitos\", \"Los Alamitos\", \"Los Alamitos\", \"Los Alamitos\", \"Los Alamitos\", \"Los Alamitos\", \"Los Alamitos\", \"Los Alamitos\", \"Los Alamitos\", \"Los Alamitos\", \"Los Alamitos\", \"Los Alamitos\", \"Los Alamitos\", \"Los Alamitos\", \"Los Alamitos\", \"Los Alamitos\", \"Los Alamitos\", \"Los Alamitos\", \"Los Alamitos\", \"Los Alamitos\", \"Los Alamitos\", \"Los Alamitos\", \"Los Alamitos\", \"Los Alamitos\", \"Los Alamitos\", \"Los Alamitos\", \"Los Alamitos\", \"Los Alamitos\", \"Los Alamitos\", \"Los Alamitos\", \"Los Alamitos\", \"Los Alamitos\", \"Los Alamitos\", \"Los Alamitos\", \"Los Alamitos\", \"Los Alamitos\", \"Los Alamitos\", \"Los Alamitos\", \"Los Alamitos\", \"Los Alamitos\", \"Los Alamitos\", \"Los Alamitos\", \"Los Alamitos\", \"Los Alamitos\", \"Los Alamitos\", \"Los Alamitos\", \"Los Alamitos\", \"Los Alamitos\", \"Los Alamitos\", \"Los Alamitos\", \"Los Alamitos\", \"Los Alamitos\", \"Los Alamitos\", \"Los Alamitos\", \"Los Alamitos\", \"Los Alamitos\", \"Los Alamitos\", \"Los Alamitos\", \"Los Alamitos\", \"Los Alamitos\", \"Los Alamitos\", \"Los Alamitos\", \"Los Alamitos\", \"Los Alamitos\", \"Los Alamitos\", \"Los Alamitos\", \"Los Alamitos\", \"Los Alamitos\", \"Los Alamitos\", \"Los Alamitos\", \"Los Alamitos\", \"Los Alamitos\", \"Los Alamitos\", \"Los Alamitos\", \"Los Alamitos\", \"Los Alamitos\", \"Los Alamitos\", \"Los Alamitos\", \"Los Alamitos\", \"Los Alamitos\", \"Los Alamitos\", \"Los Alamitos\", \"Los Alamitos\", \"Los Alamitos\", \"Los Alamitos\", \"Los Alamitos\", \"Los Alamitos\", \"Los Alamitos\", \"Los Alamitos\", \"Los Alamitos\", \"Los Alamitos\", \"Los Alamitos\", \"Los Alamitos\", \"Los Alamitos\", \"Los Alamitos\", \"Los Alamitos\", \"Los Alamitos\", \"Los Alamitos\", \"Los Alamitos\", \"Los Alamitos\", \"Los Alamitos\", \"Los Alamitos\", \"Los Alamitos\", \"Los Alamitos\", \"Los Alamitos\", \"Los Alamitos\", \"Los Alamitos\", \"Los Alamitos\", \"Los Alamitos\", \"Los Alamitos\", \"Los Alamitos\", \"Los Alamitos\", \"Los Alamitos\", \"Los Alamitos\", \"Los Alamitos\", \"Los Alamitos\", \"Los Alamitos\", \"Los Alamitos\", \"Los Alamitos\", \"Los Alamitos\", \"Los Alamitos\", \"Los Alamitos\", \"Los Alamitos\", \"Los Alamitos\", \"Los Alamitos\", \"Los Alamitos\", \"Los Alamitos\", \"Los Alamitos\", \"Los Alamitos\", \"Los Alamitos\", \"Los Alamitos\", \"Los Alamitos\", \"Los Alamitos\", \"Los Alamitos\", \"Los Alamitos\", \"Los Alamitos\", \"Los Alamitos\", \"Los Alamitos\", \"Los Alamitos\", \"Los Alamitos\", \"Los Alamitos\", \"Los Alamitos\", \"Los Alamitos\", \"Los Alamitos\", \"Los Alamitos\", \"Los Alamitos\", \"Los Alamitos\", \"Los Alamitos\", \"Los Alamitos\", \"Los Alamitos\", \"Los Alamitos\", \"Los Alamitos\", \"Los Alamitos\", \"Los Alamitos\", \"Los Alamitos\", \"Los Alamitos\", \"Los Alamitos\", \"Los Alamitos\", \"Los Alamitos\", \"Los Alamitos\", \"Los Alamitos\", \"Los Alamitos\", \"Los Alamitos\", \"Los Alamitos\", \"Los Alamitos\", \"Los Alamitos\", \"Los Alamitos\", \"Los Alamitos\", \"Los Alamitos\", \"Los Alamitos\", \"Los Alamitos\", \"Los Alamitos\", \"Los Alamitos\", \"Los Alamitos\", \"Los Alamitos\", \"Los Alamitos\", \"Los Alamitos\", \"Los Alamitos\", \"Los Alamitos\", \"Los Alamitos\", \"Los Alamitos\", \"Los Alamitos\", \"Los Alamitos\", \"Los Alamitos\", \"Los Alamitos\", \"Los Alamitos\", \"Los Alamitos\", \"Los Alamitos\", \"Los Alamitos\", \"Los Alamitos\", \"Los Alamitos\", \"Los Alamitos\", \"Los Alamitos\", \"Los Alamitos\", \"Los Alamitos\", \"Los Alamitos\", \"Los Alamitos\", \"Los Alamitos\", \"Los Alamitos\", \"Los Alamitos\", \"Los Alamitos\", \"Los Alamitos\", \"Los Alamitos\", \"Los Alamitos\", \"Los Alamitos\", \"Los Alamitos\", \"Los Alamitos\", \"Los Alamitos\", \"Los Alamitos\", \"Los Alamitos\", \"Los Alamitos\", \"Los Alamitos\", \"Los Alamitos\", \"Los Alamitos\", \"Los Alamitos\", \"Los Alamitos\", \"Los Alamitos\", \"Los Alamitos\", \"Los Alamitos\", \"Los Alamitos\", \"Los Alamitos\", \"Los Alamitos\", \"Los Alamitos\", \"Los Alamitos\", \"Los Alamitos\", \"Los Alamitos\", \"Los Alamitos\", \"Los Alamitos\", \"Los Alamitos\", \"Los Alamitos\", \"Los Alamitos\", \"Los Alamitos\", \"Los Alamitos\", \"Los Alamitos\", \"Los Alamitos\", \"Los Alamitos\", \"Los Alamitos\", \"Los Alamitos\", \"Los Alamitos\", \"Los Alamitos\", \"Los Alamitos\", \"Los Alamitos\", \"Los Alamitos\", \"Los Alamitos\", \"Los Alamitos\", \"Los Alamitos\", \"Los Alamitos\", \"Los Alamitos\", \"Los Alamitos\", \"Los Alamitos\", \"Los Alamitos\", \"Los Alamitos\", \"Los Alamitos\", \"Los Alamitos\", \"Los Alamitos\", \"Los Alamitos\", \"Los Alamitos\", \"Los Alamitos\", \"Los Alamitos\", \"Los Alamitos\", \"Los Alamitos\", \"Los Alamitos\", \"Los Alamitos\", \"Los Alamitos\", \"Los Alamitos\", \"Los Alamitos\", \"Los Alamitos\", \"Los Alamitos\", \"Los Alamitos\", \"Los Alamitos\", \"Los Alamitos\", \"Los Alamitos\", \"Los Alamitos\", \"Los Alamitos\", \"Los Alamitos\", \"Los Alamitos\", \"Los Alamitos\", \"Los Alamitos\", \"Los Alamitos\", \"Los Alamitos\", \"Los Alamitos\", \"Los Alamitos\", \"Los Alamitos\", \"Los Alamitos\", \"Los Alamitos\", \"Los Alamitos\", \"Los Alamitos\", \"Los Alamitos\", \"Los Alamitos\", \"Los Alamitos\", \"Los Alamitos\", \"Los Alamitos\", \"Los Alamitos\", \"Los Alamitos\", \"Los Alamitos\", \"Los Alamitos\", \"Los Alamitos\", \"Los Alamitos\", \"Los Alamitos\", \"Los Alamitos\", \"Los Alamitos\", \"Los Alamitos\", \"Los Alamitos\", \"Los Alamitos\", \"Los Alamitos\", \"Los Alamitos\", \"Los Alamitos\", \"Los Alamitos\", \"Los Alamitos\", \"Los Alamitos\", \"Los Alamitos\", \"Los Alamitos\", \"Los Alamitos\", \"Los Alamitos\", \"Los Alamitos\", \"Los Alamitos\", \"Los Alamitos\", \"Los Alamitos\", \"Los Alamitos\", \"Los Alamitos\", \"Los Alamitos\", \"Los Alamitos\", \"Los Alamitos\", \"Los Alamitos\", \"Los Alamitos\", \"Los Alamitos\", \"Los Alamitos\", \"Los Alamitos\", \"Los Alamitos\", \"Los Alamitos\", \"Los Alamitos\", \"Los Alamitos\", \"Los Alamitos\", \"Los Alamitos\", \"Los Alamitos\", \"Los Alamitos\", \"Los Alamitos\", \"Los Alamitos\", \"Los Alamitos\", \"Los Alamitos\", \"Los Alamitos\", \"Los Alamitos\", \"Los Alamitos\", \"Los Alamitos\", \"Los Alamitos\", \"Los Alamitos\", \"Los Alamitos\", \"Los Alamitos\", \"Los Alamitos\", \"Los Alamitos\", \"Los Alamitos\", \"Los Alamitos\", \"Los Alamitos\", \"Los Alamitos\", \"Los Alamitos\", \"Los Alamitos\", \"Los Alamitos\", \"Los Alamitos\", \"Los Alamitos\", \"Los Alamitos\", \"Los Alamitos\", \"Los Alamitos\", \"Los Alamitos\", \"Los Alamitos\", \"Los Alamitos\", \"Los Alamitos\", \"Los Alamitos\", \"Los Alamitos\", \"Los Alamitos\", \"Los Alamitos\", \"Los Alamitos\", \"Los Alamitos\", \"Los Alamitos\", \"Los Alamitos\", \"Los Alamitos\", \"Los Alamitos\", \"Los Alamitos\", \"Los Alamitos\", \"Los Alamitos\", \"Los Alamitos\", \"Los Alamitos\", \"Los Alamitos\", \"Los Alamitos\", \"Los Alamitos\", \"Los Alamitos\", \"Los Alamitos\", \"Los Alamitos\", \"Los Alamitos\", \"Los Alamitos\", \"Los Alamitos\", \"Los Alamitos\", \"Los Alamitos\", \"Los Alamitos\", \"Los Alamitos\", \"Los Alamitos\", \"Los Alamitos\", \"Los Alamitos\", \"Los Alamitos\", \"Los Alamitos\", \"Los Alamitos\", \"Los Alamitos\", \"Los Alamitos\", \"Los Alamitos\", \"Los Alamitos\", \"Los Alamitos\", \"Los Alamitos\", \"Los Alamitos\", \"Los Alamitos\", \"Los Alamitos\", \"Los Alamitos\", \"Los Alamitos\", \"Los Alamitos\", \"Los Alamitos\", \"Los Alamitos\", \"Los Alamitos\", \"Los Alamitos\", \"Los Alamitos\", \"Los Alamitos\", \"Los Alamitos\", \"Los Alamitos\", \"Los Alamitos\", \"Los Alamitos\", \"Los Alamitos\", \"Los Alamitos\", \"Los Alamitos\", \"Los Alamitos\", \"Los Alamitos\", \"Los Alamitos\", \"Los Alamitos\", \"Los Alamitos\", \"Los Alamitos\", \"Los Alamitos\", \"Los Alamitos\", \"Los Alamitos\", \"Los Alamitos\", \"Los Alamitos\", \"Los Alamitos\", \"Los Alamitos\", \"Los Alamitos\", \"Los Alamitos\", \"Los Alamitos\", \"Los Alamitos\", \"Los Alamitos\", \"Los Alamitos\", \"Los Alamitos\", \"Los Alamitos\", \"Los Alamitos\", \"Los Alamitos\", \"Los Alamitos\", \"Los Alamitos\", \"Los Alamitos\", \"Los Alamitos\", \"Los Alamitos\", \"Los Alamitos\", \"Whittier\", \"Whittier\", \"Whittier\", \"Whittier\", \"Whittier\", \"Whittier\", \"Whittier\", \"Whittier\", \"Whittier\", \"Whittier\", \"Whittier\", \"Whittier\", \"Whittier\", \"Whittier\", \"Whittier\", \"Whittier\", \"Whittier\", \"Whittier\", \"Whittier\", \"Whittier\", \"Whittier\", \"Whittier\", \"Whittier\", \"Whittier\", \"Whittier\", \"Whittier\", \"Whittier\", \"Whittier\", \"Whittier\", \"Whittier\", \"Whittier\", \"Whittier\", \"Whittier\", \"Whittier\", \"Whittier\", \"Whittier\", \"Whittier\", \"Whittier\", \"Whittier\", \"Whittier\", \"Whittier\", \"Whittier\", \"Whittier\", \"Whittier\", \"Whittier\", \"Whittier\", \"Whittier\", \"Whittier\", \"Whittier\", \"Whittier\", \"Whittier\", \"Whittier\", \"Whittier\", \"Whittier\", \"Whittier\", \"Whittier\", \"Whittier\", \"Whittier\", \"Whittier\", \"Whittier\", \"Whittier\", \"Whittier\", \"Whittier\", \"Whittier\", \"Whittier\", \"Whittier\", \"Whittier\", \"Whittier\", \"Whittier\", \"Whittier\", \"Whittier\", \"Whittier\", \"Whittier\", \"Whittier\", \"Whittier\", \"Whittier\", \"Whittier\", \"Whittier\", \"Whittier\", \"Whittier\", \"Whittier\", \"Whittier\", \"Whittier\", \"Whittier\", \"Whittier\", \"Whittier\", \"Whittier\", \"Whittier\", \"Whittier\", \"Whittier\", \"Whittier\", \"Whittier\", \"Whittier\", \"Whittier\", \"Whittier\", \"Whittier\", \"Whittier\", \"Whittier\", \"Whittier\", \"Whittier\", \"Victorville\", \"Victorville\", \"Victorville\", \"Victorville\", \"Victorville\", \"Victorville\", \"Victorville\", \"Victorville\", \"Victorville\", \"Victorville\", \"Victorville\", \"Victorville\", \"Victorville\", \"Victorville\", \"Victorville\", \"Victorville\", \"Victorville\", \"Victorville\", \"Victorville\", \"Victorville\", \"Victorville\", \"Victorville\", \"Victorville\", \"Victorville\", \"Victorville\", \"Victorville\", \"Victorville\", \"Victorville\", \"Victorville\", \"Victorville\", \"Victorville\", \"Victorville\", \"Victorville\", \"Victorville\", \"Victorville\", \"Victorville\", \"Victorville\", \"Victorville\", \"Victorville\", \"Victorville\", \"Victorville\", \"Victorville\", \"Victorville\", \"Victorville\", \"Victorville\", \"Victorville\", \"Victorville\", \"Victorville\", \"Victorville\", \"Victorville\", \"Victorville\", \"Victorville\", \"Victorville\", \"Victorville\", \"Victorville\", \"Victorville\", \"Victorville\", \"Victorville\", \"Victorville\", \"Victorville\", \"Victorville\", \"Victorville\", \"Victorville\", \"Victorville\", \"Victorville\", \"Victorville\", \"Victorville\", \"Victorville\", \"Victorville\", \"Victorville\", \"Victorville\", \"Victorville\", \"Victorville\", \"Victorville\", \"Victorville\", \"Victorville\", \"Victorville\", \"Victorville\", \"Victorville\", \"Victorville\", \"Victorville\", \"Victorville\", \"Victorville\", \"Victorville\", \"Victorville\", \"Victorville\", \"Victorville\", \"Victorville\", \"Victorville\", \"Victorville\", \"Victorville\", \"Victorville\", \"Victorville\", \"Victorville\", \"Victorville\", \"Victorville\", \"Victorville\", \"Victorville\", \"Victorville\", \"Victorville\", \"Victorville\", \"Victorville\", \"Victorville\", \"Victorville\", \"Victorville\", \"Victorville\", \"Victorville\", \"Victorville\", \"Victorville\", \"Victorville\", \"Victorville\", \"Victorville\", \"Victorville\", \"Fresno\", \"Fresno\", \"Fresno\", \"Fresno\", \"Fresno\", \"Fresno\", \"Fresno\", \"Fresno\", \"Fresno\", \"Fresno\", \"Fresno\", \"Fresno\", \"Fresno\", \"Fresno\", \"Fresno\", \"Fresno\", \"Fresno\", \"Fresno\", \"Fresno\", \"Fresno\", \"Fresno\", \"Fresno\", \"Fresno\", \"Fresno\", \"Fresno\", \"Fresno\", \"Fresno\", \"Fresno\", \"Fresno\", \"Fresno\", \"Fresno\", \"Fresno\", \"Fresno\", \"Fresno\", \"Fresno\", \"Fresno\", \"Fresno\", \"Fresno\", \"Fresno\", \"Fresno\", \"Fresno\", \"Fresno\", \"Fresno\", \"Fresno\", \"Fresno\", \"Fresno\"], \"type\": \"scatter\", \"mode\": \"markers\"}], {\"yaxis\": {\"title\": \"Time Enrolled\"}, \"xaxis\": {\"title\": \"City of Camp\"}, \"title\": \"City of Camp vs Time Enrolled\"}, {\"linkText\": \"Export to plot.ly\", \"showLink\": true})});</script>"
      ],
      "text/plain": [
       "<IPython.core.display.HTML object>"
      ]
     },
     "metadata": {},
     "output_type": "display_data"
    },
    {
     "name": "stdout",
     "output_type": "stream",
     "text": [
      "Definitely time enrolled depends on city - Stockton, Los ALamitos, San Jose have high enrollment times, SF, San CLemente not great - IN LR not super clear whats going on\n"
     ]
    }
   ],
   "source": [
    "\n",
    "trace1 = Scatter(x=students['city_camp'],y=students['time_enrolled'], mode='markers')\n",
    "data = [trace1]\n",
    "layout = Layout(xaxis=dict(title = 'City of Camp'),\n",
    "                 yaxis=dict(title='Time Enrolled'),\n",
    "                title='City of Camp vs Time Enrolled')\n",
    "\n",
    "\n",
    "fig1 = Figure(data=data, layout=layout)\n",
    "iplot(fig1)\n",
    "\n",
    "students['time_enrolled'].groupby(students['city_camp']).mean()\n",
    "print('Definitely time enrolled depends on city - Stockton, Los ALamitos, San Jose have high enrollment times, SF, San CLemente not great - IN LR not super clear whats going on')\n"
   ]
  },
  {
   "cell_type": "code",
   "execution_count": 562,
   "metadata": {
    "collapsed": false
   },
   "outputs": [
    {
     "name": "stdout",
     "output_type": "stream",
     "text": [
      "The p value is 0.0989691751991 and the t value is -0.643884990064\n",
      "The effect size is -0.0499569449623\n",
      "Males are enrolled on average for 373 days\n",
      "Females are enrolled on average for 395 days\n",
      "Females are enrolled on average for a longer number of days, so might want to target males, but this is probably not a high return on investment because the distributions are not significantly different, and the effect on predicting churn is also small.\n"
     ]
    },
    {
     "data": {
      "text/html": [
       "<div id=\"bec7bd48-3713-4374-9238-c5e3bce7c3b8\" style=\"height: 525px; width: 100%;\" class=\"plotly-graph-div\"></div><script type=\"text/javascript\">require([\"plotly\"], function(Plotly) { window.PLOTLYENV=window.PLOTLYENV || {};window.PLOTLYENV.BASE_URL=\"https://plot.ly\";Plotly.newPlot(\"bec7bd48-3713-4374-9238-c5e3bce7c3b8\", [{\"y\": [90, 241, 85, 83, 149, 47, 57, 205, 225, 234, 469, 38, 23, 445, 82, 59, 54, 206, 17, 40, 240, 522, 15, 98, 161, 426, 23, 392, 263, 264, 424, 53, 41, 598, 139, 212, 77, 241, 160, 464, 12, 18, 41, 187, 210, 229, 272, 207, 68, 53, 453, 271, 133, 119, 107, 416, 348, 76, 229, 232, 97, 113, 142, 167, 12, 13, 140, 147, 101, 351, 327, 86, 85, 84, 609, 109, 98, 31, 552, 148, 148, 51, 27, 74, 41, 193, 77, 537, 433, 878, 334, 732, 338, 74, 557, 47, 88, 36, 259, 74, 93, 196, 197, 49, 1050, 505, 77, 77, 785, 480, 77, 263, 270, 229, 52, 40, 113, 52, 182, 112, 57, 418, 141, 42, 1332, 1188, 175, 1085, 389, 490, 478, 588, 154, 160, 551, 150, 42, 678, 40, 241, 155, 13, 292, 231, 1506, 1343, 451, 224, 288, 65, 85, 50, 401, 91, 395, 287, 159, 389, 363, 651, 150, 112, 150, 116, 115, 806, 663, 299, 678, 231, 663, 679, 244, 425, 1285, 505, 146, 99, 659, 657, 786, 191, 59, 59, 69, 110, 286, 34, 18, 821, 191, 173, 1049, 772, 160, 175, 1059, 203, 357, 14, 77, 224, 37, 14, 131, 134, 210, 32, 53, 209, 334, 288, 558, 267, 14, 34, 173, 1134, 37, 133, 336, 735, 117, 732, 293, 162, 111, 961, 105, 537, 61, 114, 176, 826, 28, 951, 537, 118, 82, 208, 318, 615, 157, 77, 343, 236, 660, 270, 270, 137, 122, 224, 235, 261, 221, 1165, 762, 289, 126, 425, 16, 103, 294, 126, 180, 426, 294, 180, 146, 236, 307, 80, 257, 196, 1340, 699, 210, 340, 116, 233, 1363, 97, 257, 108, 104, 1342, 823, 1442, 14, 457, 440, 616, 1362, 41, 54, 616, 475, 635, 210, 658, 137, 152, 1071, 31, 3, 196, 398, 585, 279, 137, 197, 173, 175, 312, 224, 373, 232, 124, 231, 105, 173, 40, 431, 208, 322, 143, 87, 25, 697, 312, 697, 87, 324, 62, 104, 827, 399, 574, 201, 596, 623, 156, 496, 13, 453, 576, 911, 212, 1267, 392, 136, 392, 709, 102, 227, 210, 196, 806, 105, 1185, 211, 984, 211, 68, 114, 171, 211, 249, 307, 44, 155, 357, 602, 57, 1088, 73, 307, 89, 196, 489, 89, 114, 905, 157, 56, 59, 905, 18, 805, 574, 66, 260, 881, 196, 714, 441, 326, 504, 842, 13, 187, 87, 1763, 1296, 180, 80, 545, 209, 30, 77, 675, 538, 504, 48, 537, 305, 140, 139, 77, 337, 305, 161, 440, 455, 378, 21, 261, 448, 290, 67, 546, 637, 196, 713, 546, 285, 84, 196, 106, 906, 245, 247, 189, 146, 149, 191, 91, 254, 193, 174, 245, 24, 244, 246, 89, 253, 245, 121, 64, 72, 254, 260, 150, 143, 141, 260, 101, 30, 253, 266, 19, 37, 255, 25, 269, 53, 73, 257, 181, 247, 45, 14, 230, 219, 206, 36, 272, 19, 19, 23, 183, 36, 6, 257, 274, 171, 159, 157, 30, 26, 176, 155, 262, 92, 77, 61, 260, 255, 273, 62, 197, 77, 289, 92, 153, 32, 31, 168, 153, 122, 245, 249, 222, 269, 123, 6, 245, 19, 0, 0, 0, 249, 59, 87, 249, 252, 31, 252, 78, 122, 12, 247, 266, 236, 63, 176, 51, 473, 103, 39, 76, 285, 42, 42, 106, 58, 84, 86, 107, 111, 122, 201, 80, 168, 141, 270, 177, 377, 77, 196, 73, 289, 83, 179, 181, 60, 81, 74, 41, 324, 324, 102, 102, 5, 91, 173, 236, 353, 23, 23, 117, 42, 56, 578, 114, 55, 23, 212, 212, 69, 212, 212, 222, 25, 35, 73, 71, 220, 240, 474, 40, 42, 111, 76, 172, 172, 301, 52, 69, 114, 288, 241, 134, 39, 368, 117, 220, 53, 54, 86, 117, 454, 454, 77, 140, 46, 128, 116, 228, 228, 53, 502, 513, 38, 38, 257, 248, 178, 368, 96, 492, 163, 748, 404, 790, 105, 188, 28, 92, 104, 49, 79, 87, 137, 104, 133, 307, 185, 27, 412, 103, 83, 105, 23, 329, 48, 748, 452, 0, 474, 417, 563, 342, 188, 309, 34, 829, 179, 39, 48, 333, 124, 72, 137, 406, 220, 22, 425, 19, 138, 249, 285, 128, 164, 252, 1, 360, 126, 14, 836, 97, 83, 305, 305, 25, 154, 47, 153, 76, 216, 882, 315, 563, 333, 43, 9, 132, 84, 139, 351, 398, 426, 177, 398, 266, 489, 168, 190, 665, 426, 305, 1033, 211, 63, 629, 456, 570, 1144, 426, 304, 46, 265, 55, 230, 279, 48, 90, 104, 88, 350, 69, 214, 21, 400, 753, 66, 45, 140, 55, 188, 174, 135, 265, 19, 87, 142, 110, 111, 184, 110, 358, 50, 50, 81, 204, 267, 267, 134, 122, 107, 23, 273, 212, 9, 7, 172, 172, 13, 242, 50, 241, 297, 261, 293, 292, 167, 27, 35, 29, 83, 128, 238, 38, 46, 57, 273, 216, 240, 316, 43, 261, 730, 157, 28, 406, 381, 301, 144, 129, 175, 169, 93, 84, 275, 371, 197, 112, 328, 177, 49, 58, 406, 500, 91, 616, 106, 106, 157, 57, 195, 485, 97, 112, 169, 45, 485, 45, 266, 263, 107, 211, 539, 539, 132, 24, 98, 281, 69, 96, 7, 16, 328, 350, 30, 305, 178, 625, 283, 169, 339, 318, 45, 45, 515, 535, 357, 75, 613, 56, 413, 397, 86, 7, 558, 603, 698, 52, 188, 699, 322, 158, 473, 913, 552, 1428, 223, 59, 444, 318, 205, 77, 166, 381, 130, 59, 315, 94, 1252, 69, 132, 1449, 1449, 192, 1347, 378, 248, 906, 52, 248, 73, 689, 33, 301, 83, 298, 842, 724, 1245, 545, 87, 814, 258, 75, 815, 7, 141, 426, 1801, 441, 89, 1372, 21, 42, 139, 65, 30, 121, 63, 70, 39, 464, 86, 85, 87, 215, 83, 385, 82, 619, 78, 45, 48, 286, 1155, 319, 1290, 606, 259, 452, 111, 168, 782, 531, 251, 166, 119, 290, 798, 224, 606, 1379, 821, 119, 459, 1670, 31, 331, 598, 181, 346, 542, 293, 157, 14, 231, 462, 612, 150, 1169, 231, 206, 27, 85, 183, 839, 498, 115, 682, 323, 151, 90, 120, 440, 16, 256, 236, 973, 149, 401, 63, 371, 908, 913, 45, 637, 526, 198, 148, 155, 343, 789, 427, 172, 51, 1207, 372, 87, 175, 1025, 760, 759, 329, 592, 196, 126, 271, 1114, 362, 119, 149, 263, 122, 369, 1033, 223, 294, 1113, 1315, 994, 178, 753, 390, 210, 240, 86, 170, 55, 90, 507, 636, 126, 448, 142, 745, 946, 176, 452, 74, 81, 136, 239, 1120, 1347, 383, 119, 84, 110, 134, 325, 268, 84, 326, 14, 226, 247, 205, 921, 711, 221, 53, 23, 28, 28, 35, 37, 35, 17, 149, 25, 24, 25, 119, 57, 115, 212, 101, 84, 137, 133, 70, 137, 193, 178, 140, 116, 187, 184, 233, 589, 176, 270, 11, 796, 108, 249, 215, 130, 33, 149, 798, 796, 1120, 142, 99, 804, 307, 34, 902, 29, 585, 56, 135, 254, 568, 827, 337, 15, 363, 269, 357, -102, 101, 458, 224, 69, 58, 493, 199, 122, 124, 1093, 1385, 121, 40, 781, 1385, 98, 545, 177, 55, 235, 82, 208, 523, 542, 210, 316, 35, 23, 546, 130, 313, 184, 163, 303, 31, 11, 232, 197, 110, 34, 175, 553, 189, 951, 476, 561, 56, 136, 34, 134, 228, 314, 394, 309, 1147, 41, 12, 37, 141, 77, 77, 70, 42, 255, 169, 49, 43, 231, 373, 116, 170, 260, 220, 1338, 66, 159, 76, 191, 7, 377, 98, 156, 83, 156, 154, 421, 141, 1048, 1274, 678, 160, 176, 132, 548, 403, 39, 228, 39, 85, 382, 364, 78, 79, 148, 875, 143, 39, 232, 364, 77, 410, 207, 364, 708, 176, 64, 93, 999, 69, 46, 52, 1006, 43, 41, 650, 732, 171, 81, 55, 336, 175, 251, 173, 663, 364, 15, 343, 44, 2, 988, 239, 218, 447, 80, 267, 36, 1086, 78, 264, 105, 78, 980, 321, 197, 261, 100, 362, 66, 116, 30, 189, 230, 197, 30, 86, 200, 226, 413, 287, 30, 218, 457, 356, 99, 19, 16, 30, 189, 39, 528, 259, 30, 48, 312, 91, 9, 543, 20, 211, 848, 48, 92, 50, 712, 220, 211, 211, 959, 823, 692, 1449, 573, 566, 100, 546, 1267, 580, 1692, 547, 105, 996, 1896, 573, 2081, 243, 1113, 1206, 1973, 574, 1110, 164, 1455, 114, 393, 410, 791, 107, 1497, 663, 679, 1475, 202, 879, 1078, 807, 909, 601, 219, 193, 2624, 748, 138, 244, 725, 1352, 275, 2501, 1536, 1483, 1677, 335, 429, 358, 1325, 162, 146, 303, 775, 174, 51, 1833, 363, 62, 89, 366, 946, 55, 85, 431, 1028, 479, 482, 348, 743, 752, 419, 133, 1402, 535, 752, 37, 1730, 121, 1301, 1553, 2338, 636, 544, 913, 121, 590, 174, 328, 317, 174, 1322, 356, 463, 359, 258, 1333, 477, 1344, 699, 988, 113, 126, 969, 608, 484, 575, 1692, 574, 747, 45, 1269, 192, 1143, 198, 83, 62, 745, 139, 44, 332, 1193, 65, 230, 331, 93, 206, 258, 561, 324, 6, 2266, 1323, 545, 311, 496, 84, 1525, 363, 2313, 521, 530, 561, 240, 417, 1190, 848, 19, 359, 148, 1199, 617, 1454, 897, 601, 601, 1666, 1539, 1013, 267, 377, 267, 734, 288, 345, 469, 91, 819, 464, 398, 758, 592, 1099, 1819, 454, 443, 965, 758, 741, 378, 1212, 500, 818, 388, 131, 1427, 91, 103, 755, 576, 1760, 2077, 2180, 1710, 1476, 568, 456, 2860, 2076, 2024, 808, 980, 227, 865, 429, 521, 392, 949, 1985, 1657, 699, 834, 848, 713, 713, 132, 834, 402, 315, 1213, 107, 197, 671, 1215, 345, 342, 1393, 657, 234, 631, 734, 104, 650, 651, 41, 479, 83, 244, 508, 76, 227, 350, 261, 384, 380, 450, 381, 373, 338, 368, 272, 274, 1605, 148, 388, 1217, 321, 497, 377, 733, 761, 626, 997, 23, 656, 1200, 763, 1873, 66, 2635, 638, 20, 846, 366, 1162, 202, 1122, 1983, 390, 393, 2522, 254, 393, 477, 390, 30, 118, 432, 2006, 457, 2629, 118, 544, 123, 1290, 80, 2222, 624, 1357, 138, 1725, 2263, 314, 380, 486, 1970, 874, 1717, 38, 1611, 120, 2071, 2623, 838, 444, 51, 211, 689, 2207, 1035, 982, 2067, 597, 440, 28, 147, 959, 402, 2695, 28, 314, 503, 1088, 848, 2112, 884, 149, 907, 148, 132, 1356, 233, 1007, 1766, 1133, 363, 1186, 265, 1215, 149, 1818, 941, 142, 631, 77, 552, 265, 628, 772, 1321, 1441, 580, 1374, 370, 720, 2728, 2469, 1542, 631, 88, 1727, 646, 1307, 2627, 1487, 118, 1563, 911, 103, 88, 790, 267, 1642, 1244, 2207, 688, 191, 593, 198, 905, 545, 1209, 114, 712, 1094, 541, 593, 34, 122, 23, 287, 343, 1249, 99, 46, 653, 2772, 338, 1114, 215, 198, 721, 335, 553, 1106, 1726, 315, 412, 973, 40, 979, 37, 226, 311, 117, 323, 1726, 19, 238, 655, 479, 20, 161, 241, 1061, 821, 905, 272, 86, 230, 1716, 193, 373, 935, 450, 40, 299, 105, 1884, 132, 73, 399, 198, 246, 443, 180, 164, 99, 65, 730, 282, 552, 436, 178, 527, 414, 245, 79, 506, 54, 1460, 499, 28, 106, 388, 232, 336, 351, 210, 357, 192, 1636, 317, 568, 479, 1270, 559, 26, 2031, 1516, 450, 35, 726, 137, 531, 833, 1065, 1064, 79, 1270, 137, 179, 1738, 270, 1491, 128, 131, 393, 466, 470, 1491, 132, 516, 71, 177, 542, 347, 122, 791, 116, 311, 2128, 147, 598, 1047, 179, 513, 13, 223, 748, 1883, 114, 272, 512, 171, 111, 348, 308, 63, 896, 114, 48, 349, 268, 105, 207, 51, 168, 77, 5, 51, 217, 211, 201, 837, 257, 85, 298, 764, 532, 124, 1132, 213, 590, 1012, 44, 134, 424, 153, 501, 423, 170, 274, 21, 1623, 1650, 329, 181, 1219, 358, 281, 50, 19, 51, 516, 29, 1631, 657, 215, 312, 353, 261, 1513, 512, 657, 156, 212, 14, 182, 161, 149, 184, 214, 609, 680, 658, 230, 271, 200, 147, 194, 329, 403, 235, 118, 220, 126, 166, 510, 592, 73, 588, 71, 96, 195, 294, 648, 242, 84, 1765, 664, 986, 802, 1473, 546, 1640, 77, 355, 125, 361, 603, 323, 243, 464, 660, 660, 433, 301, 175, 723, 547, 201, 1032, 44, 305, 271, 212, 104, 224, 343, 350, 1205, 177, 320, 40, 63, 459, 108, 183, 688, 490, 300, 140, 1367, 163, 482, 258, 39, 626, 300, 986, 895, 622, 626, 329, 601, 168, 49, 195, 601, 119, 864, 195, 198, 249, 107, 176, 865, 34, 181, 179, 872, 170, 323, 1405, 461, 169, 1201, 798, 1428, 51, 751, 237, 245, 120, 97, 373, 173, 310, 455, 14, 187, 702, 383, 823, 454, 454, 77, 100, 63, 671, 48, 399, 745, 1445, 459, 882, 104, 252, 1393, 405, 184, 350, 574, 574, 81, 525, 889, 808, 284, 142, 1203, 168, 168, 83, 185, 940, 1332, 225, 86, 209, 247, 499, 170, 329, 1133, 243, 443, 139, 54, 688, 133, 437, 746, 334, 139, 334, 235, 334, 15, 77, 90, 143, 148, 733, 111, 61, 228, 1274, 275, 63, 64, 63, 442, 426, 105, 123, 775, 525, 167, 395, 22, 378, 359, 514, 1461, 161, 350, 58, 419, 1260, 241, 350, 861, 1598, 775, 1398, 926, 2090, 285, 161, 332, 180, 1139, 112, 8, 142, 90, 502, 295, 47, 636, 118, 342, 217, 218, 138, 367, 435, 1134, 365, 952, 574, 189, 293, 758, 36, 163, 689, 890, 1090, 296, 34, 327, 560, 67, 2357, 238, 357, 62, 517, 1825, 242, 991, 833, 189, 177, 190, 81, 379, 411, 79, 981, 135, 341, 53, 14, 455, 701, 29, 29, 260, 576, 342, 708, 170, 28, 247, 58, 112, 928, 180, 1388, 112, 2537, 250, 2070, 75, 133, 545, 350, 546, 434, 1269, 625, 175, 213, 370, 44, 1113, 514, 260, 332, 35, 608, 227, 152, 455, 680, 55, 74, 532, 180, 41, 202, 390, 343, 889, 202, 342, 350, 420, 907, 253, 547, 889, 392, 107, 452, 374, 547, 367, 248, 42, 58, 101, 140, 101, 874, 1708, 1047, 403, 716, 1141, 90, 183, 450, 60, 354, 298, 297, 135, 523, 1330, 127, 301, 266, 940, 600, 813, 63, 192, 467, 143, 14, 59, 1271, 379, 239, 189, 1349, 469, 51, 504, 546, 114, 339, 164, 237, 160, 105, 323, 520, 101, 546, 155, 197, 600, 212, 547, 89, 57, 322, 56, 151, 8, 211, 39, 28, 64, 322, 1680, 151, 1721, 306, 1607, 440, 1815, 498, 1881, 98, 291, 970, 889, 2035, 1501, 89, 23, 85, 14, 549, 409, 93, 42, 500, 30, 25, 252, 15, 59, 524, 15, 124, 58, 28, 104, 166, 136, 87, 329, 106, 179, 39, 365, 37, 7, 152, 76, 243, 77, 57, 211, 243, 240, 260, 214, 250, 48, 121, 148, 149, 48, 85, 75, 265, 149, 76, 343, 213, 88, 429, 24, 250, 142, 47, 318, 350, 26, 362, 75, 89, 46, 228, 57, 59, 60, 209, 26, 14, 515, 89, 12, 75, 518, 76, 457, 334, 60, 107, 75, 128, 25, 470, 209, 105, 464, 32, 67, 20, 100, 149, 100, 64, 16, 206, 16, 133, 334, 303, 89, 20, 497, 98, 20, 29, 90, 18, 56, 63, 53, 349, 341, 211, 67, 252, 231, 39, 534, 407, 152, 137, 450, 393, 14, 123, 14, 14, 116, 171, 21, 238, 252, 49, 426, 318, 399, 112, 58, 27, 20, 417, 18, 295, 53, 175, 11, 56, 116, 56, 46, 119, 119, 232, 238, 60, 133, 177, 30, 224, 483, 479, 119, 18, 159, 88, 406, 220, 73, 76, 56, 197, 419, 32, 173, 420, 99, 100, 123, 53, 604, 305, 91, 603, 235, 124, 41, 227, 138, 174, 127, 145, 43, 48, 19, 46, 165, 31, 108, 273, 108, 98, 25, 110, 91, 45, 266, 335, 58, 67, 121, 596, 63, 377, 78, 90, 378, 90, 37, 70, 346, 33, 71, 370, 176, 166, 91, 372, 212, 321, 70, 44, 289, 373, 34, 21, 151, 165, 362, 316, 161, 266, 35, 21, 61, 21, 119, 37, 334, 18, 14, 3, 524, 172], \"x\": [\"M\", \"M\", \"F\", \"F\", \"M\", \"M\", \"M\", \"F\", \"M\", \"F\", \"F\", \"F\", \"F\", \"F\", \"F\", \"M\", \"F\", \"F\", \"F\", \"M\", \"F\", \"F\", \"M\", \"M\", \"M\", \"M\", \"F\", \"F\", \"M\", \"F\", \"F\", \"F\", \"M\", \"M\", \"F\", \"M\", \"M\", \"F\", \"F\", \"F\", \"F\", \"F\", \"F\", \"M\", \"F\", \"M\", \"F\", \"F\", \"M\", \"F\", \"M\", \"M\", \"F\", \"M\", \"F\", \"F\", \"F\", \"F\", \"F\", \"M\", \"F\", \"F\", \"M\", \"F\", \"F\", \"F\", \"F\", \"M\", \"F\", \"F\", \"M\", \"F\", \"F\", \"F\", \"M\", \"M\", \"F\", \"F\", \"F\", \"M\", \"F\", \"F\", \"M\", \"M\", \"F\", \"M\", \"M\", \"F\", \"M\", \"M\", \"F\", \"F\", \"M\", \"M\", \"F\", \"M\", \"M\", \"M\", \"M\", \"M\", \"F\", \"M\", \"M\", \"F\", \"M\", \"M\", \"F\", \"F\", \"M\", \"F\", \"M\", \"M\", \"M\", \"F\", \"F\", \"F\", \"M\", \"F\", \"M\", \"M\", \"F\", \"M\", \"M\", \"M\", \"F\", \"F\", \"F\", \"M\", \"F\", \"M\", \"M\", \"F\", \"M\", \"F\", \"M\", \"M\", \"M\", \"M\", \"M\", \"F\", \"F\", \"F\", \"M\", \"F\", \"F\", \"M\", \"M\", \"F\", \"F\", \"F\", \"M\", \"F\", \"M\", \"F\", \"F\", \"F\", \"F\", \"M\", \"M\", \"M\", \"M\", \"F\", \"M\", \"F\", \"F\", \"M\", \"F\", \"F\", \"M\", \"M\", \"F\", \"M\", \"M\", \"M\", \"M\", \"M\", \"M\", \"F\", \"F\", \"M\", \"F\", \"F\", \"F\", \"M\", \"F\", \"F\", \"M\", \"M\", \"M\", \"F\", \"M\", \"M\", \"F\", \"F\", \"M\", \"F\", \"M\", \"M\", \"M\", \"F\", \"F\", \"F\", \"F\", \"M\", \"F\", \"F\", \"M\", \"F\", \"F\", \"F\", \"F\", \"M\", \"M\", \"F\", \"F\", \"F\", \"M\", \"F\", \"F\", \"M\", \"F\", \"M\", \"M\", \"M\", \"M\", \"F\", \"M\", \"F\", \"F\", \"F\", \"M\", \"M\", \"M\", \"M\", \"F\", \"F\", \"M\", \"F\", \"M\", \"F\", \"F\", \"F\", \"F\", \"M\", \"F\", \"F\", \"M\", \"M\", \"M\", \"F\", \"F\", \"M\", \"F\", \"F\", \"M\", \"M\", \"M\", \"F\", \"F\", \"F\", \"F\", \"F\", \"F\", \"M\", \"F\", \"F\", \"F\", \"F\", \"M\", \"M\", \"M\", \"F\", \"M\", \"F\", \"M\", \"F\", \"M\", \"F\", \"M\", \"M\", \"M\", \"M\", \"M\", \"M\", \"F\", \"M\", \"M\", \"F\", \"M\", \"F\", \"F\", \"M\", \"F\", \"M\", \"M\", \"M\", \"M\", \"F\", \"M\", \"M\", \"M\", \"F\", \"M\", \"M\", \"F\", \"M\", \"M\", \"M\", \"F\", \"F\", \"M\", \"F\", \"M\", \"F\", \"M\", \"M\", \"F\", \"M\", \"M\", \"M\", \"F\", \"F\", \"M\", \"M\", \"F\", \"M\", \"F\", \"M\", \"M\", \"M\", \"M\", \"M\", \"F\", \"F\", \"F\", \"F\", \"M\", \"M\", \"F\", \"M\", \"M\", \"M\", \"M\", \"F\", \"M\", \"F\", \"F\", \"F\", \"F\", \"F\", \"M\", \"M\", \"F\", \"M\", \"F\", \"F\", \"F\", \"F\", \"F\", \"M\", \"F\", \"F\", \"F\", \"F\", \"M\", \"M\", \"M\", \"F\", \"M\", \"M\", \"M\", \"F\", \"F\", \"F\", \"M\", \"M\", \"M\", \"F\", \"F\", \"M\", \"M\", \"F\", \"F\", \"F\", \"F\", \"F\", \"F\", \"F\", \"M\", \"M\", \"M\", \"F\", \"M\", \"F\", \"F\", \"M\", \"F\", \"M\", \"F\", \"F\", \"F\", \"F\", \"F\", \"F\", \"F\", \"M\", \"F\", \"M\", \"F\", \"F\", \"M\", \"F\", \"M\", \"M\", \"F\", \"F\", \"M\", \"M\", \"F\", \"F\", \"M\", \"F\", \"F\", \"F\", \"M\", \"F\", \"F\", \"F\", \"M\", \"M\", \"F\", \"M\", \"M\", \"M\", \"F\", \"M\", \"M\", \"M\", \"F\", \"F\", \"M\", \"M\", \"M\", \"M\", \"F\", \"F\", \"F\", \"F\", \"F\", \"M\", \"F\", \"M\", \"F\", \"F\", \"F\", \"F\", \"F\", \"F\", \"F\", \"F\", \"F\", \"F\", \"M\", \"F\", \"F\", \"M\", \"F\", \"M\", \"F\", \"F\", \"F\", \"M\", \"F\", \"M\", \"F\", \"F\", \"F\", \"F\", \"M\", \"M\", \"F\", \"M\", \"F\", \"F\", \"F\", \"F\", \"M\", \"F\", \"M\", \"M\", \"M\", \"F\", \"F\", \"M\", \"M\", \"M\", \"F\", \"M\", \"M\", \"M\", \"M\", \"M\", \"F\", \"M\", \"M\", \"F\", \"M\", \"M\", \"F\", \"F\", \"M\", \"M\", \"F\", \"F\", \"F\", \"F\", \"F\", \"F\", \"M\", \"F\", \"F\", \"F\", \"M\", \"F\", \"F\", \"F\", \"M\", \"F\", \"M\", \"M\", \"M\", \"F\", \"F\", \"F\", \"F\", \"M\", \"M\", \"F\", \"F\", \"M\", \"F\", \"M\", \"M\", \"M\", \"M\", \"F\", \"F\", \"F\", \"F\", \"M\", \"M\", \"M\", \"M\", \"F\", \"M\", \"F\", \"F\", \"F\", \"F\", \"M\", \"F\", \"M\", \"F\", \"F\", \"F\", \"F\", \"M\", \"M\", \"M\", \"M\", \"M\", \"F\", \"F\", \"M\", \"F\", \"M\", \"F\", \"F\", \"M\", \"M\", \"F\", \"M\", \"F\", \"M\", \"F\", \"M\", \"F\", \"F\", \"F\", \"F\", \"M\", \"M\", \"F\", \"M\", \"F\", \"F\", \"F\", \"M\", \"F\", \"M\", \"F\", \"F\", \"M\", \"F\", \"F\", \"M\", \"M\", \"F\", \"M\", \"F\", \"F\", \"F\", \"M\", \"F\", \"M\", \"F\", \"M\", \"M\", \"M\", \"F\", \"F\", \"M\", \"M\", \"M\", \"M\", \"M\", \"M\", \"M\", \"F\", \"F\", \"M\", \"F\", \"M\", \"M\", \"M\", \"F\", \"F\", \"F\", \"M\", \"M\", \"F\", \"M\", \"M\", \"F\", \"F\", \"M\", \"F\", \"M\", \"F\", \"M\", \"M\", \"M\", \"M\", \"M\", \"M\", \"F\", \"M\", \"M\", \"M\", \"M\", \"F\", \"M\", \"F\", \"M\", \"F\", \"F\", \"F\", \"M\", \"M\", \"M\", \"M\", \"F\", \"F\", \"F\", \"M\", \"F\", \"F\", \"M\", \"F\", \"F\", \"F\", \"M\", \"F\", \"F\", \"F\", \"M\", \"F\", \"F\", \"M\", \"M\", \"M\", \"M\", \"M\", \"F\", \"F\", \"M\", \"M\", \"M\", \"F\", \"M\", \"F\", \"M\", \"F\", \"M\", \"F\", \"F\", \"M\", \"M\", \"F\", \"F\", \"F\", \"M\", \"F\", \"M\", \"F\", \"M\", \"F\", \"M\", \"M\", \"M\", \"M\", \"M\", \"F\", \"F\", \"F\", \"F\", \"M\", \"M\", \"M\", \"F\", \"F\", \"F\", \"M\", \"F\", \"F\", \"M\", \"F\", \"F\", \"M\", \"F\", \"F\", \"M\", \"M\", \"M\", \"F\", \"M\", \"M\", \"F\", \"F\", \"M\", \"F\", \"F\", \"F\", \"M\", \"M\", \"M\", \"F\", \"F\", \"M\", \"M\", \"F\", \"M\", \"M\", \"M\", \"F\", \"M\", \"F\", \"M\", \"F\", \"M\", \"M\", \"F\", \"F\", \"M\", \"F\", \"F\", \"F\", \"F\", \"M\", \"F\", \"M\", \"F\", \"F\", \"M\", \"F\", \"F\", \"F\", \"F\", \"F\", \"M\", \"F\", \"F\", \"F\", \"F\", \"F\", \"F\", \"F\", \"M\", \"M\", \"F\", \"F\", \"F\", \"M\", \"M\", \"M\", \"M\", \"F\", \"F\", \"F\", \"M\", \"M\", \"M\", \"F\", \"F\", \"M\", \"M\", \"M\", \"M\", \"F\", \"F\", \"M\", \"M\", \"M\", \"M\", \"M\", \"F\", \"M\", \"M\", \"F\", \"F\", \"F\", \"M\", \"F\", \"F\", \"F\", \"M\", \"F\", \"M\", \"F\", \"F\", \"M\", \"M\", \"M\", \"M\", \"F\", \"F\", \"F\", \"M\", \"F\", \"F\", \"F\", \"M\", \"F\", \"F\", \"M\", \"F\", \"F\", \"F\", \"F\", \"F\", \"F\", \"F\", \"F\", \"F\", \"F\", \"F\", \"F\", \"M\", \"F\", \"F\", \"M\", \"F\", \"F\", \"M\", \"F\", \"M\", \"M\", \"F\", \"M\", \"M\", \"F\", \"M\", \"F\", \"M\", \"F\", \"M\", \"F\", \"M\", \"F\", \"F\", \"M\", \"F\", \"M\", \"F\", \"M\", \"M\", \"F\", \"M\", \"M\", \"M\", \"M\", \"F\", \"M\", \"M\", \"M\", \"F\", \"F\", \"F\", \"M\", \"F\", \"F\", \"F\", \"M\", \"F\", \"M\", \"F\", \"F\", \"F\", \"M\", \"F\", \"F\", \"F\", \"M\", \"M\", \"M\", \"M\", \"M\", \"F\", \"M\", \"M\", \"M\", \"M\", \"M\", \"M\", \"M\", \"F\", \"F\", \"M\", \"F\", \"M\", \"M\", \"F\", \"M\", \"M\", \"M\", \"F\", \"F\", \"M\", \"F\", \"F\", \"M\", \"M\", \"F\", \"F\", \"F\", \"F\", \"M\", \"M\", \"F\", \"M\", \"F\", \"M\", \"F\", \"M\", \"F\", \"F\", \"F\", \"M\", \"M\", \"M\", \"F\", \"M\", \"F\", \"M\", \"M\", \"F\", \"F\", \"F\", \"M\", \"M\", \"M\", \"F\", \"M\", \"F\", \"F\", \"F\", \"M\", \"F\", \"F\", \"F\", \"M\", \"F\", \"F\", \"M\", \"F\", \"M\", \"M\", \"F\", \"M\", \"F\", \"F\", \"F\", \"M\", \"M\", \"M\", \"F\", \"F\", \"M\", \"M\", \"M\", \"F\", \"M\", \"M\", \"F\", \"F\", \"M\", \"M\", \"M\", \"M\", \"M\", \"F\", \"F\", \"F\", \"F\", \"F\", \"F\", \"F\", \"F\", \"M\", \"M\", \"F\", \"M\", \"F\", \"M\", \"F\", \"F\", \"M\", \"M\", \"F\", \"F\", \"M\", \"M\", \"M\", \"F\", \"F\", \"F\", \"M\", \"F\", \"F\", \"F\", \"F\", \"F\", \"M\", \"F\", \"M\", \"M\", \"M\", \"F\", \"F\", \"F\", \"M\", \"F\", \"M\", \"M\", \"M\", \"M\", \"F\", \"F\", \"M\", \"M\", \"M\", \"M\", \"F\", \"F\", \"M\", \"M\", \"M\", \"M\", \"M\", \"F\", \"F\", \"M\", \"M\", \"M\", \"M\", \"M\", \"M\", \"M\", \"M\", \"F\", \"M\", \"F\", \"F\", \"M\", \"F\", \"F\", \"M\", \"F\", \"F\", \"F\", \"M\", \"F\", \"M\", \"F\", \"M\", \"M\", \"M\", \"M\", \"M\", \"F\", \"M\", \"M\", \"F\", \"M\", \"M\", \"M\", \"F\", \"M\", \"F\", \"M\", \"F\", \"M\", \"F\", \"F\", \"M\", \"M\", \"M\", \"M\", \"M\", \"F\", \"F\", \"M\", \"M\", \"M\", \"M\", \"M\", \"F\", \"F\", \"F\", \"M\", \"M\", \"M\", \"F\", \"F\", \"M\", \"F\", \"M\", \"F\", \"F\", \"F\", \"M\", \"F\", \"F\", \"M\", \"M\", \"F\", \"M\", \"M\", \"F\", \"F\", \"F\", \"F\", \"F\", \"F\", \"F\", \"M\", \"F\", \"F\", \"M\", \"F\", \"M\", \"M\", \"F\", \"M\", \"F\", \"M\", \"M\", \"F\", \"F\", \"M\", \"F\", \"M\", \"M\", \"M\", \"F\", \"M\", \"M\", \"F\", \"F\", \"M\", \"F\", \"F\", \"M\", \"F\", \"M\", \"M\", \"M\", \"F\", \"F\", \"F\", \"F\", \"F\", \"F\", \"M\", \"M\", \"F\", \"M\", \"F\", \"M\", \"F\", \"M\", \"M\", \"F\", \"F\", \"F\", \"F\", \"M\", \"F\", \"M\", \"F\", \"F\", \"M\", \"M\", \"F\", \"F\", \"M\", \"M\", \"M\", \"F\", \"M\", \"F\", \"M\", \"F\", \"M\", \"M\", \"M\", \"F\", \"M\", \"F\", \"M\", \"M\", \"F\", \"F\", \"M\", \"F\", \"M\", \"F\", \"F\", \"F\", \"M\", \"F\", \"M\", \"F\", \"M\", \"M\", \"F\", \"M\", \"M\", \"F\", \"F\", \"M\", \"F\", \"F\", \"M\", \"M\", \"M\", \"M\", \"M\", \"F\", \"M\", \"M\", \"M\", \"F\", \"F\", \"F\", \"F\", \"F\", \"M\", \"M\", \"F\", \"F\", \"F\", \"F\", \"F\", \"M\", \"M\", \"F\", \"F\", \"F\", \"M\", \"M\", \"F\", \"M\", \"F\", \"M\", \"M\", \"M\", \"F\", \"F\", \"F\", \"F\", \"M\", \"F\", \"M\", \"F\", \"F\", \"M\", \"F\", \"F\", \"M\", \"F\", \"F\", \"F\", \"F\", \"F\", \"M\", \"F\", \"F\", \"F\", \"F\", \"M\", \"F\", \"F\", \"F\", \"F\", \"M\", \"F\", \"F\", \"M\", \"F\", \"M\", \"F\", \"M\", \"F\", \"F\", \"M\", \"M\", \"M\", \"M\", \"F\", \"M\", \"F\", \"M\", \"F\", \"M\", \"M\", \"M\", \"F\", \"F\", \"F\", \"F\", \"M\", \"F\", \"F\", \"M\", \"F\", \"F\", \"F\", \"F\", \"F\", \"M\", \"M\", \"F\", \"F\", \"F\", \"M\", \"F\", \"M\", \"F\", \"F\", \"F\", \"M\", \"M\", \"M\", \"M\", \"M\", \"M\", \"F\", \"F\", \"F\", \"F\", \"F\", \"M\", \"M\", \"F\", \"M\", \"F\", \"F\", \"M\", \"M\", \"F\", \"F\", \"M\", \"M\", \"F\", \"M\", \"F\", \"M\", \"M\", \"F\", \"M\", \"M\", \"M\", \"M\", \"M\", \"M\", \"M\", \"M\", \"M\", \"F\", \"F\", \"M\", \"M\", \"M\", \"M\", \"M\", \"M\", \"M\", \"M\", \"M\", \"F\", \"F\", \"F\", \"F\", \"F\", \"F\", \"M\", \"M\", \"M\", \"F\", \"M\", \"M\", \"F\", \"M\", \"M\", \"M\", \"M\", \"F\", \"M\", \"F\", \"F\", \"M\", \"F\", \"M\", \"F\", \"M\", \"F\", \"F\", \"F\", \"M\", \"F\", \"M\", \"M\", \"F\", \"M\", \"M\", \"F\", \"M\", \"M\", \"F\", \"F\", \"M\", \"M\", \"F\", \"M\", \"M\", \"M\", \"M\", \"F\", \"F\", \"M\", \"F\", \"F\", \"F\", \"M\", \"F\", \"M\", \"F\", \"F\", \"F\", \"M\", \"F\", \"F\", \"F\", \"F\", \"M\", \"F\", \"F\", \"F\", \"F\", \"M\", \"M\", \"M\", \"M\", \"M\", \"M\", \"F\", \"F\", \"M\", \"F\", \"F\", \"F\", \"F\", \"F\", \"M\", \"F\", \"M\", \"M\", \"M\", \"F\", \"F\", \"M\", \"F\", \"F\", \"F\", \"M\", \"F\", \"M\", \"M\", \"M\", \"F\", \"F\", \"F\", \"F\", \"F\", \"F\", \"F\", \"F\", \"F\", \"F\", \"M\", \"F\", \"M\", \"F\", \"M\", \"F\", \"M\", \"F\", \"M\", \"F\", \"F\", \"M\", \"F\", \"F\", \"F\", \"F\", \"F\", \"F\", \"M\", \"M\", \"M\", \"F\", \"M\", \"M\", \"M\", \"M\", \"M\", \"F\", \"F\", \"M\", \"M\", \"M\", \"M\", \"M\", \"F\", \"F\", \"M\", \"M\", \"M\", \"F\", \"F\", \"F\", \"F\", \"F\", \"F\", \"M\", \"F\", \"F\", \"F\", \"F\", \"F\", \"F\", \"M\", \"M\", \"F\", \"F\", \"M\", \"M\", \"M\", \"F\", \"M\", \"M\", \"F\", \"M\", \"F\", \"F\", \"F\", \"F\", \"F\", \"M\", \"F\", \"M\", \"M\", \"F\", \"M\", \"M\", \"F\", \"M\", \"F\", \"F\", \"F\", \"F\", \"M\", \"F\", \"M\", \"M\", \"F\", \"M\", \"M\", \"M\", \"M\", \"F\", \"M\", \"F\", \"M\", \"F\", \"M\", \"M\", \"M\", \"F\", \"F\", \"M\", \"M\", \"M\", \"F\", \"F\", \"F\", \"M\", \"F\", \"M\", \"M\", \"M\", \"F\", \"M\", \"M\", \"F\", \"F\", \"F\", \"F\", \"M\", \"M\", \"F\", \"F\", \"F\", \"F\", \"F\", \"M\", \"F\", \"F\", \"M\", \"M\", \"M\", \"F\", \"M\", \"M\", \"F\", \"F\", \"M\", \"F\", \"F\", \"F\", \"F\", \"M\", \"M\", \"M\", \"M\", \"M\", \"M\", \"M\", \"M\", \"M\", \"M\", \"M\", \"F\", \"M\", \"F\", \"F\", \"F\", \"M\", \"M\", \"M\", \"M\", \"F\", \"M\", \"M\", \"M\", \"F\", \"M\", \"F\", \"F\", \"M\", \"M\", \"M\", \"F\", \"M\", \"F\", \"F\", \"M\", \"M\", \"M\", \"M\", \"F\", \"M\", \"M\", \"M\", \"F\", \"F\", \"M\", \"M\", \"F\", \"M\", \"M\", \"F\", \"M\", \"M\", \"F\", \"F\", \"M\", \"M\", \"F\", \"F\", \"M\", \"M\", \"M\", \"F\", \"F\", \"M\", \"F\", \"F\", \"F\", \"F\", \"F\", \"M\", \"F\", \"M\", \"F\", \"M\", \"M\", \"M\", \"F\", \"F\", \"M\", \"F\", \"M\", \"M\", \"F\", \"M\", \"M\", \"F\", \"M\", \"M\", \"F\", \"F\", \"F\", \"M\", \"M\", \"M\", \"M\", \"F\", \"F\", \"F\", \"M\", \"M\", \"F\", \"M\", \"M\", \"M\", \"F\", \"F\", \"M\", \"F\", \"M\", \"F\", \"M\", \"F\", \"F\", \"F\", \"F\", \"F\", \"M\", \"F\", \"M\", \"F\", \"F\", \"M\", \"M\", \"M\", \"F\", \"M\", \"F\", \"F\", \"F\", \"F\", \"F\", \"F\", \"F\", \"M\", \"F\", \"F\", \"F\", \"M\", \"M\", \"F\", \"M\", \"M\", \"M\", \"F\", \"M\", \"F\", \"F\", \"M\", \"M\", \"M\", \"M\", \"M\", \"M\", \"F\", \"F\", \"F\", \"F\", \"M\", \"M\", \"M\", \"M\", \"F\", \"F\", \"F\", \"M\", \"F\", \"M\", \"F\", \"M\", \"M\", \"M\", \"F\", \"F\", \"F\", \"F\", \"M\", \"F\", \"M\", \"F\", \"F\", \"M\", \"F\", \"M\", \"M\", \"F\", \"F\", \"M\", \"F\", \"F\", \"F\", \"F\", \"M\", \"F\", \"M\", \"F\", \"M\", \"F\", \"M\", \"F\", \"F\", \"F\", \"M\", \"F\", \"F\", \"F\", \"M\", \"F\", \"M\", \"F\", \"F\", \"F\", \"F\", \"F\", \"M\", \"M\", \"F\", \"M\", \"F\", \"F\", \"M\", \"M\", \"F\", \"F\", \"F\", \"M\", \"F\", \"M\", \"M\", \"M\", \"M\", \"F\", \"M\", \"F\", \"M\", \"F\", \"F\", \"F\", \"F\", \"F\", \"M\", \"F\", \"M\", \"M\", \"M\", \"M\", \"F\", \"F\", \"F\", \"F\", \"F\", \"F\", \"F\", \"F\", \"F\", \"F\", \"F\", \"F\", \"M\", \"F\", \"M\", \"F\", \"M\", \"F\", \"F\", \"F\", \"F\", \"M\", \"F\", \"M\", \"M\", \"F\", \"F\", \"F\", \"F\", \"M\", \"F\", \"F\", \"M\", \"F\", \"F\", \"M\", \"M\", \"F\", \"F\", \"M\", \"M\", \"M\", \"M\", \"M\", \"F\", \"M\", \"F\", \"M\", \"M\", \"F\", \"F\", \"M\", \"F\", \"M\", \"M\", \"F\", \"F\", \"F\", \"F\", \"M\", \"F\", \"M\", \"M\", \"F\", \"M\", \"F\", \"M\", \"F\", \"M\", \"F\", \"F\", \"F\", \"F\", \"M\", \"M\", \"M\", \"M\", \"F\", \"F\", \"M\", \"F\", \"M\", \"F\", \"F\", \"M\", \"F\", \"F\", \"M\", \"F\", \"M\", \"F\", \"F\", \"F\", \"F\", \"F\", \"F\", \"M\", \"F\", \"M\", \"F\", \"M\", \"F\", \"M\", \"F\", \"F\", \"F\", \"F\", \"F\", \"M\", \"M\", \"M\", \"F\", \"M\", \"F\", \"M\", \"F\", \"F\", \"F\", \"M\", \"F\", \"M\", \"M\", \"F\", \"M\", \"F\", \"F\", \"M\", \"F\", \"F\", \"M\", \"F\", \"M\", \"M\", \"M\", \"M\", \"F\", \"F\", \"F\", \"M\", \"M\", \"M\", \"M\", \"F\", \"M\", \"F\", \"F\", \"M\", \"M\", \"F\", \"M\", \"M\", \"F\", \"M\", \"F\", \"F\", \"M\", \"M\", \"M\", \"M\", \"F\", \"F\", \"M\", \"M\", \"M\", \"F\", \"M\", \"F\", \"M\", \"F\", \"M\", \"M\", \"M\", \"M\", \"M\", \"M\", \"F\", \"F\", \"F\", \"F\", \"F\", \"F\", \"F\", \"F\", \"F\", \"F\", \"M\", \"M\", \"F\", \"M\", \"M\", \"M\", \"F\", \"F\", \"F\", \"M\", \"M\", \"F\", \"M\", \"M\", \"M\", \"F\", \"F\", \"F\", \"F\", \"F\", \"M\", \"M\", \"F\", \"M\", \"F\", \"M\", \"M\", \"M\", \"F\", \"M\", \"F\", \"M\", \"F\", \"M\", \"M\", \"M\", \"F\", \"M\", \"F\", \"M\", \"F\", \"F\", \"M\", \"F\", \"M\", \"F\", \"M\", \"M\", \"F\", \"F\", \"F\", \"F\", \"M\", \"F\", \"F\", \"M\", \"F\", \"F\", \"M\", \"M\", \"F\", \"F\", \"M\", \"M\", \"M\", \"F\", \"F\", \"M\", \"M\", \"M\", \"F\", \"F\", \"F\", \"M\", \"M\", \"F\", \"M\", \"M\", \"M\", \"F\", \"F\", \"F\", \"M\", \"F\", \"M\", \"F\", \"F\", \"M\", \"F\", \"F\", \"F\", \"M\", \"M\", \"F\", \"F\", \"F\", \"F\", \"F\", \"M\", \"M\", \"F\", \"F\", \"F\", \"M\", \"M\", \"F\", \"F\", \"M\", \"F\", \"F\", \"F\", \"F\", \"F\", \"M\", \"M\", \"F\", \"M\", \"F\", \"M\", \"M\", \"F\", \"F\", \"M\", \"F\", \"M\", \"M\", \"M\", \"F\", \"M\", \"M\", \"F\", \"F\", \"M\", \"F\", \"F\", \"F\", \"M\", \"F\", \"F\", \"F\", \"F\", \"F\", \"F\", \"M\", \"M\", \"M\", \"F\", \"M\", \"F\", \"F\", \"M\", \"F\", \"F\", \"M\", \"F\", \"F\", \"M\", \"M\", \"F\", \"F\", \"M\", \"F\", \"M\", \"F\", \"M\", \"F\", \"F\", \"F\", \"F\", \"F\", \"F\", \"F\", \"M\", \"F\", \"F\", \"M\", \"F\", \"F\", \"M\", \"M\", \"M\", \"F\", \"M\", \"F\", \"M\", \"M\", \"M\", \"F\", \"F\", \"F\", \"F\", \"M\", \"F\", \"F\", \"F\", \"F\", \"F\", \"F\", \"M\", \"F\", \"F\", \"F\", \"M\", \"M\", \"F\", \"F\", \"F\", \"F\", \"M\", \"F\", \"F\", \"F\", \"F\", \"F\", \"F\", \"F\", \"M\", \"M\", \"M\", \"M\", \"F\", \"F\", \"M\", \"M\", \"F\", \"F\", \"F\", \"F\", \"F\", \"F\", \"F\", \"M\", \"F\", \"M\", \"F\", \"F\", \"F\", \"F\", \"F\", \"F\", \"F\", \"F\", \"M\", \"M\", \"M\", \"M\", \"F\", \"F\", \"F\", \"F\", \"M\", \"M\", \"F\", \"F\", \"M\", \"F\", \"M\", \"M\", \"F\", \"M\", \"M\", \"M\", \"F\", \"M\", \"M\", \"F\", \"M\", \"M\", \"F\", \"F\", \"F\", \"F\", \"F\", \"F\", \"F\", \"M\", \"F\", \"F\", \"F\", \"F\", \"F\", \"F\", \"F\", \"F\", \"M\", \"F\", \"M\", \"M\", \"F\", \"F\", \"F\", \"F\", \"M\", \"M\", \"F\", \"F\", \"F\", \"M\", \"F\", \"M\", \"M\", \"F\", \"F\", \"M\", \"F\", \"M\", \"M\", \"M\", \"M\", \"M\", \"F\", \"M\", \"M\", \"M\", \"F\", \"M\", \"M\", \"M\", \"F\", \"M\", \"M\", \"F\", \"M\", \"M\", \"M\", \"F\", \"F\", \"M\", \"M\", \"M\", \"F\", \"F\", \"M\", \"F\", \"F\", \"F\", \"F\", \"F\", \"M\", \"M\", \"M\", \"M\", \"F\", \"F\", \"M\", \"M\", \"F\", \"F\", \"M\", \"M\", \"F\", \"M\", \"M\", \"M\", \"F\", \"M\", \"F\", \"M\", \"M\", \"F\", \"M\", \"M\", \"F\", \"M\", \"M\", \"F\", \"M\", \"F\", \"F\", \"M\", \"M\", \"M\", \"F\", \"M\", \"F\", \"M\", \"F\", \"M\", \"F\", \"F\", \"M\", \"F\", \"M\", \"F\", \"M\", \"M\", \"F\", \"M\", \"F\", \"M\", \"F\", \"F\", \"M\", \"F\", \"F\", \"M\", \"F\", \"F\", \"F\", \"M\", \"M\", \"M\", \"F\", \"F\", \"F\", \"F\", \"M\", \"F\", \"F\", \"F\", \"M\", \"F\", \"F\", \"M\", \"M\", \"F\", \"M\", \"M\", \"F\", \"F\", \"M\", \"M\", \"M\", \"M\", \"F\", \"M\", \"F\", \"M\", \"M\", \"M\", \"F\", \"F\", \"M\", \"M\", \"M\", \"F\", \"F\", \"M\", \"M\", \"M\", \"M\", \"F\", \"M\", \"M\", \"F\", \"F\", \"F\", \"M\", \"M\", \"M\", \"F\", \"F\", \"F\", \"M\", \"F\", \"M\", \"M\", \"F\", \"F\", \"F\", \"F\", \"M\", \"F\", \"F\", \"F\", \"F\", \"M\", \"M\", \"F\", \"M\", \"F\", \"M\", \"M\", \"M\", \"M\", \"F\", \"M\", \"F\", \"M\", \"F\", \"M\", \"F\", \"F\", \"M\", \"M\", \"M\", \"M\", \"M\", \"M\", \"F\", \"F\", \"F\", \"M\", \"M\", \"M\", \"M\", \"M\", \"F\", \"F\", \"M\", \"F\", \"M\", \"F\", \"M\", \"M\", \"M\", \"M\", \"M\", \"M\", \"M\", \"M\", \"F\", \"M\", \"F\", \"F\", \"F\", \"F\", \"M\", \"F\", \"F\", \"M\", \"F\", \"M\", \"M\", \"F\", \"F\", \"M\", \"F\", \"F\", \"F\", \"M\", \"M\", \"M\", \"F\", \"F\", \"M\", \"F\", \"M\", \"M\", \"M\", \"F\", \"M\", \"M\", \"F\", \"M\", \"F\", \"M\", \"F\", \"M\", \"M\", \"M\", \"M\", \"F\", \"F\", \"F\"], \"type\": \"scatter\", \"mode\": \"markers\"}], {\"yaxis\": {\"title\": \"Time Enrolled\"}, \"xaxis\": {\"title\": \"Gender\"}, \"title\": \"Gender vs Time Enrolled\"}, {\"linkText\": \"Export to plot.ly\", \"showLink\": true})});</script>"
      ],
      "text/plain": [
       "<IPython.core.display.HTML object>"
      ]
     },
     "metadata": {},
     "output_type": "display_data"
    }
   ],
   "source": [
    "male_time = students[students['gender'] == 'M']['time_enrolled']\n",
    "female_time = students[students['gender'] == 'F']['time_enrolled']\n",
    "\n",
    "import scipy as sp\n",
    "def cohensd(val1,val2):\n",
    "    return ( np.mean(val1) - np.mean(val2) ) / np.sqrt( (np.std(val1) ** 2 + np.std(val2) ** 2) / 2 )\n",
    "\n",
    "print(\"The p value is \" + str(sp.stats.ttest_ind(male_time, female_time,axis=0, equal_var=False).pvalue/float(2)) + \" and the t value is \" + str(sp.stats.ttest_ind(male_time, female_time,axis=0, equal_var=False).statistic/float(2)))\n",
    "print (\"The effect size is \" + str(cohensd(male_time, female_time)))\n",
    "print(\"Males are enrolled on average for \" + str(int(np.mean(male_time))) + \" days\")\n",
    "print(\"Females are enrolled on average for \" + str(int(np.mean(female_time)))+ \" days\")\n",
    "print(\"Females are enrolled on average for a longer number of days, so might want to target males, but this is probably not a high return on investment because the distributions are not significantly different, and the effect on predicting churn is also small.\")\n",
    "\n",
    "#iplot([Scatter(x=students['gender'],y=students['time_enrolled'], mode='markers')])\n",
    "trace1 = Scatter(x=students['gender'],y=students['time_enrolled'], mode='markers')\n",
    "data = [trace1]\n",
    "layout = Layout(xaxis=dict(title = 'Gender'),\n",
    "                 yaxis=dict(title='Time Enrolled'),\n",
    "                title='Gender vs Time Enrolled')\n",
    "\n",
    "\n",
    "fig1 = Figure(data=data, layout=layout)\n",
    "iplot(fig1)\n"
   ]
  },
  {
   "cell_type": "code",
   "execution_count": 314,
   "metadata": {
    "collapsed": false
   },
   "outputs": [
    {
     "name": "stdout",
     "output_type": "stream",
     "text": [
      "The p value is 2.89972907965e-05 and the t value is 2.01488953574\n",
      "The effect size is 0.160106934351\n",
      "Centers open for 2 days hav an average enrllment of 402 days\n",
      "Centers open for 3 days hav an average enrllment of 337 days\n",
      " The number of days the center is open does not seem to have a significant impact on the logistic regression - but the 2 distributions are significantly different: The centers open for 2 days have a higher mean enrollment time than those open for 3 days, albeit with a small effect size. This might be a feature we need to boost up in the LR model\n"
     ]
    },
    {
     "data": {
      "text/html": [
       "<div id=\"9579aace-fef9-4783-a802-b14686580c53\" style=\"height: 525px; width: 100%;\" class=\"plotly-graph-div\"></div><script type=\"text/javascript\">require([\"plotly\"], function(Plotly) { window.PLOTLYENV=window.PLOTLYENV || {};window.PLOTLYENV.BASE_URL=\"https://plot.ly\";Plotly.newPlot(\"9579aace-fef9-4783-a802-b14686580c53\", [{\"y\": [90, 241, 85, 83, 149, 47, 57, 205, 225, 234, 469, 38, 23, 445, 82, 59, 54, 206, 17, 40, 240, 522, 15, 98, 161, 426, 23, 392, 263, 264, 424, 53, 41, 598, 139, 212, 77, 241, 160, 464, 12, 18, 41, 187, 210, 229, 272, 207, 68, 53, 453, 271, 133, 119, 107, 416, 348, 76, 229, 232, 97, 113, 142, 167, 12, 13, 140, 147, 101, 351, 327, 86, 85, 84, 609, 109, 98, 31, 552, 148, 148, 51, 27, 74, 41, 193, 77, 537, 433, 878, 334, 732, 338, 74, 557, 47, 88, 36, 259, 74, 93, 196, 197, 49, 1050, 505, 77, 77, 785, 480, 77, 263, 270, 229, 52, 40, 113, 52, 182, 112, 57, 418, 141, 42, 1332, 1188, 175, 1085, 389, 490, 478, 588, 154, 160, 551, 150, 42, 678, 40, 241, 155, 13, 292, 231, 1506, 1343, 451, 224, 288, 65, 85, 50, 401, 91, 395, 287, 159, 389, 363, 651, 150, 112, 150, 116, 115, 806, 663, 299, 678, 231, 663, 679, 244, 425, 1285, 505, 146, 99, 659, 657, 786, 191, 59, 59, 69, 110, 286, 34, 18, 821, 191, 173, 1049, 772, 160, 175, 1059, 203, 357, 14, 77, 224, 37, 14, 131, 134, 210, 32, 53, 209, 334, 288, 558, 267, 14, 34, 173, 1134, 37, 133, 336, 735, 117, 732, 293, 162, 111, 961, 105, 537, 61, 114, 176, 826, 28, 951, 537, 118, 82, 208, 318, 615, 157, 77, 343, 236, 660, 270, 270, 137, 122, 224, 235, 261, 221, 1165, 762, 289, 126, 425, 16, 103, 294, 126, 180, 426, 294, 180, 146, 236, 307, 80, 257, 196, 1340, 699, 210, 340, 116, 233, 1363, 97, 257, 108, 104, 1342, 823, 1442, 14, 457, 440, 616, 1362, 41, 54, 616, 475, 635, 210, 658, 137, 152, 1071, 31, 3, 196, 398, 585, 279, 137, 197, 173, 175, 312, 224, 373, 232, 124, 231, 105, 173, 40, 431, 208, 322, 143, 87, 25, 697, 312, 697, 87, 324, 62, 104, 827, 399, 574, 201, 596, 623, 156, 496, 13, 453, 576, 911, 212, 1267, 392, 136, 392, 709, 102, 227, 210, 196, 806, 105, 1185, 211, 984, 211, 68, 114, 171, 211, 249, 307, 44, 155, 357, 602, 57, 1088, 73, 307, 89, 196, 489, 89, 114, 905, 157, 56, 59, 905, 18, 805, 574, 66, 260, 881, 196, 714, 441, 326, 504, 842, 13, 187, 87, 1763, 1296, 180, 80, 545, 209, 30, 77, 675, 538, 504, 48, 537, 305, 140, 139, 77, 337, 305, 161, 440, 455, 378, 21, 261, 448, 290, 67, 546, 637, 196, 713, 546, 285, 84, 196, 106, 906, 245, 247, 189, 146, 149, 191, 91, 254, 193, 174, 245, 24, 244, 246, 89, 253, 245, 121, 64, 72, 254, 260, 150, 143, 141, 260, 101, 30, 253, 266, 19, 37, 255, 25, 269, 53, 73, 257, 181, 247, 45, 14, 230, 219, 206, 36, 272, 19, 19, 23, 183, 36, 6, 257, 274, 171, 159, 157, 30, 26, 176, 155, 262, 92, 77, 61, 260, 255, 273, 62, 197, 77, 289, 92, 153, 32, 31, 168, 153, 122, 245, 249, 222, 269, 123, 6, 245, 19, 0, 0, 0, 249, 59, 87, 249, 252, 31, 252, 78, 122, 12, 247, 266, 236, 63, 176, 51, 473, 103, 39, 76, 285, 42, 42, 106, 58, 84, 86, 107, 111, 33, 122, 201, 80, 168, 141, 270, 177, 377, 77, 196, 73, 289, 83, 98, 179, 181, 60, 81, 74, 41, 324, 324, 102, 102, 5, 91, 173, 236, 353, 23, 23, 117, 200, 42, 56, 578, 114, 55, 23, 212, 212, 69, 212, 212, 222, 25, 35, 73, 71, 220, 240, 474, 40, 42, 111, 76, 172, 172, 301, 52, 69, 114, 99, 288, 241, 134, 39, 368, 117, 220, 53, 54, 118, 86, 117, 454, 454, 77, 140, 46, 128, 116, 228, 228, 53, 502, 513, 38, 38, 257, 248, 178, 368, 96, 492, 163, 748, 404, 790, 105, 188, 28, 92, 104, 49, 79, 87, 137, 104, 133, 307, 185, 27, 412, 103, 83, 105, 23, 329, 48, 748, 452, 0, 474, 417, 563, 342, 188, 309, 34, 829, 179, 39, 48, 333, 124, 72, 137, 406, 220, 22, 425, 19, 138, 249, 285, 128, 164, 252, 1, 360, 126, 14, 836, 97, 83, 305, 305, 25, 154, 47, 153, 76, 216, 882, 315, 563, 333, 43, 9, 132, 84, 139, 351, 398, 426, 177, 398, 266, 489, 168, 190, 665, 426, 305, 1033, 211, 63, 629, 456, 570, 1144, 426, 304, 46, 265, 55, 230, 279, 48, 90, 104, 88, 350, 69, 214, 21, 400, 753, 66, 45, 140, 55, 188, 174, 135, 265, 19, 87, 142, 110, 111, 184, 110, 358, 50, 50, 81, 204, 267, 267, 134, 122, 107, 23, 273, 212, 9, 7, 172, 172, 13, 242, 50, 241, 297, 261, 293, 292, 167, 27, 35, 29, 83, 128, 238, 38, 46, 57, 273, 216, 240, 316, 43, 261, 730, 157, 28, 406, 381, 301, 144, 129, 175, 169, 93, 84, 275, 371, 197, 112, 328, 177, 49, 58, 406, 500, 91, 616, 106, 106, 157, 57, 195, 485, 97, 112, 169, 45, 485, 45, 266, 263, 107, 211, 539, 539, 132, 24, 98, 281, 69, 96, 7, 16, 328, 350, 30, 305, 178, 625, 283, 169, 339, 318, 45, 45, 515, 535, 357, 75, 613, 56, 413, 397, 86, 7, 558, 603, 698, 52, 188, 699, 322, 158, 473, 913, 552, 1428, 223, 59, 444, 318, 205, 77, 109, 166, 381, 130, 59, 315, 94, 1252, 69, 132, 1449, 1449, 192, 1347, 378, 248, 906, 52, 248, 73, 689, 33, 301, 83, 298, 842, 724, 1245, 545, 87, 814, 258, 75, 815, 7, 141, 426, 1801, 441, 89, 1372, 21, 42, 139, 65, 30, 121, 63, 70, 39, 464, 86, 85, 87, 215, 83, 385, 82, 619, 78, 45, 48, 286, 1155, 319, 1290, 606, 259, 452, 111, 168, 782, 531, 251, 166, 119, 290, 798, 224, 606, 1379, 821, 119, 459, 1670, 31, 331, 598, 181, 346, 542, 293, 157, 14, 231, 462, 612, 150, 1169, 231, 206, 27, 85, 183, 839, 498, 115, 682, 323, 151, 90, 120, 440, 16, 256, 236, 973, 149, 401, 63, 371, 908, 913, 45, 637, 526, 198, 148, 155, 343, 789, 427, 172, 51, 1207, 372, 87, 175, 1025, 760, 759, 329, 592, 196, 126, 271, 1114, 362, 119, 149, 263, 122, 369, 1033, 223, 294, 235, 1113, 1315, 994, 178, 753, 390, 210, 240, 86, 170, 55, 90, 507, 636, 126, 448, 142, 745, 946, 176, 452, 74, 81, 136, 239, 1120, 1347, 383, 119, 84, 110, 134, 325, 268, 84, 326, 14, 226, 247, 205, 921, 711, 221, 53, 23, 28, 28, 35, 37, 35, 17, 149, 25, 24, 25, 119, 57, 115, 212, 101, 84, 137, 133, 70, 137, 193, 178, 140, 116, 187, 184, 233, 589, 176, 270, 11, 796, 108, 249, 215, 130, 33, 149, 798, 796, 1120, 142, 99, 804, 307, 34, 902, 29, 585, 56, 135, 254, 568, 827, 337, 15, 363, 269, 357, -102, 101, 458, 224, 69, 58, 493, 199, 122, 124, 1093, 1385, 121, 40, 781, 1385, 98, 545, 177, 55, 235, 82, 208, 523, 542, 210, 316, 35, 23, 546, 130, 313, 184, 163, 303, 31, 11, 232, 197, 110, 34, 175, 553, 189, 951, 476, 561, 56, 136, 34, 134, 228, 314, 394, 309, 1147, 41, 12, 37, 141, 77, 77, 70, 42, 255, 169, 49, 43, 231, 373, 116, 170, 260, 220, 1338, 66, 159, 76, 191, 7, 377, 98, 156, 83, 156, 154, 421, 141, 1048, 1274, 678, 160, 176, 132, 548, 403, 39, 228, 39, 85, 382, 364, 78, 79, 148, 875, 143, 39, 232, 364, 77, 410, 207, 364, 708, 176, 64, 93, 999, 69, 46, 52, 1006, 43, 41, 650, 732, 171, 81, 55, 336, 175, 251, 173, 663, 364, 15, 343, 44, 2, 988, 239, 218, 447, 80, 267, 36, 1086, 78, 264, 105, 78, 980, 321, 197, 261, 100, 362, 66, 116, 30, 189, 230, 197, 30, 86, 200, 226, 413, 287, 30, 218, 457, 356, 99, 19, 16, 30, 189, 39, 528, 259, 30, 48, 312, 91, 9, 543, 20, 211, 848, 48, 92, 50, 712, 220, 211, 211, 959, 823, 692, 1449, 573, 566, 100, 546, 1267, 580, 1692, 547, 105, 996, 1896, 573, 2081, 243, 1113, 1206, 1973, 574, 1110, 164, 1455, 114, 393, 410, 791, 107, 1497, 663, 679, 1475, 202, 879, 1078, 807, 909, 601, 219, 193, 2624, 748, 138, 244, 725, 1352, 275, 2501, 1536, 1483, 1677, 335, 429, 358, 1325, 162, 146, 303, 775, 174, 51, 1833, 427, 363, 62, 89, 366, 946, 55, 85, 431, 1028, 479, 482, 348, 743, 752, 419, 133, 1402, 535, 752, 37, 1730, 121, 1301, 1553, 2338, 636, 544, 913, 121, 590, 174, 328, 317, 174, 1322, 356, 463, 359, 258, 1333, 477, 1344, 699, 988, 113, 126, 969, 608, 484, 575, 1692, 574, 747, 45, 1269, 192, 1143, 198, 83, 62, 745, 139, 44, 332, 1193, 65, 230, 331, 93, 206, 258, 561, 324, 6, 2266, 1323, 545, 311, 496, 84, 1525, 363, 2313, 521, 530, 561, 240, 417, 1190, 848, 19, 359, 148, 1199, 617, 1454, 897, 601, 601, 1666, 1539, 1013, 267, 377, 267, 734, 288, 345, 288, 469, 91, 819, 464, 398, 758, 592, 1099, 1819, 454, 443, 965, 758, 741, 378, 1212, 500, 818, 388, 131, 1427, 91, 103, 755, 576, 1760, 2077, 2180, 1710, 1476, 568, 456, 2860, 2076, 2024, 808, 980, 227, 865, 429, 521, 392, 949, 1985, 1657, 699, 834, 848, 713, 713, 132, 834, 402, 315, 1213, 107, 197, 671, 1215, 345, 342, 1393, 657, 234, 631, 734, 104, 650, 651, 41, 479, 83, 244, 508, 76, 227, 350, 261, 384, 380, 450, 381, 373, 338, 368, 272, 274, 1605, 148, 388, 1217, 321, 497, 377, 733, 761, 626, 997, 23, 656, 1200, 763, 1873, 66, 2635, 638, 20, 846, 366, 1162, 202, 1122, 1983, 390, 393, 2522, 254, 393, 477, 390, 30, 118, 432, 2006, 457, 2629, 118, 544, 123, 1290, 80, 2222, 624, 1357, 138, 1725, 2263, 314, 380, 486, 1970, 874, 1717, 38, 1611, 120, 2071, 2623, 838, 444, 51, 211, 689, 2207, 1035, 982, 2067, 597, 440, 28, 147, 959, 402, 2695, 28, 314, 503, 1088, 848, 2112, 884, 149, 907, 148, 132, 1356, 233, 1007, 1766, 1133, 363, 1186, 265, 1215, 149, 1818, 941, 142, 395, 631, 77, 552, 265, 628, 772, 1321, 1441, 580, 1374, 370, 720, 2728, 2469, 1542, 631, 88, 1727, 646, 251, 1307, 2627, 1487, 118, 1563, 911, 103, 88, 790, 267, 1642, 1244, 2207, 688, 191, 593, 198, 905, 545, 1209, 114, 712, 1094, 541, 593, 34, 122, 23, 287, 343, 1249, 99, 46, 653, 2772, 338, 1114, 215, 198, 721, 335, 553, 1106, 1726, 315, 412, 973, 40, 979, 37, 226, 311, 117, 323, 1726, 19, 238, 655, 479, 20, 161, 241, 1061, 821, 905, 272, 86, 230, 1716, 193, 373, 935, 450, 40, 299, 105, 1884, 132, 73, 399, 198, 246, 443, 180, 164, 99, 65, 730, 282, 552, 436, 178, 527, 414, 245, 79, 506, 54, 1460, 499, 28, 106, 388, 232, 336, 351, 210, 357, 192, 1636, 317, 568, 479, 1270, 559, 26, 2031, 1516, 450, 35, 726, 137, 531, 833, 1065, 1064, 79, 1270, 137, 179, 1738, 270, 1491, 128, 131, 393, 466, 470, 1491, 132, 516, 71, 177, 542, 347, 122, 791, 116, 311, 2128, 147, 598, 1047, 179, 513, 13, 223, 748, 1883, 114, 272, 512, 171, 111, 348, 308, 63, 896, 114, 48, 349, 268, 105, 207, 51, 168, 77, 5, 51, 217, 211, 201, 837, 257, 85, 298, 764, 532, 124, 1132, 213, 590, 1012, 44, 134, 424, 153, 501, 423, 170, 274, 21, 1623, 1650, 329, 181, 1219, 358, 281, 50, 19, 51, 516, 29, 1631, 657, 215, 312, 353, 261, 1513, 512, 657, 156, 212, 14, 182, 161, 149, 184, 214, 609, 680, 658, 230, 271, 200, 147, 194, 329, 403, 235, 118, 220, 126, 166, 510, 592, 73, 588, 71, 96, 195, 294, 648, 242, 84, 1765, 664, 986, 802, 1473, 546, 1640, 77, 355, 125, 361, 603, 323, 243, 464, 660, 660, 433, 301, 175, 723, 547, 201, 1032, 44, 305, 271, 212, 104, 224, 343, 350, 1205, 177, 320, 40, 63, 459, 108, 183, 688, 490, 300, 140, 1367, 163, 482, 258, 39, 626, 300, 986, 895, 622, 626, 329, 601, 168, 49, 195, 601, 119, 864, 195, 198, 249, 107, 176, 865, 34, 181, 179, 872, 170, 323, 1405, 461, 169, 1201, 798, 1428, 51, 751, 237, 245, 120, 97, 373, 173, 310, 455, 14, 187, 702, 383, 823, 454, 454, 77, 100, 63, 671, 48, 399, 745, 1445, 459, 882, 104, 252, 1393, 405, 184, 350, 574, 574, 81, 525, 889, 808, 284, 142, 1203, 168, 168, 83, 185, 940, 1332, 225, 86, 209, 247, 499, 170, 329, 1133, 243, 443, 139, 54, 688, 133, 437, 746, 334, 139, 334, 235, 334, 15, 77, 90, 143, 148, 733, 111, 61, 228, 1274, 275, 63, 64, 63, 442, 426, 105, 123, 775, 525, 167, 395, 22, 378, 359, 514, 1461, 161, 350, 58, 419, 1260, 241, 350, 861, 1598, 775, 1398, 926, 2090, 285, 161, 332, 180, 1139, 112, 8, 142, 90, 502, 295, 47, 636, 118, 342, 217, 218, 138, 367, 435, 1134, 365, 952, 574, 189, 293, 758, 36, 163, 689, 890, 1090, 296, 34, 327, 560, 67, 2357, 238, 357, 62, 517, 1825, 242, 991, 833, 189, 177, 190, 81, 379, 411, 79, 981, 135, 341, 53, 14, 455, 701, 29, 29, 260, 576, 342, 708, 170, 28, 247, 58, 112, 928, 180, 1388, 112, 2537, 250, 2070, 75, 133, 545, 350, 546, 434, 1269, 625, 175, 213, 370, 44, 1113, 514, 260, 332, 35, 608, 227, 152, 455, 680, 55, 74, 532, 180, 41, 202, 390, 343, 889, 202, 342, 350, 420, 907, 253, 547, 889, 392, 107, 452, 374, 547, 367, 248, 42, 58, 101, 140, 101, 874, 1708, 1047, 403, 716, 1141, 90, 183, 450, 900, 60, 354, 298, 297, 135, 523, 1330, 127, 301, 266, 940, 600, 813, 63, 192, 467, 143, 14, 59, 1271, 379, 239, 189, 1349, 469, 51, 504, 546, 114, 339, 164, 237, 160, 105, 323, 520, 101, 546, 155, 197, 600, 212, 547, 89, 57, 322, 56, 151, 8, 211, 39, 28, 64, 322, 1680, 151, 1721, 306, 1607, 440, 1815, 498, 1881, 98, 291, 970, 889, 2035, 1501, 89, 23, 85, 14, 549, 409, 93, 42, 500, 30, 25, 252, 15, 59, 524, 15, 124, 58, 28, 104, 166, 136, 87, 329, 106, 179, 39, 365, 37, 7, 152, 76, 243, 77, 57, 211, 243, 240, 260, 214, 250, 48, 121, 148, 149, 48, 85, 75, 265, 149, 76, 343, 213, 88, 429, 24, 250, 142, 47, 318, 350, 26, 362, 75, 89, 46, 228, 57, 59, 60, 209, 26, 14, 515, 89, 12, 75, 518, 76, 457, 334, 60, 107, 75, 128, 25, 470, 209, 105, 464, 32, 67, 20, 100, 149, 100, 64, 16, 206, 16, 133, 334, 303, 89, 20, 497, 98, 20, 29, 90, 18, 56, 63, 53, 349, 341, 309, 211, 67, 252, 323, 231, 39, 534, 407, 152, 137, 450, 393, 14, 123, 14, 14, 116, 171, 21, 238, 252, 49, 426, 318, 399, 112, 58, 27, 20, 417, 18, 295, 53, 175, 11, 56, 116, 56, 46, 119, 119, 232, 238, 60, 133, 177, 30, 224, 483, 479, 119, 18, 159, 88, 406, 220, 73, 76, 56, 197, 419, 32, 173, 420, 99, 100, 123, 53, 604, 305, 91, 603, 235, 124, 41, 227, 138, 174, 127, 145, 43, 48, 19, 46, 165, 31, 108, 273, 108, 98, 25, 110, 91, 45, 266, 335, 58, 67, 121, 596, 63, 377, 78, 90, 378, 90, 37, 70, 346, 33, 71, 370, 176, 166, 91, 372, 212, 321, 70, 44, 289, 373, 34, 21, 151, 165, 362, 316, 161, 266, 35, 21, 61, 21, 119, 37, 334, 18, 14, 3, 524, 172], \"x\": [2, 2, 2, 2, 2, 2, 2, 2, 2, 2, 2, 2, 2, 2, 2, 2, 2, 2, 2, 2, 2, 2, 2, 2, 2, 2, 2, 2, 2, 2, 2, 2, 2, 2, 2, 2, 2, 2, 2, 2, 2, 2, 2, 2, 2, 2, 2, 2, 2, 2, 2, 2, 2, 2, 2, 2, 2, 2, 2, 2, 2, 2, 2, 2, 2, 2, 2, 2, 2, 2, 2, 2, 2, 2, 2, 2, 2, 2, 2, 2, 2, 2, 2, 2, 2, 2, 3, 3, 3, 3, 3, 3, 3, 3, 3, 3, 3, 3, 3, 3, 3, 3, 3, 3, 3, 3, 3, 3, 3, 3, 3, 3, 3, 3, 3, 3, 3, 3, 3, 3, 3, 3, 3, 3, 3, 3, 3, 3, 3, 3, 3, 3, 3, 3, 3, 3, 3, 3, 3, 3, 3, 3, 3, 3, 3, 3, 3, 3, 3, 3, 3, 3, 3, 3, 3, 3, 3, 3, 3, 3, 3, 3, 3, 3, 3, 3, 3, 3, 3, 3, 3, 3, 3, 3, 3, 3, 3, 3, 3, 3, 3, 3, 3, 3, 3, 3, 3, 3, 3, 3, 3, 3, 3, 3, 3, 3, 3, 3, 3, 3, 3, 3, 3, 3, 3, 3, 3, 3, 3, 3, 3, 3, 3, 3, 3, 3, 3, 3, 3, 3, 3, 3, 3, 3, 3, 3, 3, 3, 3, 3, 3, 3, 3, 3, 3, 3, 3, 3, 3, 3, 3, 3, 3, 3, 3, 3, 3, 3, 3, 3, 3, 3, 3, 3, 3, 3, 3, 3, 3, 3, 3, 3, 3, 3, 3, 3, 3, 3, 3, 3, 3, 3, 3, 3, 3, 3, 3, 3, 3, 3, 3, 3, 3, 3, 3, 3, 3, 3, 3, 3, 3, 3, 3, 3, 3, 3, 3, 3, 3, 3, 3, 3, 3, 3, 3, 3, 3, 3, 3, 3, 3, 3, 3, 3, 3, 3, 3, 3, 3, 3, 3, 3, 3, 3, 3, 3, 3, 3, 3, 3, 3, 3, 3, 3, 3, 3, 3, 3, 3, 3, 3, 3, 3, 3, 3, 3, 3, 3, 3, 3, 3, 3, 3, 3, 3, 3, 3, 3, 3, 3, 3, 3, 3, 3, 3, 3, 3, 3, 3, 3, 3, 3, 3, 3, 3, 3, 3, 3, 3, 3, 3, 3, 3, 3, 3, 3, 3, 3, 3, 3, 3, 3, 3, 3, 3, 3, 3, 3, 3, 3, 3, 3, 3, 3, 3, 3, 3, 3, 3, 3, 3, 3, 3, 3, 3, 3, 3, 3, 3, 3, 3, 3, 3, 3, 3, 3, 3, 3, 3, 3, 3, 3, 3, 3, 3, 3, 3, 3, 3, 3, 2, 2, 2, 2, 2, 2, 2, 2, 2, 2, 2, 2, 2, 2, 2, 2, 2, 2, 2, 2, 2, 2, 2, 2, 2, 2, 2, 2, 2, 2, 2, 2, 2, 2, 2, 2, 2, 2, 2, 2, 2, 2, 2, 2, 2, 2, 2, 2, 2, 2, 2, 2, 2, 2, 2, 2, 2, 2, 2, 2, 2, 2, 2, 2, 2, 2, 2, 2, 2, 2, 2, 2, 2, 2, 2, 2, 2, 2, 2, 2, 2, 2, 2, 2, 2, 2, 2, 2, 2, 2, 2, 2, 2, 2, 2, 2, 2, 2, 2, 2, 2, 2, 2, 2, 2, 2, 2, 2, 2, 2, 2, 2, 2, 2, 2, 2, 2, 2, 2, 2, 2, 2, 2, 2, 2, 2, 2, 2, 2, 2, 2, 2, 2, 2, 2, 2, 2, 2, 2, 2, 2, 2, 2, 2, 2, 2, 2, 2, 2, 2, 2, 2, 2, 2, 2, 2, 2, 2, 2, 2, 2, 2, 2, 2, 2, 2, 2, 2, 2, 2, 2, 2, 2, 2, 2, 2, 2, 2, 2, 2, 2, 2, 2, 2, 2, 2, 2, 2, 2, 2, 2, 2, 2, 2, 2, 2, 2, 2, 2, 2, 2, 2, 2, 2, 2, 2, 2, 2, 2, 2, 3, 3, 3, 3, 3, 3, 3, 3, 3, 3, 3, 3, 3, 3, 3, 3, 3, 3, 3, 3, 3, 3, 3, 3, 3, 3, 3, 3, 3, 3, 3, 3, 3, 3, 3, 3, 3, 3, 3, 3, 3, 3, 3, 3, 3, 3, 3, 3, 3, 3, 3, 3, 3, 3, 3, 3, 3, 3, 3, 3, 3, 3, 3, 3, 3, 3, 3, 3, 3, 3, 3, 3, 3, 3, 3, 3, 3, 3, 3, 3, 3, 3, 3, 3, 3, 3, 3, 3, 3, 3, 3, 3, 3, 3, 3, 3, 3, 3, 3, 3, 3, 3, 3, 3, 3, 3, 3, 3, 3, 3, 3, 3, 3, 3, 3, 3, 3, 3, 3, 3, 3, 3, 3, 3, 3, 3, 3, 3, 3, 3, 3, 3, 3, 3, 3, 3, 3, 3, 3, 3, 3, 3, 3, 3, 3, 3, 3, 3, 3, 3, 3, 3, 3, 3, 3, 3, 3, 3, 3, 3, 3, 3, 3, 3, 3, 3, 3, 3, 3, 3, 3, 3, 3, 3, 2, 2, 2, 2, 2, 2, 2, 2, 2, 2, 2, 2, 2, 2, 2, 2, 2, 2, 2, 2, 2, 2, 2, 2, 2, 2, 2, 2, 2, 2, 2, 2, 2, 2, 2, 2, 2, 2, 2, 2, 2, 2, 2, 2, 2, 2, 2, 2, 2, 2, 2, 2, 2, 2, 2, 2, 2, 2, 2, 2, 2, 2, 2, 2, 2, 2, 2, 2, 2, 2, 2, 3, 3, 3, 3, 3, 3, 3, 3, 3, 3, 3, 3, 3, 3, 3, 3, 3, 3, 3, 3, 3, 3, 3, 3, 3, 3, 3, 3, 3, 3, 3, 3, 3, 3, 3, 3, 3, 3, 3, 3, 3, 3, 3, 3, 3, 3, 3, 3, 3, 3, 3, 3, 3, 3, 3, 3, 3, 3, 3, 3, 3, 3, 3, 3, 3, 3, 3, 3, 3, 3, 3, 3, 3, 3, 3, 3, 3, 3, 3, 3, 3, 3, 3, 3, 3, 3, 3, 3, 3, 3, 3, 3, 3, 3, 3, 3, 3, 3, 3, 3, 3, 3, 3, 3, 3, 3, 3, 3, 3, 3, 3, 3, 3, 3, 3, 3, 3, 3, 3, 3, 3, 3, 3, 3, 3, 3, 3, 3, 3, 3, 3, 3, 3, 3, 3, 3, 3, 3, 3, 3, 3, 3, 3, 3, 3, 3, 3, 3, 3, 3, 3, 3, 3, 3, 3, 3, 3, 3, 3, 3, 3, 3, 3, 3, 3, 3, 3, 3, 3, 3, 3, 3, 3, 3, 3, 3, 3, 3, 3, 3, 3, 3, 3, 3, 3, 3, 3, 3, 3, 3, 3, 3, 3, 3, 3, 3, 3, 3, 3, 3, 3, 3, 3, 3, 3, 3, 3, 3, 3, 3, 3, 3, 3, 3, 3, 3, 3, 3, 3, 3, 3, 2, 2, 2, 2, 2, 2, 2, 2, 2, 2, 2, 2, 2, 2, 2, 2, 2, 2, 2, 2, 2, 2, 2, 2, 2, 2, 2, 2, 2, 2, 2, 2, 2, 2, 2, 2, 2, 2, 2, 2, 2, 2, 2, 2, 2, 2, 2, 2, 2, 2, 2, 2, 2, 2, 2, 2, 2, 2, 2, 2, 2, 2, 2, 2, 2, 2, 2, 2, 2, 2, 2, 2, 2, 2, 2, 2, 2, 2, 2, 2, 2, 2, 2, 2, 2, 2, 2, 2, 2, 2, 2, 2, 2, 2, 2, 2, 2, 2, 2, 2, 2, 2, 2, 2, 2, 2, 2, 2, 2, 2, 2, 2, 2, 2, 2, 2, 2, 2, 2, 2, 2, 2, 2, 2, 2, 2, 2, 2, 2, 2, 2, 2, 2, 2, 2, 2, 2, 2, 2, 2, 2, 2, 2, 2, 2, 2, 2, 2, 2, 2, 2, 2, 2, 2, 2, 2, 2, 2, 2, 2, 2, 2, 2, 2, 2, 2, 2, 2, 2, 2, 2, 2, 2, 2, 2, 2, 2, 2, 2, 2, 2, 2, 2, 2, 2, 2, 2, 2, 2, 2, 2, 2, 2, 2, 2, 2, 2, 2, 2, 2, 2, 2, 2, 2, 2, 2, 2, 2, 2, 2, 2, 2, 2, 2, 2, 2, 2, 2, 2, 2, 2, 2, 2, 2, 2, 2, 2, 2, 2, 2, 2, 2, 2, 2, 2, 2, 2, 2, 2, 2, 2, 2, 2, 2, 2, 2, 2, 2, 2, 2, 2, 2, 2, 2, 2, 2, 2, 2, 2, 2, 2, 2, 2, 2, 2, 2, 2, 2, 2, 2, 2, 2, 2, 2, 2, 2, 2, 2, 2, 2, 2, 2, 2, 2, 2, 2, 2, 2, 2, 2, 2, 2, 2, 2, 2, 2, 2, 2, 2, 2, 2, 2, 2, 2, 2, 2, 2, 2, 2, 2, 2, 2, 2, 2, 2, 2, 2, 2, 2, 2, 2, 2, 2, 2, 2, 2, 2, 2, 2, 2, 2, 2, 2, 2, 2, 2, 2, 2, 2, 2, 2, 2, 2, 2, 2, 2, 2, 2, 2, 2, 2, 2, 2, 2, 2, 2, 2, 2, 2, 2, 2, 2, 2, 2, 2, 2, 2, 2, 2, 2, 2, 2, 2, 2, 2, 2, 2, 2, 2, 2, 2, 2, 2, 2, 2, 2, 2, 2, 2, 2, 2, 2, 2, 2, 2, 2, 2, 2, 2, 2, 2, 2, 2, 2, 2, 2, 2, 2, 2, 2, 2, 2, 2, 2, 2, 2, 2, 2, 2, 2, 2, 2, 2, 2, 2, 2, 2, 2, 2, 2, 2, 2, 2, 2, 2, 2, 2, 2, 2, 2, 2, 2, 2, 2, 2, 2, 2, 2, 2, 2, 2, 2, 2, 2, 2, 2, 2, 2, 2, 2, 2, 2, 2, 2, 2, 2, 2, 2, 2, 2, 2, 2, 2, 2, 2, 2, 2, 2, 2, 2, 2, 2, 2, 2, 2, 2, 2, 2, 2, 2, 2, 2, 2, 2, 2, 2, 2, 2, 2, 2, 2, 2, 2, 2, 2, 2, 2, 2, 2, 2, 2, 2, 2, 2, 2, 2, 2, 2, 2, 2, 2, 2, 2, 2, 2, 2, 2, 2, 2, 2, 2, 2, 2, 2, 2, 2, 2, 2, 2, 2, 2, 2, 2, 2, 2, 2, 2, 2, 2, 2, 2, 2, 2, 2, 2, 2, 2, 2, 2, 2, 2, 2, 2, 2, 2, 2, 2, 2, 2, 2, 2, 2, 2, 2, 2, 2, 2, 2, 2, 2, 2, 2, 2, 2, 2, 2, 2, 2, 2, 2, 2, 2, 2, 2, 2, 2, 2, 2, 2, 2, 2, 2, 2, 2, 2, 2, 2, 2, 2, 2, 2, 2, 2, 2, 2, 2, 2, 2, 2, 2, 2, 2, 2, 2, 2, 2, 2, 2, 2, 2, 2, 2, 2, 2, 2, 2, 2, 2, 2, 2, 2, 2, 2, 2, 2, 2, 2, 2, 2, 2, 2, 2, 2, 2, 2, 2, 2, 2, 2, 2, 2, 2, 2, 2, 2, 2, 2, 2, 2, 2, 2, 2, 2, 2, 2, 2, 2, 2, 2, 2, 2, 2, 2, 2, 2, 2, 2, 2, 2, 2, 2, 2, 2, 2, 2, 2, 2, 2, 2, 2, 2, 2, 2, 2, 2, 2, 2, 2, 2, 2, 2, 2, 2, 2, 2, 2, 2, 2, 2, 2, 2, 2, 2, 2, 2, 2, 2, 2, 2, 2, 2, 2, 2, 2, 2, 2, 2, 2, 2, 2, 2, 2, 2, 2, 2, 2, 2, 2, 2, 2, 2, 2, 2, 2, 2, 2, 2, 2, 2, 2, 2, 2, 2, 2, 2, 2, 2, 2, 2, 2, 2, 2, 2, 2, 2, 2, 2, 2, 2, 2, 2, 2, 2, 2, 2, 2, 2, 2, 2, 2, 2, 2, 2, 2, 2, 2, 2, 2, 2, 2, 2, 2, 2, 2, 2, 2, 2, 2, 2, 2, 2, 2, 2, 2, 2, 2, 2, 2, 2, 2, 2, 2, 2, 2, 2, 2, 2, 2, 2, 2, 2, 2, 2, 2, 2, 2, 2, 2, 2, 2, 2, 2, 2, 2, 2, 2, 2, 2, 2, 2, 2, 2, 2, 2, 2, 2, 2, 2, 2, 2, 2, 2, 2, 2, 2, 2, 2, 2, 2, 2, 2, 2, 2, 2, 2, 2, 2, 2, 2, 2, 2, 2, 2, 2, 2, 2, 2, 2, 2, 2, 2, 2, 2, 2, 2, 2, 2, 2, 2, 2, 2, 2, 2, 2, 2, 2, 2, 2, 2, 2, 2, 2, 2, 2, 2, 2, 2, 2, 2, 2, 2, 2, 2, 2, 2, 2, 2, 2, 2, 2, 2, 2, 2, 2, 2, 2, 2, 2, 2, 2, 2, 2, 2, 2, 2, 2, 2, 2, 2, 2, 2, 2, 2, 2, 2, 2, 2, 2, 2, 2, 2, 2, 2, 2, 2, 2, 2, 2, 2, 2, 2, 2, 2, 2, 2, 2, 2, 2, 2, 2, 2, 2, 2, 2, 2, 2, 2, 2, 2, 2, 2, 2, 2, 2, 2, 2, 2, 2, 2, 2, 2, 2, 2, 2, 2, 2, 2, 2, 2, 2, 2, 2, 2, 2, 2, 2, 2, 2, 2, 2, 2, 2, 2, 2, 2, 2, 2, 2, 2, 2, 2, 2, 2, 2, 2, 2, 2, 2, 2, 2, 2, 2, 2, 2, 2, 2, 2, 2, 2, 2, 2, 2, 2, 2, 2, 2, 2, 2, 2, 2, 2, 2, 2, 2, 2, 2, 2, 2, 2, 2, 2, 2, 2, 2, 2, 2, 2, 2, 2, 2, 2, 2, 2, 2, 2, 2, 2, 2, 2, 2, 2, 2, 2, 2, 2, 2, 2, 2, 2, 2, 2, 2, 2, 2, 2, 2, 2, 2, 2, 2, 2, 2, 2, 2, 2, 2, 2, 2, 2, 2, 2, 2, 2, 2, 2, 2, 2, 2, 2, 2, 2, 2, 2, 2, 2, 2, 2, 2, 2, 2, 2, 2, 2, 2, 2, 2, 2, 2, 2, 2, 2, 2, 2, 2, 2, 2, 2, 2, 2, 2, 2, 2, 2, 2, 2, 2, 2, 2, 2, 2, 2, 2, 2, 2, 2, 2, 2, 2, 2, 2, 2, 2, 2, 2, 2, 2, 2, 2, 2, 2, 2, 2, 2, 2, 2, 2, 2, 2, 2, 2, 2, 2, 2, 2, 2, 2, 2, 2, 2, 2, 2, 2, 2, 2, 2, 2, 2, 2, 2, 2, 2, 2, 2, 2, 2, 2, 2, 2, 2, 2, 2, 2, 2, 2, 2, 2, 2, 2, 2, 2, 2, 2, 2, 2, 2, 2, 2, 2, 2, 2, 2, 2, 2, 2, 2, 2, 2, 2, 2, 2, 2, 2, 2, 2, 2, 2, 2, 2, 2, 2, 2, 2, 2, 2, 2, 2, 2, 2, 2, 2, 2, 2, 2, 2, 2, 2, 2, 2, 2, 2, 2, 2, 2, 2, 2, 2, 2, 2, 2, 2, 2, 2, 2, 2, 2, 2, 2, 2, 2, 2, 2, 2, 2, 2, 2, 2, 2, 2, 2, 2, 2, 2, 2, 2, 2, 2, 2, 2, 2, 2, 2, 2, 2, 2, 2, 2, 2, 2, 2, 2, 2, 2, 2, 2, 2, 2, 2, 2, 2, 2, 2, 2, 2, 2, 2, 2, 2, 2, 2, 2, 2, 2, 2, 2, 2, 2, 2, 2, 2, 2, 2, 2, 2, 2, 2, 2, 2, 2, 2, 2, 2, 2, 2, 2, 2, 2, 2, 2, 2, 2, 2, 2, 2, 2, 2, 2, 2, 2, 2, 2, 2, 2, 2, 2, 2, 2, 2, 2, 2, 2, 2, 2, 2, 2, 2, 2, 2, 2, 2, 2, 2, 2, 2, 2, 2, 2, 2, 2, 2, 2, 2, 2, 2, 2, 2, 2, 2, 2, 2, 2, 2, 2, 2, 2, 2, 2, 2, 2, 2, 2, 2, 2, 2, 2, 2, 2, 2, 2, 2, 2, 2, 2, 2, 2, 2, 2, 2, 2, 2, 2, 2, 2, 2, 2, 2, 2, 2, 2, 2, 2, 2, 2, 2, 2, 2, 2, 2, 2, 2, 2, 2, 2, 2, 2, 2, 2, 2, 2, 2, 2, 2, 2, 2, 2, 2, 2, 2, 2, 2, 2, 2, 2, 2, 2, 2, 2, 2, 2, 2, 2, 2, 2, 2, 2, 2, 2, 2, 2, 2, 2, 2, 2, 2, 2, 2, 2, 2, 2, 2, 2, 2, 2, 2, 2, 2, 2, 2, 2, 2, 2, 2, 2, 2, 2, 2, 2], \"type\": \"scatter\", \"mode\": \"markers\"}], {\"yaxis\": {\"title\": \"Time Enrolled\"}, \"xaxis\": {\"title\": \"Days Open\"}, \"title\": \"Days Open vs Time Enrolled\"}, {\"linkText\": \"Export to plot.ly\", \"showLink\": true})});</script>"
      ],
      "text/plain": [
       "<IPython.core.display.HTML object>"
      ]
     },
     "metadata": {},
     "output_type": "display_data"
    }
   ],
   "source": [
    "twodays_time = students[students['days_open'] == 2]['time_enrolled']\n",
    "threedays_time = students[students['days_open'] == 3]['time_enrolled']\n",
    "\n",
    "\n",
    "print(\"The p value is \" + str(sp.stats.ttest_ind(twodays_time, threedays_time,axis=0, equal_var=False).pvalue/float(2)) + \" and the t value is \" + str(sp.stats.ttest_ind(twodays_time, threedays_time,axis=0, equal_var=False).statistic/float(2)))\n",
    "print (\"The effect size is \" + str(cohensd(twodays_time, threedays_time)))\n",
    "print(\"Centers open for 2 days hav an average enrllment of \" + str(int(np.mean(twodays_time))) + \" days\")\n",
    "print(\"Centers open for 3 days hav an average enrllment of \" + str(int(np.mean(threedays_time)))+ \" days\")\n",
    "print(\" The number of days the center is open does not seem to have a significant impact on the logistic regression - but the 2 distributions are significantly different: The centers open for 2 days have a higher mean enrollment time than those open for 3 days, albeit with a small effect size. This might be a feature we need to boost up in the LR model\")\n",
    "      \n",
    "trace1 = Scatter(x=students['days_open'],y=students['time_enrolled'], mode='markers')\n",
    "data = [trace1]\n",
    "layout = Layout(xaxis=dict(title = 'Days Open'),\n",
    "                 yaxis=dict(title='Time Enrolled'),\n",
    "                title='Days Open vs Time Enrolled')\n",
    "\n",
    "\n",
    "fig1 = Figure(data=data, layout=layout)\n",
    "iplot(fig1)"
   ]
  },
  {
   "cell_type": "code",
   "execution_count": 277,
   "metadata": {
    "collapsed": false
   },
   "outputs": [
    {
     "data": {
      "text/html": [
       "<div id=\"5ef253a9-321c-41d4-b851-bcbecf5ce375\" style=\"height: 525px; width: 100%;\" class=\"plotly-graph-div\"></div><script type=\"text/javascript\">require([\"plotly\"], function(Plotly) { window.PLOTLYENV=window.PLOTLYENV || {};window.PLOTLYENV.BASE_URL=\"https://plot.ly\";Plotly.newPlot(\"5ef253a9-321c-41d4-b851-bcbecf5ce375\", [{\"y\": [90, 241, 85, 83, 149, 47, 57, 205, 225, 234, 469, 38, 23, 445, 82, 59, 54, 206, 17, 40, 240, 522, 15, 98, 161, 426, 23, 392, 263, 264, 424, 53, 41, 598, 139, 212, 77, 241, 160, 464, 12, 18, 41, 187, 210, 229, 272, 207, 68, 53, 453, 271, 133, 119, 107, 416, 348, 76, 229, 232, 97, 113, 142, 167, 12, 13, 140, 147, 101, 351, 327, 86, 85, 84, 609, 109, 98, 31, 552, 148, 148, 51, 27, 74, 41, 193, 77, 537, 433, 878, 334, 732, 338, 74, 557, 47, 88, 36, 259, 74, 93, 196, 197, 49, 1050, 505, 77, 77, 785, 480, 77, 263, 270, 229, 52, 40, 113, 52, 182, 112, 57, 418, 141, 42, 1332, 1188, 175, 1085, 389, 490, 478, 588, 154, 160, 551, 150, 42, 678, 40, 241, 155, 13, 292, 231, 1506, 1343, 451, 224, 288, 65, 85, 50, 401, 91, 395, 287, 159, 389, 363, 651, 150, 112, 150, 116, 115, 806, 663, 299, 678, 231, 663, 679, 244, 425, 1285, 505, 146, 99, 659, 657, 786, 191, 59, 59, 69, 110, 286, 34, 18, 821, 191, 173, 1049, 772, 160, 175, 1059, 203, 357, 14, 77, 224, 37, 14, 131, 134, 210, 32, 53, 209, 334, 288, 558, 267, 14, 34, 173, 1134, 37, 133, 336, 735, 117, 732, 293, 162, 111, 961, 105, 537, 61, 114, 176, 826, 28, 951, 537, 118, 82, 208, 318, 615, 157, 77, 343, 236, 660, 270, 270, 137, 122, 224, 235, 261, 221, 1165, 762, 289, 126, 425, 16, 103, 294, 126, 180, 426, 294, 180, 146, 236, 307, 80, 257, 196, 1340, 699, 210, 340, 116, 233, 1363, 97, 257, 108, 104, 1342, 823, 1442, 14, 457, 440, 616, 1362, 41, 54, 616, 475, 635, 210, 658, 137, 152, 1071, 31, 3, 196, 398, 585, 279, 137, 197, 173, 175, 312, 224, 373, 232, 124, 231, 105, 173, 40, 431, 208, 322, 143, 87, 25, 697, 312, 697, 87, 324, 62, 104, 827, 399, 574, 201, 596, 623, 156, 496, 13, 453, 576, 911, 212, 1267, 392, 136, 392, 709, 102, 227, 210, 196, 806, 105, 1185, 211, 984, 211, 68, 114, 171, 211, 249, 307, 44, 155, 357, 602, 57, 1088, 73, 307, 89, 196, 489, 89, 114, 905, 157, 56, 59, 905, 18, 805, 574, 66, 260, 881, 196, 714, 441, 326, 504, 842, 13, 187, 87, 1763, 1296, 180, 80, 545, 209, 30, 77, 675, 538, 504, 48, 537, 305, 140, 139, 77, 337, 305, 161, 440, 455, 378, 21, 261, 448, 290, 67, 546, 637, 196, 713, 546, 285, 84, 196, 106, 906, 245, 247, 189, 146, 149, 191, 91, 254, 193, 174, 245, 24, 244, 246, 89, 253, 245, 121, 64, 72, 254, 260, 150, 143, 141, 260, 101, 30, 253, 266, 19, 37, 255, 25, 269, 53, 73, 257, 181, 247, 45, 14, 230, 219, 206, 36, 272, 19, 19, 23, 183, 36, 6, 257, 274, 171, 159, 157, 30, 26, 176, 155, 262, 92, 77, 61, 260, 255, 273, 62, 197, 77, 289, 92, 153, 32, 31, 168, 153, 122, 245, 249, 222, 269, 123, 6, 245, 19, 0, 0, 0, 249, 59, 87, 249, 252, 31, 252, 78, 122, 12, 247, 266, 236, 63, 176, 51, 473, 103, 39, 76, 285, 42, 42, 106, 58, 84, 86, 107, 111, 33, 122, 201, 80, 168, 141, 270, 177, 377, 77, 196, 73, 289, 83, 98, 179, 181, 60, 81, 74, 41, 324, 324, 102, 102, 5, 91, 173, 236, 353, 23, 23, 117, 200, 42, 56, 578, 114, 55, 23, 212, 212, 69, 212, 212, 222, 25, 35, 73, 71, 220, 240, 474, 40, 42, 111, 76, 172, 172, 301, 52, 69, 114, 99, 288, 241, 134, 39, 368, 117, 220, 53, 54, 118, 86, 117, 454, 454, 77, 140, 46, 128, 116, 228, 228, 53, 502, 513, 38, 38, 257, 248, 178, 368, 96, 492, 163, 748, 404, 790, 105, 188, 28, 92, 104, 49, 79, 87, 137, 104, 133, 307, 185, 27, 412, 103, 83, 105, 23, 329, 48, 748, 452, 0, 474, 417, 563, 342, 188, 309, 34, 829, 179, 39, 48, 333, 124, 72, 137, 406, 220, 22, 425, 19, 138, 249, 285, 128, 164, 252, 1, 360, 126, 14, 836, 97, 83, 305, 305, 25, 154, 47, 153, 76, 216, 882, 315, 563, 333, 43, 9, 132, 84, 139, 351, 398, 426, 177, 398, 266, 489, 168, 190, 665, 426, 305, 1033, 211, 63, 629, 456, 570, 1144, 426, 304, 46, 265, 55, 230, 279, 48, 90, 104, 88, 350, 69, 214, 21, 400, 753, 66, 45, 140, 55, 188, 174, 135, 265, 19, 87, 142, 110, 111, 184, 110, 358, 50, 50, 81, 204, 267, 267, 134, 122, 107, 23, 273, 212, 9, 7, 172, 172, 13, 242, 50, 241, 297, 261, 293, 292, 167, 27, 35, 29, 83, 128, 238, 38, 46, 57, 273, 216, 240, 316, 43, 261, 730, 157, 28, 406, 381, 301, 144, 129, 175, 169, 93, 84, 275, 371, 197, 112, 328, 177, 49, 58, 406, 500, 91, 616, 106, 106, 157, 57, 195, 485, 97, 112, 169, 45, 485, 45, 266, 263, 107, 211, 539, 539, 132, 24, 98, 281, 69, 96, 7, 16, 328, 350, 30, 305, 178, 625, 283, 169, 339, 318, 45, 45, 515, 535, 357, 75, 613, 56, 413, 397, 86, 7, 558, 603, 698, 52, 188, 699, 322, 158, 473, 913, 552, 1428, 223, 59, 444, 318, 205, 77, 109, 166, 381, 130, 59, 315, 94, 1252, 69, 132, 1449, 1449, 192, 1347, 378, 248, 906, 52, 248, 73, 689, 33, 301, 83, 298, 842, 724, 1245, 545, 87, 814, 258, 75, 815, 7, 141, 426, 1801, 441, 89, 1372, 21, 42, 139, 65, 30, 121, 63, 70, 39, 464, 86, 85, 87, 215, 83, 385, 82, 619, 78, 45, 48, 286, 1155, 319, 1290, 606, 259, 452, 111, 168, 782, 531, 251, 166, 119, 290, 798, 224, 606, 1379, 821, 119, 459, 1670, 31, 331, 598, 181, 346, 542, 293, 157, 14, 231, 462, 612, 150, 1169, 231, 206, 27, 85, 183, 839, 498, 115, 682, 323, 151, 90, 120, 440, 16, 256, 236, 973, 149, 401, 63, 371, 908, 913, 45, 637, 526, 198, 148, 155, 343, 789, 427, 172, 51, 1207, 372, 87, 175, 1025, 760, 759, 329, 592, 196, 126, 271, 1114, 362, 119, 149, 263, 122, 369, 1033, 223, 294, 235, 1113, 1315, 994, 178, 753, 390, 210, 240, 86, 170, 55, 90, 507, 636, 126, 448, 142, 745, 946, 176, 452, 74, 81, 136, 239, 1120, 1347, 383, 119, 84, 110, 134, 325, 268, 84, 326, 14, 226, 247, 205, 921, 711, 221, 53, 23, 28, 28, 35, 37, 35, 17, 149, 25, 24, 25, 119, 57, 115, 212, 101, 84, 137, 133, 70, 137, 193, 178, 140, 116, 187, 184, 233, 589, 176, 270, 11, 796, 108, 249, 215, 130, 33, 149, 798, 796, 1120, 142, 99, 804, 307, 34, 902, 29, 585, 56, 135, 254, 568, 827, 337, 15, 363, 269, 357, -102, 101, 458, 224, 69, 58, 493, 199, 122, 124, 1093, 1385, 121, 40, 781, 1385, 98, 545, 177, 55, 235, 82, 208, 523, 542, 210, 316, 35, 23, 546, 130, 313, 184, 163, 303, 31, 11, 232, 197, 110, 34, 175, 553, 189, 951, 476, 561, 56, 136, 34, 134, 228, 314, 394, 309, 1147, 41, 12, 37, 141, 77, 77, 70, 42, 255, 169, 49, 43, 231, 373, 116, 170, 260, 220, 1338, 66, 159, 76, 191, 7, 377, 98, 156, 83, 156, 154, 421, 141, 1048, 1274, 678, 160, 176, 132, 548, 403, 39, 228, 39, 85, 382, 364, 78, 79, 148, 875, 143, 39, 232, 364, 77, 410, 207, 364, 708, 176, 64, 93, 999, 69, 46, 52, 1006, 43, 41, 650, 732, 171, 81, 55, 336, 175, 251, 173, 663, 364, 15, 343, 44, 2, 988, 239, 218, 447, 80, 267, 36, 1086, 78, 264, 105, 78, 980, 321, 197, 261, 100, 362, 66, 116, 30, 189, 230, 197, 30, 86, 200, 226, 413, 287, 30, 218, 457, 356, 99, 19, 16, 30, 189, 39, 528, 259, 30, 48, 312, 91, 9, 543, 20, 211, 848, 48, 92, 50, 712, 220, 211, 211, 959, 823, 692, 1449, 573, 566, 100, 546, 1267, 580, 1692, 547, 105, 996, 1896, 573, 2081, 243, 1113, 1206, 1973, 574, 1110, 164, 1455, 114, 393, 410, 791, 107, 1497, 663, 679, 1475, 202, 879, 1078, 807, 909, 601, 219, 193, 2624, 748, 138, 244, 725, 1352, 275, 2501, 1536, 1483, 1677, 335, 429, 358, 1325, 162, 146, 303, 775, 174, 51, 1833, 427, 363, 62, 89, 366, 946, 55, 85, 431, 1028, 479, 482, 348, 743, 752, 419, 133, 1402, 535, 752, 37, 1730, 121, 1301, 1553, 2338, 636, 544, 913, 121, 590, 174, 328, 317, 174, 1322, 356, 463, 359, 258, 1333, 477, 1344, 699, 988, 113, 126, 969, 608, 484, 575, 1692, 574, 747, 45, 1269, 192, 1143, 198, 83, 62, 745, 139, 44, 332, 1193, 65, 230, 331, 93, 206, 258, 561, 324, 6, 2266, 1323, 545, 311, 496, 84, 1525, 363, 2313, 521, 530, 561, 240, 417, 1190, 848, 19, 359, 148, 1199, 617, 1454, 897, 601, 601, 1666, 1539, 1013, 267, 377, 267, 734, 288, 345, 288, 469, 91, 819, 464, 398, 758, 592, 1099, 1819, 454, 443, 965, 758, 741, 378, 1212, 500, 818, 388, 131, 1427, 91, 103, 755, 576, 1760, 2077, 2180, 1710, 1476, 568, 456, 2860, 2076, 2024, 808, 980, 227, 865, 429, 521, 392, 949, 1985, 1657, 699, 834, 848, 713, 713, 132, 834, 402, 315, 1213, 107, 197, 671, 1215, 345, 342, 1393, 657, 234, 631, 734, 104, 650, 651, 41, 479, 83, 244, 508, 76, 227, 350, 261, 384, 380, 450, 381, 373, 338, 368, 272, 274, 1605, 148, 388, 1217, 321, 497, 377, 733, 761, 626, 997, 23, 656, 1200, 763, 1873, 66, 2635, 638, 20, 846, 366, 1162, 202, 1122, 1983, 390, 393, 2522, 254, 393, 477, 390, 30, 118, 432, 2006, 457, 2629, 118, 544, 123, 1290, 80, 2222, 624, 1357, 138, 1725, 2263, 314, 380, 486, 1970, 874, 1717, 38, 1611, 120, 2071, 2623, 838, 444, 51, 211, 689, 2207, 1035, 982, 2067, 597, 440, 28, 147, 959, 402, 2695, 28, 314, 503, 1088, 848, 2112, 884, 149, 907, 148, 132, 1356, 233, 1007, 1766, 1133, 363, 1186, 265, 1215, 149, 1818, 941, 142, 395, 631, 77, 552, 265, 628, 772, 1321, 1441, 580, 1374, 370, 720, 2728, 2469, 1542, 631, 88, 1727, 646, 251, 1307, 2627, 1487, 118, 1563, 911, 103, 88, 790, 267, 1642, 1244, 2207, 688, 191, 593, 198, 905, 545, 1209, 114, 712, 1094, 541, 593, 34, 122, 23, 287, 343, 1249, 99, 46, 653, 2772, 338, 1114, 215, 198, 721, 335, 553, 1106, 1726, 315, 412, 973, 40, 979, 37, 226, 311, 117, 323, 1726, 19, 238, 655, 479, 20, 161, 241, 1061, 821, 905, 272, 86, 230, 1716, 193, 373, 935, 450, 40, 299, 105, 1884, 132, 73, 399, 198, 246, 443, 180, 164, 99, 65, 730, 282, 552, 436, 178, 527, 414, 245, 79, 506, 54, 1460, 499, 28, 106, 388, 232, 336, 351, 210, 357, 192, 1636, 317, 568, 479, 1270, 559, 26, 2031, 1516, 450, 35, 726, 137, 531, 833, 1065, 1064, 79, 1270, 137, 179, 1738, 270, 1491, 128, 131, 393, 466, 470, 1491, 132, 516, 71, 177, 542, 347, 122, 791, 116, 311, 2128, 147, 598, 1047, 179, 513, 13, 223, 748, 1883, 114, 272, 512, 171, 111, 348, 308, 63, 896, 114, 48, 349, 268, 105, 207, 51, 168, 77, 5, 51, 217, 211, 201, 837, 257, 85, 298, 764, 532, 124, 1132, 213, 590, 1012, 44, 134, 424, 153, 501, 423, 170, 274, 21, 1623, 1650, 329, 181, 1219, 358, 281, 50, 19, 51, 516, 29, 1631, 657, 215, 312, 353, 261, 1513, 512, 657, 156, 212, 14, 182, 161, 149, 184, 214, 609, 680, 658, 230, 271, 200, 147, 194, 329, 403, 235, 118, 220, 126, 166, 510, 592, 73, 588, 71, 96, 195, 294, 648, 242, 84, 1765, 664, 986, 802, 1473, 546, 1640, 77, 355, 125, 361, 603, 323, 243, 464, 660, 660, 433, 301, 175, 723, 547, 201, 1032, 44, 305, 271, 212, 104, 224, 343, 350, 1205, 177, 320, 40, 63, 459, 108, 183, 688, 490, 300, 140, 1367, 163, 482, 258, 39, 626, 300, 986, 895, 622, 626, 329, 601, 168, 49, 195, 601, 119, 864, 195, 198, 249, 107, 176, 865, 34, 181, 179, 872, 170, 323, 1405, 461, 169, 1201, 798, 1428, 51, 751, 237, 245, 120, 97, 373, 173, 310, 455, 14, 187, 702, 383, 823, 454, 454, 77, 100, 63, 671, 48, 399, 745, 1445, 459, 882, 104, 252, 1393, 405, 184, 350, 574, 574, 81, 525, 889, 808, 284, 142, 1203, 168, 168, 83, 185, 940, 1332, 225, 86, 209, 247, 499, 170, 329, 1133, 243, 443, 139, 54, 688, 133, 437, 746, 334, 139, 334, 235, 334, 15, 77, 90, 143, 148, 733, 111, 61, 228, 1274, 275, 63, 64, 63, 442, 426, 105, 123, 775, 525, 167, 395, 22, 378, 359, 514, 1461, 161, 350, 58, 419, 1260, 241, 350, 861, 1598, 775, 1398, 926, 2090, 285, 161, 332, 180, 1139, 112, 8, 142, 90, 502, 295, 47, 636, 118, 342, 217, 218, 138, 367, 435, 1134, 365, 952, 574, 189, 293, 758, 36, 163, 689, 890, 1090, 296, 34, 327, 560, 67, 2357, 238, 357, 62, 517, 1825, 242, 991, 833, 189, 177, 190, 81, 379, 411, 79, 981, 135, 341, 53, 14, 455, 701, 29, 29, 260, 576, 342, 708, 170, 28, 247, 58, 112, 928, 180, 1388, 112, 2537, 250, 2070, 75, 133, 545, 350, 546, 434, 1269, 625, 175, 213, 370, 44, 1113, 514, 260, 332, 35, 608, 227, 152, 455, 680, 55, 74, 532, 180, 41, 202, 390, 343, 889, 202, 342, 350, 420, 907, 253, 547, 889, 392, 107, 452, 374, 547, 367, 248, 42, 58, 101, 140, 101, 874, 1708, 1047, 403, 716, 1141, 90, 183, 450, 900, 60, 354, 298, 297, 135, 523, 1330, 127, 301, 266, 940, 600, 813, 63, 192, 467, 143, 14, 59, 1271, 379, 239, 189, 1349, 469, 51, 504, 546, 114, 339, 164, 237, 160, 105, 323, 520, 101, 546, 155, 197, 600, 212, 547, 89, 57, 322, 56, 151, 8, 211, 39, 28, 64, 322, 1680, 151, 1721, 306, 1607, 440, 1815, 498, 1881, 98, 291, 970, 889, 2035, 1501, 89, 23, 85, 14, 549, 409, 93, 42, 500, 30, 25, 252, 15, 59, 524, 15, 124, 58, 28, 104, 166, 136, 87, 329, 106, 179, 39, 365, 37, 7, 152, 76, 243, 77, 57, 211, 243, 240, 260, 214, 250, 48, 121, 148, 149, 48, 85, 75, 265, 149, 76, 343, 213, 88, 429, 24, 250, 142, 47, 318, 350, 26, 362, 75, 89, 46, 228, 57, 59, 60, 209, 26, 14, 515, 89, 12, 75, 518, 76, 457, 334, 60, 107, 75, 128, 25, 470, 209, 105, 464, 32, 67, 20, 100, 149, 100, 64, 16, 206, 16, 133, 334, 303, 89, 20, 497, 98, 20, 29, 90, 18, 56, 63, 53, 349, 341, 309, 211, 67, 252, 323, 231, 39, 534, 407, 152, 137, 450, 393, 14, 123, 14, 14, 116, 171, 21, 238, 252, 49, 426, 318, 399, 112, 58, 27, 20, 417, 18, 295, 53, 175, 11, 56, 116, 56, 46, 119, 119, 232, 238, 60, 133, 177, 30, 224, 483, 479, 119, 18, 159, 88, 406, 220, 73, 76, 56, 197, 419, 32, 173, 420, 99, 100, 123, 53, 604, 305, 91, 603, 235, 124, 41, 227, 138, 174, 127, 145, 43, 48, 19, 46, 165, 31, 108, 273, 108, 98, 25, 110, 91, 45, 266, 335, 58, 67, 121, 596, 63, 377, 78, 90, 378, 90, 37, 70, 346, 33, 71, 370, 176, 166, 91, 372, 212, 321, 70, 44, 289, 373, 34, 21, 151, 165, 362, 316, 161, 266, 35, 21, 61, 21, 119, 37, 334, 18, 14, 3, 524, 172], \"x\": [13, 14, 8, 11, 14, 10, 14, 7, 9, 9, 11, 17, 7, 9, 13, 8, 11, 11, 8, 8, 13, 7, 9, 16, 12, 10, 10, 11, 7, 7, 10, 4, 11, 8, 9, 12, 10, 11, 11, 11, 6, 14, 8, 10, 12, 11, 9, 11, 9, 5, 9, 12, 12, 5, 10, 9, 13, 10, 11, 7, 13, 12, 8, 9, 13, 14, 7, 9, 5, 11, 9, 9, 11, 12, 7, 10, 13, 9, 10, 7, 8, 10, 9, 11, 11, 9, 5, 9, 5, 5, 7, 9, 9, 9, 5, 5, 11, 11, 7, 7, 8, 10, 12, 9, 6, 8, 9, 7, 7, 8, 8, 5, 9, 6, 11, 11, 9, 9, 3, 9, 12, 5, 6, 11, 3, 6, 9, 10, 10, 12, 9, 3, 6, 7, 12, 4, 9, 5, 11, 6, 9, 9, 10, 4, 9, 8, 9, 6, 8, 13, 10, 5, 5, 19, 11, 10, 8, 3, 6, 11, 11, 8, 11, 3, 26, 11, 7, 8, 7, 7, 7, 3, 4, 12, 10, 4, 4, 5, 11, 13, 5, 12, 11, 9, 6, 4, 9, 6, 8, 8, 11, 5, 6, 4, 10, 8, 8, 9, 5, 10, 9, 7, 7, 7, 5, 11, 6, 10, 12, 10, 7, 4, 7, 11, 13, 9, 8, 8, 10, 8, 5, 7, 12, 6, 14, 6, 11, 8, 10, 7, 11, 7, 8, 8, 6, 10, 10, 12, 7, 9, 10, 9, 5, 9, 6, 6, 11, 10, 11, 12, 12, 6, 5, 6, 10, 8, 8, 8, 10, 9, 8, 9, 8, 12, 9, 6, 11, 8, 11, 8, 3, 9, 7, 7, 10, 10, 5, 8, 11, 5, 9, 8, 5, 4, 6, 10, 13, 7, 11, 7, 12, 9, 10, 13, 5, 7, 8, 10, 8, 8, 13, 7, 11, 6, 14, 9, 6, 12, 4, 11, 6, 7, 7, 7, 8, 9, 10, 9, 11, 6, 15, 10, 12, 4, 5, 6, 9, 11, 7, 11, 4, 10, 10, 9, 10, 11, 4, 8, 11, 4, 5, 9, 10, 7, 9, 6, 6, 7, 10, 9, 9, 4, 8, 6, 8, 8, 7, 7, 12, 8, 5, 4, 8, 6, 10, 7, 10, 6, 5, 10, 10, 8, 7, 10, 8, 12, 8, 11, 6, 7, 13, 9, 7, 10, 9, 7, 5, 13, 6, 7, 3, 9, 11, 8, 12, 13, 9, 6, 3, 7, 9, 10, 6, 9, 11, 9, 12, 6, 12, 9, 12, 7, 8, 12, 12, 9, 6, 5, 10, 6, 7, 15, 4, 10, 11, 16, 10, 8, 8, 12, 6, 9, 6, 9, 6, 10, 4, 8, 11, 4, 6, 6, 9, 9, 6, 10, 12, 11, 13, 8, 12, 15, 8, 5, 10, 8, 7, 9, 6, 8, 9, 11, 11, 9, 11, 7, 8, 4, 5, 4, 8, 4, 8, 6, 8, 12, 6, 4, 6, 9, 9, 5, 10, 7, 7, 5, 10, 7, 4, 9, 12, 5, 9, 9, 11, 8, 9, 12, 9, 4, 5, 9, 7, 5, 5, 7, 10, 6, 8, 3, 12, 12, 6, 9, 5, 12, 4, 6, 11, 8, 6, 7, 7, 10, 2, 3, 8, 7, 7, 4, 14, 4, 7, 9, 10, 7, 7, 7, 6, 9, 9, 6, 4, 9, 11, 12, 9, 7, 13, 6, 11, 7, 6, 8, 11, 17, 8, 12, 11, 8, 12, 7, 5, 3, 6, 8, 6, 8, 11, 8, 7, 10, 11, 10, 7, 14, 9, 12, 5, 12, 7, 11, 11, 3, 11, 10, 11, 4, 6, 7, 12, 10, 13, 6, 6, 10, 9, 14, 6, 8, 11, 6, 9, 9, 8, 5, 9, 7, 6, 9, 11, 5, 6, 9, 9, 10, 12, 9, 12, 9, 6, 7, 11, 11, 8, 8, 13, 11, 10, 13, 14, 6, 7, 14, 17, 13, 6, 8, 14, 8, 9, 13, 5, 7, 5, 8, 12, 8, 7, 10, 13, 3, 5, 12, 11, 8, 13, 4, 15, 4, 12, 10, 14, 9, 8, 7, 10, 10, 4, 10, 10, 9, 4, 10, 7, 14, 13, 5, 11, 8, 9, 7, 4, 15, 11, 11, 9, 8, 13, 8, 9, 9, 14, 10, 6, 6, 6, 12, 14, 7, 10, 9, 7, 7, 4, 11, 14, 10, 10, 14, 10, 14, 11, 10, 10, 6, 6, 12, 12, 8, 6, 13, 5, 10, 14, 8, 4, 13, 11, 46, 14, 13, 6, 9, 9, 3, 8, 5, 5, 6, 11, 9, 10, 8, 10, 16, 12, 10, 6, 6, 12, 10, 5, 8, 12, 10, 7, 7, 14, 9, 7, 6, 7, 15, 10, 11, 7, 6, 10, 12, 12, 10, 3, 7, 10, 6, 10, 5, 9, 6, 8, 11, 8, 4, 4, 12, 5, 5, 7, 13, 5, 7, 13, 8, 5, 8, 7, 6, 8, 6, 11, 8, 4, 13, 11, 4, 8, 6, 6, 9, 4, 4, 7, 9, 7, 8, 5, 4, 11, 8, 10, 5, 7, 8, 15, 12, 10, 6, 8, 8, 5, 12, 4, 7, 9, 5, 9, 5, 14, 6, 13, 11, 6, 7, 9, 5, 5, 10, 6, 4, 9, 11, 12, 8, 9, 3, 11, 11, 7, 5, 9, 8, 10, 10, 8, 6, 7, 5, 6, 9, 13, 8, 8, 10, 14, 8, 8, 5, 6, 7, 7, 9, 9, 8, 12, 3, 2, 2, 7, 6, 3, 3, 3, 13, 4, 7, 8, 5, 4, 9, 11, 11, 13, 8, 11, 9, 10, 5, 10, 7, 4, 4, 8, 7, 9, 7, 7, 7, 9, 15, 6, 4, 11, 9, 13, 12, 11, 9, 7, 5, 5, 11, 4, 10, 9, 7, 8, 11, 13, 7, 5, 10, 7, 7, 12, 14, 10, 11, 11, 9, 9, 5, 7, 8, 6, 12, 5, 8, 8, 5, 9, 11, 9, 4, 13, 7, 7, 12, 10, 5, 10, 9, 10, 11, 13, 9, 10, 11, 8, 6, 6, 7, 10, 10, 10, 6, 6, 8, 9, 6, 7, 10, 5, 8, 9, 7, 8, 8, 7, 12, 5, 14, 8, 5, 8, 9, 14, 11, 3, 6, 9, 6, 6, 5, 8, 9, 9, 12, 11, 9, 5, 8, 10, 9, 6, 7, 8, 4, 10, 11, 12, 15, 7, 4, 11, 10, 10, 10, 8, 16, 4, 8, 13, 9, 10, 5, 5, 13, 7, 14, 7, 12, 9, 11, 6, 12, 9, 15, 5, 10, 8, 10, 8, 7, 4, 9, 7, 17, 9, 15, 11, 6, 10, 8, 4, 4, 13, 6, 3, 7, 8, 11, 5, 8, 7, 6, 10, 2, 10, 12, 5, 13, 10, 11, 7, 15, 10, 5, 9, 6, 6, 8, 6, 6, 8, 6, 6, 8, 7, 10, 12, 16, 6, 6, 7, 12, 6, 9, 5, 8, 11, 10, 12, 7, 10, 8, 10, 5, 6, 8, 9, 4, 7, 11, 11, 7, 5, 10, 11, 13, 12, 9, 8, 12, 7, 10, 6, 7, 7, 9, 7, 12, 7, 12, 10, 8, 7, 8, 9, 8, 11, 10, 14, 13, 6, 11, 6, 11, 6, 7, 9, 5, 10, 10, 8, 9, 8, 10, 11, 10, 11, 7, 8, 5, 10, 11, 12, 4, 8, 9, 9, 11, 7, 12, 11, 7, 6, 13, 11, 11, 9, 8, 5, 10, 9, 7, 7, 10, 7, 9, 8, 4, 11, 11, 7, 4, 8, 7, 12, 5, 9, 9, 11, 6, 12, 7, 6, 10, 13, 7, 10, 9, 7, 8, 12, 7, 10, 7, 9, 9, 7, 10, 10, 7, 6, 7, 8, 15, 8, 12, 8, 7, 12, 11, 5, 10, 12, 5, 4, 5, 3, 11, 7, 10, 6, 9, 7, 8, 15, 6, 8, 11, 9, 10, 13, 11, 9, 8, 8, 9, 10, 7, 5, 11, 9, 7, 9, 13, 12, 8, 8, 6, 10, 14, 5, 12, 10, 8, 6, 6, 8, 10, 10, 9, 7, 8, 6, 8, 8, 9, 10, 12, 9, 7, 9, 12, 12, 8, 14, 6, 11, 6, 10, 14, 4, 10, 8, 6, 8, 7, 5, 10, 6, 3, 11, 12, 8, 9, 10, 12, 7, 10, 8, 4, 8, 6, 8, 9, 13, 8, 9, 8, 16, 11, 6, 7, 7, 9, 9, 11, 4, 10, 11, 15, 7, 12, 8, 8, 4, 7, 10, 8, 9, 7, 7, 9, 9, 3, 9, 10, 6, 13, 12, 7, 10, 7, 5, 12, 5, 6, 6, 7, 14, 10, 10, 4, 6, 7, 15, 5, 3, 15, 10, 8, 6, 10, 7, 10, 12, 11, 6, 8, 10, 4, 7, 10, 10, 3, 11, 6, 4, 5, 6, 6, 6, 8, 4, 9, 7, 10, 9, 7, 5, 6, 7, 6, 8, 10, 9, 4, 14, 11, 10, 11, 6, 8, 12, 15, 5, 12, 5, 3, 5, 5, 6, 15, 11, 9, 7, 10, 10, 16, 7, 12, 8, 9, 3, 7, 12, 11, 10, 12, 4, 12, 7, 6, 10, 8, 13, 7, 12, 5, 11, 8, 15, 11, 4, 10, 8, 5, 8, 6, 7, 8, 8, 5, 10, 9, 12, 9, 9, 10, 8, 5, 8, 12, 10, 6, 16, 5, 9, 11, 10, 7, 5, 8, 11, 8, 8, 5, 9, 13, 5, 15, 7, 9, 7, 7, 8, 12, 4, 5, 12, 7, 8, 5, 13, 11, 9, 9, 8, 11, 11, 5, 10, 10, 10, 11, 6, 12, 11, 7, 6, 15, 5, 6, 10, 7, 10, 6, 6, 8, 8, 6, 5, 4, 8, 13, 5, 6, 7, 8, 6, 11, 8, 10, 8, 9, 4, 7, 13, 6, 9, 9, 11, 8, 13, 4, 4, 12, 10, 11, 7, 4, 10, 5, 8, 5, 9, 11, 7, 11, 9, 12, 7, 6, 12, 8, 12, 7, 8, 9, 10, 8, 9, 7, 8, 5, 17, 7, 4, 7, 11, 15, 13, 10, 12, 5, 10, 7, 13, 13, 6, 8, 12, 6, 6, 4, 4, 10, 13, 11, 4, 7, 11, 13, 11, 10, 11, 9, 4, 8, 15, 6, 12, 11, 12, 12, 6, 7, 4, 7, 8, 11, 4, 9, 8, 7, 6, 11, 12, 8, 8, 6, 5, 9, 10, 9, 7, 13, 6, 9, 8, 12, 9, 9, 14, 11, 10, 6, 11, 10, 10, 8, 7, 5, 7, 11, 8, 4, 8, 9, 5, 13, 5, 6, 9, 3, 11, 10, 6, 13, 9, 5, 2, 4, 11, 8, 7, 12, 7, 8, 13, 13, 7, 10, 5, 8, 8, 9, 10, 8, 8, 7, 9, 15, 11, 7, 12, 5, 8, 8, 14, 9, 10, 8, 11, 8, 14, 5, 9, 5, 11, 11, 12, 12, 13, 5, 10, 7, 7, 9, 5, 9, 10, 9, 3, 7, 3, 6, 6, 12, 8, 8, 6, 11, 13, 8, 10, 10, 9, 6, 11, 14, 7, 8, 9, 10, 11, 9, 11, 7, 6, 6, 5, 13, 9, 9, 6, 8, 9, 7, 12, 15, 6, 10, 4, 14, 11, 10, 11, 9, 5, 12, 9, 6, 7, 9, 4, 5, 4, 8, 7, 8, 10, 11, 6, 6, 5, 8, 7, 9, 10, 14, 9, 12, 6, 7, 10, 9, 8, 10, 7, 9, 10, 7, 7, 10, 11, 10, 9, 9, 8, 11, 6, 7, 7, 10, 7, 13, 12, 6, 9, 8, 7, 3, 8, 5, 15, 5, 10, 6, 4, 9, 5, 5, 6, 7, 12, 5, 9, 9, 5, 9, 13, 7, 12, 14, 7, 6, 5, 12, 13, 6, 9, 7, 5, 13, 9, 5, 13, 5, 12, 7, 7, 8, 9, 4, 13, 7, 8, 7, 10, 7, 6, 6, 6, 10, 9, 12, 14, 8, 7, 6, 6, 11, 15, 8, 5, 8, 12, 5, 10, 5, 7, 8, 13, 6, 10, 7, 8, 8, 10, 14, 14, 10, 15, 7, 10, 10, 8, 9, 7, 5, 9, 7, 9, 6, 5, 10, 10, 6, 3, 12, 9, 10, 15, 13, 13, 11, 12, 7, 6, 6, 9, 7, 12, 12, 4, 7, 4, 12, 11, 13, 8, 9, 9, 10, 6, 7, 7, 5, 7, 12, 11, 8, 7, 6, 9, 5, 8, 11, 9, 11, 11, 10, 15, 11, 13, 15, 12, 12, 11, 12, 10, 9, 8, 7, 12, 6, 10, 5, 5, 11, 7, 12, 6, 11, 8, 12, 9, 7, 7, 10, 7, 10, 8, 6, 7, 10, 8, 12, 10, 5, 5, 7, 8, 10, 11, 6, 6, 4, 6, 10, 5, 6, 6, 9, 11, 6, 13, 9, 8, 42, 7, 7, 10, 10, 10, 5, 6, 10, 11, 42, 8, 6, 9, 5, 10, 9, 8, 14, 6, 7, 14, 8, 7, 10, 13, 7, 9, 10, 13, 8, 5, 6, 13, 9, 9, 14, 9, 8, 7, 5, 12, 10, 17, 5, 9, 6, 13, 10, 12, 6, 10, 10, 8, 10, 10, 8, 11, 7, 12, 13, 8, 5, 15, 7, 11, 11, 6, 11, 8, 5, 4, 13, 13, 10, 12, 11, 12, 13, 8, 6, 8, 12, 9, 9, 11, 5, 12, 11, 6, 9, 6, 13, 6, 5, 6, 7, 10, 8, 8, 15, 9, 6, 7, 3, 6, 6, 5, 13, 9, 6, 7, 6, 13, 11, 7, 6, 7, 11, 14, 11, 8, 12, 10, 14, 11, 6, 3, 5, 11, 12, 9, 12, 5, 8, 12, 4, 4, 5, 8, 10, 4, 7, 7, 9, 9, 5, 16, 7, 7, 46, 7, 13, 7, 7, 9, 12, 14, 7, 14, 10, 13, 11, 46, 9, 10, 9, 10, 9, 5, 10, 10, 8, 11, 12, 12, 10, 7, 7, 6, 4, 11, 12, 6, 5, 10, 6, 7, 8, 10, 7, 10, 9, 6, 5, 7, 9, 11, 7, 16, 8, 8, 15, 6, 9, 11, 7, 9, 12, 7, 12, 13, 8, 9, 12, 14, 10, 11, 7, 7, 5, 13, 7, 11, 6, 9, 10, 12, 9, 11, 4, 9, 7, 16, 7, 8, 7, 6, 12, 8, 10, 10, 9, 11, 13, 13, 6, 9, 14, 10, 5, 6, 8, 8, 9, 9, 11, 8, 5, 9, 9, 7, 11, 8, 14, 5, 9, 7, 13, 8, 9, 5, 5, 7, 11, 6, 8, 14, 7, 11, 5, 3, 7, 6, 4, 8, 7, 9, 13, 8, 10, 7, 7, 12, 7, 6, 5, 6, 7, 13, 10, 5, 13, 8, 11, 10, 7, 4, 8, 8, 9, 10, 9, 14, 5, 11, 6, 13, 6, 11, 10, 8, 7, 10, 7, 12, 8, 12, 8, 14, 7, 6, 3, 16, 9, 7, 6, 9, 8, 6, 6, 7, 6, 4, 17, 13, 6, 5, 6, 7, 3, 6, 5, 9, 11, 10, 12, 9, 10, 9, 10, 8, 7, 13, 15, 9, 11, 6, 11, 4, 5, 7, 14, 11, 7, 9, 8, 8, 10, 14, 10, 8, 10, 8, 8, 9, 7, 8, 12, 10, 11, 11, 11, 11, 11, 8, 12, 11, 14, 8, 7, 15, 9, 10, 11, 8, 8, 11, 9, 9, 9, 8, 8, 11, 14, 10, 10, 12, 10, 12, 11, 14, 9, 8, 18, 10, 12, 9, 7, 15, 5, 16, 14, 6, 6, 11, 12, 15, 10, 16, 10, 11, 6, 12, 7, 8, 11, 7, 13, 10, 6, 8, 7, 5, 5, 15, 8, 9, 11, 9, 12, 9, 14, 12, 14, 4, 8, 11, 14, 14, 13, 5, 16, 8, 11, 13, 7, 3, 7, 11, 8, 7, 8, 7, 9, 7, 12, 9, 8, 3, 8, 3, 18, 5, 7, 12, 6, 9, 15, 14, 8, 12, 7, 11, 6, 12, 3, 3, 9, 7, 11, 3, 8, 9, 11, 9, 7, 10, 16, 4, 10, 5, 8, 10, 11, 7, 10, 10, 5, 8, 7, 5, 6, 12, 10, 12, 7, 13, 12, 9, 6, 11, 5, 11, 13, 12, 5, 6, 10, 17, 10, 9, 7, 8, 10, 10, 5, 10, 8, 12, 7, 8, 3, 6, 5, 6, 12, 5, 5, 10, 5, 5, 9, 11, 9, 4, 12, 10, 7, 4, 9, 10, 8, 6, 8, 7, 3, 8, 8, 9, 9, 8, 9, 4, 10, 12, 12, 7, 9, 10, 10, 12, 16, 12, 6, 5, 9, 10, 12], \"type\": \"scatter\", \"mode\": \"markers\"}], {\"yaxis\": {\"title\": \"Time Enrolled\"}, \"xaxis\": {\"title\": \"Age of Student\"}, \"title\": \"Age of student vs Time Enrolled\"}, {\"linkText\": \"Export to plot.ly\", \"showLink\": true})});</script>"
      ],
      "text/plain": [
       "<IPython.core.display.HTML object>"
      ]
     },
     "metadata": {},
     "output_type": "display_data"
    },
    {
     "name": "stdout",
     "output_type": "stream",
     "text": [
      "-0.175321118586\n",
      "The age of enrollment definitely seems to have an impact on enrollment times - seems like higher age of enrollment means slightly lower enrollment times - seems like you might want to target people between 12 and 19 and 2 and 3 to enroll for longer periods; also beyond 1 and below 4 you have lower enrollment\n",
      "Logistic regression also seems to be picking this up - negative values for ages 2-12 and beyond 19, postive for btw 12 and 19\n"
     ]
    },
    {
     "data": {
      "text/plain": [
       "2     123.0\n",
       "3     323.5\n",
       "4     300.0\n",
       "5     290.0\n",
       "6     266.0\n",
       "7     249.0\n",
       "8     273.0\n",
       "9     222.0\n",
       "10    217.0\n",
       "11    201.0\n",
       "12    191.0\n",
       "13    163.0\n",
       "14    137.0\n",
       "15    173.0\n",
       "16     64.0\n",
       "17     49.5\n",
       "18    100.5\n",
       "19     91.0\n",
       "26    115.0\n",
       "42     44.0\n",
       "46     90.0\n",
       "Name: time_enrolled, dtype: float64"
      ]
     },
     "execution_count": 277,
     "metadata": {},
     "output_type": "execute_result"
    }
   ],
   "source": [
    "#students['age_2016'] = (((ag_2016 / np.timedelta64(1, 'D')).astype(int))/365).astype(int)\n",
    "#students['age_enroll'] = (((ag_enroll / np.timedelta64(1, 'D')).astype(int))/365).astype(int)\n",
    "#students['age_end'] = (((ag_end / np.timedelta64(1, 'D')).astype(int))/365).astype(int)\n",
    "ae = (((ag_enroll / np.timedelta64(1, 'D')).astype(int))/365).astype(int)\n",
    "#ae\n",
    "\n",
    "trace1 = Scatter(x=ae,y=students['time_enrolled'], mode='markers')\n",
    "data = [trace1]\n",
    "layout = Layout(xaxis=dict(title = 'Age of Student'),\n",
    "                 yaxis=dict(title='Time Enrolled'),\n",
    "                title='Age of student vs Time Enrolled')\n",
    "\n",
    "\n",
    "fig1 = Figure(data=data, layout=layout)\n",
    "iplot(fig1)\n",
    "\n",
    "#iplot([Scatter(x=ae,y=students['time_enrolled'], mode='markers')])\n",
    "print(np.corrcoef(ae,students['time_enrolled'])[0,1])\n",
    "print('The age of enrollment definitely seems to have an impact on enrollment times - seems like higher age of enrollment means slightly lower enrollment times - seems like you might want to target people between 12 and 19 and 2 and 3 to enroll for longer periods; also beyond 1 and below 4 you have lower enrollment')\n",
    "print('Logistic regression also seems to be picking this up - negative values for ages 2-12 and beyond 19, postive for btw 12 and 19')\n",
    "# do some multi-variate statistics!!\n",
    "students['time_enrolled'].groupby(ae).median()"
   ]
  },
  {
   "cell_type": "code",
   "execution_count": 285,
   "metadata": {
    "collapsed": false
   },
   "outputs": [
    {
     "data": {
      "text/html": [
       "<div id=\"639e2937-f1a6-4068-a4f3-ca16d252424d\" style=\"height: 525px; width: 100%;\" class=\"plotly-graph-div\"></div><script type=\"text/javascript\">require([\"plotly\"], function(Plotly) { window.PLOTLYENV=window.PLOTLYENV || {};window.PLOTLYENV.BASE_URL=\"https://plot.ly\";Plotly.newPlot(\"639e2937-f1a6-4068-a4f3-ca16d252424d\", [{\"y\": [90, 241, 85, 83, 149, 47, 57, 205, 225, 234, 469, 38, 23, 445, 82, 59, 54, 206, 17, 40, 240, 522, 15, 98, 161, 426, 23, 392, 263, 264, 424, 53, 41, 598, 139, 212, 77, 241, 160, 464, 12, 18, 41, 187, 210, 229, 272, 207, 68, 53, 453, 271, 133, 119, 107, 416, 348, 76, 229, 232, 97, 113, 142, 167, 12, 13, 140, 147, 101, 351, 327, 86, 85, 84, 609, 109, 98, 31, 552, 148, 148, 51, 27, 74, 41, 193, 77, 537, 433, 878, 334, 732, 338, 74, 557, 47, 88, 36, 259, 74, 93, 196, 197, 49, 1050, 505, 77, 77, 785, 480, 77, 263, 270, 229, 52, 40, 113, 52, 182, 112, 57, 418, 141, 42, 1332, 1188, 175, 1085, 389, 490, 478, 588, 154, 160, 551, 150, 42, 678, 40, 241, 155, 13, 292, 231, 1506, 1343, 451, 224, 288, 65, 85, 50, 401, 91, 395, 287, 159, 389, 363, 651, 150, 112, 150, 116, 115, 806, 663, 299, 678, 231, 663, 679, 244, 425, 1285, 505, 146, 99, 659, 657, 786, 191, 59, 59, 69, 110, 286, 34, 18, 821, 191, 173, 1049, 772, 160, 175, 1059, 203, 357, 14, 77, 224, 37, 14, 131, 134, 210, 32, 53, 209, 334, 288, 558, 267, 14, 34, 173, 1134, 37, 133, 336, 735, 117, 732, 293, 162, 111, 961, 105, 537, 61, 114, 176, 826, 28, 951, 537, 118, 82, 208, 318, 615, 157, 77, 343, 236, 660, 270, 270, 137, 122, 224, 235, 261, 221, 1165, 762, 289, 126, 425, 16, 103, 294, 126, 180, 426, 294, 180, 146, 236, 307, 80, 257, 196, 1340, 699, 210, 340, 116, 233, 1363, 97, 257, 108, 104, 1342, 823, 1442, 14, 457, 440, 616, 1362, 41, 54, 616, 475, 635, 210, 658, 137, 152, 1071, 31, 3, 196, 398, 585, 279, 137, 197, 173, 175, 312, 224, 373, 232, 124, 231, 105, 173, 40, 431, 208, 322, 143, 87, 25, 697, 312, 697, 87, 324, 62, 104, 827, 399, 574, 201, 596, 623, 156, 496, 13, 453, 576, 911, 212, 1267, 392, 136, 392, 709, 102, 227, 210, 196, 806, 105, 1185, 211, 984, 211, 68, 114, 171, 211, 249, 307, 44, 155, 357, 602, 57, 1088, 73, 307, 89, 196, 489, 89, 114, 905, 157, 56, 59, 905, 18, 805, 574, 66, 260, 881, 196, 714, 441, 326, 504, 842, 13, 187, 87, 1763, 1296, 180, 80, 545, 209, 30, 77, 675, 538, 504, 48, 537, 305, 140, 139, 77, 337, 305, 161, 440, 455, 378, 21, 261, 448, 290, 67, 546, 637, 196, 713, 546, 285, 84, 196, 106, 906, 245, 247, 189, 146, 149, 191, 91, 254, 193, 174, 245, 24, 244, 246, 89, 253, 245, 121, 64, 72, 254, 260, 150, 143, 141, 260, 101, 30, 253, 266, 19, 37, 255, 25, 269, 53, 73, 257, 181, 247, 45, 14, 230, 219, 206, 36, 272, 19, 19, 23, 183, 36, 6, 257, 274, 171, 159, 157, 30, 26, 176, 155, 262, 92, 77, 61, 260, 255, 273, 62, 197, 77, 289, 92, 153, 32, 31, 168, 153, 122, 245, 249, 222, 269, 123, 6, 245, 19, 0, 0, 0, 249, 59, 87, 249, 252, 31, 252, 78, 122, 12, 247, 266, 236, 63, 176, 51, 473, 103, 39, 76, 285, 42, 42, 106, 58, 84, 86, 107, 111, 33, 122, 201, 80, 168, 141, 270, 177, 377, 77, 196, 73, 289, 83, 98, 179, 181, 60, 81, 74, 41, 324, 324, 102, 102, 5, 91, 173, 236, 353, 23, 23, 117, 200, 42, 56, 578, 114, 55, 23, 212, 212, 69, 212, 212, 222, 25, 35, 73, 71, 220, 240, 474, 40, 42, 111, 76, 172, 172, 301, 52, 69, 114, 99, 288, 241, 134, 39, 368, 117, 220, 53, 54, 118, 86, 117, 454, 454, 77, 140, 46, 128, 116, 228, 228, 53, 502, 513, 38, 38, 257, 248, 178, 368, 96, 492, 163, 748, 404, 790, 105, 188, 28, 92, 104, 49, 79, 87, 137, 104, 133, 307, 185, 27, 412, 103, 83, 105, 23, 329, 48, 748, 452, 0, 474, 417, 563, 342, 188, 309, 34, 829, 179, 39, 48, 333, 124, 72, 137, 406, 220, 22, 425, 19, 138, 249, 285, 128, 164, 252, 1, 360, 126, 14, 836, 97, 83, 305, 305, 25, 154, 47, 153, 76, 216, 882, 315, 563, 333, 43, 9, 132, 84, 139, 351, 398, 426, 177, 398, 266, 489, 168, 190, 665, 426, 305, 1033, 211, 63, 629, 456, 570, 1144, 426, 304, 46, 265, 55, 230, 279, 48, 90, 104, 88, 350, 69, 214, 21, 400, 753, 66, 45, 140, 55, 188, 174, 135, 265, 19, 87, 142, 110, 111, 184, 110, 358, 50, 50, 81, 204, 267, 267, 134, 122, 107, 23, 273, 212, 9, 7, 172, 172, 13, 242, 50, 241, 297, 261, 293, 292, 167, 27, 35, 29, 83, 128, 238, 38, 46, 57, 273, 216, 240, 316, 43, 261, 730, 157, 28, 406, 381, 301, 144, 129, 175, 169, 93, 84, 275, 371, 197, 112, 328, 177, 49, 58, 406, 500, 91, 616, 106, 106, 157, 57, 195, 485, 97, 112, 169, 45, 485, 45, 266, 263, 107, 211, 539, 539, 132, 24, 98, 281, 69, 96, 7, 16, 328, 350, 30, 305, 178, 625, 283, 169, 339, 318, 45, 45, 515, 535, 357, 75, 613, 56, 413, 397, 86, 7, 558, 603, 698, 52, 188, 699, 322, 158, 473, 913, 552, 1428, 223, 59, 444, 318, 205, 77, 109, 166, 381, 130, 59, 315, 94, 1252, 69, 132, 1449, 1449, 192, 1347, 378, 248, 906, 52, 248, 73, 689, 33, 301, 83, 298, 842, 724, 1245, 545, 87, 814, 258, 75, 815, 7, 141, 426, 1801, 441, 89, 1372, 21, 42, 139, 65, 30, 121, 63, 70, 39, 464, 86, 85, 87, 215, 83, 385, 82, 619, 78, 45, 48, 286, 1155, 319, 1290, 606, 259, 452, 111, 168, 782, 531, 251, 166, 119, 290, 798, 224, 606, 1379, 821, 119, 459, 1670, 31, 331, 598, 181, 346, 542, 293, 157, 14, 231, 462, 612, 150, 1169, 231, 206, 27, 85, 183, 839, 498, 115, 682, 323, 151, 90, 120, 440, 16, 256, 236, 973, 149, 401, 63, 371, 908, 913, 45, 637, 526, 198, 148, 155, 343, 789, 427, 172, 51, 1207, 372, 87, 175, 1025, 760, 759, 329, 592, 196, 126, 271, 1114, 362, 119, 149, 263, 122, 369, 1033, 223, 294, 235, 1113, 1315, 994, 178, 753, 390, 210, 240, 86, 170, 55, 90, 507, 636, 126, 448, 142, 745, 946, 176, 452, 74, 81, 136, 239, 1120, 1347, 383, 119, 84, 110, 134, 325, 268, 84, 326, 14, 226, 247, 205, 921, 711, 221, 53, 23, 28, 28, 35, 37, 35, 17, 149, 25, 24, 25, 119, 57, 115, 212, 101, 84, 137, 133, 70, 137, 193, 178, 140, 116, 187, 184, 233, 589, 176, 270, 11, 796, 108, 249, 215, 130, 33, 149, 798, 796, 1120, 142, 99, 804, 307, 34, 902, 29, 585, 56, 135, 254, 568, 827, 337, 15, 363, 269, 357, -102, 101, 458, 224, 69, 58, 493, 199, 122, 124, 1093, 1385, 121, 40, 781, 1385, 98, 545, 177, 55, 235, 82, 208, 523, 542, 210, 316, 35, 23, 546, 130, 313, 184, 163, 303, 31, 11, 232, 197, 110, 34, 175, 553, 189, 951, 476, 561, 56, 136, 34, 134, 228, 314, 394, 309, 1147, 41, 12, 37, 141, 77, 77, 70, 42, 255, 169, 49, 43, 231, 373, 116, 170, 260, 220, 1338, 66, 159, 76, 191, 7, 377, 98, 156, 83, 156, 154, 421, 141, 1048, 1274, 678, 160, 176, 132, 548, 403, 39, 228, 39, 85, 382, 364, 78, 79, 148, 875, 143, 39, 232, 364, 77, 410, 207, 364, 708, 176, 64, 93, 999, 69, 46, 52, 1006, 43, 41, 650, 732, 171, 81, 55, 336, 175, 251, 173, 663, 364, 15, 343, 44, 2, 988, 239, 218, 447, 80, 267, 36, 1086, 78, 264, 105, 78, 980, 321, 197, 261, 100, 362, 66, 116, 30, 189, 230, 197, 30, 86, 200, 226, 413, 287, 30, 218, 457, 356, 99, 19, 16, 30, 189, 39, 528, 259, 30, 48, 312, 91, 9, 543, 20, 211, 848, 48, 92, 50, 712, 220, 211, 211, 959, 823, 692, 1449, 573, 566, 100, 546, 1267, 580, 1692, 547, 105, 996, 1896, 573, 2081, 243, 1113, 1206, 1973, 574, 1110, 164, 1455, 114, 393, 410, 791, 107, 1497, 663, 679, 1475, 202, 879, 1078, 807, 909, 601, 219, 193, 2624, 748, 138, 244, 725, 1352, 275, 2501, 1536, 1483, 1677, 335, 429, 358, 1325, 162, 146, 303, 775, 174, 51, 1833, 427, 363, 62, 89, 366, 946, 55, 85, 431, 1028, 479, 482, 348, 743, 752, 419, 133, 1402, 535, 752, 37, 1730, 121, 1301, 1553, 2338, 636, 544, 913, 121, 590, 174, 328, 317, 174, 1322, 356, 463, 359, 258, 1333, 477, 1344, 699, 988, 113, 126, 969, 608, 484, 575, 1692, 574, 747, 45, 1269, 192, 1143, 198, 83, 62, 745, 139, 44, 332, 1193, 65, 230, 331, 93, 206, 258, 561, 324, 6, 2266, 1323, 545, 311, 496, 84, 1525, 363, 2313, 521, 530, 561, 240, 417, 1190, 848, 19, 359, 148, 1199, 617, 1454, 897, 601, 601, 1666, 1539, 1013, 267, 377, 267, 734, 288, 345, 288, 469, 91, 819, 464, 398, 758, 592, 1099, 1819, 454, 443, 965, 758, 741, 378, 1212, 500, 818, 388, 131, 1427, 91, 103, 755, 576, 1760, 2077, 2180, 1710, 1476, 568, 456, 2860, 2076, 2024, 808, 980, 227, 865, 429, 521, 392, 949, 1985, 1657, 699, 834, 848, 713, 713, 132, 834, 402, 315, 1213, 107, 197, 671, 1215, 345, 342, 1393, 657, 234, 631, 734, 104, 650, 651, 41, 479, 83, 244, 508, 76, 227, 350, 261, 384, 380, 450, 381, 373, 338, 368, 272, 274, 1605, 148, 388, 1217, 321, 497, 377, 733, 761, 626, 997, 23, 656, 1200, 763, 1873, 66, 2635, 638, 20, 846, 366, 1162, 202, 1122, 1983, 390, 393, 2522, 254, 393, 477, 390, 30, 118, 432, 2006, 457, 2629, 118, 544, 123, 1290, 80, 2222, 624, 1357, 138, 1725, 2263, 314, 380, 486, 1970, 874, 1717, 38, 1611, 120, 2071, 2623, 838, 444, 51, 211, 689, 2207, 1035, 982, 2067, 597, 440, 28, 147, 959, 402, 2695, 28, 314, 503, 1088, 848, 2112, 884, 149, 907, 148, 132, 1356, 233, 1007, 1766, 1133, 363, 1186, 265, 1215, 149, 1818, 941, 142, 395, 631, 77, 552, 265, 628, 772, 1321, 1441, 580, 1374, 370, 720, 2728, 2469, 1542, 631, 88, 1727, 646, 251, 1307, 2627, 1487, 118, 1563, 911, 103, 88, 790, 267, 1642, 1244, 2207, 688, 191, 593, 198, 905, 545, 1209, 114, 712, 1094, 541, 593, 34, 122, 23, 287, 343, 1249, 99, 46, 653, 2772, 338, 1114, 215, 198, 721, 335, 553, 1106, 1726, 315, 412, 973, 40, 979, 37, 226, 311, 117, 323, 1726, 19, 238, 655, 479, 20, 161, 241, 1061, 821, 905, 272, 86, 230, 1716, 193, 373, 935, 450, 40, 299, 105, 1884, 132, 73, 399, 198, 246, 443, 180, 164, 99, 65, 730, 282, 552, 436, 178, 527, 414, 245, 79, 506, 54, 1460, 499, 28, 106, 388, 232, 336, 351, 210, 357, 192, 1636, 317, 568, 479, 1270, 559, 26, 2031, 1516, 450, 35, 726, 137, 531, 833, 1065, 1064, 79, 1270, 137, 179, 1738, 270, 1491, 128, 131, 393, 466, 470, 1491, 132, 516, 71, 177, 542, 347, 122, 791, 116, 311, 2128, 147, 598, 1047, 179, 513, 13, 223, 748, 1883, 114, 272, 512, 171, 111, 348, 308, 63, 896, 114, 48, 349, 268, 105, 207, 51, 168, 77, 5, 51, 217, 211, 201, 837, 257, 85, 298, 764, 532, 124, 1132, 213, 590, 1012, 44, 134, 424, 153, 501, 423, 170, 274, 21, 1623, 1650, 329, 181, 1219, 358, 281, 50, 19, 51, 516, 29, 1631, 657, 215, 312, 353, 261, 1513, 512, 657, 156, 212, 14, 182, 161, 149, 184, 214, 609, 680, 658, 230, 271, 200, 147, 194, 329, 403, 235, 118, 220, 126, 166, 510, 592, 73, 588, 71, 96, 195, 294, 648, 242, 84, 1765, 664, 986, 802, 1473, 546, 1640, 77, 355, 125, 361, 603, 323, 243, 464, 660, 660, 433, 301, 175, 723, 547, 201, 1032, 44, 305, 271, 212, 104, 224, 343, 350, 1205, 177, 320, 40, 63, 459, 108, 183, 688, 490, 300, 140, 1367, 163, 482, 258, 39, 626, 300, 986, 895, 622, 626, 329, 601, 168, 49, 195, 601, 119, 864, 195, 198, 249, 107, 176, 865, 34, 181, 179, 872, 170, 323, 1405, 461, 169, 1201, 798, 1428, 51, 751, 237, 245, 120, 97, 373, 173, 310, 455, 14, 187, 702, 383, 823, 454, 454, 77, 100, 63, 671, 48, 399, 745, 1445, 459, 882, 104, 252, 1393, 405, 184, 350, 574, 574, 81, 525, 889, 808, 284, 142, 1203, 168, 168, 83, 185, 940, 1332, 225, 86, 209, 247, 499, 170, 329, 1133, 243, 443, 139, 54, 688, 133, 437, 746, 334, 139, 334, 235, 334, 15, 77, 90, 143, 148, 733, 111, 61, 228, 1274, 275, 63, 64, 63, 442, 426, 105, 123, 775, 525, 167, 395, 22, 378, 359, 514, 1461, 161, 350, 58, 419, 1260, 241, 350, 861, 1598, 775, 1398, 926, 2090, 285, 161, 332, 180, 1139, 112, 8, 142, 90, 502, 295, 47, 636, 118, 342, 217, 218, 138, 367, 435, 1134, 365, 952, 574, 189, 293, 758, 36, 163, 689, 890, 1090, 296, 34, 327, 560, 67, 2357, 238, 357, 62, 517, 1825, 242, 991, 833, 189, 177, 190, 81, 379, 411, 79, 981, 135, 341, 53, 14, 455, 701, 29, 29, 260, 576, 342, 708, 170, 28, 247, 58, 112, 928, 180, 1388, 112, 2537, 250, 2070, 75, 133, 545, 350, 546, 434, 1269, 625, 175, 213, 370, 44, 1113, 514, 260, 332, 35, 608, 227, 152, 455, 680, 55, 74, 532, 180, 41, 202, 390, 343, 889, 202, 342, 350, 420, 907, 253, 547, 889, 392, 107, 452, 374, 547, 367, 248, 42, 58, 101, 140, 101, 874, 1708, 1047, 403, 716, 1141, 90, 183, 450, 900, 60, 354, 298, 297, 135, 523, 1330, 127, 301, 266, 940, 600, 813, 63, 192, 467, 143, 14, 59, 1271, 379, 239, 189, 1349, 469, 51, 504, 546, 114, 339, 164, 237, 160, 105, 323, 520, 101, 546, 155, 197, 600, 212, 547, 89, 57, 322, 56, 151, 8, 211, 39, 28, 64, 322, 1680, 151, 1721, 306, 1607, 440, 1815, 498, 1881, 98, 291, 970, 889, 2035, 1501, 89, 23, 85, 14, 549, 409, 93, 42, 500, 30, 25, 252, 15, 59, 524, 15, 124, 58, 28, 104, 166, 136, 87, 329, 106, 179, 39, 365, 37, 7, 152, 76, 243, 77, 57, 211, 243, 240, 260, 214, 250, 48, 121, 148, 149, 48, 85, 75, 265, 149, 76, 343, 213, 88, 429, 24, 250, 142, 47, 318, 350, 26, 362, 75, 89, 46, 228, 57, 59, 60, 209, 26, 14, 515, 89, 12, 75, 518, 76, 457, 334, 60, 107, 75, 128, 25, 470, 209, 105, 464, 32, 67, 20, 100, 149, 100, 64, 16, 206, 16, 133, 334, 303, 89, 20, 497, 98, 20, 29, 90, 18, 56, 63, 53, 349, 341, 309, 211, 67, 252, 323, 231, 39, 534, 407, 152, 137, 450, 393, 14, 123, 14, 14, 116, 171, 21, 238, 252, 49, 426, 318, 399, 112, 58, 27, 20, 417, 18, 295, 53, 175, 11, 56, 116, 56, 46, 119, 119, 232, 238, 60, 133, 177, 30, 224, 483, 479, 119, 18, 159, 88, 406, 220, 73, 76, 56, 197, 419, 32, 173, 420, 99, 100, 123, 53, 604, 305, 91, 603, 235, 124, 41, 227, 138, 174, 127, 145, 43, 48, 19, 46, 165, 31, 108, 273, 108, 98, 25, 110, 91, 45, 266, 335, 58, 67, 121, 596, 63, 377, 78, 90, 378, 90, 37, 70, 346, 33, 71, 370, 176, 166, 91, 372, 212, 321, 70, 44, 289, 373, 34, 21, 151, 165, 362, 316, 161, 266, 35, 21, 61, 21, 119, 37, 334, 18, 14, 3, 524, 172], \"x\": [12, 12, 7, 7, 17, 8, 10, 7, 9, 10, 15, 12, 6, 8, 14, 8, 11, 9, 6, 6, 16, 8, 7, 9, 9, 10, 10, 12, 7, 8, 10, 2, 8, 11, 8, 9, 11, 11, 9, 10, 4, 8, 8, 10, 11, 16, 9, 14, 9, 3, 9, 12, 10, 5, 10, 9, 16, 10, 13, 9, 10, 8, 8, 9, 11, 11, 7, 8, 5, 10, 9, 6, 11, 10, 10, 6, 7, 7, 9, 7, 8, 9, 9, 8, 11, 7, 5, 11, 6, 8, 9, 12, 9, 10, 7, 7, 8, 8, 7, 10, 8, 9, 10, 8, 12, 9, 8, 7, 9, 10, 7, 7, 9, 6, 10, 8, 10, 10, 4, 8, 10, 5, 8, 6, 8, 14, 10, 14, 12, 15, 12, 6, 6, 10, 14, 3, 7, 8, 7, 6, 7, 6, 11, 5, 15, 11, 9, 4, 10, 7, 7, 5, 6, 9, 14, 13, 10, 7, 9, 11, 14, 10, 12, 5, 13, 12, 10, 8, 10, 8, 9, 6, 6, 13, 16, 7, 5, 5, 11, 14, 8, 10, 9, 7, 6, 3, 10, 5, 8, 11, 11, 3, 9, 8, 8, 7, 11, 10, 6, 7, 8, 7, 6, 5, 5, 15, 7, 10, 16, 10, 8, 5, 10, 14, 7, 7, 9, 15, 8, 8, 9, 10, 12, 9, 11, 6, 11, 11, 9, 10, 9, 7, 9, 11, 5, 13, 13, 10, 6, 7, 13, 11, 5, 7, 8, 8, 13, 9, 10, 7, 10, 7, 4, 9, 10, 13, 10, 9, 8, 9, 8, 8, 9, 10, 9, 9, 11, 7, 8, 10, 5, 7, 8, 6, 15, 14, 7, 9, 10, 7, 15, 7, 5, 3, 5, 15, 16, 11, 6, 9, 13, 11, 16, 9, 5, 9, 10, 14, 10, 11, 10, 8, 16, 5, 16, 8, 7, 13, 6, 11, 6, 9, 7, 9, 8, 13, 11, 8, 12, 5, 16, 7, 15, 5, 8, 8, 9, 11, 9, 10, 7, 8, 10, 9, 9, 14, 7, 11, 13, 6, 9, 7, 12, 6, 11, 10, 9, 7, 15, 11, 9, 7, 9, 6, 9, 8, 8, 10, 9, 16, 7, 6, 8, 5, 11, 7, 9, 8, 7, 8, 9, 9, 11, 8, 12, 9, 10, 8, 7, 9, 10, 7, 10, 9, 7, 6, 9, 9, 9, 13, 2, 9, 14, 7, 11, 13, 9, 7, 6, 6, 9, 8, 13, 15, 10, 6, 12, 7, 7, 9, 14, 10, 11, 9, 16, 9, 6, 5, 9, 8, 8, 11, 6, 11, 13, 9, 10, 9, 9, 9, 9, 11, 7, 13, 9, 13, 5, 9, 13, 6, 8, 9, 11, 9, 7, 10, 13, 16, 11, 9, 13, 8, 11, 5, 12, 9, 10, 9, 5, 7, 13, 15, 11, 8, 10, 11, 8, 5, 9, 6, 8, 4, 10, 5, 10, 15, 6, 6, 8, 12, 9, 4, 9, 9, 11, 4, 11, 6, 2, 8, 11, 5, 7, 13, 16, 10, 11, 15, 8, 3, 6, 8, 8, 4, 4, 6, 11, 9, 12, 3, 10, 9, 9, 6, 4, 9, 3, 7, 10, 8, 7, 8, 6, 13, 2, 3, 10, 4, 6, 4, 12, 7, 5, 8, 12, 9, 9, 11, 5, 10, 8, 6, 4, 10, 10, 14, 9, 10, 15, 4, 9, 9, 6, 6, 13, 10, 7, 11, 11, 9, 10, 8, 6, 3, 7, 9, 8, 9, 11, 8, 7, 10, 14, 11, 8, 16, 10, 10, 2, 9, 8, 14, 13, 6, 13, 9, 9, 5, 9, 9, 13, 12, 9, 7, 6, 10, 10, 12, 6, 9, 12, 8, 10, 11, 10, 7, 10, 7, 8, 9, 13, 7, 9, 8, 9, 14, 10, 11, 14, 11, 5, 6, 11, 10, 9, 8, 13, 8, 13, 14, 11, 6, 8, 16, 13, 15, 10, 12, 13, 7, 8, 11, 7, 8, 6, 8, 14, 11, 8, 10, 10, 5, 6, 13, 9, 13, 12, 10, 14, 9, 10, 10, 7, 8, 7, 6, 11, 9, 5, 7, 12, 11, 6, 7, 8, 10, 11, 7, 10, 9, 6, 11, 6, 7, 11, 10, 10, 11, 11, 9, 8, 11, 10, 9, 2, 7, 7, 10, 11, 9, 11, 6, 9, 4, 5, 11, 12, 10, 10, 16, 8, 12, 11, 8, 14, 5, 7, 12, 13, 6, 6, 12, 8, 7, 10, 11, 6, 13, 12, 11, 9, 9, 5, 9, 9, 2, 11, 7, 7, 8, 12, 8, 10, 9, 11, 17, 16, 9, 6, 8, 14, 12, 9, 10, 15, 10, 8, 6, 11, 13, 6, 6, 6, 12, 11, 10, 7, 5, 11, 13, 7, 9, 3, 6, 13, 8, 12, 7, 10, 6, 6, 10, 10, 6, 6, 16, 7, 7, 8, 14, 7, 10, 21, 11, 7, 9, 9, 4, 6, 5, 12, 9, 5, 10, 11, 6, 10, 7, 9, 13, 5, 5, 9, 8, 10, 11, 7, 3, 10, 11, 12, 7, 8, 15, 8, 9, 10, 9, 8, 9, 6, 11, 3, 7, 7, 5, 12, 6, 17, 9, 10, 11, 8, 5, 6, 5, 6, 12, 6, 6, 13, 14, 11, 9, 11, 5, 10, 12, 7, 3, 8, 7, 9, 9, 7, 6, 10, 7, 6, 8, 9, 8, 7, 8, 15, 4, 8, 8, 6, 8, 9, 11, 9, 8, 10, 4, 3, 3, 11, 8, 5, 3, 5, 6, 5, 10, 7, 4, 7, 11, 12, 8, 13, 11, 9, 9, 13, 10, 12, 11, 6, 1, 11, 9, 11, 9, 7, 10, 10, 8, 4, 7, 10, 15, 10, 9, 18, 16, 7, 10, 7, 9, 9, 7, 9, 6, 14, 8, 12, 7, 6, 15, 9, 14, 16, 15, 15, 11, 8, 13, 6, 8, 11, 17, 9, 10, 13, 6, 8, 6, 8, 14, 8, 5, 9, 6, 10, 9, 10, 7, 11, 8, 10, 8, 14, 7, 10, 10, 8, 12, 7, 11, 13, 12, 11, 7, 7, 11, 14, 8, 8, 11, 8, 10, 10, 10, 13, 12, 7, 13, 11, 9, 10, 7, 9, 12, 14, 14, 2, 5, 9, 8, 9, 5, 13, 9, 9, 8, 14, 8, 9, 10, 7, 13, 7, 8, 9, 2, 14, 9, 15, 10, 14, 3, 14, 8, 12, 14, 13, 12, 8, 9, 12, 9, 8, 8, 8, 9, 7, 10, 13, 15, 8, 10, 10, 14, 14, 14, 9, 8, 9, 11, 11, 9, 2, 9, 9, 11, 10, 12, 9, 7, 10, 13, 9, 10, 13, 9, 6, 9, 10, 4, 2, 9, 6, 9, 10, 10, 13, 11, 8, 18, 9, 14, 6, 10, 10, 6, 15, 13, 8, 8, 6, 8, 10, 7, 8, 7, 9, 9, 14, 17, 7, 8, 11, 14, 6, 6, 5, 11, 9, 8, 9, 5, 10, 6, 6, 2, 6, 6, 10, 4, 9, 9, 12, 6, 6, 10, 12, 13, 9, 8, 10, 12, 8, 13, 8, 9, 6, 15, 7, 13, 8, 15, 9, 9, 11, 13, 13, 8, 11, 14, 15, 9, 12, 10, 8, 10, 6, 8, 9, 11, 13, 9, 9, 9, 9, 12, 11, 14, 12, 9, 7, 7, 11, 12, 11, 8, 15, 7, 8, 14, 13, 10, 15, 9, 6, 16, 11, 12, 11, 10, 6, 12, 8, 7, 9, 9, 8, 10, 8, 5, 8, 8, 9, 1, 9, 6, 12, 7, 11, 13, 14, 5, 12, 7, 5, 10, 14, 9, 12, 11, 12, 7, 10, 8, 11, 2, 9, 9, 5, 11, 12, 5, 4, 8, 10, 10, 9, 14, 9, 13, 10, 9, 7, 10, 9, 7, 6, 7, 1, 17, 9, 12, 9, 14, 13, 12, 13, 7, 7, 15, 11, 8, 14, 10, 10, 9, 10, 9, 11, 7, 8, 12, 8, 8, 11, 10, 11, 10, 10, 9, 10, 15, 6, 13, 13, 8, 8, 12, 9, 10, 12, 15, 9, 8, 5, 10, 8, 11, 11, 16, 12, 6, 12, 13, 6, 13, 15, 6, 11, 3, 12, 10, 7, 11, 9, 5, 7, 10, 6, 10, 9, 1, 13, 10, 7, 8, 13, 12, 8, 10, 9, 6, 9, 9, 10, 8, 13, 10, 12, 8, 12, 11, 6, 7, 7, 13, 9, 10, 1, 11, 10, 10, 9, 13, 10, 11, 1, 7, 10, 9, 10, 9, 9, 13, 13, 6, 15, 11, 9, 9, 13, 12, 10, 14, 7, 9, 12, 16, 9, 16, 13, 13, 17, 11, 9, 12, 13, 11, 2, 16, 11, 11, 8, 19, 10, 13, 16, 10, 11, 13, 10, 9, 10, 11, 8, 13, 14, 7, 4, 8, 10, 8, 16, 14, 10, 15, 9, 10, 9, 16, 7, 7, 8, 9, 8, 6, 15, 7, 11, 8, 9, 12, 9, 8, 10, 11, 8, 16, 8, 4, 9, 11, 7, 11, 16, 10, 11, 8, 16, 12, 13, 15, 17, 11, 6, 13, 12, 12, 9, 12, 5, 10, 14, 7, 11, 11, 13, 12, 14, 11, 14, 12, 11, 9, 8, 11, 10, 8, 13, 9, 10, 7, 13, 5, 14, 9, 6, 8, 14, 10, 7, 4, 13, 12, 8, 7, 10, 7, 8, 10, 11, 5, 14, 13, 16, 11, 11, 4, 18, 14, 13, 15, 9, 13, 7, 7, 15, 13, 1, 6, 12, 12, 9, 12, 16, 15, 11, 16, 12, 17, 12, 7, 12, 15, 12, 11, 7, 13, 8, 10, 9, 11, 8, 9, 13, 16, 11, 7, 9, 14, 13, 9, 7, 6, 11, 15, 5, 13, 6, 8, 10, 15, 15, 20, 21, 15, 12, 10, 13, 16, 17, 14, 12, 13, 11, 7, 6, 13, 15, 17, 14, 9, 10, 9, 9, 8, 13, 9, 11, 18, 10, 17, 7, 7, 12, 16, 11, 9, 15, 11, 11, 12, 12, 6, 13, 6, 20, 10, 2, 10, 15, 11, 13, 12, 13, 8, 12, 8, 12, 9, 8, 11, 11, 8, 12, 4, 5, 15, 12, 15, 6, 11, 13, 14, 15, 15, 13, 16, 9, 16, 9, 16, 20, 14, 18, 13, 14, 8, 11, 14, 12, 15, 12, 10, 10, 8, 9, 8, 9, 10, 15, 7, 15, 7, 15, 8, 10, 10, 15, 11, 11, 10, 19, 19, 14, 13, 10, 14, 13, 15, 6, 13, 8, 16, 21, 16, 10, 1, 9, 10, 15, 17, 11, 15, 13, 7, 9, 9, 11, 14, 21, 3, 6, 6, 16, 9, 15, 17, 9, 11, 13, 15, 14, 9, 10, 15, 14, 12, 16, 9, 14, 9, 14, 14, 9, 11, 18, 6, 11, 10, 19, 11, 18, 15, 13, 15, 17, 9, 18, 16, 16, 14, 11, 17, 16, 5, 16, 16, 14, 9, 10, 11, 9, 10, 6, 7, 9, 14, 13, 14, 8, 10, 7, 15, 10, 16, 8, 13, 15, 9, 15, 14, 9, 8, 9, 10, 16, 9, 8, 9, 14, 8, 10, 10, 9, 12, 7, 9, 14, 12, 12, 13, 10, 6, 7, 9, 10, 11, 10, 9, 11, 8, 12, 8, 9, 8, 2, 7, 8, 12, 13, 9, 9, 13, 12, 7, 6, 10, 9, 8, 9, 10, 14, 9, 2, 9, 8, 10, 9, 10, 9, 9, 11, 11, 7, 14, 10, 10, 10, 10, 8, 7, 9, 5, 11, 11, 6, 10, 11, 7, 10, 8, 8, 4, 8, 13, 16, 6, 15, 13, 6, 7, 13, 12, 9, 4, 16, 5, 13, 12, 9, 12, 9, 13, 9, 10, 13, 5, 11, 9, 12, 6, 10, 9, 10, 11, 10, 2, 11, 5, 10, 5, 10, 6, 10, 10, 10, 9, 11, 9, 14, 6, 7, 9, 14, 8, 9, 11, 11, 7, 8, 7, 4, 11, 9, 2, 6, 9, 7, 8, 8, 5, 6, 7, 8, 6, 11, 6, 10, 11, 9, 11, 15, 11, 10, 13, 12, 11, 12, 7, 7, 8, 8, 8, 12, 7, 6, 7, 16, 15, 7, 11, 13, 9, 9, 12, 9, 10, 14, 5, 8, 8, 9, 8, 11, 11, 7, 9, 5, 13, 9, 6, 8, 7, 8, 13, 8, 9, 9, 7, 8, 10, 10, 9, 8, 7, 11, 5, 7, 9, 7, 10, 11, 11, 9, 12, 9, 11, 8, 10, 11, 13, 6, 15, 10, 10, 14, 11, 10, 10, 5, 10, 7, 13, 7, 10, 10, 14, 11, 10, 9, 11, 7, 14, 10, 8, 11, 6, 10, 13, 8, 5, 7, 9, 9, 16, 15, 9, 5, 5, 10, 8, 5, 9, 8, 10, 14, 13, 10, 8, 9, 9, 12, 8, 14, 14, 13, 9, 9, 11, 10, 11, 7, 9, 8, 8, 8, 8, 9, 8, 8, 10, 14, 10, 7, 15, 12, 8, 14, 10, 11, 13, 9, 10, 7, 10, 8, 11, 11, 8, 7, 7, 11, 10, 6, 5, 11, 6, 10, 11, 12, 6, 9, 8, 10, 9, 13, 13, 17, 8, 14, 13, 9, 10, 11, 7, 10, 12, 10, 9, 8, 8, 6, 17, 10, 16, 12, 10, 10, 11, 14, 10, 8, 7, 8, 9, 11, 6, 10, 15, 9, 10, 7, 11, 11, 3, 8, 10, 9, 7, 8, 9, 11, 4, 7, 3, 7, 8, 8, 9, 6, 5, 11, 8, 7, 6, 7, 7, 9, 9, 13, 15, 10, 8, 10, 8, 10, 8, 5, 10, 10, 10, 6, 9, 8, 9, 10, 8, 11, 8, 13, 12, 11, 9, 8, 11, 9, 9, 8, 6, 8, 6, 10, 11, 7, 8, 6, 10, 11, 6, 7, 10, 11, 13, 15, 11, 15, 10, 11, 12, 4, 9, 10, 11, 15, 8, 7, 9, 8, 6, 15, 5, 12, 10, 8, 13, 13, 11, 10, 9, 9, 9, 9, 9, 8, 3, 10, 9, 10, 5, 7, 10, 10, 16, 5, 9, 12, 8, 11, 10, 6, 18, 11, 7, 12, 8, 16, 9, 14, 8, 13, 4, 9, 8, 10, 9, 9, 13, 12, 9, 13, 6, 7, 11, 11, 7, 10, 7, 9, 10, 7, 10, 15, 7, 6, 11, 9, 5, 8, 17, 11, 7, 7, 10, 8, 10, 11, 9, 9, 8, 11, 8, 7, 10, 10, 14, 6, 7, 7, 10, 8, 7, 10, 11, 12, 12, 9, 14, 11, 8, 15, 9, 1, 7, 8, 7, 9, 8, 11, 10, 10, 8, 11, 9, 13, 5, 8, 6, 6, 6, 8, 16, 5, 11, 10, 17, 9, 5, 7, 11, 8, 13, 11, 9, 11, 5, 11, 9, 10, 10, 11, 11, 11, 7, 12, 5, 8, 10, 8, 7, 9, 7, 5, 1, 11, 11, 14, 5, 14, 8, 14, 7, 14, 9, 13, 10, 12, 10, 9, 14, 13, 2, 7, 8, 5, 14, 10, 14, 6, 12, 7, 10, 8, 5, 10, 12, 6, 11, 3, 5, 3, 8, 7, 14, 11, 7, 6, 5, 10, 10, 7, 11, 7, 12, 7, 6, 7, 9, 8, 10, 12, 13, 8, 11, 11, 13, 6, 10, 9, 15, 8, 7, 10, 6, 11, 13, 6, 9, 10, 7, 9, 10, 8, 10, 8, 13, 6, 8, 10, 11, 8, 10, 12, 6, 12, 17, 11, 11, 12, 7, 18, 7, 10, 12, 5, 6, 8, 16, 12, 7, 17, 7, 7, 5, 9, 7, 8, 11, 7, 18, 7, 7, 10, 8, 5, 2, 11, 11, 7, 9, 6, 9, 11, 9, 14, 13, 5, 12, 13, 14, 11, 16, 7, 14, 9, 10, 10, 8, 5, 8, 13, 7, 6, 10, 7, 7, 5, 10, 9, 6, 5, 8, 4, 14, 7, 9, 8, 8, 5, 21, 8, 8, 9, 8, 10, 7, 13, 2, 2, 8, 8, 8, 5, 8, 6, 9, 11, 9, 10, 8, 5, 9, 6, 10, 8, 8, 8, 10, 13, 4, 8, 11, 6, 6, 11, 8, 14, 8, 8, 15, 10, 6, 7, 6, 9, 14, 9, 6, 6, 8, 10, 9, 8, 5, 6, 11, 14, 4, 9, 8, 10, 6, 8, 4, 7, 5, 6, 12, 5, 7, 9, 5, 7, 10, 9, 9, 6, 9, 10, 9, 5, 7, 7, 8, 7, 9, 7, 4, 9, 10, 7, 10, 8, 10, 6, 10, 12, 11, 6, 10, 9, 13, 11, 10, 14, 5, 4, 7, 13, 14], \"type\": \"scatter\", \"mode\": \"markers\"}], {\"yaxis\": {\"title\": \"Time Enrolled\"}, \"xaxis\": {\"title\": \"Grade Level\"}, \"title\": \"Grade Level vs Time Enrolled\"}, {\"linkText\": \"Export to plot.ly\", \"showLink\": true})});</script>"
      ],
      "text/plain": [
       "<IPython.core.display.HTML object>"
      ]
     },
     "metadata": {},
     "output_type": "display_data"
    },
    {
     "name": "stdout",
     "output_type": "stream",
     "text": [
      "0.512956988793\n",
      "Definitely grade level has a big impact on time of enrollment - higher level enrolled for longer time as shown by correlation cefficient, and data. ALso LR grades 19 and 16 have high impact but why is grade 3 showing up as high impact?\n"
     ]
    },
    {
     "data": {
      "text/plain": [
       "grade_level\n",
       "1       69.300000\n",
       "2      102.304348\n",
       "3       82.080000\n",
       "4      125.425000\n",
       "5      146.726496\n",
       "6      177.319797\n",
       "7      198.837638\n",
       "8      238.309309\n",
       "9      298.640704\n",
       "10     344.505618\n",
       "11     452.731884\n",
       "12     493.546667\n",
       "13     672.329268\n",
       "14     759.294118\n",
       "15     904.627907\n",
       "16    1055.612903\n",
       "17     898.409091\n",
       "18     978.000000\n",
       "19    1528.250000\n",
       "20     918.666667\n",
       "21    1585.400000\n",
       "Name: time_enrolled, dtype: float64"
      ]
     },
     "execution_count": 285,
     "metadata": {},
     "output_type": "execute_result"
    }
   ],
   "source": [
    "trace1 = Scatter(x=grlv,y=students['time_enrolled'], mode='markers')\n",
    "data = [trace1]\n",
    "layout = Layout(xaxis=dict(title = 'Grade Level'),\n",
    "                 yaxis=dict(title='Time Enrolled'),\n",
    "                title='Grade Level vs Time Enrolled')\n",
    "\n",
    "\n",
    "fig1 = Figure(data=data, layout=layout)\n",
    "iplot(fig1)\n",
    "\n",
    "\n",
    "print(np.corrcoef(grlv,students['time_enrolled'])[0,1])\n",
    "print('Definitely grade level has a big impact on time of enrollment - higher level enrolled for longer time as shown by correlation cefficient, and data. ALso LR grades 19 and 16 have high impact but why is grade 3 showing up as high impact?')\n",
    "students['time_enrolled'].groupby(grlv).mean()"
   ]
  },
  {
   "cell_type": "code",
   "execution_count": 265,
   "metadata": {
    "collapsed": false
   },
   "outputs": [],
   "source": [
    "\n",
    "#pd.get_dummies(students['city_camp'])"
   ]
  },
  {
   "cell_type": "code",
   "execution_count": 144,
   "metadata": {
    "collapsed": false
   },
   "outputs": [
    {
     "name": "stdout",
     "output_type": "stream",
     "text": [
      "Accuracy of model on test set is 81.308411215 %\n",
      "[[206  58]\n",
      " [ 42 229]]\n",
      "Predicting everything as falling as long term will give accuracy of 49.3457943925\n",
      "[ 0.68002403 -0.82071851  0.27077678  0.62284953  0.66152896 -0.96013697\n",
      "  1.00692409  0.05497882 -1.41806359  0.22451581  6.38688541  0.14364624\n",
      " -0.89719126 -0.96185946  0.5212075  -1.56938937 -0.99966585 -0.19590317\n",
      "  0.11803774 -0.16960746]\n"
     ]
    }
   ],
   "source": [
    "#perm_dict = {}\n",
    "#perm_dict['city_camp'] = dict(zip( np.unique(x['city_camp']) ,range(len(np.unique(x['city_camp'])))))\n",
    "#perm_dict['gender'] = dict(zip( np.unique(x['gender']) ,range(len(np.unique(x['gender'])))))\n",
    "#perm_dict['days_open'] = dict(zip( np.unique(x['days_open']) ,range(len(np.unique(x['days_open'])))))\n",
    "#perm_dict['grade_level'] = dict(zip( np.unique(x['grade_level']) ,range(len(np.unique(x['grade_level'])))))\n",
    "#perm_dict['age_enroll'] = dict(zip( np.unique(x['age_enroll']) ,range(len(np.unique(x['age_enroll'])))))\n",
    "\n",
    "#names = []\n",
    "#names = perm_dict['city_camp'].keys()\n",
    "#names.extend(perm_dict['gender'].keys())\n",
    "#names.extend(perm_dict['days_open'].keys())\n",
    "#names.extend(perm_dict['grade_level'].keys())\n",
    "#names.extend(perm_dict['age_enroll'].keys())\n",
    "\n",
    "#logreg = linear_model.LogisticRegression()\n",
    "X_train,X_test,y_train,y_test = train_test_split(x,y,test_size=0.2)\n",
    "L = logreg.fit(X_train,y_train)\n",
    "y_pred = logreg.predict(X_test)\n",
    "\n",
    "print 'Accuracy of model on test set is ' + str(metrics.accuracy_score(y_test,y_pred)*100) +' %'\n",
    "#print('F1 scores are long-term/short-term' + str(f1_score(y_test, y_pred, average=None)))\n",
    "#print('Weighted F1 score is ' + str(f1_score(y_test, y_pred, average='weighted')))\n",
    "#print('Precision scores are lt-st' + str(precision_score(y_test, y_pred, average=None)))\n",
    "#print('Weighted Precision score is ' + str(precision_score(y_test, y_pred, average='weighted')))\n",
    "#print('Recall scores are lt-st' + str(recall_score(y_test, y_pred, average=None)))\n",
    "#print('Weighted Recall score is ' + str(recall_score(y_test, y_pred, average='weighted')))\n",
    "print metrics.confusion_matrix(y_test, y_pred)\n",
    "print (\"Predicting everything as falling as long term will give accuracy of \"+ str((len([x for x in y_test if x == 0])/float(len(y_test)))*100))\n",
    "\n",
    "fimplr = logreg.coef_\n",
    "print(fimplr.ravel())\n",
    "#print(names)\n"
   ]
  },
  {
   "cell_type": "code",
   "execution_count": 248,
   "metadata": {
    "collapsed": false
   },
   "outputs": [],
   "source": [
    "# LOGISTIC REGRESSION\n",
    "\n",
    "from sklearn.preprocessing import OneHotEncoder\n",
    "from sklearn.metrics import accuracy_score, f1_score, precision_score, recall_score, classification_report, confusion_matrix\n",
    "from sklearn import linear_model, datasets, metrics\n",
    "from sklearn.cross_validation import train_test_split\n",
    "\n",
    "students['grade_level'] = 'g' + students['grade_level'].astype(str)\n",
    "students['age_enroll'] = 'a' + students['age_enroll'].astype(str)\n",
    "\n",
    "\n",
    "#students['grade_level'] = students['grade_level'] - 23\n",
    "#students['age'] = students['age'] + 50\n",
    "\n",
    "feature_cols = ['city_camp', 'gender', 'days_open', 'grade_level', 'age_enroll']\n",
    "x = students[feature_cols].reset_index()[feature_cols]\n",
    "y = students['short_term'].reset_index()['short_term']"
   ]
  },
  {
   "cell_type": "code",
   "execution_count": 249,
   "metadata": {
    "collapsed": false
   },
   "outputs": [
    {
     "data": {
      "text/plain": [
       "['San Clemente',\n",
       " 'San Jose',\n",
       " 'Victorville',\n",
       " 'Santa Clara',\n",
       " 'Mission Viejo',\n",
       " 'Fresno',\n",
       " 'Concord',\n",
       " 'Fairfield',\n",
       " 'Los Alamitos',\n",
       " 'Whittier',\n",
       " 'San Francisco',\n",
       " 'San Rafael',\n",
       " 'Windsor',\n",
       " 'Torrance',\n",
       " 'Stockton',\n",
       " 'M',\n",
       " 'F',\n",
       " 2,\n",
       " 3,\n",
       " 'gg11',\n",
       " 'gg10',\n",
       " 'gg13',\n",
       " 'gg12',\n",
       " 'gg1',\n",
       " 'gg14',\n",
       " 'gg17',\n",
       " 'gg16',\n",
       " 'gg19',\n",
       " 'gg18',\n",
       " 'gg5',\n",
       " 'gg2',\n",
       " 'gg9',\n",
       " 'gg7',\n",
       " 'gg8',\n",
       " 'gg6',\n",
       " 'gg21',\n",
       " 'gg20',\n",
       " 'gg15',\n",
       " 'gg4',\n",
       " 'gg3',\n",
       " 'aa42',\n",
       " 'aa5',\n",
       " 'aa6',\n",
       " 'aa46',\n",
       " 'aa3',\n",
       " 'aa4',\n",
       " 'aa2',\n",
       " 'aa7',\n",
       " 'aa26',\n",
       " 'aa11',\n",
       " 'aa10',\n",
       " 'aa13',\n",
       " 'aa12',\n",
       " 'aa15',\n",
       " 'aa14',\n",
       " 'aa17',\n",
       " 'aa16',\n",
       " 'aa19',\n",
       " 'aa18',\n",
       " 'aa9',\n",
       " 'aa8']"
      ]
     },
     "execution_count": 249,
     "metadata": {},
     "output_type": "execute_result"
    }
   ],
   "source": [
    "perm_dict = {}\n",
    "perm_dict['city_camp'] = dict(zip( np.unique(x['city_camp']) ,range(len(np.unique(x['city_camp'])))))\n",
    "perm_dict['gender'] = dict(zip( np.unique(x['gender']) ,range(len(np.unique(x['gender'])))))\n",
    "perm_dict['days_open'] = dict(zip( np.unique(x['days_open']) ,range(len(np.unique(x['days_open'])))))\n",
    "perm_dict['grade_level'] = dict(zip( np.unique(x['grade_level']) ,range(len(np.unique(x['grade_level'])))))\n",
    "perm_dict['age_enroll'] = dict(zip( np.unique(x['age_enroll']) ,range(len(np.unique(x['age_enroll'])))))\n",
    "\n",
    "names = []\n",
    "names = perm_dict['city_camp'].keys()\n",
    "names.extend(perm_dict['gender'].keys())\n",
    "names.extend(perm_dict['days_open'].keys())\n",
    "names.extend(perm_dict['grade_level'].keys())\n",
    "names.extend(perm_dict['age_enroll'].keys())\n",
    "\n",
    "x = x.replace(to_replace = perm_dict)\n",
    "enc = OneHotEncoder()\n",
    "x2= enc.fit_transform(x)\n",
    "xnew = x2.todense()\n",
    "xnew\n",
    "names"
   ]
  },
  {
   "cell_type": "code",
   "execution_count": 245,
   "metadata": {
    "collapsed": false
   },
   "outputs": [
    {
     "name": "stdout",
     "output_type": "stream",
     "text": [
      "Accuracy of model on test set is 76.6355140187 %\n",
      "F1 scores are long-term/short-term[ 0.7637051  0.7689464]\n",
      "Weighted F1 score is 0.766340444977\n",
      "Precision scores are lt-st[ 0.76806084  0.76470588]\n",
      "Weighted Precision score is 0.766373953014\n",
      "Recall scores are lt-st[ 0.7593985  0.7732342]\n",
      "Weighted Recall score is 0.766355140187\n",
      "[[202  64]\n",
      " [ 61 208]]\n",
      "Predicting everything as falling as long term will give accuracy of 49.7196261682\n",
      "[ 0.0162543   0.56340544  0.13292464 -0.71407172  0.23363453  0.54921249\n",
      "  0.18923651 -0.21253443 -0.25229858  0.45412122 -1.20022743 -0.20658825\n",
      "  0.19183157  0.20211021  0.21173826  0.04815862  0.11059014  0.15320625\n",
      "  0.00554252  0.37864796 -0.12665303 -0.65743237 -0.77547528 -1.09381524\n",
      " -1.01294882 -0.97173963 -1.05260729 -0.48174335 -0.26474687 -0.10456682\n",
      "  0.80041191  0.         -0.09644692  0.88777021  0.67295925  1.3048633\n",
      "  1.05761196  1.09713887  0.56304924  0.03447169  0.36642116  0.5092812\n",
      "  0.43688148  0.92439993  0.75005128  0.22600845  0.23779577  0.23871408\n",
      "  0.04683581  0.04895909  0.01522698  0.07431141 -0.64857477 -0.83915483\n",
      "  0.05508322  0.05918104 -0.8714158  -0.6277102  -0.40844516 -0.42365257\n",
      " -0.01144881]\n",
      "['San Clemente', 'San Jose', 'Victorville', 'Santa Clara', 'Mission Viejo', 'Fresno', 'Concord', 'Fairfield', 'Los Alamitos', 'Whittier', 'San Francisco', 'San Rafael', 'Windsor', 'Torrance', 'Stockton', 'M', 'F', 2, 3, 'g3', 'g6', 'g5', 'g4', 'g20', 'g2', 'g1', 'g21', 'g7', 'g9', 'g8', 'g19', 'g18', 'g17', 'g16', 'g15', 'g14', 'g13', 'g12', 'g11', 'g10', 'a15', 'a14', 'a17', 'a16', 'a11', 'a10', 'a13', 'a12', 'a19', 'a18', 'a46', 'a9', 'a26', 'a2', 'a42', 'a4', 'a3', 'a6', 'a7', 'a5', 'a8']\n"
     ]
    },
    {
     "data": {
      "text/html": [
       "<div id=\"96ad4a75-10da-4b14-aa98-537d29e3be8d\" style=\"height: 525px; width: 100%;\" class=\"plotly-graph-div\"></div><script type=\"text/javascript\">require([\"plotly\"], function(Plotly) { window.PLOTLYENV=window.PLOTLYENV || {};window.PLOTLYENV.BASE_URL=\"https://plot.ly\";Plotly.newPlot(\"96ad4a75-10da-4b14-aa98-537d29e3be8d\", [{\"y\": [0.016254304374797322, 0.5634054400837426, 0.13292463511682243, -0.7140717197141684, 0.23363452897419798, 0.5492124939042776, 0.18923650985179688, -0.21253442721009463, -0.25229857546577117, 0.4541212158484736, -1.2002274258259453, -0.2065882479000294, 0.19183156784334757, 0.20211020714613734, 0.21173825595297763, 0.04815862235464173, 0.11059014062589471, 0.15320624543312772, 0.005542517547408447, 0.3786479594025556, -0.1266530319615063, -0.6574323684597578, -0.7754752798902983, -1.0938152361441429, -1.0129488239399256, -0.9717396298437964, -1.0526072876454127, -0.4817433500247465, -0.2647468684902413, -0.10456681623537677, 0.8004119066970824, 0.0, -0.09644692126963562, 0.8877702120948378, 0.6729592486286669, 1.3048632963503288, 1.0576119580961287, 1.0971388712290535, 0.5630492387832473, 0.0344716856034967, 0.36642115577709716, 0.5092811960693596, 0.4368814834173801, 0.924399929791344, 0.750051276372629, 0.22600844849501162, 0.2377957722273671, 0.23871408240955166, 0.046835805664079, 0.04895909278032606, 0.015226978941774758, 0.07431141030448607, -0.6485747713609904, -0.8391548331825553, 0.05508322265885338, 0.05918103613375011, -0.8714157955269044, -0.6277101955876921, -0.4084451619585561, -0.42365256541230967, -0.011448805033448207], \"x\": [\"San Clemente\", \"San Jose\", \"Victorville\", \"Santa Clara\", \"Mission Viejo\", \"Fresno\", \"Concord\", \"Fairfield\", \"Los Alamitos\", \"Whittier\", \"San Francisco\", \"San Rafael\", \"Windsor\", \"Torrance\", \"Stockton\", \"M\", \"F\", 2, 3, \"g3\", \"g6\", \"g5\", \"g4\", \"g20\", \"g2\", \"g1\", \"g21\", \"g7\", \"g9\", \"g8\", \"g19\", \"g18\", \"g17\", \"g16\", \"g15\", \"g14\", \"g13\", \"g12\", \"g11\", \"g10\", \"a15\", \"a14\", \"a17\", \"a16\", \"a11\", \"a10\", \"a13\", \"a12\", \"a19\", \"a18\", \"a46\", \"a9\", \"a26\", \"a2\", \"a42\", \"a4\", \"a3\", \"a6\", \"a7\", \"a5\", \"a8\"], \"type\": \"bar\"}], {\"yaxis\": {\"title\": \"Coefficients\"}, \"xaxis\": {\"title\": \"Features\"}, \"title\": \"Feature Coefficients\"}, {\"linkText\": \"Export to plot.ly\", \"showLink\": true})});</script>"
      ],
      "text/plain": [
       "<IPython.core.display.HTML object>"
      ]
     },
     "metadata": {},
     "output_type": "display_data"
    }
   ],
   "source": [
    "#logreg = linear_model.LogisticRegression()\n",
    "logreg = LogisticRegression(penalty = \"l2\", C=0.1, class_weight = 'balanced', tol = 0.0001)\n",
    "X_train,X_test,y_train,y_test = train_test_split(xnew,y,test_size=0.2)\n",
    "L = logreg.fit(X_train,y_train)\n",
    "y_pred = logreg.predict(X_test)\n",
    "\n",
    "print 'Accuracy of model on test set is ' + str(metrics.accuracy_score(y_test,y_pred)*100) +' %'\n",
    "print('F1 scores are long-term/short-term' + str(f1_score(y_test, y_pred, average=None)))\n",
    "print('Weighted F1 score is ' + str(f1_score(y_test, y_pred, average='weighted')))\n",
    "print('Precision scores are lt-st' + str(precision_score(y_test, y_pred, average=None)))\n",
    "print('Weighted Precision score is ' + str(precision_score(y_test, y_pred, average='weighted')))\n",
    "print('Recall scores are lt-st' + str(recall_score(y_test, y_pred, average=None)))\n",
    "print('Weighted Recall score is ' + str(recall_score(y_test, y_pred, average='weighted')))\n",
    "print metrics.confusion_matrix(y_test, y_pred)\n",
    "print (\"Predicting everything as falling as long term will give accuracy of \"+ str((len([x for x in y_test if x == 0])/float(len(y_test)))*100))\n",
    "\n",
    "fimplr = logreg.coef_\n",
    "print(fimplr.ravel())\n",
    "print(names)\n",
    "\n",
    "data = [Bar(x=names,y=fimplr.ravel())]\n",
    "\n",
    "layout = Layout(xaxis=dict(title = 'Features'),\n",
    "                 yaxis=dict(title='Coefficients'),\n",
    "                title='Feature Coefficients')\n",
    "\n",
    "\n",
    "fig1 = Figure(data=data, layout=layout)\n",
    "iplot(fig1)\n",
    "\n",
    "#iplot(data, filename='basic-bar')"
   ]
  },
  {
   "cell_type": "code",
   "execution_count": 17,
   "metadata": {
    "collapsed": false,
    "scrolled": false
   },
   "outputs": [
    {
     "name": "stdout",
     "output_type": "stream",
     "text": [
      "Accuracy of model on test set is 81.1214953271 %\n",
      "F1 scores are long-term/short-term[ 0.81399632  0.80834915]\n",
      "Weighted F1 score is 0.811251897378\n",
      "Precision scores are lt-st[ 0.82462687  0.79775281]\n",
      "Weighted Precision score is 0.811566576443\n",
      "Recall scores are lt-st[ 0.80363636  0.81923077]\n",
      "Weighted Recall score is 0.811214953271\n",
      "[[221  54]\n",
      " [ 47 213]]\n",
      "Predicting everything as falling as long term will give accuracy of 51.4018691589\n",
      "[ -1.21238633e-01   8.60788393e-01   4.25369642e-01  -1.07540539e+00\n",
      "   1.84259857e-01   1.65626411e+00   2.44895644e-01  -2.67976240e-01\n",
      "  -4.10670729e-01   8.94530950e-01  -1.35261022e+00  -6.17555704e-01\n",
      "   5.67107724e-03   1.00247908e-01  -9.48739469e-02   1.61801946e-01\n",
      "   2.69894767e-01   3.37051365e-01   9.46453480e-02   3.39447249e+00\n",
      "  -6.79088413e-01  -1.31123929e+00  -1.86549379e+00  -2.23441837e+00\n",
      "  -2.26612831e+00  -2.77838139e+00  -2.90957223e+00  -2.41377300e+00\n",
      "  -1.99432117e+00  -9.92351451e-01   3.41633619e+00  -8.25551704e-01\n",
      "  -7.96990898e-01   3.67352047e+00   2.80102705e+00   3.11187628e+00\n",
      "   2.25557766e+00   1.92810665e+00   9.19606203e-01  -1.51627149e-03\n",
      "   5.59967482e-01   8.98559212e-01   1.11341888e+00   1.68275871e+00\n",
      "   2.01790845e+00   1.25521074e+00   1.49902453e+00   1.25530063e+00\n",
      "   1.10040824e+00   0.00000000e+00  -1.78571871e-01   7.65991227e-01\n",
      "  -3.14778383e+00  -3.21103301e+00   9.22599508e-01   5.29888054e-01\n",
      "  -2.61346430e+00  -1.79973736e+00  -1.30712095e+00  -7.50943611e-01\n",
      "  -1.60684003e-01]\n",
      "['San Clemente', 'San Jose', 'Victorville', 'Santa Clara', 'Mission Viejo', 'Fresno', 'Concord', 'Fairfield', 'Los Alamitos', 'Whittier', 'San Francisco', 'San Rafael', 'Windsor', 'Torrance', 'Stockton', 'M', 'F', 2, 3, 'g3', 'g6', 'g5', 'g4', 'g20', 'g2', 'g1', 'g21', 'g7', 'g9', 'g8', 'g19', 'g18', 'g17', 'g16', 'g15', 'g14', 'g13', 'g12', 'g11', 'g10', 'a15', 'a14', 'a17', 'a16', 'a11', 'a10', 'a13', 'a12', 'a19', 'a18', 'a46', 'a9', 'a26', 'a2', 'a42', 'a4', 'a3', 'a6', 'a7', 'a5', 'a8']\n"
     ]
    },
    {
     "data": {
      "text/html": [
       "<div id=\"84acd4a6-10c0-4e1e-8dec-c97e62b736f7\" style=\"height: 525px; width: 100%;\" class=\"plotly-graph-div\"></div><script type=\"text/javascript\">require([\"plotly\"], function(Plotly) { window.PLOTLYENV=window.PLOTLYENV || {};window.PLOTLYENV.BASE_URL=\"https://plot.ly\";Plotly.newPlot(\"84acd4a6-10c0-4e1e-8dec-c97e62b736f7\", [{\"y\": [-0.12123863290294021, 0.860788393384656, 0.4253696416107789, -1.0754053875952425, 0.18425985661451702, 1.6562641072385007, 0.24489564361661825, -0.26797624033328094, -0.41067072865800675, 0.8945309499421142, -1.3526102243141225, -0.6175557041090473, 0.005671077241881261, 0.10024790838836614, -0.09487394685407374, 0.16180194646796467, 0.2698947668026724, 0.3370513652228823, 0.09464534804788402, 3.394472491259683, -0.6790884132562155, -1.3112392862822573, -1.8654937870286936, -2.2344183665722603, -2.2661283083171457, -2.7783813931308075, -2.9095722316024393, -2.4137730022787327, -1.9943211739300297, -0.9923514509326529, 3.416336191131857, -0.8255517039924136, -0.796990897653971, 3.6735204729686064, 2.8010270484192814, 3.1118762841844303, 2.255577659572394, 1.9281066494508223, 0.9196062027496128, -0.001516271488416461, 0.5599674817164585, 0.8985592122325241, 1.113418876148601, 1.6827587062881306, 2.01790844528518, 1.255210743583785, 1.4990245299442364, 1.255300633171523, 1.1004082395366925, 0.0, -0.17857187102979827, 0.7659912267121124, -3.1477838332846586, -3.211033008312792, 0.9225995076617215, 0.5298880541571741, -2.6134643000488538, -1.7997373642690262, -1.3071209517679354, -0.7509436114236065, -0.16068400303077865], \"x\": [\"San Clemente\", \"San Jose\", \"Victorville\", \"Santa Clara\", \"Mission Viejo\", \"Fresno\", \"Concord\", \"Fairfield\", \"Los Alamitos\", \"Whittier\", \"San Francisco\", \"San Rafael\", \"Windsor\", \"Torrance\", \"Stockton\", \"M\", \"F\", 2, 3, \"g3\", \"g6\", \"g5\", \"g4\", \"g20\", \"g2\", \"g1\", \"g21\", \"g7\", \"g9\", \"g8\", \"g19\", \"g18\", \"g17\", \"g16\", \"g15\", \"g14\", \"g13\", \"g12\", \"g11\", \"g10\", \"a15\", \"a14\", \"a17\", \"a16\", \"a11\", \"a10\", \"a13\", \"a12\", \"a19\", \"a18\", \"a46\", \"a9\", \"a26\", \"a2\", \"a42\", \"a4\", \"a3\", \"a6\", \"a7\", \"a5\", \"a8\"], \"type\": \"bar\"}], {\"yaxis\": {\"title\": \"Coefficients\"}, \"xaxis\": {\"title\": \"Features\"}, \"title\": \"Feature Coefficients\"}, {\"linkText\": \"Export to plot.ly\", \"showLink\": true})});</script>"
      ],
      "text/plain": [
       "<IPython.core.display.HTML object>"
      ]
     },
     "metadata": {},
     "output_type": "display_data"
    }
   ],
   "source": [
    "logreg = linear_model.LogisticRegression()\n",
    "X_train,X_test,y_train,y_test = train_test_split(xnew,y,test_size=0.2)\n",
    "L = logreg.fit(X_train,y_train)\n",
    "y_pred = logreg.predict(X_test)\n",
    "\n",
    "print 'Accuracy of model on test set is ' + str(metrics.accuracy_score(y_test,y_pred)*100) +' %'\n",
    "print('F1 scores are long-term/short-term' + str(f1_score(y_test, y_pred, average=None)))\n",
    "print('Weighted F1 score is ' + str(f1_score(y_test, y_pred, average='weighted')))\n",
    "print('Precision scores are lt-st' + str(precision_score(y_test, y_pred, average=None)))\n",
    "print('Weighted Precision score is ' + str(precision_score(y_test, y_pred, average='weighted')))\n",
    "print('Recall scores are lt-st' + str(recall_score(y_test, y_pred, average=None)))\n",
    "print('Weighted Recall score is ' + str(recall_score(y_test, y_pred, average='weighted')))\n",
    "print metrics.confusion_matrix(y_test, y_pred)\n",
    "print (\"Predicting everything as falling as long term will give accuracy of \"+ str((len([x for x in y_test if x == 0])/float(len(y_test)))*100))\n",
    "\n",
    "fimplr = logreg.coef_\n",
    "print(fimplr.ravel())\n",
    "print(names)\n",
    "\n",
    "data = [Bar(x=names,y=fimplr.ravel())]\n",
    "\n",
    "layout = Layout(xaxis=dict(title = 'Features'),\n",
    "                 yaxis=dict(title='Coefficients'),\n",
    "                title='Feature Coefficients')\n",
    "\n",
    "\n",
    "fig1 = Figure(data=data, layout=layout)\n",
    "iplot(fig1)\n",
    "\n",
    "#iplot(data, filename='basic-bar')\n"
   ]
  },
  {
   "cell_type": "code",
   "execution_count": null,
   "metadata": {
    "collapsed": false
   },
   "outputs": [],
   "source": []
  },
  {
   "cell_type": "code",
   "execution_count": null,
   "metadata": {
    "collapsed": false
   },
   "outputs": [],
   "source": []
  },
  {
   "cell_type": "code",
   "execution_count": null,
   "metadata": {
    "collapsed": false
   },
   "outputs": [],
   "source": [
    "\n"
   ]
  },
  {
   "cell_type": "code",
   "execution_count": null,
   "metadata": {
    "collapsed": false
   },
   "outputs": [],
   "source": []
  },
  {
   "cell_type": "code",
   "execution_count": null,
   "metadata": {
    "collapsed": true
   },
   "outputs": [],
   "source": []
  },
  {
   "cell_type": "code",
   "execution_count": null,
   "metadata": {
    "collapsed": false
   },
   "outputs": [],
   "source": [
    "\n",
    "\n"
   ]
  },
  {
   "cell_type": "code",
   "execution_count": null,
   "metadata": {
    "collapsed": false
   },
   "outputs": [],
   "source": []
  },
  {
   "cell_type": "code",
   "execution_count": 23,
   "metadata": {
    "collapsed": true
   },
   "outputs": [],
   "source": [
    "# TO - DOS\n",
    "\n",
    "# Feature engineering - distance from house, grade improvements, population / education level of areas \n",
    "# improve prediction by logisti regression, dont bother with random forests, \n",
    "# no of students per camp, average gade per cap - LATER POST DEMO\n",
    "\n",
    "# more data - LATER POST DEMO\n",
    "\n",
    "# improve logistic regression - POST DEMO\n",
    "\n",
    "# draw a cumulative plot to justify or run it by michael or do 50/50 - easy ROI\n",
    "\n",
    "# scaling issues with coefficients and normalization - should do this - ROI\n",
    "\n",
    "# regularization - this\n",
    "\n",
    "# plot for those who stayed vs not stayed - the  2 vs 3 days open - this\n",
    "\n",
    "\n",
    "# story with business idea, background research n education and students and how it translates to companies\n",
    "\n",
    "# Mainly : Prep Demos, Talk to Michael\n",
    "\n",
    "# 10 - 12 - just do demo prep and slides\n",
    "\n",
    "# 3 - 6\n",
    "# SLIDES AND WHAT TO THINK ABOUT LR - main goal for today"
   ]
  },
  {
   "cell_type": "code",
   "execution_count": 434,
   "metadata": {
    "collapsed": false
   },
   "outputs": [
    {
     "name": "stdout",
     "output_type": "stream",
     "text": [
      "Accuracy of model on test set is 77.4049217002 %\n",
      "[[160  44]\n",
      " [ 57 186]]\n",
      "Predicting everything as falling as long term will give accuracy of 45.6375838926\n",
      "[ 0.26590629  0.02293586  0.13610383  0.20665322  0.36840079]\n",
      "['age_enroll', 'days_open', 'dist', 'median_income', 'grade_level']\n"
     ]
    }
   ],
   "source": [
    "\n",
    "from sklearn.ensemble import RandomForestClassifier\n",
    "\n",
    "rf = RandomForestClassifier(n_estimators=10)\n",
    "\n",
    "feature_cols = ['age_enroll','days_open', 'dist', 'median_income', 'grade_level']\n",
    "\n",
    "xprev = studentsshortnew[feature_cols]#.reset_index()[feature_cols]\n",
    "y = studentsshortnew['short_term']#.reset_index()['short_term']x\n",
    "\n",
    "x = xprev\n",
    "X_train,X_test,y_train,y_test = train_test_split(x,y,test_size=0.2)\n",
    "L = rf.fit(X_train,y_train)\n",
    "y_pred = rf.predict(X_test)\n",
    "\n",
    "print 'Accuracy of model on test set is ' + str(metrics.accuracy_score(y_test,y_pred)*100) +' %'\n",
    "#print('F1 scores are long-term/short-term' + str(f1_score(y_test, y_pred, average=None)))\n",
    "#print('Weighted F1 score is ' + str(f1_score(y_test, y_pred, average='weighted')))\n",
    "#print('Precision scores are lt-st' + str(precision_score(y_test, y_pred, average=None)))\n",
    "#print('Weighted Precision score is ' + str(precision_score(y_test, y_pred, average='weighted')))\n",
    "#print('Recall scores are lt-st' + str(recall_score(y_test, y_pred, average=None)))\n",
    "#print('Weighted Recall score is ' + str(recall_score(y_test, y_pred, average='weighted')))\n",
    "print metrics.confusion_matrix(y_test, y_pred)\n",
    "print (\"Predicting everything as falling as long term will give accuracy of \"+ str((len([x for x in y_test if x == 0])/float(len(y_test)))*100))\n",
    "\n",
    "fimplr = rf.feature_importances_\n",
    "print(fimplr.ravel())\n",
    "print(vv)"
   ]
  },
  {
   "cell_type": "code",
   "execution_count": 164,
   "metadata": {
    "collapsed": false
   },
   "outputs": [
    {
     "name": "stdout",
     "output_type": "stream",
     "text": [
      "Accuracy of model on test set is 76.4485981308 %\n",
      "[[210  66]\n",
      " [ 60 199]]\n",
      "Predicting everything as falling as long term will give accuracy of 51.5887850467\n",
      "[ 0.33678739  0.41748808  0.0120963   0.01748153  0.01718691  0.00778378\n",
      "  0.01666949  0.00700612  0.02199968  0.01325707  0.00609393  0.00780081\n",
      "  0.00875785  0.00902257  0.00948882  0.04779809  0.01182748  0.01302717\n",
      "  0.01059545  0.00783148]\n"
     ]
    }
   ],
   "source": [
    "from sklearn.ensemble import RandomForestClassifier\n",
    "\n",
    "rf = RandomForestClassifier(n_estimators=10)\n",
    "feature_cols = ['age_enroll', 'grade_level', 'days_open']\n",
    "\n",
    "xprev = students[feature_cols]#.reset_index()[feature_cols]\n",
    "y = students['short_term']#.reset_index()['short_term']x\n",
    "x1 = []\n",
    "x1 = pd.concat([xprev, pd.get_dummies(students['gender'])],axis=1)\n",
    "x = []\n",
    "x = pd.concat([x1, pd.get_dummies(students['city_camp'])],axis=1)\n",
    "\n",
    "\n",
    "#names = []\n",
    "#names = perm_dict['city_camp'].keys()\n",
    "#names.extend(perm_dict['gender'].keys())\n",
    "#names.extend(perm_dict['days_open'].keys())\n",
    "#names.extend(perm_dict['grade_level'].keys())\n",
    "#names.extend(perm_dict['age_enroll'].keys())\n",
    "\n",
    "\n",
    "X_train,X_test,y_train,y_test = train_test_split(x,y,test_size=0.2)\n",
    "L = rf.fit(X_train,y_train)\n",
    "y_pred = rf.predict(X_test)\n",
    "\n",
    "print 'Accuracy of model on test set is ' + str(metrics.accuracy_score(y_test,y_pred)*100) +' %'\n",
    "#print('F1 scores are long-term/short-term' + str(f1_score(y_test, y_pred, average=None)))\n",
    "#print('Weighted F1 score is ' + str(f1_score(y_test, y_pred, average='weighted')))\n",
    "#print('Precision scores are lt-st' + str(precision_score(y_test, y_pred, average=None)))\n",
    "#print('Weighted Precision score is ' + str(precision_score(y_test, y_pred, average='weighted')))\n",
    "#print('Recall scores are lt-st' + str(recall_score(y_test, y_pred, average=None)))\n",
    "#print('Weighted Recall score is ' + str(recall_score(y_test, y_pred, average='weighted')))\n",
    "print metrics.confusion_matrix(y_test, y_pred)\n",
    "print (\"Predicting everything as falling as long term will give accuracy of \"+ str((len([x for x in y_test if x == 0])/float(len(y_test)))*100))\n",
    "\n",
    "fimplr = rf.feature_importances_\n",
    "print(fimplr.ravel())\n",
    "#print(names)"
   ]
  },
  {
   "cell_type": "code",
   "execution_count": 24,
   "metadata": {
    "collapsed": false
   },
   "outputs": [
    {
     "name": "stdout",
     "output_type": "stream",
     "text": [
      "Accuracy of model on test set is 77.3831775701 %\n",
      "\n",
      "[[204  66]\n",
      " [ 55 210]]\n",
      "Predicting everything as falling as long term will still give accuracy of 50.4672897196\n",
      "[ 0.78764479  0.76086957]\n",
      "Weighted F1 score is 0.773779617502\n",
      "Weighted Precision score is 0.774382294293\n",
      "Weighted Recall score is 0.773831775701\n"
     ]
    }
   ],
   "source": [
    "# RANDOM FORESTS\n",
    "\n",
    "from sklearn.ensemble import RandomForestClassifier\n",
    "\n",
    "\n",
    "rf = RandomForestClassifier(n_estimators=10)\n",
    "X_train,X_test,y_train,y_test = train_test_split(xnew,y,test_size=0.2)\n",
    "\n",
    "rf.fit(X_train, y_train)\n",
    "y_pred = rf.predict(X_test)\n",
    "print 'Accuracy of model on test set is ' + str(metrics.accuracy_score(y_test,y_pred)*100) +' %' + '\\n'\n",
    "print metrics.confusion_matrix(y_test, y_pred)\n",
    "print (\"Predicting everything as falling as long term will still give accuracy of \"+ str((len([x for x in y_test if x == 0])/float(len(y_test)))*100))\n",
    "\n",
    "\n",
    "print(precision_score(y_test, y_pred, average=None))\n",
    "#print(recall_score(y_test, y_pred, average=None))  \n",
    "#print('F1 scores are' + str(f1_score(y_test, y_pred, average=None)))\n",
    "print('Weighted F1 score is ' + str(f1_score(y_test, y_pred, average='weighted')))\n",
    "#print('Precision scores are' + str(precision_score(y_test, y_pred, average=None)))\n",
    "print('Weighted Precision score is ' + str(precision_score(y_test, y_pred, average='weighted')))\n",
    "#print('Recall scores are' + str(recall_score(y_test, y_pred, average=None)))\n",
    "print('Weighted Recall score is ' + str(recall_score(y_test, y_pred, average='weighted'))) "
   ]
  },
  {
   "cell_type": "code",
   "execution_count": 25,
   "metadata": {
    "collapsed": false
   },
   "outputs": [
    {
     "name": "stdout",
     "output_type": "stream",
     "text": [
      "[(0.0519, 'San Francisco'), (0.0404, 'g11'), (0.0385, 'g12'), (0.0349, 'g10'), (0.0338, 'F'), (0.0321, 'a7'), (0.031, 'Santa Clara'), (0.0308, 'a6'), (0.0291, 'g6'), (0.0284, 'a8')]\n"
     ]
    },
    {
     "data": {
      "text/html": [
       "<div id=\"5b654250-3f98-4391-8372-9971b8c42c21\" style=\"height: 525px; width: 100%;\" class=\"plotly-graph-div\"></div><script type=\"text/javascript\">require([\"plotly\"], function(Plotly) { window.PLOTLYENV=window.PLOTLYENV || {};window.PLOTLYENV.BASE_URL=\"https://plot.ly\";Plotly.newPlot(\"5b654250-3f98-4391-8372-9971b8c42c21\", [{\"opacity\": 0.7, \"marker\": {\"color\": \"rgb(26, 118, 255)\", \"line\": {\"color\": \"rgb(8,48,107)\", \"width\": 1}}, \"type\": \"bar\", \"y\": [0.0519, 0.0404, 0.0385, 0.0349, 0.0338, 0.0321, 0.031, 0.0308, 0.0291, 0.0284], \"x\": [\"San Francisco\", \"g11\", \"g12\", \"g10\", \"F\", \"a7\", \"Santa Clara\", \"a6\", \"g6\", \"a8\"]}], {\"yaxis\": {\"tickfont\": {\"color\": \"rgb(107, 107, 107)\", \"size\": 14}, \"titlefont\": {\"color\": \"rgb(107, 107, 107)\", \"size\": 16}, \"title\": \"Mean Decrease Impurity Score\"}, \"title\": \"Feature Importance of Top 20 Features\", \"barmode\": \"group\", \"bargap\": 0.4, \"xaxis\": {\"tickfont\": {\"color\": \"rgb(107, 107, 107)\", \"size\": 12}, \"tickangle\": -45, \"title\": \"Features\"}, \"bargroupgap\": 0.1}, {\"linkText\": \"Export to plot.ly\", \"showLink\": true})});</script>"
      ],
      "text/plain": [
       "<IPython.core.display.HTML object>"
      ]
     },
     "metadata": {},
     "output_type": "display_data"
    }
   ],
   "source": [
    "fimp = sorted(zip(map(lambda x: round(x, 4), rf.feature_importances_),names),reverse=True)\n",
    "print(fimp[:10])\n",
    "trace0 = Bar(x=[x[1] for x in fimp[:10]],y=[x[0] for x in fimp[:10]],marker=dict(color='rgb(26, 118, 255)',line=dict(color='rgb(8,48,107)',width=1,)),opacity=0.7)\n",
    "data = [trace0]\n",
    "layout = Layout(xaxis=dict(title = 'Features', tickangle=-45, tickfont=dict(size=12,color='rgb(107, 107, 107)')),\n",
    "                 yaxis=dict(title='Mean Decrease Impurity Score',titlefont=dict(size=16,color='rgb(107, 107, 107)'), tickfont=dict(size=14,color='rgb(107, 107, 107)')),\n",
    "                title='Feature Importance of Top 20 Features',\n",
    "                barmode='group',bargap=0.4,bargroupgap=0.1)\n",
    "fig16 = Figure(data=data, layout=layout)\n",
    "iplot(fig16, filename='feature-importance-mean-impurity-bar')\n"
   ]
  },
  {
   "cell_type": "code",
   "execution_count": 26,
   "metadata": {
    "collapsed": false
   },
   "outputs": [
    {
     "data": {
      "text/html": [
       "<div id=\"380e483a-d0e0-4419-91c3-767bd2e5adb3\" style=\"height: 525px; width: 100%;\" class=\"plotly-graph-div\"></div><script type=\"text/javascript\">require([\"plotly\"], function(Plotly) { window.PLOTLYENV=window.PLOTLYENV || {};window.PLOTLYENV.BASE_URL=\"https://plot.ly\";Plotly.newPlot(\"380e483a-d0e0-4419-91c3-767bd2e5adb3\", [{\"y\": [35, 140, 120, 217, 282, 336, 291, 333, 702, 216], \"x\": [2007, 2008, 2009, 2010, 2011, 2012, 2013, 2014, 2015, 2016], \"type\": \"scatter\", \"name\": \"Number of students enrolled\", \"mode\": \"lines+markers\"}, {\"y\": [6, 3, 1, 3, 10, 11, 12, 8, 7], \"x\": [2007, 2008, 2009, 2010, 2011, 2012, 2013, 2014, 2015], \"type\": \"scatter\", \"name\": \"Number of camps opened\", \"mode\": \"lines+markers\"}, {\"y\": [4, 42, 78, 69, 156, 336, 316, 384, 666, 621], \"x\": [2007, 2008, 2009, 2010, 2011, 2012, 2013, 2014, 2015, 2016], \"type\": \"scatter\", \"name\": \"Number of students who quit\", \"mode\": \"lines+markers\"}], {\"title\": \"Trends over the years\"}, {\"linkText\": \"Export to plot.ly\", \"showLink\": true})});</script>"
      ],
      "text/plain": [
       "<IPython.core.display.HTML object>"
      ]
     },
     "metadata": {},
     "output_type": "display_data"
    }
   ],
   "source": [
    "students['enroll_date'].groupby(students['enroll_date'].dt.year).size().values\n",
    "\n",
    "trace0 = Scatter(x = [2007,2008,2009,2010,2011,2012,2013,2014,2015,2016],y = students['enroll_date'].groupby(students['enroll_date'].dt.year).size().values,\n",
    "                    mode = 'lines+markers',name = 'Number of students enrolled')\n",
    "trace1 = Scatter(x = [2007,2008,2009,2010,2011,2012,2013,2014,2015], y = camps.groupby(camps[camps['state_code']== 'CA']['open_date'].dt.year).size().values[9:18],\n",
    "                 mode = 'lines+markers',name = 'Number of camps opened')\n",
    "trace2 = Scatter(x = [2007,2008,2009,2010,2011,2012,2013,2014,2015, 2016], y = students['end_date'].groupby(students['end_date'].dt.year).size().values,\n",
    "                 mode = 'lines+markers',name = 'Number of students who quit')\n",
    "data = [trace0, trace1, trace2]\n",
    "layout = dict(title = 'Trends over the years')\n",
    "fig = dict(data=data, layout=layout)\n",
    "iplot(fig, filename='scatter-mode')\n",
    "\n",
    "\n"
   ]
  },
  {
   "cell_type": "code",
   "execution_count": 27,
   "metadata": {
    "collapsed": false
   },
   "outputs": [
    {
     "ename": "KeyError",
     "evalue": "'age'",
     "output_type": "error",
     "traceback": [
      "\u001b[0;31m---------------------------------------------------------------------------\u001b[0m",
      "\u001b[0;31mKeyError\u001b[0m                                  Traceback (most recent call last)",
      "\u001b[0;32m<ipython-input-27-08f018f8ef13>\u001b[0m in \u001b[0;36m<module>\u001b[0;34m()\u001b[0m\n\u001b[1;32m      1\u001b[0m \u001b[0mtrace1\u001b[0m \u001b[0;34m=\u001b[0m \u001b[0mScatter\u001b[0m\u001b[0;34m(\u001b[0m\u001b[0mx\u001b[0m\u001b[0;34m=\u001b[0m\u001b[0mstudents\u001b[0m\u001b[0;34m[\u001b[0m\u001b[0;34m'city_camp'\u001b[0m\u001b[0;34m]\u001b[0m\u001b[0;34m,\u001b[0m\u001b[0my\u001b[0m\u001b[0;34m=\u001b[0m\u001b[0mstudents\u001b[0m\u001b[0;34m[\u001b[0m\u001b[0;34m'time_enrolled'\u001b[0m\u001b[0;34m]\u001b[0m\u001b[0;34m,\u001b[0m \u001b[0mmode\u001b[0m\u001b[0;34m=\u001b[0m\u001b[0;34m'markers'\u001b[0m\u001b[0;34m)\u001b[0m\u001b[0;34m\u001b[0m\u001b[0m\n\u001b[1;32m      2\u001b[0m \u001b[0mtrace2\u001b[0m \u001b[0;34m=\u001b[0m \u001b[0mScatter\u001b[0m\u001b[0;34m(\u001b[0m\u001b[0mx\u001b[0m\u001b[0;34m=\u001b[0m\u001b[0mstudents\u001b[0m\u001b[0;34m[\u001b[0m\u001b[0;34m'grade_level'\u001b[0m\u001b[0;34m]\u001b[0m\u001b[0;34m,\u001b[0m\u001b[0my\u001b[0m\u001b[0;34m=\u001b[0m\u001b[0mstudents\u001b[0m\u001b[0;34m[\u001b[0m\u001b[0;34m'time_enrolled'\u001b[0m\u001b[0;34m]\u001b[0m\u001b[0;34m,\u001b[0m \u001b[0mmode\u001b[0m\u001b[0;34m=\u001b[0m\u001b[0;34m'markers'\u001b[0m\u001b[0;34m)\u001b[0m\u001b[0;34m\u001b[0m\u001b[0m\n\u001b[0;32m----> 3\u001b[0;31m \u001b[0mtrace3\u001b[0m \u001b[0;34m=\u001b[0m \u001b[0mScatter\u001b[0m\u001b[0;34m(\u001b[0m\u001b[0mx\u001b[0m\u001b[0;34m=\u001b[0m\u001b[0mstudents\u001b[0m\u001b[0;34m[\u001b[0m\u001b[0;34m'age'\u001b[0m\u001b[0;34m]\u001b[0m\u001b[0;34m,\u001b[0m\u001b[0my\u001b[0m\u001b[0;34m=\u001b[0m\u001b[0mstudents\u001b[0m\u001b[0;34m[\u001b[0m\u001b[0;34m'time_enrolled'\u001b[0m\u001b[0;34m]\u001b[0m\u001b[0;34m,\u001b[0m \u001b[0mmode\u001b[0m\u001b[0;34m=\u001b[0m\u001b[0;34m'markers'\u001b[0m\u001b[0;34m)\u001b[0m\u001b[0;34m\u001b[0m\u001b[0m\n\u001b[0m\u001b[1;32m      4\u001b[0m \u001b[0mtrace4\u001b[0m \u001b[0;34m=\u001b[0m \u001b[0mScatter\u001b[0m\u001b[0;34m(\u001b[0m\u001b[0mx\u001b[0m\u001b[0;34m=\u001b[0m\u001b[0mstudents\u001b[0m\u001b[0;34m[\u001b[0m\u001b[0;34m'gender'\u001b[0m\u001b[0;34m]\u001b[0m\u001b[0;34m,\u001b[0m\u001b[0my\u001b[0m\u001b[0;34m=\u001b[0m\u001b[0mstudents\u001b[0m\u001b[0;34m[\u001b[0m\u001b[0;34m'time_enrolled'\u001b[0m\u001b[0;34m]\u001b[0m\u001b[0;34m,\u001b[0m \u001b[0mmode\u001b[0m\u001b[0;34m=\u001b[0m\u001b[0;34m'markers'\u001b[0m\u001b[0;34m)\u001b[0m\u001b[0;34m\u001b[0m\u001b[0m\n\u001b[1;32m      5\u001b[0m \u001b[0;34m\u001b[0m\u001b[0m\n",
      "\u001b[0;32m/home/harisk87/anaconda2/envs/my_projects_env/lib/python2.7/site-packages/pandas/core/frame.pyc\u001b[0m in \u001b[0;36m__getitem__\u001b[0;34m(self, key)\u001b[0m\n\u001b[1;32m   2057\u001b[0m             \u001b[0;32mreturn\u001b[0m \u001b[0mself\u001b[0m\u001b[0;34m.\u001b[0m\u001b[0m_getitem_multilevel\u001b[0m\u001b[0;34m(\u001b[0m\u001b[0mkey\u001b[0m\u001b[0;34m)\u001b[0m\u001b[0;34m\u001b[0m\u001b[0m\n\u001b[1;32m   2058\u001b[0m         \u001b[0;32melse\u001b[0m\u001b[0;34m:\u001b[0m\u001b[0;34m\u001b[0m\u001b[0m\n\u001b[0;32m-> 2059\u001b[0;31m             \u001b[0;32mreturn\u001b[0m \u001b[0mself\u001b[0m\u001b[0;34m.\u001b[0m\u001b[0m_getitem_column\u001b[0m\u001b[0;34m(\u001b[0m\u001b[0mkey\u001b[0m\u001b[0;34m)\u001b[0m\u001b[0;34m\u001b[0m\u001b[0m\n\u001b[0m\u001b[1;32m   2060\u001b[0m \u001b[0;34m\u001b[0m\u001b[0m\n\u001b[1;32m   2061\u001b[0m     \u001b[0;32mdef\u001b[0m \u001b[0m_getitem_column\u001b[0m\u001b[0;34m(\u001b[0m\u001b[0mself\u001b[0m\u001b[0;34m,\u001b[0m \u001b[0mkey\u001b[0m\u001b[0;34m)\u001b[0m\u001b[0;34m:\u001b[0m\u001b[0;34m\u001b[0m\u001b[0m\n",
      "\u001b[0;32m/home/harisk87/anaconda2/envs/my_projects_env/lib/python2.7/site-packages/pandas/core/frame.pyc\u001b[0m in \u001b[0;36m_getitem_column\u001b[0;34m(self, key)\u001b[0m\n\u001b[1;32m   2064\u001b[0m         \u001b[0;31m# get column\u001b[0m\u001b[0;34m\u001b[0m\u001b[0;34m\u001b[0m\u001b[0m\n\u001b[1;32m   2065\u001b[0m         \u001b[0;32mif\u001b[0m \u001b[0mself\u001b[0m\u001b[0;34m.\u001b[0m\u001b[0mcolumns\u001b[0m\u001b[0;34m.\u001b[0m\u001b[0mis_unique\u001b[0m\u001b[0;34m:\u001b[0m\u001b[0;34m\u001b[0m\u001b[0m\n\u001b[0;32m-> 2066\u001b[0;31m             \u001b[0;32mreturn\u001b[0m \u001b[0mself\u001b[0m\u001b[0;34m.\u001b[0m\u001b[0m_get_item_cache\u001b[0m\u001b[0;34m(\u001b[0m\u001b[0mkey\u001b[0m\u001b[0;34m)\u001b[0m\u001b[0;34m\u001b[0m\u001b[0m\n\u001b[0m\u001b[1;32m   2067\u001b[0m \u001b[0;34m\u001b[0m\u001b[0m\n\u001b[1;32m   2068\u001b[0m         \u001b[0;31m# duplicate columns & possible reduce dimensionality\u001b[0m\u001b[0;34m\u001b[0m\u001b[0;34m\u001b[0m\u001b[0m\n",
      "\u001b[0;32m/home/harisk87/anaconda2/envs/my_projects_env/lib/python2.7/site-packages/pandas/core/generic.pyc\u001b[0m in \u001b[0;36m_get_item_cache\u001b[0;34m(self, item)\u001b[0m\n\u001b[1;32m   1384\u001b[0m         \u001b[0mres\u001b[0m \u001b[0;34m=\u001b[0m \u001b[0mcache\u001b[0m\u001b[0;34m.\u001b[0m\u001b[0mget\u001b[0m\u001b[0;34m(\u001b[0m\u001b[0mitem\u001b[0m\u001b[0;34m)\u001b[0m\u001b[0;34m\u001b[0m\u001b[0m\n\u001b[1;32m   1385\u001b[0m         \u001b[0;32mif\u001b[0m \u001b[0mres\u001b[0m \u001b[0;32mis\u001b[0m \u001b[0mNone\u001b[0m\u001b[0;34m:\u001b[0m\u001b[0;34m\u001b[0m\u001b[0m\n\u001b[0;32m-> 1386\u001b[0;31m             \u001b[0mvalues\u001b[0m \u001b[0;34m=\u001b[0m \u001b[0mself\u001b[0m\u001b[0;34m.\u001b[0m\u001b[0m_data\u001b[0m\u001b[0;34m.\u001b[0m\u001b[0mget\u001b[0m\u001b[0;34m(\u001b[0m\u001b[0mitem\u001b[0m\u001b[0;34m)\u001b[0m\u001b[0;34m\u001b[0m\u001b[0m\n\u001b[0m\u001b[1;32m   1387\u001b[0m             \u001b[0mres\u001b[0m \u001b[0;34m=\u001b[0m \u001b[0mself\u001b[0m\u001b[0;34m.\u001b[0m\u001b[0m_box_item_values\u001b[0m\u001b[0;34m(\u001b[0m\u001b[0mitem\u001b[0m\u001b[0;34m,\u001b[0m \u001b[0mvalues\u001b[0m\u001b[0;34m)\u001b[0m\u001b[0;34m\u001b[0m\u001b[0m\n\u001b[1;32m   1388\u001b[0m             \u001b[0mcache\u001b[0m\u001b[0;34m[\u001b[0m\u001b[0mitem\u001b[0m\u001b[0;34m]\u001b[0m \u001b[0;34m=\u001b[0m \u001b[0mres\u001b[0m\u001b[0;34m\u001b[0m\u001b[0m\n",
      "\u001b[0;32m/home/harisk87/anaconda2/envs/my_projects_env/lib/python2.7/site-packages/pandas/core/internals.pyc\u001b[0m in \u001b[0;36mget\u001b[0;34m(self, item, fastpath)\u001b[0m\n\u001b[1;32m   3541\u001b[0m \u001b[0;34m\u001b[0m\u001b[0m\n\u001b[1;32m   3542\u001b[0m             \u001b[0;32mif\u001b[0m \u001b[0;32mnot\u001b[0m \u001b[0misnull\u001b[0m\u001b[0;34m(\u001b[0m\u001b[0mitem\u001b[0m\u001b[0;34m)\u001b[0m\u001b[0;34m:\u001b[0m\u001b[0;34m\u001b[0m\u001b[0m\n\u001b[0;32m-> 3543\u001b[0;31m                 \u001b[0mloc\u001b[0m \u001b[0;34m=\u001b[0m \u001b[0mself\u001b[0m\u001b[0;34m.\u001b[0m\u001b[0mitems\u001b[0m\u001b[0;34m.\u001b[0m\u001b[0mget_loc\u001b[0m\u001b[0;34m(\u001b[0m\u001b[0mitem\u001b[0m\u001b[0;34m)\u001b[0m\u001b[0;34m\u001b[0m\u001b[0m\n\u001b[0m\u001b[1;32m   3544\u001b[0m             \u001b[0;32melse\u001b[0m\u001b[0;34m:\u001b[0m\u001b[0;34m\u001b[0m\u001b[0m\n\u001b[1;32m   3545\u001b[0m                 \u001b[0mindexer\u001b[0m \u001b[0;34m=\u001b[0m \u001b[0mnp\u001b[0m\u001b[0;34m.\u001b[0m\u001b[0marange\u001b[0m\u001b[0;34m(\u001b[0m\u001b[0mlen\u001b[0m\u001b[0;34m(\u001b[0m\u001b[0mself\u001b[0m\u001b[0;34m.\u001b[0m\u001b[0mitems\u001b[0m\u001b[0;34m)\u001b[0m\u001b[0;34m)\u001b[0m\u001b[0;34m[\u001b[0m\u001b[0misnull\u001b[0m\u001b[0;34m(\u001b[0m\u001b[0mself\u001b[0m\u001b[0;34m.\u001b[0m\u001b[0mitems\u001b[0m\u001b[0;34m)\u001b[0m\u001b[0;34m]\u001b[0m\u001b[0;34m\u001b[0m\u001b[0m\n",
      "\u001b[0;32m/home/harisk87/anaconda2/envs/my_projects_env/lib/python2.7/site-packages/pandas/indexes/base.pyc\u001b[0m in \u001b[0;36mget_loc\u001b[0;34m(self, key, method, tolerance)\u001b[0m\n\u001b[1;32m   2134\u001b[0m                 \u001b[0;32mreturn\u001b[0m \u001b[0mself\u001b[0m\u001b[0;34m.\u001b[0m\u001b[0m_engine\u001b[0m\u001b[0;34m.\u001b[0m\u001b[0mget_loc\u001b[0m\u001b[0;34m(\u001b[0m\u001b[0mkey\u001b[0m\u001b[0;34m)\u001b[0m\u001b[0;34m\u001b[0m\u001b[0m\n\u001b[1;32m   2135\u001b[0m             \u001b[0;32mexcept\u001b[0m \u001b[0mKeyError\u001b[0m\u001b[0;34m:\u001b[0m\u001b[0;34m\u001b[0m\u001b[0m\n\u001b[0;32m-> 2136\u001b[0;31m                 \u001b[0;32mreturn\u001b[0m \u001b[0mself\u001b[0m\u001b[0;34m.\u001b[0m\u001b[0m_engine\u001b[0m\u001b[0;34m.\u001b[0m\u001b[0mget_loc\u001b[0m\u001b[0;34m(\u001b[0m\u001b[0mself\u001b[0m\u001b[0;34m.\u001b[0m\u001b[0m_maybe_cast_indexer\u001b[0m\u001b[0;34m(\u001b[0m\u001b[0mkey\u001b[0m\u001b[0;34m)\u001b[0m\u001b[0;34m)\u001b[0m\u001b[0;34m\u001b[0m\u001b[0m\n\u001b[0m\u001b[1;32m   2137\u001b[0m \u001b[0;34m\u001b[0m\u001b[0m\n\u001b[1;32m   2138\u001b[0m         \u001b[0mindexer\u001b[0m \u001b[0;34m=\u001b[0m \u001b[0mself\u001b[0m\u001b[0;34m.\u001b[0m\u001b[0mget_indexer\u001b[0m\u001b[0;34m(\u001b[0m\u001b[0;34m[\u001b[0m\u001b[0mkey\u001b[0m\u001b[0;34m]\u001b[0m\u001b[0;34m,\u001b[0m \u001b[0mmethod\u001b[0m\u001b[0;34m=\u001b[0m\u001b[0mmethod\u001b[0m\u001b[0;34m,\u001b[0m \u001b[0mtolerance\u001b[0m\u001b[0;34m=\u001b[0m\u001b[0mtolerance\u001b[0m\u001b[0;34m)\u001b[0m\u001b[0;34m\u001b[0m\u001b[0m\n",
      "\u001b[0;32mpandas/index.pyx\u001b[0m in \u001b[0;36mpandas.index.IndexEngine.get_loc (pandas/index.c:4433)\u001b[0;34m()\u001b[0m\n",
      "\u001b[0;32mpandas/index.pyx\u001b[0m in \u001b[0;36mpandas.index.IndexEngine.get_loc (pandas/index.c:4279)\u001b[0;34m()\u001b[0m\n",
      "\u001b[0;32mpandas/src/hashtable_class_helper.pxi\u001b[0m in \u001b[0;36mpandas.hashtable.PyObjectHashTable.get_item (pandas/hashtable.c:13742)\u001b[0;34m()\u001b[0m\n",
      "\u001b[0;32mpandas/src/hashtable_class_helper.pxi\u001b[0m in \u001b[0;36mpandas.hashtable.PyObjectHashTable.get_item (pandas/hashtable.c:13696)\u001b[0;34m()\u001b[0m\n",
      "\u001b[0;31mKeyError\u001b[0m: 'age'"
     ]
    }
   ],
   "source": [
    "trace1 = Scatter(x=students['city_camp'],y=students['time_enrolled'], mode='markers')\n",
    "trace2 = Scatter(x=students['grade_level'],y=students['time_enrolled'], mode='markers')\n",
    "trace3 = Scatter(x=students['age'],y=students['time_enrolled'], mode='markers')\n",
    "trace4 = Scatter(x=students['gender'],y=students['time_enrolled'], mode='markers')\n",
    "\n",
    "fig = tools.make_subplots(rows=2, cols=2, subplot_titles=('City-Time', 'Grade-Time','Age-Time', 'Gender-Time'))\n",
    "fig.append_trace(trace1, 1, 1)\n",
    "fig.append_trace(trace2, 1, 2)\n",
    "fig.append_trace(trace3, 2, 1)\n",
    "fig.append_trace(trace4, 2, 2)\n",
    "\n",
    "fig['layout'].update(height=600, width=1000, title='Subplots of Dependent vs Independent Variables')\n",
    "#iplot(fig, filename='make-subplots-multiple-with-title')\n"
   ]
  },
  {
   "cell_type": "code",
   "execution_count": null,
   "metadata": {
    "collapsed": false
   },
   "outputs": [],
   "source": [
    "# SOME PLOTS\n",
    "\n",
    "#students.head()\n",
    "from plotly import tools\n",
    "\n",
    "trace1 = Scatter(x=students['city_camp'],y=students['time_enrolled'], mode='markers')\n",
    "trace2 = Scatter(x=students['grade_level'],y=students['time_enrolled'], mode='markers')\n",
    "trace3 = Scatter(x=students['age'],y=students['time_enrolled'], mode='markers')\n",
    "trace4 = Scatter(x=students['gender'],y=students['time_enrolled'], mode='markers')\n",
    "\n",
    "fig = tools.make_subplots(rows=2, cols=2, subplot_titles=('City-Time', 'Grade-Time','Age-Time', 'Gender-Time'))\n",
    "fig.append_trace(trace1, 1, 1)\n",
    "fig.append_trace(trace2, 1, 2)\n",
    "fig.append_trace(trace3, 2, 1)\n",
    "fig.append_trace(trace4, 2, 2)\n",
    "\n",
    "fig['layout'].update(height=600, width=1000, title='Subplots of Dependent vs Independent Variables')\n",
    "#iplot(fig, filename='make-subplots-multiple-with-title')\n",
    "\n",
    "#data = [trace]\n",
    "#iplot(data, filename='basic-scatter')\n",
    "#from plotly.tools import FigureFactory as FF\n",
    "#st1 = students[['city_camp', 'grade_level']]#, 'age', 'gender']]\n",
    "#fig = FF.create_scatterplotmatrix(st1, diag = 'histogram', height=800, width=800)\n",
    "#iplot(fig, filename='Basic Scatterplot Matrix')"
   ]
  },
  {
   "cell_type": "code",
   "execution_count": null,
   "metadata": {
    "collapsed": true
   },
   "outputs": [],
   "source": [
    "trace1 = Scatter(x=students['city_camp'],y=students['grade_level'], mode='markers')\n",
    "trace2 = Scatter(x=students['city_camp'],y=students['age'], mode='markers')\n",
    "trace3 = Scatter(x=students['city_camp'],y=students['gender'], mode='markers')\n",
    "trace4 = Scatter(x=students['grade_level'],y=students['age'], mode='markers')\n",
    "trace5 = Scatter(x=students['grade_level'],y=students['gender'], mode='markers')\n",
    "trace6 = Scatter(x=students['gender'],y=students['age'], mode='markers')\n",
    "\n",
    "fig = tools.make_subplots(rows=3, cols=2, subplot_titles=('City-Grade', 'City-Age','City-Gender', 'Grade-Age', 'Grade-Gender','Gender-Age'))\n",
    "fig.append_trace(trace1, 1, 1)\n",
    "fig.append_trace(trace2, 1, 2)\n",
    "fig.append_trace(trace3, 2, 1)\n",
    "fig.append_trace(trace4, 2, 2)\n",
    "fig.append_trace(trace5, 3, 1)\n",
    "fig.append_trace(trace6, 3, 2)\n",
    "\n",
    "fig['layout'].update(height=900, width=1000, title='Subplots of Independent Variables')\n",
    "#iplot(fig, filename='correlation matrix')\n"
   ]
  },
  {
   "cell_type": "code",
   "execution_count": null,
   "metadata": {
    "collapsed": true
   },
   "outputs": [],
   "source": [
    "#a = np.array([students['city_camp'], students['grade_level'], students['gender'], students['age']]) \n",
    "#b = np.corrcoef(a)"
   ]
  },
  {
   "cell_type": "code",
   "execution_count": null,
   "metadata": {
    "collapsed": false
   },
   "outputs": [],
   "source": [
    "\n",
    "\n",
    "\n",
    "\n"
   ]
  },
  {
   "cell_type": "code",
   "execution_count": null,
   "metadata": {
    "collapsed": false
   },
   "outputs": [],
   "source": [
    "\n"
   ]
  },
  {
   "cell_type": "code",
   "execution_count": null,
   "metadata": {
    "collapsed": false
   },
   "outputs": [],
   "source": [
    "# plot feature vs response\n",
    "\n",
    "# plot feature vs feature\n",
    "\n",
    "# try linear regression?\n",
    "\n",
    "# understand what coefficients mean?"
   ]
  },
  {
   "cell_type": "code",
   "execution_count": null,
   "metadata": {
    "collapsed": false
   },
   "outputs": [],
   "source": []
  },
  {
   "cell_type": "code",
   "execution_count": null,
   "metadata": {
    "collapsed": false
   },
   "outputs": [],
   "source": [
    "\n"
   ]
  },
  {
   "cell_type": "code",
   "execution_count": null,
   "metadata": {
    "collapsed": false
   },
   "outputs": [],
   "source": [
    "\n"
   ]
  },
  {
   "cell_type": "code",
   "execution_count": null,
   "metadata": {
    "collapsed": false
   },
   "outputs": [],
   "source": [
    "# LINEAR REGRESSION, VERY POOR - PROBABLY NEED MORE DATA\n",
    "\n",
    "y = students['time_enrolled'].reset_index()['time_enrolled']\n",
    "\n",
    "\n",
    "from sklearn import datasets, metrics\n",
    "from sklearn.linear_model import LinearRegression\n",
    "from sklearn.cross_validation import train_test_split\n",
    "lm = LinearRegression()\n",
    "x_train,x_test,y_train,y_test = train_test_split(xnew, y,test_size=0.2)\n",
    "\n",
    "lm.fit(x_train, y_train)\n",
    "\n",
    "print(\"Sum of squares error: %.2f\"\n",
    "      % np.mean((lm.predict(x_test) - y_test) ** 2))\n",
    "print('R squared value: %.2f' % lm.score(x_test, y_test))\n",
    "print(\"Median of test data: %.2f\" % np.mean(y_test))\n",
    "print(\"Median of prediction: %.2f\" % np.median(lm.predict(x_test)))\n",
    "print(\"Std dev of test data: %.2f\" % np.std(y_test))\n",
    "print(\"Std dev of prediction: %.2f\" % np.std(lm.predict(x_test)))\n"
   ]
  },
  {
   "cell_type": "code",
   "execution_count": null,
   "metadata": {
    "collapsed": false
   },
   "outputs": [],
   "source": [
    "students.groupby('camp_id').index.get_level_values('end_date')\n",
    "#['end_date']#.size()\n",
    "students.end_date.max()\n",
    "\n",
    "#assume last day of worksheet submission is last day\n",
    "\n",
    "\n",
    "\n",
    "#t = students[students['end_date'] != students.end_date.max()]['time_enrolled']\n",
    "\n",
    "trace1 = Histogram(x=t,opacity=0.75)\n",
    "trace2 = Histogram(x=students['time_enrolled'],opacity=0.75)\n",
    "data1 = [trace1, trace2]\n",
    "layout1 = Layout(barmode='overlay')\n",
    "fig1 = Figure(data=data1, layout=layout1)\n",
    "iplot(fig1)\n",
    "\n",
    "# 2 distributions look somewhat similar, should be good for now but not sure..\n",
    "\n",
    "students = students[students['end_date'] <= students.end_date.max()-timedelta(days=7)]\n",
    "\n",
    "#students['city'] = students['city'].str.upper()\n",
    "#students.groupby('city').size()\n",
    "\n",
    "#clean cities\n",
    "\n",
    "\n",
    "\n",
    "\n",
    "\n",
    "\n",
    "#students.head()\n",
    "\n",
    "\n",
    "students[students['camp_city'] == 'San Francisco']\n",
    "\n",
    "# students who quit within 3-4 months vs those who stayed longer.. ~1000 points\n",
    "\n",
    "# or students who quit within a year\n",
    "\n",
    "#are students bound to stay if their grade increases\n",
    "\n",
    "# are they bound to stay based on their neighborhood\n",
    "\n",
    "# should i do by state or restrict to CA\n",
    "\n",
    "Improvements:\n",
    "    \n",
    "    Add scores\n",
    "    #scores = pd.read_csv('ScoresCA.csv')"
   ]
  },
  {
   "cell_type": "code",
   "execution_count": null,
   "metadata": {
    "collapsed": false
   },
   "outputs": [],
   "source": [
    "# USER SEGMENT AND 2 lr - better models and telling features\n",
    "\n",
    "# clean up city they are from - 150 cities - cluster around neighborhoods\n",
    "\n",
    "# RF for feature importance\n",
    "\n",
    "# decision trees\n",
    "\n",
    "# toddler / teen / \n",
    "# importance of features as a whole"
   ]
  },
  {
   "cell_type": "code",
   "execution_count": null,
   "metadata": {
    "collapsed": false
   },
   "outputs": [],
   "source": [
    "\n"
   ]
  },
  {
   "cell_type": "code",
   "execution_count": null,
   "metadata": {
    "collapsed": false
   },
   "outputs": [],
   "source": []
  },
  {
   "cell_type": "code",
   "execution_count": null,
   "metadata": {
    "collapsed": false
   },
   "outputs": [],
   "source": []
  },
  {
   "cell_type": "code",
   "execution_count": null,
   "metadata": {
    "collapsed": false
   },
   "outputs": [],
   "source": []
  },
  {
   "cell_type": "code",
   "execution_count": null,
   "metadata": {
    "collapsed": true
   },
   "outputs": [],
   "source": []
  },
  {
   "cell_type": "code",
   "execution_count": null,
   "metadata": {
    "collapsed": true
   },
   "outputs": [],
   "source": []
  }
 ],
 "metadata": {
  "anaconda-cloud": {},
  "kernelspec": {
   "display_name": "Python [conda env:my_projects_env]",
   "language": "python",
   "name": "conda-env-my_projects_env-py"
  },
  "language_info": {
   "codemirror_mode": {
    "name": "ipython",
    "version": 2
   },
   "file_extension": ".py",
   "mimetype": "text/x-python",
   "name": "python",
   "nbconvert_exporter": "python",
   "pygments_lexer": "ipython2",
   "version": "2.7.13"
  }
 },
 "nbformat": 4,
 "nbformat_minor": 1
}
