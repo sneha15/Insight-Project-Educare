{
 "cells": [
  {
   "cell_type": "markdown",
   "metadata": {},
   "source": [
    "## Predict number of days taken to receive a Visa - H1B and EB ##\n",
    " ### Given job type, nationality, location ###\n",
    " ### Use data from 2001 - 2016 ####\n",
    " \n",
    " ### Motivation: Useful to US department of Labor Force in terms of how much resources to allocate if a particular class of visa takes much longer to get approved. Also useful for job applicants and immigrants on how much time to keep in mind before applying for visa, where to apply from, the types of jobs available ###\n",
    " \n",
    "#### gives indication of what the job market is like ####\n",
    "#### could be used to look at how economic prosperity of country affects number of people applying for visas from that country ####"
   ]
  },
  {
   "cell_type": "code",
   "execution_count": 1,
   "metadata": {
    "collapsed": false
   },
   "outputs": [
    {
     "ename": "NameError",
     "evalue": "name 'perm_all' is not defined",
     "output_type": "error",
     "traceback": [
      "\u001b[1;31m---------------------------------------------------------------------------\u001b[0m",
      "\u001b[1;31mNameError\u001b[0m                                 Traceback (most recent call last)",
      "\u001b[1;32m<ipython-input-1-31b4d9a6789f>\u001b[0m in \u001b[0;36m<module>\u001b[1;34m()\u001b[0m\n\u001b[0;32m     15\u001b[0m \u001b[1;31m# Save the data\u001b[0m\u001b[1;33m\u001b[0m\u001b[1;33m\u001b[0m\u001b[0m\n\u001b[0;32m     16\u001b[0m \u001b[0mperm\u001b[0m\u001b[1;33m.\u001b[0m\u001b[0mto_pickle\u001b[0m\u001b[1;33m(\u001b[0m\u001b[1;34m'perm'\u001b[0m\u001b[1;33m)\u001b[0m\u001b[1;33m\u001b[0m\u001b[0m\n\u001b[1;32m---> 17\u001b[1;33m \u001b[0mperm_all\u001b[0m\u001b[1;33m.\u001b[0m\u001b[0mto_pickle\u001b[0m\u001b[1;33m(\u001b[0m\u001b[1;34m'perm_all'\u001b[0m\u001b[1;33m)\u001b[0m\u001b[1;33m\u001b[0m\u001b[0m\n\u001b[0m\u001b[0;32m     18\u001b[0m \u001b[1;33m\u001b[0m\u001b[0m\n\u001b[0;32m     19\u001b[0m \u001b[0mperm_15\u001b[0m \u001b[1;33m=\u001b[0m \u001b[0mpd\u001b[0m\u001b[1;33m.\u001b[0m\u001b[0mread_pickle\u001b[0m\u001b[1;33m(\u001b[0m\u001b[1;34m'perm'\u001b[0m\u001b[1;33m)\u001b[0m\u001b[1;33m\u001b[0m\u001b[0m\n",
      "\u001b[1;31mNameError\u001b[0m: name 'perm_all' is not defined"
     ]
    }
   ],
   "source": [
    "#import pandas as pd\n",
    "#import time\n",
    "#import matplotlib.pyplot as plt\n",
    "#import numpy as np\n",
    "#import seaborn as sns\n",
    "\n",
    "#%matplotlib inline\n",
    "\n",
    "#start_time = time.time()\n",
    "# Get the data\n",
    "#h1b = pd.read_csv('PERM_FY2015.csv', parse_dates=['DECISION_DATE', 'CASE_RECEIVED_DATE'], usecols = ['CASE_NUMBER', 'DECISION_DATE', 'CASE_STATUS', 'CASE_RECEIVED_DATE']) \n",
    "#perm = pd.read_csv('PERM_FY2015.csv', parse_dates=['DECISION_DATE', 'CASE_RECEIVED_DATE'], usecols = ['CASE_NUMBER', 'DECISION_DATE', 'CASE_STATUS', 'CASE_RECEIVED_DATE','EMPLOYER_NAME', 'EMPLOYER_POSTAL_CODE', 'PW_SOC_TITLE', 'PW_LEVEL_9089','WAGE_OFFER_FROM_9089', 'WAGE_OFFER_UNIT_OF_PAY_9089', 'JOB_INFO_WORK_CITY', 'JOB_INFO_WORK_STATE', 'JOB_INFO_WORK_POSTAL_CODE','COUNTRY_OF_CITIZENSHIP', 'CLASS_OF_ADMISSION'])\n",
    "#perm_all = pd.read_csv('PERM_FY2015.csv', parse_dates=['DECISION_DATE', 'CASE_RECEIVED_DATE'])\n",
    "\n",
    "# Save the data\n",
    "#perm.to_pickle('perm') #2015 data, few columns\n",
    "#perm_all.to_pickle('perm_all')# 2015 data, all columns\n",
    "\n",
    "#perm_15 = pd.read_pickle('perm')\n",
    "#perm_all_15 = pd.read_pickle('perm_all')\n",
    "\n",
    "#pd.set_option('display.max_rows', len(perm_all_15.columns))\n",
    "#pd.set_option('display.max_columns', len(perm_all_15.columns))\n",
    "\n",
    "#print \"My program took\", time.time() - start_time, \"to run\"\n",
    "#perm_15.head()\n"
   ]
  },
  {
   "cell_type": "code",
   "execution_count": 3,
   "metadata": {
    "collapsed": false
   },
   "outputs": [
    {
     "name": "stderr",
     "output_type": "stream",
     "text": [
      "C:\\Users\\Sneha\\Desktop\\Anaconda2\\lib\\site-packages\\IPython\\core\\interactiveshell.py:2723: DtypeWarning:\n",
      "\n",
      "Columns (9) have mixed types. Specify dtype option on import or set low_memory=False.\n",
      "\n",
      "C:\\Users\\Sneha\\Desktop\\Anaconda2\\lib\\site-packages\\IPython\\core\\interactiveshell.py:2723: DtypeWarning:\n",
      "\n",
      "Columns (16,122) have mixed types. Specify dtype option on import or set low_memory=False.\n",
      "\n"
     ]
    }
   ],
   "source": [
    "import pandas as pd\n",
    "import glob\n",
    "import time\n",
    "import matplotlib.pyplot as plt\n",
    "import numpy as np\n",
    "import seaborn as sns\n",
    "#import plotly \n",
    "#import plotly.plotly as py\n",
    "#import plotly.graph_objs as go\n",
    "#import plotly.tools as tls\n",
    "import us\n",
    "import os\n",
    "#plotly.tools.set_credentials_file(username='sneharavi15', api_key='w4b8nbp3q7')\n",
    "#perm15 = pd.read_csv('PERM_FY2015.csv', parse_dates=['DECISION_DATE', 'CASE_RECEIVED_DATE'], usecols = ['CASE_NUMBER', 'DECISION_DATE', 'CASE_STATUS', 'CASE_RECEIVED_DATE','EMPLOYER_NAME', 'EMPLOYER_POSTAL_CODE', 'PW_SOC_TITLE', 'PW_LEVEL_9089','WAGE_OFFER_FROM_9089', 'WAGE_OFFER_UNIT_OF_PAY_9089', 'JOB_INFO_WORK_CITY', 'JOB_INFO_WORK_STATE', 'JOB_INFO_WORK_POSTAL_CODE','COUNTRY_OF_CITIZENSHIP', 'CLASS_OF_ADMISSION'])\n",
    "#perm15.to_pickle('perm15')\n",
    "#perm_15 = pd.read_pickle('perm15')\n",
    "\n",
    "path = os.getcwd()\n",
    "allFiles = glob.glob(path + \"/*.csv\")\n",
    "frame = pd.DataFrame()\n",
    "list_ = []\n",
    "for file_ in allFiles:\n",
    "    df = pd.read_csv(file_,index_col=None, header=0)\n",
    "     \n",
    "    df.columns = [x.replace(' ', '_') for x in df.columns]\n",
    "    if 'COUNTRY_OF_CITZENSHIP' in df.columns:\n",
    "        df = df.rename(columns={'COUNTRY_OF_CITZENSHIP': 'COUNTRY_OF_CITIZENSHIP'})\n",
    "    if 'CASE_NO' in df.columns:\n",
    "        df = df.rename(columns={'CASE_NO': 'CASE_NUMBER'})\n",
    "    if 'WAGE_OFFERED_FROM_9089' in df.columns:\n",
    "        df = df.rename(columns={'WAGE_OFFERED_FROM_9089': 'WAGE_OFFER_FROM_9089'})\n",
    "    if 'FINAL_CASE_STATUS' in df.columns:\n",
    "        df = df.rename(columns={'FINAL_CASE_STATUS': 'CASE_STATUS'})\n",
    "    if 'RECEIVED_DATE' in df.columns:\n",
    "        df = df.rename(columns={'RECEIVED_DATE': 'CASE_RECEIVED_DATE'})\n",
    "    if 'ALIEN_CITIZENSHIP_COUNTRY' in df.columns:\n",
    "        df = df.rename(columns={'ALIEN_CITIZENSHIP_COUNTRY': 'COUNTRY_OF_CITIZENSHIP'})\n",
    "    if 'PREVAILING_WAGE_JOB_TITLE' in df.columns:\n",
    "        df = df.rename(columns={'PREVAILING_WAGE_JOB_TITLE': 'PW_JOB_TITLE_9089'})\n",
    "    if 'PREVAILING_WAGE_LEVEL' in df.columns:\n",
    "        df = df.rename(columns={'PREVAILING_WAGE_LEVEL': 'PW_LEVEL_9089'})  \n",
    "    if 'WAGE_OFFERED_FROM' in df.columns:\n",
    "        df = df.rename(columns={'WAGE_OFFERED_FROM': 'WAGE_OFFER_FROM_9089'}) \n",
    "    if 'WAGE_PER' in df.columns:\n",
    "        df = df.rename(columns={'WAGE_PER': 'WAGE_OFFER_UNIT_OF_PAY_9089'})\n",
    "    if 'WAGE_OFFERED_UNIT_OF_PAY_9089' in df.columns:\n",
    "        df = df.rename(columns={'WAGE_OFFERED_UNIT_OF_PAY_9089': 'WAGE_OFFER_UNIT_OF_PAY_9089'})\n",
    "    if file_ == 'C:\\Users\\Sneha\\Dropbox\\PythonProjects\\Visa\\PERM_FY2013.csv':\n",
    "        df['WAGE_OFFER_UNIT_OF_PAY_9089'] = df['PW_UNIT_OF_PAY_9089']\n",
    "    list_.append(df)\n",
    "frame = pd.concat(list_, keys=['08', '09', '10', '11', '12', '13', '14', '15', '16'])\n",
    "#frame[['CASE_NUMBER',  'DECISION_DATE', 'CASE_STATUS', 'CASE_RECEIVED_DATE','EMPLOYER_NAME', 'PW_JOB_TITLE_9089', 'PW_LEVEL_9089','WAGE_OFFER_FROM_9089', 'WAGE_OFFER_UNIT_OF_PAY_9089', 'JOB_INFO_WORK_CITY', 'JOB_INFO_WORK_STATE','COUNTRY_OF_CITIZENSHIP', 'CLASS_OF_ADMISSION']]\n",
    "#frame.loc['08'][['CASE_NUMBER',  'DECISION_DATE', 'CASE_STATUS', 'CASE_RECEIVED_DATE','EMPLOYER_NAME',  'PW_JOB_TITLE_9089', 'PW_LEVEL_9089','WAGE_OFFER_FROM_9089', 'WAGE_OFFER_UNIT_OF_PAY_9089', 'JOB_INFO_WORK_CITY', 'JOB_INFO_WORK_STATE','COUNTRY_OF_CITIZENSHIP', 'CLASS_OF_ADMISSION']]\n",
    "frame.to_pickle('frame')\n",
    "#if 'CERTIFIED_DATE' in df.columns and 'DENIED_DATE' in df.columns:\n",
    "#df['DECISION_DATE'] = pd.merge(df['CERTIFIED_DATE'], df['DENIED_DATE'])...."
   ]
  },
  {
   "cell_type": "code",
   "execution_count": 4,
   "metadata": {
    "collapsed": false
   },
   "outputs": [
    {
     "name": "stderr",
     "output_type": "stream",
     "text": [
      "C:\\Users\\Sneha\\Desktop\\Anaconda2\\lib\\site-packages\\ipykernel\\__main__.py:3: SettingWithCopyWarning:\n",
      "\n",
      "\n",
      "A value is trying to be set on a copy of a slice from a DataFrame.\n",
      "Try using .loc[row_indexer,col_indexer] = value instead\n",
      "\n",
      "See the caveats in the documentation: http://pandas.pydata.org/pandas-docs/stable/indexing.html#indexing-view-versus-copy\n",
      "\n",
      "C:\\Users\\Sneha\\Desktop\\Anaconda2\\lib\\site-packages\\ipykernel\\__main__.py:4: SettingWithCopyWarning:\n",
      "\n",
      "\n",
      "A value is trying to be set on a copy of a slice from a DataFrame.\n",
      "Try using .loc[row_indexer,col_indexer] = value instead\n",
      "\n",
      "See the caveats in the documentation: http://pandas.pydata.org/pandas-docs/stable/indexing.html#indexing-view-versus-copy\n",
      "\n"
     ]
    }
   ],
   "source": [
    "#perm = pd.read_pickle('frame')\n",
    "perm = frame[['CASE_NUMBER',  'DECISION_DATE', 'CASE_STATUS', 'CASE_RECEIVED_DATE','EMPLOYER_NAME', 'PW_JOB_TITLE_9089', 'PW_LEVEL_9089','WAGE_OFFER_FROM_9089', 'WAGE_OFFER_UNIT_OF_PAY_9089', 'JOB_INFO_WORK_CITY', 'JOB_INFO_WORK_STATE','COUNTRY_OF_CITIZENSHIP', 'CLASS_OF_ADMISSION']]\n",
    "perm['DECISION_DATE'] = pd.to_datetime(perm['DECISION_DATE'])\n",
    "perm['CASE_RECEIVED_DATE'] = pd.to_datetime(perm['CASE_RECEIVED_DATE'])\n",
    "perm.to_pickle('perm')"
   ]
  },
  {
   "cell_type": "code",
   "execution_count": 6,
   "metadata": {
    "collapsed": false
   },
   "outputs": [
    {
     "data": {
      "text/html": [
       "<script>requirejs.config({paths: { 'plotly': ['https://cdn.plot.ly/plotly-latest.min']},});if(!window.Plotly) {{require(['plotly'],function(plotly) {window.Plotly=plotly;});}}</script>"
      ],
      "text/plain": [
       "<IPython.core.display.HTML object>"
      ]
     },
     "metadata": {},
     "output_type": "display_data"
    },
    {
     "name": "stdout",
     "output_type": "stream",
     "text": [
      "622637 Total Applications\n",
      "We don't want the cases where they withdrew the application because they were not processed and it doesn't make sense to take them into account.\n",
      "593055 Total Applications Processesd\n",
      "529029 applications were accepted and 64026 applications were denied.\n",
      "CASE_NUMBER                         0\n",
      "DECISION_DATE                       0\n",
      "CASE_STATUS                         0\n",
      "CASE_RECEIVED_DATE             414997\n",
      "EMPLOYER_NAME                      29\n",
      "PW_JOB_TITLE_9089                4907\n",
      "PW_LEVEL_9089                   35884\n",
      "WAGE_OFFER_FROM_9089             3328\n",
      "WAGE_OFFER_UNIT_OF_PAY_9089      4367\n",
      "JOB_INFO_WORK_CITY                289\n",
      "JOB_INFO_WORK_STATE               267\n",
      "COUNTRY_OF_CITIZENSHIP            133\n",
      "CLASS_OF_ADMISSION              46733\n",
      "dtype: int64\n"
     ]
    }
   ],
   "source": [
    "#start here\n",
    "\n",
    "import pandas as pd\n",
    "import glob\n",
    "import time\n",
    "import matplotlib.pyplot as plt\n",
    "import numpy as np\n",
    "import seaborn as sns\n",
    "from plotly.offline import download_plotlyjs, init_notebook_mode, iplot\n",
    "init_notebook_mode(connected=True)\n",
    "from plotly.graph_objs import *\n",
    "import us\n",
    "import os\n",
    "\n",
    "\n",
    "perm_data = pd.read_pickle('perm')\n",
    "#print(perm_data.head())\n",
    "print(str(len(perm_data)) + ' Total Applications')\n",
    "print(\"We don't want the cases where they withdrew the application because they were not processed and it doesn't make sense to take them into account.\")\n",
    "perm_data = perm_data[perm_data['CASE_STATUS'].str.startswith('W') == False]\n",
    "print(str(len(perm_data)) + ' Total Applications Processesd')\n",
    "print(str(len(perm_data[perm_data['CASE_STATUS'].str.startswith(\"C\")])) + \" applications were accepted and \" + str(len(perm_data[perm_data['CASE_STATUS'].str.startswith(\"D\")]))+ \" applications were denied.\")\n",
    "\n",
    "\n",
    "print(perm_data.isnull().sum())\n",
    "#perm_data['CASE_STATUS'].str.upper()\n",
    "#for x in perm_data:\n",
    "#    perm_data[x] = perm_data[x].str.upper()\n",
    "    "
   ]
  },
  {
   "cell_type": "code",
   "execution_count": 7,
   "metadata": {
    "collapsed": false
   },
   "outputs": [
    {
     "data": {
      "text/html": [
       "<div id=\"47f7d593-7040-42b9-8b73-6a68117ead22\" style=\"height: 525px; width: 100%;\" class=\"plotly-graph-div\"></div><script type=\"text/javascript\">require([\"plotly\"], function(Plotly) { window.PLOTLYENV=window.PLOTLYENV || {};window.PLOTLYENV.BASE_URL=\"https://plot.ly\";Plotly.newPlot(\"47f7d593-7040-42b9-8b73-6a68117ead22\", [{\"y\": [48941, 43598, 87861, 59490, 65242, 37618, 74397, 93988, 66728], \"x\": [2008.0, 2009.0, 2010.0, 2011.0, 2012.0, 2013.0, 2014.0, 2015.0, 2016.0], \"type\": \"scatter\", \"name\": \"total number of apps\", \"mode\": \"lines+markers\"}, {\"y\": [9315, 5366, 11136, 8402, 8068, 5455, 4656, 6118, 2965], \"x\": [2008.0, 2009.0, 2010.0, 2011.0, 2012.0, 2013.0, 2014.0, 2015.0, 2016.0], \"type\": \"scatter\", \"name\": \"number of apps denied\", \"mode\": \"lines+markers\"}, {\"y\": [39626, 38232, 76725, 51088, 57174, 32163, 69741, 87870, 63763], \"x\": [2008.0, 2009.0, 2010.0, 2011.0, 2012.0, 2013.0, 2014.0, 2015.0, 2016.0], \"type\": \"scatter\", \"name\": \"number of apps accepted\", \"mode\": \"lines+markers\"}], {}, {\"linkText\": \"Export to plot.ly\", \"showLink\": true})});</script>"
      ],
      "text/plain": [
       "<IPython.core.display.HTML object>"
      ]
     },
     "metadata": {},
     "output_type": "display_data"
    }
   ],
   "source": [
    "#keys=['08', '09', '10', '11', '12', '13', '14', '15', '16']\n",
    "\n",
    "#trace5 = go.Scatter(x = years,y = perm_data_2.groupby([pd.DatetimeIndex(perm_data_2['DECISION_DATE']).year]).count()['CASE_NUMBER'][1:],mode = 'lines+markers', name = 'number of apps processed')\n",
    "appsperyear = perm_data.groupby([pd.DatetimeIndex(perm_data['DECISION_DATE']).year]).count()['CASE_NUMBER'][1:]\n",
    "appsdenaccperyear = perm_data.groupby([pd.DatetimeIndex(perm_data['DECISION_DATE']).year, perm_data['CASE_STATUS'].str.startswith(\"C\")]).count()['CASE_NUMBER'][2:]\n",
    "#appsdenaccperyear[::2]\n",
    "#appsdenaccperyear[1::2]\n",
    "years = np.linspace(2008, 2016, 9).tolist()\n",
    "\n",
    "trace1 = Scatter(x = years,y = appsperyear,mode = 'lines+markers', name = 'total number of apps')\n",
    "trace2 = Scatter(x = years,y = appsdenaccperyear[::2],mode = 'lines+markers', name = 'number of apps denied')\n",
    "trace3 = Scatter(x = years,y = appsdenaccperyear[1::2],mode = 'lines+markers', name = 'number of apps accepted')\n",
    "\n",
    "iplot([trace1, trace2, trace3], filename='trend in apps over years')"
   ]
  },
  {
   "cell_type": "code",
   "execution_count": 8,
   "metadata": {
    "collapsed": false
   },
   "outputs": [
    {
     "data": {
      "text/html": [
       "<div id=\"2513c402-f181-460b-b534-3ed6bc38b5ab\" style=\"height: 525px; width: 100%;\" class=\"plotly-graph-div\"></div><script type=\"text/javascript\">require([\"plotly\"], function(Plotly) { window.PLOTLYENV=window.PLOTLYENV || {};window.PLOTLYENV.BASE_URL=\"https://plot.ly\";Plotly.newPlot(\"2513c402-f181-460b-b534-3ed6bc38b5ab\", [{\"y\": [0.809668784863407, 0.8769209596770494, 0.8732543449311981, 0.8587661791897798, 0.8763373287146317, 0.8549896326226807, 0.9374168313238437, 0.934906583819211, 0.9555658793909603], \"x\": [2008.0, 2009.0, 2010.0, 2011.0, 2012.0, 2013.0, 2014.0, 2015.0, 2016.0], \"type\": \"scatter\", \"name\": \"percentage of apps accepted\", \"mode\": \"lines+markers\"}], {}, {\"linkText\": \"Export to plot.ly\", \"showLink\": true})});</script>"
      ],
      "text/plain": [
       "<IPython.core.display.HTML object>"
      ]
     },
     "metadata": {},
     "output_type": "display_data"
    }
   ],
   "source": [
    "trace4 = Scatter(x = years,y = np.array(appsdenaccperyear[1::2]).astype(float)/np.array(appsperyear),mode = 'lines+markers', name = 'percentage of apps accepted')\n",
    "#trace5 = go.Scatter(x = years,y = np.array(appsdenaccperyear[::2]).astype(float)/np.array(appsperyear),mode = 'lines+markers', name = 'percentage of apps denied')\n",
    "\n",
    "iplot([trace4], filename='trend in percentage over years')\n",
    "# do we have data for all 4 quarters?? in 2013?"
   ]
  },
  {
   "cell_type": "code",
   "execution_count": 9,
   "metadata": {
    "collapsed": false
   },
   "outputs": [
    {
     "data": {
      "image/png": "[encoded data removed]",
      "text/plain": [
       "<matplotlib.figure.Figure at 0xc1089e8>"
      ]
     },
     "metadata": {},
     "output_type": "display_data"
    },
    {
     "name": "stdout",
     "output_type": "stream",
     "text": [
      "It doesn't look like the dip in the number of applications in 2013 was because of missing data - data was collected over all 12 months\n"
     ]
    }
   ],
   "source": [
    "%matplotlib inline\n",
    "fig_size = plt.rcParams[\"figure.figsize\"]\n",
    "fig_size[0] = 20\n",
    "fig_size[1] = 9\n",
    "plt.rcParams[\"figure.figsize\"] = fig_size\n",
    "perm_data.groupby([pd.DatetimeIndex(perm_data['DECISION_DATE']).year, pd.DatetimeIndex(perm_data['DECISION_DATE']).month]).count()['CASE_NUMBER'][3:].plot(kind=\"bar\")\n",
    "plt.show()\n",
    "print(\"It doesn't look like the dip in the number of applications in 2013 was because of missing data - data was collected over all 12 months\")"
   ]
  },
  {
   "cell_type": "code",
   "execution_count": null,
   "metadata": {
    "collapsed": false
   },
   "outputs": [],
   "source": [
    "#Matches = timetakenest[pd.DatetimeIndex(perm_data['DECISION_DATE']).year == 2008] < 800\n",
    "#timetakenest[Matches[Matches].index].mean()\n",
    "#timetaken[pd.DatetimeIndex(perm_data['DECISION_DATE']).year == 2016].median()\n",
    "\n",
    "#perm_data.head()\n",
    "\n",
    "timetaken[pd.DatetimeIndex(perm_data['DECISION_DATE']).year == 2015].std()"
   ]
  },
  {
   "cell_type": "code",
   "execution_count": 10,
   "metadata": {
    "collapsed": false,
    "scrolled": false
   },
   "outputs": [
    {
     "name": "stdout",
     "output_type": "stream",
     "text": [
      "176\n",
      "mean days to process an application by 2016, this is only data until June\n",
      "66728\n",
      " number of apps processed till June 2016\n"
     ]
    },
    {
     "data": {
      "image/png": "[encoded data removed]",
      "text/plain": [
       "<matplotlib.figure.Figure at 0x256dd128>"
      ]
     },
     "metadata": {},
     "output_type": "display_data"
    },
    {
     "name": "stdout",
     "output_type": "stream",
     "text": [
      "286\n",
      "mean days to process an application by 2015\n",
      "309 days 04:41:26.346210\n",
      "mean days to process an application by June 2015\n",
      "40692\n",
      "applications processed by June 2015\n",
      "269 days 14:53:32.548784\n",
      "mean days to process an application between July and December 2015\n",
      "53296\n",
      "applications processed between July and December 2015\n"
     ]
    },
    {
     "data": {
      "image/png": "[encoded data removed]",
      "text/plain": [
       "<matplotlib.figure.Figure at 0x7be9f4a8>"
      ]
     },
     "metadata": {},
     "output_type": "display_data"
    },
    {
     "name": "stdout",
     "output_type": "stream",
     "text": [
      "389.787560532\n",
      "mean estimated days to process an application by 2008\n",
      "977.054176797\n",
      "mean estimated days to process an application by 2009\n",
      "805.13298278\n",
      "mean estimated days to process an application by 2010\n",
      "612.33494705\n",
      "mean estimated days to process an application by 2011\n",
      "476.413552619\n",
      "mean estimated days to process an application by 2012\n",
      "708.986256579\n",
      "mean estimated days to process an application by 2013\n",
      "763.013011277\n",
      "mean estimated days to process an application by 2014\n",
      "836.979720815\n",
      "mean estimated days to process an application by 2015\n",
      "741.802721496\n",
      "mean estimated days to process an application by 2016\n",
      "Case Number is quite off\n"
     ]
    }
   ],
   "source": [
    "timetaken = perm_data['DECISION_DATE'] - perm_data['CASE_RECEIVED_DATE']\n",
    "case_numbers_dec = perm_data['DECISION_DATE'].dt.year.astype(str).str[2:4]+perm_data['DECISION_DATE'].dt.strftime('%j')\n",
    "case_numbers_rec = perm_data['CASE_NUMBER'].str[2:7].astype(int)\n",
    "timetakenest = case_numbers_dec.astype(int) - case_numbers_rec\n",
    "#print(timetakenest)\n",
    "#print(timetaken)\n",
    "\n",
    "#print(timetaken.astype('timedelta64[D]').astype(int))\n",
    "print(timetaken[pd.DatetimeIndex(perm_data['DECISION_DATE']).year == 2016].mean().days)\n",
    "print(\"mean days to process an application by 2016, this is only data until June\")\n",
    "\n",
    "#print(timetakenest[pd.DatetimeIndex(perm_data['DECISION_DATE']).year == 2016].mean())\n",
    "#print(\"mean estimated days to process an application by 2016\")\n",
    "\n",
    "print(len(timetakenest[pd.DatetimeIndex(perm_data['DECISION_DATE']).year == 2016]))\n",
    "print(\" number of apps processed till June 2016\")\n",
    "\n",
    "plt.hist(timetaken[pd.DatetimeIndex(perm_data['DECISION_DATE']).year == 2016].astype('timedelta64[D]').astype(int), 50)\n",
    "plt.show()\n",
    "\n",
    "print(timetaken[pd.DatetimeIndex(perm_data['DECISION_DATE']).year == 2015].mean().days)\n",
    "print(\"mean days to process an application by 2015\")\n",
    "\n",
    "#print(timetakenest[pd.DatetimeIndex(perm_data['DECISION_DATE']).year == 2015].mean())\n",
    "#print(\"mean estimated days to process an application by 2015\")\n",
    "\n",
    "print(timetaken[np.logical_and(pd.DatetimeIndex(perm_data['DECISION_DATE']).year == 2015, pd.DatetimeIndex(perm_data['DECISION_DATE']).month < 7)].mean())\n",
    "print(\"mean days to process an application by June 2015\")\n",
    "\n",
    "print(len(timetaken[np.logical_and(pd.DatetimeIndex(perm_data['DECISION_DATE']).year == 2015, pd.DatetimeIndex(perm_data['DECISION_DATE']).month < 7)]))\n",
    "print(\"applications processed by June 2015\")\n",
    "\n",
    "print(timetaken[np.logical_and(pd.DatetimeIndex(perm_data['DECISION_DATE']).year == 2015, pd.DatetimeIndex(perm_data['DECISION_DATE']).month > 6)].mean())\n",
    "print(\"mean days to process an application between July and December 2015\")\n",
    "\n",
    "print(len(timetaken[np.logical_and(pd.DatetimeIndex(perm_data['DECISION_DATE']).year == 2015, pd.DatetimeIndex(perm_data['DECISION_DATE']).month > 6)]))\n",
    "print(\"applications processed between July and December 2015\")\n",
    "\n",
    "#stats tests? - difference over last 3 quarters - increase in no of apps processed and decrease in time\n",
    "\n",
    "plt.hist(timetaken[pd.DatetimeIndex(perm_data['DECISION_DATE']).year == 2015].astype('timedelta64[D]').astype(int), 50)\n",
    "plt.show()\n",
    "\n",
    "yrs = [2008, 2009, 2010, 2011, 2012, 2013, 2014, 2015, 2016]\n",
    "for y in yrs:\n",
    "    print(timetakenest[pd.DatetimeIndex(perm_data['DECISION_DATE']).year == y].mean())\n",
    "    print(\"mean estimated days to process an application by \" + str(y))\n",
    "\n",
    "print(\"Case Number is quite off\")\n",
    "\n",
    "#timetaken[pd.DatetimeIndex(perm_data['DECISION_DATE']).year == 2014].isnull().sum()\n",
    "\n",
    "\n",
    "\n",
    "#denied_15 = perm_15[perm_15['CASE_STATUS'].str.contains(\"Denied\")]\n",
    "#accepted_15 = perm_15[perm_15['CASE_STATUS'].str.contains(\"Certified\")]\n",
    "\n",
    "#num_days_denied = (denied_15['DECISION_DATE'] - denied_15['CASE_RECEIVED_DATE']).astype('timedelta64[D]').astype(int)\n",
    "#print('It took on average ' + str(num_days_denied.mean()) +' days to deny an application')\n",
    "#print('It took on median ' + str(num_days_denied.median()) +' days to deny an application')\n",
    "\n",
    "#data = [go.Histogram(x=num_days_denied)]\n",
    "#layout = go.Layout(title='Distribution of number of days to deny an application', xaxis=dict(title='No of days'),yaxis=dict(title='Frequency'))\n",
    "#fig = go.Figure(data=data, layout=layout)\n",
    "#py.iplot(fig)\n"
   ]
  },
  {
   "cell_type": "code",
   "execution_count": 11,
   "metadata": {
    "collapsed": false
   },
   "outputs": [
    {
     "ename": "NameError",
     "evalue": "name 'h1b_15' is not defined",
     "output_type": "error",
     "traceback": [
      "\u001b[1;31m---------------------------------------------------------------------------\u001b[0m",
      "\u001b[1;31mNameError\u001b[0m                                 Traceback (most recent call last)",
      "\u001b[1;32m<ipython-input-11-7f7bd0aa212f>\u001b[0m in \u001b[0;36m<module>\u001b[1;34m()\u001b[0m\n\u001b[0;32m      1\u001b[0m \u001b[1;33m\u001b[0m\u001b[0m\n\u001b[0;32m      2\u001b[0m \u001b[1;33m\u001b[0m\u001b[0m\n\u001b[1;32m----> 3\u001b[1;33m \u001b[0mplt\u001b[0m\u001b[1;33m.\u001b[0m\u001b[0mscatter\u001b[0m\u001b[1;33m(\u001b[0m\u001b[0mcase_numbers_rec\u001b[0m\u001b[1;33m.\u001b[0m\u001b[0mastype\u001b[0m\u001b[1;33m(\u001b[0m\u001b[0mint\u001b[0m\u001b[1;33m)\u001b[0m\u001b[1;33m,\u001b[0m \u001b[0mh1b_15\u001b[0m\u001b[1;33m[\u001b[0m\u001b[1;34m'CASE_NUMBER'\u001b[0m\u001b[1;33m]\u001b[0m\u001b[1;33m.\u001b[0m\u001b[0mstr\u001b[0m\u001b[1;33m[\u001b[0m\u001b[1;36m2\u001b[0m\u001b[1;33m:\u001b[0m\u001b[1;36m7\u001b[0m\u001b[1;33m]\u001b[0m\u001b[1;33m.\u001b[0m\u001b[0mastype\u001b[0m\u001b[1;33m(\u001b[0m\u001b[0mint\u001b[0m\u001b[1;33m)\u001b[0m\u001b[1;33m)\u001b[0m\u001b[1;33m\u001b[0m\u001b[0m\n\u001b[0m\u001b[0;32m      4\u001b[0m \u001b[0mplt\u001b[0m\u001b[1;33m.\u001b[0m\u001b[0mxlabel\u001b[0m\u001b[1;33m(\u001b[0m\u001b[1;34m'Case Received Date'\u001b[0m\u001b[1;33m)\u001b[0m\u001b[1;33m\u001b[0m\u001b[0m\n\u001b[0;32m      5\u001b[0m \u001b[0mplt\u001b[0m\u001b[1;33m.\u001b[0m\u001b[0mylabel\u001b[0m\u001b[1;33m(\u001b[0m\u001b[1;34m'Case Number'\u001b[0m\u001b[1;33m)\u001b[0m\u001b[1;33m\u001b[0m\u001b[0m\n",
      "\u001b[1;31mNameError\u001b[0m: name 'h1b_15' is not defined"
     ]
    }
   ],
   "source": [
    "\n",
    "\n",
    "plt.scatter(case_numbers_rec.astype(int), h1b_15['CASE_NUMBER'].str[2:7].astype(int))\n",
    "plt.xlabel('Case Received Date')\n",
    "plt.ylabel('Case Number')\n",
    "plt.show()\n",
    "\n",
    "disc = case_numbers_rec.astype(int) - h1b_15['CASE_NUMBER'].str[2:7].astype(int)\n",
    "plt.hist(filter(lambda x : x > 0, disc), 50)\n",
    "plt.show()\n",
    "#map(lambda disc: disc<30, seq).index(True)\n",
    "#[x for x in a if x<=4]\n",
    "print(len(filter(lambda x : x < 0, disc)))\n",
    "#print(disc.argmin())\n",
    "print(h1b_15.loc[disc.argmin()])\n",
    "\n",
    "num_days = (h1b_15['DECISION_DATE'] - h1b_15['CASE_RECEIVED_DATE']).astype('timedelta64[D]').astype(int)\n",
    "plt.hist(num_days,50)\n",
    "plt.show()\n",
    "\n",
    "h1b_15_cert = h1b_15[h1b_15['CASE_STATUS'].str.contains('Denied') == False]\n",
    "num_days_cert = (h1b_15_cert['DECISION_DATE'] - h1b_15_cert['CASE_RECEIVED_DATE']).astype('timedelta64[D]').astype(int)\n",
    "plt.hist(num_days_cert,50)\n",
    "plt.show()\n",
    "h1b_15.iloc[num_days_cert.argmax()]\n",
    "plt.hist(filter(lambda x : x < 700, num_days_cert),50)\n",
    "plt.show()"
   ]
  },
  {
   "cell_type": "code",
   "execution_count": null,
   "metadata": {
    "collapsed": false
   },
   "outputs": [],
   "source": [
    "\n",
    "\n",
    "noapps = []\n",
    "noappsdenied = []\n",
    "noappsaccepted = []\n",
    "for k in keys:\n",
    "    noapps.append(len(perm_data_2.loc[k]))\n",
    "    noappsdenied.append(len(perm_data_2.loc[k][perm_data_2.loc[k]['CASE_STATUS'].str.startswith(\"D\")]))\n",
    "    noappsaccepted.append(len(perm_data_2.loc[k][perm_data_2.loc[k]['CASE_STATUS'].str.startswith(\"C\")]))\n",
    "    \n",
    "#print (range(2008:2016))\n",
    "print noapps\n",
    "print noappsdenied\n",
    "print noappsaccepted\n",
    "\n",
    "years = np.linspace(2008, 2016, 9).tolist()\n",
    "print(years)\n",
    "\n",
    "trace1 = Scatter(x = years,y = noapps,mode = 'lines+markers', name = 'total number of apps')\n",
    "trace2 = Scatter(x = years,y = noappsdenied,mode = 'lines+markers', name = 'number of apps denied')\n",
    "trace3 = go.Scatter(x = years,y = noappsaccepted,mode = 'lines+markers', name = 'number of apps accepted')\n",
    "perm_data_2.groupby([pd.DatetimeIndex(perm_data_2['DECISION_DATE']).year]).count()['CASE_NUMBER'][1:]\n",
    "trace5 = go.Scatter(x = years,y = perm_data_2.groupby([pd.DatetimeIndex(perm_data_2['DECISION_DATE']).year]).count()['CASE_NUMBER'][1:],mode = 'lines+markers', name = 'number of apps processed')\n",
    "\n",
    "py.iplot([trace1, trace2, trace3, trace5], filename='trend in apps over years')\n",
    "\n"
   ]
  },
  {
   "cell_type": "code",
   "execution_count": null,
   "metadata": {
    "collapsed": false
   },
   "outputs": [],
   "source": [
    "trace4 = go.Scatter(x = years,y = np.array(noappsaccepted).astype(float)/np.array(noapps),mode = 'lines+markers', name = 'percentage of apps accepted')\n",
    "py.iplot([trace4], filename='trend in percentage over years')\n",
    "# do we have data for all 4 quarters?? in 2013?"
   ]
  },
  {
   "cell_type": "code",
   "execution_count": null,
   "metadata": {
    "collapsed": false
   },
   "outputs": [],
   "source": []
  },
  {
   "cell_type": "code",
   "execution_count": null,
   "metadata": {
    "collapsed": false
   },
   "outputs": [],
   "source": []
  },
  {
   "cell_type": "code",
   "execution_count": null,
   "metadata": {
    "collapsed": false
   },
   "outputs": [],
   "source": [
    "# Read only 2015 data\n",
    "perm_15 = pd.read_pickle('perm')\n",
    "perm_all_15 = pd.read_pickle('perm_all')\n",
    "# Null values\n",
    "\n",
    "print(len(perm_15))\n",
    "print(perm_15.isnull().sum())\n",
    "perm_15 = perm_15.dropna(how='any')\n",
    "print(len(perm_15.dropna(how='any')))\n",
    "#perm_15.isnull().sum().argmax()\n",
    "# keeps the original row values from the csv file just deletes those rowws in between"
   ]
  },
  {
   "cell_type": "code",
   "execution_count": null,
   "metadata": {
    "collapsed": false
   },
   "outputs": [],
   "source": [
    "print(\"We don't want the cases where they withdrew the application because they were not processed and it doesn't make sense to take them into account.\")\n",
    "perm_15 = perm_15[perm_15['CASE_STATUS'].str.contains('Withdrawn') == False]\n",
    "print(len(perm_15))\n",
    "\n",
    "print(str(len(perm_15[perm_15['CASE_STATUS'].str.contains(\"Certified\")])) + \" applications were accepted and \" + str(len(perm_15[perm_15['CASE_STATUS'].str.contains(\"Denied\")]))+ \" applications were denied.\")\n",
    "\n",
    "#case_numbers_rec = perm_15['CASE_RECEIVED_DATE'].dt.year.astype(str).str[2:4]+h1b_15['CASE_RECEIVED_DATE'].dt.strftime('%j')\n",
    "perm_15['CASE_NUMBER'].str[2:7].astype(int)"
   ]
  },
  {
   "cell_type": "markdown",
   "metadata": {},
   "source": [
    "### Why were some applications denied? ###"
   ]
  },
  {
   "cell_type": "code",
   "execution_count": null,
   "metadata": {
    "collapsed": false
   },
   "outputs": [],
   "source": [
    "denied_15 = perm_15[perm_15['CASE_STATUS'].str.contains(\"Denied\")]\n",
    "accepted_15 = perm_15[perm_15['CASE_STATUS'].str.contains(\"Certified\")]\n",
    "\n",
    "num_days_denied = (denied_15['DECISION_DATE'] - denied_15['CASE_RECEIVED_DATE']).astype('timedelta64[D]').astype(int)\n",
    "print('It took on average ' + str(num_days_denied.mean()) +' days to deny an application')\n",
    "print('It took on median ' + str(num_days_denied.median()) +' days to deny an application')\n",
    "\n",
    "data = [go.Histogram(x=num_days_denied)]\n",
    "layout = go.Layout(title='Distribution of number of days to deny an application', xaxis=dict(title='No of days'),yaxis=dict(title='Frequency'))\n",
    "fig = go.Figure(data=data, layout=layout)\n",
    "py.iplot(fig)\n",
    "\n",
    "#denied_15[\"WAGE_OFFER_FROM_9089\"].astype(float)\n",
    "#sns.distplot(denied_15[\"WAGE_OFFER_FROM_9089\"].astype(int), kde=False, bins=20)\n",
    "\n",
    "#denied_15[\"WAGE_OFFER_FROM_9089\"].astype(float)\n",
    "#denied_15[\"PW_LEVEL_9089\"].str[6:]\n",
    "#.astype(int)\n",
    "#import roman;\n",
    "#n=roman.fromRoman(\"X\"); #n becomes 10\n"
   ]
  },
  {
   "cell_type": "code",
   "execution_count": null,
   "metadata": {
    "collapsed": false
   },
   "outputs": [],
   "source": [
    "num_days_accepted = (accepted_15['DECISION_DATE'] - accepted_15['CASE_RECEIVED_DATE']).astype('timedelta64[D]').astype(int)\n",
    "data = [go.Histogram(x=num_days_accepted)]\n",
    "layout = go.Layout(title='Distribution of number of days to accept an application', xaxis=dict(title='No of days'),yaxis=dict(title='Frequency'))\n",
    "fig = go.Figure(data=data, layout=layout)\n",
    "py.iplot(fig)\n"
   ]
  },
  {
   "cell_type": "code",
   "execution_count": null,
   "metadata": {
    "collapsed": false
   },
   "outputs": [],
   "source": [
    "trace1 = go.Histogram(x=num_days_accepted, name='accepted visas',marker=dict(color='rgb(0, 0, 255)'),opacity=0.5)\n",
    "trace2 = go.Histogram(x=num_days_denied, name='denied visas',marker=dict(color='rgb(200, 0, 200)'),opacity=0.5)\n",
    "data = [trace1, trace2]\n",
    "layout = go.Layout(title='Distribution of number of days to accept an application', xaxis=dict(title='No of days'),yaxis=dict(title='Frequency'), barmode='overlay')\n",
    "fig = go.Figure(data=data, layout=layout)\n",
    "py.iplot(fig)\n"
   ]
  },
  {
   "cell_type": "code",
   "execution_count": null,
   "metadata": {
    "collapsed": false
   },
   "outputs": [],
   "source": [
    "#Some zip codes have 6+ 4 digits instead of 6, so take the first 6\n",
    "#Some Job Postal Codes are not right - they are the state name, so set them to be the employer postal code\n",
    "print(perm_15['JOB_INFO_WORK_POSTAL_CODE'].loc[pd.to_numeric(perm_15['JOB_INFO_WORK_POSTAL_CODE'].str[:5], errors='coerce').isnull()])\n",
    "perm_15['JOB_INFO_WORK_POSTAL_CODE'].loc[pd.to_numeric(perm_15['JOB_INFO_WORK_POSTAL_CODE'].str[:5], errors='coerce').isnull()] = perm_15['EMPLOYER_POSTAL_CODE'].loc[pd.to_numeric(perm_15['JOB_INFO_WORK_POSTAL_CODE'].str[:5], errors='coerce').isnull()]\n",
    "\n",
    "# Job Postal Code is probably right, but older files only have Employer Postal Code - Is this the same as the Job Postal Code?\n",
    "#Some Emplyer Postal Codes are keyed in wrongly, Some employers are outside the states but the jobs are in the states - so swap the job postal codes here\n",
    "# Bot the older files have Job Work City and State so I can convert those to Postal Codes, but it would be easier to just use the employer postal codes if these are accurate\n",
    "\n",
    "print(perm_15['EMPLOYER_POSTAL_CODE'].loc[pd.to_numeric(perm_15['EMPLOYER_POSTAL_CODE'].str[:5], errors='coerce').isnull()])\n",
    "perm_15['EMPLOYER_POSTAL_CODE'].loc[pd.to_numeric(perm_15['EMPLOYER_POSTAL_CODE'].str[:5], errors='coerce').isnull()] = perm_15['JOB_INFO_WORK_POSTAL_CODE'].loc[pd.to_numeric(perm_15['EMPLOYER_POSTAL_CODE'].str[:5], errors='coerce').isnull()]\n",
    "\n",
    "# Convert all postal codes to int\n",
    "perm_15['EMPLOYER_POSTAL_CODE']= perm_15['EMPLOYER_POSTAL_CODE'].str[:5]\n",
    "perm_15['JOB_INFO_WORK_POSTAL_CODE']= perm_15['JOB_INFO_WORK_POSTAL_CODE'].str[:5]\n",
    "\n",
    "perm_15['EMPLOYER_POSTAL_CODE'] = perm_15['EMPLOYER_POSTAL_CODE'].astype(int)\n",
    "perm_15['JOB_INFO_WORK_POSTAL_CODE'] = perm_15['JOB_INFO_WORK_POSTAL_CODE'].astype(int)\n",
    "\n",
    "#print(perm_15['JOB_INFO_WORK_POSTAL_CODE'])\n",
    "#print(perm_15['EMPLOYER_POSTAL_CODE'])\n",
    "spc = perm_15['JOB_INFO_WORK_POSTAL_CODE']-perm_15['EMPLOYER_POSTAL_CODE']\n",
    "print(\"Employer Location indicates Job Location \" + str((float(len(filter(lambda x : x == 0, spc)))/len(spc))*100) + \" % of the time.\")\n"
   ]
  },
  {
   "cell_type": "code",
   "execution_count": null,
   "metadata": {
    "collapsed": false
   },
   "outputs": [],
   "source": [
    "data = [go.Histogram(x=spc)]\n",
    "layout = go.Layout(title='Distribution of how different employer postal codes and job postal codes are', xaxis=dict(title='Difference in postal codes'),yaxis=dict(title='Frequency'))\n",
    "fig = go.Figure(data=data, layout=layout)\n",
    "py.iplot(fig)"
   ]
  },
  {
   "cell_type": "code",
   "execution_count": null,
   "metadata": {
    "collapsed": false
   },
   "outputs": [],
   "source": [
    "# I think states could be better than postal codes for visualization\n",
    "gbstates = perm_15.groupby(['JOB_INFO_WORK_STATE']).size().reset_index(name='count')\n",
    "# only keep 50 states to make plotting maps easier\n",
    "todrop = [ 'FEDERATED STATES OF MICRONESIA', 'GUAM', 'MARSHALL ISLANDS','NORTHERN MARIANA ISLANDS', 'PUERTO RICO', 'VIRGIN ISLANDS']\n",
    "# Why is UTAH being a problem?\n",
    "#todrop = ['UTAH', 'FEDERATED STATES OF MICRONESIA', 'GUAM', 'MARSHALL ISLANDS','NORTHERN MARIANA ISLANDS', 'PUERTO RICO', 'VIRGIN ISLANDS']\n",
    "\n",
    "for d in todrop:\n",
    "    gbstates = gbstates[gbstates['JOB_INFO_WORK_STATE'] != d]\n",
    "gbstates.index = range(len(gbstates))\n",
    "\n",
    "# Create state abbreviations\n",
    "gbstates['JOB_INFO_WORK_STATE_ABBR'] = \"\"\n",
    "\n",
    "for i, p in enumerate(gbstates['JOB_INFO_WORK_STATE_ABBR']):\n",
    "    gbstates['JOB_INFO_WORK_STATE_ABBR'][i] = str(us.states.lookup(unicode(gbstates['JOB_INFO_WORK_STATE'][i])).abbr) \n",
    "#print(gbstates)\n",
    "#us.states.lookup(unicode(gbstates['JOB_INFO_WORK_STATE'][44])).abbr\n"
   ]
  },
  {
   "cell_type": "code",
   "execution_count": null,
   "metadata": {
    "collapsed": false
   },
   "outputs": [],
   "source": [
    "#sns.color_palette(\"Blues\")\n",
    "#sns.palplot(sns.cubehelix_palette(15, start=0, rot=0, dark=0.2, light=1)).fig.show()\n",
    "\n",
    "scl = map(str,(np.array(sns.cubehelix_palette(15, start=0, rot=0, dark=0.2, light=0.95))*255).astype(int))\n",
    "scl = [w.replace('[ ','rgb(') for w in scl]\n",
    "scl = [w.replace('[','rgb(') for w in scl]\n",
    "scl= [w.replace(']',')') for w in scl]\n",
    "scl= [w.replace('  ',' ') for w in scl]\n",
    "scl= [w.replace(' ',',') for w in scl]\n",
    "fr = np.linspace(0.0, 1.0, 15).tolist()\n",
    "\n",
    "clrscl = [list(a) for a in zip(fr, scl)]\n",
    "#print clrscl\n",
    "\n",
    "gbstates['text'] = gbstates['JOB_INFO_WORK_STATE_ABBR'] + '<br>' +\\\n",
    "    'Number of applications '+ gbstates['count'].astype(str)\n",
    "\n",
    "data = [ dict(type='choropleth',colorscale = clrscl,autocolorscale = False,locations = gbstates['JOB_INFO_WORK_STATE_ABBR'],\n",
    "        z = gbstates['count'],\n",
    "        locationmode = 'USA-states',\n",
    "        text = gbstates['text'],\n",
    "        marker = dict(\n",
    "            line = dict (\n",
    "                color = 'rgb(255,255,255)',\n",
    "                width = 2\n",
    "            )\n",
    "        ),\n",
    "        colorbar = dict(\n",
    "            title = \"Number of applications\"\n",
    "        )\n",
    "    ) ]\n",
    "\n",
    "layout = dict(title = 'Number of Applications by State<br>(Hover for breakdown)',geo = dict(scope='usa',projection=dict( type='albers usa' ),showlakes = True,lakecolor = 'rgb(255, 255, 255)'))\n",
    "fig = dict(data=data, layout=layout)\n",
    "py.iplot(fig, filename='d3-cloropleth-map')"
   ]
  },
  {
   "cell_type": "code",
   "execution_count": null,
   "metadata": {
    "collapsed": false
   },
   "outputs": [],
   "source": [
    "from iso3166 import countries\n",
    "perm_15['COUNTRY_OF_CITIZENSHIP']\n",
    "gbcountries = perm_15.groupby(['COUNTRY_OF_CITIZENSHIP']).size().reset_index(name='count')\n",
    "# only keep 50 states to make plotting maps easier\n",
    "#todrop = [ 'FEDERATED STATES OF MICRONESIA', 'GUAM', 'MARSHALL ISLANDS','NORTHERN MARIANA ISLANDS', 'PUERTO RICO', 'VIRGIN ISLANDS']\n",
    "# Why is UTAH being a problem?\n",
    "#todrop = ['UTAH', 'FEDERATED STATES OF MICRONESIA', 'GUAM', 'MARSHALL ISLANDS','NORTHERN MARIANA ISLANDS', 'PUERTO RICO', 'VIRGIN ISLANDS']\n",
    "\n",
    "#for d in todrop:\n",
    "#    gbstates = gbstates[gbstates['JOB_INFO_WORK_STATE'] != d]\n",
    "#gbstates.index = range(len(gbstates))\n",
    "\n",
    "# Create state abbreviations\n",
    "gbcountries['COUNTRY_OF_CITIZENSHIP_ABBR'] = \"\"\n",
    "for i, p in enumerate(gbcountries['COUNTRY_OF_CITIZENSHIP']):\n",
    "    gbcountries['COUNTRY_OF_CITIZENSHIP_ABBR'][i] = countries.get(p).alpha3\n",
    "    print gbcountries['COUNTRY_OF_CITIZENSHIP_ABBR'][i]\n",
    "#for i, p in enumerate(gbstates['JOB_INFO_WORK_STATE_ABBR']):\n",
    "#    gbstates['JOB_INFO_WORK_STATE_ABBR'][i] = str(us.states.lookup(unicode(gbstates['JOB_INFO_WORK_STATE'][i])).abbr) \n",
    "#print(gbstates)\n",
    "#us.states.lookup(unicode(gbstates['JOB_INFO_WORK_STATE'][44])).abbr\n",
    "#gbcountries\n"
   ]
  },
  {
   "cell_type": "code",
   "execution_count": null,
   "metadata": {
    "collapsed": false
   },
   "outputs": [],
   "source": [
    "countries.get('BOLIVIA')"
   ]
  },
  {
   "cell_type": "code",
   "execution_count": null,
   "metadata": {
    "collapsed": false
   },
   "outputs": [],
   "source": [
    "df = pd.read_csv('https://raw.githubusercontent.com/plotly/datasets/master/2014_world_gdp_with_codes.csv')\n",
    "print df['CODE']\n",
    "data = [ dict(\n",
    "        type = 'choropleth',\n",
    "        locations = df['CODE'],\n",
    "        z = df['GDP (BILLIONS)'],\n",
    "        text = df['COUNTRY'],\n",
    "        colorscale = [[0,\"rgb(5, 10, 172)\"],[0.35,\"rgb(40, 60, 190)\"],[0.5,\"rgb(70, 100, 245)\"],\\\n",
    "            [0.6,\"rgb(90, 120, 245)\"],[0.7,\"rgb(106, 137, 247)\"],[1,\"rgb(220, 220, 220)\"]],\n",
    "        autocolorscale = False,\n",
    "        reversescale = True,\n",
    "        marker = dict(\n",
    "            line = dict (\n",
    "                color = 'rgb(180,180,180)',\n",
    "                width = 0.5\n",
    "            )\n",
    "        ),\n",
    "        tick0 = 0,\n",
    "        zmin = 0,\n",
    "        dtick = 1000,\n",
    "        colorbar = dict(\n",
    "            autotick = False,\n",
    "            tickprefix = '$',\n",
    "            title = 'GDP<br>Billions US$'\n",
    "        ),\n",
    "    ) ]\n",
    "\n",
    "layout = dict(\n",
    "    title = '2014 Global GDP<br>Source: \\\n",
    "<a href=\"https://www.cia.gov/library/publications/the-world-factbook/fields/2195.html\">\\\n",
    "CIA World Factbook</a>',\n",
    "    geo = dict(\n",
    "        showframe = False,\n",
    "        showcoastlines = False,\n",
    "        projection = dict(\n",
    "            type = 'Mercator'\n",
    "        )\n",
    "    )\n",
    ")\n",
    "\n",
    "fig = dict( data=data, layout=layout )\n",
    "url = py.plot(fig, filename='d3-world-map')"
   ]
  },
  {
   "cell_type": "code",
   "execution_count": null,
   "metadata": {
    "collapsed": false
   },
   "outputs": [],
   "source": []
  },
  {
   "cell_type": "code",
   "execution_count": null,
   "metadata": {
    "collapsed": false
   },
   "outputs": [],
   "source": [
    "\n"
   ]
  },
  {
   "cell_type": "code",
   "execution_count": null,
   "metadata": {
    "collapsed": false
   },
   "outputs": [],
   "source": []
  },
  {
   "cell_type": "code",
   "execution_count": null,
   "metadata": {
    "collapsed": false
   },
   "outputs": [],
   "source": [
    "\n",
    "#pd.set_option('display.max_columns', 130)\n",
    "\n",
    "\n",
    "plt.scatter(case_numbers_rec.astype(int), h1b_15['CASE_NUMBER'].str[2:7].astype(int))\n",
    "plt.xlabel('Case Received Date')\n",
    "plt.ylabel('Case Number')\n",
    "plt.show()\n",
    "\n",
    "disc = case_numbers_rec.astype(int) - h1b_15['CASE_NUMBER'].str[2:7].astype(int)\n",
    "plt.hist(filter(lambda x : x > 0, disc), 50)\n",
    "plt.show()\n",
    "#map(lambda disc: disc<30, seq).index(True)\n",
    "#[x for x in a if x<=4]\n",
    "print(len(filter(lambda x : x < 0, disc)))\n",
    "#print(disc.argmin())\n",
    "print(h1b_15.loc[disc.argmin()])\n",
    "\n",
    "num_days = (h1b_15['DECISION_DATE'] - h1b_15['CASE_RECEIVED_DATE']).astype('timedelta64[D]').astype(int)\n",
    "plt.hist(num_days,50)\n",
    "plt.show()\n",
    "\n",
    "h1b_15_cert = h1b_15[h1b_15['CASE_STATUS'].str.contains('Denied') == False]\n",
    "num_days_cert = (h1b_15_cert['DECISION_DATE'] - h1b_15_cert['CASE_RECEIVED_DATE']).astype('timedelta64[D]').astype(int)\n",
    "plt.hist(num_days_cert,50)\n",
    "plt.show()\n",
    "h1b_15.iloc[num_days_cert.argmax()]\n",
    "plt.hist(filter(lambda x : x < 700, num_days_cert),50)\n",
    "plt.show()"
   ]
  },
  {
   "cell_type": "code",
   "execution_count": null,
   "metadata": {
    "collapsed": false
   },
   "outputs": [],
   "source": []
  },
  {
   "cell_type": "code",
   "execution_count": null,
   "metadata": {
    "collapsed": false
   },
   "outputs": [],
   "source": [
    "type(h1b_15.iloc[0,1])"
   ]
  },
  {
   "cell_type": "code",
   "execution_count": null,
   "metadata": {
    "collapsed": false
   },
   "outputs": [],
   "source": [
    "num_days = (h1b_15['DECISION_DATE'] - h1b_15['CASE_RECEIVED_DATE']).astype('timedelta64[D]').astype(int)\n",
    "plt.hist(num_days,50)\n",
    "plt.show()"
   ]
  },
  {
   "cell_type": "code",
   "execution_count": null,
   "metadata": {
    "collapsed": false
   },
   "outputs": [],
   "source": [
    "h1b_15_cert = h1b_15[h1b_15['CASE_STATUS'].str.contains('Denied') == False]\n",
    "num_days_cert = (h1b_15_cert['DECISION_DATE'] - h1b_15_cert['CASE_RECEIVED_DATE']).astype('timedelta64[D]').astype(int)\n",
    "plt.hist(num_days_cert,50)\n",
    "plt.show()\n",
    "h1b_15.iloc[num_days_cert.argmax()]\n",
    "plt.hist(filter(lambda x : x < 700, num_days_cert),50)\n",
    "plt.show()"
   ]
  },
  {
   "cell_type": "code",
   "execution_count": null,
   "metadata": {
    "collapsed": false
   },
   "outputs": [],
   "source": []
  },
  {
   "cell_type": "code",
   "execution_count": null,
   "metadata": {
    "collapsed": false
   },
   "outputs": [],
   "source": [
    "h1b_15[\"PW_SOC_TITLE\"]"
   ]
  },
  {
   "cell_type": "code",
   "execution_count": null,
   "metadata": {
    "collapsed": false
   },
   "outputs": [],
   "source": [
    "h1b_15[\"PW_JOB_TITLE\"]"
   ]
  },
  {
   "cell_type": "code",
   "execution_count": null,
   "metadata": {
    "collapsed": true
   },
   "outputs": [],
   "source": [
    "#boxplot stuff\n",
    "\n",
    "trace0 = Box(y=low,name = 'Low Experience',boxmean=True, boxpoints=False)\n",
    "trace1 = Box(y=high, name = 'High Experience',boxmean=True, boxpoints=False)\n",
    "fig12 = [trace0, trace1]\n",
    "iplot(fig12)\n",
    "\n",
    "#float(np.percentile(timeaccep, [25]))#, 50, 75])\n",
    "#yy = [float(np.percentile(timeaccep, [25])), float(np.percentile(timeaccep, [50])), float(np.percentile(timeaccep, [50])), np.median(timeaccep), float(np.percentile(timeaccep, [75])), float(np.percentile(timeaccep, [75])), float(np.percentile(timeaccep, [75]))] \n",
    "#yy\n",
    "\n",
    "#jitter=0.5,whiskerwidth=0.2,fillcolor=cls,marker=dict(size=1,),line=dict(width=1),\n",
    "\n",
    "#from plotly.tools import FigureFactory as FF\n",
    "#fig = FF.create_violin(timeaccep, colors='#604d9e')\n",
    "#iplot(fig, filename='One Violin')\n",
    "\n",
    "#sns.violinplot([timeaccep])#, timeden])\n",
    "#plt.show()\n",
    "#sns.violinplot(x = \"CASE_STATUS\", y=\"TIME_TAKEN\",data = AA)\n",
    "#np.median(perm_data_15[perm_data_15['CASE_STATUS'].str.startswith(\"C\")]['TIME_TAKEN'])\n",
    "#gbexper = perm_data_15.groupby(['PW_LEVEL_9089']).count()\n",
    "\n",
    "#low = gbexper.get_group('Level I')['TIME_TAKEN'].reset_index()['TIME_TAKEN'].tolist() + gbexper.get_group('Level II')['TIME_TAKEN'].reset_index()['TIME_TAKEN'].tolist()\n",
    "#high = gbexper.get_group('Level III')['TIME_TAKEN'].reset_index()['TIME_TAKEN'].tolist() + gbexper.get_group('Level IV')['TIME_TAKEN'].reset_index()['TIME_TAKEN'].tolist()\n",
    "\n",
    "#trace0 = Box(y=low,name = 'Low Experience',boxmean=True, boxpoints=False)\n",
    "#trace1 = Box(y=high, name = 'High Experience',boxmean=True, boxpoints=False)\n",
    "#fig12 = [trace0, trace1]\n",
    "#iplot(fig12)\n",
    "\n",
    "# grouped = crime_df.groupby(['TimeOfDay','Date']).count()\n",
    "#    ct_unwrapped = grouped.reset_index()\n",
    "#    fig = plt.figure(figsize=(12,6))\n",
    "#    sns.violinplot(x = \"TimeOfDay\", y=\"CrimeCodeNo\",data = ct_unwrapped)\n",
    "#    plt.ylabel('Number of crimes in time period',fontsize = 25)\n",
    "#    plt.xlabel('Frequency',fontsize = 25)\n",
    "#    plt.legend()\n",
    "#    ax = plt.gca()\n",
    "#    for tick in ax.xaxis.get_major_ticks():\n",
    "#        tick.label.set_fontsize(15) \n",
    "#    for tick in ax.yaxis.get_major_ticks():\n",
    "#        tick.label.set_fontsize(15) \n",
    "\n",
    "\n",
    "#x_data = ['Applications that were accepted', 'Applications that were denied']\n",
    "#y_data = [timeaccep, timeden]\n",
    "#colors = ['rgba(93, 164, 214, 0.5)', 'rgba(255, 144, 14, 0.5)']\n",
    "\n",
    "#traces = []\n",
    "\n",
    "#for xd, yd, cls in zip(x_data, y_data, colors):\n",
    "#    traces.append(Box(y=yd,name=xd,boxpoints='all',jitter=0.5,whiskerwidth=0.2,fillcolor=cls,marker=dict(size=1,),line=dict(width=1),))\n",
    "#    layout = Layout(title='Distribution of time taken for Accepted vs Denied Applications',#\n",
    "                    #yaxis=dict(autorange=True,showgrid=True,zeroline=True,dtick=5,gridcolor='rgb(255, 255, 255)',gridwidth=1,zerolinecolor='rgb(255, 255, 255)',zerolinewidth=2,),\n",
    "#                   margin=dict(l=40,r=30,b=80,t=100,),paper_bgcolor='rgb(243, 243, 243)',plot_bgcolor='rgb(243, 243, 243)',showlegend=False)\n",
    "#\n",
    "#fig =Figure(data=traces, layout=layout)\n",
    "#iplot(fig)"
   ]
  }
 ],
 "metadata": {
  "anaconda-cloud": {},
  "kernelspec": {
   "display_name": "Python [conda env:my_projects_env]",
   "language": "python",
   "name": "conda-env-my_projects_env-py"
  },
  "language_info": {
   "codemirror_mode": {
    "name": "ipython",
    "version": 2
   },
   "file_extension": ".py",
   "mimetype": "text/x-python",
   "name": "python",
   "nbconvert_exporter": "python",
   "pygments_lexer": "ipython2",
   "version": "2.7.13"
  }
 },
 "nbformat": 4,
 "nbformat_minor": 0
}
