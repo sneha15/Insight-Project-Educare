{
 "cells": [
  {
   "cell_type": "markdown",
   "metadata": {},
   "source": [
    "## Insight Data Science Project 2017: EduCare - Keeping Students Engaged!\n",
    "\n",
    "In this project I worked with a company that advises math tutoring centers in CA. The data consisted of students from tutoring centers in CA\n",
    "\n",
    "First, I load the libraries and the data\n",
    "\n",
    "Example features available: Start and End Date, Gender, Skill Level (Grade), City, State, Zip, Open Days"
   ]
  },
  {
   "cell_type": "code",
   "execution_count": 19,
   "metadata": {
    "collapsed": false
   },
   "outputs": [
    {
     "data": {
      "text/html": [
       "<script>requirejs.config({paths: { 'plotly': ['https://cdn.plot.ly/plotly-latest.min']},});if(!window.Plotly) {{require(['plotly'],function(plotly) {window.Plotly=plotly;});}}</script>"
      ],
      "text/plain": [
       "<IPython.core.display.HTML object>"
      ]
     },
     "metadata": {},
     "output_type": "display_data"
    }
   ],
   "source": [
    "# Load all the Libraries needed\n",
    "\n",
    "import pandas as pd\n",
    "import glob\n",
    "import time\n",
    "import matplotlib.pyplot as plt\n",
    "import numpy as np\n",
    "import seaborn as sns\n",
    "from datetime import datetime, timedelta\n",
    "import plotly\n",
    "from plotly.offline import download_plotlyjs, init_notebook_mode, iplot\n",
    "init_notebook_mode(connected=True)\n",
    "from plotly.graph_objs import *\n",
    "from geopy.geocoders import Nominatim\n",
    "geolocator = Nominatim()"
   ]
  },
  {
   "cell_type": "code",
   "execution_count": 20,
   "metadata": {
    "collapsed": false
   },
   "outputs": [
    {
     "data": {
      "text/html": [
       "<div>\n",
       "<table border=\"1\" class=\"dataframe\">\n",
       "  <thead>\n",
       "    <tr style=\"text-align: right;\">\n",
       "      <th></th>\n",
       "      <th>camp_id</th>\n",
       "      <th>student_id</th>\n",
       "      <th>gender</th>\n",
       "      <th>date_of_birth</th>\n",
       "      <th>enroll_date</th>\n",
       "      <th>end_date</th>\n",
       "      <th>grade_level</th>\n",
       "      <th>city_student</th>\n",
       "      <th>country_student</th>\n",
       "      <th>zip_student</th>\n",
       "      <th>state_student</th>\n",
       "      <th>city_camp</th>\n",
       "      <th>zip_camp</th>\n",
       "      <th>state_camp,</th>\n",
       "      <th>country_camp</th>\n",
       "      <th>open_date</th>\n",
       "      <th>center_days</th>\n",
       "    </tr>\n",
       "  </thead>\n",
       "  <tbody>\n",
       "    <tr>\n",
       "      <th>0</th>\n",
       "      <td>2824</td>\n",
       "      <td>61913</td>\n",
       "      <td>M</td>\n",
       "      <td>2002-01-22</td>\n",
       "      <td>2015-09-01</td>\n",
       "      <td>2015-11-30</td>\n",
       "      <td>12</td>\n",
       "      <td>Santa Rosa</td>\n",
       "      <td>USA</td>\n",
       "      <td>95409</td>\n",
       "      <td>CA</td>\n",
       "      <td>Windsor</td>\n",
       "      <td>95492</td>\n",
       "      <td>CA</td>\n",
       "      <td>US</td>\n",
       "      <td>2015-01-01</td>\n",
       "      <td>[2, 5]</td>\n",
       "    </tr>\n",
       "    <tr>\n",
       "      <th>1</th>\n",
       "      <td>2824</td>\n",
       "      <td>61922</td>\n",
       "      <td>F</td>\n",
       "      <td>2002-04-28</td>\n",
       "      <td>2015-01-01</td>\n",
       "      <td>2016-09-18</td>\n",
       "      <td>11</td>\n",
       "      <td>Santa Rosa</td>\n",
       "      <td>USA</td>\n",
       "      <td>95403</td>\n",
       "      <td>CA</td>\n",
       "      <td>Windsor</td>\n",
       "      <td>95492</td>\n",
       "      <td>CA</td>\n",
       "      <td>US</td>\n",
       "      <td>2015-01-01</td>\n",
       "      <td>[2, 5]</td>\n",
       "    </tr>\n",
       "    <tr>\n",
       "      <th>2</th>\n",
       "      <td>2824</td>\n",
       "      <td>61938</td>\n",
       "      <td>M</td>\n",
       "      <td>2000-12-13</td>\n",
       "      <td>2015-01-01</td>\n",
       "      <td>2015-08-30</td>\n",
       "      <td>12</td>\n",
       "      <td>Santa Rosa</td>\n",
       "      <td>USA</td>\n",
       "      <td>95404</td>\n",
       "      <td>CA</td>\n",
       "      <td>Windsor</td>\n",
       "      <td>95492</td>\n",
       "      <td>CA</td>\n",
       "      <td>US</td>\n",
       "      <td>2015-01-01</td>\n",
       "      <td>[2, 5]</td>\n",
       "    </tr>\n",
       "    <tr>\n",
       "      <th>3</th>\n",
       "      <td>2824</td>\n",
       "      <td>61958</td>\n",
       "      <td>M</td>\n",
       "      <td>2008-07-21</td>\n",
       "      <td>2016-01-05</td>\n",
       "      <td>2016-09-18</td>\n",
       "      <td>6</td>\n",
       "      <td>Windsor</td>\n",
       "      <td>USA</td>\n",
       "      <td>95492</td>\n",
       "      <td>CA</td>\n",
       "      <td>Windsor</td>\n",
       "      <td>95492</td>\n",
       "      <td>CA</td>\n",
       "      <td>US</td>\n",
       "      <td>2015-01-01</td>\n",
       "      <td>[2, 5]</td>\n",
       "    </tr>\n",
       "    <tr>\n",
       "      <th>4</th>\n",
       "      <td>2824</td>\n",
       "      <td>61981</td>\n",
       "      <td>F</td>\n",
       "      <td>2008-01-21</td>\n",
       "      <td>2016-03-04</td>\n",
       "      <td>2016-05-28</td>\n",
       "      <td>7</td>\n",
       "      <td>Santa Rosa</td>\n",
       "      <td>USA</td>\n",
       "      <td>95409</td>\n",
       "      <td>CA</td>\n",
       "      <td>Windsor</td>\n",
       "      <td>95492</td>\n",
       "      <td>CA</td>\n",
       "      <td>US</td>\n",
       "      <td>2015-01-01</td>\n",
       "      <td>[2, 5]</td>\n",
       "    </tr>\n",
       "  </tbody>\n",
       "</table>\n",
       "</div>"
      ],
      "text/plain": [
       "   camp_id  student_id gender date_of_birth enroll_date   end_date  \\\n",
       "0     2824       61913      M    2002-01-22  2015-09-01 2015-11-30   \n",
       "1     2824       61922      F    2002-04-28  2015-01-01 2016-09-18   \n",
       "2     2824       61938      M    2000-12-13  2015-01-01 2015-08-30   \n",
       "3     2824       61958      M    2008-07-21  2016-01-05 2016-09-18   \n",
       "4     2824       61981      F    2008-01-21  2016-03-04 2016-05-28   \n",
       "\n",
       "   grade_level city_student country_student zip_student state_student  \\\n",
       "0           12   Santa Rosa             USA       95409            CA   \n",
       "1           11   Santa Rosa             USA       95403            CA   \n",
       "2           12   Santa Rosa             USA       95404            CA   \n",
       "3            6      Windsor             USA       95492            CA   \n",
       "4            7   Santa Rosa             USA       95409            CA   \n",
       "\n",
       "  city_camp zip_camp state_camp, country_camp  open_date center_days  \n",
       "0   Windsor    95492          CA           US 2015-01-01      [2, 5]  \n",
       "1   Windsor    95492          CA           US 2015-01-01      [2, 5]  \n",
       "2   Windsor    95492          CA           US 2015-01-01      [2, 5]  \n",
       "3   Windsor    95492          CA           US 2015-01-01      [2, 5]  \n",
       "4   Windsor    95492          CA           US 2015-01-01      [2, 5]  "
      ]
     },
     "execution_count": 20,
     "metadata": {},
     "output_type": "execute_result"
    }
   ],
   "source": [
    "# Read in the student and math tutoring center information\n",
    "# Then merge both files to one file that has all the information\n",
    "\n",
    "stud = pd.read_csv('/home/harisk87/Dropbox/PythonProjects/EduCare/StudentCA.csv', parse_dates = ['enroll_date', 'end_date', 'date_of_birth'])\n",
    "camps = pd.read_csv('/home/harisk87/Dropbox/PythonProjects/EduCare/MathCampAll.csv', parse_dates = ['open_date'])\n",
    "\n",
    "students = pd.merge(stud, camps, on='camp_id')\n",
    "students = students.rename(columns={'city_x': 'city_student', 'country': 'country_student', 'zip_code_x': 'zip_student', 'state_code_x': 'state_student', 'city_y':'city_camp', 'zip_code_y':'zip_camp', 'state_code_y':'state_camp,', 'country_code':'country_camp'})\n",
    "\n",
    "students.head()"
   ]
  },
  {
   "cell_type": "markdown",
   "metadata": {},
   "source": [
    "## Data Cleaning\n",
    "\n",
    "- removing nulls and duplicates\n",
    "- incorrect data where end and start time is flipped\n",
    "- not including students who are still enrolled - only those I know the time of enrollment"
   ]
  },
  {
   "cell_type": "code",
   "execution_count": 21,
   "metadata": {
    "collapsed": false
   },
   "outputs": [
    {
     "name": "stdout",
     "output_type": "stream",
     "text": [
      "4428 Total Students Enrolled\n",
      "4204 remaining students after nulls dropped ~5%\n",
      "4204\n",
      "0 absolute duplicates in the data\n"
     ]
    }
   ],
   "source": [
    "# Remove any nulls and duplicate data \n",
    "# includes 215 students who have not submitted worksheets\n",
    "# no duplicates in data\n",
    "\n",
    "\n",
    "print(str(len(students)) + ' Total Students Enrolled')\n",
    "print(str(len(students.dropna(how='any'))) + ' remaining students after nulls dropped ~5%')\n",
    "students = students.dropna(how='any')\n",
    "print(len(students))\n",
    "print(str(len(students[students.duplicated()]))+' absolute duplicates in the data')\n"
   ]
  },
  {
   "cell_type": "code",
   "execution_count": 22,
   "metadata": {
    "collapsed": true
   },
   "outputs": [],
   "source": [
    "# Compute time enrolled for each student\n",
    "\n",
    "td = (students['end_date'] - students['enroll_date'])\n",
    "students[\"time_enrolled\"] = (td / np.timedelta64(1, 'D')).astype(int)"
   ]
  },
  {
   "cell_type": "code",
   "execution_count": 23,
   "metadata": {
    "collapsed": false
   },
   "outputs": [
    {
     "name": "stderr",
     "output_type": "stream",
     "text": [
      "/home/harisk87/anaconda2/envs/my_projects_env/lib/python2.7/site-packages/ipykernel/__main__.py:6: SettingWithCopyWarning:\n",
      "\n",
      "\n",
      "A value is trying to be set on a copy of a slice from a DataFrame\n",
      "\n",
      "See the caveats in the documentation: http://pandas.pydata.org/pandas-docs/stable/indexing.html#indexing-view-versus-copy\n",
      "\n",
      "/home/harisk87/anaconda2/envs/my_projects_env/lib/python2.7/site-packages/ipykernel/__main__.py:7: SettingWithCopyWarning:\n",
      "\n",
      "\n",
      "A value is trying to be set on a copy of a slice from a DataFrame\n",
      "\n",
      "See the caveats in the documentation: http://pandas.pydata.org/pandas-docs/stable/indexing.html#indexing-view-versus-copy\n",
      "\n",
      "/home/harisk87/anaconda2/envs/my_projects_env/lib/python2.7/site-packages/ipykernel/__main__.py:8: SettingWithCopyWarning:\n",
      "\n",
      "\n",
      "A value is trying to be set on a copy of a slice from a DataFrame\n",
      "\n",
      "See the caveats in the documentation: http://pandas.pydata.org/pandas-docs/stable/indexing.html#indexing-view-versus-copy\n",
      "\n"
     ]
    },
    {
     "data": {
      "text/plain": [
       "Series([], Name: time_enrolled, dtype: int64)"
      ]
     },
     "execution_count": 23,
     "metadata": {},
     "output_type": "execute_result"
    }
   ],
   "source": [
    "# Correct data where end and start date is flipped\n",
    "\n",
    "enr_d = students[students['time_enrolled'] < 0]['enroll_date']\n",
    "end_d = students[students['time_enrolled'] < 0]['end_date']\n",
    "\n",
    "students.enroll_date[students['time_enrolled'] < 0] = end_d\n",
    "students.end_date[students['time_enrolled'] < 0] = enr_d\n",
    "students.time_enrolled[students['time_enrolled'] < 0] = 102\n",
    "students.time_enrolled[students['time_enrolled'] < 0] "
   ]
  },
  {
   "cell_type": "code",
   "execution_count": 24,
   "metadata": {
    "collapsed": false
   },
   "outputs": [
    {
     "data": {
      "text/html": [
       "<div id=\"3acf45ad-2be7-4345-8b5c-8cd500572f58\" style=\"height: 525px; width: 100%;\" class=\"plotly-graph-div\"></div><script type=\"text/javascript\">require([\"plotly\"], function(Plotly) { window.PLOTLYENV=window.PLOTLYENV || {};window.PLOTLYENV.BASE_URL=\"https://plot.ly\";Plotly.newPlot(\"3acf45ad-2be7-4345-8b5c-8cd500572f58\", [{\"marker\": {\"color\": \"rgb(0, 128, 128)\"}, \"x\": [90, 241, 85, 83, 149, 47, 57, 205, 225, 234, 469, 38, 23, 445, 82, 59, 54, 206, 17, 40, 240, 522, 15, 98, 161, 426, 23, 392, 263, 264, 424, 53, 41, 598, 139, 212, 77, 241, 160, 464, 12, 18, 41, 187, 210, 229, 272, 207, 68, 53, 453, 271, 133, 119, 107, 416, 348, 76, 229, 232, 97, 113, 142, 167, 12, 13, 140, 147, 101, 351, 327, 86, 85, 84, 609, 109, 98, 31, 552, 148, 148, 51, 27, 74, 41, 193, 77, 537, 433, 878, 334, 732, 338, 74, 557, 47, 88, 36, 259, 74, 93, 196, 75, 197, 118, 49, 1050, 505, 77, 77, 785, 480, 77, 263, 270, 229, 52, 40, 113, 52, 182, 112, 57, 418, 141, 42, 1332, 1188, 175, 1085, 389, 490, 478, 588, 154, 160, 551, 150, 42, 678, 40, 241, 155, 13, 292, 231, 1506, 1343, 451, 224, 288, 65, 85, 50, 401, 91, 395, 287, 159, 389, 363, 651, 150, 112, 150, 116, 115, 806, 663, 299, 678, 231, 663, 679, 244, 425, 1285, 505, 146, 99, 659, 657, 786, 191, 59, 59, 69, 110, 286, 34, 18, 821, 191, 173, 1049, 772, 160, 175, 1059, 203, 357, 14, 77, 224, 37, 14, 131, 134, 210, 32, 53, 209, 334, 288, 558, 267, 232, 14, 34, 173, 1134, 37, 133, 336, 838, 735, 117, 732, 293, 162, 111, 961, 105, 537, 61, 114, 176, 826, 28, 951, 537, 118, 82, 208, 318, 615, 157, 77, 343, 236, 660, 270, 270, 137, 122, 224, 235, 261, 221, 1165, 762, 289, 126, 425, 16, 103, 294, 126, 180, 426, 294, 180, 146, 236, 307, 80, 257, 196, 1340, 699, 210, 340, 998, 116, 233, 1363, 97, 257, 108, 104, 1342, 823, 1442, 14, 457, 440, 616, 1362, 41, 54, 616, 475, 635, 210, 658, 137, 152, 1071, 31, 3, 196, 398, 585, 279, 137, 197, 173, 175, 312, 224, 373, 232, 124, 231, 105, 173, 40, 431, 208, 322, 143, 87, 25, 697, 312, 697, 87, 324, 62, 104, 827, 399, 574, 201, 596, 623, 156, 496, 13, 453, 576, 911, 212, 1267, 392, 136, 392, 709, 102, 227, 210, 196, 806, 105, 1185, 211, 984, 211, 68, 114, 171, 211, 249, 307, 44, 155, 357, 602, 57, 1088, 73, 307, 89, 196, 489, 89, 114, 905, 157, 56, 59, 905, 18, 805, 574, 66, 260, 881, 196, 714, 441, 326, 504, 842, 13, 187, 87, 1763, 1296, 180, 80, 545, 209, 30, 77, 675, 538, 504, 48, 537, 305, 140, 139, 77, 337, 305, 161, 440, 455, 378, 21, 261, 448, 290, 67, 546, 637, 196, 713, 1609, 546, 285, 84, 196, 106, 906, 245, 247, 189, 146, 149, 191, 91, 254, 193, 174, 245, 24, 244, 246, 89, 253, 245, 121, 64, 72, 254, 260, 150, 143, 141, 260, 101, 30, 253, 266, 19, 37, 255, 25, 269, 53, 73, 257, 181, 247, 45, 14, 230, 219, 206, 36, 272, 19, 19, 23, 183, 36, 6, 257, 274, 171, 159, 157, 30, 26, 176, 155, 262, 92, 77, 61, 260, 255, 273, 62, 197, 77, 289, 92, 153, 32, 31, 168, 153, 122, 245, 249, 222, 269, 123, 6, 245, 19, 0, 0, 0, 249, 59, 87, 249, 252, 31, 252, 78, 122, 12, 247, 266, 236, 63, 176, 51, 473, 103, 39, 76, 285, 42, 42, 106, 58, 84, 86, 107, 111, 33, 122, 201, 80, 168, 141, 270, 177, 377, 77, 196, 73, 289, 83, 98, 179, 181, 60, 81, 74, 41, 324, 324, 102, 102, 5, 91, 173, 236, 353, 23, 23, 117, 200, 42, 56, 578, 114, 55, 23, 212, 212, 69, 212, 212, 222, 25, 35, 73, 71, 220, 240, 474, 40, 42, 111, 76, 172, 172, 301, 52, 69, 114, 99, 288, 241, 134, 39, 368, 117, 220, 53, 54, 118, 86, 117, 454, 454, 77, 140, 46, 128, 116, 228, 228, 53, 502, 513, 38, 38, 257, 248, 178, 368, 96, 492, 163, 748, 404, 790, 105, 188, 28, 92, 104, 49, 79, 87, 137, 104, 133, 307, 185, 27, 412, 103, 83, 105, 23, 329, 48, 748, 452, 0, 474, 417, 563, 342, 188, 309, 34, 829, 179, 39, 48, 333, 124, 72, 137, 406, 220, 22, 425, 19, 138, 249, 285, 128, 164, 252, 1, 360, 126, 14, 836, 97, 83, 305, 305, 25, 154, 47, 153, 76, 216, 882, 315, 563, 333, 43, 9, 132, 84, 139, 351, 398, 426, 177, 398, 266, 489, 168, 190, 665, 426, 305, 1033, 211, 63, 629, 456, 570, 1144, 426, 304, 46, 265, 55, 230, 279, 48, 90, 104, 88, 350, 69, 214, 21, 400, 753, 66, 45, 140, 55, 188, 174, 135, 265, 19, 87, 142, 110, 111, 184, 110, 358, 50, 50, 81, 204, 267, 267, 134, 122, 107, 23, 273, 212, 9, 7, 172, 172, 13, 242, 50, 241, 297, 261, 293, 292, 167, 27, 35, 29, 83, 128, 238, 38, 46, 57, 273, 216, 240, 316, 43, 261, 730, 157, 28, 406, 381, 301, 144, 129, 175, 169, 93, 84, 275, 371, 197, 112, 328, 177, 49, 58, 406, 500, 91, 616, 106, 106, 157, 57, 195, 485, 97, 112, 169, 45, 485, 45, 266, 263, 107, 211, 539, 539, 132, 24, 98, 281, 69, 96, 7, 16, 328, 350, 30, 305, 178, 625, 283, 169, 339, 318, 45, 45, 515, 535, 357, 75, 613, 56, 413, 397, 86, 7, 558, 603, 698, 52, 188, 699, 322, 158, 473, 913, 552, 1428, 223, 59, 444, 318, 205, 77, 109, 166, 381, 130, 59, 315, 94, 1252, 69, 132, 1449, 1449, 192, 1347, 378, 248, 906, 52, 248, 73, 689, 33, 301, 83, 298, 842, 724, 1245, 545, 87, 814, 258, 75, 815, 7, 141, 426, 1801, 441, 89, 1372, 21, 42, 139, 65, 30, 121, 63, 70, 39, 464, 86, 85, 87, 215, 83, 385, 82, 619, 78, 45, 48, 286, 1155, 319, 1290, 606, 259, 452, 111, 168, 782, 531, 251, 166, 119, 290, 798, 224, 606, 1379, 821, 119, 459, 1670, 31, 331, 598, 181, 346, 542, 293, 157, 14, 231, 462, 612, 150, 1169, 231, 206, 27, 85, 183, 839, 498, 115, 682, 323, 151, 90, 120, 440, 16, 256, 236, 973, 149, 401, 63, 371, 908, 913, 45, 637, 526, 198, 148, 155, 343, 789, 427, 172, 51, 1207, 372, 87, 175, 1025, 760, 759, 329, 592, 196, 126, 271, 1114, 362, 119, 149, 263, 122, 369, 1033, 223, 294, 235, 1113, 1315, 994, 178, 753, 390, 210, 240, 86, 170, 55, 90, 507, 636, 126, 448, 142, 745, 946, 176, 452, 74, 81, 136, 239, 1120, 1347, 383, 119, 84, 110, 134, 325, 268, 84, 326, 14, 226, 247, 205, 921, 711, 221, 53, 23, 28, 28, 35, 37, 35, 17, 149, 25, 24, 25, 119, 57, 115, 212, 101, 84, 137, 133, 70, 137, 193, 178, 140, 116, 187, 184, 233, 589, 176, 270, 11, 796, 108, 249, 215, 130, 33, 149, 798, 796, 1120, 142, 99, 804, 307, 34, 902, 29, 585, 56, 135, 254, 568, 827, 337, 15, 363, 269, 357, 102, 101, 458, 224, 69, 58, 493, 199, 122, 124, 1093, 1385, 121, 40, 781, 1385, 98, 545, 177, 55, 235, 82, 208, 523, 542, 210, 316, 35, 23, 546, 130, 313, 184, 163, 303, 31, 11, 232, 197, 110, 34, 175, 553, 189, 951, 476, 561, 56, 136, 34, 134, 228, 314, 394, 309, 1147, 41, 12, 37, 141, 77, 77, 70, 42, 255, 169, 49, 43, 231, 373, 116, 170, 260, 220, 1338, 66, 159, 76, 191, 7, 377, 98, 156, 83, 156, 154, 421, 141, 1048, 1274, 678, 160, 176, 132, 548, 403, 39, 228, 39, 85, 382, 364, 78, 79, 148, 875, 143, 39, 232, 364, 77, 410, 207, 364, 708, 176, 64, 93, 999, 69, 46, 52, 1006, 43, 41, 650, 732, 171, 81, 55, 336, 175, 251, 173, 663, 364, 15, 343, 44, 2, 988, 239, 218, 447, 80, 267, 36, 1086, 78, 264, 105, 78, 980, 321, 197, 261, 100, 362, 66, 116, 30, 189, 230, 197, 30, 86, 200, 226, 413, 287, 30, 218, 457, 356, 99, 19, 16, 30, 189, 39, 528, 259, 30, 48, 312, 91, 9, 543, 20, 211, 848, 48, 92, 50, 712, 220, 211, 211, 959, 823, 692, 1449, 573, 566, 100, 546, 1267, 580, 1692, 547, 105, 996, 1896, 573, 2081, 243, 1113, 1206, 1973, 574, 1110, 164, 1455, 114, 393, 410, 791, 107, 1497, 663, 679, 1475, 202, 879, 1078, 807, 909, 1733, 601, 219, 193, 2624, 748, 138, 244, 725, 1352, 275, 2501, 1536, 1483, 1677, 335, 429, 358, 1325, 162, 146, 303, 775, 174, 51, 1833, 427, 363, 62, 89, 366, 946, 55, 85, 431, 1028, 479, 482, 348, 743, 752, 419, 133, 1402, 535, 752, 37, 1730, 121, 1301, 1553, 2338, 636, 544, 913, 121, 590, 174, 328, 317, 174, 1322, 356, 463, 359, 258, 1333, 477, 1344, 699, 988, 113, 126, 969, 608, 484, 575, 1692, 574, 747, 45, 1269, 192, 1143, 198, 83, 62, 745, 139, 44, 332, 1193, 65, 230, 331, 93, 206, 258, 561, 324, 6, 2266, 1323, 545, 311, 496, 84, 1525, 363, 2313, 521, 530, 561, 240, 417, 1190, 848, 19, 359, 148, 1199, 617, 1454, 897, 601, 601, 1666, 1539, 1013, 267, 377, 267, 734, 288, 345, 288, 469, 91, 819, 464, 398, 758, 592, 1099, 1819, 454, 443, 965, 758, 741, 378, 1212, 500, 818, 388, 131, 1427, 91, 103, 755, 576, 1760, 2077, 2180, 1710, 1476, 568, 456, 2860, 2076, 2024, 808, 980, 227, 865, 429, 521, 392, 949, 1985, 1657, 699, 834, 848, 713, 713, 132, 834, 402, 315, 1213, 107, 197, 671, 1215, 345, 342, 1393, 657, 234, 631, 734, 104, 650, 651, 41, 479, 83, 244, 508, 76, 227, 350, 261, 384, 380, 450, 381, 373, 338, 368, 272, 274, 1605, 148, 388, 1217, 321, 497, 377, 733, 761, 626, 997, 23, 656, 1200, 763, 1873, 66, 2635, 638, 20, 846, 366, 1162, 202, 1122, 1983, 390, 393, 2522, 254, 393, 477, 390, 30, 118, 432, 2006, 457, 2629, 118, 544, 123, 1290, 80, 2222, 624, 1357, 138, 1725, 2263, 314, 380, 486, 1970, 874, 1717, 38, 1611, 120, 2071, 2623, 838, 444, 51, 211, 689, 2207, 1035, 982, 2067, 597, 440, 28, 147, 959, 402, 2695, 28, 314, 503, 1088, 848, 2112, 884, 149, 907, 148, 132, 1356, 233, 1007, 1766, 1133, 363, 1186, 265, 1215, 149, 1818, 941, 142, 395, 631, 77, 552, 265, 628, 772, 1321, 1441, 580, 1374, 370, 720, 2728, 2469, 1542, 631, 88, 1727, 646, 251, 1307, 2627, 1487, 118, 1563, 911, 103, 88, 790, 267, 1642, 1244, 2207, 688, 191, 593, 198, 905, 545, 1209, 114, 712, 1094, 541, 593, 34, 122, 23, 287, 343, 1249, 99, 46, 653, 2772, 338, 1114, 215, 198, 721, 335, 553, 1106, 1726, 315, 412, 973, 40, 979, 37, 226, 311, 117, 323, 1726, 19, 238, 655, 479, 20, 161, 241, 1061, 821, 905, 272, 86, 230, 1716, 193, 373, 935, 450, 40, 299, 105, 1884, 132, 73, 399, 198, 246, 443, 180, 164, 99, 65, 730, 282, 552, 436, 178, 527, 414, 245, 79, 506, 54, 1460, 499, 28, 106, 388, 232, 336, 351, 210, 357, 192, 1636, 317, 568, 479, 1270, 559, 26, 2031, 1516, 450, 35, 726, 137, 531, 833, 1065, 1064, 79, 1270, 137, 179, 1738, 270, 1491, 128, 131, 393, 466, 470, 1491, 132, 516, 71, 177, 542, 347, 122, 791, 116, 311, 2128, 147, 598, 1047, 179, 513, 13, 223, 748, 1883, 114, 272, 512, 171, 111, 348, 308, 63, 896, 114, 48, 349, 268, 105, 207, 51, 168, 77, 5, 51, 217, 211, 201, 837, 257, 85, 298, 764, 532, 124, 1132, 213, 590, 1012, 44, 134, 424, 153, 501, 423, 170, 274, 21, 1623, 1650, 329, 181, 1219, 358, 281, 50, 19, 51, 516, 29, 1631, 657, 215, 312, 353, 261, 1513, 512, 657, 156, 212, 14, 182, 161, 149, 184, 214, 609, 680, 658, 230, 271, 200, 147, 194, 329, 403, 235, 118, 220, 126, 166, 510, 592, 73, 588, 71, 96, 195, 294, 648, 242, 84, 1765, 664, 986, 802, 1473, 546, 1640, 77, 355, 125, 361, 603, 323, 243, 464, 660, 660, 433, 301, 175, 723, 547, 201, 1032, 44, 305, 271, 212, 104, 224, 343, 350, 1205, 177, 320, 40, 63, 459, 108, 183, 688, 490, 300, 140, 1367, 163, 482, 258, 39, 626, 300, 986, 895, 622, 626, 329, 601, 168, 49, 195, 601, 119, 864, 195, 198, 249, 107, 176, 865, 34, 181, 179, 872, 170, 323, 1405, 461, 169, 1201, 798, 1428, 51, 751, 237, 245, 120, 97, 373, 173, 310, 455, 14, 187, 702, 383, 823, 454, 454, 77, 100, 63, 671, 48, 399, 745, 1445, 459, 882, 104, 252, 1393, 405, 184, 350, 574, 574, 81, 525, 889, 808, 284, 142, 1203, 168, 168, 83, 185, 940, 1332, 225, 86, 209, 247, 499, 170, 329, 1133, 243, 443, 139, 54, 688, 133, 437, 746, 334, 139, 334, 235, 334, 15, 77, 90, 143, 148, 733, 111, 61, 228, 1274, 275, 63, 64, 63, 442, 426, 105, 123, 775, 525, 167, 395, 22, 378, 359, 514, 1461, 161, 350, 58, 419, 1260, 241, 350, 861, 1598, 775, 1398, 926, 2090, 285, 161, 332, 180, 1139, 112, 8, 142, 90, 502, 295, 47, 636, 118, 342, 217, 218, 138, 367, 435, 1134, 365, 952, 574, 189, 293, 758, 36, 163, 689, 890, 1090, 296, 34, 327, 560, 67, 2357, 238, 357, 62, 517, 1825, 242, 991, 833, 189, 177, 190, 81, 379, 411, 79, 981, 135, 341, 53, 14, 455, 701, 29, 29, 260, 576, 342, 708, 170, 28, 247, 58, 112, 928, 180, 1388, 112, 2537, 250, 2070, 75, 133, 545, 350, 546, 434, 1269, 625, 175, 213, 370, 44, 1113, 514, 260, 332, 35, 608, 227, 152, 455, 680, 55, 74, 532, 180, 41, 202, 390, 343, 889, 202, 342, 350, 420, 907, 253, 547, 889, 392, 107, 452, 374, 547, 367, 248, 42, 58, 101, 140, 101, 874, 1708, 1047, 403, 716, 1141, 90, 183, 450, 900, 60, 354, 298, 297, 135, 523, 1330, 127, 301, 266, 940, 600, 813, 63, 192, 467, 143, 14, 59, 1271, 379, 239, 189, 1349, 469, 51, 504, 546, 114, 339, 164, 237, 160, 105, 323, 520, 101, 546, 155, 197, 600, 212, 547, 89, 57, 322, 56, 151, 8, 211, 39, 28, 64, 322, 1680, 151, 1721, 306, 1607, 440, 1815, 498, 1881, 98, 291, 970, 889, 2035, 1501, 89, 23, 85, 14, 549, 409, 93, 42, 500, 30, 25, 252, 15, 59, 524, 15, 124, 58, 28, 104, 166, 136, 87, 329, 106, 179, 39, 365, 37, 7, 152, 76, 243, 77, 57, 211, 243, 240, 260, 214, 250, 48, 121, 148, 149, 48, 85, 75, 265, 149, 76, 343, 213, 88, 429, 24, 250, 142, 47, 318, 350, 26, 362, 75, 89, 46, 228, 57, 59, 60, 209, 26, 14, 515, 89, 12, 75, 518, 76, 457, 334, 60, 107, 75, 128, 25, 470, 209, 105, 464, 32, 67, 20, 100, 149, 100, 64, 16, 206, 16, 133, 334, 303, 89, 20, 497, 98, 20, 29, 90, 18, 56, 63, 53, 349, 341, 309, 211, 67, 252, 323, 231, 39, 534, 407, 152, 137, 450, 393, 14, 123, 14, 14, 116, 171, 21, 238, 252, 49, 426, 318, 399, 112, 58, 27, 20, 417, 18, 295, 53, 175, 11, 56, 116, 56, 46, 119, 119, 232, 238, 60, 133, 177, 30, 224, 483, 479, 119, 18, 159, 88, 406, 220, 73, 76, 56, 197, 419, 32, 173, 420, 99, 100, 123, 53, 604, 305, 91, 603, 235, 124, 41, 227, 138, 174, 127, 145, 43, 48, 19, 46, 165, 31, 108, 273, 108, 98, 25, 110, 91, 45, 266, 335, 58, 67, 121, 596, 63, 377, 78, 90, 378, 90, 37, 70, 346, 33, 71, 370, 176, 166, 91, 372, 212, 321, 70, 44, 289, 373, 34, 21, 151, 165, 362, 316, 161, 266, 35, 21, 61, 21, 119, 37, 334, 18, 14, 3, 524, 172], \"type\": \"histogram\"}], {\"yaxis\": {\"tickfont\": {\"size\": 18}, \"title\": \"Number of students\", \"tick0\": 0, \"dtick\": 100, \"showgrid\": false, \"titlefont\": {\"size\": 24}, \"autotick\": false}, \"titlefont\": {\"size\": 24}, \"xaxis\": {\"tickfont\": {\"size\": 18}, \"title\": \"Time of Enrollment (Days)\", \"tick0\": 0, \"dtick\": 1000, \"titlefont\": {\"size\": 24}, \"autotick\": false}, \"title\": \"Distribution of Time of Enrollment for students (Days)\"}, {\"linkText\": \"Export to plot.ly\", \"showLink\": true})});</script>"
      ],
      "text/plain": [
       "<IPython.core.display.HTML object>"
      ]
     },
     "metadata": {},
     "output_type": "display_data"
    }
   ],
   "source": [
    "# Eliminate students who are still enrolled \n",
    "# include only data within 1 week of last data pull so end dates are accurate\n",
    "\n",
    "dy = 7\n",
    "students = students[students['end_date'] <= students.end_date.max()-timedelta(days=dy)]\n",
    "len(students)\n",
    "\n",
    "trace1 = Histogram(x=students['time_enrolled'], marker=dict(color='rgb(0, 128, 128)'))\n",
    "data = [trace1]\n",
    "layout = Layout(xaxis=dict(autotick=False,tick0=0,dtick=1000, tickfont=dict(size=18),title = 'Time of Enrollment (Days)', titlefont=dict(size=24)),yaxis=dict(autotick=False,tick0=0,dtick=100, tickfont=dict(size=18), title='Number of students', titlefont=dict(size=24), showgrid=False),title='Distribution of Time of Enrollment for students (Days)',titlefont=dict(size=24))\n",
    "\n",
    "\n",
    "fig1 = Figure(data=data, layout=layout)\n",
    "iplot(fig1)\n",
    "\n"
   ]
  },
  {
   "cell_type": "markdown",
   "metadata": {},
   "source": [
    "Distribution showing the time of enrollments for students\n",
    "\n",
    "Segment students into 2 classes - Short and Long term, based on the median time of 230 days"
   ]
  },
  {
   "cell_type": "code",
   "execution_count": 25,
   "metadata": {
    "collapsed": true
   },
   "outputs": [],
   "source": [
    "# Segmenting students into 2 classes based on the median:\n",
    "\n",
    "ndays = students['time_enrolled'].median()\n",
    "students['short_term'] = 0\n",
    "students.ix[students['time_enrolled'] <= ndays, 'short_term'] = 1\n",
    "\n",
    "# Another way of segmenting students into short and long term based on winter / summer / fall terms\n",
    "\n",
    "ndays = 120\n",
    "students['shorter_term'] = 0\n",
    "students.ix[students['time_enrolled'] <= ndays, 'shorter_term'] = 1\n"
   ]
  },
  {
   "cell_type": "markdown",
   "metadata": {},
   "source": [
    "## Looking at the data and the simplest features available"
   ]
  },
  {
   "cell_type": "code",
   "execution_count": 26,
   "metadata": {
    "collapsed": false
   },
   "outputs": [
    {
     "name": "stdout",
     "output_type": "stream",
     "text": [
      "age_2016\n",
      "2       2\n",
      "3       7\n",
      "4      17\n",
      "5      42\n",
      "6      74\n",
      "7     127\n",
      "8     165\n",
      "9     225\n",
      "10    250\n",
      "11    286\n",
      "12    301\n",
      "13    293\n",
      "14    206\n",
      "15    203\n",
      "16    150\n",
      "17    102\n",
      "18     88\n",
      "19     54\n",
      "20     31\n",
      "21     24\n",
      "22     10\n",
      "23      4\n",
      "24      5\n",
      "29      1\n",
      "48      1\n",
      "50      2\n",
      "51      1\n",
      "54      1\n",
      "dtype: int64\n",
      "age_enroll\n",
      "2       5\n",
      "3      48\n",
      "4     114\n",
      "5     211\n",
      "6     273\n",
      "7     341\n",
      "8     333\n",
      "9     328\n",
      "10    310\n",
      "11    253\n",
      "12    199\n",
      "13    113\n",
      "14     69\n",
      "15     41\n",
      "16     17\n",
      "17      8\n",
      "18      2\n",
      "19      1\n",
      "26      1\n",
      "42      2\n",
      "46      3\n",
      "dtype: int64\n",
      "age_end\n",
      "2       3\n",
      "3      20\n",
      "4      45\n",
      "5     120\n",
      "6     191\n",
      "7     276\n",
      "8     281\n",
      "9     345\n",
      "10    333\n",
      "11    309\n",
      "12    271\n",
      "13    207\n",
      "14    143\n",
      "15     60\n",
      "16     37\n",
      "17     19\n",
      "18      5\n",
      "20      1\n",
      "27      1\n",
      "42      2\n",
      "46      2\n",
      "47      1\n",
      "dtype: int64\n",
      "grade_level\n",
      "1      10\n",
      "2      23\n",
      "3      25\n",
      "4      40\n",
      "5     117\n",
      "6     197\n",
      "7     271\n",
      "8     333\n",
      "9     398\n",
      "10    356\n",
      "11    276\n",
      "12    150\n",
      "13    164\n",
      "14    119\n",
      "15     86\n",
      "16     62\n",
      "17     22\n",
      "18     11\n",
      "19      4\n",
      "20      3\n",
      "21      5\n",
      "dtype: int64\n",
      "days_open\n",
      "2    1923\n",
      "3     749\n",
      "dtype: int64\n",
      "city_camp\n",
      "Concord          121\n",
      "Fairfield        107\n",
      "Fresno            46\n",
      "Los Alamitos     626\n",
      "Mission Viejo    234\n",
      "San Clemente      27\n",
      "San Francisco    103\n",
      "San Jose         221\n",
      "San Rafael       354\n",
      "Santa Clara       53\n",
      "Stockton         410\n",
      "Torrance          71\n",
      "Victorville      113\n",
      "Whittier         100\n",
      "Windsor           86\n",
      "dtype: int64\n",
      "194\n"
     ]
    }
   ],
   "source": [
    "# First Feature: GENDER - classify by gender - male or female, deal with unclean data\n",
    "# More data cleaning: there re entries in the gender column called: {u'@xml:space': u'preserve'} - remove \n",
    "\n",
    "\n",
    "grouped = students.groupby('gender')\n",
    "students = students.drop(grouped.get_group(\"{u'@xml:space': u'preserve'}\").index) \n",
    "len(students)  \n",
    "\n",
    "# Second Feature: AGE\n",
    "# Compute age in 2016, age of enrollment and age when churned\n",
    "\n",
    "ag_2016 = students.end_date.max() - students['date_of_birth']\n",
    "ag_enroll = students['enroll_date'] - students['date_of_birth']\n",
    "ag_end = students['end_date'] - students['date_of_birth']\n",
    "students['age_2016'] = (((ag_2016 / np.timedelta64(1, 'D')).astype(int))/365).astype(int)\n",
    "students['age_enroll'] = (((ag_enroll / np.timedelta64(1, 'D')).astype(int))/365).astype(int)\n",
    "students['age_end'] = (((ag_end / np.timedelta64(1, 'D')).astype(int))/365).astype(int)\n",
    "\n",
    "print(students.groupby('age_2016').size())\n",
    "print(students.groupby('age_enroll').size())\n",
    "print(students.groupby('age_end').size())\n",
    "\n",
    "\n",
    "# Third Feature: GRADE LEVEL (Skill Level)\n",
    "\n",
    "grlv = students['grade_level']\n",
    "print(students.groupby('grade_level').size())\n",
    "\n",
    "\n",
    "# Fourth Feature: NUMBER OF DAYS CAMP IS OPEN\n",
    "\n",
    "students['days_open'] = (students['center_days'].str.len()/3).astype(int)\n",
    "print(students.groupby('days_open').size())\n",
    "\n",
    "\n",
    "# Fifth Feature: CITY CAMP IS IN\n",
    "\n",
    "print(students.groupby('city_camp').size())\n",
    "\n",
    "\n",
    "\n",
    "# CITY STUDENT IS IN -  leave this out for now beause there are 189 features..\n",
    "\n",
    "print(len(students.groupby('city_student').size()))\n",
    "\n"
   ]
  },
  {
   "cell_type": "markdown",
   "metadata": {},
   "source": [
    "## Implementing Logistic Regression with 5 simple features"
   ]
  },
  {
   "cell_type": "code",
   "execution_count": 29,
   "metadata": {
    "collapsed": false
   },
   "outputs": [
    {
     "name": "stdout",
     "output_type": "stream",
     "text": [
      "Accuracy of model on test set is 77.9439252336 %\n",
      "F1 scores are long-term/short-term[ 0.78066914  0.77819549]\n",
      "Precision scores are lt-st[ 0.77777778  0.78113208]\n",
      "Recall scores are lt-st[ 0.78358209  0.7752809 ]\n",
      "[[210  58]\n",
      " [ 60 207]]\n",
      "Predicting everything as falling as long term will give accuracy of 50.0934579439\n"
     ]
    },
    {
     "data": {
      "text/html": [
       "<div id=\"5cd8e5ca-c932-4859-99af-2f00ed9adf15\" style=\"height: 525px; width: 100%;\" class=\"plotly-graph-div\"></div><script type=\"text/javascript\">require([\"plotly\"], function(Plotly) { window.PLOTLYENV=window.PLOTLYENV || {};window.PLOTLYENV.BASE_URL=\"https://plot.ly\";Plotly.newPlot(\"5cd8e5ca-c932-4859-99af-2f00ed9adf15\", [{\"y\": [0.6365304995099783, 0.38236416347530944, 0.7488009366671714, 0.26218203067095824, 0.3157205105820776, 0.4702062978139576, 0.7519642205891608, 0.1903630994738888, 0.7038606184867121, 0.42698145912797325, 0.5191053448676658, 0.4435274436004277, 0.31341968709712204, 0.4701569683140885, 0.48034203419448424, 0.7573674072511032, 0.053502058270326634, 0.1679394816305553, 0.2475584304587544, 0.11863406454343488], \"x\": [\"age_enroll\", \"days_open\", \"grade_level\", \"F\", \"M\", \"Concord\", \"Fairfield\", \"Fresno\", \"Los Alamitos\", \"Mission Viejo\", \"San Clemente\", \"San Francisco\", \"San Jose\", \"San Rafael\", \"Santa Clara\", \"Stockton\", \"Torrance\", \"Victorville\", \"Whittier\", \"Windsor\"], \"type\": \"bar\"}], {\"yaxis\": {\"title\": \"Coefficients\"}, \"xaxis\": {\"title\": \"Features\"}, \"title\": \"Feature Coefficients\"}, {\"linkText\": \"Export to plot.ly\", \"showLink\": true})});</script>"
      ],
      "text/plain": [
       "<IPython.core.display.HTML object>"
      ]
     },
     "metadata": {},
     "output_type": "display_data"
    }
   ],
   "source": [
    "# Implement Logistic Regression with simplest features\n",
    "\n",
    "from sklearn.linear_model import LogisticRegression\n",
    "from sklearn.metrics import accuracy_score, f1_score, precision_score, recall_score, classification_report, confusion_matrix\n",
    "from sklearn import linear_model, datasets, metrics\n",
    "from sklearn.cross_validation import train_test_split\n",
    "\n",
    "logreg = LogisticRegression(penalty = \"l2\", C=0.1, class_weight = 'balanced', tol = 0.0001)\n",
    "feature_cols = ['age_enroll','days_open', 'grade_level']\n",
    "\n",
    "xprev = students[feature_cols]\n",
    "y = students['short_term']\n",
    "x1 = []\n",
    "x1 = pd.concat([xprev, pd.get_dummies(students['gender'])],axis=1)\n",
    "x = []\n",
    "x = pd.concat([x1, pd.get_dummies(students['city_camp'])],axis=1)\n",
    "\n",
    "\n",
    "X_train,X_test,y_train,y_test = train_test_split(x,y,test_size=0.2)\n",
    "L = logreg.fit(X_train,y_train)\n",
    "y_pred = logreg.predict(X_test)\n",
    "\n",
    "print 'Accuracy of model on test set is ' + str(metrics.accuracy_score(y_test,y_pred)*100) +' %'\n",
    "print('F1 scores are long-term/short-term' + str(f1_score(y_test, y_pred, average=None)))\n",
    "print('Precision scores are lt-st' + str(precision_score(y_test, y_pred, average=None)))\n",
    "print('Recall scores are lt-st' + str(recall_score(y_test, y_pred, average=None)))\n",
    "print metrics.confusion_matrix(y_test, y_pred)\n",
    "print (\"Predicting everything as falling as long term will give accuracy of \"+ str((len([i for i in y_test if i == 0])/float(len(y_test)))*100))\n",
    "\n",
    "fimplr = np.abs(logreg.coef_)\n",
    "vv = list(x)\n",
    "\n",
    "\n",
    "data = [Bar(x=vv,y=fimplr.ravel())]\n",
    "\n",
    "layout = Layout(xaxis=dict(title = 'Features'),yaxis=dict(title='Coefficients'),title='Feature Coefficients')\n",
    "\n",
    "fig1 = Figure(data=data, layout=layout)\n",
    "iplot(fig1)\n"
   ]
  },
  {
   "cell_type": "markdown",
   "metadata": {},
   "source": [
    "## Feature Engineering: Distance Data\n",
    "\n",
    "Instead of using cities as categorical variables, I decided to have 1 continuous variable - distance.\n",
    "\n",
    "I computed the distance from the student's home to the center because this might affect churn. \n",
    "\n",
    "Code is below, but it will be much faster if you skip this cell and load pre-loaded pickle file in next cell"
   ]
  },
  {
   "cell_type": "code",
   "execution_count": null,
   "metadata": {
    "collapsed": true
   },
   "outputs": [],
   "source": [
    "# Feature Engineering: Distance\n",
    "\n",
    "\n",
    "# Cleaning the zip code data\n",
    "\n",
    "students.groupby('zip_student').size()\n",
    "students = students[students['zip_student'].str.startswith(\"9\")]\n",
    "students['dist'] = \"\"\n",
    "\n",
    "\n",
    "# Computing distance\n",
    "# 1. Convert from zip code to latitude and longitude\n",
    "# 2. Can only do these around 100 - 200 at a time because there are limited calls to the Google API\n",
    "# 3. Compute great circle distance\n",
    "# 4. Save as a pickle file because \n",
    "\n",
    "geolocator = Nominatim()\n",
    "from geopy.distance import vincenty\n",
    "from geopy.distance import great_circle\n",
    "for a in range(1,len(students)):\n",
    "    if students['zip_student'].iloc[a] == students['zip_camp'].iloc[a]:\n",
    "        students['dist'].iloc[a] = 0\n",
    "    else:\n",
    "        locationa = geolocator.geocode(students['zip_camp'].iloc[a], timeout=None)\n",
    "        locationb = geolocator.geocode(students['zip_student'].iloc[a], timeout=None)\n",
    "        if locationa and locationb:\n",
    "            zipa = (locationa.latitude, locationa.longitude)\n",
    "            zipb = (locationb.latitude, locationb.longitude)\n",
    "            students['dist'].iloc[a] = great_circle(zipa, zipb).miles\n",
    "\n",
    "students.to_pickle('students') \n"
   ]
  },
  {
   "cell_type": "code",
   "execution_count": 38,
   "metadata": {
    "collapsed": false
   },
   "outputs": [
    {
     "name": "stdout",
     "output_type": "stream",
     "text": [
      "2611\n",
      "2242\n",
      "50.3791061577\n"
     ]
    },
    {
     "name": "stderr",
     "output_type": "stream",
     "text": [
      "/home/harisk87/anaconda2/envs/my_projects_env/lib/python2.7/site-packages/ipykernel/__main__.py:28: SettingWithCopyWarning:\n",
      "\n",
      "\n",
      "A value is trying to be set on a copy of a slice from a DataFrame.\n",
      "Try using .loc[row_indexer,col_indexer] = value instead\n",
      "\n",
      "See the caveats in the documentation: http://pandas.pydata.org/pandas-docs/stable/indexing.html#indexing-view-versus-copy\n",
      "\n"
     ]
    },
    {
     "data": {
      "text/html": [
       "<div id=\"1d6643d1-1404-4491-8ca4-83a7237042cd\" style=\"height: 525px; width: 100%;\" class=\"plotly-graph-div\"></div><script type=\"text/javascript\">require([\"plotly\"], function(Plotly) { window.PLOTLYENV=window.PLOTLYENV || {};window.PLOTLYENV.BASE_URL=\"https://plot.ly\";Plotly.newPlot(\"1d6643d1-1404-4491-8ca4-83a7237042cd\", [{\"x\": [5.163634413512014, 2.461605106341902, 5.163634413512014, 5.163634413512014, 9.309683410474321, 0.0, 0.0, 0.0, 0.0, 5.163634413512014, 2.461605106341902, 3.8471104430053007, 5.163634413512014, 2.461605106341902, 2.461605106341902, 0.0, 0.0, 3.8471104430053007, 7.19789682555519, 1.1123762410312652, 0.0, 5.163634413512014, 0.0, 0.0, 1.1123762410312652, 0.0, 0.0, 27.20873054215671, 7.19789682555519, 7.19789682555519, 2.461605106341902, 3.8471104430053007, 2.461605106341902, 1.1123762410312652, 10.246772126048356, 39.87329107430664, 1.1123762410312652, 0.0, 2.7262832710673313, 1.1123762410312652, 0.0, 2.461605106341902, 1.1123762410312652, 19.374782985850306, 2.7262832710673313, 0.0, 1.1123762410312652, 7.19789682555519, 7.19789682555519, 50.379106157743934, 7.29982533912045, 0.0, 9.309683410474321, 9.309683410474321, 1.1123762410312652, 0.0, 0.0, 0.0, 2.7262832710673313, 2.7262832710673313, 9.309683410474321, 9.309683410474321, 1.1123762410312652, 0.0, 5.163634413512014, 0.0, 7.19789682555519, 16.3645406131987, 3.8471104430053007, 7.19789682555519, 7.19789682555519, 0.0, 7.29982533912045, 2.461605106341902, 2.461605106341902, 0.0, 0.0, 0.0, 9.309683410474321, 2.7262832710673313, 0.0, 3.5212436077567197, 3.5212436077567197, 33.02904906217611, 9.097063435526312, 5.808242024494186, 5.808242024494186, 15.628802075466192, 33.02904906217611, 2.119342836313438, 4.597961484264902, 0.0, 5.808242024494186, 15.628802075466192, 2.119342836313438, 0.0, 3.7400921597014247, 2.4076522850299793, 3.5212436077567197, 3.5212436077567197, 0.0, 0.0, 3.7400921597014247, 0.0, 0.0, 21.283219947139827, 3.549261885397986, 3.7400921597014247, 0.0, 5.808242024494186, 7.609920605717573, 0.0, 7.609920605717573, 4.597961484264902, 3.549261885397986, 7.609920605717573, 9.167964577989112, 5.808242024494186, 3.5212436077567197, 0.0, 3.5212436077567197, 2.119342836313438, 2.119342836313438, 3.5212436077567197, 0.0, 8.164646291043788, 9.097063435526312, 2.4076522850299793, 5.3303493670673685, 3.5212436077567197, 3.5212436077567197, 2.4076522850299793, 5.808242024494186, 19.0027552959601, 2.119342836313438, 2.119342836313438, 4.597961484264902, 19.0027552959601, 0.0, 4.597961484264902, 2.400046946052544, 2.400046946052544, 3.549261885397986, 0.0, 7.609920605717573, 9.097063435526312, 5.808242024494186, 2.400046946052544, 5.808242024494186, 5.3303493670673685, 0.0, 7.609920605717573, 5.808242024494186, 8.164646291043788, 5.3303493670673685, 0.0, 2.400046946052544, 19.0027552959601, 2.400046946052544, 5.808242024494186, 19.0027552959601, 5.808242024494186, 4.597961484264902, 9.097063435526312, 0.0, 2.119342836313438, 0.0, 3.549261885397986, 5.3303493670673685, 5.3303493670673685, 7.609920605717573, 2.119342836313438, 0.0, 3.549261885397986, 2.119342836313438, 4.597961484264902, 3.5212436077567197, 7.609920605717573, 0.0, 7.609920605717573, 2.119342836313438, 7.609920605717573, 5.3303493670673685, 3.5212436077567197, 0.0, 0.0, 5.3303493670673685, 4.597961484264902, 7.609920605717573, 2.4076522850299793, 3.5212436077567197, 2.400046946052544, 2.4076522850299793, 2.119342836313438, 7.609920605717573, 9.097063435526312, 2.119342836313438, 7.609920605717573, 9.097063435526312, 4.597961484264902, 8.164646291043788, 0, 2.119342836313438, 5.808242024494186, 2.119342836313438, 8.164646291043788, 5.808242024494186, 5.3303493670673685, 8.164646291043788, 2.4076522850299793, 0, 2.4076522850299793, 4.597961484264902, 9.097063435526312, 0, 5.808242024494186, 3.7400921597014247, 3.5212436077567197, 8.164646291043788, 5.808242024494186, 8.164646291043788, 3.5212436077567197, 2.119342836313438, 3.5212436077567197, 3.5212436077567197, 0, 0, 2.119342836313438, 3.5212436077567197, 0, 8.164646291043788, 0, 0, 0, 9.097063435526312, 4.597961484264902, 9.097063435526312, 3.549261885397986, 4.597961484264902, 0, 4.597961484264902, 9.097063435526312, 0, 9.097063435526312, 3.5212436077567197, 2.4076522850299793, 5.808242024494186, 0, 2.400046946052544, 0, 2.4076522850299793, 5.808242024494186, 3.5212436077567197, 5.808242024494186, 2.4076522850299793, 3.5212436077567197, 4.597961484264902, 9.097063435526312, 2.119342836313438, 0, 2.400046946052544, 7.609920605717573, 2.119342836313438, 2.119342836313438, 5.808242024494186, 5.808242024494186, 9.097063435526312, 9.097063435526312, 2.400046946052544, 2.400046946052544, 0, 2.400046946052544, 8.164646291043788, 4.597961484264902, 3.7400921597014247, 0, 0, 0, 9.097063435526312, 2.119342836313438, 2.119342836313438, 0, 4.597961484264902, 2.400046946052544, 2.119342836313438, 2.400046946052544, 7.609920605717573, 9.097063435526312, 7.609920605717573, 9.097063435526312, 2.119342836313438, 0, 8.164646291043788, 0, 0, 7.609920605717573, 0, 9.097063435526312, 7.609920605717573, 2.400046946052544, 5.3303493670673685, 5.808242024494186, 2.119342836313438, 5.808242024494186, 0, 2.400046946052544, 2.119342836313438, 19.0027552959601, 8.164646291043788, 8.164646291043788, 8.164646291043788, 0, 5.808242024494186, 7.609920605717573, 3.7400921597014247, 7.609920605717573, 0, 5.808242024494186, 5.808242024494186, 0, 5.808242024494186, 0, 5.808242024494186, 4.597961484264902, 2.119342836313438, 5.808242024494186, 2.119342836313438, 9.097063435526312, 3.7400921597014247, 4.597961484264902, 19.0027552959601, 2.119342836313438, 7.609920605717573, 3.549261885397986, 5.808242024494186, 3.7400921597014247, 5.808242024494186, 7.609920605717573, 19.994443644110323, 19.994443644110323, 7.609920605717573, 2.119342836313438, 2.119342836313438, 7.609920605717573, 5.808242024494186, 2.4076522850299793, 2.119342836313438, 2.4076522850299793, 7.609920605717573, 9.097063435526312, 8.164646291043788, 2.4076522850299793, 0, 2.400046946052544, 5.3303493670673685, 4.597961484264902, 2.119342836313438, 2.400046946052544, 2.4076522850299793, 2.119342836313438, 2.400046946052544, 2.400046946052544, 5.3303493670673685, 3.5212436077567197, 14.88911492226708, 5.3303493670673685, 2.400046946052544, 2.4076522850299793, 3.5212436077567197, 2.4076522850299793, 2.119342836313438, 2.119342836313438, 2.119342836313438, 0, 7.609920605717573, 7.609920605717573, 3.5212436077567197, 2.119342836313438, 2.119342836313438, 3.7400921597014247, 7.609920605717573, 7.609920605717573, 2.119342836313438, 0, 5.808242024494186, 2.4076522850299793, 3.5212436077567197, 2.400046946052544, 3.5212436077567197, 2.400046946052544, 2.119342836313438, 2.119342836313438, 2.4076522850299793, 2.119342836313438, 5.808242024494186, 0, 4.597961484264902, 0, 7.609920605717573, 7.609920605717573, 0, 0, 0, 0, 5.808242024494186, 7.609920605717573, 0, 2.119342836313438, 2.119342836313438, 0, 7.609920605717573, 4.597961484264902, 7.609920605717573, 7.609920605717573, 2.4076522850299793, 7.609920605717573, 2.400046946052544, 2.119342836313438, 2.4076522850299793, 5.808242024494186, 5.3303493670673685, 1.4612877203811638, 0, 0, 0.7224972150006077, 0.7224972150006077, 0, 0, 8.382525840301684, 6.021283728041971, 6.021283728041971, 1.3999657994714272, 2.1368147575647614, 0.8860270506866595, 0.8860270506866595, 3.256417763227469, 3.256417763227469, 3.256417763227469, 0.7224972150006077, 3.4611939533754796, 3.4611939533754796, 0, 0, 0.7224972150006077, 0.7224972150006077, 0.7224972150006077, 1.4612877203811638, 1.2270315645078296, 1.7588886117699067, 0, 0, 2.1368147575647614, 1.4672034050475802, 1.2270315645078296, 1.2270315645078296, 0, 0, 1.2270315645078296, 1.2270315645078296, 0.7224972150006077, 0.7224972150006077, 0.8860270506866595, 0.8860270506866595, 0.8860270506866595, 0.8860270506866595, 2.1368147575647614, 0.8860270506866595, 0, 0, 0, 0, 0.7224972150006077, 0, 8.382525840301684, 8.382525840301684, 2.0435824369666364, 2.0435824369666364, 0, 3.4611939533754796, 0, 0, 20.15450305092447, 1.4612877203811638, 0, 0, 0, 2.087671278553441, 0.8860270506866595, 0.8860270506866595, 0, 3.4611939533754796, 3.4611939533754796, 0.8860270506866595, 0.7224972150006077, 0.7224972150006077, 0.7224972150006077, 2.087671278553441, 0.7224972150006077, 4.591668011068041, 0, 1.7712927709889312, 1.7712927709889312, 0, 0.7224972150006077, 0.8860270506866595, 2.0435824369666364, 0.8860270506866595, 6.021283728041971, 1.3999657994714272, 1.3999657994714272, 0, 0.7224972150006077, 2.087671278553441, 2.0435824369666364, 0, 0, 0.8860270506866595, 0.8860270506866595, 8.382525840301684, 8.382525840301684, 1.3999657994714272, 1.3999657994714272, 1.3999657994714272, 7.649146490769298, 0, 7.649146490769298, 0, 7.649146490769298, 0, 7.321988514739526, 0, 7.321988514739526, 0, 0, 7.321988514739526, 12.200329189606647, 0, 7.321988514739526, 7.321988514739526, 0, 0, 0, 0, 0, 0, 0, 7.649146490769298, 0, 7.649146490769298, 7.649146490769298, 0, 7.649146490769298, 0, 0, 7.649146490769298, 0, 0, 0, 0, 0, 0, 0, 7.321988514739526, 7.321988514739526, 7.321988514739526, 7.649146490769298, 7.321988514739526, 7.321988514739526, 7.321988514739526, 7.649146490769298, 7.321988514739526, 7.321988514739526, 0, 7.649146490769298, 0, 0, 0, 0, 0, 0, 7.321988514739526, 7.649146490769298, 7.649146490769298, 0, 11.155130672289072, 0, 7.321988514739526, 7.321988514739526, 0, 7.321988514739526, 0, 0, 7.649146490769298, 0, 7.321988514739526, 0, 7.321988514739526, 7.321988514739526, 0, 34.65892295224383, 0, 7.321988514739526, 0, 7.649146490769298, 7.649146490769298, 7.649146490769298, 7.649146490769298, 0, 0, 0, 0, 7.649146490769298, 7.649146490769298, 7.649146490769298, 7.321988514739526, 0, 0, 7.649146490769298, 7.649146490769298, 1.4527896420940718, 0, 6.497363473188419, 3.844159296558129, 6.497363473188419, 6.497363473188419, 0, 0, 5.834902888954547, 7.646427899833231, 2.368620970210487, 0, 2.368620970210487, 6.497363473188419, 6.497363473188419, 2.102055271234845, 6.497363473188419, 6.497363473188419, 0, 6.497363473188419, 6.497363473188419, 6.497363473188419, 2.368620970210487, 2.368620970210487, 2.102055271234845, 0, 1.4527896420940718, 6.497363473188419, 0, 0, 2.368620970210487, 0, 1.4527896420940718, 6.497363473188419, 0, 2.368620970210487, 2.368620970210487, 2.368620970210487, 0, 2.368620970210487, 1.4527896420940718, 2.368620970210487, 1.4527896420940718, 0, 6.497363473188419, 2.368620970210487, 6.497363473188419, 2.102055271234845, 2.368620970210487, 2.368620970210487, 0, 0, 2.368620970210487, 0, 0, 1.4527896420940718, 0, 6.497363473188419, 1.4527896420940718, 6.497363473188419, 0, 1.4527896420940718, 1.4527896420940718, 0, 0, 0, 1.4527896420940718, 6.497363473188419, 1.4527896420940718, 1.4527896420940718, 0, 2.368620970210487, 6.497363473188419, 2.368620970210487, 2.368620970210487, 0, 2.368620970210487, 0, 0, 0, 6.497363473188419, 0, 0, 0, 6.497363473188419, 6.497363473188419, 10.854647915957543, 6.497363473188419, 6.497363473188419, 6.497363473188419, 6.497363473188419, 0, 6.497363473188419, 6.497363473188419, 1.4527896420940718, 23.297617769329847, 2.368620970210487, 0, 6.209264627858174, 2.368620970210487, 16.549218795268033, 2.368620970210487, 2.368620970210487, 6.497363473188419, 1.4527896420940718, 2.368620970210487, 0, 0, 6.497363473188419, 5.150926634670877, 6.497363473188419, 2.368620970210487, 1.4527896420940718, 6.497363473188419, 0, 1.4527896420940718, 0, 1.4527896420940718, 2.368620970210487, 6.209264627858174, 0, 2.060439956150817, 0, 0, 0, 0, 0, 0, 0, 0, 0, 0, 0, 0, 5.181018002930314, 4.894427727368792, 4.894427727368792, 0, 0, 0, 0, 0, 0, 0, 5.373154478029855, 0, 0, 0, 0, 0, 0, 0, 0, 0, 0, 0, 0, 4.894427727368792, 0, 0, 0, 0, 0, 0, 0, 0, 0, 0, 0, 0, 1.1637477808714287, 2.251391769193901, 1.1637477808714287, 0, 0, 0, 0, 0, 0, 0, 0, 0, 0, 0, 7.024582244251849, 1.1637477808714287, 2.4041089894708407, 0, 2.251391769193901, 4.588142626323136, 4.588142626323136, 4.588142626323136, 0, 0, 0.0, 2.4041089894708407, 4.588142626323136, 4.588142626323136, 0, 2.4041089894708407, 2.251391769193901, 0, 0, 0, 0, 3.9844660654120685, 0, 3.9844660654120685, 4.588142626323136, 4.588142626323136, 3.457086835668779, 0, 4.588142626323136, 4.588142626323136, 0, 0, 0, 0, 0, 4.588142626323136, 0, 0, 0, 0, 3.042370095984949, 4.588142626323136, 1.1637477808714287, 1.1637477808714287, 0, 4.588142626323136, 0, 0, 2.4041089894708407, 2.4041089894708407, 0, 2.4041089894708407, 7.024582244251849, 4.588142626323136, 5.276565234246529, 1.1637477808714287, 4.588142626323136, 0, 0, 0, 0, 0, 0, 0, 0, 0, 0, 0, 0, 0, 0, 3.074000371435893, 3.074000371435893, 0, 0, 0, 0, 0, 0, 0, 0, 0, 0.26939680270934985, 0, 0, 0, 0, 0, 0, 0, 0, 0, 0, 0, 0, 0, 0, 0, 0, 0, 0, 0, 0, 0, 0, 0, 0, 0, 0, 0, 0, 0, 3.074000371435893, 0, 0, 0, 0, 0, 3.074000371435893, 0, 0, 0, 0, 0, 0, 0, 0, 0, 0, 0, 0, 0, 0, 0, 0, 0, 0.26939680270934985, 0, 0, 0, 0, 0, 0, 0, 0, 0, 0, 0, 0.26939680270934985, 0, 0, 0, 0, 0, 0, 0, 0, 0, 0, 0, 0, 0, 0, 0, 0, 0, 0, 0, 0, 2.9053298621805723, 0, 0, 0, 0, 2.5268278898588257, 0, 0, 0, 2.5268278898588257, 4.849601262826875, 2.3791413413498335, 6.957757689856792, 4.849601262826875, 4.849601262826875, 2.3791413413498335, 4.849601262826875, 2.3791413413498335, 4.849601262826875, 6.957757689856792, 6.957757689856792, 6.957757689856792, 4.849601262826875, 4.849601262826875, 4.584498405939748, 6.957757689856792, 4.849601262826875, 4.849601262826875, 4.584498405939748, 2.3791413413498335, 6.957757689856792, 4.849601262826875, 4.849601262826875, 1.7300050884163296, 4.849601262826875, 4.849601262826875, 2.3791413413498335, 2.3791413413498335, 4.849601262826875, 4.849601262826875, 4.849601262826875, 2.3791413413498335, 6.957757689856792, 4.849601262826875, 2.3791413413498335, 6.957757689856792, 4.849601262826875, 2.3791413413498335, 2.3791413413498335, 6.957757689856792, 4.849601262826875, 4.849601262826875, 6.957757689856792, 4.584498405939748, 2.3791413413498335, 0, 6.957757689856792, 4.584498405939748, 4.849601262826875, 6.957757689856792, 4.849601262826875, 2.3791413413498335, 6.957757689856792, 2.3791413413498335, 2.3791413413498335, 4.849601262826875, 6.957757689856792, 4.849601262826875, 4.849601262826875, 4.849601262826875, 6.957757689856792, 4.849601262826875, 4.849601262826875, 4.849601262826875, 6.957757689856792, 6.957757689856792, 4.849601262826875, 2.3791413413498335, 7.381488890696372, 4.849601262826875, 0.6549404822299775, 4.849601262826875, 4.849601262826875, 6.957757689856792, 2.3791413413498335, 4.849601262826875, 4.849601262826875, 6.957757689856792, 4.849601262826875, 6.957757689856792, 2.3791413413498335, 4.849601262826875, 6.957757689856792, 4.849601262826875, 6.957757689856792, 6.957757689856792, 4.849601262826875, 0, 0, 3.787239642860282, 4.849601262826875, 4.849601262826875, 4.849601262826875, 2.3791413413498335, 6.957757689856792, 2.3791413413498335, 4.849601262826875, 2.3791413413498335, 2.3791413413498335, 4.849601262826875, 4.849601262826875, 4.584498405939748, 4.849601262826875, 4.849601262826875, 6.957757689856792, 0, 4.849601262826875, 4.849601262826875, 4.849601262826875, 2.3791413413498335, 4.849601262826875, 6.957757689856792, 6.957757689856792, 4.849601262826875, 2.3791413413498335, 6.957757689856792, 2.3791413413498335, 4.849601262826875, 6.957757689856792, 4.849601262826875, 2.3791413413498335, 6.957757689856792, 0, 4.849601262826875, 4.849601262826875, 6.957757689856792, 0, 0, 2.3791413413498335, 6.957757689856792, 2.3791413413498335, 2.3791413413498335, 2.3791413413498335, 4.849601262826875, 4.849601262826875, 4.849601262826875, 4.849601262826875, 4.849601262826875, 2.3791413413498335, 0, 4.849601262826875, 4.849601262826875, 2.3791413413498335, 4.849601262826875, 14.601143552717174, 2.3791413413498335, 4.849601262826875, 6.957757689856792, 2.3791413413498335, 4.849601262826875, 4.849601262826875, 0, 2.3791413413498335, 4.849601262826875, 4.584498405939748, 4.584498405939748, 2.3791413413498335, 6.957757689856792, 1.7300050884163296, 2.3791413413498335, 4.849601262826875, 6.1048374361861075, 4.584498405939748, 6.957757689856792, 2.3791413413498335, 6.957757689856792, 2.3791413413498335, 0, 6.957757689856792, 0.6549404822299775, 4.849601262826875, 6.957757689856792, 2.3791413413498335, 0.6549404822299775, 6.957757689856792, 4.849601262826875, 9.071599276358722, 4.849601262826875, 4.849601262826875, 4.849601262826875, 4.849601262826875, 4.584498405939748, 1.7300050884163296, 4.584498405939748, 9.071599276358722, 4.584498405939748, 2.3791413413498335, 2.3791413413498335, 2.3791413413498335, 2.3791413413498335, 4.584498405939748, 4.849601262826875, 1.7300050884163296, 6.957757689856792, 2.3791413413498335, 2.3791413413498335, 6.60190180453719, 4.584498405939748, 6.957757689856792, 9.071599276358722, 4.584498405939748, 17.266074513564913, 4.849601262826875, 6.957757689856792, 17.266074513564913, 4.849601262826875, 6.957757689856792, 4.849601262826875, 4.849601262826875, 6.957757689856792, 4.849601262826875, 4.849601262826875, 4.849601262826875, 6.957757689856792, 6.957757689856792, 4.849601262826875, 4.849601262826875, 4.849601262826875, 6.957757689856792, 6.957757689856792, 6.957757689856792, 6.957757689856792, 6.957757689856792, 6.957757689856792, 4.849601262826875, 2.7722118792738684, 3.9590117910580322, 2.22096253634113, 2.7722118792738684, 3.9590117910580322, 2.22096253634113, 2.7722118792738684, 2.22096253634113, 2.22096253634113, 2.7722118792738684, 2.22096253634113, 3.9590117910580322, 2.22096253634113, 2.22096253634113, 2.7722118792738684, 3.9590117910580322, 2.7722118792738684, 2.7722118792738684, 2.22096253634113, 2.22096253634113, 0, 0, 2.7722118792738684, 2.22096253634113, 2.9028098044206962, 1.9118497197188316, 2.22096253634113, 2.22096253634113, 2.22096253634113, 2.22096253634113, 2.22096253634113, 2.22096253634113, 0, 2.22096253634113, 1.9118497197188316, 2.22096253634113, 2.7722118792738684, 2.22096253634113, 2.22096253634113, 2.7722118792738684, 2.7722118792738684, 2.22096253634113, 2.22096253634113, 0, 2.22096253634113, 3.9590117910580322, 2.7722118792738684, 2.22096253634113, 3.9590117910580322, 2.9028098044206962, 0, 2.22096253634113, 2.7722118792738684, 2.22096253634113, 2.22096253634113, 3.9590117910580322, 2.22096253634113, 2.22096253634113, 2.9028098044206962, 3.9590117910580322, 3.9590117910580322, 2.22096253634113, 3.9590117910580322, 2.7722118792738684, 2.22096253634113, 2.7722118792738684, 2.7722118792738684, 2.7722118792738684, 2.22096253634113, 2.9028098044206962, 0, 2.7722118792738684, 2.7722118792738684, 2.7722118792738684, 2.7722118792738684, 0, 0, 2.22096253634113, 0, 2.7722118792738684, 2.22096253634113, 2.22096253634113, 2.9028098044206962, 2.22096253634113, 2.22096253634113, 2.22096253634113, 2.7722118792738684, 2.22096253634113, 1.9118497197188316, 2.22096253634113, 2.22096253634113, 2.7722118792738684, 1.9118497197188316, 2.22096253634113, 1.9118497197188316, 4.294864121822446, 2.7722118792738684, 0, 2.22096253634113, 0, 2.22096253634113, 0, 2.7722118792738684, 2.22096253634113, 2.9028098044206962, 2.9028098044206962, 2.22096253634113, 2.22096253634113, 2.9028098044206962, 2.22096253634113, 0, 9.28231826479185, 2.22096253634113, 9.28231826479185, 2.22096253634113, 2.22096253634113, 2.22096253634113, 2.22096253634113, 2.22096253634113, 2.22096253634113, 2.22096253634113, 2.7722118792738684, 2.7722118792738684, 2.22096253634113, 2.7722118792738684, 2.22096253634113, 2.22096253634113, 1.9118497197188316, 3.9590117910580322, 3.9590117910580322, 3.9590117910580322, 3.9590117910580322, 3.9590117910580322, 9.28231826479185, 3.9590117910580322, 2.22096253634113, 2.22096253634113, 2.7722118792738684, 3.9590117910580322, 2.22096253634113, 2.22096253634113, 2.22096253634113, 2.7722118792738684, 2.22096253634113, 0, 9.28231826479185, 2.7722118792738684, 7.632575518036324, 9.28231826479185, 9.28231826479185, 2.22096253634113, 2.7722118792738684, 7.632575518036324, 2.22096253634113, 2.22096253634113, 2.7722118792738684, 2.22096253634113, 9.28231826479185, 2.22096253634113, 3.9590117910580322, 2.22096253634113, 2.7722118792738684, 2.22096253634113, 2.22096253634113, 2.22096253634113, 2.22096253634113, 2.22096253634113, 2.22096253634113, 2.22096253634113, 2.22096253634113, 2.7722118792738684, 2.22096253634113, 2.7722118792738684, 2.7722118792738684, 0, 1.9118497197188316, 2.22096253634113, 2.22096253634113, 2.22096253634113, 3.9590117910580322, 2.22096253634113, 2.7722118792738684, 2.22096253634113, 2.7722118792738684, 2.22096253634113, 2.7722118792738684, 2.22096253634113, 2.22096253634113, 2.22096253634113, 2.22096253634113, 3.9590117910580322, 3.9590117910580322, 2.22096253634113, 3.9590117910580322, 2.22096253634113, 2.7722118792738684, 2.22096253634113, 2.7722118792738684, 3.9590117910580322, 2.22096253634113, 2.7722118792738684, 2.22096253634113, 2.22096253634113, 2.22096253634113, 2.7722118792738684, 0, 0, 2.22096253634113, 2.22096253634113, 3.9590117910580322, 2.22096253634113, 3.9590117910580322, 3.9590117910580322, 2.7722118792738684, 2.7722118792738684, 0, 3.3051139329447303, 3.9590117910580322, 2.7722118792738684, 2.22096253634113, 4.294864121822446, 4.294864121822446, 4.294864121822446, 2.22096253634113, 4.294864121822446, 2.22096253634113, 2.22096253634113, 2.7722118792738684, 2.22096253634113, 2.22096253634113, 2.22096253634113, 2.22096253634113, 2.22096253634113, 2.22096253634113, 2.7722118792738684, 2.7722118792738684, 0, 2.7722118792738684, 2.22096253634113, 2.22096253634113, 2.22096253634113, 2.7722118792738684, 2.22096253634113, 2.22096253634113, 2.22096253634113, 2.22096253634113, 2.7722118792738684, 2.22096253634113, 3.9590117910580322, 1.9118497197188316, 2.22096253634113, 1.9118497197188316, 2.7722118792738684, 2.22096253634113, 2.7722118792738684, 0, 2.7722118792738684, 2.22096253634113, 2.7722118792738684, 2.22096253634113, 7.632575518036324, 2.9028098044206962, 1.9118497197188316, 2.7722118792738684, 2.22096253634113, 2.22096253634113, 3.9590117910580322, 2.22096253634113, 2.7722118792738684, 2.22096253634113, 2.7722118792738684, 9.28231826479185, 2.7722118792738684, 2.7722118792738684, 2.7722118792738684, 2.7722118792738684, 2.22096253634113, 2.7722118792738684, 2.7722118792738684, 3.9590117910580322, 2.22096253634113, 2.7722118792738684, 3.9590117910580322, 2.7722118792738684, 1.9118497197188316, 2.22096253634113, 3.9590117910580322, 2.22096253634113, 3.9590117910580322, 3.9590117910580322, 2.22096253634113, 2.22096253634113, 3.9590117910580322, 2.22096253634113, 2.22096253634113, 2.7722118792738684, 3.9590117910580322, 1.9118497197188316, 2.22096253634113, 2.22096253634113, 2.9028098044206962, 3.9590117910580322, 2.22096253634113, 2.22096253634113, 2.22096253634113, 3.9590117910580322, 2.22096253634113, 2.7722118792738684, 2.7722118792738684, 2.7722118792738684, 2.22096253634113, 2.7722118792738684, 1.9118497197188316, 2.22096253634113, 2.7722118792738684, 3.9590117910580322, 2.22096253634113, 2.22096253634113, 2.7722118792738684, 2.22096253634113, 2.22096253634113, 2.22096253634113, 2.22096253634113, 2.7722118792738684, 2.7722118792738684, 2.22096253634113, 2.22096253634113, 1.9118497197188316, 9.28231826479185, 2.22096253634113, 2.22096253634113, 2.22096253634113, 2.22096253634113, 2.22096253634113, 9.28231826479185, 2.9028098044206962, 2.22096253634113, 2.22096253634113, 2.22096253634113, 2.22096253634113, 2.22096253634113, 2.22096253634113, 2.22096253634113, 0, 0, 0, 0, 0, 0, 0, 2.664309169161786, 0, 0, 2.664309169161786, 5.791969708034264, 2.664309169161786, 3.1478762167723136, 2.664309169161786, 0, 2.664309169161786, 0, 0, 5.367984159537702, 2.684265023522854, 0, 2.664309169161786, 0, 0, 2.684265023522854, 5.038927013833408, 0, 0, 0, 5.306552765541542, 2.684265023522854, 0, 4.2595455643444495, 2.8171551396203656, 0, 2.8171551396203656, 4.2595455643444495, 0, 7.610839086381289, 0, 0, 0, 0, 4.2595455643444495, 0, 0, 2.664309169161786, 2.8171551396203656, 2.8171551396203656, 0, 2.8171551396203656, 3.1478762167723136, 2.664309169161786, 4.928110005845623, 2.684265023522854, 2.664309169161786, 5.038927013833408, 2.664309169161786, 0, 0, 5.038927013833408, 0, 0, 0, 8.40586203747773, 0, 0, 5.594409505107132, 2.8171551396203656, 4.2595455643444495, 2.8171551396203656, 2.684265023522854, 5.038927013833408, 2.664309169161786, 2.8171551396203656, 4.2595455643444495, 2.8171551396203656, 4.2595455643444495, 2.684265023522854, 0, 0, 0, 0, 0, 2.8171551396203656, 0, 0, 2.684265023522854, 4.12178520990463, 0, 4.9051639445698285, 0, 9.532180763575537, 4.9051639445698285, 0, 0, 0, 4.2595455643444495, 0, 0, 2.664309169161786, 0, 2.8171551396203656, 0, 4.2595455643444495, 0, 0, 4.928110005845623, 4.2595455643444495, 2.664309169161786, 0, 0, 4.928110005845623, 2.664309169161786, 0, 4.563465016909729, 4.563465016909729, 0, 10.728716042758931, 10.728716042758931, 0, 0, 0, 5.791969708034264, 2.8171551396203656, 4.2595455643444495, 4.563465016909729, 0, 0, 0, 0, 0, 2.664309169161786, 0, 0, 4.12178520990463, 4.9051639445698285, 11.096987988177027, 0, 11.096987988177027, 4.9051639445698285, 0, 2.664309169161786, 0, 0, 7.017053026124393, 0, 4.2595455643444495, 2.664309169161786, 0, 0, 2.664309169161786, 7.017053026124393, 2.8171551396203656, 7.610839086381289, 2.664309169161786, 2.8171551396203656, 2.684265023522854, 0, 2.664309169161786, 0, 2.8171551396203656, 0, 2.664309169161786, 9.680341319329633, 5.594409505107132, 2.664309169161786, 5.653788657737764, 2.684265023522854, 0, 5.594409505107132, 0, 0, 0, 0, 0, 2.664309169161786, 0, 0, 0, 6.280340491020733, 2.684265023522854, 0, 0, 0, 0, 0, 0, 2.664309169161786, 2.684265023522854, 0, 7.610839086381289, 0, 4.12178520990463, 0, 0, 2.664309169161786, 4.137497408196655, 0, 2.664309169161786, 0, 0, 2.664309169161786, 0, 0, 2.684265023522854, 2.8171551396203656, 2.664309169161786, 0, 0, 0, 0, 0, 0, 2.684265023522854, 0, 2.684265023522854, 0, 7.017053026124393, 0, 2.664309169161786, 2.664309169161786, 0, 2.664309169161786, 0, 12.456403021197428, 2.684265023522854, 4.2595455643444495, 5.038927013833408, 0, 0, 0, 0, 2.664309169161786, 7.88499079560241, 2.664309169161786, 7.017053026124393, 7.017053026124393, 4.2595455643444495, 0, 4.2595455643444495, 0, 0, 0, 0, 0, 0, 0, 2.5299819204378076, 0, 2.5299819204378076, 0, 0, 0, 0, 8.229098193460112, 7.610839086381289, 2.684265023522854, 8.742548901656646, 7.610839086381289, 2.8171551396203656, 2.664309169161786, 2.664309169161786, 0, 0, 2.664309169161786, 6.701024734979493, 0, 4.928110005845623, 0, 2.664309169161786, 0, 2.664309169161786, 4.928110005845623, 2.664309169161786, 0, 4.2595455643444495, 2.664309169161786, 0, 0, 0, 4.563465016909729, 0, 2.684265023522854, 4.563465016909729, 10.584535347587513, 4.563465016909729, 2.664309169161786, 0, 4.2595455643444495, 2.8171551396203656, 7.017053026124393, 0, 2.8171551396203656, 0, 0, 0, 2.684265023522854, 2.664309169161786, 4.2595455643444495, 9.680341319329633, 6.701024734979493, 4.2595455643444495, 0, 0, 4.2595455643444495, 4.2595455643444495, 2.664309169161786, 2.664309169161786, 2.664309169161786, 2.664309169161786, 9.680341319329633, 2.664309169161786, 0, 4.9051639445698285, 0, 7.610839086381289, 0, 4.9051639445698285, 2.664309169161786, 2.664309169161786, 4.2595455643444495, 0, 4.2595455643444495, 0, 7.88499079560241, 3.31059581723108, 5.653788657737764, 0, 0, 0, 0, 6.280340491020733, 0, 4.2595455643444495, 7.88499079560241, 4.2595455643444495, 4.563465016909729, 0, 0, 2.664309169161786, 2.664309169161786, 0, 0, 4.2595455643444495, 0, 0, 4.928110005845623, 2.8171551396203656, 0, 0, 0, 3.31059581723108, 0, 0, 0, 0, 3.1478762167723136, 2.664309169161786, 0, 2.664309169161786, 2.664309169161786, 3.1478762167723136, 4.12178520990463, 4.2595455643444495, 2.664309169161786, 0, 4.12178520990463, 0, 0, 3.1478762167723136, 11.02552525048623, 2.664309169161786, 3.1478762167723136, 4.2595455643444495, 4.2595455643444495, 4.12178520990463, 0, 2.664309169161786, 0, 11.096987988177027, 2.664309169161786, 0, 0, 0, 2.684265023522854, 2.684265023522854, 0, 0, 2.8171551396203656, 0, 2.664309169161786, 2.664309169161786, 2.684265023522854, 2.8171551396203656, 2.8171551396203656, 2.664309169161786, 0, 2.8171551396203656, 2.664309169161786, 4.928110005845623, 4.9051639445698285, 4.563465016909729, 4.137497408196655, 5.306552765541542, 0, 0, 2.664309169161786, 0, 2.8171551396203656, 0, 0, 2.8171551396203656, 0, 0, 0, 0, 0, 2.664309169161786, 0, 2.664309169161786, 4.9051639445698285, 4.137497408196655, 2.664309169161786, 0, 4.2595455643444495, 0, 0, 4.9051639445698285, 4.2595455643444495, 4.137497408196655, 3.1478762167723136, 2.8171551396203656, 0, 0, 2.684265023522854, 0, 0, 4.137497408196655, 0, 0, 0, 7.610839086381289, 0, 2.8171551396203656, 4.137497408196655, 0, 2.8171551396203656, 0, 0, 2.8171551396203656, 2.8171551396203656, 0, 0, 0, 0, 2.8171551396203656, 0, 1.9407630952558774, 0, 3.1951201472189306, 2.2459621168817923, 1.1235964280093906, 1.1235964280093906, 2.2459621168817923, 2.9961742168498215, 0, 0, 1.9407630952558774, 0, 1.9407630952558774, 1.9407630952558774, 2.9961742168498215, 1.9407630952558774, 1.1235964280093906, 1.1235964280093906, 2.799166561939063, 1.1235964280093906, 1.9407630952558774, 2.2459621168817923, 1.1235964280093906, 1.1235964280093906, 1.1235964280093906, 1.9407630952558774, 0, 0, 2.2459621168817923, 1.1235964280093906, 2.9961742168498215, 1.1235964280093906, 0, 0, 1.9407630952558774, 1.1235964280093906, 0, 3.1951201472189306, 2.9961742168498215, 1.1235964280093906, 0, 1.1235964280093906, 3.1951201472189306, 7.9706534994812674, 0, 2.9961742168498215, 2.2459621168817923, 1.1235964280093906, 2.2459621168817923, 1.1235964280093906, 1.1235964280093906, 2.2459621168817923, 2.2459621168817923, 2.799166561939063, 3.1951201472189306, 2.799166561939063, 2.2459621168817923, 2.9961742168498215, 0, 2.2459621168817923, 0, 3.4519111100843003, 2.2459621168817923, 6.312367306677842, 1.1235964280093906, 2.2459621168817923, 1.1235964280093906, 0, 2.2459621168817923, 0, 5.0365621800259515, 3.4519111100843003, 1.1235964280093906, 2.799166561939063, 3.1951201472189306, 1.1235964280093906, 0, 2.2459621168817923, 0, 2.2459621168817923, 2.2459621168817923, 1.1235964280093906, 2.799166561939063, 0, 1.9407630952558774, 2.2459621168817923, 1.1235964280093906, 0, 2.799166561939063, 0, 2.2459621168817923, 2.799166561939063, 2.2459621168817923, 1.1235964280093906, 13.216010914544952, 0, 6.443482319872692, 8.474196059744001, 0, 8.474196059744001, 9.185071849444565, 0, 9.185071849444565, 0, 3.6619383899417826, 9.185071849444565, 3.5996955509623403, 6.443482319872692, 3.6619383899417826, 3.6619383899417826, 3.6619383899417826, 0, 3.6619383899417826, 8.474196059744001, 9.185071849444565, 9.185071849444565, 3.6619383899417826, 0, 0, 0, 31.011863201870156, 0, 0, 3.6619383899417826, 0, 8.474196059744001, 9.185071849444565, 6.443482319872692, 8.474196059744001, 3.5996955509623403, 6.443482319872692, 3.6619383899417826, 3.6619383899417826, 0, 3.5996955509623403, 3.6619383899417826, 8.474196059744001, 8.474196059744001, 6.443482319872692, 8.474196059744001, 3.6619383899417826, 3.6619383899417826, 0, 6.443482319872692, 3.6619383899417826, 3.5996955509623403, 0, 6.443482319872692, 6.443482319872692, 8.474196059744001, 6.443482319872692, 9.185071849444565, 3.6619383899417826, 0, 8.474196059744001, 8.474196059744001, 0, 8.474196059744001, 3.6619383899417826, 0, 9.185071849444565, 0, 8.474196059744001, 6.443482319872692, 31.011863201870156, 6.443482319872692, 3.5996955509623403, 6.443482319872692, 8.474196059744001, 3.5996955509623403, 8.474196059744001, 3.6619383899417826, 6.443482319872692, 6.443482319872692, 0, 8.474196059744001, 6.443482319872692, 8.474196059744001, 3.6619383899417826, 6.443482319872692, 0, 0, 8.474196059744001, 18.71984460092482, 18.71984460092482, 8.474196059744001, 6.443482319872692, 0, 3.04776502151772, 0, 3.9649116949961978, 0, 0, 0, 0, 0, 0, 0, 3.9649116949961978, 0, 3.9649116949961978, 0, 0, 3.9649116949961978, 3.04776502151772, 0, 0, 3.04776502151772, 15.69908952908239, 0, 3.04776502151772, 0, 0, 3.9649116949961978, 0, 3.9649116949961978, 0, 3.9649116949961978, 3.04776502151772, 3.9649116949961978, 0, 0, 3.9649116949961978, 0, 15.2797616022975, 3.9649116949961978, 0, 15.2797616022975, 0, 3.9649116949961978, 15.874138035265506, 0, 0], \"type\": \"histogram\"}], {\"yaxis\": {\"title\": \"Number of students\"}, \"xaxis\": {\"title\": \"Normalized Distance (miles)\"}, \"title\": \"Distribution of Distance between camp and student (miles)\"}, {\"linkText\": \"Export to plot.ly\", \"showLink\": true})});</script>"
      ],
      "text/plain": [
       "<IPython.core.display.HTML object>"
      ]
     },
     "metadata": {},
     "output_type": "display_data"
    }
   ],
   "source": [
    "# Cleaning the distance data\n",
    "# 1. remove any null values\n",
    "# 2. sometimes distance computation based on latitude and longitude is incorrect: \n",
    "# so remove anomalous values for now and correct later \n",
    "\n",
    "# 1. remove any null values\n",
    "\n",
    "students = pd.read_pickle('students')\n",
    " \n",
    "studentsshort = students[students['dist'] != \"\"]\n",
    "print(len(studentsshort))\n",
    "\n",
    "\n",
    "# look for rows with distance = 0  -to check - all look fine\n",
    "#students[students['dist'] == 0][['zip_student','zip_camp', 'dist']]\n",
    "\n",
    "\n",
    "# 2. sometimes distance computation is incorrect - look for rows with weird distances \n",
    "\n",
    "\n",
    "studentsshortnew = studentsshort[studentsshort['dist']<100]\n",
    "print(len(studentsshortnew))\n",
    "print(studentsshortnew['dist'].max())\n",
    "\n",
    "\n",
    "# Normalize distance by the maximum\n",
    "\n",
    "studentsshortnew['dist_norm'] = studentsshortnew['dist'] / studentsshortnew['dist'].max()\n",
    "\n",
    "trace1 = Histogram(x=studentsshortnew['dist'])\n",
    "data = [trace1]\n",
    "layout = Layout(xaxis=dict(title = 'Normalized Distance (miles)'),yaxis=dict(title='Number of students'),title='Distribution of Distance between camp and student (miles)')\n",
    "fig1 = Figure(data=data, layout=layout)\n",
    "iplot(fig1)\n"
   ]
  },
  {
   "cell_type": "markdown",
   "metadata": {},
   "source": [
    "## Feature Engineering: Income Data\n",
    "\n",
    "I also included census data about the household income for each student based on where they lived\n",
    "\n"
   ]
  },
  {
   "cell_type": "code",
   "execution_count": 39,
   "metadata": {
    "collapsed": false
   },
   "outputs": [
    {
     "name": "stdout",
     "output_type": "stream",
     "text": [
      "2233\n"
     ]
    }
   ],
   "source": [
    "#load census data\n",
    "\n",
    "income1 = pd.read_csv('/home/harisk87/Dropbox/PythonProjects/Insight-Project/IncomeData.csv')\n",
    "income = income1[['GEO.id2', 'HC02_EST_VC02', 'HC02_EST_VC04']]\n",
    "income = income.rename(columns={'GEO.id2':'zip_student'})\n",
    "\n",
    "\n",
    "# merge median income data\n",
    "studentsshortnew = pd.merge(studentsshortnew, income, on='zip_student')\n",
    "# rename columns\n",
    "studentsshortnew = studentsshortnew.rename(columns={'HC02_EST_VC02': 'household_income', 'HC02_EST_VC04': 'median_income'})\n",
    "\n",
    "# convert income data from string to numeric values\n",
    "\n",
    "studentsshortnew['median_income'] = pd.to_numeric(studentsshortnew['median_income'], errors='coerce')\n",
    "studentsshortnew['household_income'] = pd.to_numeric(studentsshortnew['household_income'], errors='coerce')\n",
    "\n",
    "\n",
    "# cleaning - drop null values\n",
    "\n",
    "studentsshortnew = studentsshortnew.dropna(how='any')\n",
    "print(len(studentsshortnew))\n",
    "\n",
    "\n",
    "# normalize income data\n",
    "\n",
    "studentsshortnew['median_income_norm'] = studentsshortnew['median_income']/studentsshortnew['median_income'].max()\n",
    "studentsshortnew['household_income_norm'] = studentsshortnew['household_income']/studentsshortnew['household_income'].max()\n"
   ]
  },
  {
   "cell_type": "markdown",
   "metadata": {},
   "source": [
    "## Feature Engineering : Include Data about Skill Level Increase"
   ]
  },
  {
   "cell_type": "code",
   "execution_count": 40,
   "metadata": {
    "collapsed": false
   },
   "outputs": [
    {
     "name": "stdout",
     "output_type": "stream",
     "text": [
      "2229\n"
     ]
    },
    {
     "data": {
      "text/html": [
       "<div>\n",
       "<table border=\"1\" class=\"dataframe\">\n",
       "  <thead>\n",
       "    <tr style=\"text-align: right;\">\n",
       "      <th></th>\n",
       "      <th>camp_id</th>\n",
       "      <th>student_id</th>\n",
       "      <th>gender</th>\n",
       "      <th>date_of_birth</th>\n",
       "      <th>enroll_date</th>\n",
       "      <th>end_date</th>\n",
       "      <th>grade_level</th>\n",
       "      <th>city_student</th>\n",
       "      <th>country_student</th>\n",
       "      <th>zip_student</th>\n",
       "      <th>...</th>\n",
       "      <th>household_income</th>\n",
       "      <th>median_income</th>\n",
       "      <th>median_income_norm</th>\n",
       "      <th>household_income_norm</th>\n",
       "      <th>grade_level_begin</th>\n",
       "      <th>grade_level_end</th>\n",
       "      <th>skill_increase</th>\n",
       "      <th>skill_increase_correct</th>\n",
       "      <th>skill_increase_norm</th>\n",
       "      <th>skill_increase_norm_correct</th>\n",
       "    </tr>\n",
       "  </thead>\n",
       "  <tbody>\n",
       "    <tr>\n",
       "      <th>0</th>\n",
       "      <td>2824</td>\n",
       "      <td>61913</td>\n",
       "      <td>M</td>\n",
       "      <td>2002-01-22</td>\n",
       "      <td>2015-09-01</td>\n",
       "      <td>2015-11-30</td>\n",
       "      <td>12</td>\n",
       "      <td>Santa Rosa</td>\n",
       "      <td>USA</td>\n",
       "      <td>95409</td>\n",
       "      <td>...</td>\n",
       "      <td>65453.0</td>\n",
       "      <td>65505.0</td>\n",
       "      <td>0.30956</td>\n",
       "      <td>0.298022</td>\n",
       "      <td>11</td>\n",
       "      <td>12</td>\n",
       "      <td>0.011111</td>\n",
       "      <td>0.011111</td>\n",
       "      <td>0.008333</td>\n",
       "      <td>0.008333</td>\n",
       "    </tr>\n",
       "    <tr>\n",
       "      <th>1</th>\n",
       "      <td>2824</td>\n",
       "      <td>61981</td>\n",
       "      <td>F</td>\n",
       "      <td>2008-01-21</td>\n",
       "      <td>2016-03-04</td>\n",
       "      <td>2016-05-28</td>\n",
       "      <td>7</td>\n",
       "      <td>Santa Rosa</td>\n",
       "      <td>USA</td>\n",
       "      <td>95409</td>\n",
       "      <td>...</td>\n",
       "      <td>65453.0</td>\n",
       "      <td>65505.0</td>\n",
       "      <td>0.30956</td>\n",
       "      <td>0.298022</td>\n",
       "      <td>5</td>\n",
       "      <td>7</td>\n",
       "      <td>0.023529</td>\n",
       "      <td>0.023529</td>\n",
       "      <td>0.017647</td>\n",
       "      <td>0.017647</td>\n",
       "    </tr>\n",
       "    <tr>\n",
       "      <th>2</th>\n",
       "      <td>2824</td>\n",
       "      <td>61991</td>\n",
       "      <td>F</td>\n",
       "      <td>2004-09-25</td>\n",
       "      <td>2016-03-04</td>\n",
       "      <td>2016-05-26</td>\n",
       "      <td>7</td>\n",
       "      <td>Santa Rosa</td>\n",
       "      <td>USA</td>\n",
       "      <td>95409</td>\n",
       "      <td>...</td>\n",
       "      <td>65453.0</td>\n",
       "      <td>65505.0</td>\n",
       "      <td>0.30956</td>\n",
       "      <td>0.298022</td>\n",
       "      <td>6</td>\n",
       "      <td>7</td>\n",
       "      <td>0.012048</td>\n",
       "      <td>0.012048</td>\n",
       "      <td>0.009036</td>\n",
       "      <td>0.009036</td>\n",
       "    </tr>\n",
       "    <tr>\n",
       "      <th>3</th>\n",
       "      <td>2824</td>\n",
       "      <td>62145</td>\n",
       "      <td>F</td>\n",
       "      <td>2005-06-11</td>\n",
       "      <td>2015-01-01</td>\n",
       "      <td>2015-08-23</td>\n",
       "      <td>10</td>\n",
       "      <td>Santa Rosa</td>\n",
       "      <td>USA</td>\n",
       "      <td>95409</td>\n",
       "      <td>...</td>\n",
       "      <td>65453.0</td>\n",
       "      <td>65505.0</td>\n",
       "      <td>0.30956</td>\n",
       "      <td>0.298022</td>\n",
       "      <td>2</td>\n",
       "      <td>9</td>\n",
       "      <td>0.034188</td>\n",
       "      <td>0.029915</td>\n",
       "      <td>0.025641</td>\n",
       "      <td>0.022436</td>\n",
       "    </tr>\n",
       "    <tr>\n",
       "      <th>4</th>\n",
       "      <td>2824</td>\n",
       "      <td>62186</td>\n",
       "      <td>F</td>\n",
       "      <td>2007-09-28</td>\n",
       "      <td>2015-05-01</td>\n",
       "      <td>2015-05-24</td>\n",
       "      <td>6</td>\n",
       "      <td>Santa Rosa</td>\n",
       "      <td>USA</td>\n",
       "      <td>95409</td>\n",
       "      <td>...</td>\n",
       "      <td>65453.0</td>\n",
       "      <td>65505.0</td>\n",
       "      <td>0.30956</td>\n",
       "      <td>0.298022</td>\n",
       "      <td>5</td>\n",
       "      <td>6</td>\n",
       "      <td>0.043478</td>\n",
       "      <td>0.043478</td>\n",
       "      <td>0.032609</td>\n",
       "      <td>0.032609</td>\n",
       "    </tr>\n",
       "  </tbody>\n",
       "</table>\n",
       "<p>5 rows × 35 columns</p>\n",
       "</div>"
      ],
      "text/plain": [
       "   camp_id  student_id gender date_of_birth enroll_date   end_date  \\\n",
       "0     2824       61913      M    2002-01-22  2015-09-01 2015-11-30   \n",
       "1     2824       61981      F    2008-01-21  2016-03-04 2016-05-28   \n",
       "2     2824       61991      F    2004-09-25  2016-03-04 2016-05-26   \n",
       "3     2824       62145      F    2005-06-11  2015-01-01 2015-08-23   \n",
       "4     2824       62186      F    2007-09-28  2015-05-01 2015-05-24   \n",
       "\n",
       "   grade_level city_student country_student zip_student  \\\n",
       "0           12   Santa Rosa             USA       95409   \n",
       "1            7   Santa Rosa             USA       95409   \n",
       "2            7   Santa Rosa             USA       95409   \n",
       "3           10   Santa Rosa             USA       95409   \n",
       "4            6   Santa Rosa             USA       95409   \n",
       "\n",
       "              ...              household_income median_income  \\\n",
       "0             ...                       65453.0       65505.0   \n",
       "1             ...                       65453.0       65505.0   \n",
       "2             ...                       65453.0       65505.0   \n",
       "3             ...                       65453.0       65505.0   \n",
       "4             ...                       65453.0       65505.0   \n",
       "\n",
       "  median_income_norm household_income_norm grade_level_begin grade_level_end  \\\n",
       "0            0.30956              0.298022                11              12   \n",
       "1            0.30956              0.298022                 5               7   \n",
       "2            0.30956              0.298022                 6               7   \n",
       "3            0.30956              0.298022                 2               9   \n",
       "4            0.30956              0.298022                 5               6   \n",
       "\n",
       "  skill_increase  skill_increase_correct  skill_increase_norm  \\\n",
       "0       0.011111                0.011111             0.008333   \n",
       "1       0.023529                0.023529             0.017647   \n",
       "2       0.012048                0.012048             0.009036   \n",
       "3       0.034188                0.029915             0.025641   \n",
       "4       0.043478                0.043478             0.032609   \n",
       "\n",
       "   skill_increase_norm_correct  \n",
       "0                     0.008333  \n",
       "1                     0.017647  \n",
       "2                     0.009036  \n",
       "3                     0.022436  \n",
       "4                     0.032609  \n",
       "\n",
       "[5 rows x 35 columns]"
      ]
     },
     "execution_count": 40,
     "metadata": {},
     "output_type": "execute_result"
    }
   ],
   "source": [
    "# Include and Merge file with Start and End Skill Level of each student\n",
    "\n",
    "scores = pd.read_csv('/home/harisk87/Dropbox/PythonProjects/EduCare/ScoresCA.csv')\n",
    "scores1 = scores.groupby(['student_id'], sort=False)['grade_level'].max()\n",
    "scores2 = scores.groupby(['student_id'], sort=False)['grade_level'].min()\n",
    "scores3 = pd.DataFrame({'student_id':scores1.keys(), 'grade_level_end':scores1.values})\n",
    "scores4 = pd.DataFrame({'student_id':scores2.keys(), 'grade_level_begin':scores2.values})\n",
    "studentsn = pd.merge(studentsshortnew, scores4, on='student_id')\n",
    "studentsn = pd.merge(studentsn, scores3, on='student_id')\n",
    "\n",
    "# Compute Increase in Skill Level over time, using correct information loaded\n",
    "\n",
    "studentsn['skill_increase'] = ((studentsn['grade_level']-studentsn['grade_level_begin'])/studentsn['time_enrolled'])\n",
    "studentsn['skill_increase_correct'] = ((studentsn['grade_level_end']-studentsn['grade_level_begin'])/studentsn['time_enrolled'])\n",
    "len(studentsn)\n",
    "\n",
    "# Data Cleaning \n",
    "\n",
    "studentsn = studentsn.dropna(how='any')\n",
    "studentsn = studentsn.replace([np.inf, -np.inf], np.nan).dropna(subset=[\"skill_increase\"], how=\"all\")\n",
    "studentsn = studentsn.replace([np.inf, -np.inf], np.nan).dropna(subset=[\"skill_increase_correct\"], how=\"all\")\n",
    "\n",
    "\n",
    "#Normalizing the feature\n",
    "studentsn['skill_increase_norm'] = studentsn['skill_increase']/studentsn['skill_increase'].max()\n",
    "studentsn['skill_increase_norm_correct'] = studentsn['skill_increase_correct']/studentsn['skill_increase_correct'].max()\n",
    "\n",
    "print(len(studentsn))\n",
    "studentsn.head()"
   ]
  },
  {
   "cell_type": "markdown",
   "metadata": {},
   "source": [
    "### Pre-processing and normalizing data"
   ]
  },
  {
   "cell_type": "code",
   "execution_count": 41,
   "metadata": {
    "collapsed": false
   },
   "outputs": [
    {
     "data": {
      "text/html": [
       "<div>\n",
       "<table border=\"1\" class=\"dataframe\">\n",
       "  <thead>\n",
       "    <tr style=\"text-align: right;\">\n",
       "      <th></th>\n",
       "      <th>camp_id</th>\n",
       "      <th>student_id</th>\n",
       "      <th>gender</th>\n",
       "      <th>date_of_birth</th>\n",
       "      <th>enroll_date</th>\n",
       "      <th>end_date</th>\n",
       "      <th>grade_level</th>\n",
       "      <th>city_student</th>\n",
       "      <th>country_student</th>\n",
       "      <th>zip_student</th>\n",
       "      <th>...</th>\n",
       "      <th>grade_level_begin</th>\n",
       "      <th>grade_level_end</th>\n",
       "      <th>skill_increase</th>\n",
       "      <th>skill_increase_correct</th>\n",
       "      <th>skill_increase_norm</th>\n",
       "      <th>skill_increase_norm_correct</th>\n",
       "      <th>age_enroll_norm</th>\n",
       "      <th>grade_level_begin_norm</th>\n",
       "      <th>grade_level_end_norm</th>\n",
       "      <th>gender_norm</th>\n",
       "    </tr>\n",
       "  </thead>\n",
       "  <tbody>\n",
       "    <tr>\n",
       "      <th>0</th>\n",
       "      <td>2824</td>\n",
       "      <td>61913</td>\n",
       "      <td>M</td>\n",
       "      <td>2002-01-22</td>\n",
       "      <td>2015-09-01</td>\n",
       "      <td>2015-11-30</td>\n",
       "      <td>12</td>\n",
       "      <td>Santa Rosa</td>\n",
       "      <td>USA</td>\n",
       "      <td>95409</td>\n",
       "      <td>...</td>\n",
       "      <td>11</td>\n",
       "      <td>12</td>\n",
       "      <td>0.011111</td>\n",
       "      <td>0.011111</td>\n",
       "      <td>0.008333</td>\n",
       "      <td>0.008333</td>\n",
       "      <td>0.282609</td>\n",
       "      <td>0.6875</td>\n",
       "      <td>0.571429</td>\n",
       "      <td>0</td>\n",
       "    </tr>\n",
       "    <tr>\n",
       "      <th>1</th>\n",
       "      <td>2824</td>\n",
       "      <td>61981</td>\n",
       "      <td>F</td>\n",
       "      <td>2008-01-21</td>\n",
       "      <td>2016-03-04</td>\n",
       "      <td>2016-05-28</td>\n",
       "      <td>7</td>\n",
       "      <td>Santa Rosa</td>\n",
       "      <td>USA</td>\n",
       "      <td>95409</td>\n",
       "      <td>...</td>\n",
       "      <td>5</td>\n",
       "      <td>7</td>\n",
       "      <td>0.023529</td>\n",
       "      <td>0.023529</td>\n",
       "      <td>0.017647</td>\n",
       "      <td>0.017647</td>\n",
       "      <td>0.173913</td>\n",
       "      <td>0.3125</td>\n",
       "      <td>0.333333</td>\n",
       "      <td>1</td>\n",
       "    </tr>\n",
       "    <tr>\n",
       "      <th>2</th>\n",
       "      <td>2824</td>\n",
       "      <td>61991</td>\n",
       "      <td>F</td>\n",
       "      <td>2004-09-25</td>\n",
       "      <td>2016-03-04</td>\n",
       "      <td>2016-05-26</td>\n",
       "      <td>7</td>\n",
       "      <td>Santa Rosa</td>\n",
       "      <td>USA</td>\n",
       "      <td>95409</td>\n",
       "      <td>...</td>\n",
       "      <td>6</td>\n",
       "      <td>7</td>\n",
       "      <td>0.012048</td>\n",
       "      <td>0.012048</td>\n",
       "      <td>0.009036</td>\n",
       "      <td>0.009036</td>\n",
       "      <td>0.239130</td>\n",
       "      <td>0.3750</td>\n",
       "      <td>0.333333</td>\n",
       "      <td>1</td>\n",
       "    </tr>\n",
       "    <tr>\n",
       "      <th>3</th>\n",
       "      <td>2824</td>\n",
       "      <td>62145</td>\n",
       "      <td>F</td>\n",
       "      <td>2005-06-11</td>\n",
       "      <td>2015-01-01</td>\n",
       "      <td>2015-08-23</td>\n",
       "      <td>10</td>\n",
       "      <td>Santa Rosa</td>\n",
       "      <td>USA</td>\n",
       "      <td>95409</td>\n",
       "      <td>...</td>\n",
       "      <td>2</td>\n",
       "      <td>9</td>\n",
       "      <td>0.034188</td>\n",
       "      <td>0.029915</td>\n",
       "      <td>0.025641</td>\n",
       "      <td>0.022436</td>\n",
       "      <td>0.195652</td>\n",
       "      <td>0.1250</td>\n",
       "      <td>0.428571</td>\n",
       "      <td>1</td>\n",
       "    </tr>\n",
       "    <tr>\n",
       "      <th>4</th>\n",
       "      <td>2824</td>\n",
       "      <td>62186</td>\n",
       "      <td>F</td>\n",
       "      <td>2007-09-28</td>\n",
       "      <td>2015-05-01</td>\n",
       "      <td>2015-05-24</td>\n",
       "      <td>6</td>\n",
       "      <td>Santa Rosa</td>\n",
       "      <td>USA</td>\n",
       "      <td>95409</td>\n",
       "      <td>...</td>\n",
       "      <td>5</td>\n",
       "      <td>6</td>\n",
       "      <td>0.043478</td>\n",
       "      <td>0.043478</td>\n",
       "      <td>0.032609</td>\n",
       "      <td>0.032609</td>\n",
       "      <td>0.152174</td>\n",
       "      <td>0.3125</td>\n",
       "      <td>0.285714</td>\n",
       "      <td>1</td>\n",
       "    </tr>\n",
       "  </tbody>\n",
       "</table>\n",
       "<p>5 rows × 39 columns</p>\n",
       "</div>"
      ],
      "text/plain": [
       "   camp_id  student_id gender date_of_birth enroll_date   end_date  \\\n",
       "0     2824       61913      M    2002-01-22  2015-09-01 2015-11-30   \n",
       "1     2824       61981      F    2008-01-21  2016-03-04 2016-05-28   \n",
       "2     2824       61991      F    2004-09-25  2016-03-04 2016-05-26   \n",
       "3     2824       62145      F    2005-06-11  2015-01-01 2015-08-23   \n",
       "4     2824       62186      F    2007-09-28  2015-05-01 2015-05-24   \n",
       "\n",
       "   grade_level city_student country_student zip_student     ...       \\\n",
       "0           12   Santa Rosa             USA       95409     ...        \n",
       "1            7   Santa Rosa             USA       95409     ...        \n",
       "2            7   Santa Rosa             USA       95409     ...        \n",
       "3           10   Santa Rosa             USA       95409     ...        \n",
       "4            6   Santa Rosa             USA       95409     ...        \n",
       "\n",
       "  grade_level_begin grade_level_end skill_increase skill_increase_correct  \\\n",
       "0                11              12       0.011111               0.011111   \n",
       "1                 5               7       0.023529               0.023529   \n",
       "2                 6               7       0.012048               0.012048   \n",
       "3                 2               9       0.034188               0.029915   \n",
       "4                 5               6       0.043478               0.043478   \n",
       "\n",
       "  skill_increase_norm skill_increase_norm_correct age_enroll_norm  \\\n",
       "0            0.008333                    0.008333        0.282609   \n",
       "1            0.017647                    0.017647        0.173913   \n",
       "2            0.009036                    0.009036        0.239130   \n",
       "3            0.025641                    0.022436        0.195652   \n",
       "4            0.032609                    0.032609        0.152174   \n",
       "\n",
       "   grade_level_begin_norm  grade_level_end_norm  gender_norm  \n",
       "0                  0.6875              0.571429            0  \n",
       "1                  0.3125              0.333333            1  \n",
       "2                  0.3750              0.333333            1  \n",
       "3                  0.1250              0.428571            1  \n",
       "4                  0.3125              0.285714            1  \n",
       "\n",
       "[5 rows x 39 columns]"
      ]
     },
     "execution_count": 41,
     "metadata": {},
     "output_type": "execute_result"
    }
   ],
   "source": [
    "# Normalizing other features: Age, End and Beginning Grade Level, Gender\n",
    "\n",
    "studentsn['age_enroll_norm'] = studentsn['age_enroll']/studentsn['age_enroll'].max()\n",
    "studentsn['grade_level_begin_norm'] = studentsn['grade_level_begin']/studentsn['grade_level_begin'].max()\n",
    "studentsn['grade_level_end_norm'] = studentsn['grade_level_end']/studentsn['grade_level_end'].max()\n",
    "studentsn['gender_norm'] = 0\n",
    "studentsn.ix[studentsn['gender'] == 'F', 'gender_norm'] = 1\n",
    "studentsn.head()"
   ]
  },
  {
   "cell_type": "markdown",
   "metadata": {},
   "source": [
    "## Machine Learning: Implementing Logistic Regression to classify students as short or long-term\n",
    " - Tried various combinations of features\n",
    " - Did 5-fold cross-validation on 80% of data\n",
    " - Also performed grid search to check for regularization parameter\n",
    " - Had a hold-out test set of 20%\n"
   ]
  },
  {
   "cell_type": "code",
   "execution_count": 42,
   "metadata": {
    "collapsed": false
   },
   "outputs": [
    {
     "name": "stdout",
     "output_type": "stream",
     "text": [
      "Accuracy of model on test set is 76.4573991031 %\n",
      "F1 scores are long-term/short-term[ 0.73684211  0.78701826]\n",
      "Precision scores are lt-st[ 0.80327869  0.73764259]\n",
      "Recall scores are lt-st[ 0.68055556  0.84347826]\n",
      "[[147  69]\n",
      " [ 36 194]]\n",
      "Predicting everything as falling as long term will give accuracy of 48.4304932735\n",
      "# Tuning hyper-parameters for accuracy\n",
      "()\n"
     ]
    },
    {
     "name": "stderr",
     "output_type": "stream",
     "text": [
      "/home/harisk87/anaconda2/envs/my_projects_env/lib/python2.7/site-packages/sklearn/grid_search.py:43: DeprecationWarning:\n",
      "\n",
      "This module was deprecated in version 0.18 in favor of the model_selection module into which all the refactored classes and functions are moved. This module will be removed in 0.20.\n",
      "\n"
     ]
    },
    {
     "name": "stdout",
     "output_type": "stream",
     "text": [
      "Best parameters set found on development set:\n",
      "()\n",
      "{'C': 100}\n",
      "()\n",
      "Grid scores on development set:\n",
      "()\n",
      "0.492 (+/-0.001) for {'C': 1e-13}\n",
      "0.758 (+/-0.049) for {'C': 0.1}\n",
      "0.789 (+/-0.036) for {'C': 1}\n",
      "0.798 (+/-0.012) for {'C': 10}\n",
      "0.800 (+/-0.020) for {'C': 100}\n",
      "0.798 (+/-0.021) for {'C': 1000}\n",
      "0.798 (+/-0.021) for {'C': 10000}\n",
      "0.798 (+/-0.021) for {'C': 1000000}\n",
      "0.798 (+/-0.021) for {'C': 1000000}\n",
      "0.798 (+/-0.021) for {'C': 10000000}\n",
      "0.798 (+/-0.021) for {'C': 100000000}\n",
      "0.798 (+/-0.021) for {'C': 100000000000000000000000000000L}\n",
      "()\n",
      "Detailed classification report:\n",
      "()\n",
      "The model is trained on the training set.\n",
      "The scores are computed on the test set.\n",
      "()\n",
      "             precision    recall  f1-score   support\n",
      "\n",
      "          0       0.88      0.80      0.84       226\n",
      "          1       0.81      0.89      0.85       220\n",
      "\n",
      "avg / total       0.85      0.85      0.85       446\n",
      "\n",
      "()\n",
      "[4 3 2 0 1]\n",
      "['Distance', 'Median Income', 'Age Enrolled', 'Begin Skill Level', 'End Skill Level']\n",
      "['Distance' 'Median Income' 'Age Enrolled' 'Begin Skill Level'\n",
      " 'End Skill Level']\n",
      "['End Skill Level' 'Begin Skill Level' 'Age Enrolled' 'Distance'\n",
      " 'Median Income']\n"
     ]
    },
    {
     "data": {
      "text/html": [
       "<div id=\"e5f8e589-debd-4f00-ac3b-f906cd3425f3\" style=\"height: 525px; width: 100%;\" class=\"plotly-graph-div\"></div><script type=\"text/javascript\">require([\"plotly\"], function(Plotly) { window.PLOTLYENV=window.PLOTLYENV || {};window.PLOTLYENV.BASE_URL=\"https://plot.ly\";Plotly.newPlot(\"e5f8e589-debd-4f00-ac3b-f906cd3425f3\", [{\"marker\": {\"color\": \"rgb(0, 128, 128)\"}, \"y\": [1.0, 0.4046230028033084, 0.35040575958498615, 0.03919133703478523, 0.0221068931701539], \"type\": \"bar\", \"x\": [\"End Skill Level\", \"Begin Skill Level\", \"Age Enrolled\", \"Distance\", \"Median Income\"]}], {\"yaxis\": {\"tickfont\": {\"size\": 20}, \"title\": \"Coefficients (Normalized)\", \"titlefont\": {\"size\": 24}, \"showgrid\": false}, \"titlefont\": {\"size\": 24}, \"xaxis\": {\"tickfont\": {\"size\": 20}}, \"title\": \"Feature Coefficients\"}, {\"linkText\": \"Export to plot.ly\", \"showLink\": true})});</script>"
      ],
      "text/plain": [
       "<IPython.core.display.HTML object>"
      ]
     },
     "metadata": {},
     "output_type": "display_data"
    },
    {
     "data": {
      "text/html": [
       "<div id=\"497a88c7-cc70-4668-9f84-cdee917dc17e\" style=\"height: 525px; width: 100%;\" class=\"plotly-graph-div\"></div><script type=\"text/javascript\">require([\"plotly\"], function(Plotly) { window.PLOTLYENV=window.PLOTLYENV || {};window.PLOTLYENV.BASE_URL=\"https://plot.ly\";Plotly.newPlot(\"497a88c7-cc70-4668-9f84-cdee917dc17e\", [{\"y\": [0.11992120880498651, 0.06764467743303884, 1.0722033347411493, 1.2381021745547622, 3.0598907278551764], \"x\": [\"Distance\", \"Median Income\", \"Age Enrolled\", \"Begin Skill Level\", \"End Skill Level\"], \"type\": \"bar\"}], {\"yaxis\": {\"title\": \"Coefficients\"}, \"xaxis\": {\"title\": \"Features\"}, \"title\": \" Feature Coefficients\"}, {\"linkText\": \"Export to plot.ly\", \"showLink\": true})});</script>"
      ],
      "text/plain": [
       "<IPython.core.display.HTML object>"
      ]
     },
     "metadata": {},
     "output_type": "display_data"
    },
    {
     "data": {
      "text/html": [
       "<div id=\"4ccd34c8-b393-446e-876d-4eb8b7354bb8\" style=\"height: 525px; width: 100%;\" class=\"plotly-graph-div\"></div><script type=\"text/javascript\">require([\"plotly\"], function(Plotly) { window.PLOTLYENV=window.PLOTLYENV || {};window.PLOTLYENV.BASE_URL=\"https://plot.ly\";Plotly.newPlot(\"4ccd34c8-b393-446e-876d-4eb8b7354bb8\", [{\"y\": [-2.120920345143648, -2.693486605464477, 0.0697157225922026, 0.21357970280736524, 1.118379205475428], \"x\": [\"Distance\", \"Median Income\", \"Age Enrolled\", \"Begin Skill Level\", \"End Skill Level\"], \"type\": \"bar\"}], {\"yaxis\": {\"title\": \"Coefficients\"}, \"xaxis\": {\"title\": \"Features\"}, \"title\": \"Log Feature Coefficients\"}, {\"linkText\": \"Export to plot.ly\", \"showLink\": true})});</script>"
      ],
      "text/plain": [
       "<IPython.core.display.HTML object>"
      ]
     },
     "metadata": {},
     "output_type": "display_data"
    }
   ],
   "source": [
    "# Logistic Regression\n",
    "\n",
    "# Trying various feature combinations to see which predicts churn well\n",
    "\n",
    "\n",
    "#feature_cols = ['age_enroll','days_open', 'dist_norm', 'median_income_norm',  'grade_level_end','grade_level_begin', 'skill_increase_norm_correct']\n",
    "\n",
    "#feature_cols = ['age_enroll_norm', 'grade_level_begin_norm', 'days_open', 'gender_norm', 'skill_increase_norm_correct']\n",
    "#vv = ['Age Enrolled', 'Rate of Increase of Skill Level', 'Begin Skill Level']\n",
    "\n",
    "\n",
    "#feature_cols = ['dist_norm','median_income_norm', 'age_enroll','days_open',  'grade_level_end','grade_level_begin', 'gender_norm']\n",
    "#vv = ['Distance', 'Median Income' , 'Age Enrolled', 'Days Open', 'Ending Skill Level','Begin Skill Level', 'Gender']\n",
    "\n",
    "\n",
    "#feature_cols = ['age_enroll','days_open',  'grade_level_end','grade_level_begin', 'gender_norm']\n",
    "#vv = ['Age Enrolled', 'Days Open', 'End Skill Level','Begin Skill Level', 'Gender']\n",
    "\n",
    "\n",
    "feature_cols = ['dist_norm','median_income_norm' ,'age_enroll_norm', 'grade_level_begin_norm',  'grade_level_end_norm']\n",
    "vv = ['Distance', 'Median Income', 'Age Enrolled', 'Begin Skill Level', 'End Skill Level']\n",
    "\n",
    "#feature_cols = ['age_enroll_norm', 'skill_increase_norm_correct', 'grade_level_begin_norm',  'grade_level_end_norm']\n",
    "#vv = ['Age Enrolled', 'Growth', 'Begin Skill Level', 'End Skill Level']\n",
    "\n",
    "xprev = studentsn[feature_cols]#.reset_index()[feature_cols]\n",
    "y = studentsn['short_term']#.reset_index()['short_term']x\n",
    "\n",
    "#xprev = studentsn[studentsn['time_enrolled'] < 1000][feature_cols] # without outliers - same importance and accuracy\n",
    "#y = studentsn[studentsn['time_enrolled'] < 1000]['short_term']\n",
    "\n",
    "x = xprev\n",
    "\n",
    "\n",
    "# Train-Test Split 80-20 \n",
    "\n",
    "X_train,X_test,y_train,y_test = train_test_split(x,y,test_size=0.2)\n",
    "L = logreg.fit(X_train,y_train)\n",
    "y_pred = logreg.predict(X_test)\n",
    "\n",
    "print 'Accuracy of model on test set is ' + str(metrics.accuracy_score(y_test,y_pred)*100) +' %'\n",
    "print('F1 scores are long-term/short-term' + str(f1_score(y_test, y_pred, average=None)))\n",
    "print('Precision scores are lt-st' + str(precision_score(y_test, y_pred, average=None)))\n",
    "print('Recall scores are lt-st' + str(recall_score(y_test, y_pred, average=None)))\n",
    "print metrics.confusion_matrix(y_test, y_pred)\n",
    "print (\"Predicting everything as falling as long term will give accuracy of \"+ str((len([i for i in y_test if i == 0])/float(len(y_test)))*100))\n",
    "\n",
    "fimplr = logreg.coef_\n",
    "#vv = list(x)\n",
    "\n",
    "# Implementing grid search and 5-fold cross-validation\n",
    "\n",
    "from sklearn.grid_search import GridSearchCV\n",
    "from sklearn.metrics import classification_report\n",
    "\n",
    "def crossValidate(model,param_grid,X,y,scores):\n",
    "\n",
    "    X_train,X_test,y_train,y_test = train_test_split(X,y,test_size=0.2)\n",
    "\n",
    "    for score in scores:\n",
    "        print(\"# Tuning hyper-parameters for %s\" % score)\n",
    "        print()\n",
    "\n",
    "        grid = GridSearchCV(model, param_grid, cv=5, scoring=score)\n",
    "        grid.fit(X_train,y_train)\n",
    "\n",
    "        print(\"Best parameters set found on development set:\")\n",
    "        print()\n",
    "        print(grid.best_params_)\n",
    "        print()\n",
    "        print(\"Grid scores on development set:\")\n",
    "        print()\n",
    "        for params, mean_score, scores in grid.grid_scores_:\n",
    "            print(\"%0.3f (+/-%0.03f) for %r\"\n",
    "                  % (mean_score, scores.std() * 2, params))\n",
    "        print()\n",
    "\n",
    "        print(\"Detailed classification report:\")\n",
    "        print()\n",
    "        print(\"The model is trained on the training set.\")\n",
    "        print(\"The scores are computed on the test set.\")\n",
    "        print()\n",
    "        y_true, y_pred = y_test, grid.predict(X_test)\n",
    "        print(classification_report(y_true, y_pred))\n",
    "        print()\n",
    "logreg = LogisticRegression(penalty = \"l2\", class_weight = 'balanced', tol = 0.0001)\n",
    "Cvals = [0.0000000000001,0.1,1,10,100,1000,10000,1000000,1000000,10000000,100000000,100000000000000000000000000000]\n",
    "param_grid = dict(C=Cvals)\n",
    "scores = ['accuracy']\n",
    "crossValidate(logreg,param_grid,x,y,scores)\n",
    "\n",
    "\n",
    "# Plotting feature coefficients - sorted and normalized\n",
    "\n",
    "yv = abs(fimplr.ravel())\n",
    "yvv = yv/yv.max()\n",
    "\n",
    "inds = yvv.argsort()[::-1]\n",
    "print(inds)\n",
    "print(vv)\n",
    "vvv = np.array(vv)\n",
    "print(vvv)\n",
    "sortvv = vvv[inds]\n",
    "print(sortvv)\n",
    "data = [Bar(x=sortvv,y=np.sort(yvv)[::-1], marker=dict(color='rgb(0, 128, 128)'))]\n",
    "\n",
    "layout = Layout(xaxis=dict(tickfont=dict(size=20)),\n",
    "                 yaxis=dict(title='Coefficients (Normalized)', showgrid=False, tickfont=dict(size=20), titlefont=dict(size=24)),\n",
    "                title='Feature Coefficients', titlefont=dict(size=24))\n",
    "\n",
    "\n",
    "fig1 = Figure(data=data, layout=layout)\n",
    "iplot(fig1)\n",
    "\n",
    "\n",
    "# Plotting feature coefficients \n",
    "\n",
    "\n",
    "data = [Bar(x=vv,y=abs(fimplr.ravel()))]\n",
    "\n",
    "layout = Layout(xaxis=dict(title = 'Features'),\n",
    "                 yaxis=dict(title='Coefficients'),\n",
    "                title=' Feature Coefficients')\n",
    "\n",
    "\n",
    "fig1 = Figure(data=data, layout=layout)\n",
    "iplot(fig1)\n",
    "\n",
    "\n",
    "# Plotting Log feature coefficients \n",
    "\n",
    "\n",
    "yv = abs(fimplr.ravel())\n",
    "\n",
    "data = [Bar(x=vv,y=np.log(yv))]\n",
    "layout = Layout(xaxis=dict(title = 'Features'),\n",
    "                 yaxis=dict(title='Coefficients'),\n",
    "                title='Log Feature Coefficients')\n",
    "\n",
    "fig1 = Figure(data=data, layout=layout)\n",
    "iplot(fig1)"
   ]
  },
  {
   "cell_type": "markdown",
   "metadata": {},
   "source": [
    "## Statistical tests: \n",
    "- Testing if short-term and long-term students are significantly different in terms of their\n",
    "    - rate of skill increase\n",
    "    - beginning skill level\n",
    "    - distance commuted\n",
    "    - median income\n",
    "    - age enrolled\n",
    "    - ending skill level\n",
    "    - number of days the center they attend is open\n",
    "- Using the p value, t value and effect size"
   ]
  },
  {
   "cell_type": "code",
   "execution_count": 43,
   "metadata": {
    "collapsed": false
   },
   "outputs": [
    {
     "name": "stdout",
     "output_type": "stream",
     "text": [
      "The p value is 4.05276648762e-28 and the t value is 5.61313304513\n",
      "The effect size is 0.473591177663\n",
      "SHort terms increase skills on average at rate 0.0186335403727\n",
      "LOng terms increase skills on avergae at rate 0.00796020688617\n",
      "\n",
      " The p value is 0.0127760178808 and the t value is 1.11723781798\n",
      "The effect size is 0.0947476616482\n",
      "SHort terms begin at grade level 6.14133333333\n",
      "LOng terms begin at grade level 5.90760869565\n",
      "\n",
      " The p value is 0.310625146601 and the t value is 0.247074074105\n",
      "The effect size is 0.0209420240341\n",
      "SHort terms commute 3.10984037795\n",
      "LOng terms commute 3.03465083303\n",
      "\n",
      "The p value is 0.422897904187 and the t value is 0.0972540495816\n",
      "The effect size is 0.00824202570695\n",
      "SHort terms income 88695.1208889\n",
      "LOng terms income 88467.8097826\n",
      "\n",
      "The p value is 7.01374482192e-11 and the t value is 3.22366082497\n",
      "The effect size is 0.272972052696\n",
      "SHort terms enroll age 9.0\n",
      "LOng terms enroll age 8.0\n",
      "\n",
      "The p value is 0.0127760178808 and the t value is 1.11723781798\n",
      "The effect size is 0.0947476616482\n",
      "SHort terms entry level 6.0\n",
      "LOng terms entry level 6.0\n",
      "\n",
      "The p value is 4.54723608376e-85 and the t value is -10.1943912045\n",
      "The effect size is -0.864539270142\n",
      "SHort terms exit level 8.0\n",
      "LOng terms exit level 11.0\n",
      "\n",
      "The p value is 0.311673406212 and the t value is 0.245590518894\n",
      "The effect size is 0.020816553039\n",
      "SHort terms days open 2.27555555556\n",
      "LOng terms days open 2.26630434783\n"
     ]
    }
   ],
   "source": [
    "import scipy as sp\n",
    "\n",
    "# define function for cohen's d:\n",
    "\n",
    "def cohensd(val1,val2):\n",
    "    return ( np.mean(val1) - np.mean(val2) ) / np.sqrt( (np.std(val1) ** 2 + np.std(val2) ** 2) / 2 )\n",
    "\n",
    "\n",
    "# Test if long-term and short term students are significantly different:\n",
    "\n",
    "stsk = studentsn[studentsn['short_term']==1]['skill_increase_correct']\n",
    "ltsk = studentsn[studentsn['short_term']==0]['skill_increase_correct']\n",
    "print(\"The p value is \" + str(sp.stats.ttest_ind(stsk, ltsk,axis=0, equal_var=False).pvalue/float(2)) + \" and the t value is \" + str(sp.stats.ttest_ind(stsk, ltsk,axis=0, equal_var=False).statistic/float(2)))\n",
    "print (\"The effect size is \" + str(cohensd(stsk, ltsk)))\n",
    "print(\"SHort terms increase skills on average at rate \" + str(np.median(stsk)))\n",
    "print(\"LOng terms increase skills on avergae at rate \" + str(np.median(ltsk)))\n",
    "\n",
    "\n",
    "stsk = studentsn[studentsn['short_term']==1]['grade_level_begin']\n",
    "ltsk = studentsn[studentsn['short_term']==0]['grade_level_begin']\n",
    "print(\"\\n The p value is \" + str(sp.stats.ttest_ind(stsk, ltsk,axis=0, equal_var=False).pvalue/float(2)) + \" and the t value is \" + str(sp.stats.ttest_ind(stsk, ltsk,axis=0, equal_var=False).statistic/float(2)))\n",
    "print (\"The effect size is \" + str(cohensd(stsk, ltsk)))\n",
    "print(\"SHort terms begin at grade level \" + str(np.mean(stsk)))\n",
    "print(\"LOng terms begin at grade level \" + str(np.mean(ltsk)))\n",
    "\n",
    "\n",
    "stsk = studentsn[studentsn['short_term']==1]['dist']\n",
    "ltsk = studentsn[studentsn['short_term']==0]['dist']\n",
    "print(\"\\n The p value is \" + str(sp.stats.ttest_ind(stsk, ltsk,axis=0, equal_var=False).pvalue/float(2)) + \" and the t value is \" + str(sp.stats.ttest_ind(stsk, ltsk,axis=0, equal_var=False).statistic/float(2)))\n",
    "print (\"The effect size is \" + str(cohensd(stsk, ltsk)))\n",
    "print(\"SHort terms commute \" + str(np.mean(stsk)))\n",
    "print(\"LOng terms commute \" + str(np.mean(ltsk)))\n",
    "\n",
    "\n",
    "stsk = studentsn[studentsn['short_term']==1]['median_income']\n",
    "ltsk = studentsn[studentsn['short_term']==0]['median_income']\n",
    "print(\"\\nThe p value is \" + str(sp.stats.ttest_ind(stsk, ltsk,axis=0, equal_var=False).pvalue/float(2)) + \" and the t value is \" + str(sp.stats.ttest_ind(stsk, ltsk,axis=0, equal_var=False).statistic/float(2)))\n",
    "print (\"The effect size is \" + str(cohensd(stsk, ltsk)))\n",
    "print(\"SHort terms income \" + str(np.mean(stsk)))\n",
    "print(\"LOng terms income \" + str(np.mean(ltsk)))\n",
    "\n",
    "\n",
    "stsk = studentsn[studentsn['short_term']==1]['age_enroll']\n",
    "ltsk = studentsn[studentsn['short_term']==0]['age_enroll']\n",
    "print(\"\\nThe p value is \" + str(sp.stats.ttest_ind(stsk, ltsk,axis=0, equal_var=False).pvalue/float(2)) + \" and the t value is \" + str(sp.stats.ttest_ind(stsk, ltsk,axis=0, equal_var=False).statistic/float(2)))\n",
    "print (\"The effect size is \" + str(cohensd(stsk, ltsk)))\n",
    "print(\"SHort terms enroll age \" + str(np.median(stsk)))\n",
    "print(\"LOng terms enroll age \" + str(np.median(ltsk)))\n",
    "\n",
    "\n",
    "stsk = studentsn[studentsn['short_term']==1]['grade_level_begin']\n",
    "ltsk = studentsn[studentsn['short_term']==0]['grade_level_begin']\n",
    "print(\"\\nThe p value is \" + str(sp.stats.ttest_ind(stsk, ltsk,axis=0, equal_var=False).pvalue/float(2)) + \" and the t value is \" + str(sp.stats.ttest_ind(stsk, ltsk,axis=0, equal_var=False).statistic/float(2)))\n",
    "print (\"The effect size is \" + str(cohensd(stsk, ltsk)))\n",
    "print(\"SHort terms entry level \" + str(np.median(stsk)))\n",
    "print(\"LOng terms entry level \" + str(np.median(ltsk)))\n",
    "\n",
    "\n",
    "stsk = studentsn[studentsn['short_term']==1]['grade_level_end']\n",
    "ltsk = studentsn[studentsn['short_term']==0]['grade_level_end']\n",
    "print(\"\\nThe p value is \" + str(sp.stats.ttest_ind(stsk, ltsk,axis=0, equal_var=False).pvalue/float(2)) + \" and the t value is \" + str(sp.stats.ttest_ind(stsk, ltsk,axis=0, equal_var=False).statistic/float(2)))\n",
    "print (\"The effect size is \" + str(cohensd(stsk, ltsk)))\n",
    "print(\"SHort terms exit level \" + str(np.median(stsk)))\n",
    "print(\"LOng terms exit level \" + str(np.median(ltsk)))\n",
    "\n",
    "\n",
    "stsk = studentsn[studentsn['short_term']==1]['days_open']\n",
    "ltsk = studentsn[studentsn['short_term']==0]['days_open']\n",
    "print(\"\\nThe p value is \" + str(sp.stats.ttest_ind(stsk, ltsk,axis=0, equal_var=False).pvalue/float(2)) + \" and the t value is \" + str(sp.stats.ttest_ind(stsk, ltsk,axis=0, equal_var=False).statistic/float(2)))\n",
    "print (\"The effect size is \" + str(cohensd(stsk, ltsk)))\n",
    "print(\"SHort terms days open \" + str(np.mean(stsk)))\n",
    "print(\"LOng terms days open \" + str(np.mean(ltsk)))"
   ]
  },
  {
   "cell_type": "markdown",
   "metadata": {},
   "source": [
    "## Insights from Data Visualization and Analysis \n",
    "\n",
    "I visualized the data to gain some insights into the features that were predicting churn"
   ]
  },
  {
   "cell_type": "code",
   "execution_count": 45,
   "metadata": {
    "collapsed": false
   },
   "outputs": [
    {
     "data": {
      "text/html": [
       "<div id=\"216d3bee-e000-4d85-8a52-80e66e946884\" style=\"height: 525px; width: 100%;\" class=\"plotly-graph-div\"></div><script type=\"text/javascript\">require([\"plotly\"], function(Plotly) { window.PLOTLYENV=window.PLOTLYENV || {};window.PLOTLYENV.BASE_URL=\"https://plot.ly\";Plotly.newPlot(\"216d3bee-e000-4d85-8a52-80e66e946884\", [{\"name\": \"Short-Term Enrollees\", \"marker\": {\"color\": \"rgb(100, 100, 200)\", \"size\": 5}, \"mode\": \"markers\", \"y\": [90, 85, 83, 23, 98, 82, 77, 207, 148, 148, 149, 229, 140, 147, 41, 47, 57, 205, 225, 59, 54, 161, 187, 76, 113, 142, 167, 86, 31, 51, 27, 74, 38, 17, 212, 40, 53, 41, 119, 107, 85, 109, 98, 23, 41, 229, 68, 133, 97, 101, 12, 210, 12, 13, 193, 53, 84, 13, 77, 36, 196, 77, 77, 77, 52, 52, 154, 50, 115, 146, 59, 18, 160, 175, 117, 111, 118, 82, 77, 224, 221, 103, 80, 108, 137, 173, 105, 87, 87, 104, 66, 87, 48, 77, 161, 175, 40, 224, 180, 180, 196, 157, 196, 180, 91, 210, 209, 162, 3, 175, 114, 40, 155, 159, 150, 34, 37, 114, 126, 126, 116, 25, 62, 106, 78, 122, 74, 74, 47, 93, 191, 69, 191, 131, 32, 14, 173, 28, 208, 210, 41, 54, 210, 196, 124, 40, 156, 196, 18, 13, 30, 77, 21, 84, 88, 112, 224, 110, 203, 122, 146, 201, 155, 67, 197, 229, 105, 14, 13, 136, 57, 85, 99, 59, 137, 113, 182, 141, 34, 173, 134, 53, 196, 152, 31, 197, 212, 210, 105, 68, 140, 139, 42, 160, 112, 61, 176, 157, 208, 143, 171, 150, 14, 14, 211, 211, 211, 57, 196, 196, 42, 116, 133, 44, 89, 89, 65, 37, 16, 97, 104, 224, 173, 73, 114, 80, 209, 102, 227, 45, 14, 230, 219, 36, 123, 31, 189, 191, 91, 53, 19, 19, 23, 6, 157, 26, 176, 92, 77, 61, 62, 122, 222, 146, 149, 121, 150, 143, 141, 181, 36, 92, 153, 32, 168, 193, 174, 19, 12, 24, 19, 206, 89, 64, 72, 30, 197, 77, 101, 25, 73, 37, 171, 159, 6, 87, 31, 59, 153, 63, 51, 103, 196, 73, 83, 60, 56, 23, 73, 71, 53, 54, 86, 117, 46, 228, 228, 38, 38, 176, 39, 42, 106, 86, 122, 201, 80, 168, 141, 177, 77, 179, 181, 81, 74, 41, 102, 102, 55, 212, 212, 69, 212, 222, 25, 220, 111, 172, 172, 52, 114, 134, 220, 77, 140, 76, 42, 58, 107, 111, 5, 173, 23, 23, 42, 114, 35, 40, 42, 76, 69, 117, 53, 84, 39, 83, 34, 179, 126, 14, 25, 154, 46, 88, 214, 163, 188, 137, 103, 23, 188, 39, 220, 22, 19, 138, 128, 97, 83, 47, 43, 9, 84, 139, 190, 63, 55, 230, 69, 21, 178, 96, 92, 104, 79, 87, 104, 133, 105, 48, 124, 164, 1, 76, 132, 168, 90, 105, 28, 185, 27, 48, 137, 153, 216, 211, 104, 49, 72, 177, 66, 48, 45, 55, 188, 174, 135, 19, 87, 142, 110, 111, 184, 110, 81, 134, 122, 107, 23, 212, 9, 7, 172, 172, 13, 50, 27, 29, 83, 128, 38, 46, 57, 216, 140, 50, 50, 167, 43, 178, 56, 195, 157, 28, 144, 129, 175, 169, 93, 84, 112, 157, 97, 112, 169, 211, 132, 24, 98, 69, 7, 16, 197, 57, 45, 45, 177, 49, 58, 106, 106, 96, 169, 75, 45, 45, 107, 30, 52, 205, 77, 166, 130, 94, 69, 52, 87, 30, 86, 87, 83, 82, 78, 45, 111, 119, 224, 157, 27, 63, 198, 148, 87, 126, 119, 223, 170, 90, 176, 134, 226, 221, 16, 85, 86, 53, 23, 28, 28, 35, 37, 35, 17, 149, 25, 24, 25, 119, 57, 115, 212, 101, 137, 133, 70, 137, 178, 140, 116, 84, 193, 187, 184, 176, 99, 56, 15, 101, 69, 122, 124, 98, 177, 35, 23, 184, 163, 11, 110, 175, 136, 12, 77, 70, 42, 43, 116, 170, 76, 191, 7, 98, 156, 148, 143, 39, 207, 93, 46, 52, 41, 218, 78, 200, 30, 30, 48, 91, 9, 48, 92, 11, 108, 58, 121, 55, 82, 208, 228, 49, 154, 141, 160, 85, 78, 79, 64, 69, 43, 171, 175, 15, 44, 80, 30, 189, 230, 30, 30, 215, 130, 149, 142, 29, -102, 224, 199, 31, 189, 56, 134, 41, 169, 66, 156, 83, 176, 39, 81, 36, 189, 20, 211, 50, 220, 211, 211, 116, 86, 19, 135, 55, 100, 226, 40, 37, 141, 159, 132, 228, 39, 77, 2, 197, 34, 77, 176, 173, 78, 66, 99, 218, 16, 39, 114, 62, 133, 174, 91, 104, 66, 202, 80, 138, 100, 162, 174, 19, 148, 131, 197, 148, 118, 120, 28, 28, 148, 219, 138, 89, 55, 85, 83, 139, 65, 206, 6, 84, 132, 41, 227, 23, 20, 30, 118, 123, 38, 149, 132, 149, 77, 88, 118, 103, 88, 191, 198, 34, 122, 23, 107, 193, 192, 198, 62, 91, 83, 51, 37, 44, 142, 114, 202, 113, 227, 51, 99, 46, 215, 198, 117, 19, 20, 86, 230, 164, 65, 28, 128, 71, 147, 223, 114, 111, 114, 48, 105, 5, 201, 44, 134, 153, 19, 215, 156, 212, 147, 166, 73, 71, 96, 84, 77, 125, 104, 177, 183, 140, 39, 49, 119, 198, 169, 14, 187, 77, 63, 48, 168, 168, 139, 139, 15, 111, 167, 138, 34, 177, 190, 135, 14, 29, 29, 213, 152, 41, 101, 60, 14, 164, 160, 197, 211, 64, 98, 79, 210, 192, 79, 21, 14, 214, 230, 194, 175, 108, 195, 195, 83, 170, 58, 112, 142, 90, 47, 189, 170, 28, 180, 133, 143, 37, 58, 51, 105, 177, 126, 34, 77, 55, 74, 140, 132, 137, 137, 13, 171, 63, 179, 97, 173, 228, 161, 180, 189, 62, 81, 73, 198, 106, 179, 161, 200, 163, 183, 151, 28, 151, 99, 184, 184, 217, 57, 79, 26, 35, 212, 112, 112, 175, 122, 118, 192, 189, 14, 168, 77, 124, 90, 148, 58, 217, 211, 85, 148, 24, 50, 51, 28, 75, 25, 67, 149, 182, 168, 123, 118, 67, 63, 101, 101, 8, 107, 51, 143, 163, 75, 124, 58, 104, 87, 106, 152, 121, 76, 228, 59, 12, 76, 128, 64, 89, 25, 15, 59, 15, 166, 179, 211, 209, 23, 30, 39, 77, 57, 48, 48, 26, 60, 26, 60, 32, 20, 206, 14, 93, 136, 37, 75, 149, 213, 88, 142, 75, 57, 209, 107, 75, 105, 100, 100, 42, 76, 214, 85, 47, 149, 46, 16, 133, 112, 175, 177, 30, 100, 53, 138, 145, 19, 108, 89, 53, 11, 224, 88, 220, 76, 99, 91, 124, 48, 46, 98, 45, 98, 29, 14, 14, 14, 21, 20, 46, 133, 159, 73, 43, 108, 20, 20, 18, 152, 49, 173, 90, 211, 67, 39, 137, 116, 58, 27, 18, 56, 56, 119, 56, 41, 31, 60, 123, 123, 25, 110, 58, 176, 70, 67, 63, 78, 90, 90, 70, 33, 71, 166, 91, 44, 34, 151, 35, 61, 37, 18, 172, 121, 37, 21, 165, 161, 21, 119, 14, 212, 21, 3], \"x\": [0.011111111111111112, 0.023529411764705882, 0.012048192771084338, 0.043478260869565216, 0.01020408163265306, 0.08536585365853659, 0.012987012987012988, 0.04830917874396135, 0.013513513513513514, 0.006756756756756757, 0.013422818791946308, 0.034934497816593885, 0.014285714285714285, 0.013605442176870748, 0.04878048780487805, 0.0, 0.03508771929824561, 0.00975609756097561, 0.008888888888888889, 0.1016949152542373, 0.07407407407407407, 0.018633540372670808, 0.0213903743315508, 0.05263157894736842, 0.008849557522123894, 0.014084507042253521, 0.023952095808383235, 0.011627906976744186, 0.03225806451612903, 0.0784313725490196, 0.1111111111111111, 0.02702702702702703, 0.02631578947368421, 0.0, 0.014150943396226415, 0.025, 0.018867924528301886, 0.024390243902439025, 0.008403361344537815, 0.009345794392523364, 0.047058823529411764, 0.009174311926605505, 0.01020408163265306, 0.21739130434782608, 0.04878048780487805, 0.034934497816593885, 0.014705882352941176, 0.015037593984962405, 0.020618556701030927, 0.019801980198019802, 0.16666666666666666, 0.023809523809523808, 0.16666666666666666, 0.15384615384615385, 0.010362694300518135, 0.0, 0.011904761904761904, 0.0, 0.012987012987012988, 0.05555555555555555, 0.01020408163265306, 0.012987012987012988, 0.025974025974025976, 0.025974025974025976, 0.057692307692307696, 0.057692307692307696, 0.006493506493506494, 0.04, 0.05217391304347826, 0.00684931506849315, 0.01694915254237288, 0.05555555555555555, 0.0125, 0.005714285714285714, 0.0, 0.04504504504504504, 0.03389830508474576, 0.012195121951219513, 0.025974025974025976, 0.008928571428571428, 0.00904977375565611, 0.019417475728155338, 0.025, 0.009259259259259259, 0.014598540145985401, 0.011560693641618497, 0.009523809523809525, 0.022988505747126436, 0.022988505747126436, 0.019230769230769232, 0.015151515151515152, 0.011494252873563218, 0.041666666666666664, 0.025974025974025976, 0.031055900621118012, 0.022857142857142857, 0.05, 0.008928571428571428, 0.022222222222222223, 0.011111111111111112, 0.01020408163265306, 0.012738853503184714, 0.01020408163265306, 0.022222222222222223, 0.03296703296703297, 0.009523809523809525, 0.014354066985645933, 0.006172839506172839, 1.3333333333333333, 0.011428571428571429, 0.02631578947368421, 0.05, 0.012903225806451613, 0.006289308176100629, 0.006666666666666667, 0.029411764705882353, 0.02702702702702703, 0.017543859649122806, 0.015873015873015872, 0.023809523809523808, 0.02586206896551724, 0.0, 0.04838709677419355, 0.0, 0.02564102564102564, 0.05737704918032787, 0.0, 0.0, 0.02127659574468085, 0.03225806451612903, 0.015706806282722512, 0.014492753623188406, 0.020942408376963352, 0.007633587786259542, 0.0, 0.0, 0.017341040462427744, 0.0, 0.009615384615384616, 0.009523809523809525, 0.04878048780487805, 0.0, 0.01904761904761905, 0.01020408163265306, 0.008064516129032258, 0.0, 0.01282051282051282, 0.01020408163265306, 0.0, 0.0, 0.03333333333333333, 0.025974025974025976, 0.09523809523809523, 0.011904761904761904, 0.022727272727272728, 0.026785714285714284, 0.008928571428571428, 0.00909090909090909, 0.019704433497536946, 0.01639344262295082, 0.00684931506849315, 0.004975124378109453, 0.025806451612903226, 0.029850746268656716, 0.030456852791878174, 0.004366812227074236, 0.02857142857142857, 0.0, 0.0, 0.022058823529411766, 0.08771929824561403, 0.023529411764705882, 0.010101010101010102, 0.03389830508474576, 0.0072992700729927005, 0.0, 0.016483516483516484, 0.0070921985815602835, 0.0, 0.005780346820809248, 0.07462686567164178, 0.18867924528301888, 0.00510204081632653, 0.019736842105263157, 0.0, 0.005076142131979695, 0.009433962264150943, 0.014285714285714285, 0.02857142857142857, 0.014705882352941176, 0.007142857142857143, 0.014388489208633094, 0.023809523809523808, 0.01875, 0.008928571428571428, 0.01639344262295082, 0.017045454545454544, 0.006369426751592357, 0.009615384615384616, 0.013986013986013986, 0.017543859649122806, 0.013333333333333334, 0.0, 0.0, 0.009478672985781991, 0.009478672985781991, 0.009478672985781991, 0.017543859649122806, 0.015306122448979591, 0.02040816326530612, 0.023809523809523808, 0.02586206896551724, 0.022556390977443608, 0.022727272727272728, 0.033707865168539325, 0.033707865168539325, 0.015384615384615385, 0.0, 0.0, 0.020618556701030927, 0.019230769230769232, 0.013392857142857142, 0.005780346820809248, 0.0273972602739726, 0.008771929824561403, 0.025, 0.019138755980861243, 0.00980392156862745, 0.013215859030837005, 0.0, 0.0, 0.02608695652173913, 0.0365296803652968, 0.027777777777777776, 0.0, 0.06451612903225806, 0.042328042328042326, 0.03664921465968586, 0.054945054945054944, 0.18867924528301888, 0.0, 0.0, 0.0, 0.0, 0.006369426751592357, 0.0, 0.011363636363636364, 0.0, 0.012987012987012988, 0.0, 0.0, 0.03278688524590164, 0.013513513513513514, 0.0136986301369863, 0.013422818791946308, 0.049586776859504134, 0.013333333333333334, 0.013986013986013986, 0.02127659574468085, 0.016574585635359115, 0.0, 0.0, 0.0, 0.03125, 0.011904761904761904, 0.010362694300518135, 0.011494252873563218, 0.0, 0.25, 0.041666666666666664, 0.05263157894736842, 0.019417475728155338, 0.11235955056179775, 0.015625, 0.013888888888888888, 0.03333333333333333, 0.01015228426395939, 0.0, 0.0297029702970297, 0.0, 0.0136986301369863, 0.02702702702702703, 0.04093567251461988, 0.05660377358490566, 0.0, 0.034482758620689655, 0.03225806451612903, 0.01694915254237288, 0.026143790849673203, 0.015873015873015872, 0.0, 0.04854368932038835, 0.00510204081632653, 0.0136986301369863, 0.012048192771084338, 0.0, 0.0, 0.17391304347826086, 0.0410958904109589, 0.056338028169014086, 0.05660377358490566, 0.05555555555555555, 0.03488372093023256, 0.042735042735042736, 0.0, 0.008771929824561403, 0.013157894736842105, 0.02631578947368421, 0.02631578947368421, 0.028409090909090908, 0.02564102564102564, 0.0, 0.05660377358490566, 0.05813953488372093, 0.00819672131147541, 0.024875621890547265, 0.0125, 0.011904761904761904, 0.028368794326241134, 0.01694915254237288, 0.012987012987012988, 0.0111731843575419, 0.011049723756906077, 0.0, 0.02702702702702703, 0.0, 0.00980392156862745, 0.0392156862745098, 0.01818181818181818, 0.02358490566037736, 0.014150943396226415, 0.028985507246376812, 0.018867924528301886, 0.03153153153153153, 0.12, 0.05, 0.0, 0.01744186046511628, 0.005813953488372093, 0.019230769230769232, 0.03508771929824561, 0.05223880597014925, 0.004545454545454545, 0.03896103896103896, 0.0, 0.013157894736842105, 0.023809523809523808, 0.017241379310344827, 0.009345794392523364, 0.009009009009009009, 0.0, 0.017341040462427744, 0.2608695652173913, 0.0, 0.023809523809523808, 0.017543859649122806, 0.14285714285714285, 0.0, 0.023809523809523808, 0.013157894736842105, 0.014492753623188406, 0.0, 0.0, 0.011904761904761904, 0.02564102564102564, 0.03614457831325301, 0.0, 0.01675977653631285, 0.023809523809523808, 0.14285714285714285, 0.04, 0.01948051948051948, 0.0, 0.03409090909090909, 0.009345794392523364, 0.03067484662576687, 0.015957446808510637, 0.014598540145985401, 0.02912621359223301, 0.17391304347826086, 0.015957446808510637, 0.05128205128205128, 0.022727272727272728, 0.045454545454545456, 0.0, 0.014492753623188406, 0.0390625, 0.010309278350515464, 0.03614457831325301, 0.06382978723404255, 0.023255813953488372, 0.0, 0.011904761904761904, 0.014388489208633094, 0.015789473684210527, 0.031746031746031744, 0.03636363636363636, 0.008695652173913044, 0.028985507246376812, 0.047619047619047616, 0.0056179775280898875, 0.010416666666666666, 0.021739130434782608, 0.019230769230769232, 0.012658227848101266, 0.011494252873563218, 0.009615384615384616, 0.03007518796992481, 0.02857142857142857, 0.020833333333333332, 0.024193548387096774, 0.018292682926829267, 0.0, 0.02631578947368421, 0.015151515151515152, 0.017857142857142856, 0.011111111111111112, 0.01904761904761905, 0.03571428571428571, 0.016216216216216217, 0.0, 0.020833333333333332, 0.029197080291970802, 0.032679738562091505, 0.018518518518518517, 0.014218009478672985, 0.009615384615384616, 0.02040816326530612, 0.027777777777777776, 0.01694915254237288, 0.015151515151515152, 0.020833333333333332, 0.044444444444444446, 0.03636363636363636, 0.026595744680851064, 0.017241379310344827, 0.05185185185185185, 0.15789473684210525, 0.022988505747126436, 0.007042253521126761, 0.03636363636363636, 0.036036036036036036, 0.016304347826086956, 0.045454545454545456, 0.024691358024691357, 0.08955223880597014, 0.06557377049180328, 0.037383177570093455, 0.043478260869565216, 0.009433962264150943, 0.0, 0.0, 0.023255813953488372, 0.023255813953488372, 0.07692307692307693, 0.1, 0.07407407407407407, 0.06896551724137931, 0.0963855421686747, 0.03125, 0.02631578947368421, 0.021739130434782608, 0.10526315789473684, 0.013888888888888888, 0.014285714285714285, 0.04, 0.04, 0.017964071856287425, 0.023255813953488372, 0.016853932584269662, 0.017857142857142856, 0.010256410256410256, 0.01910828025477707, 0.07142857142857142, 0.006944444444444444, 0.015503875968992248, 0.011428571428571429, 0.005917159763313609, 0.0, 0.023809523809523808, 0.017857142857142856, 0.01910828025477707, 0.020618556701030927, 0.017857142857142856, 0.011834319526627219, 0.004739336492890996, 0.015151515151515152, 0.041666666666666664, 0.030612244897959183, 0.0, 0.14285714285714285, 0.0, 0.01015228426395939, 0.03508771929824561, 0.022222222222222223, 0.022222222222222223, 0.0, 0.0, 0.0, 0.04716981132075472, 0.03773584905660377, 0.010416666666666666, 0.01775147928994083, 0.013333333333333334, 0.022222222222222223, 0.022222222222222223, 0.009345794392523364, 0.0, 0.019230769230769232, 0.014634146341463415, 0.03896103896103896, 0.018072289156626505, 0.015384615384615385, 0.031914893617021274, 0.043478260869565216, 0.038461538461538464, 0.05747126436781609, 0.3, 0.03488372093023256, 0.011494252873563218, 0.024096385542168676, 0.012195121951219513, 0.01282051282051282, 0.022222222222222223, 0.018018018018018018, 0.0, 0.013392857142857142, 0.012738853503184714, 0.037037037037037035, 0.031746031746031744, 0.005050505050505051, 0.006756756756756757, 0.022988505747126436, 0.0, 0.01680672268907563, 0.013452914798206279, 0.011764705882352941, 0.011111111111111112, 0.022727272727272728, 0.022388059701492536, 0.022123893805309734, 0.013574660633484163, 0.0625, 0.03529411764705882, 0.011627906976744186, 0.0, 0.043478260869565216, 0.03571428571428571, 0.0, 0.02857142857142857, 0.08108108108108109, 0.02857142857142857, 0.0, 0.03355704697986577, 0.04, 0.041666666666666664, 0.0, 0.008403361344537815, 0.017543859649122806, 0.02608695652173913, 0.009433962264150943, 0.019801980198019802, 0.0, 0.007518796992481203, 0.014285714285714285, 0.0072992700729927005, 0.0, 0.02142857142857143, 0.017241379310344827, 0.03571428571428571, 0.0051813471502590676, 0.0, 0.03260869565217391, 0.017045454545454544, 0.04040404040404041, 0.05357142857142857, 0.0, 0.0297029702970297, 0.043478260869565216, 0.040983606557377046, 0.03225806451612903, 0.02040816326530612, 0.011299435028248588, 0.02857142857142857, 0.0, 0.016304347826086956, 0.012269938650306749, 0.0, 0.02727272727272727, 0.02857142857142857, 0.014705882352941176, 0.08333333333333333, 0.025974025974025976, 0.05714285714285714, 0.0, 0.023255813953488372, 0.05172413793103448, 0.023529411764705882, 0.013157894736842105, 0.020942408376963352, 0.5714285714285714, 0.02040816326530612, 0.05128205128205128, 0.013513513513513514, 0.006993006993006993, 0.05128205128205128, 0.004830917874396135, 0.010752688172043012, 0.06521739130434782, 0.019230769230769232, 0.0975609756097561, 0.0045871559633027525, 0.01282051282051282, 0.015, 0.03333333333333333, 0.06666666666666667, 0.020833333333333332, 0.03296703296703297, 0.0, 0.020833333333333332, 0.010869565217391304, 0.09090909090909091, 0.009259259259259259, 0.034482758620689655, 0.024793388429752067, 0.0, 0.04878048780487805, 0.02403846153846154, 0.03508771929824561, 0.02040816326530612, 0.01948051948051948, 0.028368794326241134, 0.025, 0.0, 0.0, 0.0, 0.0, 0.043478260869565216, 0.0, 0.023391812865497075, 0.011428571428571429, 0.06666666666666667, 0.06818181818181818, 0.025, 0.13333333333333333, 0.021164021164021163, 0.021739130434782608, 0.03333333333333333, 0.03333333333333333, 0.013953488372093023, 0.007692307692307693, 0.013422818791946308, 0.02112676056338028, 0.034482758620689655, -0.029411764705882353, 0.022321428571428572, 0.020100502512562814, 0.03225806451612903, 0.031746031746031744, 0.08928571428571429, 0.022388059701492536, 0.024390243902439025, 0.011834319526627219, 0.015151515151515152, 0.01282051282051282, 0.024096385542168676, 0.011363636363636364, 0.07692307692307693, 0.024691358024691357, 0.027777777777777776, 0.015873015873015872, 0.4, 0.004739336492890996, 0.0, 0.013636363636363636, 0.0, 0.004739336492890996, 0.017241379310344827, 0.023255813953488372, 0.0, 0.007407407407407408, 0.01818181818181818, 0.02, 0.017699115044247787, 0.025, 0.10810810810810811, 0.028368794326241134, 0.025157232704402517, 0.022727272727272728, 0.008771929824561403, 0.02564102564102564, 0.03896103896103896, 0.0, 0.02030456852791878, 0.029411764705882353, 0.025974025974025976, 0.017045454545454544, 0.0, 0.0, 0.015151515151515152, 0.030303030303030304, 0.01834862385321101, 0.0, 0.02564102564102564, 0.008771929824561403, 0.03225806451612903, 0.03007518796992481, 0.028735632183908046, 0.01098901098901099, 0.009615384615384616, 0.045454545454545456, 0.01485148514851485, 0.05, 0.028985507246376812, 0.03, 0.018518518518518517, 0.017241379310344827, 0.0, 0.02702702702702703, 0.007633587786259542, 0.015228426395939087, 0.02027027027027027, 0.01694915254237288, 0.025, 0.03571428571428571, 0.03571428571428571, 0.033783783783783786, 0.0182648401826484, 0.014492753623188406, 0.033707865168539325, 0.03636363636363636, 0.023529411764705882, 0.012048192771084338, 0.02158273381294964, 0.06153846153846154, 0.009708737864077669, 0.0, 0.011904761904761904, 0.022727272727272728, 0.17073170731707318, 0.01762114537444934, 0.0, 0.0, 0.03333333333333333, 0.01694915254237288, 0.024390243902439025, 0.02631578947368421, 0.026845637583892617, 0.0, 0.006711409395973154, 0.025974025974025976, 0.045454545454545456, 0.025423728813559324, 0.02912621359223301, 0.045454545454545456, 0.015706806282722512, 0.010101010101010102, 0.029411764705882353, 0.01639344262295082, 0.043478260869565216, 0.028037383177570093, 0.015544041450777202, 0.015625, 0.020202020202020204, 0.03225806451612903, 0.02197802197802198, 0.0, 0.0196078431372549, 0.02702702702702703, 0.022727272727272728, 0.02112676056338028, 0.02631578947368421, 0.019801980198019802, 0.035398230088495575, 0.01762114537444934, 0.0196078431372549, 0.020202020202020204, 0.021739130434782608, 0.013953488372093023, 0.010101010101010102, 0.03418803418803419, 0.0, 0.0, 0.023255813953488372, 0.004347826086956522, 0.012195121951219513, 0.015384615384615385, 0.03571428571428571, 0.0078125, 0.0, 0.02040816326530612, 0.013452914798206279, 0.017543859649122806, 0.018018018018018018, 0.02631578947368421, 0.020833333333333332, 0.009523809523809525, 0.0, 0.004975124378109453, 0.022727272727272728, 0.0, 0.013071895424836602, 0.05263157894736842, 0.013953488372093023, 0.03205128205128205, 0.009433962264150943, 0.02040816326530612, 0.012048192771084338, 0.0547945205479452, 0.04225352112676056, 0.03125, 0.0, 0.03896103896103896, 0.024, 0.009615384615384616, 0.03954802259887006, 0.01639344262295082, 0.05714285714285714, 0.02564102564102564, 0.02040816326530612, 0.025210084033613446, 0.015151515151515152, 0.023668639053254437, 0.07142857142857142, 0.016042780748663103, 0.025974025974025976, 0.031746031746031744, 0.020833333333333332, 0.023809523809523808, 0.023809523809523808, 0.014388489208633094, 0.014388489208633094, 0.0, 0.02702702702702703, 0.011976047904191617, 0.014492753623188406, 0.058823529411764705, 0.01694915254237288, 0.010526315789473684, 0.014814814814814815, 0.0, 0.3793103448275862, 0.0, 0.009389671361502348, 0.019736842105263157, 0.024390243902439025, 0.019801980198019802, 0.0, 0.0, 0.018292682926829267, 0.01875, 0.005076142131979695, 0.014218009478672985, 0.0625, 0.030612244897959183, 0.012658227848101266, 0.009523809523809525, 0.005208333333333333, 0.012658227848101266, 0.0, 0.0, 0.02336448598130841, 0.008695652173913044, 0.010309278350515464, 0.011428571428571429, 0.018518518518518517, 0.005128205128205128, 0.005128205128205128, 0.03614457831325301, 0.029411764705882353, 0.0, 0.017857142857142856, 0.014084507042253521, 0.022222222222222223, 0.02127659574468085, 0.010582010582010581, 0.023529411764705882, 0.0, 0.016666666666666666, 0.03007518796992481, 0.006993006993006993, 0.02702702702702703, 0.017241379310344827, 0.0196078431372549, 0.01904761904761905, 0.01694915254237288, 0.007936507936507936, 0.029411764705882353, 0.025974025974025976, 0.03636363636363636, 0.0, 0.02142857142857143, 0.007575757575757576, 0.021897810218978103, 0.014598540145985401, 0.0, 0.017543859649122806, 0.015873015873015872, 0.0111731843575419, 0.010309278350515464, 0.017341040462427744, 0.008771929824561403, 0.018633540372670808, 0.022222222222222223, 0.026455026455026454, 0.03225806451612903, 0.024691358024691357, 0.0136986301369863, 0.010101010101010102, 0.018867924528301886, 0.01675977653631285, 0.006211180124223602, 0.015, 0.012269938650306749, 0.01639344262295082, 0.019867549668874173, 0.0, 0.006622516556291391, 0.020202020202020204, 0.005434782608695652, 0.010869565217391304, 0.02304147465437788, 0.017543859649122806, 0.012658227848101266, 0.038461538461538464, 0.0, 0.014150943396226415, 0.017857142857142856, 0.017857142857142856, 0.017142857142857144, 0.00819672131147541, 0.00847457627118644, 0.015625, 0.015873015873015872, 0.07142857142857142, 0.023809523809523808, 0.012987012987012988, 0.016129032258064516, 0.011111111111111112, 0.02027027027027027, 0.017241379310344827, 0.009216589861751152, 0.014218009478672985, 0.023529411764705882, 0.033783783783783786, 0.041666666666666664, 0.0, 0.0392156862745098, 0.0, 0.05333333333333334, 0.08, 0.014925373134328358, 0.013422818791946308, 0.016483516483516484, 0.017857142857142856, 0.008130081300813009, 0.01694915254237288, 0.014925373134328358, 0.015873015873015872, 0.019801980198019802, 0.009900990099009901, 0.0, 0.028037383177570093, 0.0196078431372549, 0.006993006993006993, 0.018404907975460124, 0.013333333333333334, 0.04032258064516129, 0.017241379310344827, 0.009615384615384616, 0.034482758620689655, 0.03773584905660377, 0.039473684210526314, 0.049586776859504134, 0.013157894736842105, 0.008771929824561403, 0.0847457627118644, 0.5833333333333334, 0.013157894736842105, 0.015625, 0.0625, 0.011235955056179775, 0.16, 0.0, 0.01694915254237288, 0.0, 0.018072289156626505, 0.00558659217877095, 0.009478672985781991, 0.019138755980861243, 0.08695652173913043, 0.06666666666666667, 0.0, 0.025974025974025976, 0.017543859649122806, 0.020833333333333332, 0.020833333333333332, 0.07692307692307693, 0.03333333333333333, 0.11538461538461539, 0.06666666666666667, 0.03125, 0.0, 0.05825242718446602, 0.0, 0.10752688172043011, 0.014705882352941176, 0.08108108108108109, 0.04, 0.020134228187919462, 0.004694835680751174, 0.03409090909090909, 0.02112676056338028, 0.02666666666666667, 0.05263157894736842, 0.019138755980861243, 0.056074766355140186, 0.0, 0.02857142857142857, 0.03, 0.03, 0.023809523809523808, 0.02631578947368421, 0.028037383177570093, 0.023529411764705882, 0.0425531914893617, 0.04697986577181208, 0.021739130434782608, 0.125, 0.015037593984962405, 0.05357142857142857, 0.017142857142857144, 0.01694915254237288, 0.03333333333333333, 0.01, 0.018867924528301886, 0.021739130434782608, 0.013793103448275862, 0.10526315789473684, 0.009259259259259259, 0.033707865168539325, 0.03773584905660377, 0.09090909090909091, 0.017857142857142856, 0.045454545454545456, 0.022727272727272728, 0.039473684210526314, 0.04040404040404041, 0.02197802197802198, 0.008064516129032258, 0.041666666666666664, 0.08695652173913043, 0.01020408163265306, 0.022222222222222223, 0.030612244897959183, 0.10344827586206896, 0.5, 0.14285714285714285, 0.2857142857142857, 0.14285714285714285, 0.05, 0.15217391304347827, 0.015037593984962405, 0.012578616352201259, 0.0273972602739726, 0.023255813953488372, 0.046296296296296294, 0.05, 0.0, 0.0, 0.013157894736842105, 0.02040816326530612, 0.011560693641618497, 0.022222222222222223, 0.037914691943127965, 0.05970149253731343, 0.10256410256410256, 0.021897810218978103, 0.017241379310344827, 0.017241379310344827, 0.1111111111111111, 0.05555555555555555, 0.05357142857142857, 0.03571428571428571, 0.01680672268907563, 0.05357142857142857, 0.04878048780487805, 0.03225806451612903, 0.03333333333333333, 0.024390243902439025, 0.016260162601626018, 0.08, 0.01818181818181818, 0.06896551724137931, 0.005681818181818182, 0.014285714285714285, 0.014925373134328358, 0.031746031746031744, 0.02564102564102564, 0.022222222222222223, 0.011111111111111112, 0.0, 0.030303030303030304, 0.056338028169014086, 0.012048192771084338, 0.01098901098901099, 0.022727272727272728, 0.0, 0.019867549668874173, 0.02857142857142857, 0.0, 0.02702702702702703, 0.0, 0.0, 0.0, 0.02702702702702703, 0.047619047619047616, 0.012121212121212121, 0.006211180124223602, 0.047619047619047616, 0.008403361344537815, 0.0, 0.009433962264150943, 0.0, 0.0], \"type\": \"scatter\"}, {\"name\": \"Long-Term Enrollees\", \"marker\": {\"color\": \"rgb(250, 130, 170)\", \"size\": 5}, \"mode\": \"markers\", \"y\": [234, 327, 878, 557, 241, 469, 445, 598, 232, 522, 426, 263, 264, 272, 271, 351, 609, 240, 464, 424, 453, 263, 416, 348, 552, 1343, 663, 663, 431, 576, 480, 1085, 451, 363, 1285, 267, 615, 343, 236, 425, 457, 440, 616, 616, 398, 279, 399, 249, 305, 337, 305, 378, 448, 537, 433, 1050, 505, 389, 588, 678, 286, 772, 537, 826, 951, 537, 318, 762, 545, 334, 551, 425, 660, 270, 261, 1165, 236, 233, 1363, 1362, 1071, 496, 732, 338, 259, 1188, 395, 678, 679, 961, 426, 340, 232, 231, 324, 827, 574, 623, 392, 392, 1185, 1763, 504, 440, 254, 257, 274, 490, 478, 292, 231, 505, 307, 699, 596, 911, 806, 984, 357, 1088, 805, 574, 714, 441, 538, 261, 1506, 244, 288, 293, 270, 235, 1442, 475, 453, 537, 785, 312, 326, 270, 1267, 401, 651, 786, 821, 357, 312, 697, 697, 709, 260, 881, 504, 842, 455, 290, 546, 637, 546, 558, 1134, 336, 823, 585, 322, 241, 735, 732, 289, 294, 294, 905, 905, 1296, 675, 389, 659, 657, 1049, 1059, 373, 906, 288, 287, 806, 299, 257, 257, 635, 658, 307, 602, 307, 285, 489, 244, 246, 255, 273, 289, 245, 252, 245, 260, 262, 247, 254, 260, 253, 266, 269, 272, 249, 252, 247, 269, 249, 245, 247, 266, 253, 245, 255, 257, 260, 245, 249, 377, 353, 301, 473, 285, 270, 289, 324, 324, 474, 368, 454, 454, 502, 513, 236, 578, 288, 241, 240, 257, 452, 285, 252, 305, 305, 400, 248, 748, 329, 748, 474, 360, 836, 315, 333, 351, 492, 307, 305, 398, 426, 398, 266, 489, 665, 426, 304, 279, 350, 368, 404, 790, 417, 563, 342, 309, 829, 333, 406, 425, 882, 563, 456, 1144, 426, 265, 753, 412, 1033, 629, 570, 265, 267, 267, 242, 297, 261, 293, 292, 238, 273, 240, 316, 358, 273, 730, 371, 625, 261, 328, 406, 381, 301, 406, 500, 485, 485, 281, 328, 350, 283, 339, 318, 515, 275, 357, 616, 535, 266, 263, 539, 539, 305, 413, 613, 698, 699, 473, 913, 1428, 444, 1252, 842, 724, 258, 441, 1372, 385, 1290, 606, 259, 452, 782, 251, 290, 798, 606, 1379, 1670, 598, 346, 231, 462, 612, 1169, 231, 637, 526, 789, 1207, 372, 1025, 271, 1114, 362, 263, 369, 294, 1113, 390, 240, 507, 448, 946, 452, 239, 383, 921, 711, 1347, 906, 343, 247, 270, 796, 249, 798, 796, 804, 585, 254, 568, 363, 269, 523, 316, 313, 553, 476, 561, 314, 309, 1338, 1048, 678, 548, 403, 875, 232, 410, 708, 251, 1086, 264, 980, 321, 528, 543, 848, 823, 233, 902, 827, 337, 357, 458, 493, 232, 951, 255, 231, 373, 377, 364, 364, 364, 287, 589, 1093, 781, 545, 235, 542, 546, 303, 394, 1147, 421, 1274, 382, 999, 364, 343, 988, 447, 413, 356, 259, 312, 712, 959, 1120, 307, 1385, 1385, 260, 650, 732, 663, 261, 362, 457, 1006, 239, 267, 882, 692, 566, 1692, 573, 574, 1455, 1497, 725, 1483, 1677, 303, 743, 419, 535, 1301, 1553, 2338, 544, 699, 484, 1269, 745, 521, 530, 240, 1539, 345, 398, 965, 1212, 2860, 2024, 808, 1985, 699, 848, 1393, 234, 479, 338, 272, 1217, 1122, 390, 390, 457, 624, 2263, 1717, 2623, 444, 689, 2207, 1035, 982, 597, 440, 2695, 503, 1186, 1441, 580, 1374, 720, 1542, 646, 1563, 911, 1449, 1113, 1110, 946, 1028, 479, 348, 359, 1199, 617, 897, 1013, 392, 1213, 1215, 631, 350, 381, 373, 884, 907, 1007, 265, 631, 628, 631, 573, 580, 996, 1896, 2081, 1206, 1973, 393, 410, 663, 879, 1078, 807, 909, 601, 2624, 2501, 1536, 335, 429, 1325, 775, 363, 366, 482, 752, 752, 328, 1322, 356, 359, 1333, 1344, 988, 969, 608, 1692, 1143, 1193, 1323, 545, 311, 496, 1525, 2313, 561, 417, 1190, 601, 601, 377, 734, 288, 469, 1819, 741, 378, 500, 388, 1427, 755, 576, 1760, 2077, 2180, 1710, 1476, 456, 2076, 865, 429, 521, 949, 1657, 834, 834, 402, 315, 671, 345, 657, 734, 650, 651, 508, 450, 497, 1200, 1873, 2635, 638, 846, 366, 1162, 2522, 254, 477, 432, 2006, 2629, 2222, 1725, 314, 1611, 2071, 838, 2067, 402, 2112, 1356, 1766, 1133, 1818, 552, 265, 1321, 370, 2469, 1727, 1307, 2627, 1487, 593, 905, 545, 712, 1094, 541, 593, 791, 358, 1833, 1730, 913, 590, 317, 258, 980, 244, 274, 1983, 1357, 1475, 431, 463, 332, 331, 486, 748, 575, 574, 848, 544, 1290, 1970, 848, 1215, 2728, 267, 747, 377, 626, 997, 656, 561, 2266, 1454, 819, 592, 1099, 818, 1244, 1209, 758, 758, 380, 1605, 343, 653, 721, 553, 1106, 238, 1061, 821, 935, 1884, 399, 730, 282, 552, 527, 414, 1636, 317, 479, 1270, 559, 2031, 1516, 1491, 393, 466, 470, 516, 347, 791, 1047, 513, 748, 512, 348, 837, 257, 501, 274, 1623, 1650, 1631, 312, 1513, 658, 271, 592, 588, 242, 1765, 361, 464, 433, 301, 547, 271, 459, 688, 300, 258, 626, 300, 986, 895, 626, 601, 1405, 461, 1201, 373, 310, 455, 702, 383, 823, 671, 1445, 1332, 499, 329, 334, 334, 775, 395, 359, 926, 2090, 636, 342, 952, 293, 890, 1090, 327, 2357, 1825, 242, 379, 411, 341, 701, 260, 708, 1388, 2537, 250, 1113, 332, 455, 532, 342, 452, 874, 1047, 716, 1141, 450, 298, 297, 523, 266, 379, 239, 546, 323, 546, 547, 322, 322, 1815, 498, 291, 2035, 335, 1726, 979, 311, 1726, 241, 232, 1883, 896, 268, 657, 657, 235, 648, 320, 490, 482, 601, 798, 751, 284, 1203, 1133, 443, 746, 733, 1139, 435, 1134, 991, 342, 370, 260, 420, 907, 392, 367, 1708, 301, 600, 412, 298, 388, 576, 2070, 545, 655, 479, 905, 351, 833, 270, 680, 546, 723, 1367, 622, 329, 1393, 514, 253, 237, 272, 357, 568, 1064, 323, 299, 246, 436, 1738, 532, 512, 437, 1260, 1398, 365, 238, 928, 350, 625, 1271, 1349, 506, 499, 726, 531, 1270, 1491, 272, 764, 609, 808, 442, 525, 981, 889, 547, 889, 547, 403, 504, 440, 970, 1032, 252, 336, 308, 349, 247, 243, 248, 403, 510, 542, 329, 2128, 1219, 516, 367, 311, 235, 517, 260, 518, 514, 429, 250, 353, 237, 245, 329, 861, 502, 689, 664, 467, 469, 758, 357, 405, 940, 775, 455, 549, 409, 329, 243, 243, 250, 265, 343, 464, 500, 252, 365, 240, 318, 457, 470, 350, 334, 524, 362, 515, 341, 426, 232, 483, 305, 266, 334, 534, 238, 318, 295, 303, 231, 450, 393, 419, 420, 273, 335, 407, 479, 252, 238, 349, 399, 417, 604, 603, 372, 316, 596, 377, 378, 321, 289, 266, 524, 346, 370, 373, 334], \"x\": [0.029914529914529916, 0.012232415902140673, 0.00683371298405467, 0.008976660682226212, 0.016597510373443983, 0.019189765458422176, 0.006741573033707865, 0.011705685618729096, 0.03017241379310345, 0.005747126436781609, 0.009389671361502348, 0.0076045627376425855, 0.011363636363636364, 0.011029411764705883, 0.01107011070110701, 0.011396011396011397, 0.013136288998357963, 0.0375, 0.010775862068965518, 0.009433962264150943, 0.002207505518763797, 0.0038022813688212928, 0.007211538461538462, 0.022988505747126436, 0.009057971014492754, 0.004467609828741623, 0.004524886877828055, 0.0030165912518853697, 0.016241299303944315, 0.008680555555555556, 0.008333333333333333, 0.0064516129032258064, 0.008869179600886918, 0.011019283746556474, 0.0038910505836575876, 0.0, 0.00975609756097561, 0.008746355685131196, 0.00847457627118644, 0.002352941176470588, 0.0087527352297593, 0.00909090909090909, 0.006493506493506494, 0.006493506493506494, 0.007537688442211055, 0.014336917562724014, 0.012531328320802004, 0.012048192771084338, 0.009836065573770493, 0.008902077151335312, 0.009836065573770493, 0.013227513227513227, 0.008928571428571428, 0.0111731843575419, 0.004618937644341801, 0.006666666666666667, 0.005940594059405941, 0.015424164524421594, 0.008503401360544218, 0.004424778761061947, 0.017482517482517484, 0.007772020725388601, 0.00558659217877095, 0.007263922518159807, 0.007360672975814932, 0.00558659217877095, 0.015723270440251572, 0.006561679790026247, 0.005504587155963303, 0.011976047904191617, 0.003629764065335753, 0.004705882352941176, 0.00909090909090909, 0.011111111111111112, 0.011494252873563218, 0.0034334763948497852, 0.025423728813559324, 0.012875536480686695, 0.004402054292002935, 0.004405286343612335, 0.0028011204481792717, 0.010080645161290322, 0.009562841530054645, 0.011834319526627219, 0.007722007722007722, 0.007575757575757576, 0.002531645569620253, 0.007374631268436578, 0.007363770250368188, 0.005202913631633715, 0.009389671361502348, 0.008823529411764706, 0.01293103448275862, 0.017316017316017316, 0.015432098765432098, 0.007255139056831923, 0.0156794425087108, 0.0032102728731942215, 0.007653061224489796, 0.007653061224489796, 0.005063291139240506, 0.0045377197958026095, 0.007936507936507936, 0.00909090909090909, 0.003937007874015748, 0.042801556420233464, 0.029197080291970802, 0.00816326530612245, 0.010460251046025104, 0.0136986301369863, 0.012987012987012988, 0.009900990099009901, 0.013029315960912053, 0.010014306151645207, 0.006711409395973154, 0.0043907793633369925, 0.0037220843672456576, 0.0040650406504065045, 0.008403361344537815, 0.0055147058823529415, 0.004968944099378882, 0.008710801393728223, 0.0056022408963585435, 0.009070294784580499, 0.00929368029739777, 0.011494252873563218, 0.005312084993359893, 0.01639344262295082, 0.010416666666666666, 0.013651877133105802, 0.011111111111111112, 0.01276595744680851, 0.004160887656033287, 0.008421052631578947, 0.002207505518763797, 0.0037243947858473, 0.005095541401273885, 0.009615384615384616, 0.009202453987730062, 0.014814814814814815, 0.0031570639305445935, 0.00997506234413965, 0.0030721966205837174, 0.003816793893129771, 0.007308160779537149, 0.011204481792717087, 0.01282051282051282, 0.005738880918220947, 0.007173601147776184, 0.005641748942172073, 0.011538461538461539, 0.00681044267877412, 0.003968253968253968, 0.0059382422802850355, 0.002197802197802198, 0.013793103448275862, 0.009157509157509158, 0.007849293563579277, 0.007326007326007326, 0.008960573476702509, 0.007054673721340388, 0.008928571428571428, 0.010935601458080195, 0.011965811965811967, 0.012422360248447204, 0.008298755186721992, 0.006802721088435374, 0.00546448087431694, 0.01384083044982699, 0.013605442176870748, 0.013605442176870748, 0.004419889502762431, 0.004419889502762431, 0.006944444444444444, 0.005925925925925926, 0.010282776349614395, 0.007587253414264037, 0.0106544901065449, 0.004766444232602479, 0.0056657223796034, 0.0160857908847185, 0.005518763796909493, 0.010416666666666666, 0.010452961672473868, 0.00620347394540943, 0.010033444816053512, 0.011673151750972763, 0.011673151750972763, 0.011023622047244094, 0.007598784194528876, 0.009771986970684038, 0.009966777408637873, 0.009771986970684038, 0.007017543859649123, 0.006134969325153374, 0.020491803278688523, 0.016260162601626018, 0.027450980392156862, 0.02564102564102564, 0.01730103806228374, 0.0163265306122449, 0.03571428571428571, 0.012244897959183673, 0.023076923076923078, 0.011450381679389313, 0.024291497975708502, 0.031496062992125984, 0.03076923076923077, 0.023715415019762844, 0.018796992481203006, 0.02973977695167286, 0.007352941176470588, 0.04417670682730924, 0.031746031746031744, 0.012145748987854251, 0.0037174721189591076, 0.008032128514056224, 0.024489795918367346, 0.016194331983805668, 0.011278195488721804, 0.023715415019762844, 0.02857142857142857, 0.0196078431372549, 0.007782101167315175, 0.011538461538461539, 0.02040816326530612, 0.024096385542168676, 0.013262599469496022, 0.0056657223796034, 0.006644518272425249, 0.010570824524312896, 0.010526315789473684, 0.011111111111111112, 0.01730103806228374, 0.021604938271604937, 0.018518518518518517, 0.008438818565400843, 0.005434782608695652, 0.011013215859030838, 0.011013215859030838, 0.00796812749003984, 0.007797270955165692, 0.025423728813559324, 0.006920415224913495, 0.006944444444444444, 0.008298755186721992, 0.0125, 0.0038910505836575876, 0.0022123893805309734, 0.017543859649122806, 0.007936507936507936, 0.01639344262295082, 0.003278688524590164, 0.01, 0.012096774193548387, 0.0106951871657754, 0.0121580547112462, 0.008021390374331552, 0.006329113924050633, 0.016666666666666666, 0.008373205741626795, 0.012698412698412698, 0.018018018018018018, 0.008547008547008548, 0.012195121951219513, 0.016286644951140065, 0.013114754098360656, 0.005025125628140704, 0.011737089201877934, 0.01256281407035176, 0.011278195488721804, 0.012269938650306749, 0.006015037593984963, 0.014084507042253521, 0.006578947368421052, 0.007168458781362007, 0.017142857142857144, 0.008152173913043478, 0.01485148514851485, 0.010126582278481013, 0.011990407673860911, 0.008880994671403197, 0.017543859649122806, 0.012944983818770227, 0.007237635705669481, 0.009009009009009009, 0.007389162561576354, 0.007058823529411765, 0.0045351473922902496, 0.010657193605683837, 0.010964912280701754, 0.006118881118881119, 0.007042253521126761, 0.011320754716981131, 0.00796812749003984, 0.009708737864077669, 0.001936108422071636, 0.006359300476947536, 0.0035087719298245615, 0.007547169811320755, 0.018726591760299626, 0.02247191011235955, 0.01652892561983471, 0.016835016835016835, 0.007662835249042145, 0.023890784982935155, 0.023972602739726026, 0.012605042016806723, 0.02197802197802198, 0.0125, 0.02531645569620253, 0.00558659217877095, 0.014652014652014652, 0.0027397260273972603, 0.01078167115902965, 0.0064, 0.011494252873563218, 0.006097560975609756, 0.009852216748768473, 0.005249343832020997, 0.013289036544850499, 0.0049261083743842365, 0.012, 0.008247422680412371, 0.006185567010309278, 0.010676156583629894, 0.006097560975609756, 0.011428571428571429, 0.01060070671378092, 0.0058997050147492625, 0.006289308176100629, 0.007766990291262136, 0.0036363636363636364, 0.0056022408963585435, 0.003246753246753247, 0.007476635514018692, 0.015037593984962405, 0.011406844106463879, 0.00927643784786642, 0.0055658627087198514, 0.006557377049180328, 0.004842615012106538, 0.004893964110929853, 0.0071633237822349575, 0.005722460658082976, 0.008456659619450317, 0.00547645125958379, 0.004201680672268907, 0.0045045045045045045, 0.005591054313099041, 0.010688836104513063, 0.0055248618784530384, 0.015503875968992248, 0.009070294784580499, 0.006559766763848397, 0.005194805194805195, 0.003875968992248062, 0.009900990099009901, 0.023166023166023165, 0.008849557522123894, 0.00639386189258312, 0.01593625498007968, 0.010344827586206896, 0.006265664160401002, 0.00825082508250825, 0.005076142131979695, 0.004191616766467066, 0.008361204013377926, 0.017341040462427744, 0.017316017316017316, 0.008658008658008658, 0.006535947712418301, 0.005988023952095809, 0.017316017316017316, 0.007849293563579277, 0.0076045627376425855, 0.005069708491761723, 0.00579950289975145, 0.021505376344086023, 0.005853658536585366, 0.007380073800738007, 0.003590664272890485, 0.011049723756906077, 0.0038022813688212928, 0.013550135501355014, 0.01020408163265306, 0.0026954177897574125, 0.010256410256410256, 0.016666666666666666, 0.005917159763313609, 0.013392857142857142, 0.004228329809725159, 0.01327433628318584, 0.016736401673640166, 0.007832898172323759, 0.004343105320304018, 0.008438818565400843, 0.005196733481811433, 0.006622516556291391, 0.008746355685131196, 0.04048582995951417, 0.011111111111111112, 0.00628140703517588, 0.012048192771084338, 0.007518796992481203, 0.005025125628140704, 0.007462686567164179, 0.010256410256410256, 0.023622047244094488, 0.007042253521126761, 0.008264462809917356, 0.01858736059479554, 0.0076481835564053535, 0.015822784810126583, 0.009584664536741214, 0.009041591320072333, 0.008403361344537815, 0.0053475935828877, 0.009554140127388535, 0.006472491909385114, 0.005979073243647235, 0.008587786259541985, 0.011799410029498525, 0.0018248175182481751, 0.009925558312655087, 0.008, 0.01293103448275862, 0.014634146341463415, 0.007062146892655367, 0.01593625498007968, 0.0055248618784530384, 0.015151515151515152, 0.003061224489795918, 0.006230529595015576, 0.015151515151515152, 0.007366482504604052, 0.00589622641509434, 0.009720534629404616, 0.008583690987124463, 0.004434589800443459, 0.007255139056831923, 0.011869436201780416, 0.011204481792717087, 0.015283842794759825, 0.010141987829614604, 0.017241379310344827, 0.007360672975814932, 0.0196078431372549, 0.012987012987012988, 0.00804289544235925, 0.010610079575596816, 0.01098901098901099, 0.008241758241758242, 0.01098901098901099, 0.017421602787456445, 0.003395585738539898, 0.006404391582799634, 0.0038412291933418692, 0.003669724770642202, 0.00851063829787234, 0.0036900369003690036, 0.005494505494505495, 0.013201320132013201, 0.0025380710659898475, 0.006102877070619006, 0.014251781472684086, 0.005494505494505495, 0.010471204188481676, 0.003003003003003003, 0.01098901098901099, 0.011661807580174927, 0.00708502024291498, 0.008948545861297539, 0.009685230024213076, 0.011235955056179775, 0.003861003861003861, 0.003205128205128205, 0.0056179775280898875, 0.0072992700729927005, 0.005357142857142857, 0.013029315960912053, 0.007220216606498195, 0.007220216606498195, 0.026923076923076925, 0.010769230769230769, 0.01366120218579235, 0.013574660633484163, 0.01532567049808429, 0.016574585635359115, 0.01312910284463895, 0.007952286282306162, 0.0041841004184100415, 0.003745318352059925, 0.006802721088435374, 0.005780346820809248, 0.0088339222614841, 0.00591016548463357, 0.008726003490401396, 0.008710801393728223, 0.005498281786941581, 0.008016032064128256, 0.009655172413793104, 0.006068779501011463, 0.0035778175313059034, 0.006600660066006601, 0.006729475100942127, 0.00954653937947494, 0.009345794392523364, 0.006149116064565719, 0.0051513200257566, 0.003421727972626176, 0.007352941176470588, 0.010014306151645207, 0.002066115702479339, 0.0031520882584712374, 0.009395973154362415, 0.015355086372360844, 0.007547169811320755, 0.0125, 0.004548408057179987, 0.011594202898550725, 0.01256281407035176, 0.0051813471502590676, 0.0049504950495049506, 0.0038461538461538464, 0.004446640316205534, 0.007425742574257425, 0.004534005037783375, 0.008583690987124463, 0.0047169811320754715, 0.006460875807609476, 0.021367521367521368, 0.008350730688935281, 0.008875739644970414, 0.01838235294117647, 0.007395234182415777, 0.006238859180035651, 0.002564102564102564, 0.002564102564102564, 0.006564551422319475, 0.008012820512820512, 0.0057445868316394165, 0.0052417006406523005, 0.004574914220358368, 0.009009009009009009, 0.008708272859216255, 0.004984141368373357, 0.008695652173913044, 0.008146639511201629, 0.010050251256281407, 0.011363636363636364, 0.003339517625231911, 0.007952286282306162, 0.00505902192242833, 0.006245662734212352, 0.010344827586206896, 0.00727802037845706, 0.006944444444444444, 0.005836575875486381, 0.01393188854489164, 0.005118362124120281, 0.005488474204171241, 0.005521048999309869, 0.004492362982929021, 0.005405405405405406, 0.006342494714587738, 0.005836575875486381, 0.006263048016701462, 0.008620689655172414, 0.005571030640668524, 0.003336113427856547, 0.008103727714748784, 0.011148272017837236, 0.003948667324777887, 0.00510204081632653, 0.00247320692497939, 0.00411522633744856, 0.011093502377179081, 0.014285714285714285, 0.013123359580052493, 0.010723860589812333, 0.010180995475113122, 0.006615214994487321, 0.005958291956305859, 0.018867924528301886, 0.014263074484944533, 0.01592356687898089, 0.011093502377179081, 0.006980802792321117, 0.006896551724137931, 0.0050200803212851405, 0.005274261603375527, 0.0038443056222969728, 0.0041459369817578775, 0.00506842372022301, 0.020356234096692113, 0.012195121951219513, 0.006033182503770739, 0.006825938566552901, 0.0074211502782931356, 0.007434944237918215, 0.007700770077007701, 0.009983361064891847, 0.004573170731707317, 0.004798080767692923, 0.005208333333333333, 0.011940298507462687, 0.011655011655011656, 0.007547169811320755, 0.0064516129032258064, 0.013774104683195593, 0.01639344262295082, 0.008298755186721992, 0.006648936170212766, 0.006648936170212766, 0.01524390243902439, 0.0037821482602118004, 0.008426966292134831, 0.013927576601671309, 0.005251312828207052, 0.002976190476190476, 0.005060728744939271, 0.006191950464396285, 0.009868421052631578, 0.005319148936170213, 0.004374453193350831, 0.003352891869237217, 0.006046863189720333, 0.012844036697247707, 0.012861736334405145, 0.014112903225806451, 0.007213114754098361, 0.004755728491137051, 0.012477718360071301, 0.009592326139088728, 0.004201680672268907, 0.011647254575707155, 0.009983361064891847, 0.013262599469496022, 0.004087193460490463, 0.017361111111111112, 0.01279317697228145, 0.006047278724573941, 0.004048582995951417, 0.013227513227513227, 0.008, 0.015463917525773196, 0.005606166783461808, 0.006622516556291391, 0.013888888888888888, 0.005113636363636364, 0.003370245546461242, 0.005045871559633028, 0.005263157894736842, 0.007452574525745257, 0.013157894736842105, 0.0024084778420038534, 0.005780346820809248, 0.013986013986013986, 0.011516314779270634, 0.004214963119072708, 0.004828002414001207, 0.005995203836930456, 0.007194244604316547, 0.012437810945273632, 0.012698412698412698, 0.00894187779433681, 0.014492753623188406, 0.0091324200913242, 0.008174386920980926, 0.004615384615384616, 0.006144393241167435, 0.003937007874015748, 0.008888888888888889, 0.01609657947686117, 0.0033333333333333335, 0.004271222637479978, 0.004174573055028463, 0.009404388714733543, 0.01182033096926714, 0.01639344262295082, 0.00774526678141136, 0.003965107057890563, 0.015748031496062992, 0.010482180293501049, 0.009259259259259259, 0.003988035892323031, 0.003803727653100038, 0.004500450045004501, 0.004057971014492754, 0.01910828025477707, 0.0031036623215394167, 0.005794302269435055, 0.00954653937947494, 0.004837929366231253, 0.007462686567164179, 0.004261363636363636, 0.00663716814159292, 0.004530011325028313, 0.00794351279788173, 0.0044004400440044, 0.010869565217391304, 0.011320754716981131, 0.00757002271006813, 0.02702702702702703, 0.004860267314702308, 0.003474232773595831, 0.0045906656465187455, 0.0034259611724400457, 0.005379959650302623, 0.008431703204047217, 0.008839779005524863, 0.007339449541284404, 0.008426966292134831, 0.009140767824497258, 0.0073937153419593345, 0.011804384485666104, 0.006321112515802781, 0.0111731843575419, 0.004909983633387889, 0.005202312138728324, 0.00547645125958379, 0.010169491525423728, 0.012618296529968454, 0.011627906976744186, 0.006122448979591836, 0.00819672131147541, 0.0072992700729927005, 0.0045385779122541605, 0.0036845983787767134, 0.006779661016949152, 0.01160092807424594, 0.008639308855291577, 0.009036144578313253, 0.00906344410876133, 0.00823045267489712, 0.009358288770053475, 0.008695652173913044, 0.008710801393728223, 0.007075471698113208, 0.001838235294117647, 0.004651162790697674, 0.004568527918781726, 0.00589622641509434, 0.00411522633744856, 0.004398826979472141, 0.011235955056179775, 0.006693440428380187, 0.010610079575596816, 0.009584664536741214, 0.0020060180541624875, 0.009146341463414634, 0.0071301247771836, 0.003971756398940865, 0.0068775790921595595, 0.003663003663003663, 0.006756756756756757, 0.007279344858962694, 0.0024449877750611247, 0.005627009646302251, 0.004962779156327543, 0.00395778364116095, 0.00395778364116095, 0.013157894736842105, 0.006230529595015576, 0.011661807580174927, 0.007656967840735069, 0.006934812760055479, 0.007233273056057866, 0.0027124773960217, 0.012605042016806723, 0.006597549481621112, 0.0060901339829476245, 0.0053475935828877, 0.004246284501061571, 0.010025062656641603, 0.00684931506849315, 0.0070921985815602835, 0.012681159420289856, 0.009487666034155597, 0.007246376811594203, 0.005501222493887531, 0.0031545741324921135, 0.014613778705636743, 0.005511811023622047, 0.007155635062611807, 0.005908419497784343, 0.005277044854881266, 0.0053655264922870555, 0.007633587786259542, 0.006437768240343348, 0.006382978723404255, 0.005813953488372093, 0.008645533141210375, 0.007585335018963337, 0.0057306590257879654, 0.015594541910331383, 0.0066844919786096255, 0.0078125, 0.005747126436781609, 0.0035842293906810036, 0.0, 0.007984031936127744, 0.0072992700729927005, 0.005545286506469501, 0.006060606060606061, 0.004291845493562232, 0.01282051282051282, 0.0019828155981493722, 0.007598784194528876, 0.01845018450184502, 0.005067567567567568, 0.006802721088435374, 0.02066115702479339, 0.0056657223796034, 0.013850415512465374, 0.01293103448275862, 0.006928406466512702, 0.009966777408637873, 0.007312614259597806, 0.01845018450184502, 0.008714596949891068, 0.007267441860465116, 0.013333333333333334, 0.015503875968992248, 0.009584664536741214, 0.013333333333333334, 0.006085192697768763, 0.008938547486033519, 0.009584664536741214, 0.0066555740432612314, 0.006405693950177936, 0.006507592190889371, 0.005828476269775187, 0.005361930294906166, 0.00967741935483871, 0.01098901098901099, 0.005698005698005698, 0.005221932114882507, 0.006075334143377886, 0.007451564828614009, 0.006920415224913495, 0.0045045045045045045, 0.006012024048096192, 0.0121580547112462, 0.005988023952095809, 0.005988023952095809, 0.003870967741935484, 0.007594936708860759, 0.008356545961002786, 0.0064794816414686825, 0.003827751196172249, 0.006289308176100629, 0.005847953216374269, 0.0063025210084033615, 0.017064846416382253, 0.0056179775280898875, 0.006422018348623854, 0.0061162079510703364, 0.004666949512091642, 0.006027397260273973, 0.045454545454545456, 0.0079155672823219, 0.009732360097323601, 0.008797653958944282, 0.005706134094151213, 0.011538461538461539, 0.007062146892655367, 0.005043227665706052, 0.0027591643673630273, 0.008, 0.004492362982929021, 0.015060240963855422, 0.006593406593406593, 0.009398496240601503, 0.008771929824561403, 0.004424778761061947, 0.006864988558352402, 0.0057306590257879654, 0.006983240223463687, 0.007011393514460999, 0.02, 0.013422818791946308, 0.016835016835016835, 0.0038240917782026767, 0.011278195488721804, 0.0079155672823219, 0.02092050209205021, 0.007326007326007326, 0.009287925696594427, 0.005494505494505495, 0.010968921389396709, 0.012422360248447204, 0.012422360248447204, 0.005509641873278237, 0.008032128514056224, 0.01718213058419244, 0.004914004914004914, 0.005970149253731343, 0.004055619930475087, 0.005107252298263534, 0.01607717041800643, 0.005214368482039398, 0.012448132780082987, 0.01293103448275862, 0.0053106744556558685, 0.005580357142857143, 0.007462686567164179, 0.0045662100456621, 0.0060882800608828, 0.01276595744680851, 0.007716049382716049, 0.009375, 0.006122448979591836, 0.006224066390041493, 0.004991680532445923, 0.005012531328320802, 0.005326231691078562, 0.0035211267605633804, 0.0024937655860349127, 0.00617828773168579, 0.009029345372460496, 0.006702412868632708, 0.005457025920873124, 0.006145741878841089, 0.011494252873563218, 0.006172839506172839, 0.006054490413723511, 0.011695906432748537, 0.010810810810810811, 0.011538461538461539, 0.009523809523809525, 0.005512679162072767, 0.015306122448979591, 0.013623978201634877, 0.005269320843091335, 0.009966777408637873, 0.006666666666666667, 0.012135922330097087, 0.016778523489932886, 0.010309278350515464, 0.006944444444444444, 0.003864734299516908, 0.011009174311926606, 0.0061068702290076335, 0.008350730688935281, 0.0077348066298342545, 0.005698005698005698, 0.007202881152460984, 0.011111111111111112, 0.004411764705882353, 0.005494505494505495, 0.009681881051175657, 0.005852231163130944, 0.008038585209003215, 0.0121580547112462, 0.004307250538406317, 0.005836575875486381, 0.007905138339920948, 0.012658227848101266, 0.007352941176470588, 0.008403361344537815, 0.0035211267605633804, 0.005639097744360902, 0.009287925696594427, 0.013377926421404682, 0.012195121951219513, 0.006880733944954129, 0.004027617951668585, 0.009398496240601503, 0.0078125, 0.004576659038901602, 0.005555555555555556, 0.00357653791130186, 0.01643835616438356, 0.012605042016806723, 0.00646551724137931, 0.011428571428571429, 0.0064, 0.007867820613690008, 0.007412898443291327, 0.007905138339920948, 0.008016032064128256, 0.004132231404958678, 0.005649717514124294, 0.004724409448818898, 0.004694835680751174, 0.014705882352941176, 0.009162303664921465, 0.0049261083743842365, 0.0049504950495049506, 0.011312217194570135, 0.009523809523809525, 0.0050968399592252805, 0.00562429696287964, 0.003656307129798903, 0.006749156355455568, 0.0018281535648994515, 0.01240694789081886, 0.00992063492063492, 0.004545454545454545, 0.005154639175257732, 0.003875968992248062, 0.007936507936507936, 0.011904761904761904, 0.00974025974025974, 0.0057306590257879654, 0.012145748987854251, 0.012345679012345678, 0.016129032258064516, 0.009925558312655087, 0.0058823529411764705, 0.007380073800738007, 0.00911854103343465, 0.0037593984962406013, 0.004101722723543888, 0.003875968992248062, 0.008174386920980926, 0.00964630225080386, 0.01276595744680851, 0.005802707930367505, 0.015384615384615385, 0.015444015444015444, 0.007782101167315175, 0.004662004662004662, 0.012, 0.0113314447592068, 0.012658227848101266, 0.024489795918367346, 0.00911854103343465, 0.008130081300813009, 0.00796812749003984, 0.005805515239477504, 0.006024096385542169, 0.008565310492505354, 0.008528784648187633, 0.0079155672823219, 0.008403361344537815, 0.012345679012345678, 0.007446808510638298, 0.007741935483870968, 0.008791208791208791, 0.012750455373406194, 0.007334963325183374, 0.0060790273556231, 0.03292181069958848, 0.012345679012345678, 0.028, 0.033962264150943396, 0.011661807580174927, 0.023706896551724137, 0.012, 0.011904761904761904, 0.0136986301369863, 0.016666666666666666, 0.012578616352201259, 0.024070021881838075, 0.019148936170212766, 0.008571428571428572, 0.014970059880239521, 0.009541984732824428, 0.013812154696132596, 0.013592233009708738, 0.005865102639296188, 0.009389671361502348, 0.01293103448275862, 0.008281573498964804, 0.009836065573770493, 0.011278195488721804, 0.014970059880239521, 0.0056179775280898875, 0.01680672268907563, 0.006289308176100629, 0.01694915254237288, 0.006600660066006601, 0.017316017316017316, 0.006666666666666667, 0.007633587786259542, 0.011933174224343675, 0.009523809523809525, 0.014652014652014652, 0.008955223880597015, 0.009828009828009828, 0.006263048016701462, 0.011904761904761904, 0.012605042016806723, 0.011461318051575931, 0.007518796992481203, 0.011990407673860911, 0.013245033112582781, 0.013266998341625208, 0.002688172043010753, 0.012658227848101266, 0.008389261744966443, 0.005305039787798408, 0.007936507936507936, 0.009345794392523364, 0.0034602076124567475, 0.011278195488721804, 0.0019083969465648854, 0.008670520231213872, 0.008108108108108109, 0.013404825737265416, 0.005988023952095809], \"type\": \"scatter\"}], {\"showlegend\": true, \"yaxis\": {\"tickfont\": {\"size\": 20}, \"title\": \"Time Enrolled (Days)\", \"titlefont\": {\"size\": 24}, \"dtick\": 1000, \"showgrid\": false}, \"titlefont\": {\"size\": 24}, \"xaxis\": {\"tickfont\": {\"size\": 20}, \"title\": \"Growth (per Day)\", \"showgrid\": false, \"titlefont\": {\"size\": 24}, \"type\": \"log\", \"autorange\": \"True\"}, \"title\": \"Growth of Student vs Time Enrolled\"}, {\"linkText\": \"Export to plot.ly\", \"showLink\": true})});</script>"
      ],
      "text/plain": [
       "<IPython.core.display.HTML object>"
      ]
     },
     "metadata": {},
     "output_type": "display_data"
    }
   ],
   "source": [
    "# Visualizing growth of students and time enrolled\n",
    "\n",
    "stsk = studentsn[studentsn['short_term']==1]['skill_increase_correct']\n",
    "stsk1 = studentsn[studentsn['short_term']==1]['time_enrolled']\n",
    "\n",
    "ltsk = studentsn[studentsn['short_term']==0]['skill_increase_correct']\n",
    "ltsk1 = studentsn[studentsn['short_term']==0]['time_enrolled']\n",
    "\n",
    "trace1 = Scatter(x=stsk,y=stsk1, mode='markers', name = 'Short-Term Enrollees', marker=dict(color='rgb(100, 100, 200)', size=5))\n",
    "trace2 = Scatter(x=ltsk,y=ltsk1, mode='markers', name = 'Long-Term Enrollees', marker=dict(color='rgb(250, 130, 170)',size=5))\n",
    "\n",
    "\n",
    "data = [trace1,trace2]\n",
    "layout = Layout(xaxis=dict(title = 'Growth (per Day)',type='log', autorange='True',tickfont=dict(size=20), showgrid=False,  titlefont=dict(size=24)),\n",
    "                 yaxis=dict(title='Time Enrolled (Days)', showgrid=False, tickfont=dict(size=20), titlefont=dict(size=24),dtick=1000),\n",
    "                title='Growth of Student vs Time Enrolled',  titlefont=dict(size=24), showlegend=True)\n",
    "fig1 = Figure(data=data, layout=layout)\n",
    "iplot(fig1)"
   ]
  },
  {
   "cell_type": "markdown",
   "metadata": {},
   "source": [
    "The above plot shows that students who progress slower typically stay for longer periods, and students who progress faster typically stay for shorter periods"
   ]
  },
  {
   "cell_type": "code",
   "execution_count": 47,
   "metadata": {
    "collapsed": false
   },
   "outputs": [
    {
     "data": {
      "text/html": [
       "<div id=\"c7417d56-dbac-473c-849e-cdea15c44190\" style=\"height: 525px; width: 100%;\" class=\"plotly-graph-div\"></div><script type=\"text/javascript\">require([\"plotly\"], function(Plotly) { window.PLOTLYENV=window.PLOTLYENV || {};window.PLOTLYENV.BASE_URL=\"https://plot.ly\";Plotly.newPlot(\"c7417d56-dbac-473c-849e-cdea15c44190\", [{\"opacity\": 0.75, \"x\": [0.011111111111111112, 0.023529411764705882, 0.012048192771084338, 0.043478260869565216, 0.01020408163265306, 0.08536585365853659, 0.012987012987012988, 0.04830917874396135, 0.013513513513513514, 0.006756756756756757, 0.013422818791946308, 0.034934497816593885, 0.014285714285714285, 0.013605442176870748, 0.04878048780487805, 0.0, 0.03508771929824561, 0.00975609756097561, 0.008888888888888889, 0.1016949152542373, 0.07407407407407407, 0.018633540372670808, 0.0213903743315508, 0.05263157894736842, 0.008849557522123894, 0.014084507042253521, 0.023952095808383235, 0.011627906976744186, 0.03225806451612903, 0.0784313725490196, 0.1111111111111111, 0.02702702702702703, 0.02631578947368421, 0.0, 0.014150943396226415, 0.025, 0.018867924528301886, 0.024390243902439025, 0.008403361344537815, 0.009345794392523364, 0.047058823529411764, 0.009174311926605505, 0.01020408163265306, 0.21739130434782608, 0.04878048780487805, 0.034934497816593885, 0.014705882352941176, 0.015037593984962405, 0.020618556701030927, 0.019801980198019802, 0.16666666666666666, 0.023809523809523808, 0.16666666666666666, 0.15384615384615385, 0.010362694300518135, 0.0, 0.011904761904761904, 0.0, 0.012987012987012988, 0.05555555555555555, 0.01020408163265306, 0.012987012987012988, 0.025974025974025976, 0.025974025974025976, 0.057692307692307696, 0.057692307692307696, 0.006493506493506494, 0.04, 0.05217391304347826, 0.00684931506849315, 0.01694915254237288, 0.05555555555555555, 0.0125, 0.005714285714285714, 0.0, 0.04504504504504504, 0.03389830508474576, 0.012195121951219513, 0.025974025974025976, 0.008928571428571428, 0.00904977375565611, 0.019417475728155338, 0.025, 0.009259259259259259, 0.014598540145985401, 0.011560693641618497, 0.009523809523809525, 0.022988505747126436, 0.022988505747126436, 0.019230769230769232, 0.015151515151515152, 0.011494252873563218, 0.041666666666666664, 0.025974025974025976, 0.031055900621118012, 0.022857142857142857, 0.05, 0.008928571428571428, 0.022222222222222223, 0.011111111111111112, 0.01020408163265306, 0.012738853503184714, 0.01020408163265306, 0.022222222222222223, 0.03296703296703297, 0.009523809523809525, 0.014354066985645933, 0.006172839506172839, 1.3333333333333333, 0.011428571428571429, 0.02631578947368421, 0.05, 0.012903225806451613, 0.006289308176100629, 0.006666666666666667, 0.029411764705882353, 0.02702702702702703, 0.017543859649122806, 0.015873015873015872, 0.023809523809523808, 0.02586206896551724, 0.0, 0.04838709677419355, 0.0, 0.02564102564102564, 0.05737704918032787, 0.0, 0.0, 0.02127659574468085, 0.03225806451612903, 0.015706806282722512, 0.014492753623188406, 0.020942408376963352, 0.007633587786259542, 0.0, 0.0, 0.017341040462427744, 0.0, 0.009615384615384616, 0.009523809523809525, 0.04878048780487805, 0.0, 0.01904761904761905, 0.01020408163265306, 0.008064516129032258, 0.0, 0.01282051282051282, 0.01020408163265306, 0.0, 0.0, 0.03333333333333333, 0.025974025974025976, 0.09523809523809523, 0.011904761904761904, 0.022727272727272728, 0.026785714285714284, 0.008928571428571428, 0.00909090909090909, 0.019704433497536946, 0.01639344262295082, 0.00684931506849315, 0.004975124378109453, 0.025806451612903226, 0.029850746268656716, 0.030456852791878174, 0.004366812227074236, 0.02857142857142857, 0.0, 0.0, 0.022058823529411766, 0.08771929824561403, 0.023529411764705882, 0.010101010101010102, 0.03389830508474576, 0.0072992700729927005, 0.0, 0.016483516483516484, 0.0070921985815602835, 0.0, 0.005780346820809248, 0.07462686567164178, 0.18867924528301888, 0.00510204081632653, 0.019736842105263157, 0.0, 0.005076142131979695, 0.009433962264150943, 0.014285714285714285, 0.02857142857142857, 0.014705882352941176, 0.007142857142857143, 0.014388489208633094, 0.023809523809523808, 0.01875, 0.008928571428571428, 0.01639344262295082, 0.017045454545454544, 0.006369426751592357, 0.009615384615384616, 0.013986013986013986, 0.017543859649122806, 0.013333333333333334, 0.0, 0.0, 0.009478672985781991, 0.009478672985781991, 0.009478672985781991, 0.017543859649122806, 0.015306122448979591, 0.02040816326530612, 0.023809523809523808, 0.02586206896551724, 0.022556390977443608, 0.022727272727272728, 0.033707865168539325, 0.033707865168539325, 0.015384615384615385, 0.0, 0.0, 0.020618556701030927, 0.019230769230769232, 0.013392857142857142, 0.005780346820809248, 0.0273972602739726, 0.008771929824561403, 0.025, 0.019138755980861243, 0.00980392156862745, 0.013215859030837005, 0.0, 0.0, 0.02608695652173913, 0.0365296803652968, 0.027777777777777776, 0.0, 0.06451612903225806, 0.042328042328042326, 0.03664921465968586, 0.054945054945054944, 0.18867924528301888, 0.0, 0.0, 0.0, 0.0, 0.006369426751592357, 0.0, 0.011363636363636364, 0.0, 0.012987012987012988, 0.0, 0.0, 0.03278688524590164, 0.013513513513513514, 0.0136986301369863, 0.013422818791946308, 0.049586776859504134, 0.013333333333333334, 0.013986013986013986, 0.02127659574468085, 0.016574585635359115, 0.0, 0.0, 0.0, 0.03125, 0.011904761904761904, 0.010362694300518135, 0.011494252873563218, 0.0, 0.25, 0.041666666666666664, 0.05263157894736842, 0.019417475728155338, 0.11235955056179775, 0.015625, 0.013888888888888888, 0.03333333333333333, 0.01015228426395939, 0.0, 0.0297029702970297, 0.0, 0.0136986301369863, 0.02702702702702703, 0.04093567251461988, 0.05660377358490566, 0.0, 0.034482758620689655, 0.03225806451612903, 0.01694915254237288, 0.026143790849673203, 0.015873015873015872, 0.0, 0.04854368932038835, 0.00510204081632653, 0.0136986301369863, 0.012048192771084338, 0.0, 0.0, 0.17391304347826086, 0.0410958904109589, 0.056338028169014086, 0.05660377358490566, 0.05555555555555555, 0.03488372093023256, 0.042735042735042736, 0.0, 0.008771929824561403, 0.013157894736842105, 0.02631578947368421, 0.02631578947368421, 0.028409090909090908, 0.02564102564102564, 0.0, 0.05660377358490566, 0.05813953488372093, 0.00819672131147541, 0.024875621890547265, 0.0125, 0.011904761904761904, 0.028368794326241134, 0.01694915254237288, 0.012987012987012988, 0.0111731843575419, 0.011049723756906077, 0.0, 0.02702702702702703, 0.0, 0.00980392156862745, 0.0392156862745098, 0.01818181818181818, 0.02358490566037736, 0.014150943396226415, 0.028985507246376812, 0.018867924528301886, 0.03153153153153153, 0.12, 0.05, 0.0, 0.01744186046511628, 0.005813953488372093, 0.019230769230769232, 0.03508771929824561, 0.05223880597014925, 0.004545454545454545, 0.03896103896103896, 0.0, 0.013157894736842105, 0.023809523809523808, 0.017241379310344827, 0.009345794392523364, 0.009009009009009009, 0.0, 0.017341040462427744, 0.2608695652173913, 0.0, 0.023809523809523808, 0.017543859649122806, 0.14285714285714285, 0.0, 0.023809523809523808, 0.013157894736842105, 0.014492753623188406, 0.0, 0.0, 0.011904761904761904, 0.02564102564102564, 0.03614457831325301, 0.0, 0.01675977653631285, 0.023809523809523808, 0.14285714285714285, 0.04, 0.01948051948051948, 0.0, 0.03409090909090909, 0.009345794392523364, 0.03067484662576687, 0.015957446808510637, 0.014598540145985401, 0.02912621359223301, 0.17391304347826086, 0.015957446808510637, 0.05128205128205128, 0.022727272727272728, 0.045454545454545456, 0.0, 0.014492753623188406, 0.0390625, 0.010309278350515464, 0.03614457831325301, 0.06382978723404255, 0.023255813953488372, 0.0, 0.011904761904761904, 0.014388489208633094, 0.015789473684210527, 0.031746031746031744, 0.03636363636363636, 0.008695652173913044, 0.028985507246376812, 0.047619047619047616, 0.0056179775280898875, 0.010416666666666666, 0.021739130434782608, 0.019230769230769232, 0.012658227848101266, 0.011494252873563218, 0.009615384615384616, 0.03007518796992481, 0.02857142857142857, 0.020833333333333332, 0.024193548387096774, 0.018292682926829267, 0.0, 0.02631578947368421, 0.015151515151515152, 0.017857142857142856, 0.011111111111111112, 0.01904761904761905, 0.03571428571428571, 0.016216216216216217, 0.0, 0.020833333333333332, 0.029197080291970802, 0.032679738562091505, 0.018518518518518517, 0.014218009478672985, 0.009615384615384616, 0.02040816326530612, 0.027777777777777776, 0.01694915254237288, 0.015151515151515152, 0.020833333333333332, 0.044444444444444446, 0.03636363636363636, 0.026595744680851064, 0.017241379310344827, 0.05185185185185185, 0.15789473684210525, 0.022988505747126436, 0.007042253521126761, 0.03636363636363636, 0.036036036036036036, 0.016304347826086956, 0.045454545454545456, 0.024691358024691357, 0.08955223880597014, 0.06557377049180328, 0.037383177570093455, 0.043478260869565216, 0.009433962264150943, 0.0, 0.0, 0.023255813953488372, 0.023255813953488372, 0.07692307692307693, 0.1, 0.07407407407407407, 0.06896551724137931, 0.0963855421686747, 0.03125, 0.02631578947368421, 0.021739130434782608, 0.10526315789473684, 0.013888888888888888, 0.014285714285714285, 0.04, 0.04, 0.017964071856287425, 0.023255813953488372, 0.016853932584269662, 0.017857142857142856, 0.010256410256410256, 0.01910828025477707, 0.07142857142857142, 0.006944444444444444, 0.015503875968992248, 0.011428571428571429, 0.005917159763313609, 0.0, 0.023809523809523808, 0.017857142857142856, 0.01910828025477707, 0.020618556701030927, 0.017857142857142856, 0.011834319526627219, 0.004739336492890996, 0.015151515151515152, 0.041666666666666664, 0.030612244897959183, 0.0, 0.14285714285714285, 0.0, 0.01015228426395939, 0.03508771929824561, 0.022222222222222223, 0.022222222222222223, 0.0, 0.0, 0.0, 0.04716981132075472, 0.03773584905660377, 0.010416666666666666, 0.01775147928994083, 0.013333333333333334, 0.022222222222222223, 0.022222222222222223, 0.009345794392523364, 0.0, 0.019230769230769232, 0.014634146341463415, 0.03896103896103896, 0.018072289156626505, 0.015384615384615385, 0.031914893617021274, 0.043478260869565216, 0.038461538461538464, 0.05747126436781609, 0.3, 0.03488372093023256, 0.011494252873563218, 0.024096385542168676, 0.012195121951219513, 0.01282051282051282, 0.022222222222222223, 0.018018018018018018, 0.0, 0.013392857142857142, 0.012738853503184714, 0.037037037037037035, 0.031746031746031744, 0.005050505050505051, 0.006756756756756757, 0.022988505747126436, 0.0, 0.01680672268907563, 0.013452914798206279, 0.011764705882352941, 0.011111111111111112, 0.022727272727272728, 0.022388059701492536, 0.022123893805309734, 0.013574660633484163, 0.0625, 0.03529411764705882, 0.011627906976744186, 0.0, 0.043478260869565216, 0.03571428571428571, 0.0, 0.02857142857142857, 0.08108108108108109, 0.02857142857142857, 0.0, 0.03355704697986577, 0.04, 0.041666666666666664, 0.0, 0.008403361344537815, 0.017543859649122806, 0.02608695652173913, 0.009433962264150943, 0.019801980198019802, 0.0, 0.007518796992481203, 0.014285714285714285, 0.0072992700729927005, 0.0, 0.02142857142857143, 0.017241379310344827, 0.03571428571428571, 0.0051813471502590676, 0.0, 0.03260869565217391, 0.017045454545454544, 0.04040404040404041, 0.05357142857142857, 0.0, 0.0297029702970297, 0.043478260869565216, 0.040983606557377046, 0.03225806451612903, 0.02040816326530612, 0.011299435028248588, 0.02857142857142857, 0.0, 0.016304347826086956, 0.012269938650306749, 0.0, 0.02727272727272727, 0.02857142857142857, 0.014705882352941176, 0.08333333333333333, 0.025974025974025976, 0.05714285714285714, 0.0, 0.023255813953488372, 0.05172413793103448, 0.023529411764705882, 0.013157894736842105, 0.020942408376963352, 0.5714285714285714, 0.02040816326530612, 0.05128205128205128, 0.013513513513513514, 0.006993006993006993, 0.05128205128205128, 0.004830917874396135, 0.010752688172043012, 0.06521739130434782, 0.019230769230769232, 0.0975609756097561, 0.0045871559633027525, 0.01282051282051282, 0.015, 0.03333333333333333, 0.06666666666666667, 0.020833333333333332, 0.03296703296703297, 0.0, 0.020833333333333332, 0.010869565217391304, 0.09090909090909091, 0.009259259259259259, 0.034482758620689655, 0.024793388429752067, 0.0, 0.04878048780487805, 0.02403846153846154, 0.03508771929824561, 0.02040816326530612, 0.01948051948051948, 0.028368794326241134, 0.025, 0.0, 0.0, 0.0, 0.0, 0.043478260869565216, 0.0, 0.023391812865497075, 0.011428571428571429, 0.06666666666666667, 0.06818181818181818, 0.025, 0.13333333333333333, 0.021164021164021163, 0.021739130434782608, 0.03333333333333333, 0.03333333333333333, 0.013953488372093023, 0.007692307692307693, 0.013422818791946308, 0.02112676056338028, 0.034482758620689655, -0.029411764705882353, 0.022321428571428572, 0.020100502512562814, 0.03225806451612903, 0.031746031746031744, 0.08928571428571429, 0.022388059701492536, 0.024390243902439025, 0.011834319526627219, 0.015151515151515152, 0.01282051282051282, 0.024096385542168676, 0.011363636363636364, 0.07692307692307693, 0.024691358024691357, 0.027777777777777776, 0.015873015873015872, 0.4, 0.004739336492890996, 0.0, 0.013636363636363636, 0.0, 0.004739336492890996, 0.017241379310344827, 0.023255813953488372, 0.0, 0.007407407407407408, 0.01818181818181818, 0.02, 0.017699115044247787, 0.025, 0.10810810810810811, 0.028368794326241134, 0.025157232704402517, 0.022727272727272728, 0.008771929824561403, 0.02564102564102564, 0.03896103896103896, 0.0, 0.02030456852791878, 0.029411764705882353, 0.025974025974025976, 0.017045454545454544, 0.0, 0.0, 0.015151515151515152, 0.030303030303030304, 0.01834862385321101, 0.0, 0.02564102564102564, 0.008771929824561403, 0.03225806451612903, 0.03007518796992481, 0.028735632183908046, 0.01098901098901099, 0.009615384615384616, 0.045454545454545456, 0.01485148514851485, 0.05, 0.028985507246376812, 0.03, 0.018518518518518517, 0.017241379310344827, 0.0, 0.02702702702702703, 0.007633587786259542, 0.015228426395939087, 0.02027027027027027, 0.01694915254237288, 0.025, 0.03571428571428571, 0.03571428571428571, 0.033783783783783786, 0.0182648401826484, 0.014492753623188406, 0.033707865168539325, 0.03636363636363636, 0.023529411764705882, 0.012048192771084338, 0.02158273381294964, 0.06153846153846154, 0.009708737864077669, 0.0, 0.011904761904761904, 0.022727272727272728, 0.17073170731707318, 0.01762114537444934, 0.0, 0.0, 0.03333333333333333, 0.01694915254237288, 0.024390243902439025, 0.02631578947368421, 0.026845637583892617, 0.0, 0.006711409395973154, 0.025974025974025976, 0.045454545454545456, 0.025423728813559324, 0.02912621359223301, 0.045454545454545456, 0.015706806282722512, 0.010101010101010102, 0.029411764705882353, 0.01639344262295082, 0.043478260869565216, 0.028037383177570093, 0.015544041450777202, 0.015625, 0.020202020202020204, 0.03225806451612903, 0.02197802197802198, 0.0, 0.0196078431372549, 0.02702702702702703, 0.022727272727272728, 0.02112676056338028, 0.02631578947368421, 0.019801980198019802, 0.035398230088495575, 0.01762114537444934, 0.0196078431372549, 0.020202020202020204, 0.021739130434782608, 0.013953488372093023, 0.010101010101010102, 0.03418803418803419, 0.0, 0.0, 0.023255813953488372, 0.004347826086956522, 0.012195121951219513, 0.015384615384615385, 0.03571428571428571, 0.0078125, 0.0, 0.02040816326530612, 0.013452914798206279, 0.017543859649122806, 0.018018018018018018, 0.02631578947368421, 0.020833333333333332, 0.009523809523809525, 0.0, 0.004975124378109453, 0.022727272727272728, 0.0, 0.013071895424836602, 0.05263157894736842, 0.013953488372093023, 0.03205128205128205, 0.009433962264150943, 0.02040816326530612, 0.012048192771084338, 0.0547945205479452, 0.04225352112676056, 0.03125, 0.0, 0.03896103896103896, 0.024, 0.009615384615384616, 0.03954802259887006, 0.01639344262295082, 0.05714285714285714, 0.02564102564102564, 0.02040816326530612, 0.025210084033613446, 0.015151515151515152, 0.023668639053254437, 0.07142857142857142, 0.016042780748663103, 0.025974025974025976, 0.031746031746031744, 0.020833333333333332, 0.023809523809523808, 0.023809523809523808, 0.014388489208633094, 0.014388489208633094, 0.0, 0.02702702702702703, 0.011976047904191617, 0.014492753623188406, 0.058823529411764705, 0.01694915254237288, 0.010526315789473684, 0.014814814814814815, 0.0, 0.3793103448275862, 0.0, 0.009389671361502348, 0.019736842105263157, 0.024390243902439025, 0.019801980198019802, 0.0, 0.0, 0.018292682926829267, 0.01875, 0.005076142131979695, 0.014218009478672985, 0.0625, 0.030612244897959183, 0.012658227848101266, 0.009523809523809525, 0.005208333333333333, 0.012658227848101266, 0.0, 0.0, 0.02336448598130841, 0.008695652173913044, 0.010309278350515464, 0.011428571428571429, 0.018518518518518517, 0.005128205128205128, 0.005128205128205128, 0.03614457831325301, 0.029411764705882353, 0.0, 0.017857142857142856, 0.014084507042253521, 0.022222222222222223, 0.02127659574468085, 0.010582010582010581, 0.023529411764705882, 0.0, 0.016666666666666666, 0.03007518796992481, 0.006993006993006993, 0.02702702702702703, 0.017241379310344827, 0.0196078431372549, 0.01904761904761905, 0.01694915254237288, 0.007936507936507936, 0.029411764705882353, 0.025974025974025976, 0.03636363636363636, 0.0, 0.02142857142857143, 0.007575757575757576, 0.021897810218978103, 0.014598540145985401, 0.0, 0.017543859649122806, 0.015873015873015872, 0.0111731843575419, 0.010309278350515464, 0.017341040462427744, 0.008771929824561403, 0.018633540372670808, 0.022222222222222223, 0.026455026455026454, 0.03225806451612903, 0.024691358024691357, 0.0136986301369863, 0.010101010101010102, 0.018867924528301886, 0.01675977653631285, 0.006211180124223602, 0.015, 0.012269938650306749, 0.01639344262295082, 0.019867549668874173, 0.0, 0.006622516556291391, 0.020202020202020204, 0.005434782608695652, 0.010869565217391304, 0.02304147465437788, 0.017543859649122806, 0.012658227848101266, 0.038461538461538464, 0.0, 0.014150943396226415, 0.017857142857142856, 0.017857142857142856, 0.017142857142857144, 0.00819672131147541, 0.00847457627118644, 0.015625, 0.015873015873015872, 0.07142857142857142, 0.023809523809523808, 0.012987012987012988, 0.016129032258064516, 0.011111111111111112, 0.02027027027027027, 0.017241379310344827, 0.009216589861751152, 0.014218009478672985, 0.023529411764705882, 0.033783783783783786, 0.041666666666666664, 0.0, 0.0392156862745098, 0.0, 0.05333333333333334, 0.08, 0.014925373134328358, 0.013422818791946308, 0.016483516483516484, 0.017857142857142856, 0.008130081300813009, 0.01694915254237288, 0.014925373134328358, 0.015873015873015872, 0.019801980198019802, 0.009900990099009901, 0.0, 0.028037383177570093, 0.0196078431372549, 0.006993006993006993, 0.018404907975460124, 0.013333333333333334, 0.04032258064516129, 0.017241379310344827, 0.009615384615384616, 0.034482758620689655, 0.03773584905660377, 0.039473684210526314, 0.049586776859504134, 0.013157894736842105, 0.008771929824561403, 0.0847457627118644, 0.5833333333333334, 0.013157894736842105, 0.015625, 0.0625, 0.011235955056179775, 0.16, 0.0, 0.01694915254237288, 0.0, 0.018072289156626505, 0.00558659217877095, 0.009478672985781991, 0.019138755980861243, 0.08695652173913043, 0.06666666666666667, 0.0, 0.025974025974025976, 0.017543859649122806, 0.020833333333333332, 0.020833333333333332, 0.07692307692307693, 0.03333333333333333, 0.11538461538461539, 0.06666666666666667, 0.03125, 0.0, 0.05825242718446602, 0.0, 0.10752688172043011, 0.014705882352941176, 0.08108108108108109, 0.04, 0.020134228187919462, 0.004694835680751174, 0.03409090909090909, 0.02112676056338028, 0.02666666666666667, 0.05263157894736842, 0.019138755980861243, 0.056074766355140186, 0.0, 0.02857142857142857, 0.03, 0.03, 0.023809523809523808, 0.02631578947368421, 0.028037383177570093, 0.023529411764705882, 0.0425531914893617, 0.04697986577181208, 0.021739130434782608, 0.125, 0.015037593984962405, 0.05357142857142857, 0.017142857142857144, 0.01694915254237288, 0.03333333333333333, 0.01, 0.018867924528301886, 0.021739130434782608, 0.013793103448275862, 0.10526315789473684, 0.009259259259259259, 0.033707865168539325, 0.03773584905660377, 0.09090909090909091, 0.017857142857142856, 0.045454545454545456, 0.022727272727272728, 0.039473684210526314, 0.04040404040404041, 0.02197802197802198, 0.008064516129032258, 0.041666666666666664, 0.08695652173913043, 0.01020408163265306, 0.022222222222222223, 0.030612244897959183, 0.10344827586206896, 0.5, 0.14285714285714285, 0.2857142857142857, 0.14285714285714285, 0.05, 0.15217391304347827, 0.015037593984962405, 0.012578616352201259, 0.0273972602739726, 0.023255813953488372, 0.046296296296296294, 0.05, 0.0, 0.0, 0.013157894736842105, 0.02040816326530612, 0.011560693641618497, 0.022222222222222223, 0.037914691943127965, 0.05970149253731343, 0.10256410256410256, 0.021897810218978103, 0.017241379310344827, 0.017241379310344827, 0.1111111111111111, 0.05555555555555555, 0.05357142857142857, 0.03571428571428571, 0.01680672268907563, 0.05357142857142857, 0.04878048780487805, 0.03225806451612903, 0.03333333333333333, 0.024390243902439025, 0.016260162601626018, 0.08, 0.01818181818181818, 0.06896551724137931, 0.005681818181818182, 0.014285714285714285, 0.014925373134328358, 0.031746031746031744, 0.02564102564102564, 0.022222222222222223, 0.011111111111111112, 0.0, 0.030303030303030304, 0.056338028169014086, 0.012048192771084338, 0.01098901098901099, 0.022727272727272728, 0.0, 0.019867549668874173, 0.02857142857142857, 0.0, 0.02702702702702703, 0.0, 0.0, 0.0, 0.02702702702702703, 0.047619047619047616, 0.012121212121212121, 0.006211180124223602, 0.047619047619047616, 0.008403361344537815, 0.0, 0.009433962264150943, 0.0, 0.0], \"type\": \"histogram\", \"name\": \"Short Term Enrollees\"}, {\"opacity\": 0.75, \"x\": [0.029914529914529916, 0.012232415902140673, 0.00683371298405467, 0.008976660682226212, 0.016597510373443983, 0.019189765458422176, 0.006741573033707865, 0.011705685618729096, 0.03017241379310345, 0.005747126436781609, 0.009389671361502348, 0.0076045627376425855, 0.011363636363636364, 0.011029411764705883, 0.01107011070110701, 0.011396011396011397, 0.013136288998357963, 0.0375, 0.010775862068965518, 0.009433962264150943, 0.002207505518763797, 0.0038022813688212928, 0.007211538461538462, 0.022988505747126436, 0.009057971014492754, 0.004467609828741623, 0.004524886877828055, 0.0030165912518853697, 0.016241299303944315, 0.008680555555555556, 0.008333333333333333, 0.0064516129032258064, 0.008869179600886918, 0.011019283746556474, 0.0038910505836575876, 0.0, 0.00975609756097561, 0.008746355685131196, 0.00847457627118644, 0.002352941176470588, 0.0087527352297593, 0.00909090909090909, 0.006493506493506494, 0.006493506493506494, 0.007537688442211055, 0.014336917562724014, 0.012531328320802004, 0.012048192771084338, 0.009836065573770493, 0.008902077151335312, 0.009836065573770493, 0.013227513227513227, 0.008928571428571428, 0.0111731843575419, 0.004618937644341801, 0.006666666666666667, 0.005940594059405941, 0.015424164524421594, 0.008503401360544218, 0.004424778761061947, 0.017482517482517484, 0.007772020725388601, 0.00558659217877095, 0.007263922518159807, 0.007360672975814932, 0.00558659217877095, 0.015723270440251572, 0.006561679790026247, 0.005504587155963303, 0.011976047904191617, 0.003629764065335753, 0.004705882352941176, 0.00909090909090909, 0.011111111111111112, 0.011494252873563218, 0.0034334763948497852, 0.025423728813559324, 0.012875536480686695, 0.004402054292002935, 0.004405286343612335, 0.0028011204481792717, 0.010080645161290322, 0.009562841530054645, 0.011834319526627219, 0.007722007722007722, 0.007575757575757576, 0.002531645569620253, 0.007374631268436578, 0.007363770250368188, 0.005202913631633715, 0.009389671361502348, 0.008823529411764706, 0.01293103448275862, 0.017316017316017316, 0.015432098765432098, 0.007255139056831923, 0.0156794425087108, 0.0032102728731942215, 0.007653061224489796, 0.007653061224489796, 0.005063291139240506, 0.0045377197958026095, 0.007936507936507936, 0.00909090909090909, 0.003937007874015748, 0.042801556420233464, 0.029197080291970802, 0.00816326530612245, 0.010460251046025104, 0.0136986301369863, 0.012987012987012988, 0.009900990099009901, 0.013029315960912053, 0.010014306151645207, 0.006711409395973154, 0.0043907793633369925, 0.0037220843672456576, 0.0040650406504065045, 0.008403361344537815, 0.0055147058823529415, 0.004968944099378882, 0.008710801393728223, 0.0056022408963585435, 0.009070294784580499, 0.00929368029739777, 0.011494252873563218, 0.005312084993359893, 0.01639344262295082, 0.010416666666666666, 0.013651877133105802, 0.011111111111111112, 0.01276595744680851, 0.004160887656033287, 0.008421052631578947, 0.002207505518763797, 0.0037243947858473, 0.005095541401273885, 0.009615384615384616, 0.009202453987730062, 0.014814814814814815, 0.0031570639305445935, 0.00997506234413965, 0.0030721966205837174, 0.003816793893129771, 0.007308160779537149, 0.011204481792717087, 0.01282051282051282, 0.005738880918220947, 0.007173601147776184, 0.005641748942172073, 0.011538461538461539, 0.00681044267877412, 0.003968253968253968, 0.0059382422802850355, 0.002197802197802198, 0.013793103448275862, 0.009157509157509158, 0.007849293563579277, 0.007326007326007326, 0.008960573476702509, 0.007054673721340388, 0.008928571428571428, 0.010935601458080195, 0.011965811965811967, 0.012422360248447204, 0.008298755186721992, 0.006802721088435374, 0.00546448087431694, 0.01384083044982699, 0.013605442176870748, 0.013605442176870748, 0.004419889502762431, 0.004419889502762431, 0.006944444444444444, 0.005925925925925926, 0.010282776349614395, 0.007587253414264037, 0.0106544901065449, 0.004766444232602479, 0.0056657223796034, 0.0160857908847185, 0.005518763796909493, 0.010416666666666666, 0.010452961672473868, 0.00620347394540943, 0.010033444816053512, 0.011673151750972763, 0.011673151750972763, 0.011023622047244094, 0.007598784194528876, 0.009771986970684038, 0.009966777408637873, 0.009771986970684038, 0.007017543859649123, 0.006134969325153374, 0.020491803278688523, 0.016260162601626018, 0.027450980392156862, 0.02564102564102564, 0.01730103806228374, 0.0163265306122449, 0.03571428571428571, 0.012244897959183673, 0.023076923076923078, 0.011450381679389313, 0.024291497975708502, 0.031496062992125984, 0.03076923076923077, 0.023715415019762844, 0.018796992481203006, 0.02973977695167286, 0.007352941176470588, 0.04417670682730924, 0.031746031746031744, 0.012145748987854251, 0.0037174721189591076, 0.008032128514056224, 0.024489795918367346, 0.016194331983805668, 0.011278195488721804, 0.023715415019762844, 0.02857142857142857, 0.0196078431372549, 0.007782101167315175, 0.011538461538461539, 0.02040816326530612, 0.024096385542168676, 0.013262599469496022, 0.0056657223796034, 0.006644518272425249, 0.010570824524312896, 0.010526315789473684, 0.011111111111111112, 0.01730103806228374, 0.021604938271604937, 0.018518518518518517, 0.008438818565400843, 0.005434782608695652, 0.011013215859030838, 0.011013215859030838, 0.00796812749003984, 0.007797270955165692, 0.025423728813559324, 0.006920415224913495, 0.006944444444444444, 0.008298755186721992, 0.0125, 0.0038910505836575876, 0.0022123893805309734, 0.017543859649122806, 0.007936507936507936, 0.01639344262295082, 0.003278688524590164, 0.01, 0.012096774193548387, 0.0106951871657754, 0.0121580547112462, 0.008021390374331552, 0.006329113924050633, 0.016666666666666666, 0.008373205741626795, 0.012698412698412698, 0.018018018018018018, 0.008547008547008548, 0.012195121951219513, 0.016286644951140065, 0.013114754098360656, 0.005025125628140704, 0.011737089201877934, 0.01256281407035176, 0.011278195488721804, 0.012269938650306749, 0.006015037593984963, 0.014084507042253521, 0.006578947368421052, 0.007168458781362007, 0.017142857142857144, 0.008152173913043478, 0.01485148514851485, 0.010126582278481013, 0.011990407673860911, 0.008880994671403197, 0.017543859649122806, 0.012944983818770227, 0.007237635705669481, 0.009009009009009009, 0.007389162561576354, 0.007058823529411765, 0.0045351473922902496, 0.010657193605683837, 0.010964912280701754, 0.006118881118881119, 0.007042253521126761, 0.011320754716981131, 0.00796812749003984, 0.009708737864077669, 0.001936108422071636, 0.006359300476947536, 0.0035087719298245615, 0.007547169811320755, 0.018726591760299626, 0.02247191011235955, 0.01652892561983471, 0.016835016835016835, 0.007662835249042145, 0.023890784982935155, 0.023972602739726026, 0.012605042016806723, 0.02197802197802198, 0.0125, 0.02531645569620253, 0.00558659217877095, 0.014652014652014652, 0.0027397260273972603, 0.01078167115902965, 0.0064, 0.011494252873563218, 0.006097560975609756, 0.009852216748768473, 0.005249343832020997, 0.013289036544850499, 0.0049261083743842365, 0.012, 0.008247422680412371, 0.006185567010309278, 0.010676156583629894, 0.006097560975609756, 0.011428571428571429, 0.01060070671378092, 0.0058997050147492625, 0.006289308176100629, 0.007766990291262136, 0.0036363636363636364, 0.0056022408963585435, 0.003246753246753247, 0.007476635514018692, 0.015037593984962405, 0.011406844106463879, 0.00927643784786642, 0.0055658627087198514, 0.006557377049180328, 0.004842615012106538, 0.004893964110929853, 0.0071633237822349575, 0.005722460658082976, 0.008456659619450317, 0.00547645125958379, 0.004201680672268907, 0.0045045045045045045, 0.005591054313099041, 0.010688836104513063, 0.0055248618784530384, 0.015503875968992248, 0.009070294784580499, 0.006559766763848397, 0.005194805194805195, 0.003875968992248062, 0.009900990099009901, 0.023166023166023165, 0.008849557522123894, 0.00639386189258312, 0.01593625498007968, 0.010344827586206896, 0.006265664160401002, 0.00825082508250825, 0.005076142131979695, 0.004191616766467066, 0.008361204013377926, 0.017341040462427744, 0.017316017316017316, 0.008658008658008658, 0.006535947712418301, 0.005988023952095809, 0.017316017316017316, 0.007849293563579277, 0.0076045627376425855, 0.005069708491761723, 0.00579950289975145, 0.021505376344086023, 0.005853658536585366, 0.007380073800738007, 0.003590664272890485, 0.011049723756906077, 0.0038022813688212928, 0.013550135501355014, 0.01020408163265306, 0.0026954177897574125, 0.010256410256410256, 0.016666666666666666, 0.005917159763313609, 0.013392857142857142, 0.004228329809725159, 0.01327433628318584, 0.016736401673640166, 0.007832898172323759, 0.004343105320304018, 0.008438818565400843, 0.005196733481811433, 0.006622516556291391, 0.008746355685131196, 0.04048582995951417, 0.011111111111111112, 0.00628140703517588, 0.012048192771084338, 0.007518796992481203, 0.005025125628140704, 0.007462686567164179, 0.010256410256410256, 0.023622047244094488, 0.007042253521126761, 0.008264462809917356, 0.01858736059479554, 0.0076481835564053535, 0.015822784810126583, 0.009584664536741214, 0.009041591320072333, 0.008403361344537815, 0.0053475935828877, 0.009554140127388535, 0.006472491909385114, 0.005979073243647235, 0.008587786259541985, 0.011799410029498525, 0.0018248175182481751, 0.009925558312655087, 0.008, 0.01293103448275862, 0.014634146341463415, 0.007062146892655367, 0.01593625498007968, 0.0055248618784530384, 0.015151515151515152, 0.003061224489795918, 0.006230529595015576, 0.015151515151515152, 0.007366482504604052, 0.00589622641509434, 0.009720534629404616, 0.008583690987124463, 0.004434589800443459, 0.007255139056831923, 0.011869436201780416, 0.011204481792717087, 0.015283842794759825, 0.010141987829614604, 0.017241379310344827, 0.007360672975814932, 0.0196078431372549, 0.012987012987012988, 0.00804289544235925, 0.010610079575596816, 0.01098901098901099, 0.008241758241758242, 0.01098901098901099, 0.017421602787456445, 0.003395585738539898, 0.006404391582799634, 0.0038412291933418692, 0.003669724770642202, 0.00851063829787234, 0.0036900369003690036, 0.005494505494505495, 0.013201320132013201, 0.0025380710659898475, 0.006102877070619006, 0.014251781472684086, 0.005494505494505495, 0.010471204188481676, 0.003003003003003003, 0.01098901098901099, 0.011661807580174927, 0.00708502024291498, 0.008948545861297539, 0.009685230024213076, 0.011235955056179775, 0.003861003861003861, 0.003205128205128205, 0.0056179775280898875, 0.0072992700729927005, 0.005357142857142857, 0.013029315960912053, 0.007220216606498195, 0.007220216606498195, 0.026923076923076925, 0.010769230769230769, 0.01366120218579235, 0.013574660633484163, 0.01532567049808429, 0.016574585635359115, 0.01312910284463895, 0.007952286282306162, 0.0041841004184100415, 0.003745318352059925, 0.006802721088435374, 0.005780346820809248, 0.0088339222614841, 0.00591016548463357, 0.008726003490401396, 0.008710801393728223, 0.005498281786941581, 0.008016032064128256, 0.009655172413793104, 0.006068779501011463, 0.0035778175313059034, 0.006600660066006601, 0.006729475100942127, 0.00954653937947494, 0.009345794392523364, 0.006149116064565719, 0.0051513200257566, 0.003421727972626176, 0.007352941176470588, 0.010014306151645207, 0.002066115702479339, 0.0031520882584712374, 0.009395973154362415, 0.015355086372360844, 0.007547169811320755, 0.0125, 0.004548408057179987, 0.011594202898550725, 0.01256281407035176, 0.0051813471502590676, 0.0049504950495049506, 0.0038461538461538464, 0.004446640316205534, 0.007425742574257425, 0.004534005037783375, 0.008583690987124463, 0.0047169811320754715, 0.006460875807609476, 0.021367521367521368, 0.008350730688935281, 0.008875739644970414, 0.01838235294117647, 0.007395234182415777, 0.006238859180035651, 0.002564102564102564, 0.002564102564102564, 0.006564551422319475, 0.008012820512820512, 0.0057445868316394165, 0.0052417006406523005, 0.004574914220358368, 0.009009009009009009, 0.008708272859216255, 0.004984141368373357, 0.008695652173913044, 0.008146639511201629, 0.010050251256281407, 0.011363636363636364, 0.003339517625231911, 0.007952286282306162, 0.00505902192242833, 0.006245662734212352, 0.010344827586206896, 0.00727802037845706, 0.006944444444444444, 0.005836575875486381, 0.01393188854489164, 0.005118362124120281, 0.005488474204171241, 0.005521048999309869, 0.004492362982929021, 0.005405405405405406, 0.006342494714587738, 0.005836575875486381, 0.006263048016701462, 0.008620689655172414, 0.005571030640668524, 0.003336113427856547, 0.008103727714748784, 0.011148272017837236, 0.003948667324777887, 0.00510204081632653, 0.00247320692497939, 0.00411522633744856, 0.011093502377179081, 0.014285714285714285, 0.013123359580052493, 0.010723860589812333, 0.010180995475113122, 0.006615214994487321, 0.005958291956305859, 0.018867924528301886, 0.014263074484944533, 0.01592356687898089, 0.011093502377179081, 0.006980802792321117, 0.006896551724137931, 0.0050200803212851405, 0.005274261603375527, 0.0038443056222969728, 0.0041459369817578775, 0.00506842372022301, 0.020356234096692113, 0.012195121951219513, 0.006033182503770739, 0.006825938566552901, 0.0074211502782931356, 0.007434944237918215, 0.007700770077007701, 0.009983361064891847, 0.004573170731707317, 0.004798080767692923, 0.005208333333333333, 0.011940298507462687, 0.011655011655011656, 0.007547169811320755, 0.0064516129032258064, 0.013774104683195593, 0.01639344262295082, 0.008298755186721992, 0.006648936170212766, 0.006648936170212766, 0.01524390243902439, 0.0037821482602118004, 0.008426966292134831, 0.013927576601671309, 0.005251312828207052, 0.002976190476190476, 0.005060728744939271, 0.006191950464396285, 0.009868421052631578, 0.005319148936170213, 0.004374453193350831, 0.003352891869237217, 0.006046863189720333, 0.012844036697247707, 0.012861736334405145, 0.014112903225806451, 0.007213114754098361, 0.004755728491137051, 0.012477718360071301, 0.009592326139088728, 0.004201680672268907, 0.011647254575707155, 0.009983361064891847, 0.013262599469496022, 0.004087193460490463, 0.017361111111111112, 0.01279317697228145, 0.006047278724573941, 0.004048582995951417, 0.013227513227513227, 0.008, 0.015463917525773196, 0.005606166783461808, 0.006622516556291391, 0.013888888888888888, 0.005113636363636364, 0.003370245546461242, 0.005045871559633028, 0.005263157894736842, 0.007452574525745257, 0.013157894736842105, 0.0024084778420038534, 0.005780346820809248, 0.013986013986013986, 0.011516314779270634, 0.004214963119072708, 0.004828002414001207, 0.005995203836930456, 0.007194244604316547, 0.012437810945273632, 0.012698412698412698, 0.00894187779433681, 0.014492753623188406, 0.0091324200913242, 0.008174386920980926, 0.004615384615384616, 0.006144393241167435, 0.003937007874015748, 0.008888888888888889, 0.01609657947686117, 0.0033333333333333335, 0.004271222637479978, 0.004174573055028463, 0.009404388714733543, 0.01182033096926714, 0.01639344262295082, 0.00774526678141136, 0.003965107057890563, 0.015748031496062992, 0.010482180293501049, 0.009259259259259259, 0.003988035892323031, 0.003803727653100038, 0.004500450045004501, 0.004057971014492754, 0.01910828025477707, 0.0031036623215394167, 0.005794302269435055, 0.00954653937947494, 0.004837929366231253, 0.007462686567164179, 0.004261363636363636, 0.00663716814159292, 0.004530011325028313, 0.00794351279788173, 0.0044004400440044, 0.010869565217391304, 0.011320754716981131, 0.00757002271006813, 0.02702702702702703, 0.004860267314702308, 0.003474232773595831, 0.0045906656465187455, 0.0034259611724400457, 0.005379959650302623, 0.008431703204047217, 0.008839779005524863, 0.007339449541284404, 0.008426966292134831, 0.009140767824497258, 0.0073937153419593345, 0.011804384485666104, 0.006321112515802781, 0.0111731843575419, 0.004909983633387889, 0.005202312138728324, 0.00547645125958379, 0.010169491525423728, 0.012618296529968454, 0.011627906976744186, 0.006122448979591836, 0.00819672131147541, 0.0072992700729927005, 0.0045385779122541605, 0.0036845983787767134, 0.006779661016949152, 0.01160092807424594, 0.008639308855291577, 0.009036144578313253, 0.00906344410876133, 0.00823045267489712, 0.009358288770053475, 0.008695652173913044, 0.008710801393728223, 0.007075471698113208, 0.001838235294117647, 0.004651162790697674, 0.004568527918781726, 0.00589622641509434, 0.00411522633744856, 0.004398826979472141, 0.011235955056179775, 0.006693440428380187, 0.010610079575596816, 0.009584664536741214, 0.0020060180541624875, 0.009146341463414634, 0.0071301247771836, 0.003971756398940865, 0.0068775790921595595, 0.003663003663003663, 0.006756756756756757, 0.007279344858962694, 0.0024449877750611247, 0.005627009646302251, 0.004962779156327543, 0.00395778364116095, 0.00395778364116095, 0.013157894736842105, 0.006230529595015576, 0.011661807580174927, 0.007656967840735069, 0.006934812760055479, 0.007233273056057866, 0.0027124773960217, 0.012605042016806723, 0.006597549481621112, 0.0060901339829476245, 0.0053475935828877, 0.004246284501061571, 0.010025062656641603, 0.00684931506849315, 0.0070921985815602835, 0.012681159420289856, 0.009487666034155597, 0.007246376811594203, 0.005501222493887531, 0.0031545741324921135, 0.014613778705636743, 0.005511811023622047, 0.007155635062611807, 0.005908419497784343, 0.005277044854881266, 0.0053655264922870555, 0.007633587786259542, 0.006437768240343348, 0.006382978723404255, 0.005813953488372093, 0.008645533141210375, 0.007585335018963337, 0.0057306590257879654, 0.015594541910331383, 0.0066844919786096255, 0.0078125, 0.005747126436781609, 0.0035842293906810036, 0.0, 0.007984031936127744, 0.0072992700729927005, 0.005545286506469501, 0.006060606060606061, 0.004291845493562232, 0.01282051282051282, 0.0019828155981493722, 0.007598784194528876, 0.01845018450184502, 0.005067567567567568, 0.006802721088435374, 0.02066115702479339, 0.0056657223796034, 0.013850415512465374, 0.01293103448275862, 0.006928406466512702, 0.009966777408637873, 0.007312614259597806, 0.01845018450184502, 0.008714596949891068, 0.007267441860465116, 0.013333333333333334, 0.015503875968992248, 0.009584664536741214, 0.013333333333333334, 0.006085192697768763, 0.008938547486033519, 0.009584664536741214, 0.0066555740432612314, 0.006405693950177936, 0.006507592190889371, 0.005828476269775187, 0.005361930294906166, 0.00967741935483871, 0.01098901098901099, 0.005698005698005698, 0.005221932114882507, 0.006075334143377886, 0.007451564828614009, 0.006920415224913495, 0.0045045045045045045, 0.006012024048096192, 0.0121580547112462, 0.005988023952095809, 0.005988023952095809, 0.003870967741935484, 0.007594936708860759, 0.008356545961002786, 0.0064794816414686825, 0.003827751196172249, 0.006289308176100629, 0.005847953216374269, 0.0063025210084033615, 0.017064846416382253, 0.0056179775280898875, 0.006422018348623854, 0.0061162079510703364, 0.004666949512091642, 0.006027397260273973, 0.045454545454545456, 0.0079155672823219, 0.009732360097323601, 0.008797653958944282, 0.005706134094151213, 0.011538461538461539, 0.007062146892655367, 0.005043227665706052, 0.0027591643673630273, 0.008, 0.004492362982929021, 0.015060240963855422, 0.006593406593406593, 0.009398496240601503, 0.008771929824561403, 0.004424778761061947, 0.006864988558352402, 0.0057306590257879654, 0.006983240223463687, 0.007011393514460999, 0.02, 0.013422818791946308, 0.016835016835016835, 0.0038240917782026767, 0.011278195488721804, 0.0079155672823219, 0.02092050209205021, 0.007326007326007326, 0.009287925696594427, 0.005494505494505495, 0.010968921389396709, 0.012422360248447204, 0.012422360248447204, 0.005509641873278237, 0.008032128514056224, 0.01718213058419244, 0.004914004914004914, 0.005970149253731343, 0.004055619930475087, 0.005107252298263534, 0.01607717041800643, 0.005214368482039398, 0.012448132780082987, 0.01293103448275862, 0.0053106744556558685, 0.005580357142857143, 0.007462686567164179, 0.0045662100456621, 0.0060882800608828, 0.01276595744680851, 0.007716049382716049, 0.009375, 0.006122448979591836, 0.006224066390041493, 0.004991680532445923, 0.005012531328320802, 0.005326231691078562, 0.0035211267605633804, 0.0024937655860349127, 0.00617828773168579, 0.009029345372460496, 0.006702412868632708, 0.005457025920873124, 0.006145741878841089, 0.011494252873563218, 0.006172839506172839, 0.006054490413723511, 0.011695906432748537, 0.010810810810810811, 0.011538461538461539, 0.009523809523809525, 0.005512679162072767, 0.015306122448979591, 0.013623978201634877, 0.005269320843091335, 0.009966777408637873, 0.006666666666666667, 0.012135922330097087, 0.016778523489932886, 0.010309278350515464, 0.006944444444444444, 0.003864734299516908, 0.011009174311926606, 0.0061068702290076335, 0.008350730688935281, 0.0077348066298342545, 0.005698005698005698, 0.007202881152460984, 0.011111111111111112, 0.004411764705882353, 0.005494505494505495, 0.009681881051175657, 0.005852231163130944, 0.008038585209003215, 0.0121580547112462, 0.004307250538406317, 0.005836575875486381, 0.007905138339920948, 0.012658227848101266, 0.007352941176470588, 0.008403361344537815, 0.0035211267605633804, 0.005639097744360902, 0.009287925696594427, 0.013377926421404682, 0.012195121951219513, 0.006880733944954129, 0.004027617951668585, 0.009398496240601503, 0.0078125, 0.004576659038901602, 0.005555555555555556, 0.00357653791130186, 0.01643835616438356, 0.012605042016806723, 0.00646551724137931, 0.011428571428571429, 0.0064, 0.007867820613690008, 0.007412898443291327, 0.007905138339920948, 0.008016032064128256, 0.004132231404958678, 0.005649717514124294, 0.004724409448818898, 0.004694835680751174, 0.014705882352941176, 0.009162303664921465, 0.0049261083743842365, 0.0049504950495049506, 0.011312217194570135, 0.009523809523809525, 0.0050968399592252805, 0.00562429696287964, 0.003656307129798903, 0.006749156355455568, 0.0018281535648994515, 0.01240694789081886, 0.00992063492063492, 0.004545454545454545, 0.005154639175257732, 0.003875968992248062, 0.007936507936507936, 0.011904761904761904, 0.00974025974025974, 0.0057306590257879654, 0.012145748987854251, 0.012345679012345678, 0.016129032258064516, 0.009925558312655087, 0.0058823529411764705, 0.007380073800738007, 0.00911854103343465, 0.0037593984962406013, 0.004101722723543888, 0.003875968992248062, 0.008174386920980926, 0.00964630225080386, 0.01276595744680851, 0.005802707930367505, 0.015384615384615385, 0.015444015444015444, 0.007782101167315175, 0.004662004662004662, 0.012, 0.0113314447592068, 0.012658227848101266, 0.024489795918367346, 0.00911854103343465, 0.008130081300813009, 0.00796812749003984, 0.005805515239477504, 0.006024096385542169, 0.008565310492505354, 0.008528784648187633, 0.0079155672823219, 0.008403361344537815, 0.012345679012345678, 0.007446808510638298, 0.007741935483870968, 0.008791208791208791, 0.012750455373406194, 0.007334963325183374, 0.0060790273556231, 0.03292181069958848, 0.012345679012345678, 0.028, 0.033962264150943396, 0.011661807580174927, 0.023706896551724137, 0.012, 0.011904761904761904, 0.0136986301369863, 0.016666666666666666, 0.012578616352201259, 0.024070021881838075, 0.019148936170212766, 0.008571428571428572, 0.014970059880239521, 0.009541984732824428, 0.013812154696132596, 0.013592233009708738, 0.005865102639296188, 0.009389671361502348, 0.01293103448275862, 0.008281573498964804, 0.009836065573770493, 0.011278195488721804, 0.014970059880239521, 0.0056179775280898875, 0.01680672268907563, 0.006289308176100629, 0.01694915254237288, 0.006600660066006601, 0.017316017316017316, 0.006666666666666667, 0.007633587786259542, 0.011933174224343675, 0.009523809523809525, 0.014652014652014652, 0.008955223880597015, 0.009828009828009828, 0.006263048016701462, 0.011904761904761904, 0.012605042016806723, 0.011461318051575931, 0.007518796992481203, 0.011990407673860911, 0.013245033112582781, 0.013266998341625208, 0.002688172043010753, 0.012658227848101266, 0.008389261744966443, 0.005305039787798408, 0.007936507936507936, 0.009345794392523364, 0.0034602076124567475, 0.011278195488721804, 0.0019083969465648854, 0.008670520231213872, 0.008108108108108109, 0.013404825737265416, 0.005988023952095809], \"type\": \"histogram\", \"name\": \"Long Term Enrollees\"}], {\"barmode\": \"overlay\", \"yaxis\": {\"title\": \"Number of students\"}, \"xaxis\": {\"title\": \"Rate of Skill Increase (per day)\"}, \"title\": \"Comparing Rate of Skill Increase for Long and Short Term Enrollees\"}, {\"linkText\": \"Export to plot.ly\", \"showLink\": true})});</script>"
      ],
      "text/plain": [
       "<IPython.core.display.HTML object>"
      ]
     },
     "metadata": {},
     "output_type": "display_data"
    }
   ],
   "source": [
    "# Another visualization of the distribution of growth for short and long term students\n",
    "\n",
    "stsk = studentsn[studentsn['short_term']==1]['skill_increase_correct']\n",
    "ltsk = studentsn[studentsn['short_term']==0]['skill_increase_correct']\n",
    "\n",
    "trace1 = Histogram(x=stsk,opacity=0.75, name='Short Term Enrollees')\n",
    "trace2 = Histogram(x=ltsk,opacity=0.75, name = 'Long Term Enrollees')\n",
    "data = [trace1, trace2]\n",
    "layout = Layout(barmode='overlay',xaxis=dict(title = 'Rate of Skill Increase (per day)'),yaxis=dict(title='Number of students'),\n",
    "                title='Comparing Rate of Skill Increase for Long and Short Term Enrollees')\n",
    "fig = Figure(data=data, layout=layout)\n",
    "iplot(fig)"
   ]
  },
  {
   "cell_type": "markdown",
   "metadata": {},
   "source": [
    "Long-term students typically progress much slower than short-term students"
   ]
  },
  {
   "cell_type": "code",
   "execution_count": 48,
   "metadata": {
    "collapsed": false
   },
   "outputs": [
    {
     "data": {
      "text/html": [
       "<div id=\"3c8ef4d4-bb6c-44cb-9340-2d2af34f39df\" style=\"height: 525px; width: 100%;\" class=\"plotly-graph-div\"></div><script type=\"text/javascript\">require([\"plotly\"], function(Plotly) { window.PLOTLYENV=window.PLOTLYENV || {};window.PLOTLYENV.BASE_URL=\"https://plot.ly\";Plotly.newPlot(\"3c8ef4d4-bb6c-44cb-9340-2d2af34f39df\", [{\"opacity\": 0.75, \"marker\": {\"color\": \"rgb(125, 70, 200)\"}, \"type\": \"histogram\", \"name\": \"Short-Term Enrollees\", \"x\": [12, 7, 7, 6, 9, 14, 11, 14, 7, 7, 17, 14, 7, 8, 11, 8, 10, 7, 9, 9, 11, 9, 11, 10, 8, 8, 9, 6, 7, 9, 9, 8, 12, 6, 9, 6, 3, 8, 5, 10, 11, 6, 7, 10, 8, 16, 9, 9, 10, 5, 4, 11, 11, 11, 7, 3, 10, 5, 5, 8, 9, 8, 7, 7, 10, 10, 6, 5, 13, 5, 9, 9, 8, 7, 12, 11, 10, 6, 7, 7, 10, 8, 7, 3, 11, 9, 5, 9, 8, 9, 2, 8, 10, 9, 11, 10, 8, 7, 9, 7, 7, 9, 7, 10, 9, 7, 10, 6, 16, 7, 11, 8, 7, 10, 14, 6, 8, 7, 8, 10, 10, 11, 9, 13, 5, 10, 10, 10, 7, 8, 10, 6, 11, 5, 10, 7, 9, 5, 7, 7, 9, 5, 10, 9, 8, 7, 7, 8, 9, 6, 7, 9, 9, 5, 8, 8, 4, 3, 10, 10, 8, 13, 9, 9, 13, 6, 9, 6, 5, 9, 13, 7, 5, 7, 7, 10, 4, 8, 5, 3, 15, 16, 6, 9, 5, 6, 7, 8, 9, 5, 6, 5, 6, 10, 10, 9, 9, 5, 6, 8, 8, 3, 7, 5, 7, 8, 9, 8, 7, 9, 7, 5, 8, 8, 8, 10, 7, 6, 8, 7, 6, 8, 16, 9, 7, 7, 7, 6, 8, 9, 4, 9, 9, 5, 3, 9, 11, 10, 13, 15, 6, 2, 8, 5, 14, 3, 6, 4, 5, 6, 3, 8, 6, 9, 7, 9, 11, 8, 10, 8, 5, 6, 4, 9, 7, 12, 9, 4, 8, 8, 7, 10, 12, 6, 7, 8, 10, 8, 8, 5, 6, 4, 10, 11, 3, 8, 3, 5, 10, 10, 9, 15, 7, 10, 11, 10, 10, 9, 8, 9, 6, 8, 13, 15, 8, 8, 6, 8, 11, 14, 4, 6, 13, 11, 8, 6, 3, 7, 9, 9, 8, 16, 10, 2, 8, 8, 6, 12, 7, 13, 8, 10, 10, 8, 10, 13, 14, 11, 14, 5, 11, 13, 11, 13, 7, 9, 6, 11, 11, 9, 9, 5, 13, 12, 6, 12, 7, 8, 9, 10, 7, 14, 8, 7, 8, 11, 8, 10, 11, 8, 6, 7, 9, 11, 7, 12, 10, 5, 10, 10, 11, 9, 11, 6, 4, 5, 10, 5, 7, 12, 10, 9, 5, 9, 10, 6, 6, 11, 10, 5, 6, 9, 8, 7, 11, 9, 7, 12, 7, 3, 7, 10, 8, 7, 9, 8, 6, 10, 7, 6, 7, 6, 11, 8, 11, 9, 6, 6, 10, 7, 8, 6, 9, 7, 13, 8, 12, 10, 7, 6, 10, 10, 6, 7, 8, 21, 11, 7, 9, 4, 5, 5, 12, 9, 5, 12, 5, 8, 10, 12, 3, 10, 11, 7, 4, 7, 7, 5, 8, 9, 7, 12, 9, 8, 3, 7, 7, 5, 12, 5, 11, 11, 10, 12, 7, 6, 6, 8, 9, 7, 15, 4, 10, 9, 3, 3, 5, 6, 5, 13, 14, 8, 8, 3, 3, 7, 7, 6, 8, 10, 9, 10, 9, 10, 10, 8, 15, 14, 11, 7, 7, 8, 7, 10, 7, 11, 11, 4, 8, 8, 12, 9, 8, 9, 4, 9, 3, 6, 9, 10, 14, 14, 9, 10, 5, 6, 6, 6, 11, 9, 8, 8, 5, 10, 6, 6, 2, 6, 6, 10, 4, 9, 12, 6, 6, 10, 13, 9, 8, 9, 12, 10, 13, 8, 11, 11, 9, 11, 9, 12, 11, 11, 9, 7, 6, 10, 7, 6, 8, 12, 7, 8, 9, 9, 5, 5, 13, 9, 7, 10, 10, 6, 17, 7, 12, 8, 10, 6, 8, 8, 10, 6, 7, 7, 6, 9, 2, 10, 10, 2, 6, 7, 7, 7, 9, 6, 11, 12, 15, 5, 9, 9, 15, 10, 10, 11, 15, 13, 9, 9, 8, 6, 13, 5, 9, 14, 12, 11, 9, 8, 15, 9, 9, 9, 11, 12, 10, 8, 11, 12, 10, 7, 12, 11, 7, 3, 7, 8, 8, 12, 8, 13, 10, 10, 10, 9, 9, 7, 9, 11, 6, 6, 3, 9, 8, 9, 11, 10, 7, 14, 10, 11, 5, 5, 6, 4, 10, 11, 11, 10, 8, 12, 10, 7, 2, 8, 11, 10, 6, 6, 10, 8, 10, 10, 9, 7, 8, 1, 12, 5, 7, 4, 7, 8, 9, 3, 13, 11, 7, 9, 8, 10, 6, 10, 12, 7, 5, 4, 9, 20, 14, 15, 14, 8, 9, 8, 7, 9, 15, 9, 6, 12, 9, 9, 10, 8, 7, 14, 9, 8, 8, 8, 6, 9, 8, 9, 2, 6, 8, 7, 9, 9, 10, 11, 11, 2, 9, 8, 10, 9, 10, 8, 8, 9, 13, 8, 10, 6, 9, 2, 10, 7, 7, 7, 9, 2, 7, 7, 6, 7, 7, 8, 9, 9, 13, 9, 9, 10, 9, 9, 11, 6, 5, 7, 5, 15, 5, 14, 8, 11, 8, 8, 11, 6, 5, 6, 8, 9, 12, 10, 7, 7, 4, 9, 8, 8, 7, 9, 8, 9, 7, 16, 5, 13, 8, 5, 7, 2, 6, 10, 11, 11, 7, 11, 10, 7, 8, 7, 9, 7, 6, 7, 8, 8, 7, 8, 7, 8, 10, 6, 6, 8, 8, 6, 7, 9, 10, 6, 8, 9, 6, 9, 11, 5, 9, 11, 7, 14, 7, 7, 6, 8, 9, 5, 9, 6, 11, 3, 7, 8, 7, 5, 8, 9, 11, 10, 9, 2, 8, 10, 10, 7, 10, 10, 8, 7, 1, 5, 9, 13, 7, 11, 8, 3, 7, 4, 8, 7, 9, 9, 5, 7, 8, 9, 6, 5, 6, 10, 3, 8, 7, 6, 11, 8, 11, 6, 11, 10, 5, 11, 9, 7, 7, 8, 10, 13, 7, 6, 5, 10, 10, 9, 8, 7, 7, 9, 4, 11, 4, 4, 14, 7, 11, 11, 7, 8, 11, 11, 7, 7, 11, 3, 10, 5, 10, 6, 8, 6, 7, 12, 7, 7, 5, 7, 7, 8, 6, 8, 8, 12, 10, 7, 5, 18, 5, 14, 7, 10, 9, 8, 6, 11, 10, 7, 10, 10, 12, 5, 8, 9, 8, 7, 7, 12, 10, 7, 14, 7, 7, 7, 14, 8, 8, 6, 6, 8, 9, 6, 10, 6, 5, 8, 9, 9, 10, 10, 8, 5, 8, 6, 8, 9, 4, 6, 11, 9, 13, 6, 10, 5, 8, 13, 5, 5, 8, 6, 13, 3, 7, 9, 10, 6, 8, 7, 13, 14, 14, 8, 7, 6, 9, 6, 8, 7, 9, 8, 7, 6, 8, 8, 10, 9, 8, 7, 5, 7, 5, 5, 8, 5, 10, 9, 9, 10, 7, 7, 3, 7, 8, 6, 9, 10, 5, 14, 6, 9, 10, 10, 12, 10, 11, 3, 7, 13, 7]}, {\"opacity\": 0.75, \"marker\": {\"color\": \"rgb(250, 130, 170)\"}, \"type\": \"histogram\", \"name\": \"Long Term Enrollees\", \"x\": [9, 9, 8, 7, 12, 15, 8, 12, 9, 8, 10, 7, 8, 9, 12, 10, 10, 16, 10, 10, 9, 7, 10, 16, 10, 11, 10, 9, 15, 10, 10, 14, 9, 9, 16, 14, 11, 8, 8, 9, 9, 13, 11, 9, 7, 6, 7, 8, 9, 8, 8, 13, 9, 11, 6, 12, 9, 12, 6, 8, 10, 8, 10, 11, 13, 13, 13, 10, 12, 9, 14, 13, 13, 10, 9, 13, 10, 7, 15, 16, 16, 12, 12, 9, 7, 14, 14, 10, 6, 11, 9, 9, 11, 12, 10, 13, 11, 9, 11, 7, 16, 13, 10, 5, 16, 13, 16, 15, 12, 11, 5, 7, 5, 14, 6, 9, 10, 6, 9, 12, 9, 13, 11, 13, 10, 10, 15, 6, 5, 11, 9, 4, 11, 10, 11, 16, 9, 10, 9, 9, 15, 6, 11, 8, 11, 6, 9, 9, 7, 9, 8, 13, 7, 6, 11, 9, 9, 11, 9, 10, 15, 9, 16, 13, 8, 6, 10, 9, 9, 9, 11, 10, 9, 15, 14, 7, 11, 14, 9, 11, 13, 7, 10, 12, 12, 8, 8, 5, 14, 11, 7, 11, 10, 13, 9, 11, 6, 9, 12, 9, 10, 11, 8, 11, 8, 9, 13, 15, 9, 6, 10, 11, 12, 9, 12, 12, 6, 13, 6, 5, 9, 9, 10, 5, 11, 7, 8, 11, 9, 11, 10, 9, 8, 14, 14, 13, 9, 13, 10, 12, 14, 11, 9, 10, 9, 8, 7, 10, 6, 12, 16, 12, 16, 11, 5, 9, 9, 11, 11, 12, 14, 6, 12, 8, 13, 11, 13, 4, 11, 7, 8, 13, 9, 11, 15, 12, 11, 13, 14, 9, 11, 11, 11, 9, 11, 7, 9, 9, 11, 13, 14, 9, 9, 8, 13, 8, 17, 8, 12, 7, 7, 10, 10, 10, 7, 9, 13, 7, 12, 8, 15, 16, 9, 10, 9, 11, 9, 8, 9, 6, 11, 6, 12, 6, 8, 8, 8, 8, 9, 10, 4, 11, 17, 5, 6, 8, 9, 9, 10, 7, 8, 5, 5, 12, 10, 14, 10, 11, 10, 15, 16, 9, 11, 9, 13, 10, 11, 13, 12, 11, 11, 8, 8, 11, 11, 13, 12, 7, 12, 9, 9, 9, 13, 9, 8, 9, 9, 13, 15, 10, 11, 11, 9, 9, 10, 8, 13, 6, 10, 9, 13, 18, 14, 6, 8, 8, 11, 10, 9, 8, 17, 9, 15, 13, 11, 13, 14, 8, 8, 9, 8, 10, 11, 11, 8, 7, 14, 7, 9, 11, 13, 15, 13, 14, 11, 8, 8, 13, 9, 11, 7, 9, 11, 6, 13, 9, 12, 13, 8, 12, 11, 13, 9, 14, 7, 9, 13, 11, 8, 10, 7, 10, 11, 10, 10, 13, 8, 15, 15, 16, 10, 9, 5, 12, 12, 12, 13, 9, 13, 12, 12, 13, 12, 9, 12, 10, 11, 9, 13, 13, 15, 15, 14, 14, 13, 15, 16, 9, 13, 11, 12, 15, 12, 14, 6, 9, 14, 9, 9, 11, 19, 8, 10, 15, 8, 9, 8, 10, 13, 15, 16, 6, 14, 10, 13, 14, 15, 9, 7, 12, 11, 11, 9, 7, 16, 14, 12, 14, 11, 9, 15, 12, 10, 8, 11, 15, 11, 12, 10, 7, 11, 19, 15, 21, 10, 10, 15, 17, 11, 13, 7, 21, 6, 16, 15, 13, 15, 9, 16, 16, 10, 11, 15, 13, 12, 9, 8, 16, 4, 6, 12, 9, 16, 17, 15, 17, 16, 12, 12, 12, 9, 17, 11, 10, 10, 18, 19, 14, 11, 11, 12, 16, 16, 17, 11, 16, 11, 10, 11, 13, 12, 9, 10, 13, 16, 14, 9, 10, 16, 9, 11, 12, 8, 11, 11, 13, 14, 7, 11, 12, 11, 12, 8, 11, 14, 15, 13, 13, 16, 11, 12, 18, 13, 13, 8, 14, 15, 11, 7, 15, 12, 13, 16, 14, 9, 6, 15, 13, 10, 15, 15, 20, 21, 15, 12, 13, 17, 7, 7, 14, 17, 9, 9, 11, 18, 10, 12, 11, 11, 12, 13, 6, 15, 9, 15, 16, 16, 16, 19, 18, 13, 14, 12, 10, 9, 10, 15, 15, 15, 19, 14, 13, 16, 16, 15, 14, 15, 14, 15, 14, 14, 11, 10, 18, 17, 16, 17, 16, 16, 15, 11, 15, 10, 13, 15, 9, 15, 11, 9, 15, 16, 13, 12, 5, 8, 13, 10, 9, 14, 12, 16, 11, 11, 5, 8, 10, 14, 8, 9, 13, 15, 10, 14, 9, 14, 18, 7, 10, 6, 14, 15, 13, 10, 14, 12, 10, 9, 13, 11, 15, 16, 9, 14, 13, 12, 10, 9, 12, 9, 13, 12, 8, 12, 10, 14, 9, 11, 7, 14, 10, 10, 13, 16, 15, 13, 6, 13, 12, 11, 5, 10, 9, 10, 10, 10, 11, 14, 9, 11, 8, 10, 10, 8, 6, 16, 15, 8, 8, 7, 7, 10, 11, 12, 13, 15, 13, 14, 9, 11, 10, 13, 10, 9, 10, 9, 12, 8, 13, 14, 10, 11, 15, 10, 13, 7, 11, 10, 11, 6, 10, 9, 17, 10, 11, 10, 9, 8, 15, 10, 8, 12, 11, 8, 10, 11, 11, 11, 15, 8, 15, 13, 13, 9, 8, 10, 10, 9, 11, 16, 14, 8, 11, 9, 10, 11, 10, 7, 10, 12, 9, 14, 15, 8, 7, 8, 8, 5, 11, 11, 11, 10, 12, 10, 11, 14, 9, 12, 14, 7, 12, 7, 11, 11, 7, 7, 14, 11, 8, 8, 5, 5, 11, 9, 8, 8, 9, 8, 10, 17, 15, 15, 10, 10, 8, 9, 11, 13, 11, 8, 6, 7, 10, 11, 11, 14, 11, 10, 9, 13, 11, 11, 12, 13, 8, 8, 9, 13, 7, 12, 5, 8, 9, 14, 13, 13, 8, 10, 5, 9, 9, 8, 4, 5, 12, 8, 9, 10, 10, 13, 11, 9, 7, 8, 13, 15, 5, 12, 10, 12, 16, 17, 9, 11, 16, 13, 13, 10, 9, 15, 9, 6, 7, 10, 10, 7, 9, 8, 9, 12, 7, 7, 10, 11, 9, 10, 7, 6, 9, 9, 6, 10, 11, 5, 7, 10, 13, 14, 10, 9, 9, 8, 10, 12, 11, 13, 10, 11, 8, 11, 7, 8, 10, 10, 10, 6, 9, 12, 12, 11, 14, 8, 9, 14, 10, 11, 13, 9, 13, 15, 11, 18, 12, 8, 10, 9, 9, 18, 16, 10, 7, 12, 10, 12, 5, 6, 8, 11, 8, 8, 10, 9, 11, 8, 21, 8, 7, 5, 8, 13, 11, 11, 5, 10, 8, 11, 8, 13, 4, 8, 14, 15, 8, 10, 13, 7, 7, 9, 9, 12, 13, 6, 9, 10, 14]}], {\"showlegend\": false, \"yaxis\": {\"tickfont\": {\"size\": 20}, \"title\": \"Number of Students\", \"titlefont\": {\"size\": 24}, \"dtick\": 40, \"showgrid\": false}, \"title\": \"Distribution of End Skill Level for Short and Long Term Students\", \"barmode\": \"overlay\", \"titlefont\": {\"size\": 24}, \"xaxis\": {\"tickfont\": {\"size\": 20}, \"titlefont\": {\"size\": 24}, \"title\": \"End Skill Level\"}}, {\"linkText\": \"Export to plot.ly\", \"showLink\": true})});</script>"
      ],
      "text/plain": [
       "<IPython.core.display.HTML object>"
      ]
     },
     "metadata": {},
     "output_type": "display_data"
    }
   ],
   "source": [
    "# Visualizing the differences in ending skill level for short and long-term students\n",
    "\n",
    "stsk = studentsn[studentsn['short_term']==1]['grade_level_end']\n",
    "ltsk = studentsn[studentsn['short_term']==0]['grade_level_end']\n",
    "\n",
    "trace1 = Histogram(x=stsk,opacity=0.75, name='Short-Term Enrollees', marker=dict(color='rgb(125, 70, 200)'))\n",
    "trace2 = Histogram(x=ltsk,opacity=0.75, name = 'Long Term Enrollees',  marker=dict(color='rgb(250, 130, 170)'))\n",
    "data = [trace1, trace2]\n",
    "\n",
    "layout = Layout(barmode='overlay',xaxis=dict(title = 'End Skill Level', tickfont=dict(size=20), titlefont=dict(size=24)),yaxis=dict(title='Number of Students', showgrid=False,tickfont=dict(size=20),dtick=40, titlefont=dict(size=24)),\n",
    "                title='Distribution of End Skill Level for Short and Long Term Students', titlefont=dict(size=24), showlegend=False)\n",
    "fig = Figure(data=data, layout=layout)\n",
    "iplot(fig)"
   ]
  },
  {
   "cell_type": "markdown",
   "metadata": {},
   "source": [
    "Short-term students typically churn around an average skill level of 7 and long-term students churn around an average skill level of 11"
   ]
  },
  {
   "cell_type": "code",
   "execution_count": 49,
   "metadata": {
    "collapsed": false
   },
   "outputs": [
    {
     "data": {
      "text/html": [
       "<div id=\"374dbf77-d39b-4cbf-a6ea-5855a3673ab2\" style=\"height: 525px; width: 100%;\" class=\"plotly-graph-div\"></div><script type=\"text/javascript\">require([\"plotly\"], function(Plotly) { window.PLOTLYENV=window.PLOTLYENV || {};window.PLOTLYENV.BASE_URL=\"https://plot.ly\";Plotly.newPlot(\"374dbf77-d39b-4cbf-a6ea-5855a3673ab2\", [{\"opacity\": 0.75, \"x\": [13, 8, 11, 7, 16, 13, 10, 11, 7, 8, 14, 11, 7, 9, 11, 10, 14, 7, 9, 8, 11, 12, 10, 10, 12, 8, 9, 9, 9, 10, 9, 11, 17, 8, 12, 8, 4, 11, 5, 10, 11, 10, 13, 10, 8, 11, 9, 12, 13, 5, 6, 12, 13, 14, 9, 5, 12, 9, 5, 11, 10, 9, 7, 8, 11, 9, 6, 5, 26, 4, 11, 8, 10, 8, 12, 11, 12, 7, 9, 6, 10, 9, 9, 4, 11, 7, 6, 9, 10, 10, 3, 10, 12, 10, 15, 9, 11, 7, 9, 8, 6, 10, 8, 11, 19, 6, 10, 6, 14, 7, 10, 11, 9, 8, 11, 9, 10, 7, 10, 12, 11, 11, 9, 11, 6, 9, 9, 7, 5, 8, 12, 6, 11, 5, 10, 13, 8, 6, 9, 5, 13, 5, 8, 9, 9, 10, 9, 7, 13, 7, 12, 9, 16, 4, 11, 9, 6, 4, 9, 12, 11, 11, 10, 12, 12, 6, 10, 11, 7, 9, 12, 10, 5, 9, 12, 9, 3, 6, 6, 5, 11, 12, 7, 7, 6, 6, 7, 8, 12, 6, 6, 5, 11, 7, 8, 11, 8, 5, 4, 6, 7, 4, 10, 7, 5, 8, 10, 10, 6, 8, 9, 3, 8, 10, 11, 13, 13, 7, 8, 8, 6, 8, 15, 12, 9, 9, 6, 6, 8, 9, 5, 10, 7, 5, 2, 7, 9, 10, 12, 12, 7, 4, 9, 9, 12, 4, 5, 5, 5, 7, 3, 8, 7, 9, 6, 9, 11, 9, 11, 6, 5, 9, 5, 12, 6, 13, 8, 7, 9, 15, 8, 7, 10, 6, 8, 9, 12, 12, 8, 6, 6, 4, 8, 9, 3, 9, 4, 7, 11, 11, 9, 13, 7, 10, 10, 12, 10, 8, 6, 9, 6, 7, 17, 13, 9, 7, 5, 7, 10, 12, 6, 8, 11, 12, 7, 5, 3, 6, 8, 8, 8, 14, 9, 5, 12, 7, 3, 11, 6, 11, 6, 9, 8, 5, 9, 11, 10, 9, 12, 6, 11, 13, 14, 14, 8, 11, 6, 17, 11, 8, 10, 4, 12, 10, 6, 14, 7, 9, 9, 12, 7, 13, 8, 8, 11, 13, 9, 14, 11, 10, 8, 6, 10, 15, 7, 13, 10, 4, 14, 11, 13, 10, 10, 9, 7, 4, 10, 6, 6, 13, 46, 14, 6, 9, 10, 6, 7, 14, 11, 6, 5, 11, 9, 8, 10, 10, 10, 10, 5, 6, 6, 10, 10, 10, 13, 9, 6, 12, 14, 4, 10, 9, 14, 5, 14, 10, 7, 7, 12, 5, 12, 7, 10, 7, 10, 6, 10, 9, 6, 8, 11, 8, 4, 4, 7, 13, 8, 5, 8, 6, 8, 6, 11, 8, 4, 11, 4, 9, 7, 8, 4, 11, 8, 5, 3, 5, 5, 4, 15, 7, 13, 9, 6, 8, 4, 7, 9, 5, 9, 5, 11, 12, 11, 11, 7, 6, 6, 9, 13, 8, 14, 8, 13, 8, 2, 2, 7, 9, 5, 9, 11, 10, 8, 3, 5, 8, 8, 6, 11, 9, 7, 7, 15, 11, 13, 10, 14, 11, 12, 5, 9, 11, 9, 10, 6, 10, 9, 3, 12, 10, 13, 9, 9, 8, 4, 11, 5, 7, 10, 8, 12, 12, 11, 10, 11, 6, 9, 5, 8, 11, 10, 12, 7, 10, 8, 10, 5, 6, 8, 9, 4, 7, 11, 7, 5, 10, 13, 12, 9, 11, 11, 8, 12, 6, 11, 11, 10, 11, 7, 11, 12, 12, 7, 9, 7, 9, 8, 11, 8, 12, 7, 12, 9, 9, 7, 6, 15, 8, 5, 10, 12, 4, 11, 7, 11, 9, 8, 5, 8, 6, 10, 6, 8, 4, 6, 11, 4, 11, 15, 4, 7, 7, 7, 8, 9, 6, 11, 11, 13, 7, 7, 6, 15, 9, 9, 10, 14, 10, 8, 7, 8, 7, 12, 6, 9, 10, 12, 10, 9, 7, 12, 8, 8, 11, 10, 11, 10, 11, 9, 12, 10, 8, 10, 12, 5, 3, 6, 10, 8, 14, 7, 12, 8, 10, 9, 7, 7, 8, 8, 16, 6, 6, 3, 8, 9, 7, 10, 11, 8, 13, 11, 13, 12, 4, 7, 7, 10, 10, 10, 12, 8, 13, 11, 7, 3, 11, 15, 12, 7, 7, 15, 7, 13, 12, 13, 5, 8, 4, 12, 5, 6, 4, 9, 7, 11, 5, 13, 10, 6, 10, 8, 12, 12, 10, 12, 5, 7, 5, 11, 17, 13, 10, 11, 11, 12, 9, 10, 7, 13, 7, 5, 12, 9, 10, 9, 8, 6, 14, 7, 8, 6, 10, 5, 9, 9, 11, 4, 10, 10, 8, 11, 10, 11, 15, 13, 4, 9, 11, 13, 9, 11, 12, 9, 10, 11, 7, 10, 7, 12, 5, 13, 6, 10, 8, 15, 8, 12, 8, 7, 9, 7, 9, 13, 9, 12, 11, 8, 11, 15, 13, 15, 10, 5, 7, 5, 11, 5, 11, 42, 42, 9, 9, 13, 17, 5, 6, 10, 10, 12, 11, 6, 8, 6, 13, 12, 14, 12, 10, 7, 9, 16, 15, 6, 11, 8, 6, 9, 3, 7, 10, 14, 10, 7, 16, 17, 11, 7, 8, 13, 10, 13, 6, 7, 7, 7, 10, 8, 10, 12, 5, 9, 16, 7, 46, 7, 8, 12, 7, 12, 13, 6, 14, 13, 7, 14, 13, 9, 14, 7, 9, 11, 8, 12, 5, 12, 7, 14, 6, 7, 8, 5, 6, 7, 9, 9, 12, 10, 6, 10, 13, 14, 9, 11, 13, 7, 8, 3, 6, 9, 10, 7, 14, 12, 5, 9, 7, 10, 8, 10, 9, 7, 9, 6, 8, 9, 5, 7, 15, 3, 6, 7, 6, 10, 5, 11, 8, 13, 11, 11, 12, 11, 11, 7, 8, 11, 14, 8, 7, 4, 13, 13, 14, 14, 13, 6, 10, 5, 11, 6, 4, 14, 7, 10, 11, 7, 10, 10, 10, 7, 6, 11, 3, 10, 7, 13, 9, 5, 9, 9, 15, 6, 9, 8, 8, 8, 11, 8, 8, 12, 14, 16, 10, 6, 13, 9, 12, 7, 10, 11, 8, 9, 10, 11, 11, 12, 11, 14, 6, 10, 12, 8, 9, 8, 10, 12, 9, 11, 10, 7, 6, 18, 8, 8, 9, 6, 10, 11, 5, 17, 8, 5, 14, 12, 11, 10, 8, 11, 5, 13, 6, 10, 10, 5, 7, 8, 11, 11, 7, 8, 7, 12, 12, 3, 4, 10, 6, 10, 5, 9, 12, 13, 8, 8, 9, 11, 14, 16, 7, 7, 5, 7, 9, 7, 6, 10, 7, 11, 7, 11, 8, 12, 10, 8, 6, 4, 7, 5, 5, 10, 5, 9, 9, 12, 10, 9, 10, 3, 9, 8, 7, 10, 16, 6, 12, 6, 11, 9, 9, 12, 9, 12, 5, 6, 10, 9], \"type\": \"histogram\", \"name\": \"Short Term Enrollees\"}, {\"opacity\": 0.75, \"x\": [9, 9, 5, 5, 14, 11, 9, 8, 7, 7, 10, 7, 7, 9, 12, 11, 7, 13, 11, 10, 9, 5, 9, 13, 10, 8, 7, 7, 12, 6, 8, 10, 9, 6, 10, 11, 9, 6, 6, 9, 7, 12, 9, 7, 6, 4, 4, 6, 9, 6, 7, 11, 8, 9, 5, 6, 8, 10, 3, 5, 9, 4, 7, 8, 10, 10, 10, 8, 12, 7, 12, 12, 11, 11, 6, 8, 8, 5, 9, 10, 11, 10, 9, 9, 7, 6, 11, 7, 3, 8, 6, 8, 10, 11, 10, 11, 8, 5, 9, 4, 8, 6, 8, 4, 11, 9, 11, 12, 9, 10, 4, 4, 3, 10, 4, 6, 7, 4, 8, 8, 6, 7, 12, 13, 7, 10, 9, 4, 4, 14, 10, 5, 7, 8, 9, 12, 7, 11, 9, 9, 10, 5, 11, 5, 8, 5, 7, 7, 4, 8, 9, 11, 6, 3, 10, 8, 6, 9, 6, 7, 8, 5, 13, 12, 5, 6, 7, 6, 8, 8, 11, 7, 5, 9, 12, 3, 11, 13, 6, 8, 9, 4, 8, 10, 11, 8, 7, 5, 10, 8, 5, 7, 8, 10, 7, 8, 5, 6, 8, 6, 8, 7, 6, 7, 7, 6, 9, 11, 5, 4, 8, 10, 10, 7, 9, 10, 4, 12, 6, 4, 8, 7, 8, 4, 10, 6, 7, 11, 7, 9, 7, 7, 6, 11, 11, 11, 6, 10, 6, 8, 12, 8, 6, 9, 8, 8, 5, 13, 4, 14, 14, 12, 16, 10, 3, 4, 8, 7, 11, 14, 10, 4, 11, 9, 8, 9, 12, 3, 8, 5, 6, 11, 8, 10, 12, 9, 10, 12, 15, 4, 11, 9, 8, 8, 9, 6, 7, 7, 8, 13, 12, 5, 8, 7, 12, 7, 12, 6, 10, 5, 5, 7, 13, 8, 6, 6, 9, 5, 10, 7, 8, 12, 7, 10, 6, 9, 12, 6, 8, 5, 12, 5, 10, 3, 9, 8, 8, 5, 9, 12, 3, 7, 14, 3, 4, 6, 10, 10, 7, 5, 7, 4, 3, 11, 8, 10, 5, 7, 8, 9, 10, 7, 11, 6, 5, 10, 7, 10, 10, 10, 8, 6, 5, 8, 7, 8, 5, 5, 9, 9, 6, 6, 8, 9, 4, 8, 5, 7, 12, 6, 10, 8, 7, 7, 9, 6, 8, 3, 8, 6, 10, 13, 11, 5, 6, 6, 7, 5, 4, 5, 16, 7, 9, 12, 7, 8, 10, 6, 7, 9, 8, 9, 9, 10, 7, 5, 11, 6, 7, 9, 7, 9, 8, 11, 9, 5, 7, 12, 6, 9, 4, 8, 7, 5, 9, 7, 8, 9, 7, 6, 5, 10, 8, 10, 5, 7, 9, 10, 7, 8, 5, 8, 9, 8, 8, 10, 4, 11, 11, 13, 8, 7, 4, 10, 7, 10, 7, 8, 12, 9, 9, 8, 11, 6, 9, 9, 10, 8, 9, 9, 14, 8, 7, 12, 10, 9, 12, 6, 11, 8, 6, 14, 10, 12, 3, 6, 7, 6, 6, 5, 10, 5, 4, 9, 7, 5, 6, 9, 7, 12, 8, 3, 11, 8, 8, 9, 15, 7, 7, 8, 11, 15, 6, 5, 6, 9, 11, 7, 10, 8, 8, 10, 7, 6, 12, 10, 4, 8, 6, 6, 9, 9, 10, 7, 8, 9, 5, 13, 5, 9, 3, 9, 4, 10, 8, 11, 8, 5, 11, 13, 5, 9, 9, 10, 7, 6, 5, 12, 3, 5, 7, 8, 13, 11, 10, 12, 8, 8, 10, 13, 13, 12, 8, 5, 8, 12, 14, 11, 10, 10, 5, 6, 7, 10, 4, 15, 10, 7, 6, 8, 10, 4, 7, 3, 6, 8, 7, 10, 7, 6, 14, 11, 5, 5, 7, 12, 7, 6, 8, 7, 5, 8, 4, 10, 8, 10, 8, 8, 11, 8, 8, 9, 5, 9, 7, 8, 11, 9, 5, 10, 10, 12, 7, 8, 6, 4, 13, 6, 6, 11, 8, 10, 8, 9, 4, 13, 9, 4, 4, 12, 11, 4, 5, 7, 11, 9, 12, 12, 9, 9, 8, 5, 11, 7, 11, 9, 8, 6, 12, 12, 12, 6, 4, 9, 7, 8, 8, 5, 6, 9, 14, 8, 5, 11, 6, 13, 7, 7, 8, 8, 9, 8, 8, 10, 14, 5, 12, 10, 7, 7, 8, 11, 13, 10, 9, 6, 11, 8, 9, 9, 10, 7, 11, 4, 9, 8, 7, 6, 7, 8, 12, 15, 10, 5, 6, 10, 11, 5, 6, 12, 10, 7, 6, 8, 8, 9, 7, 7, 4, 13, 11, 11, 11, 5, 5, 7, 6, 10, 8, 6, 8, 5, 8, 11, 6, 10, 7, 9, 8, 9, 9, 4, 8, 8, 9, 7, 7, 7, 10, 9, 9, 5, 15, 10, 6, 4, 5, 5, 5, 6, 9, 7, 9, 12, 7, 8, 10, 6, 12, 7, 8, 8, 7, 5, 10, 6, 6, 7, 4, 5, 12, 10, 11, 12, 9, 12, 12, 7, 10, 8, 12, 6, 6, 9, 8, 7, 7, 10, 10, 5, 10, 9, 10, 8, 7, 12, 10, 9, 6, 13, 8, 11, 6, 11, 12, 10, 8, 11, 10, 6, 10, 4, 7, 12, 9, 10, 8, 11, 10, 6, 5, 10, 9, 6, 11, 8, 9, 9, 14, 11, 7, 7, 8, 10, 13, 8, 7, 5, 7, 6, 8, 11, 6, 4, 7, 10, 5, 13, 8, 11, 6, 10, 8, 9, 7, 6, 13, 6, 6, 7, 4, 10, 5, 5, 6, 6, 11, 8, 6, 4, 5, 11, 6, 6, 9, 6, 5, 9, 13, 10, 11, 9, 7, 5, 5, 13, 11, 6, 7, 4, 7, 9, 9, 9, 14, 5, 8, 7, 15, 14, 12, 11, 7, 7, 6, 7, 7, 8, 9, 6, 7, 10, 10, 6, 10, 6, 5, 3, 11, 9, 8, 3, 5, 9, 7, 10, 9, 11, 7, 10, 7, 6, 5, 8, 46, 4, 9, 11, 12, 10, 11, 6, 10, 12, 9, 7, 5, 9, 14, 7, 4, 6, 8, 7, 5, 8, 5, 8, 11, 4, 6, 6, 7, 8, 9, 6, 5, 9, 6, 5, 9, 11, 5, 3, 4, 9, 12, 10, 9, 15, 6, 12, 9, 16, 11, 8, 12, 9, 14, 6, 4, 7, 10, 8, 5, 10, 9, 11, 15, 8, 5, 8, 11, 10, 11, 10, 7, 11, 14, 15, 16, 10, 8, 8, 8, 9, 15, 12, 9, 5, 15, 8, 8, 4, 3, 9, 9, 7, 8, 8, 8, 12, 8, 15, 7, 5, 3, 7, 10, 7, 10, 3, 11, 7, 14, 7, 14, 3, 6, 12, 12, 8, 10, 12, 5, 5, 8, 8, 12, 10, 4, 7, 8, 12], \"type\": \"histogram\", \"name\": \"Long Term Enrollees\"}], {\"barmode\": \"overlay\", \"yaxis\": {\"title\": \"Number of students\"}, \"xaxis\": {\"title\": \"Age of Student (years)\"}, \"title\": \"Comparing Age of Long and Short Term Enrollees\"}, {\"linkText\": \"Export to plot.ly\", \"showLink\": true})});</script>"
      ],
      "text/plain": [
       "<IPython.core.display.HTML object>"
      ]
     },
     "metadata": {},
     "output_type": "display_data"
    }
   ],
   "source": [
    "stsk = studentsn[studentsn['short_term']==1]['age_enroll']\n",
    "ltsk = studentsn[studentsn['short_term']==0]['age_enroll']\n",
    "\n",
    "trace1 = Histogram(x=stsk,opacity=0.75, name='Short Term Enrollees')\n",
    "trace2 = Histogram(x=ltsk,opacity=0.75, name = 'Long Term Enrollees')\n",
    "data = [trace1, trace2]\n",
    "layout = Layout(barmode='overlay',xaxis=dict(title = 'Age of Student (years)'),yaxis=dict(title='Number of students'),\n",
    "                title='Comparing Age of Long and Short Term Enrollees')\n",
    "fig = Figure(data=data, layout=layout)\n",
    "iplot(fig)"
   ]
  },
  {
   "cell_type": "markdown",
   "metadata": {},
   "source": [
    "Short and long-term students differ only a little in age (averages computed in statistical tests above)"
   ]
  },
  {
   "cell_type": "code",
   "execution_count": 50,
   "metadata": {
    "collapsed": false
   },
   "outputs": [
    {
     "data": {
      "text/html": [
       "<div id=\"58c8098c-aefd-4ef0-a41a-f41111ec5c90\" style=\"height: 525px; width: 100%;\" class=\"plotly-graph-div\"></div><script type=\"text/javascript\">require([\"plotly\"], function(Plotly) { window.PLOTLYENV=window.PLOTLYENV || {};window.PLOTLYENV.BASE_URL=\"https://plot.ly\";Plotly.newPlot(\"58c8098c-aefd-4ef0-a41a-f41111ec5c90\", [{\"y\": [90, 85, 83, 23, 98, 82, 77, 207, 148, 148, 149, 229, 140, 147, 41, 47, 57, 205, 225, 59, 54, 161, 187, 76, 113, 142, 167, 86, 31, 51, 27, 74, 38, 17, 212, 40, 53, 41, 119, 107, 85, 109, 98, 23, 41, 229, 68, 133, 97, 101, 12, 210, 12, 13, 193, 53, 84, 13, 77, 36, 196, 77, 77, 77, 52, 52, 154, 50, 115, 146, 59, 18, 160, 175, 117, 111, 118, 82, 77, 224, 221, 103, 80, 108, 137, 173, 105, 87, 87, 104, 66, 87, 48, 77, 161, 175, 40, 224, 180, 180, 196, 157, 196, 180, 91, 210, 209, 162, 3, 175, 114, 40, 155, 159, 150, 34, 37, 114, 126, 126, 116, 25, 62, 106, 78, 122, 74, 74, 47, 93, 191, 69, 191, 131, 32, 14, 173, 28, 208, 210, 41, 54, 210, 196, 124, 40, 156, 196, 18, 13, 30, 77, 21, 84, 88, 112, 224, 110, 203, 122, 146, 201, 155, 67, 197, 229, 105, 14, 13, 136, 57, 85, 99, 59, 137, 113, 182, 141, 34, 173, 134, 53, 196, 152, 31, 197, 212, 210, 105, 68, 140, 139, 42, 160, 112, 61, 176, 157, 208, 143, 171, 150, 14, 14, 211, 211, 211, 57, 196, 196, 42, 116, 133, 44, 89, 89, 65, 37, 16, 97, 104, 224, 173, 73, 114, 80, 209, 102, 227, 45, 14, 230, 219, 36, 123, 31, 189, 191, 91, 53, 19, 19, 23, 6, 157, 26, 176, 92, 77, 61, 62, 122, 222, 146, 149, 121, 150, 143, 141, 181, 36, 92, 153, 32, 168, 193, 174, 19, 12, 24, 19, 206, 89, 64, 72, 30, 197, 77, 101, 25, 73, 37, 171, 159, 6, 87, 31, 59, 153, 63, 51, 103, 196, 73, 83, 60, 56, 23, 73, 71, 53, 54, 86, 117, 46, 228, 228, 38, 38, 176, 39, 42, 106, 86, 122, 201, 80, 168, 141, 177, 77, 179, 181, 81, 74, 41, 102, 102, 55, 212, 212, 69, 212, 222, 25, 220, 111, 172, 172, 52, 114, 134, 220, 77, 140, 76, 42, 58, 107, 111, 5, 173, 23, 23, 42, 114, 35, 40, 42, 76, 69, 117, 53, 84, 39, 83, 34, 179, 126, 14, 25, 154, 46, 88, 214, 163, 188, 137, 103, 23, 188, 39, 220, 22, 19, 138, 128, 97, 83, 47, 43, 9, 84, 139, 190, 63, 55, 230, 69, 21, 178, 96, 92, 104, 79, 87, 104, 133, 105, 48, 124, 164, 1, 76, 132, 168, 90, 105, 28, 185, 27, 48, 137, 153, 216, 211, 104, 49, 72, 177, 66, 48, 45, 55, 188, 174, 135, 19, 87, 142, 110, 111, 184, 110, 81, 134, 122, 107, 23, 212, 9, 7, 172, 172, 13, 50, 27, 29, 83, 128, 38, 46, 57, 216, 140, 50, 50, 167, 43, 178, 56, 195, 157, 28, 144, 129, 175, 169, 93, 84, 112, 157, 97, 112, 169, 211, 132, 24, 98, 69, 7, 16, 197, 57, 45, 45, 177, 49, 58, 106, 106, 96, 169, 75, 45, 45, 107, 30, 52, 205, 77, 166, 130, 94, 69, 52, 87, 30, 86, 87, 83, 82, 78, 45, 111, 119, 224, 157, 27, 63, 198, 148, 87, 126, 119, 223, 170, 90, 176, 134, 226, 221, 16, 85, 86, 53, 23, 28, 28, 35, 37, 35, 17, 149, 25, 24, 25, 119, 57, 115, 212, 101, 137, 133, 70, 137, 178, 140, 116, 84, 193, 187, 184, 176, 99, 56, 15, 101, 69, 122, 124, 98, 177, 35, 23, 184, 163, 11, 110, 175, 136, 12, 77, 70, 42, 43, 116, 170, 76, 191, 7, 98, 156, 148, 143, 39, 207, 93, 46, 52, 41, 218, 78, 200, 30, 30, 48, 91, 9, 48, 92, 11, 108, 58, 121, 55, 82, 208, 228, 49, 154, 141, 160, 85, 78, 79, 64, 69, 43, 171, 175, 15, 44, 80, 30, 189, 230, 30, 30, 215, 130, 149, 142, 29, -102, 224, 199, 31, 189, 56, 134, 41, 169, 66, 156, 83, 176, 39, 81, 36, 189, 20, 211, 50, 220, 211, 211, 116, 86, 19, 135, 55, 100, 226, 40, 37, 141, 159, 132, 228, 39, 77, 2, 197, 34, 77, 176, 173, 78, 66, 99, 218, 16, 39, 114, 62, 133, 174, 91, 104, 66, 202, 80, 138, 100, 162, 174, 19, 148, 131, 197, 148, 118, 120, 28, 28, 148, 219, 138, 89, 55, 85, 83, 139, 65, 206, 6, 84, 132, 41, 227, 23, 20, 30, 118, 123, 38, 149, 132, 149, 77, 88, 118, 103, 88, 191, 198, 34, 122, 23, 107, 193, 192, 198, 62, 91, 83, 51, 37, 44, 142, 114, 202, 113, 227, 51, 99, 46, 215, 198, 117, 19, 20, 86, 230, 164, 65, 28, 128, 71, 147, 223, 114, 111, 114, 48, 105, 5, 201, 44, 134, 153, 19, 215, 156, 212, 147, 166, 73, 71, 96, 84, 77, 125, 104, 177, 183, 140, 39, 49, 119, 198, 169, 14, 187, 77, 63, 48, 168, 168, 139, 139, 15, 111, 167, 138, 34, 177, 190, 135, 14, 29, 29, 213, 152, 41, 101, 60, 14, 164, 160, 197, 211, 64, 98, 79, 210, 192, 79, 21, 14, 214, 230, 194, 175, 108, 195, 195, 83, 170, 58, 112, 142, 90, 47, 189, 170, 28, 180, 133, 143, 37, 58, 51, 105, 177, 126, 34, 77, 55, 74, 140, 132, 137, 137, 13, 171, 63, 179, 97, 173, 228, 161, 180, 189, 62, 81, 73, 198, 106, 179, 161, 200, 163, 183, 151, 28, 151, 99, 184, 184, 217, 57, 79, 26, 35, 212, 112, 112, 175, 122, 118, 192, 189, 14, 168, 77, 124, 90, 148, 58, 217, 211, 85, 148, 24, 50, 51, 28, 75, 25, 67, 149, 182, 168, 123, 118, 67, 63, 101, 101, 8, 107, 51, 143, 163, 75, 124, 58, 104, 87, 106, 152, 121, 76, 228, 59, 12, 76, 128, 64, 89, 25, 15, 59, 15, 166, 179, 211, 209, 23, 30, 39, 77, 57, 48, 48, 26, 60, 26, 60, 32, 20, 206, 14, 93, 136, 37, 75, 149, 213, 88, 142, 75, 57, 209, 107, 75, 105, 100, 100, 42, 76, 214, 85, 47, 149, 46, 16, 133, 112, 175, 177, 30, 100, 53, 138, 145, 19, 108, 89, 53, 11, 224, 88, 220, 76, 99, 91, 124, 48, 46, 98, 45, 98, 29, 14, 14, 14, 21, 20, 46, 133, 159, 73, 43, 108, 20, 20, 18, 152, 49, 173, 90, 211, 67, 39, 137, 116, 58, 27, 18, 56, 56, 119, 56, 41, 31, 60, 123, 123, 25, 110, 58, 176, 70, 67, 63, 78, 90, 90, 70, 33, 71, 166, 91, 44, 34, 151, 35, 61, 37, 18, 172, 121, 37, 21, 165, 161, 21, 119, 14, 212, 21, 3], \"x\": [12, 7, 7, 6, 9, 14, 11, 14, 7, 7, 17, 14, 7, 8, 11, 8, 10, 7, 9, 9, 11, 9, 11, 10, 8, 8, 9, 6, 7, 9, 9, 8, 12, 6, 9, 6, 3, 8, 5, 10, 11, 6, 7, 10, 8, 16, 9, 9, 10, 5, 4, 11, 11, 11, 7, 3, 10, 5, 5, 8, 9, 8, 7, 7, 10, 10, 6, 5, 13, 5, 9, 9, 8, 7, 12, 11, 10, 6, 7, 7, 10, 8, 7, 3, 11, 9, 5, 9, 8, 9, 2, 8, 10, 9, 11, 10, 8, 7, 9, 7, 7, 9, 7, 10, 9, 7, 10, 6, 16, 7, 11, 8, 7, 10, 14, 6, 8, 7, 8, 10, 10, 11, 9, 13, 5, 10, 10, 10, 7, 8, 10, 6, 11, 5, 10, 7, 9, 5, 7, 7, 9, 5, 10, 9, 8, 7, 7, 8, 9, 6, 7, 9, 9, 5, 8, 8, 4, 3, 10, 10, 8, 13, 9, 9, 13, 6, 9, 6, 5, 9, 13, 7, 5, 7, 7, 10, 4, 8, 5, 3, 15, 16, 6, 9, 5, 6, 7, 8, 9, 5, 6, 5, 6, 10, 10, 9, 9, 5, 6, 8, 8, 3, 7, 5, 7, 8, 9, 8, 7, 9, 7, 5, 8, 8, 8, 10, 7, 6, 8, 7, 6, 8, 16, 9, 7, 7, 7, 6, 8, 9, 4, 9, 9, 5, 3, 9, 11, 10, 13, 15, 6, 2, 8, 5, 14, 3, 6, 4, 5, 6, 3, 8, 6, 9, 7, 9, 11, 8, 10, 8, 5, 6, 4, 9, 7, 12, 9, 4, 8, 8, 7, 10, 12, 6, 7, 8, 10, 8, 8, 5, 6, 4, 10, 11, 3, 8, 3, 5, 10, 10, 9, 15, 7, 10, 11, 10, 10, 9, 8, 9, 6, 8, 13, 15, 8, 8, 6, 8, 11, 14, 4, 6, 13, 11, 8, 6, 3, 7, 9, 9, 8, 16, 10, 2, 8, 8, 6, 12, 7, 13, 8, 10, 10, 8, 10, 13, 14, 11, 14, 5, 11, 13, 11, 13, 7, 9, 6, 11, 11, 9, 9, 5, 13, 12, 6, 12, 7, 8, 9, 10, 7, 14, 8, 7, 8, 11, 8, 10, 11, 8, 6, 7, 9, 11, 7, 12, 10, 5, 10, 10, 11, 9, 11, 6, 4, 5, 10, 5, 7, 12, 10, 9, 5, 9, 10, 6, 6, 11, 10, 5, 6, 9, 8, 7, 11, 9, 7, 12, 7, 3, 7, 10, 8, 7, 9, 8, 6, 10, 7, 6, 7, 6, 11, 8, 11, 9, 6, 6, 10, 7, 8, 6, 9, 7, 13, 8, 12, 10, 7, 6, 10, 10, 6, 7, 8, 21, 11, 7, 9, 4, 5, 5, 12, 9, 5, 12, 5, 8, 10, 12, 3, 10, 11, 7, 4, 7, 7, 5, 8, 9, 7, 12, 9, 8, 3, 7, 7, 5, 12, 5, 11, 11, 10, 12, 7, 6, 6, 8, 9, 7, 15, 4, 10, 9, 3, 3, 5, 6, 5, 13, 14, 8, 8, 3, 3, 7, 7, 6, 8, 10, 9, 10, 9, 10, 10, 8, 15, 14, 11, 7, 7, 8, 7, 10, 7, 11, 11, 4, 8, 8, 12, 9, 8, 9, 4, 9, 3, 6, 9, 10, 14, 14, 9, 10, 5, 6, 6, 6, 11, 9, 8, 8, 5, 10, 6, 6, 2, 6, 6, 10, 4, 9, 12, 6, 6, 10, 13, 9, 8, 9, 12, 10, 13, 8, 11, 11, 9, 11, 9, 12, 11, 11, 9, 7, 6, 10, 7, 6, 8, 12, 7, 8, 9, 9, 5, 5, 13, 9, 7, 10, 10, 6, 17, 7, 12, 8, 10, 6, 8, 8, 10, 6, 7, 7, 6, 9, 2, 10, 10, 2, 6, 7, 7, 7, 9, 6, 11, 12, 15, 5, 9, 9, 15, 10, 10, 11, 15, 13, 9, 9, 8, 6, 13, 5, 9, 14, 12, 11, 9, 8, 15, 9, 9, 9, 11, 12, 10, 8, 11, 12, 10, 7, 12, 11, 7, 3, 7, 8, 8, 12, 8, 13, 10, 10, 10, 9, 9, 7, 9, 11, 6, 6, 3, 9, 8, 9, 11, 10, 7, 14, 10, 11, 5, 5, 6, 4, 10, 11, 11, 10, 8, 12, 10, 7, 2, 8, 11, 10, 6, 6, 10, 8, 10, 10, 9, 7, 8, 1, 12, 5, 7, 4, 7, 8, 9, 3, 13, 11, 7, 9, 8, 10, 6, 10, 12, 7, 5, 4, 9, 20, 14, 15, 14, 8, 9, 8, 7, 9, 15, 9, 6, 12, 9, 9, 10, 8, 7, 14, 9, 8, 8, 8, 6, 9, 8, 9, 2, 6, 8, 7, 9, 9, 10, 11, 11, 2, 9, 8, 10, 9, 10, 8, 8, 9, 13, 8, 10, 6, 9, 2, 10, 7, 7, 7, 9, 2, 7, 7, 6, 7, 7, 8, 9, 9, 13, 9, 9, 10, 9, 9, 11, 6, 5, 7, 5, 15, 5, 14, 8, 11, 8, 8, 11, 6, 5, 6, 8, 9, 12, 10, 7, 7, 4, 9, 8, 8, 7, 9, 8, 9, 7, 16, 5, 13, 8, 5, 7, 2, 6, 10, 11, 11, 7, 11, 10, 7, 8, 7, 9, 7, 6, 7, 8, 8, 7, 8, 7, 8, 10, 6, 6, 8, 8, 6, 7, 9, 10, 6, 8, 9, 6, 9, 11, 5, 9, 11, 7, 14, 7, 7, 6, 8, 9, 5, 9, 6, 11, 3, 7, 8, 7, 5, 8, 9, 11, 10, 9, 2, 8, 10, 10, 7, 10, 10, 8, 7, 1, 5, 9, 13, 7, 11, 8, 3, 7, 4, 8, 7, 9, 9, 5, 7, 8, 9, 6, 5, 6, 10, 3, 8, 7, 6, 11, 8, 11, 6, 11, 10, 5, 11, 9, 7, 7, 8, 10, 13, 7, 6, 5, 10, 10, 9, 8, 7, 7, 9, 4, 11, 4, 4, 14, 7, 11, 11, 7, 8, 11, 11, 7, 7, 11, 3, 10, 5, 10, 6, 8, 6, 7, 12, 7, 7, 5, 7, 7, 8, 6, 8, 8, 12, 10, 7, 5, 18, 5, 14, 7, 10, 9, 8, 6, 11, 10, 7, 10, 10, 12, 5, 8, 9, 8, 7, 7, 12, 10, 7, 14, 7, 7, 7, 14, 8, 8, 6, 6, 8, 9, 6, 10, 6, 5, 8, 9, 9, 10, 10, 8, 5, 8, 6, 8, 9, 4, 6, 11, 9, 13, 6, 10, 5, 8, 13, 5, 5, 8, 6, 13, 3, 7, 9, 10, 6, 8, 7, 13, 14, 14, 8, 7, 6, 9, 6, 8, 7, 9, 8, 7, 6, 8, 8, 10, 9, 8, 7, 5, 7, 5, 5, 8, 5, 10, 9, 9, 10, 7, 7, 3, 7, 8, 6, 9, 10, 5, 14, 6, 9, 10, 10, 12, 10, 11, 3, 7, 13, 7], \"type\": \"scatter\", \"name\": \"short-term\", \"mode\": \"markers\"}, {\"y\": [234, 327, 878, 557, 241, 469, 445, 598, 232, 522, 426, 263, 264, 272, 271, 351, 609, 240, 464, 424, 453, 263, 416, 348, 552, 1343, 663, 663, 431, 576, 480, 1085, 451, 363, 1285, 267, 615, 343, 236, 425, 457, 440, 616, 616, 398, 279, 399, 249, 305, 337, 305, 378, 448, 537, 433, 1050, 505, 389, 588, 678, 286, 772, 537, 826, 951, 537, 318, 762, 545, 334, 551, 425, 660, 270, 261, 1165, 236, 233, 1363, 1362, 1071, 496, 732, 338, 259, 1188, 395, 678, 679, 961, 426, 340, 232, 231, 324, 827, 574, 623, 392, 392, 1185, 1763, 504, 440, 254, 257, 274, 490, 478, 292, 231, 505, 307, 699, 596, 911, 806, 984, 357, 1088, 805, 574, 714, 441, 538, 261, 1506, 244, 288, 293, 270, 235, 1442, 475, 453, 537, 785, 312, 326, 270, 1267, 401, 651, 786, 821, 357, 312, 697, 697, 709, 260, 881, 504, 842, 455, 290, 546, 637, 546, 558, 1134, 336, 823, 585, 322, 241, 735, 732, 289, 294, 294, 905, 905, 1296, 675, 389, 659, 657, 1049, 1059, 373, 906, 288, 287, 806, 299, 257, 257, 635, 658, 307, 602, 307, 285, 489, 244, 246, 255, 273, 289, 245, 252, 245, 260, 262, 247, 254, 260, 253, 266, 269, 272, 249, 252, 247, 269, 249, 245, 247, 266, 253, 245, 255, 257, 260, 245, 249, 377, 353, 301, 473, 285, 270, 289, 324, 324, 474, 368, 454, 454, 502, 513, 236, 578, 288, 241, 240, 257, 452, 285, 252, 305, 305, 400, 248, 748, 329, 748, 474, 360, 836, 315, 333, 351, 492, 307, 305, 398, 426, 398, 266, 489, 665, 426, 304, 279, 350, 368, 404, 790, 417, 563, 342, 309, 829, 333, 406, 425, 882, 563, 456, 1144, 426, 265, 753, 412, 1033, 629, 570, 265, 267, 267, 242, 297, 261, 293, 292, 238, 273, 240, 316, 358, 273, 730, 371, 625, 261, 328, 406, 381, 301, 406, 500, 485, 485, 281, 328, 350, 283, 339, 318, 515, 275, 357, 616, 535, 266, 263, 539, 539, 305, 413, 613, 698, 699, 473, 913, 1428, 444, 1252, 842, 724, 258, 441, 1372, 385, 1290, 606, 259, 452, 782, 251, 290, 798, 606, 1379, 1670, 598, 346, 231, 462, 612, 1169, 231, 637, 526, 789, 1207, 372, 1025, 271, 1114, 362, 263, 369, 294, 1113, 390, 240, 507, 448, 946, 452, 239, 383, 921, 711, 1347, 906, 343, 247, 270, 796, 249, 798, 796, 804, 585, 254, 568, 363, 269, 523, 316, 313, 553, 476, 561, 314, 309, 1338, 1048, 678, 548, 403, 875, 232, 410, 708, 251, 1086, 264, 980, 321, 528, 543, 848, 823, 233, 902, 827, 337, 357, 458, 493, 232, 951, 255, 231, 373, 377, 364, 364, 364, 287, 589, 1093, 781, 545, 235, 542, 546, 303, 394, 1147, 421, 1274, 382, 999, 364, 343, 988, 447, 413, 356, 259, 312, 712, 959, 1120, 307, 1385, 1385, 260, 650, 732, 663, 261, 362, 457, 1006, 239, 267, 882, 692, 566, 1692, 573, 574, 1455, 1497, 725, 1483, 1677, 303, 743, 419, 535, 1301, 1553, 2338, 544, 699, 484, 1269, 745, 521, 530, 240, 1539, 345, 398, 965, 1212, 2860, 2024, 808, 1985, 699, 848, 1393, 234, 479, 338, 272, 1217, 1122, 390, 390, 457, 624, 2263, 1717, 2623, 444, 689, 2207, 1035, 982, 597, 440, 2695, 503, 1186, 1441, 580, 1374, 720, 1542, 646, 1563, 911, 1449, 1113, 1110, 946, 1028, 479, 348, 359, 1199, 617, 897, 1013, 392, 1213, 1215, 631, 350, 381, 373, 884, 907, 1007, 265, 631, 628, 631, 573, 580, 996, 1896, 2081, 1206, 1973, 393, 410, 663, 879, 1078, 807, 909, 601, 2624, 2501, 1536, 335, 429, 1325, 775, 363, 366, 482, 752, 752, 328, 1322, 356, 359, 1333, 1344, 988, 969, 608, 1692, 1143, 1193, 1323, 545, 311, 496, 1525, 2313, 561, 417, 1190, 601, 601, 377, 734, 288, 469, 1819, 741, 378, 500, 388, 1427, 755, 576, 1760, 2077, 2180, 1710, 1476, 456, 2076, 865, 429, 521, 949, 1657, 834, 834, 402, 315, 671, 345, 657, 734, 650, 651, 508, 450, 497, 1200, 1873, 2635, 638, 846, 366, 1162, 2522, 254, 477, 432, 2006, 2629, 2222, 1725, 314, 1611, 2071, 838, 2067, 402, 2112, 1356, 1766, 1133, 1818, 552, 265, 1321, 370, 2469, 1727, 1307, 2627, 1487, 593, 905, 545, 712, 1094, 541, 593, 791, 358, 1833, 1730, 913, 590, 317, 258, 980, 244, 274, 1983, 1357, 1475, 431, 463, 332, 331, 486, 748, 575, 574, 848, 544, 1290, 1970, 848, 1215, 2728, 267, 747, 377, 626, 997, 656, 561, 2266, 1454, 819, 592, 1099, 818, 1244, 1209, 758, 758, 380, 1605, 343, 653, 721, 553, 1106, 238, 1061, 821, 935, 1884, 399, 730, 282, 552, 527, 414, 1636, 317, 479, 1270, 559, 2031, 1516, 1491, 393, 466, 470, 516, 347, 791, 1047, 513, 748, 512, 348, 837, 257, 501, 274, 1623, 1650, 1631, 312, 1513, 658, 271, 592, 588, 242, 1765, 361, 464, 433, 301, 547, 271, 459, 688, 300, 258, 626, 300, 986, 895, 626, 601, 1405, 461, 1201, 373, 310, 455, 702, 383, 823, 671, 1445, 1332, 499, 329, 334, 334, 775, 395, 359, 926, 2090, 636, 342, 952, 293, 890, 1090, 327, 2357, 1825, 242, 379, 411, 341, 701, 260, 708, 1388, 2537, 250, 1113, 332, 455, 532, 342, 452, 874, 1047, 716, 1141, 450, 298, 297, 523, 266, 379, 239, 546, 323, 546, 547, 322, 322, 1815, 498, 291, 2035, 335, 1726, 979, 311, 1726, 241, 232, 1883, 896, 268, 657, 657, 235, 648, 320, 490, 482, 601, 798, 751, 284, 1203, 1133, 443, 746, 733, 1139, 435, 1134, 991, 342, 370, 260, 420, 907, 392, 367, 1708, 301, 600, 412, 298, 388, 576, 2070, 545, 655, 479, 905, 351, 833, 270, 680, 546, 723, 1367, 622, 329, 1393, 514, 253, 237, 272, 357, 568, 1064, 323, 299, 246, 436, 1738, 532, 512, 437, 1260, 1398, 365, 238, 928, 350, 625, 1271, 1349, 506, 499, 726, 531, 1270, 1491, 272, 764, 609, 808, 442, 525, 981, 889, 547, 889, 547, 403, 504, 440, 970, 1032, 252, 336, 308, 349, 247, 243, 248, 403, 510, 542, 329, 2128, 1219, 516, 367, 311, 235, 517, 260, 518, 514, 429, 250, 353, 237, 245, 329, 861, 502, 689, 664, 467, 469, 758, 357, 405, 940, 775, 455, 549, 409, 329, 243, 243, 250, 265, 343, 464, 500, 252, 365, 240, 318, 457, 470, 350, 334, 524, 362, 515, 341, 426, 232, 483, 305, 266, 334, 534, 238, 318, 295, 303, 231, 450, 393, 419, 420, 273, 335, 407, 479, 252, 238, 349, 399, 417, 604, 603, 372, 316, 596, 377, 378, 321, 289, 266, 524, 346, 370, 373, 334], \"x\": [9, 9, 8, 7, 12, 15, 8, 12, 9, 8, 10, 7, 8, 9, 12, 10, 10, 16, 10, 10, 9, 7, 10, 16, 10, 11, 10, 9, 15, 10, 10, 14, 9, 9, 16, 14, 11, 8, 8, 9, 9, 13, 11, 9, 7, 6, 7, 8, 9, 8, 8, 13, 9, 11, 6, 12, 9, 12, 6, 8, 10, 8, 10, 11, 13, 13, 13, 10, 12, 9, 14, 13, 13, 10, 9, 13, 10, 7, 15, 16, 16, 12, 12, 9, 7, 14, 14, 10, 6, 11, 9, 9, 11, 12, 10, 13, 11, 9, 11, 7, 16, 13, 10, 5, 16, 13, 16, 15, 12, 11, 5, 7, 5, 14, 6, 9, 10, 6, 9, 12, 9, 13, 11, 13, 10, 10, 15, 6, 5, 11, 9, 4, 11, 10, 11, 16, 9, 10, 9, 9, 15, 6, 11, 8, 11, 6, 9, 9, 7, 9, 8, 13, 7, 6, 11, 9, 9, 11, 9, 10, 15, 9, 16, 13, 8, 6, 10, 9, 9, 9, 11, 10, 9, 15, 14, 7, 11, 14, 9, 11, 13, 7, 10, 12, 12, 8, 8, 5, 14, 11, 7, 11, 10, 13, 9, 11, 6, 9, 12, 9, 10, 11, 8, 11, 8, 9, 13, 15, 9, 6, 10, 11, 12, 9, 12, 12, 6, 13, 6, 5, 9, 9, 10, 5, 11, 7, 8, 11, 9, 11, 10, 9, 8, 14, 14, 13, 9, 13, 10, 12, 14, 11, 9, 10, 9, 8, 7, 10, 6, 12, 16, 12, 16, 11, 5, 9, 9, 11, 11, 12, 14, 6, 12, 8, 13, 11, 13, 4, 11, 7, 8, 13, 9, 11, 15, 12, 11, 13, 14, 9, 11, 11, 11, 9, 11, 7, 9, 9, 11, 13, 14, 9, 9, 8, 13, 8, 17, 8, 12, 7, 7, 10, 10, 10, 7, 9, 13, 7, 12, 8, 15, 16, 9, 10, 9, 11, 9, 8, 9, 6, 11, 6, 12, 6, 8, 8, 8, 8, 9, 10, 4, 11, 17, 5, 6, 8, 9, 9, 10, 7, 8, 5, 5, 12, 10, 14, 10, 11, 10, 15, 16, 9, 11, 9, 13, 10, 11, 13, 12, 11, 11, 8, 8, 11, 11, 13, 12, 7, 12, 9, 9, 9, 13, 9, 8, 9, 9, 13, 15, 10, 11, 11, 9, 9, 10, 8, 13, 6, 10, 9, 13, 18, 14, 6, 8, 8, 11, 10, 9, 8, 17, 9, 15, 13, 11, 13, 14, 8, 8, 9, 8, 10, 11, 11, 8, 7, 14, 7, 9, 11, 13, 15, 13, 14, 11, 8, 8, 13, 9, 11, 7, 9, 11, 6, 13, 9, 12, 13, 8, 12, 11, 13, 9, 14, 7, 9, 13, 11, 8, 10, 7, 10, 11, 10, 10, 13, 8, 15, 15, 16, 10, 9, 5, 12, 12, 12, 13, 9, 13, 12, 12, 13, 12, 9, 12, 10, 11, 9, 13, 13, 15, 15, 14, 14, 13, 15, 16, 9, 13, 11, 12, 15, 12, 14, 6, 9, 14, 9, 9, 11, 19, 8, 10, 15, 8, 9, 8, 10, 13, 15, 16, 6, 14, 10, 13, 14, 15, 9, 7, 12, 11, 11, 9, 7, 16, 14, 12, 14, 11, 9, 15, 12, 10, 8, 11, 15, 11, 12, 10, 7, 11, 19, 15, 21, 10, 10, 15, 17, 11, 13, 7, 21, 6, 16, 15, 13, 15, 9, 16, 16, 10, 11, 15, 13, 12, 9, 8, 16, 4, 6, 12, 9, 16, 17, 15, 17, 16, 12, 12, 12, 9, 17, 11, 10, 10, 18, 19, 14, 11, 11, 12, 16, 16, 17, 11, 16, 11, 10, 11, 13, 12, 9, 10, 13, 16, 14, 9, 10, 16, 9, 11, 12, 8, 11, 11, 13, 14, 7, 11, 12, 11, 12, 8, 11, 14, 15, 13, 13, 16, 11, 12, 18, 13, 13, 8, 14, 15, 11, 7, 15, 12, 13, 16, 14, 9, 6, 15, 13, 10, 15, 15, 20, 21, 15, 12, 13, 17, 7, 7, 14, 17, 9, 9, 11, 18, 10, 12, 11, 11, 12, 13, 6, 15, 9, 15, 16, 16, 16, 19, 18, 13, 14, 12, 10, 9, 10, 15, 15, 15, 19, 14, 13, 16, 16, 15, 14, 15, 14, 15, 14, 14, 11, 10, 18, 17, 16, 17, 16, 16, 15, 11, 15, 10, 13, 15, 9, 15, 11, 9, 15, 16, 13, 12, 5, 8, 13, 10, 9, 14, 12, 16, 11, 11, 5, 8, 10, 14, 8, 9, 13, 15, 10, 14, 9, 14, 18, 7, 10, 6, 14, 15, 13, 10, 14, 12, 10, 9, 13, 11, 15, 16, 9, 14, 13, 12, 10, 9, 12, 9, 13, 12, 8, 12, 10, 14, 9, 11, 7, 14, 10, 10, 13, 16, 15, 13, 6, 13, 12, 11, 5, 10, 9, 10, 10, 10, 11, 14, 9, 11, 8, 10, 10, 8, 6, 16, 15, 8, 8, 7, 7, 10, 11, 12, 13, 15, 13, 14, 9, 11, 10, 13, 10, 9, 10, 9, 12, 8, 13, 14, 10, 11, 15, 10, 13, 7, 11, 10, 11, 6, 10, 9, 17, 10, 11, 10, 9, 8, 15, 10, 8, 12, 11, 8, 10, 11, 11, 11, 15, 8, 15, 13, 13, 9, 8, 10, 10, 9, 11, 16, 14, 8, 11, 9, 10, 11, 10, 7, 10, 12, 9, 14, 15, 8, 7, 8, 8, 5, 11, 11, 11, 10, 12, 10, 11, 14, 9, 12, 14, 7, 12, 7, 11, 11, 7, 7, 14, 11, 8, 8, 5, 5, 11, 9, 8, 8, 9, 8, 10, 17, 15, 15, 10, 10, 8, 9, 11, 13, 11, 8, 6, 7, 10, 11, 11, 14, 11, 10, 9, 13, 11, 11, 12, 13, 8, 8, 9, 13, 7, 12, 5, 8, 9, 14, 13, 13, 8, 10, 5, 9, 9, 8, 4, 5, 12, 8, 9, 10, 10, 13, 11, 9, 7, 8, 13, 15, 5, 12, 10, 12, 16, 17, 9, 11, 16, 13, 13, 10, 9, 15, 9, 6, 7, 10, 10, 7, 9, 8, 9, 12, 7, 7, 10, 11, 9, 10, 7, 6, 9, 9, 6, 10, 11, 5, 7, 10, 13, 14, 10, 9, 9, 8, 10, 12, 11, 13, 10, 11, 8, 11, 7, 8, 10, 10, 10, 6, 9, 12, 12, 11, 14, 8, 9, 14, 10, 11, 13, 9, 13, 15, 11, 18, 12, 8, 10, 9, 9, 18, 16, 10, 7, 12, 10, 12, 5, 6, 8, 11, 8, 8, 10, 9, 11, 8, 21, 8, 7, 5, 8, 13, 11, 11, 5, 10, 8, 11, 8, 13, 4, 8, 14, 15, 8, 10, 13, 7, 7, 9, 9, 12, 13, 6, 9, 10, 14], \"type\": \"scatter\", \"name\": \"long-term\", \"mode\": \"markers\"}], {\"yaxis\": {\"title\": \"Time Enrolled (days)\"}, \"xaxis\": {\"title\": \"Ending grade level\"}, \"title\": \"Ending grade level vs Time Enrolled\"}, {\"linkText\": \"Export to plot.ly\", \"showLink\": true})});</script>"
      ],
      "text/plain": [
       "<IPython.core.display.HTML object>"
      ]
     },
     "metadata": {},
     "output_type": "display_data"
    }
   ],
   "source": [
    "stsk = studentsn[studentsn['short_term']==1]['grade_level_end']\n",
    "stsk1 = studentsn[studentsn['short_term']==1]['time_enrolled']\n",
    "\n",
    "ltsk = studentsn[studentsn['short_term']==0]['grade_level_end']\n",
    "ltsk1 = studentsn[studentsn['short_term']==0]['time_enrolled']\n",
    "\n",
    "trace1 = Scatter(x=stsk,y=stsk1, mode='markers', name = 'short-term')\n",
    "trace2 = Scatter(x=ltsk,y=ltsk1, mode='markers', name = 'long-term')\n",
    "\n",
    "data = [trace1,trace2]\n",
    "layout = Layout(xaxis=dict(title = 'Ending grade level'),\n",
    "                 yaxis=dict(title='Time Enrolled (days)'),\n",
    "                title='Ending grade level vs Time Enrolled')\n",
    "\n",
    "fig1 = Figure(data=data, layout=layout)\n",
    "iplot(fig1)"
   ]
  },
  {
   "cell_type": "markdown",
   "metadata": {},
   "source": [
    "Distribution of time enrolled for each end skill level - larger end skill level does not necessarily mean that students are enrolled for longer - there is a huge variation in how long students are enrolled for"
   ]
  },
  {
   "cell_type": "code",
   "execution_count": 52,
   "metadata": {
    "collapsed": false
   },
   "outputs": [
    {
     "data": {
      "text/plain": [
       "array([[ 1.        , -0.16524028],\n",
       "       [-0.16524028,  1.        ]])"
      ]
     },
     "execution_count": 52,
     "metadata": {},
     "output_type": "execute_result"
    }
   ],
   "source": [
    "# Computing some correlation coefficients between age enrolled and time\n",
    "np.corrcoef(studentsn['time_enrolled'],studentsn['age_enroll_norm'])"
   ]
  },
  {
   "cell_type": "markdown",
   "metadata": {},
   "source": [
    "### I also tried implementing Random Forests, to see how it would compare in performance to Logistic Regression"
   ]
  },
  {
   "cell_type": "code",
   "execution_count": 54,
   "metadata": {
    "collapsed": false
   },
   "outputs": [
    {
     "name": "stdout",
     "output_type": "stream",
     "text": [
      "Accuracy of model on test set is 91.4798206278 %\n",
      "Weighted F1 score is 0.914762220002\n",
      "[[207  12]\n",
      " [ 26 201]]\n",
      "Predicting everything as falling as long term will give accuracy of 49.1031390135\n",
      "[ 0.06638936  0.06115591  0.44345287  0.12401699  0.25794272  0.04704215]\n"
     ]
    },
    {
     "data": {
      "text/html": [
       "<div id=\"d9ee11b2-fdb2-48f8-abee-57bf2301b6f6\" style=\"height: 525px; width: 100%;\" class=\"plotly-graph-div\"></div><script type=\"text/javascript\">require([\"plotly\"], function(Plotly) { window.PLOTLYENV=window.PLOTLYENV || {};window.PLOTLYENV.BASE_URL=\"https://plot.ly\";Plotly.newPlot(\"d9ee11b2-fdb2-48f8-abee-57bf2301b6f6\", [{\"y\": [0.06638936141972535, 0.06115590783067839, 0.4434528715192786, 0.12401698902914038, 0.25794271736068064, 0.04704215284049669], \"x\": [\"median_income_norm\", \"age_enroll_norm\", \"skill_increase_norm_correct\", \"grade_level_begin_norm\", \"grade_level_end_norm\", \"dist_norm\"], \"type\": \"bar\"}], {\"yaxis\": {\"title\": \"Coefficients\"}, \"xaxis\": {\"title\": \"Features\"}, \"title\": \"Feature Coefficients\"}, {\"linkText\": \"Export to plot.ly\", \"showLink\": true})});</script>"
      ],
      "text/plain": [
       "<IPython.core.display.HTML object>"
      ]
     },
     "metadata": {},
     "output_type": "display_data"
    }
   ],
   "source": [
    "# Random Forests\n",
    "\n",
    "from sklearn.ensemble import RandomForestClassifier\n",
    "\n",
    "rf = RandomForestClassifier(n_estimators=10)\n",
    "\n",
    "# Features\n",
    "\n",
    "feature_cols = ['median_income_norm', 'age_enroll_norm', 'skill_increase_norm_correct', 'grade_level_begin_norm',  'grade_level_end_norm', 'dist_norm']\n",
    "\n",
    "xprev = studentsn[feature_cols]#.reset_index()[feature_cols]\n",
    "y = studentsn['short_term']#.reset_index()['short_term']x\n",
    "x = xprev\n",
    "vv = list(x)\n",
    "\n",
    "\n",
    "# Train / Test Split\n",
    "\n",
    "X_train,X_test,y_train,y_test = train_test_split(x,y,test_size=0.2)\n",
    "L = rf.fit(X_train,y_train)\n",
    "y_pred = rf.predict(X_test)\n",
    "print 'Accuracy of model on test set is ' + str(metrics.accuracy_score(y_test,y_pred)*100) +' %'\n",
    "print('Weighted F1 score is ' + str(f1_score(y_test, y_pred, average='weighted')))\n",
    "\n",
    "print metrics.confusion_matrix(y_test, y_pred)\n",
    "print (\"Predicting everything as falling as long term will give accuracy of \"+ str((len([x for x in y_test if x == 0])/float(len(y_test)))*100))\n",
    "\n",
    "# Plotting feature importances\n",
    "\n",
    "fimplr = rf.feature_importances_\n",
    "print(fimplr.ravel())\n",
    "\n",
    "data = [Bar(x=vv,y=fimplr.ravel())]\n",
    "\n",
    "layout = Layout(xaxis=dict(title = 'Features'),\n",
    "                 yaxis=dict(title='Coefficients'),\n",
    "                title='Feature Coefficients')\n",
    "\n",
    "\n",
    "fig1 = Figure(data=data, layout=layout)\n",
    "iplot(fig1)"
   ]
  },
  {
   "cell_type": "markdown",
   "metadata": {},
   "source": [
    "### Some extra plots and analysis of features I used previously - median income, distance, city, gender, days open, age"
   ]
  },
  {
   "cell_type": "code",
   "execution_count": 55,
   "metadata": {
    "collapsed": false
   },
   "outputs": [
    {
     "data": {
      "text/html": [
       "<div id=\"ef557e49-ae84-4f13-82b1-739b7d2e758e\" style=\"height: 525px; width: 100%;\" class=\"plotly-graph-div\"></div><script type=\"text/javascript\">require([\"plotly\"], function(Plotly) { window.PLOTLYENV=window.PLOTLYENV || {};window.PLOTLYENV.BASE_URL=\"https://plot.ly\";Plotly.newPlot(\"ef557e49-ae84-4f13-82b1-739b7d2e758e\", [{\"y\": [90, 85, 83, 234, 23, 98, 327, 878, 557, 241, 469, 445, 82, 598, 77, 207, 148, 148, 149, 229, 232, 140, 147, 41, 47, 57, 205, 225, 59, 54, 522, 161, 426, 263, 264, 187, 272, 271, 76, 113, 142, 167, 351, 86, 31, 51, 27, 74, 38, 17, 212, 609, 40, 53, 41, 119, 107, 85, 109, 98, 240, 23, 464, 41, 229, 68, 133, 97, 101, 424, 12, 210, 453, 12, 13, 193, 53, 263, 416, 348, 552, 84, 13, 1343, 663, 663, 431, 576, 77, 36, 196, 77, 77, 480, 77, 52, 52, 1085, 154, 451, 50, 363, 115, 1285, 146, 59, 18, 160, 175, 267, 117, 111, 118, 82, 615, 77, 343, 236, 224, 221, 425, 103, 80, 108, 457, 440, 616, 616, 398, 279, 137, 173, 105, 87, 87, 104, 399, 249, 66, 87, 48, 305, 77, 337, 305, 161, 378, 448, 537, 433, 1050, 505, 175, 389, 588, 678, 40, 286, 772, 224, 537, 826, 951, 537, 318, 762, 180, 180, 196, 157, 196, 180, 545, 334, 551, 91, 425, 210, 209, 162, 660, 270, 261, 1165, 236, 233, 1363, 1362, 1071, 3, 175, 496, 114, 732, 338, 259, 40, 1188, 155, 395, 159, 150, 678, 679, 34, 37, 961, 114, 126, 126, 426, 340, 116, 232, 231, 25, 324, 62, 827, 574, 623, 392, 392, 1185, 1763, 504, 440, 106, 254, 257, 274, 78, 122, 74, 74, 47, 93, 490, 478, 292, 231, 505, 191, 69, 191, 131, 32, 14, 173, 28, 208, 307, 699, 210, 41, 54, 210, 196, 124, 40, 596, 156, 911, 196, 806, 984, 357, 1088, 18, 805, 574, 714, 441, 13, 30, 77, 538, 21, 261, 84, 88, 112, 1506, 224, 244, 110, 203, 288, 293, 270, 122, 235, 146, 1442, 475, 201, 453, 155, 537, 67, 197, 785, 229, 105, 14, 312, 13, 136, 326, 270, 57, 85, 99, 59, 137, 1267, 113, 182, 141, 401, 651, 786, 34, 821, 173, 357, 134, 53, 196, 152, 31, 197, 312, 697, 697, 212, 709, 210, 105, 68, 260, 881, 504, 842, 140, 139, 455, 290, 546, 637, 546, 42, 160, 112, 558, 1134, 336, 61, 176, 157, 823, 585, 208, 322, 143, 171, 150, 241, 14, 14, 735, 732, 289, 294, 294, 211, 211, 211, 57, 905, 905, 1296, 675, 196, 196, 42, 389, 116, 659, 657, 1049, 1059, 133, 373, 44, 89, 89, 906, 288, 65, 287, 806, 299, 37, 16, 257, 97, 257, 104, 635, 658, 224, 173, 307, 602, 73, 307, 114, 80, 209, 285, 102, 227, 489, 244, 246, 45, 14, 230, 219, 36, 255, 273, 289, 123, 245, 31, 252, 245, 260, 262, 247, 189, 191, 91, 254, 260, 253, 266, 269, 53, 272, 19, 19, 23, 6, 157, 26, 176, 92, 77, 61, 62, 122, 222, 0, 249, 252, 146, 149, 121, 150, 143, 141, 181, 247, 36, 92, 153, 32, 168, 269, 249, 193, 174, 19, 245, 0, 0, 12, 247, 266, 24, 19, 206, 89, 253, 245, 64, 72, 30, 197, 77, 101, 255, 25, 73, 257, 37, 171, 159, 6, 87, 260, 31, 59, 153, 245, 249, 63, 51, 103, 377, 196, 73, 83, 60, 353, 56, 23, 73, 71, 301, 53, 54, 86, 117, 46, 228, 228, 38, 38, 176, 473, 39, 285, 42, 106, 86, 122, 201, 80, 168, 141, 270, 177, 77, 289, 179, 181, 81, 74, 41, 324, 324, 102, 102, 55, 212, 212, 69, 212, 222, 25, 220, 474, 111, 172, 172, 52, 114, 134, 368, 220, 454, 454, 77, 140, 502, 513, 76, 42, 58, 107, 111, 5, 173, 236, 23, 23, 42, 578, 114, 35, 40, 42, 76, 69, 288, 241, 117, 53, 84, 240, 39, 257, 83, 452, 34, 179, 285, 252, 126, 14, 305, 25, 154, 305, 46, 88, 214, 400, 248, 163, 748, 188, 137, 103, 23, 329, 748, 474, 188, 39, 220, 22, 19, 138, 128, 360, 836, 97, 83, 47, 315, 333, 43, 9, 84, 139, 351, 190, 63, 55, 230, 69, 21, 178, 96, 492, 92, 104, 79, 87, 104, 133, 307, 105, 0, 48, 124, 164, 1, 305, 76, 132, 398, 426, 398, 266, 489, 168, 665, 426, 304, 279, 90, 350, 368, 404, 790, 105, 28, 185, 27, 48, 417, 563, 342, 309, 829, 333, 137, 406, 425, 153, 216, 882, 563, 211, 456, 1144, 426, 265, 104, 753, 49, 412, 72, 177, 1033, 629, 66, 570, 48, 45, 55, 188, 174, 135, 265, 19, 87, 142, 110, 111, 184, 110, 81, 267, 267, 134, 122, 107, 23, 212, 9, 7, 172, 172, 13, 242, 50, 297, 261, 293, 292, 27, 29, 83, 128, 238, 38, 46, 57, 273, 216, 240, 316, 140, 358, 50, 50, 167, 273, 43, 730, 371, 178, 625, 56, 261, 328, 195, 157, 28, 406, 381, 301, 144, 129, 175, 169, 93, 84, 112, 406, 500, 157, 485, 97, 112, 169, 485, 211, 132, 24, 98, 281, 69, 7, 16, 328, 350, 283, 339, 318, 515, 275, 357, 197, 616, 57, 45, 45, 535, 177, 49, 58, 106, 106, 266, 263, 539, 539, 96, 305, 169, 75, 413, 45, 45, 107, 30, 613, 698, 52, 699, 473, 913, 1428, 444, 205, 77, 166, 130, 94, 1252, 69, 52, 842, 724, 87, 258, 441, 1372, 30, 86, 87, 83, 385, 82, 78, 45, 1290, 606, 259, 452, 111, 782, 251, 119, 290, 798, 224, 606, 1379, 1670, 598, 346, 157, 231, 462, 612, 1169, 231, 27, 63, 637, 526, 198, 148, 789, 1207, 372, 87, 1025, 126, 271, 1114, 362, 119, 263, 369, 223, 294, 1113, 390, 240, 170, 90, 507, 448, 946, 176, 452, 239, 383, 134, 226, 921, 711, 221, 1347, 906, 16, 343, 85, 86, 247, 53, 23, 28, 28, 35, 37, 35, 17, 149, 25, 24, 25, 119, 57, 115, 212, 101, 137, 133, 70, 137, 178, 140, 116, 84, 193, 187, 184, 176, 270, 796, 249, 798, 796, 99, 804, 585, 56, 254, 568, 15, 363, 269, 101, 69, 122, 124, 98, 177, 523, 316, 35, 23, 313, 184, 163, 11, 110, 175, 553, 476, 561, 136, 314, 309, 12, 77, 70, 42, 43, 116, 170, 1338, 76, 191, 7, 98, 156, 1048, 678, 548, 403, 148, 875, 143, 39, 232, 410, 207, 708, 93, 46, 52, 41, 251, 218, 1086, 264, 78, 980, 321, 200, 30, 528, 30, 48, 91, 9, 543, 848, 48, 92, 823, 233, 11, 108, 902, 827, 337, 357, 458, 58, 493, 121, 55, 82, 208, 232, 951, 228, 255, 49, 231, 373, 377, 154, 141, 160, 85, 364, 78, 79, 364, 364, 64, 69, 43, 171, 175, 15, 44, 80, 30, 189, 230, 30, 287, 30, 589, 215, 130, 149, 142, 29, -102, 224, 199, 1093, 781, 545, 235, 542, 546, 303, 31, 189, 56, 134, 394, 1147, 41, 169, 66, 156, 83, 421, 1274, 176, 39, 382, 999, 81, 364, 343, 988, 447, 36, 413, 356, 189, 259, 312, 20, 211, 50, 712, 220, 211, 211, 959, 1120, 307, 1385, 1385, 260, 650, 732, 663, 261, 362, 116, 86, 457, 19, 135, 55, 100, 226, 40, 37, 141, 159, 132, 228, 39, 77, 1006, 2, 197, 34, 239, 267, 77, 176, 173, 78, 66, 99, 218, 16, 39, 882, 692, 566, 1692, 573, 574, 1455, 114, 1497, 725, 1483, 1677, 303, 62, 743, 419, 133, 535, 1301, 1553, 2338, 544, 174, 699, 484, 1269, 745, 521, 530, 240, 1539, 345, 398, 965, 1212, 91, 2860, 2024, 808, 1985, 699, 848, 1393, 234, 104, 479, 338, 272, 1217, 66, 202, 1122, 390, 390, 457, 80, 624, 138, 2263, 1717, 2623, 444, 689, 2207, 1035, 982, 597, 440, 2695, 503, 1186, 1441, 580, 1374, 720, 1542, 646, 1563, 911, 1449, 100, 1113, 1110, 162, 174, 946, 1028, 479, 348, 19, 359, 148, 1199, 617, 897, 1013, 131, 392, 1213, 197, 1215, 631, 350, 381, 373, 148, 118, 120, 28, 28, 884, 907, 148, 1007, 265, 631, 628, 631, 573, 580, 996, 1896, 2081, 1206, 1973, 393, 410, 663, 879, 1078, 807, 909, 601, 219, 2624, 138, 2501, 1536, 335, 429, 1325, 775, 363, 89, 366, 55, 85, 482, 752, 752, 328, 1322, 356, 359, 1333, 1344, 988, 969, 608, 1692, 1143, 83, 139, 1193, 65, 206, 6, 1323, 545, 311, 496, 84, 1525, 2313, 561, 417, 1190, 601, 601, 377, 734, 288, 469, 1819, 741, 378, 500, 388, 1427, 755, 576, 1760, 2077, 2180, 1710, 1476, 456, 2076, 865, 429, 521, 949, 1657, 834, 132, 834, 402, 315, 671, 345, 657, 734, 650, 651, 41, 508, 227, 450, 497, 23, 1200, 1873, 2635, 638, 20, 846, 366, 1162, 2522, 254, 477, 30, 118, 432, 2006, 2629, 123, 2222, 1725, 314, 38, 1611, 2071, 838, 2067, 402, 2112, 149, 132, 1356, 1766, 1133, 149, 1818, 77, 552, 265, 1321, 370, 2469, 88, 1727, 1307, 2627, 1487, 118, 103, 88, 191, 593, 198, 905, 545, 712, 1094, 541, 593, 34, 122, 23, 791, 107, 193, 358, 1833, 1730, 913, 590, 317, 192, 198, 62, 258, 91, 980, 83, 244, 274, 1983, 1357, 1475, 51, 431, 37, 463, 44, 332, 331, 486, 142, 114, 202, 748, 113, 575, 574, 848, 227, 544, 1290, 1970, 848, 1215, 2728, 267, 747, 377, 626, 997, 656, 561, 2266, 1454, 819, 592, 1099, 818, 51, 1244, 1209, 758, 758, 380, 1605, 343, 99, 46, 653, 215, 198, 721, 553, 1106, 117, 19, 238, 20, 1061, 821, 86, 230, 935, 1884, 399, 164, 65, 730, 282, 552, 527, 414, 28, 1636, 317, 479, 1270, 559, 2031, 1516, 1491, 128, 393, 466, 470, 516, 71, 347, 791, 147, 1047, 513, 223, 748, 114, 512, 111, 348, 114, 48, 105, 5, 201, 837, 257, 44, 134, 153, 501, 274, 1623, 1650, 19, 1631, 215, 312, 1513, 156, 212, 658, 271, 147, 166, 592, 73, 588, 71, 96, 242, 84, 1765, 77, 125, 361, 464, 433, 301, 547, 271, 104, 177, 459, 183, 688, 300, 140, 258, 39, 626, 300, 986, 895, 626, 601, 49, 119, 198, 1405, 461, 169, 1201, 373, 310, 455, 14, 187, 702, 383, 823, 77, 63, 671, 48, 1445, 168, 168, 1332, 499, 329, 139, 334, 139, 334, 15, 111, 775, 167, 395, 359, 926, 2090, 636, 342, 138, 952, 293, 890, 1090, 34, 327, 2357, 1825, 242, 177, 190, 379, 411, 135, 341, 14, 701, 29, 29, 260, 708, 1388, 2537, 250, 213, 1113, 332, 152, 455, 532, 41, 342, 452, 101, 874, 1047, 716, 1141, 450, 60, 298, 297, 523, 266, 14, 379, 239, 546, 164, 160, 323, 546, 197, 547, 322, 211, 64, 322, 1815, 498, 98, 291, 2035, 335, 1726, 979, 311, 1726, 241, 79, 232, 210, 192, 79, 1883, 896, 268, 21, 657, 657, 14, 214, 230, 194, 235, 648, 175, 320, 108, 490, 482, 195, 601, 195, 798, 751, 284, 1203, 83, 170, 1133, 443, 746, 733, 58, 1139, 112, 142, 90, 47, 435, 1134, 991, 189, 342, 170, 28, 180, 133, 370, 260, 420, 907, 392, 367, 1708, 301, 600, 143, 412, 298, 37, 388, 576, 58, 2070, 545, 51, 655, 479, 905, 105, 351, 833, 270, 177, 680, 126, 546, 723, 1367, 622, 329, 34, 1393, 77, 514, 55, 74, 253, 237, 272, 357, 568, 1064, 323, 299, 140, 132, 246, 436, 137, 137, 1738, 13, 171, 63, 532, 512, 179, 97, 173, 437, 228, 1260, 1398, 161, 180, 365, 189, 238, 62, 81, 928, 350, 625, 1271, 1349, 73, 198, 506, 499, 106, 726, 531, 1270, 179, 1491, 272, 764, 161, 609, 200, 163, 808, 442, 525, 981, 889, 547, 889, 547, 403, 183, 504, 151, 28, 151, 440, 970, 99, 184, 1032, 252, 184, 217, 57, 336, 308, 349, 247, 243, 79, 248, 26, 35, 403, 510, 542, 329, 212, 112, 112, 175, 122, 2128, 1219, 516, 118, 367, 192, 189, 311, 14, 168, 77, 124, 235, 90, 148, 517, 58, 217, 211, 85, 260, 148, 24, 518, 50, 51, 514, 28, 429, 250, 75, 25, 67, 149, 353, 182, 168, 237, 245, 123, 329, 861, 502, 118, 689, 664, 67, 63, 101, 467, 469, 101, 8, 107, 51, 758, 357, 405, 940, 775, 143, 163, 455, 75, 549, 409, 124, 58, 104, 87, 329, 106, 152, 243, 243, 250, 121, 265, 76, 343, 228, 59, 12, 76, 128, 464, 64, 89, 25, 15, 59, 15, 166, 179, 211, 209, 23, 500, 30, 252, 39, 365, 77, 57, 240, 48, 48, 318, 26, 60, 26, 457, 60, 470, 32, 20, 206, 14, 93, 136, 37, 75, 149, 213, 88, 142, 350, 75, 57, 209, 334, 107, 75, 105, 100, 100, 42, 524, 76, 214, 85, 47, 149, 362, 515, 46, 16, 133, 341, 426, 112, 175, 232, 177, 30, 483, 100, 53, 305, 138, 145, 19, 108, 266, 334, 89, 534, 238, 318, 295, 53, 11, 224, 88, 220, 76, 99, 91, 124, 48, 46, 98, 45, 303, 98, 29, 231, 450, 393, 14, 14, 14, 21, 20, 46, 133, 159, 73, 419, 420, 43, 273, 108, 335, 20, 20, 18, 407, 152, 49, 479, 173, 90, 211, 67, 252, 39, 137, 116, 58, 27, 18, 56, 56, 238, 119, 56, 41, 31, 349, 399, 417, 60, 604, 603, 123, 123, 25, 110, 58, 176, 372, 70, 316, 67, 596, 63, 377, 78, 90, 378, 90, 70, 33, 71, 166, 91, 321, 44, 289, 34, 151, 266, 35, 61, 37, 18, 524, 172, 121, 37, 346, 370, 373, 21, 165, 161, 21, 119, 14, 212, 21, 334, 3], \"x\": [65505.0, 65505.0, 65505.0, 65505.0, 65505.0, 65505.0, 65505.0, 65505.0, 65505.0, 69410.0, 69410.0, 69410.0, 69410.0, 69410.0, 69410.0, 69410.0, 69410.0, 69410.0, 59375.0, 59375.0, 59375.0, 59375.0, 59375.0, 59375.0, 88514.0, 88514.0, 88514.0, 88514.0, 88514.0, 88514.0, 88514.0, 88514.0, 88514.0, 88514.0, 88514.0, 88514.0, 88514.0, 88514.0, 88514.0, 88514.0, 88514.0, 88514.0, 88514.0, 88514.0, 88514.0, 88514.0, 88514.0, 88514.0, 74530.0, 74530.0, 74530.0, 74530.0, 55830.0, 55830.0, 55830.0, 55830.0, 55830.0, 55830.0, 55830.0, 55830.0, 63790.0, 63790.0, 63790.0, 63790.0, 63790.0, 63790.0, 63790.0, 63790.0, 63790.0, 57220.0, 67072.0, 57946.0, 57946.0, 57946.0, 57946.0, 57946.0, 65507.0, 65507.0, 56414.0, 72686.0, 72686.0, 83978.0, 83978.0, 83978.0, 83978.0, 83978.0, 83978.0, 83978.0, 88886.0, 88886.0, 88886.0, 88886.0, 88886.0, 88886.0, 88886.0, 88886.0, 88886.0, 88886.0, 88886.0, 88886.0, 88886.0, 88886.0, 88886.0, 88886.0, 88886.0, 88886.0, 88886.0, 88886.0, 88886.0, 88886.0, 88886.0, 88886.0, 88886.0, 88886.0, 88886.0, 88886.0, 88886.0, 88886.0, 88886.0, 88886.0, 88886.0, 88886.0, 88886.0, 88886.0, 88886.0, 88886.0, 88886.0, 88886.0, 88886.0, 88886.0, 88886.0, 88886.0, 88886.0, 88886.0, 88886.0, 88886.0, 88886.0, 88886.0, 88886.0, 88886.0, 88886.0, 88886.0, 88886.0, 88886.0, 88886.0, 88886.0, 88886.0, 88886.0, 110507.0, 110507.0, 110507.0, 110507.0, 110507.0, 110507.0, 110507.0, 110507.0, 110507.0, 110507.0, 110507.0, 110507.0, 110507.0, 110507.0, 110507.0, 110507.0, 110507.0, 110507.0, 110507.0, 110507.0, 110507.0, 110507.0, 110507.0, 110507.0, 110507.0, 88889.0, 88889.0, 88889.0, 88889.0, 88889.0, 88889.0, 88889.0, 88889.0, 88889.0, 88889.0, 88889.0, 88889.0, 88889.0, 88889.0, 88889.0, 88889.0, 88889.0, 88889.0, 88889.0, 88889.0, 147578.0, 147578.0, 147578.0, 147578.0, 147578.0, 147578.0, 147578.0, 147578.0, 147578.0, 147578.0, 147578.0, 147578.0, 147578.0, 147578.0, 147578.0, 147578.0, 147578.0, 147578.0, 147578.0, 147578.0, 147578.0, 147578.0, 147578.0, 147578.0, 147578.0, 147578.0, 147578.0, 147578.0, 147578.0, 147578.0, 147578.0, 147578.0, 147578.0, 147578.0, 147578.0, 147578.0, 147578.0, 147578.0, 147578.0, 147578.0, 107663.0, 107663.0, 95381.0, 95381.0, 95381.0, 95381.0, 95381.0, 95381.0, 95381.0, 95381.0, 95381.0, 95381.0, 95381.0, 95381.0, 95381.0, 95381.0, 95381.0, 95381.0, 95381.0, 95381.0, 95381.0, 95381.0, 95381.0, 95381.0, 95381.0, 95381.0, 95381.0, 95381.0, 95381.0, 95381.0, 95381.0, 95381.0, 95381.0, 95381.0, 95381.0, 95381.0, 95381.0, 95381.0, 95381.0, 95381.0, 95381.0, 95381.0, 95381.0, 95381.0, 95381.0, 95381.0, 95381.0, 124539.0, 124539.0, 124539.0, 124539.0, 124539.0, 124539.0, 124539.0, 124539.0, 124539.0, 124539.0, 124539.0, 124539.0, 124539.0, 124539.0, 124539.0, 124539.0, 124539.0, 124539.0, 124539.0, 124539.0, 94293.0, 94293.0, 94293.0, 94293.0, 94293.0, 94293.0, 94293.0, 94293.0, 94293.0, 101603.0, 101603.0, 101603.0, 101603.0, 101603.0, 101603.0, 101603.0, 133364.0, 133364.0, 133364.0, 133364.0, 133364.0, 133364.0, 133364.0, 133364.0, 133364.0, 133364.0, 133364.0, 133364.0, 133364.0, 133364.0, 133364.0, 133364.0, 133364.0, 133364.0, 133364.0, 133364.0, 133364.0, 133364.0, 133364.0, 133364.0, 133364.0, 133364.0, 133364.0, 133364.0, 133364.0, 133364.0, 133364.0, 133364.0, 133364.0, 133364.0, 133364.0, 112021.0, 84743.0, 84743.0, 84743.0, 84743.0, 84743.0, 84743.0, 84743.0, 84743.0, 84743.0, 84743.0, 84743.0, 84743.0, 84743.0, 84743.0, 211607.0, 211607.0, 211607.0, 211607.0, 211607.0, 211607.0, 211607.0, 211607.0, 211607.0, 211607.0, 211607.0, 211607.0, 211607.0, 211607.0, 211607.0, 211607.0, 211607.0, 211607.0, 211607.0, 77079.0, 77079.0, 77079.0, 77079.0, 77079.0, 77079.0, 77079.0, 77079.0, 77079.0, 77079.0, 77079.0, 77079.0, 77079.0, 110010.0, 110010.0, 110010.0, 110010.0, 110010.0, 110010.0, 110010.0, 110010.0, 110010.0, 110010.0, 110010.0, 110010.0, 110010.0, 110010.0, 110010.0, 110010.0, 110010.0, 110010.0, 110010.0, 110010.0, 110010.0, 110010.0, 110010.0, 77042.0, 77042.0, 112671.0, 112671.0, 112671.0, 112671.0, 112671.0, 112671.0, 112671.0, 112671.0, 112671.0, 112671.0, 112671.0, 112671.0, 112671.0, 112671.0, 112671.0, 35283.0, 35283.0, 35283.0, 124635.0, 124635.0, 124635.0, 124635.0, 124635.0, 124635.0, 124635.0, 124635.0, 124635.0, 124635.0, 124635.0, 124635.0, 124635.0, 124635.0, 124635.0, 124635.0, 124635.0, 124635.0, 124635.0, 124635.0, 124635.0, 124635.0, 124635.0, 124635.0, 124635.0, 124635.0, 124635.0, 82008.0, 82008.0, 82008.0, 82008.0, 82008.0, 82008.0, 82008.0, 82008.0, 82008.0, 82008.0, 82008.0, 82008.0, 82008.0, 82008.0, 82008.0, 88548.0, 88548.0, 88548.0, 101265.0, 101265.0, 101265.0, 101265.0, 101265.0, 101265.0, 163250.0, 163250.0, 163250.0, 75270.0, 75270.0, 75270.0, 107346.0, 107346.0, 107346.0, 107346.0, 107346.0, 101466.0, 101466.0, 101466.0, 101466.0, 101466.0, 75977.0, 73513.0, 73513.0, 73513.0, 73513.0, 174478.0, 174478.0, 174478.0, 81173.0, 107206.0, 107206.0, 61131.0, 61131.0, 61131.0, 61131.0, 61131.0, 61131.0, 61131.0, 61131.0, 61131.0, 61131.0, 61131.0, 61131.0, 61131.0, 61131.0, 61131.0, 61131.0, 61131.0, 61131.0, 61131.0, 61131.0, 61131.0, 61131.0, 61131.0, 92402.0, 92402.0, 92402.0, 92402.0, 92402.0, 92402.0, 92402.0, 92402.0, 92402.0, 92402.0, 92402.0, 92402.0, 92402.0, 92402.0, 92402.0, 92402.0, 92402.0, 92402.0, 92402.0, 92402.0, 92402.0, 92402.0, 92402.0, 92402.0, 92402.0, 92402.0, 92402.0, 92402.0, 92402.0, 92402.0, 92402.0, 92402.0, 92402.0, 92402.0, 92402.0, 92402.0, 92402.0, 92402.0, 92402.0, 92402.0, 92402.0, 92402.0, 92402.0, 92402.0, 92402.0, 92402.0, 92402.0, 92402.0, 73534.0, 73534.0, 73534.0, 73534.0, 73534.0, 73534.0, 73534.0, 73534.0, 73534.0, 73534.0, 73534.0, 73534.0, 73534.0, 73534.0, 73534.0, 73534.0, 73534.0, 73534.0, 73534.0, 73534.0, 73534.0, 73534.0, 57109.0, 84921.0, 72250.0, 50230.0, 50230.0, 50230.0, 50230.0, 50230.0, 50230.0, 50230.0, 50230.0, 50230.0, 50230.0, 50230.0, 50230.0, 50230.0, 50230.0, 50230.0, 50230.0, 50230.0, 71277.0, 71277.0, 71277.0, 71277.0, 71277.0, 71277.0, 71277.0, 71277.0, 71277.0, 71277.0, 71277.0, 71277.0, 71277.0, 71277.0, 71277.0, 71277.0, 71277.0, 71277.0, 71277.0, 71277.0, 71277.0, 71277.0, 71277.0, 71277.0, 71277.0, 71277.0, 71277.0, 71277.0, 71277.0, 71277.0, 71277.0, 71277.0, 71277.0, 71277.0, 71277.0, 57449.0, 57449.0, 57449.0, 57449.0, 57449.0, 57449.0, 57449.0, 57449.0, 57449.0, 57449.0, 57449.0, 57449.0, 57449.0, 57449.0, 57449.0, 57449.0, 57449.0, 57449.0, 57449.0, 57449.0, 57449.0, 57449.0, 57449.0, 57449.0, 57449.0, 57449.0, 57449.0, 57449.0, 57449.0, 57449.0, 57449.0, 86719.0, 81507.0, 131607.0, 87219.0, 87219.0, 87219.0, 87219.0, 87219.0, 87219.0, 87219.0, 87219.0, 87219.0, 87219.0, 87219.0, 87219.0, 87219.0, 87219.0, 87219.0, 87219.0, 87219.0, 87219.0, 87219.0, 87219.0, 87219.0, 87219.0, 87219.0, 87219.0, 87219.0, 74782.0, 74782.0, 74782.0, 127512.0, 118937.0, 125432.0, 125432.0, 97219.0, 79146.0, 106362.0, 106362.0, 106362.0, 106362.0, 106362.0, 106362.0, 106362.0, 106362.0, 106362.0, 106362.0, 106362.0, 106362.0, 106362.0, 106362.0, 106362.0, 106362.0, 106362.0, 106362.0, 106362.0, 106362.0, 106362.0, 106362.0, 106362.0, 106362.0, 106362.0, 106362.0, 106362.0, 106362.0, 106362.0, 106362.0, 106362.0, 106362.0, 106362.0, 106362.0, 106362.0, 106362.0, 106362.0, 106362.0, 106362.0, 106362.0, 106362.0, 106362.0, 106362.0, 106362.0, 117330.0, 89409.0, 71524.0, 71524.0, 71524.0, 73727.0, 63425.0, 63425.0, 63425.0, 63425.0, 63425.0, 63425.0, 52272.0, 52272.0, 52272.0, 85933.0, 85933.0, 85933.0, 85933.0, 85933.0, 85933.0, 85933.0, 85933.0, 85933.0, 85933.0, 85933.0, 85933.0, 85933.0, 85933.0, 85933.0, 85933.0, 85933.0, 85933.0, 85933.0, 85933.0, 85933.0, 85933.0, 85933.0, 85933.0, 85933.0, 85933.0, 85933.0, 85933.0, 85933.0, 85933.0, 85933.0, 85933.0, 85933.0, 85933.0, 144291.0, 144291.0, 168289.0, 168289.0, 168289.0, 168289.0, 168289.0, 168289.0, 117122.0, 117122.0, 117122.0, 117122.0, 117122.0, 117122.0, 117122.0, 117122.0, 117122.0, 117122.0, 117122.0, 117122.0, 117122.0, 117122.0, 102123.0, 102123.0, 62434.0, 76804.0, 55622.0, 95859.0, 95859.0, 95859.0, 95859.0, 95859.0, 95859.0, 95859.0, 95859.0, 95859.0, 95859.0, 95859.0, 95859.0, 95859.0, 95859.0, 95859.0, 95859.0, 95859.0, 95859.0, 95859.0, 95859.0, 95859.0, 95859.0, 95859.0, 95859.0, 95859.0, 95859.0, 95859.0, 95859.0, 95859.0, 95859.0, 95859.0, 95859.0, 95859.0, 95859.0, 95859.0, 95859.0, 95859.0, 95859.0, 95859.0, 95859.0, 95859.0, 95859.0, 95859.0, 95859.0, 95859.0, 95859.0, 95859.0, 95859.0, 95859.0, 95859.0, 95859.0, 95859.0, 95859.0, 95859.0, 95859.0, 95859.0, 95859.0, 95859.0, 95859.0, 95859.0, 95859.0, 95859.0, 95859.0, 95859.0, 95859.0, 95859.0, 95859.0, 95859.0, 95859.0, 95859.0, 95859.0, 95859.0, 95859.0, 95859.0, 95859.0, 95859.0, 95859.0, 95859.0, 95859.0, 95859.0, 95859.0, 95859.0, 95859.0, 95859.0, 95859.0, 95859.0, 95859.0, 95859.0, 76149.0, 76149.0, 76149.0, 76149.0, 77500.0, 77500.0, 77500.0, 133342.0, 133342.0, 133342.0, 133342.0, 133342.0, 133342.0, 133342.0, 133342.0, 133342.0, 133342.0, 133342.0, 133342.0, 133342.0, 133342.0, 133342.0, 133342.0, 133342.0, 133342.0, 133342.0, 133342.0, 133342.0, 133342.0, 133342.0, 133342.0, 81033.0, 79690.0, 79690.0, 100788.0, 100788.0, 100788.0, 100788.0, 100788.0, 100788.0, 100788.0, 100788.0, 100788.0, 100788.0, 100788.0, 100788.0, 100788.0, 100788.0, 100788.0, 100788.0, 100788.0, 100788.0, 100788.0, 100788.0, 100788.0, 100788.0, 100788.0, 100788.0, 100788.0, 100788.0, 100788.0, 100788.0, 100788.0, 100788.0, 100788.0, 100788.0, 100788.0, 100788.0, 100788.0, 100788.0, 100788.0, 100788.0, 100788.0, 100788.0, 100788.0, 100788.0, 100788.0, 100788.0, 100788.0, 100788.0, 100788.0, 100788.0, 100788.0, 100788.0, 100788.0, 100788.0, 100788.0, 100788.0, 100788.0, 100788.0, 100788.0, 100788.0, 100788.0, 100788.0, 100788.0, 100788.0, 100788.0, 100788.0, 100788.0, 100788.0, 100788.0, 100788.0, 100788.0, 100788.0, 100788.0, 100788.0, 100788.0, 100788.0, 100788.0, 100788.0, 100788.0, 100788.0, 100788.0, 100788.0, 100788.0, 100788.0, 100788.0, 100788.0, 100788.0, 100788.0, 103007.0, 103007.0, 103007.0, 103007.0, 103007.0, 103007.0, 103007.0, 103007.0, 103007.0, 103007.0, 103007.0, 103007.0, 103007.0, 103007.0, 103007.0, 103007.0, 103007.0, 103007.0, 103007.0, 103007.0, 103007.0, 103007.0, 103007.0, 103007.0, 103007.0, 103007.0, 103007.0, 103007.0, 103007.0, 103007.0, 103007.0, 103007.0, 103007.0, 103007.0, 103007.0, 103007.0, 103007.0, 103007.0, 103007.0, 103007.0, 103007.0, 103007.0, 103007.0, 103007.0, 103007.0, 153354.0, 153354.0, 153354.0, 153354.0, 153354.0, 153354.0, 153354.0, 153354.0, 153354.0, 153354.0, 153354.0, 153354.0, 153354.0, 153354.0, 153354.0, 153354.0, 153354.0, 153354.0, 153354.0, 153354.0, 153354.0, 153354.0, 153354.0, 153354.0, 153354.0, 153354.0, 153354.0, 153354.0, 153354.0, 153354.0, 153354.0, 153354.0, 153354.0, 153354.0, 153354.0, 153354.0, 153354.0, 153354.0, 153354.0, 153354.0, 153354.0, 153354.0, 153354.0, 153354.0, 153354.0, 153354.0, 153354.0, 153354.0, 153354.0, 153354.0, 153354.0, 153354.0, 119565.0, 119565.0, 119565.0, 119565.0, 119565.0, 119565.0, 119565.0, 119565.0, 119565.0, 119565.0, 119565.0, 119565.0, 119565.0, 119565.0, 85916.0, 85916.0, 85916.0, 85916.0, 98363.0, 98363.0, 98363.0, 98363.0, 98363.0, 98363.0, 98363.0, 98363.0, 98363.0, 98363.0, 91056.0, 141573.0, 141573.0, 141573.0, 100690.0, 65279.0, 96298.0, 98472.0, 98472.0, 98472.0, 83750.0, 54809.0, 54809.0, 54809.0, 75872.0, 75872.0, 75872.0, 75872.0, 75872.0, 75872.0, 75872.0, 75872.0, 75872.0, 75872.0, 75872.0, 75872.0, 75872.0, 75872.0, 75872.0, 75872.0, 75872.0, 75872.0, 75872.0, 75872.0, 75872.0, 75872.0, 75872.0, 75872.0, 75872.0, 75872.0, 75872.0, 75872.0, 75872.0, 75872.0, 75872.0, 75872.0, 75872.0, 75872.0, 75872.0, 75872.0, 75872.0, 75872.0, 75872.0, 75872.0, 75872.0, 75872.0, 75872.0, 75872.0, 75872.0, 75872.0, 75872.0, 75872.0, 75872.0, 75872.0, 75872.0, 75872.0, 75872.0, 75872.0, 75872.0, 75872.0, 75872.0, 75872.0, 75872.0, 75872.0, 75872.0, 75872.0, 75872.0, 75872.0, 75872.0, 75872.0, 75872.0, 75872.0, 75872.0, 75872.0, 75872.0, 75872.0, 75872.0, 75872.0, 75872.0, 75872.0, 75872.0, 75872.0, 80516.0, 80516.0, 80516.0, 80516.0, 80516.0, 80516.0, 80516.0, 80516.0, 80516.0, 80516.0, 80516.0, 80516.0, 80516.0, 80516.0, 80516.0, 80516.0, 80516.0, 80516.0, 80516.0, 80516.0, 80516.0, 80516.0, 80516.0, 80516.0, 80516.0, 80516.0, 80516.0, 80516.0, 80516.0, 80516.0, 80516.0, 80516.0, 80516.0, 80516.0, 80516.0, 80516.0, 80516.0, 80516.0, 80516.0, 76258.0, 76258.0, 76258.0, 76258.0, 76258.0, 76258.0, 76258.0, 76258.0, 76258.0, 76258.0, 76258.0, 76258.0, 76258.0, 76258.0, 76258.0, 76258.0, 76258.0, 76258.0, 76258.0, 76258.0, 76258.0, 76258.0, 76258.0, 76258.0, 76258.0, 76258.0, 76258.0, 76258.0, 76258.0, 76258.0, 76258.0, 76258.0, 76258.0, 76258.0, 76258.0, 76258.0, 76258.0, 76258.0, 76258.0, 76258.0, 76258.0, 76258.0, 76258.0, 76258.0, 76258.0, 76258.0, 76258.0, 76258.0, 76258.0, 76258.0, 76258.0, 76258.0, 76258.0, 76258.0, 76258.0, 76258.0, 76258.0, 76258.0, 76258.0, 76258.0, 76258.0, 76258.0, 76258.0, 76258.0, 76258.0, 76258.0, 76258.0, 76258.0, 76258.0, 76258.0, 76258.0, 76258.0, 76258.0, 76258.0, 76258.0, 76258.0, 76258.0, 76258.0, 76258.0, 76258.0, 76258.0, 76258.0, 76258.0, 76258.0, 76258.0, 76258.0, 76258.0, 76258.0, 76258.0, 76258.0, 76258.0, 76258.0, 76258.0, 76258.0, 76258.0, 76258.0, 76258.0, 76258.0, 76258.0, 76258.0, 76258.0, 76258.0, 76258.0, 76258.0, 76258.0, 76258.0, 76258.0, 76258.0, 76258.0, 76258.0, 76258.0, 76258.0, 76258.0, 76258.0, 76258.0, 76258.0, 76258.0, 76258.0, 76258.0, 76258.0, 76258.0, 76258.0, 76258.0, 76258.0, 76258.0, 76258.0, 76258.0, 76258.0, 76258.0, 76258.0, 76258.0, 76258.0, 76258.0, 76258.0, 76258.0, 76258.0, 76258.0, 76258.0, 76258.0, 76258.0, 76258.0, 76258.0, 76258.0, 76258.0, 76258.0, 76258.0, 76258.0, 76258.0, 76258.0, 76258.0, 76258.0, 76258.0, 76258.0, 76258.0, 76258.0, 76258.0, 76258.0, 76258.0, 76258.0, 76258.0, 76258.0, 76258.0, 44626.0, 44626.0, 44626.0, 44626.0, 44626.0, 44626.0, 44626.0, 44626.0, 44626.0, 44626.0, 44626.0, 44626.0, 44626.0, 44626.0, 44626.0, 44626.0, 44626.0, 44626.0, 44626.0, 44626.0, 44876.0, 44876.0, 44876.0, 44876.0, 44876.0, 44876.0, 44876.0, 44876.0, 44876.0, 44876.0, 44876.0, 40313.0, 40313.0, 40313.0, 40313.0, 40313.0, 40313.0, 40313.0, 40313.0, 40313.0, 40313.0, 40313.0, 40313.0, 40313.0, 40313.0, 31969.0, 31969.0, 31969.0, 31969.0, 31969.0, 63878.0, 63878.0, 63878.0, 63878.0, 63878.0, 63878.0, 63878.0, 63878.0, 63878.0, 63878.0, 45745.0, 45745.0, 45745.0, 47066.0, 95435.0, 95435.0, 95435.0, 95435.0, 95435.0, 95435.0, 95435.0, 95435.0, 95435.0, 95435.0, 95435.0, 95435.0, 95435.0, 95435.0, 95435.0, 95435.0, 95435.0, 95435.0, 95435.0, 95435.0, 95435.0, 95435.0, 95435.0, 95435.0, 95435.0, 95435.0, 95435.0, 95435.0, 95435.0, 95435.0, 95435.0, 95435.0, 95435.0, 95435.0, 95435.0, 95435.0, 95435.0, 95435.0, 95435.0, 95435.0, 95435.0, 95435.0, 95435.0, 95435.0, 95435.0, 95435.0, 95435.0, 95435.0, 95435.0, 95435.0, 95435.0, 95435.0, 95435.0, 95435.0, 95435.0, 95435.0, 95435.0, 95435.0, 95435.0, 95435.0, 95435.0, 95435.0, 95435.0, 95435.0, 95435.0, 95435.0, 95435.0, 95435.0, 95435.0, 95435.0, 95435.0, 95435.0, 95435.0, 95435.0, 95435.0, 95435.0, 95435.0, 95435.0, 95435.0, 95435.0, 95435.0, 95435.0, 95435.0, 95435.0, 95435.0, 95435.0, 95435.0, 95435.0, 95435.0, 95435.0, 95435.0, 95435.0, 95435.0, 95435.0, 95435.0, 95435.0, 95435.0, 95435.0, 95435.0, 95435.0, 95435.0, 95435.0, 95435.0, 95435.0, 95435.0, 95435.0, 95435.0, 95435.0, 95435.0, 95435.0, 95435.0, 95435.0, 95435.0, 95435.0, 95435.0, 95435.0, 95435.0, 95435.0, 95435.0, 95435.0, 95435.0, 95435.0, 95435.0, 95435.0, 95435.0, 95435.0, 95435.0, 95435.0, 95435.0, 95435.0, 95435.0, 95435.0, 95435.0, 95435.0, 95435.0, 95435.0, 95435.0, 95435.0, 95435.0, 95435.0, 95435.0, 95435.0, 95435.0, 95435.0, 95435.0, 95435.0, 95435.0, 95435.0, 95435.0, 95435.0, 95435.0, 95435.0, 95435.0, 95435.0, 95435.0, 95435.0, 95435.0, 95435.0, 95435.0, 95435.0, 95435.0, 95435.0, 95435.0, 95435.0, 95435.0, 95435.0, 95435.0, 95435.0, 95435.0, 95435.0, 95435.0, 95435.0, 95435.0, 95435.0, 95435.0, 95435.0, 95435.0, 95435.0, 95435.0, 95435.0, 95435.0, 95435.0, 95435.0, 95435.0, 95435.0, 95435.0, 95435.0, 95435.0, 95435.0, 95435.0, 95435.0, 95435.0, 95435.0, 95435.0, 95435.0, 95435.0, 95435.0, 95435.0, 95435.0, 95435.0, 95435.0, 95435.0, 95435.0, 95435.0, 95435.0, 95435.0, 95435.0, 95435.0, 95435.0, 95435.0, 95435.0, 95435.0, 94857.0, 94857.0, 94857.0, 94857.0, 94857.0, 94857.0, 94857.0, 94857.0, 94857.0, 94857.0, 94857.0, 94857.0, 94857.0, 94857.0, 94857.0, 94857.0, 94857.0, 94857.0, 94857.0, 94857.0, 94857.0, 94857.0, 94857.0, 94857.0, 94857.0, 94857.0, 94857.0, 94857.0, 94857.0, 94857.0, 94857.0, 94857.0, 94857.0, 94857.0, 94857.0, 94857.0, 94857.0, 94857.0, 94857.0, 94857.0, 94857.0, 94857.0, 94857.0, 94857.0, 94857.0, 94857.0, 94857.0, 94857.0, 94857.0, 94857.0, 94857.0, 94857.0, 94857.0, 94857.0, 94857.0, 94857.0, 94857.0, 94857.0, 94857.0, 94857.0, 94857.0, 94857.0, 94857.0, 94857.0, 94857.0, 94857.0, 53556.0, 53556.0, 64079.0, 64079.0, 64079.0, 64079.0, 64079.0, 64079.0, 64079.0, 50855.0, 90625.0, 90625.0, 90625.0, 90625.0, 90625.0, 90625.0, 90625.0, 90625.0, 90625.0, 90625.0, 90625.0, 90625.0, 90625.0, 90625.0, 90625.0, 90625.0, 90625.0, 90625.0, 90625.0, 90625.0, 90625.0, 90625.0, 48449.0, 48449.0, 48449.0, 48449.0, 48449.0, 86241.0, 86241.0, 74746.0, 74746.0, 74746.0, 74746.0, 74746.0, 74746.0, 74746.0, 74746.0, 74746.0, 74746.0, 74746.0, 74746.0, 74746.0, 74746.0, 74746.0, 74746.0, 74746.0, 74746.0, 74746.0, 74746.0, 74746.0, 74746.0, 74746.0, 74746.0, 74746.0, 74746.0, 74746.0, 74746.0, 74746.0, 74746.0, 77058.0, 77058.0, 77058.0, 77058.0, 77058.0, 77058.0, 77058.0, 77058.0, 77058.0, 77058.0, 77058.0, 77058.0, 77058.0, 77058.0, 77058.0, 77058.0, 77058.0, 77058.0, 77058.0, 77058.0, 77058.0, 77058.0, 77058.0, 77058.0, 77058.0, 77058.0, 77058.0, 77058.0, 77058.0, 77058.0, 77058.0, 77058.0, 63692.0, 63692.0, 63692.0, 63692.0, 63692.0, 63692.0, 63692.0, 75237.0, 75237.0, 75237.0, 75237.0, 75237.0, 75237.0, 75237.0, 68877.0, 75474.0, 75474.0, 75474.0, 47219.0, 47219.0, 47219.0, 47219.0, 47219.0, 47219.0, 57887.0, 57887.0, 57887.0, 57887.0, 57887.0, 57887.0, 57887.0, 57887.0, 77948.0, 77948.0, 85868.0, 85868.0, 85868.0, 85868.0, 85868.0, 85868.0, 85868.0, 85868.0, 51698.0, 51698.0, 51698.0, 51698.0, 51698.0, 51698.0, 51698.0, 86582.0, 86582.0, 86582.0, 86582.0, 86582.0, 86582.0, 86582.0, 86582.0, 86582.0, 86582.0, 51163.0, 51163.0, 51163.0, 51163.0, 51163.0, 51163.0, 57276.0, 57276.0, 57276.0, 77038.0, 77038.0, 77506.0, 77506.0, 78688.0, 78688.0, 78688.0, 78688.0, 78688.0, 78688.0, 43275.0, 44074.0, 44074.0, 44074.0, 44288.0, 75507.0, 75507.0, 59102.0, 38042.0, 38042.0, 67260.0, 67260.0, 67260.0, 67260.0, 67260.0, 67260.0, 67260.0, 67260.0, 67260.0, 67260.0, 67260.0, 67260.0, 67260.0, 67260.0, 67260.0, 67260.0, 67260.0, 67260.0, 67260.0, 67260.0, 67260.0, 67260.0, 67260.0, 67260.0, 61667.0, 61667.0, 61667.0, 61667.0, 61667.0, 61667.0, 61667.0, 61667.0, 61667.0, 50778.0, 50778.0, 50778.0, 50778.0, 50778.0, 50778.0, 50778.0, 50778.0, 50778.0, 50778.0, 50778.0, 50778.0, 50778.0, 50778.0, 50778.0, 50778.0, 50778.0, 50778.0, 50778.0, 50778.0, 50778.0, 70364.0, 70364.0, 70364.0, 70364.0, 70364.0, 70364.0, 70364.0, 70364.0, 70364.0, 70364.0, 70364.0, 70364.0, 70364.0, 70364.0, 70364.0, 70364.0, 70364.0, 70364.0, 70364.0, 66839.0, 66839.0, 66839.0, 66839.0, 66839.0, 66839.0, 60047.0, 52017.0, 52017.0, 60391.0, 100224.0, 44259.0, 44259.0, 44259.0, 44259.0, 44259.0, 44259.0, 44259.0, 44259.0, 44259.0, 44259.0, 44259.0, 44259.0, 44259.0, 44259.0, 44259.0, 44259.0, 44259.0, 42327.0, 42327.0, 42327.0, 42327.0, 42327.0, 42327.0, 42327.0, 42327.0, 42327.0, 42327.0, 42327.0, 42327.0, 42327.0, 42327.0, 42327.0, 42327.0, 42327.0, 42327.0, 42327.0, 40984.0, 40984.0, 40984.0, 40984.0, 40984.0, 40984.0, 40984.0, 40984.0, 40984.0, 40984.0, 40984.0, 40984.0, 40984.0, 40984.0, 40984.0, 40984.0, 40984.0, 40984.0, 40984.0, 40984.0, 40984.0, 69502.0, 69502.0, 69502.0, 69502.0, 69502.0, 69502.0, 69502.0, 69502.0, 59437.0, 59437.0, 59437.0, 59437.0, 59437.0, 59437.0, 59437.0, 59437.0, 59437.0, 59437.0, 59437.0, 59437.0, 59437.0, 59437.0, 59437.0, 59437.0, 59437.0, 51485.0, 51485.0, 51485.0, 51485.0, 51485.0, 51485.0, 51317.0, 51317.0, 53145.0, 53145.0, 68478.0, 68478.0, 68478.0, 68478.0, 68478.0, 56662.0, 56662.0, 56662.0, 56662.0, 56662.0, 56662.0, 56662.0, 56662.0, 56662.0, 56662.0, 56662.0, 56662.0, 56662.0, 56662.0, 56662.0, 56662.0, 56662.0, 56662.0, 56662.0, 56662.0, 56662.0, 56662.0, 56662.0, 56662.0, 56662.0, 76184.0, 76184.0, 76184.0, 76184.0, 76184.0, 76184.0, 76184.0, 76184.0, 76184.0, 76184.0, 76184.0, 47987.0, 103048.0, 103048.0, 36737.0], \"type\": \"scatter\", \"mode\": \"markers\"}], {\"yaxis\": {\"title\": \"Time Enrolled\"}, \"xaxis\": {\"title\": \"Median Income\"}, \"title\": \"Median Income vs Time Enrolled\"}, {\"linkText\": \"Export to plot.ly\", \"showLink\": true})});</script>"
      ],
      "text/plain": [
       "<IPython.core.display.HTML object>"
      ]
     },
     "metadata": {},
     "output_type": "display_data"
    }
   ],
   "source": [
    "# Median Income and Time Enrolled\n",
    "\n",
    "trace1 = Scatter(x=studentsshortnew['median_income'],y=studentsshortnew['time_enrolled'], mode='markers')\n",
    "data = [trace1]\n",
    "layout = Layout(xaxis=dict(title = 'Median Income'),\n",
    "                 yaxis=dict(title='Time Enrolled'),\n",
    "                title='Median Income vs Time Enrolled')\n",
    "\n",
    "\n",
    "fig1 = Figure(data=data, layout=layout)\n",
    "iplot(fig1)"
   ]
  },
  {
   "cell_type": "code",
   "execution_count": 56,
   "metadata": {
    "collapsed": false
   },
   "outputs": [
    {
     "data": {
      "text/html": [
       "<div id=\"75f95261-3d1b-4cef-a7cb-c2994377f6f1\" style=\"height: 525px; width: 100%;\" class=\"plotly-graph-div\"></div><script type=\"text/javascript\">require([\"plotly\"], function(Plotly) { window.PLOTLYENV=window.PLOTLYENV || {};window.PLOTLYENV.BASE_URL=\"https://plot.ly\";Plotly.newPlot(\"75f95261-3d1b-4cef-a7cb-c2994377f6f1\", [{\"y\": [90, 85, 83, 234, 23, 98, 327, 878, 557, 241, 469, 445, 82, 598, 77, 207, 148, 148, 149, 229, 232, 140, 147, 41, 47, 57, 205, 225, 59, 54, 522, 161, 426, 263, 264, 187, 272, 271, 76, 113, 142, 167, 351, 86, 31, 51, 27, 74, 38, 17, 212, 609, 40, 53, 41, 119, 107, 85, 109, 98, 240, 23, 464, 41, 229, 68, 133, 97, 101, 424, 12, 210, 453, 12, 13, 193, 53, 263, 416, 348, 552, 84, 13, 1343, 663, 663, 431, 576, 77, 36, 196, 77, 77, 480, 77, 52, 52, 1085, 154, 451, 50, 363, 115, 1285, 146, 59, 18, 160, 175, 267, 117, 111, 118, 82, 615, 77, 343, 236, 224, 221, 425, 103, 80, 108, 457, 440, 616, 616, 398, 279, 137, 173, 105, 87, 87, 104, 399, 249, 66, 87, 48, 305, 77, 337, 305, 161, 378, 448, 537, 433, 1050, 505, 175, 389, 588, 678, 40, 286, 772, 224, 537, 826, 951, 537, 318, 762, 180, 180, 196, 157, 196, 180, 545, 334, 551, 91, 425, 210, 209, 162, 660, 270, 261, 1165, 236, 233, 1363, 1362, 1071, 3, 175, 496, 114, 732, 338, 259, 40, 1188, 155, 395, 159, 150, 678, 679, 34, 37, 961, 114, 126, 126, 426, 340, 116, 232, 231, 25, 324, 62, 827, 574, 623, 392, 392, 1185, 1763, 504, 440, 106, 254, 257, 274, 78, 122, 74, 74, 47, 93, 490, 478, 292, 231, 505, 191, 69, 191, 131, 32, 14, 173, 28, 208, 307, 699, 210, 41, 54, 210, 196, 124, 40, 596, 156, 911, 196, 806, 984, 357, 1088, 18, 805, 574, 714, 441, 13, 30, 77, 538, 21, 261, 84, 88, 112, 1506, 224, 244, 110, 203, 288, 293, 270, 122, 235, 146, 1442, 475, 201, 453, 155, 537, 67, 197, 785, 229, 105, 14, 312, 13, 136, 326, 270, 57, 85, 99, 59, 137, 1267, 113, 182, 141, 401, 651, 786, 34, 821, 173, 357, 134, 53, 196, 152, 31, 197, 312, 697, 697, 212, 709, 210, 105, 68, 260, 881, 504, 842, 140, 139, 455, 290, 546, 637, 546, 42, 160, 112, 558, 1134, 336, 61, 176, 157, 823, 585, 208, 322, 143, 171, 150, 241, 14, 14, 735, 732, 289, 294, 294, 211, 211, 211, 57, 905, 905, 1296, 675, 196, 196, 42, 389, 116, 659, 657, 1049, 1059, 133, 373, 44, 89, 89, 906, 288, 65, 287, 806, 299, 37, 16, 257, 97, 257, 104, 635, 658, 224, 173, 307, 602, 73, 307, 114, 80, 209, 285, 102, 227, 489, 244, 246, 45, 14, 230, 219, 36, 255, 273, 289, 123, 245, 31, 252, 245, 260, 262, 247, 189, 191, 91, 254, 260, 253, 266, 269, 53, 272, 19, 19, 23, 6, 157, 26, 176, 92, 77, 61, 62, 122, 222, 0, 249, 252, 146, 149, 121, 150, 143, 141, 181, 247, 36, 92, 153, 32, 168, 269, 249, 193, 174, 19, 245, 0, 0, 12, 247, 266, 24, 19, 206, 89, 253, 245, 64, 72, 30, 197, 77, 101, 255, 25, 73, 257, 37, 171, 159, 6, 87, 260, 31, 59, 153, 245, 249, 63, 51, 103, 377, 196, 73, 83, 60, 353, 56, 23, 73, 71, 301, 53, 54, 86, 117, 46, 228, 228, 38, 38, 176, 473, 39, 285, 42, 106, 86, 122, 201, 80, 168, 141, 270, 177, 77, 289, 179, 181, 81, 74, 41, 324, 324, 102, 102, 55, 212, 212, 69, 212, 222, 25, 220, 474, 111, 172, 172, 52, 114, 134, 368, 220, 454, 454, 77, 140, 502, 513, 76, 42, 58, 107, 111, 5, 173, 236, 23, 23, 42, 578, 114, 35, 40, 42, 76, 69, 288, 241, 117, 53, 84, 240, 39, 257, 83, 452, 34, 179, 285, 252, 126, 14, 305, 25, 154, 305, 46, 88, 214, 400, 248, 163, 748, 188, 137, 103, 23, 329, 748, 474, 188, 39, 220, 22, 19, 138, 128, 360, 836, 97, 83, 47, 315, 333, 43, 9, 84, 139, 351, 190, 63, 55, 230, 69, 21, 178, 96, 492, 92, 104, 79, 87, 104, 133, 307, 105, 0, 48, 124, 164, 1, 305, 76, 132, 398, 426, 398, 266, 489, 168, 665, 426, 304, 279, 90, 350, 368, 404, 790, 105, 28, 185, 27, 48, 417, 563, 342, 309, 829, 333, 137, 406, 425, 153, 216, 882, 563, 211, 456, 1144, 426, 265, 104, 753, 49, 412, 72, 177, 1033, 629, 66, 570, 48, 45, 55, 188, 174, 135, 265, 19, 87, 142, 110, 111, 184, 110, 81, 267, 267, 134, 122, 107, 23, 212, 9, 7, 172, 172, 13, 242, 50, 297, 261, 293, 292, 27, 29, 83, 128, 238, 38, 46, 57, 273, 216, 240, 316, 140, 358, 50, 50, 167, 273, 43, 730, 371, 178, 625, 56, 261, 328, 195, 157, 28, 406, 381, 301, 144, 129, 175, 169, 93, 84, 112, 406, 500, 157, 485, 97, 112, 169, 485, 211, 132, 24, 98, 281, 69, 7, 16, 328, 350, 283, 339, 318, 515, 275, 357, 197, 616, 57, 45, 45, 535, 177, 49, 58, 106, 106, 266, 263, 539, 539, 96, 305, 169, 75, 413, 45, 45, 107, 30, 613, 698, 52, 699, 473, 913, 1428, 444, 205, 77, 166, 130, 94, 1252, 69, 52, 842, 724, 87, 258, 441, 1372, 30, 86, 87, 83, 385, 82, 78, 45, 1290, 606, 259, 452, 111, 782, 251, 119, 290, 798, 224, 606, 1379, 1670, 598, 346, 157, 231, 462, 612, 1169, 231, 27, 63, 637, 526, 198, 148, 789, 1207, 372, 87, 1025, 126, 271, 1114, 362, 119, 263, 369, 223, 294, 1113, 390, 240, 170, 90, 507, 448, 946, 176, 452, 239, 383, 134, 226, 921, 711, 221, 1347, 906, 16, 343, 85, 86, 247, 53, 23, 28, 28, 35, 37, 35, 17, 149, 25, 24, 25, 119, 57, 115, 212, 101, 137, 133, 70, 137, 178, 140, 116, 84, 193, 187, 184, 176, 270, 796, 249, 798, 796, 99, 804, 585, 56, 254, 568, 15, 363, 269, 101, 69, 122, 124, 98, 177, 523, 316, 35, 23, 313, 184, 163, 11, 110, 175, 553, 476, 561, 136, 314, 309, 12, 77, 70, 42, 43, 116, 170, 1338, 76, 191, 7, 98, 156, 1048, 678, 548, 403, 148, 875, 143, 39, 232, 410, 207, 708, 93, 46, 52, 41, 251, 218, 1086, 264, 78, 980, 321, 200, 30, 528, 30, 48, 91, 9, 543, 848, 48, 92, 823, 233, 11, 108, 902, 827, 337, 357, 458, 58, 493, 121, 55, 82, 208, 232, 951, 228, 255, 49, 231, 373, 377, 154, 141, 160, 85, 364, 78, 79, 364, 364, 64, 69, 43, 171, 175, 15, 44, 80, 30, 189, 230, 30, 287, 30, 589, 215, 130, 149, 142, 29, -102, 224, 199, 1093, 781, 545, 235, 542, 546, 303, 31, 189, 56, 134, 394, 1147, 41, 169, 66, 156, 83, 421, 1274, 176, 39, 382, 999, 81, 364, 343, 988, 447, 36, 413, 356, 189, 259, 312, 20, 211, 50, 712, 220, 211, 211, 959, 1120, 307, 1385, 1385, 260, 650, 732, 663, 261, 362, 116, 86, 457, 19, 135, 55, 100, 226, 40, 37, 141, 159, 132, 228, 39, 77, 1006, 2, 197, 34, 239, 267, 77, 176, 173, 78, 66, 99, 218, 16, 39, 882, 692, 566, 1692, 573, 574, 1455, 114, 1497, 725, 1483, 1677, 303, 62, 743, 419, 133, 535, 1301, 1553, 2338, 544, 174, 699, 484, 1269, 745, 521, 530, 240, 1539, 345, 398, 965, 1212, 91, 2860, 2024, 808, 1985, 699, 848, 1393, 234, 104, 479, 338, 272, 1217, 66, 202, 1122, 390, 390, 457, 80, 624, 138, 2263, 1717, 2623, 444, 689, 2207, 1035, 982, 597, 440, 2695, 503, 1186, 1441, 580, 1374, 720, 1542, 646, 1563, 911, 1449, 100, 1113, 1110, 162, 174, 946, 1028, 479, 348, 19, 359, 148, 1199, 617, 897, 1013, 131, 392, 1213, 197, 1215, 631, 350, 381, 373, 148, 118, 120, 28, 28, 884, 907, 148, 1007, 265, 631, 628, 631, 573, 580, 996, 1896, 2081, 1206, 1973, 393, 410, 663, 879, 1078, 807, 909, 601, 219, 2624, 138, 2501, 1536, 335, 429, 1325, 775, 363, 89, 366, 55, 85, 482, 752, 752, 328, 1322, 356, 359, 1333, 1344, 988, 969, 608, 1692, 1143, 83, 139, 1193, 65, 206, 6, 1323, 545, 311, 496, 84, 1525, 2313, 561, 417, 1190, 601, 601, 377, 734, 288, 469, 1819, 741, 378, 500, 388, 1427, 755, 576, 1760, 2077, 2180, 1710, 1476, 456, 2076, 865, 429, 521, 949, 1657, 834, 132, 834, 402, 315, 671, 345, 657, 734, 650, 651, 41, 508, 227, 450, 497, 23, 1200, 1873, 2635, 638, 20, 846, 366, 1162, 2522, 254, 477, 30, 118, 432, 2006, 2629, 123, 2222, 1725, 314, 38, 1611, 2071, 838, 2067, 402, 2112, 149, 132, 1356, 1766, 1133, 149, 1818, 77, 552, 265, 1321, 370, 2469, 88, 1727, 1307, 2627, 1487, 118, 103, 88, 191, 593, 198, 905, 545, 712, 1094, 541, 593, 34, 122, 23, 791, 107, 193, 358, 1833, 1730, 913, 590, 317, 192, 198, 62, 258, 91, 980, 83, 244, 274, 1983, 1357, 1475, 51, 431, 37, 463, 44, 332, 331, 486, 142, 114, 202, 748, 113, 575, 574, 848, 227, 544, 1290, 1970, 848, 1215, 2728, 267, 747, 377, 626, 997, 656, 561, 2266, 1454, 819, 592, 1099, 818, 51, 1244, 1209, 758, 758, 380, 1605, 343, 99, 46, 653, 215, 198, 721, 553, 1106, 117, 19, 238, 20, 1061, 821, 86, 230, 935, 1884, 399, 164, 65, 730, 282, 552, 527, 414, 28, 1636, 317, 479, 1270, 559, 2031, 1516, 1491, 128, 393, 466, 470, 516, 71, 347, 791, 147, 1047, 513, 223, 748, 114, 512, 111, 348, 114, 48, 105, 5, 201, 837, 257, 44, 134, 153, 501, 274, 1623, 1650, 19, 1631, 215, 312, 1513, 156, 212, 658, 271, 147, 166, 592, 73, 588, 71, 96, 242, 84, 1765, 77, 125, 361, 464, 433, 301, 547, 271, 104, 177, 459, 183, 688, 300, 140, 258, 39, 626, 300, 986, 895, 626, 601, 49, 119, 198, 1405, 461, 169, 1201, 373, 310, 455, 14, 187, 702, 383, 823, 77, 63, 671, 48, 1445, 168, 168, 1332, 499, 329, 139, 334, 139, 334, 15, 111, 775, 167, 395, 359, 926, 2090, 636, 342, 138, 952, 293, 890, 1090, 34, 327, 2357, 1825, 242, 177, 190, 379, 411, 135, 341, 14, 701, 29, 29, 260, 708, 1388, 2537, 250, 213, 1113, 332, 152, 455, 532, 41, 342, 452, 101, 874, 1047, 716, 1141, 450, 60, 298, 297, 523, 266, 14, 379, 239, 546, 164, 160, 323, 546, 197, 547, 322, 211, 64, 322, 1815, 498, 98, 291, 2035, 335, 1726, 979, 311, 1726, 241, 79, 232, 210, 192, 79, 1883, 896, 268, 21, 657, 657, 14, 214, 230, 194, 235, 648, 175, 320, 108, 490, 482, 195, 601, 195, 798, 751, 284, 1203, 83, 170, 1133, 443, 746, 733, 58, 1139, 112, 142, 90, 47, 435, 1134, 991, 189, 342, 170, 28, 180, 133, 370, 260, 420, 907, 392, 367, 1708, 301, 600, 143, 412, 298, 37, 388, 576, 58, 2070, 545, 51, 655, 479, 905, 105, 351, 833, 270, 177, 680, 126, 546, 723, 1367, 622, 329, 34, 1393, 77, 514, 55, 74, 253, 237, 272, 357, 568, 1064, 323, 299, 140, 132, 246, 436, 137, 137, 1738, 13, 171, 63, 532, 512, 179, 97, 173, 437, 228, 1260, 1398, 161, 180, 365, 189, 238, 62, 81, 928, 350, 625, 1271, 1349, 73, 198, 506, 499, 106, 726, 531, 1270, 179, 1491, 272, 764, 161, 609, 200, 163, 808, 442, 525, 981, 889, 547, 889, 547, 403, 183, 504, 151, 28, 151, 440, 970, 99, 184, 1032, 252, 184, 217, 57, 336, 308, 349, 247, 243, 79, 248, 26, 35, 403, 510, 542, 329, 212, 112, 112, 175, 122, 2128, 1219, 516, 118, 367, 192, 189, 311, 14, 168, 77, 124, 235, 90, 148, 517, 58, 217, 211, 85, 260, 148, 24, 518, 50, 51, 514, 28, 429, 250, 75, 25, 67, 149, 353, 182, 168, 237, 245, 123, 329, 861, 502, 118, 689, 664, 67, 63, 101, 467, 469, 101, 8, 107, 51, 758, 357, 405, 940, 775, 143, 163, 455, 75, 549, 409, 124, 58, 104, 87, 329, 106, 152, 243, 243, 250, 121, 265, 76, 343, 228, 59, 12, 76, 128, 464, 64, 89, 25, 15, 59, 15, 166, 179, 211, 209, 23, 500, 30, 252, 39, 365, 77, 57, 240, 48, 48, 318, 26, 60, 26, 457, 60, 470, 32, 20, 206, 14, 93, 136, 37, 75, 149, 213, 88, 142, 350, 75, 57, 209, 334, 107, 75, 105, 100, 100, 42, 524, 76, 214, 85, 47, 149, 362, 515, 46, 16, 133, 341, 426, 112, 175, 232, 177, 30, 483, 100, 53, 305, 138, 145, 19, 108, 266, 334, 89, 534, 238, 318, 295, 53, 11, 224, 88, 220, 76, 99, 91, 124, 48, 46, 98, 45, 303, 98, 29, 231, 450, 393, 14, 14, 14, 21, 20, 46, 133, 159, 73, 419, 420, 43, 273, 108, 335, 20, 20, 18, 407, 152, 49, 479, 173, 90, 211, 67, 252, 39, 137, 116, 58, 27, 18, 56, 56, 238, 119, 56, 41, 31, 349, 399, 417, 60, 604, 603, 123, 123, 25, 110, 58, 176, 372, 70, 316, 67, 596, 63, 377, 78, 90, 378, 90, 70, 33, 71, 166, 91, 321, 44, 289, 34, 151, 266, 35, 61, 37, 18, 524, 172, 121, 37, 346, 370, 373, 21, 165, 161, 21, 119, 14, 212, 21, 334, 3], \"x\": [5.163634413512014, 5.163634413512014, 5.163634413512014, 5.163634413512014, 5.163634413512014, 5.163634413512014, 5.163634413512014, 33.02904906217611, 33.02904906217611, 2.461605106341902, 2.461605106341902, 2.461605106341902, 2.461605106341902, 2.461605106341902, 2.461605106341902, 2.461605106341902, 2.461605106341902, 2.461605106341902, 9.309683410474321, 9.309683410474321, 9.309683410474321, 9.309683410474321, 9.309683410474321, 9.309683410474321, 0.0, 0.0, 0.0, 0.0, 0.0, 0.0, 0.0, 0.0, 0.0, 0.0, 0.0, 0.0, 0.0, 0.0, 0.0, 0.0, 0.0, 0.0, 0.0, 0.0, 0.0, 0.0, 0.0, 0.0, 3.8471104430053007, 3.8471104430053007, 3.8471104430053007, 3.8471104430053007, 7.19789682555519, 7.19789682555519, 7.19789682555519, 7.19789682555519, 7.19789682555519, 7.19789682555519, 7.19789682555519, 7.19789682555519, 1.1123762410312652, 1.1123762410312652, 1.1123762410312652, 1.1123762410312652, 1.1123762410312652, 1.1123762410312652, 1.1123762410312652, 1.1123762410312652, 1.1123762410312652, 27.20873054215671, 10.246772126048356, 2.7262832710673313, 2.7262832710673313, 2.7262832710673313, 2.7262832710673313, 2.7262832710673313, 19.374782985850306, 21.283219947139827, 50.379106157743934, 7.29982533912045, 7.29982533912045, 16.3645406131987, 19.0027552959601, 19.0027552959601, 19.0027552959601, 19.0027552959601, 19.0027552959601, 19.0027552959601, 0.0, 0.0, 0.0, 0.0, 0.0, 0.0, 0.0, 0.0, 0.0, 0.0, 0.0, 0.0, 0.0, 0.0, 0.0, 0.0, 0.0, 0.0, 0.0, 0.0, 0.0, 0, 0, 0, 0, 0, 0, 0, 0, 0, 0, 0, 0, 0, 0, 0, 0, 0, 0, 0, 0, 0, 0, 0, 0, 0, 0, 0, 0, 0, 0, 0, 0, 0, 0, 0, 0, 0, 0, 0, 3.5212436077567197, 3.5212436077567197, 3.5212436077567197, 3.5212436077567197, 3.5212436077567197, 3.5212436077567197, 3.5212436077567197, 3.5212436077567197, 3.5212436077567197, 3.5212436077567197, 3.5212436077567197, 3.5212436077567197, 3.5212436077567197, 3.5212436077567197, 3.5212436077567197, 3.5212436077567197, 3.5212436077567197, 3.5212436077567197, 3.5212436077567197, 3.5212436077567197, 3.5212436077567197, 3.5212436077567197, 3.5212436077567197, 3.5212436077567197, 3.5212436077567197, 9.097063435526312, 9.097063435526312, 9.097063435526312, 9.097063435526312, 9.097063435526312, 9.097063435526312, 9.097063435526312, 9.097063435526312, 9.097063435526312, 9.097063435526312, 9.097063435526312, 9.097063435526312, 9.097063435526312, 9.097063435526312, 9.097063435526312, 9.097063435526312, 9.097063435526312, 9.097063435526312, 9.097063435526312, 9.097063435526312, 5.808242024494186, 5.808242024494186, 5.808242024494186, 5.808242024494186, 5.808242024494186, 5.808242024494186, 5.808242024494186, 5.808242024494186, 5.808242024494186, 5.808242024494186, 5.808242024494186, 5.808242024494186, 5.808242024494186, 5.808242024494186, 5.808242024494186, 5.808242024494186, 5.808242024494186, 5.808242024494186, 5.808242024494186, 5.808242024494186, 5.808242024494186, 5.808242024494186, 5.808242024494186, 5.808242024494186, 5.808242024494186, 5.808242024494186, 5.808242024494186, 5.808242024494186, 5.808242024494186, 5.808242024494186, 5.808242024494186, 5.808242024494186, 5.808242024494186, 5.808242024494186, 5.808242024494186, 8.382525840301684, 8.382525840301684, 8.382525840301684, 8.382525840301684, 8.382525840301684, 15.628802075466192, 15.628802075466192, 2.119342836313438, 2.119342836313438, 2.119342836313438, 2.119342836313438, 2.119342836313438, 2.119342836313438, 2.119342836313438, 2.119342836313438, 2.119342836313438, 2.119342836313438, 2.119342836313438, 2.119342836313438, 2.119342836313438, 2.119342836313438, 2.119342836313438, 2.119342836313438, 2.119342836313438, 2.119342836313438, 2.119342836313438, 2.119342836313438, 2.119342836313438, 2.119342836313438, 2.119342836313438, 2.119342836313438, 2.119342836313438, 2.119342836313438, 2.119342836313438, 2.119342836313438, 2.119342836313438, 2.119342836313438, 2.119342836313438, 2.119342836313438, 2.119342836313438, 2.119342836313438, 2.119342836313438, 2.119342836313438, 2.119342836313438, 2.119342836313438, 2.119342836313438, 2.119342836313438, 2.119342836313438, 2.119342836313438, 2.119342836313438, 2.119342836313438, 2.119342836313438, 4.597961484264902, 4.597961484264902, 4.597961484264902, 4.597961484264902, 4.597961484264902, 4.597961484264902, 4.597961484264902, 4.597961484264902, 4.597961484264902, 4.597961484264902, 4.597961484264902, 4.597961484264902, 4.597961484264902, 4.597961484264902, 4.597961484264902, 4.597961484264902, 4.597961484264902, 4.597961484264902, 4.597961484264902, 4.597961484264902, 3.7400921597014247, 3.7400921597014247, 3.7400921597014247, 3.7400921597014247, 3.7400921597014247, 3.7400921597014247, 3.7400921597014247, 3.7400921597014247, 3.7400921597014247, 3.549261885397986, 3.549261885397986, 3.549261885397986, 3.549261885397986, 3.549261885397986, 3.549261885397986, 3.549261885397986, 7.609920605717573, 7.609920605717573, 7.609920605717573, 7.609920605717573, 7.609920605717573, 7.609920605717573, 7.609920605717573, 7.609920605717573, 7.609920605717573, 7.609920605717573, 7.609920605717573, 7.609920605717573, 7.609920605717573, 7.609920605717573, 7.609920605717573, 7.609920605717573, 7.609920605717573, 7.609920605717573, 7.609920605717573, 7.609920605717573, 7.609920605717573, 7.609920605717573, 7.609920605717573, 7.609920605717573, 7.609920605717573, 7.609920605717573, 7.609920605717573, 7.609920605717573, 7.609920605717573, 7.609920605717573, 7.609920605717573, 7.609920605717573, 7.609920605717573, 7.609920605717573, 7.609920605717573, 9.167964577989112, 8.164646291043788, 8.164646291043788, 8.164646291043788, 8.164646291043788, 8.164646291043788, 8.164646291043788, 8.164646291043788, 8.164646291043788, 8.164646291043788, 8.164646291043788, 8.164646291043788, 8.164646291043788, 8.164646291043788, 8.164646291043788, 2.4076522850299793, 2.4076522850299793, 2.4076522850299793, 2.4076522850299793, 2.4076522850299793, 2.4076522850299793, 2.4076522850299793, 2.4076522850299793, 2.4076522850299793, 2.4076522850299793, 2.4076522850299793, 2.4076522850299793, 2.4076522850299793, 2.4076522850299793, 2.4076522850299793, 2.4076522850299793, 2.4076522850299793, 2.4076522850299793, 2.4076522850299793, 5.3303493670673685, 5.3303493670673685, 5.3303493670673685, 5.3303493670673685, 5.3303493670673685, 5.3303493670673685, 5.3303493670673685, 5.3303493670673685, 5.3303493670673685, 5.3303493670673685, 5.3303493670673685, 5.3303493670673685, 5.3303493670673685, 2.400046946052544, 2.400046946052544, 2.400046946052544, 2.400046946052544, 2.400046946052544, 2.400046946052544, 2.400046946052544, 2.400046946052544, 2.400046946052544, 2.400046946052544, 2.400046946052544, 2.400046946052544, 2.400046946052544, 2.400046946052544, 2.400046946052544, 2.400046946052544, 2.400046946052544, 2.400046946052544, 2.400046946052544, 2.400046946052544, 2.400046946052544, 2.400046946052544, 2.400046946052544, 19.994443644110323, 19.994443644110323, 14.88911492226708, 0.8860270506866595, 0.8860270506866595, 0.8860270506866595, 0.8860270506866595, 0.8860270506866595, 0.8860270506866595, 0.8860270506866595, 0.8860270506866595, 0.8860270506866595, 0.8860270506866595, 0.8860270506866595, 0.8860270506866595, 0.8860270506866595, 0.8860270506866595, 1.4612877203811638, 1.4612877203811638, 1.4612877203811638, 0, 0, 0, 0, 0, 0, 0, 0, 0, 0, 0, 0, 0, 0, 0, 0, 0, 0, 0, 0, 0, 0, 0, 0, 0, 0, 0, 0.7224972150006077, 0.7224972150006077, 0.7224972150006077, 0.7224972150006077, 0.7224972150006077, 0.7224972150006077, 0.7224972150006077, 0.7224972150006077, 0.7224972150006077, 0.7224972150006077, 0.7224972150006077, 0.7224972150006077, 0.7224972150006077, 0.7224972150006077, 0.7224972150006077, 6.021283728041971, 6.021283728041971, 6.021283728041971, 1.3999657994714272, 1.3999657994714272, 1.3999657994714272, 1.3999657994714272, 1.3999657994714272, 1.3999657994714272, 2.1368147575647614, 2.1368147575647614, 2.1368147575647614, 3.256417763227469, 3.256417763227469, 3.256417763227469, 3.4611939533754796, 3.4611939533754796, 3.4611939533754796, 3.4611939533754796, 3.4611939533754796, 1.2270315645078296, 1.2270315645078296, 1.2270315645078296, 1.2270315645078296, 1.2270315645078296, 1.4672034050475802, 2.0435824369666364, 2.0435824369666364, 2.0435824369666364, 2.0435824369666364, 2.087671278553441, 2.087671278553441, 2.087671278553441, 4.591668011068041, 1.7712927709889312, 1.7712927709889312, 7.649146490769298, 7.649146490769298, 7.649146490769298, 7.649146490769298, 7.649146490769298, 7.649146490769298, 7.649146490769298, 7.649146490769298, 7.649146490769298, 7.649146490769298, 7.649146490769298, 7.649146490769298, 7.649146490769298, 7.649146490769298, 7.649146490769298, 7.649146490769298, 7.649146490769298, 7.649146490769298, 7.649146490769298, 7.649146490769298, 7.649146490769298, 7.649146490769298, 7.649146490769298, 0, 0, 0, 0, 0, 0, 0, 0, 0, 0, 0, 0, 0, 0, 0, 0, 0, 0, 0, 0, 0, 0, 0, 0, 0, 0, 0, 0, 0, 0, 0, 0, 0, 0, 0, 0, 0, 0, 0, 0, 0, 0, 0, 0, 0, 0, 0, 0, 7.321988514739526, 7.321988514739526, 7.321988514739526, 7.321988514739526, 7.321988514739526, 7.321988514739526, 7.321988514739526, 7.321988514739526, 7.321988514739526, 7.321988514739526, 7.321988514739526, 7.321988514739526, 7.321988514739526, 7.321988514739526, 7.321988514739526, 7.321988514739526, 7.321988514739526, 7.321988514739526, 7.321988514739526, 7.321988514739526, 7.321988514739526, 7.321988514739526, 12.200329189606647, 11.155130672289072, 34.65892295224383, 1.4527896420940718, 1.4527896420940718, 1.4527896420940718, 1.4527896420940718, 1.4527896420940718, 1.4527896420940718, 1.4527896420940718, 1.4527896420940718, 1.4527896420940718, 1.4527896420940718, 1.4527896420940718, 1.4527896420940718, 1.4527896420940718, 1.4527896420940718, 1.4527896420940718, 1.4527896420940718, 1.4527896420940718, 0, 0, 0, 0, 0, 0, 0, 0, 0, 0, 0, 0, 0, 0, 0, 0, 0, 0, 0, 0, 0, 0, 0, 0, 0, 0, 0, 0, 0, 0, 0, 0, 0, 0, 0, 6.497363473188419, 6.497363473188419, 6.497363473188419, 6.497363473188419, 6.497363473188419, 6.497363473188419, 6.497363473188419, 6.497363473188419, 6.497363473188419, 6.497363473188419, 6.497363473188419, 6.497363473188419, 6.497363473188419, 6.497363473188419, 6.497363473188419, 6.497363473188419, 6.497363473188419, 6.497363473188419, 6.497363473188419, 6.497363473188419, 6.497363473188419, 6.497363473188419, 6.497363473188419, 6.497363473188419, 6.497363473188419, 6.497363473188419, 6.497363473188419, 6.497363473188419, 6.497363473188419, 6.497363473188419, 6.497363473188419, 3.844159296558129, 5.834902888954547, 7.646427899833231, 2.368620970210487, 2.368620970210487, 2.368620970210487, 2.368620970210487, 2.368620970210487, 2.368620970210487, 2.368620970210487, 2.368620970210487, 2.368620970210487, 2.368620970210487, 2.368620970210487, 2.368620970210487, 2.368620970210487, 2.368620970210487, 2.368620970210487, 2.368620970210487, 2.368620970210487, 2.368620970210487, 2.368620970210487, 2.368620970210487, 2.368620970210487, 2.368620970210487, 2.368620970210487, 2.368620970210487, 2.368620970210487, 2.102055271234845, 2.102055271234845, 2.102055271234845, 10.854647915957543, 23.297617769329847, 6.209264627858174, 6.209264627858174, 16.549218795268033, 5.150926634670877, 0, 0, 0, 0, 0, 0, 0, 0, 0, 0, 0, 0, 0, 0, 0, 0, 0, 0, 0, 0, 0, 0, 0, 0, 0, 0, 0, 0, 0, 0, 0, 0, 0, 0, 0, 0, 0, 0, 0, 0, 0, 0, 0, 0, 2.060439956150817, 5.181018002930314, 4.894427727368792, 4.894427727368792, 4.894427727368792, 5.373154478029855, 1.1637477808714287, 1.1637477808714287, 1.1637477808714287, 1.1637477808714287, 1.1637477808714287, 1.1637477808714287, 2.251391769193901, 2.251391769193901, 2.251391769193901, 0, 0, 0, 0, 0, 0, 0, 0, 0, 0, 0, 0, 0, 0, 0, 0, 0, 0, 0, 0, 0, 0, 0, 0, 0, 0, 0, 0, 0, 0, 0, 0, 0, 0, 7.024582244251849, 7.024582244251849, 2.4041089894708407, 2.4041089894708407, 2.4041089894708407, 2.4041089894708407, 2.4041089894708407, 2.4041089894708407, 4.588142626323136, 4.588142626323136, 4.588142626323136, 4.588142626323136, 4.588142626323136, 4.588142626323136, 4.588142626323136, 4.588142626323136, 4.588142626323136, 4.588142626323136, 4.588142626323136, 4.588142626323136, 4.588142626323136, 4.588142626323136, 3.9844660654120685, 3.9844660654120685, 3.457086835668779, 3.042370095984949, 5.276565234246529, 0, 0, 0, 0, 0, 0, 0, 0, 0, 0, 0, 0, 0, 0, 0, 0, 0, 0, 0, 0, 0, 0, 0, 0, 0, 0, 0, 0, 0, 0, 0, 0, 0, 0, 0, 0, 0, 0, 0, 0, 0, 0, 0, 0, 0, 0, 0, 0, 0, 0, 0, 0, 0, 0, 0, 0, 0, 0, 0, 0, 0, 0, 0, 0, 0, 0, 0, 0, 0, 0, 0, 0, 0, 0, 0, 0, 0, 0, 0, 0, 0, 0, 0, 0, 0, 0, 0, 0, 3.074000371435893, 3.074000371435893, 3.074000371435893, 3.074000371435893, 0.26939680270934985, 0.26939680270934985, 0.26939680270934985, 0, 0, 0, 0, 0, 0, 0, 0, 0, 0, 0, 0, 0, 0, 0, 0, 0, 0, 0, 0, 0, 0, 0, 0, 2.9053298621805723, 2.5268278898588257, 2.5268278898588257, 4.849601262826875, 4.849601262826875, 4.849601262826875, 4.849601262826875, 4.849601262826875, 4.849601262826875, 4.849601262826875, 4.849601262826875, 4.849601262826875, 4.849601262826875, 4.849601262826875, 4.849601262826875, 4.849601262826875, 4.849601262826875, 4.849601262826875, 4.849601262826875, 4.849601262826875, 4.849601262826875, 4.849601262826875, 4.849601262826875, 4.849601262826875, 4.849601262826875, 4.849601262826875, 4.849601262826875, 4.849601262826875, 4.849601262826875, 4.849601262826875, 4.849601262826875, 4.849601262826875, 4.849601262826875, 4.849601262826875, 4.849601262826875, 4.849601262826875, 4.849601262826875, 4.849601262826875, 4.849601262826875, 4.849601262826875, 4.849601262826875, 4.849601262826875, 4.849601262826875, 4.849601262826875, 4.849601262826875, 4.849601262826875, 4.849601262826875, 4.849601262826875, 4.849601262826875, 4.849601262826875, 4.849601262826875, 4.849601262826875, 4.849601262826875, 4.849601262826875, 4.849601262826875, 4.849601262826875, 4.849601262826875, 4.849601262826875, 4.849601262826875, 4.849601262826875, 4.849601262826875, 4.849601262826875, 4.849601262826875, 4.849601262826875, 4.849601262826875, 4.849601262826875, 4.849601262826875, 4.849601262826875, 4.849601262826875, 4.849601262826875, 4.849601262826875, 4.849601262826875, 4.849601262826875, 4.849601262826875, 4.849601262826875, 4.849601262826875, 4.849601262826875, 4.849601262826875, 4.849601262826875, 4.849601262826875, 4.849601262826875, 4.849601262826875, 4.849601262826875, 4.849601262826875, 4.849601262826875, 4.849601262826875, 4.849601262826875, 4.849601262826875, 4.849601262826875, 2.3791413413498335, 2.3791413413498335, 2.3791413413498335, 2.3791413413498335, 2.3791413413498335, 2.3791413413498335, 2.3791413413498335, 2.3791413413498335, 2.3791413413498335, 2.3791413413498335, 2.3791413413498335, 2.3791413413498335, 2.3791413413498335, 2.3791413413498335, 2.3791413413498335, 2.3791413413498335, 2.3791413413498335, 2.3791413413498335, 2.3791413413498335, 2.3791413413498335, 2.3791413413498335, 2.3791413413498335, 2.3791413413498335, 2.3791413413498335, 2.3791413413498335, 2.3791413413498335, 2.3791413413498335, 2.3791413413498335, 2.3791413413498335, 2.3791413413498335, 2.3791413413498335, 2.3791413413498335, 2.3791413413498335, 2.3791413413498335, 2.3791413413498335, 2.3791413413498335, 2.3791413413498335, 2.3791413413498335, 2.3791413413498335, 2.3791413413498335, 2.3791413413498335, 2.3791413413498335, 2.3791413413498335, 2.3791413413498335, 2.3791413413498335, 6.957757689856792, 6.957757689856792, 6.957757689856792, 6.957757689856792, 6.957757689856792, 6.957757689856792, 6.957757689856792, 6.957757689856792, 6.957757689856792, 6.957757689856792, 6.957757689856792, 6.957757689856792, 6.957757689856792, 6.957757689856792, 6.957757689856792, 6.957757689856792, 6.957757689856792, 6.957757689856792, 6.957757689856792, 6.957757689856792, 6.957757689856792, 6.957757689856792, 6.957757689856792, 6.957757689856792, 6.957757689856792, 6.957757689856792, 6.957757689856792, 6.957757689856792, 6.957757689856792, 6.957757689856792, 6.957757689856792, 6.957757689856792, 6.957757689856792, 6.957757689856792, 6.957757689856792, 6.957757689856792, 6.957757689856792, 6.957757689856792, 6.957757689856792, 6.957757689856792, 6.957757689856792, 6.957757689856792, 6.957757689856792, 6.957757689856792, 6.957757689856792, 6.957757689856792, 6.957757689856792, 6.957757689856792, 6.957757689856792, 6.957757689856792, 6.957757689856792, 6.957757689856792, 4.584498405939748, 4.584498405939748, 4.584498405939748, 4.584498405939748, 4.584498405939748, 4.584498405939748, 4.584498405939748, 4.584498405939748, 4.584498405939748, 4.584498405939748, 4.584498405939748, 4.584498405939748, 4.584498405939748, 4.584498405939748, 1.7300050884163296, 1.7300050884163296, 1.7300050884163296, 1.7300050884163296, 0, 0, 0, 0, 0, 0, 0, 0, 0, 0, 7.381488890696372, 0.6549404822299775, 0.6549404822299775, 0.6549404822299775, 3.787239642860282, 14.601143552717174, 6.1048374361861075, 9.071599276358722, 9.071599276358722, 9.071599276358722, 6.60190180453719, 17.266074513564913, 17.266074513564913, 8.229098193460112, 2.7722118792738684, 2.7722118792738684, 2.7722118792738684, 2.7722118792738684, 2.7722118792738684, 2.7722118792738684, 2.7722118792738684, 2.7722118792738684, 2.7722118792738684, 2.7722118792738684, 2.7722118792738684, 2.7722118792738684, 2.7722118792738684, 2.7722118792738684, 2.7722118792738684, 2.7722118792738684, 2.7722118792738684, 2.7722118792738684, 2.7722118792738684, 2.7722118792738684, 2.7722118792738684, 2.7722118792738684, 2.7722118792738684, 2.7722118792738684, 2.7722118792738684, 2.7722118792738684, 2.7722118792738684, 2.7722118792738684, 2.7722118792738684, 2.7722118792738684, 2.7722118792738684, 2.7722118792738684, 2.7722118792738684, 2.7722118792738684, 2.7722118792738684, 2.7722118792738684, 2.7722118792738684, 2.7722118792738684, 2.7722118792738684, 2.7722118792738684, 2.7722118792738684, 2.7722118792738684, 2.7722118792738684, 2.7722118792738684, 2.7722118792738684, 2.7722118792738684, 2.7722118792738684, 2.7722118792738684, 2.7722118792738684, 2.7722118792738684, 2.7722118792738684, 2.7722118792738684, 2.7722118792738684, 2.7722118792738684, 2.7722118792738684, 2.7722118792738684, 2.7722118792738684, 2.7722118792738684, 2.7722118792738684, 2.7722118792738684, 2.7722118792738684, 2.7722118792738684, 2.7722118792738684, 2.7722118792738684, 2.7722118792738684, 2.7722118792738684, 2.7722118792738684, 2.7722118792738684, 2.7722118792738684, 2.7722118792738684, 2.7722118792738684, 2.7722118792738684, 2.7722118792738684, 2.7722118792738684, 2.7722118792738684, 2.7722118792738684, 2.7722118792738684, 2.7722118792738684, 3.9590117910580322, 3.9590117910580322, 3.9590117910580322, 3.9590117910580322, 3.9590117910580322, 3.9590117910580322, 3.9590117910580322, 3.9590117910580322, 3.9590117910580322, 3.9590117910580322, 3.9590117910580322, 3.9590117910580322, 3.9590117910580322, 3.9590117910580322, 3.9590117910580322, 3.9590117910580322, 3.9590117910580322, 3.9590117910580322, 3.9590117910580322, 3.9590117910580322, 3.9590117910580322, 3.9590117910580322, 3.9590117910580322, 3.9590117910580322, 3.9590117910580322, 3.9590117910580322, 3.9590117910580322, 3.9590117910580322, 3.9590117910580322, 3.9590117910580322, 3.9590117910580322, 3.9590117910580322, 3.9590117910580322, 3.9590117910580322, 3.9590117910580322, 3.9590117910580322, 3.9590117910580322, 3.9590117910580322, 3.9590117910580322, 2.22096253634113, 2.22096253634113, 2.22096253634113, 2.22096253634113, 2.22096253634113, 2.22096253634113, 2.22096253634113, 2.22096253634113, 2.22096253634113, 2.22096253634113, 2.22096253634113, 2.22096253634113, 2.22096253634113, 2.22096253634113, 2.22096253634113, 2.22096253634113, 2.22096253634113, 2.22096253634113, 2.22096253634113, 2.22096253634113, 2.22096253634113, 2.22096253634113, 2.22096253634113, 2.22096253634113, 2.22096253634113, 2.22096253634113, 2.22096253634113, 2.22096253634113, 2.22096253634113, 2.22096253634113, 2.22096253634113, 2.22096253634113, 2.22096253634113, 2.22096253634113, 2.22096253634113, 2.22096253634113, 2.22096253634113, 2.22096253634113, 2.22096253634113, 2.22096253634113, 2.22096253634113, 2.22096253634113, 2.22096253634113, 2.22096253634113, 2.22096253634113, 2.22096253634113, 2.22096253634113, 2.22096253634113, 2.22096253634113, 2.22096253634113, 2.22096253634113, 2.22096253634113, 2.22096253634113, 2.22096253634113, 2.22096253634113, 2.22096253634113, 2.22096253634113, 2.22096253634113, 2.22096253634113, 2.22096253634113, 2.22096253634113, 2.22096253634113, 2.22096253634113, 2.22096253634113, 2.22096253634113, 2.22096253634113, 2.22096253634113, 2.22096253634113, 2.22096253634113, 2.22096253634113, 2.22096253634113, 2.22096253634113, 2.22096253634113, 2.22096253634113, 2.22096253634113, 2.22096253634113, 2.22096253634113, 2.22096253634113, 2.22096253634113, 2.22096253634113, 2.22096253634113, 2.22096253634113, 2.22096253634113, 2.22096253634113, 2.22096253634113, 2.22096253634113, 2.22096253634113, 2.22096253634113, 2.22096253634113, 2.22096253634113, 2.22096253634113, 2.22096253634113, 2.22096253634113, 2.22096253634113, 2.22096253634113, 2.22096253634113, 2.22096253634113, 2.22096253634113, 2.22096253634113, 2.22096253634113, 2.22096253634113, 2.22096253634113, 2.22096253634113, 2.22096253634113, 2.22096253634113, 2.22096253634113, 2.22096253634113, 2.22096253634113, 2.22096253634113, 2.22096253634113, 2.22096253634113, 2.22096253634113, 2.22096253634113, 2.22096253634113, 2.22096253634113, 2.22096253634113, 2.22096253634113, 2.22096253634113, 2.22096253634113, 2.22096253634113, 2.22096253634113, 2.22096253634113, 2.22096253634113, 2.22096253634113, 2.22096253634113, 2.22096253634113, 2.22096253634113, 2.22096253634113, 2.22096253634113, 2.22096253634113, 2.22096253634113, 2.22096253634113, 2.22096253634113, 2.22096253634113, 2.22096253634113, 2.22096253634113, 2.22096253634113, 2.22096253634113, 2.22096253634113, 2.22096253634113, 2.22096253634113, 2.22096253634113, 2.22096253634113, 2.22096253634113, 2.22096253634113, 2.22096253634113, 2.22096253634113, 2.22096253634113, 2.22096253634113, 2.22096253634113, 2.22096253634113, 2.22096253634113, 2.22096253634113, 2.22096253634113, 2.22096253634113, 2.22096253634113, 2.22096253634113, 2.22096253634113, 2.22096253634113, 2.22096253634113, 2.22096253634113, 2.22096253634113, 0, 0, 0, 0, 0, 0, 0, 0, 0, 0, 0, 0, 0, 0, 0, 0, 0, 0, 0, 0, 2.9028098044206962, 2.9028098044206962, 2.9028098044206962, 2.9028098044206962, 2.9028098044206962, 2.9028098044206962, 2.9028098044206962, 2.9028098044206962, 2.9028098044206962, 2.9028098044206962, 2.9028098044206962, 1.9118497197188316, 1.9118497197188316, 1.9118497197188316, 1.9118497197188316, 1.9118497197188316, 1.9118497197188316, 1.9118497197188316, 1.9118497197188316, 1.9118497197188316, 1.9118497197188316, 1.9118497197188316, 1.9118497197188316, 1.9118497197188316, 1.9118497197188316, 4.294864121822446, 4.294864121822446, 4.294864121822446, 4.294864121822446, 4.294864121822446, 9.28231826479185, 9.28231826479185, 9.28231826479185, 9.28231826479185, 9.28231826479185, 9.28231826479185, 9.28231826479185, 9.28231826479185, 9.28231826479185, 9.28231826479185, 7.632575518036324, 7.632575518036324, 7.632575518036324, 3.3051139329447303, 0, 0, 0, 0, 0, 0, 0, 0, 0, 0, 0, 0, 0, 0, 0, 0, 0, 0, 0, 0, 0, 0, 0, 0, 0, 0, 0, 0, 0, 0, 0, 0, 0, 0, 0, 0, 0, 0, 0, 0, 0, 0, 0, 0, 0, 0, 0, 0, 0, 0, 0, 0, 0, 0, 0, 0, 0, 0, 0, 0, 0, 0, 0, 0, 0, 0, 0, 0, 0, 0, 0, 0, 0, 0, 0, 0, 0, 0, 0, 0, 0, 0, 0, 0, 0, 0, 0, 0, 0, 0, 0, 0, 0, 0, 0, 0, 0, 0, 0, 0, 0, 0, 0, 0, 0, 0, 0, 0, 0, 0, 0, 0, 0, 0, 0, 0, 0, 0, 0, 0, 0, 0, 0, 0, 0, 0, 0, 0, 0, 0, 0, 0, 0, 0, 0, 0, 0, 0, 0, 0, 0, 0, 0, 0, 0, 0, 0, 0, 0, 0, 0, 0, 0, 0, 0, 0, 0, 0, 0, 0, 0, 0, 0, 0, 0, 0, 0, 0, 0, 0, 0, 0, 0, 0, 0, 0, 0, 0, 0, 0, 0, 0, 0, 0, 0, 0, 0, 0, 0, 0, 0, 0, 0, 0, 0, 0, 0, 0, 0, 0, 0, 0, 0, 0, 0, 0, 0, 0, 0, 0, 0, 0, 2.664309169161786, 2.664309169161786, 2.664309169161786, 2.664309169161786, 2.664309169161786, 2.664309169161786, 2.664309169161786, 2.664309169161786, 2.664309169161786, 2.664309169161786, 2.664309169161786, 2.664309169161786, 2.664309169161786, 2.664309169161786, 2.664309169161786, 2.664309169161786, 2.664309169161786, 2.664309169161786, 2.664309169161786, 2.664309169161786, 2.664309169161786, 2.664309169161786, 2.664309169161786, 2.664309169161786, 2.664309169161786, 2.664309169161786, 2.664309169161786, 2.664309169161786, 2.664309169161786, 2.664309169161786, 2.664309169161786, 2.664309169161786, 2.664309169161786, 2.664309169161786, 2.664309169161786, 2.664309169161786, 2.664309169161786, 2.664309169161786, 2.664309169161786, 2.664309169161786, 2.664309169161786, 2.664309169161786, 2.664309169161786, 2.664309169161786, 2.664309169161786, 2.664309169161786, 2.664309169161786, 2.664309169161786, 2.664309169161786, 2.664309169161786, 2.664309169161786, 2.664309169161786, 2.664309169161786, 2.664309169161786, 2.664309169161786, 2.664309169161786, 2.664309169161786, 2.664309169161786, 2.664309169161786, 2.664309169161786, 2.664309169161786, 2.664309169161786, 2.664309169161786, 2.664309169161786, 2.664309169161786, 2.664309169161786, 5.791969708034264, 5.791969708034264, 3.1478762167723136, 3.1478762167723136, 3.1478762167723136, 3.1478762167723136, 3.1478762167723136, 3.1478762167723136, 3.1478762167723136, 5.367984159537702, 2.684265023522854, 2.684265023522854, 2.684265023522854, 2.684265023522854, 2.684265023522854, 2.684265023522854, 2.684265023522854, 2.684265023522854, 2.684265023522854, 2.684265023522854, 2.684265023522854, 2.684265023522854, 2.684265023522854, 2.684265023522854, 2.684265023522854, 2.684265023522854, 2.684265023522854, 2.684265023522854, 2.684265023522854, 2.684265023522854, 2.684265023522854, 2.684265023522854, 5.038927013833408, 5.038927013833408, 5.038927013833408, 5.038927013833408, 5.038927013833408, 5.306552765541542, 5.306552765541542, 4.2595455643444495, 4.2595455643444495, 4.2595455643444495, 4.2595455643444495, 4.2595455643444495, 4.2595455643444495, 4.2595455643444495, 4.2595455643444495, 4.2595455643444495, 4.2595455643444495, 4.2595455643444495, 4.2595455643444495, 4.2595455643444495, 4.2595455643444495, 4.2595455643444495, 4.2595455643444495, 4.2595455643444495, 4.2595455643444495, 4.2595455643444495, 4.2595455643444495, 4.2595455643444495, 4.2595455643444495, 4.2595455643444495, 4.2595455643444495, 4.2595455643444495, 4.2595455643444495, 4.2595455643444495, 4.2595455643444495, 4.2595455643444495, 4.2595455643444495, 2.8171551396203656, 2.8171551396203656, 2.8171551396203656, 2.8171551396203656, 2.8171551396203656, 2.8171551396203656, 2.8171551396203656, 2.8171551396203656, 2.8171551396203656, 2.8171551396203656, 2.8171551396203656, 2.8171551396203656, 2.8171551396203656, 2.8171551396203656, 2.8171551396203656, 2.8171551396203656, 2.8171551396203656, 2.8171551396203656, 2.8171551396203656, 2.8171551396203656, 2.8171551396203656, 2.8171551396203656, 2.8171551396203656, 2.8171551396203656, 2.8171551396203656, 2.8171551396203656, 2.8171551396203656, 2.8171551396203656, 2.8171551396203656, 2.8171551396203656, 2.8171551396203656, 2.8171551396203656, 7.610839086381289, 7.610839086381289, 7.610839086381289, 7.610839086381289, 7.610839086381289, 7.610839086381289, 7.610839086381289, 4.928110005845623, 4.928110005845623, 4.928110005845623, 4.928110005845623, 4.928110005845623, 4.928110005845623, 4.928110005845623, 8.40586203747773, 5.594409505107132, 5.594409505107132, 5.594409505107132, 4.12178520990463, 4.12178520990463, 4.12178520990463, 4.12178520990463, 4.12178520990463, 4.12178520990463, 4.9051639445698285, 4.9051639445698285, 4.9051639445698285, 4.9051639445698285, 4.9051639445698285, 4.9051639445698285, 4.9051639445698285, 4.9051639445698285, 9.532180763575537, 5.0365621800259515, 4.563465016909729, 4.563465016909729, 4.563465016909729, 4.563465016909729, 4.563465016909729, 4.563465016909729, 4.563465016909729, 4.563465016909729, 10.728716042758931, 10.728716042758931, 3.1951201472189306, 3.1951201472189306, 3.1951201472189306, 3.1951201472189306, 3.1951201472189306, 11.096987988177027, 11.096987988177027, 11.096987988177027, 2.799166561939063, 2.799166561939063, 2.799166561939063, 2.799166561939063, 2.799166561939063, 2.799166561939063, 2.799166561939063, 7.017053026124393, 7.017053026124393, 7.017053026124393, 7.017053026124393, 7.017053026124393, 7.017053026124393, 9.680341319329633, 9.680341319329633, 9.680341319329633, 5.653788657737764, 5.653788657737764, 6.280340491020733, 6.280340491020733, 4.137497408196655, 4.137497408196655, 4.137497408196655, 4.137497408196655, 4.137497408196655, 4.137497408196655, 12.456403021197428, 7.88499079560241, 7.88499079560241, 7.88499079560241, 8.742548901656646, 6.701024734979493, 6.701024734979493, 10.584535347587513, 3.31059581723108, 3.31059581723108, 11.02552525048623, 1.1235964280093906, 1.1235964280093906, 1.1235964280093906, 1.1235964280093906, 1.1235964280093906, 1.1235964280093906, 1.1235964280093906, 1.1235964280093906, 1.1235964280093906, 1.1235964280093906, 1.1235964280093906, 1.1235964280093906, 1.1235964280093906, 1.1235964280093906, 1.1235964280093906, 1.1235964280093906, 1.1235964280093906, 1.1235964280093906, 1.1235964280093906, 1.1235964280093906, 1.1235964280093906, 1.1235964280093906, 1.1235964280093906, 1.9407630952558774, 1.9407630952558774, 1.9407630952558774, 1.9407630952558774, 1.9407630952558774, 1.9407630952558774, 1.9407630952558774, 1.9407630952558774, 1.9407630952558774, 0, 0, 0, 0, 0, 0, 0, 0, 0, 0, 0, 0, 0, 0, 0, 0, 0, 0, 0, 0, 0, 2.2459621168817923, 2.2459621168817923, 2.2459621168817923, 2.2459621168817923, 2.2459621168817923, 2.2459621168817923, 2.2459621168817923, 2.2459621168817923, 2.2459621168817923, 2.2459621168817923, 2.2459621168817923, 2.2459621168817923, 2.2459621168817923, 2.2459621168817923, 2.2459621168817923, 2.2459621168817923, 2.2459621168817923, 2.2459621168817923, 2.2459621168817923, 2.9961742168498215, 2.9961742168498215, 2.9961742168498215, 2.9961742168498215, 2.9961742168498215, 2.9961742168498215, 7.9706534994812674, 3.4519111100843003, 3.4519111100843003, 6.312367306677842, 13.216010914544952, 6.443482319872692, 6.443482319872692, 6.443482319872692, 6.443482319872692, 6.443482319872692, 6.443482319872692, 6.443482319872692, 6.443482319872692, 6.443482319872692, 6.443482319872692, 6.443482319872692, 6.443482319872692, 6.443482319872692, 6.443482319872692, 6.443482319872692, 6.443482319872692, 6.443482319872692, 8.474196059744001, 8.474196059744001, 8.474196059744001, 8.474196059744001, 8.474196059744001, 8.474196059744001, 8.474196059744001, 8.474196059744001, 8.474196059744001, 8.474196059744001, 8.474196059744001, 8.474196059744001, 8.474196059744001, 8.474196059744001, 8.474196059744001, 8.474196059744001, 8.474196059744001, 8.474196059744001, 8.474196059744001, 0, 0, 0, 0, 0, 0, 0, 0, 0, 0, 0, 0, 0, 0, 0, 0, 0, 0, 0, 0, 0, 9.185071849444565, 9.185071849444565, 9.185071849444565, 9.185071849444565, 9.185071849444565, 9.185071849444565, 9.185071849444565, 9.185071849444565, 3.6619383899417826, 3.6619383899417826, 3.6619383899417826, 3.6619383899417826, 3.6619383899417826, 3.6619383899417826, 3.6619383899417826, 3.6619383899417826, 3.6619383899417826, 3.6619383899417826, 3.6619383899417826, 3.6619383899417826, 3.6619383899417826, 3.6619383899417826, 3.6619383899417826, 3.6619383899417826, 3.6619383899417826, 3.5996955509623403, 3.5996955509623403, 3.5996955509623403, 3.5996955509623403, 3.5996955509623403, 3.5996955509623403, 31.011863201870156, 31.011863201870156, 18.71984460092482, 18.71984460092482, 3.04776502151772, 3.04776502151772, 3.04776502151772, 3.04776502151772, 3.04776502151772, 0, 0, 0, 0, 0, 0, 0, 0, 0, 0, 0, 0, 0, 0, 0, 0, 0, 0, 0, 0, 0, 0, 0, 0, 0, 3.9649116949961978, 3.9649116949961978, 3.9649116949961978, 3.9649116949961978, 3.9649116949961978, 3.9649116949961978, 3.9649116949961978, 3.9649116949961978, 3.9649116949961978, 3.9649116949961978, 3.9649116949961978, 15.69908952908239, 15.2797616022975, 15.2797616022975, 15.874138035265506], \"type\": \"scatter\", \"mode\": \"markers\"}], {\"yaxis\": {\"title\": \"Time Enrolled\"}, \"xaxis\": {\"title\": \"Distance\"}, \"title\": \"Distance vs Time Enrolled\"}, {\"linkText\": \"Export to plot.ly\", \"showLink\": true})});</script>"
      ],
      "text/plain": [
       "<IPython.core.display.HTML object>"
      ]
     },
     "metadata": {},
     "output_type": "display_data"
    }
   ],
   "source": [
    "# Distance and Time Enrolled\n",
    "\n",
    "trace1 = Scatter(x=studentsshortnew['dist'],y=studentsshortnew['time_enrolled'], mode='markers')\n",
    "data = [trace1]\n",
    "layout = Layout(xaxis=dict(title = 'Distance'),\n",
    "                 yaxis=dict(title='Time Enrolled'),\n",
    "                title='Distance vs Time Enrolled')\n",
    "\n",
    "\n",
    "fig1 = Figure(data=data, layout=layout)\n",
    "iplot(fig1)"
   ]
  },
  {
   "cell_type": "code",
   "execution_count": 58,
   "metadata": {
    "collapsed": false
   },
   "outputs": [
    {
     "data": {
      "text/html": [
       "<div id=\"c8148d61-9d63-46eb-bebc-252bafcb5bc7\" style=\"height: 525px; width: 100%;\" class=\"plotly-graph-div\"></div><script type=\"text/javascript\">require([\"plotly\"], function(Plotly) { window.PLOTLYENV=window.PLOTLYENV || {};window.PLOTLYENV.BASE_URL=\"https://plot.ly\";Plotly.newPlot(\"c8148d61-9d63-46eb-bebc-252bafcb5bc7\", [{\"y\": [90, 241, 85, 83, 149, 47, 57, 205, 225, 234, 469, 38, 23, 445, 82, 59, 54, 206, 17, 40, 240, 522, 15, 98, 161, 426, 23, 392, 263, 264, 424, 53, 41, 598, 139, 212, 77, 241, 160, 464, 12, 18, 41, 187, 210, 229, 272, 207, 68, 53, 453, 271, 133, 119, 107, 416, 348, 76, 229, 232, 97, 113, 142, 167, 12, 13, 140, 147, 101, 351, 327, 86, 85, 84, 609, 109, 98, 31, 552, 148, 148, 51, 27, 74, 41, 193, 77, 537, 433, 878, 334, 732, 338, 74, 557, 47, 88, 36, 259, 74, 93, 196, 197, 49, 1050, 505, 77, 77, 785, 480, 77, 263, 270, 229, 52, 40, 113, 52, 182, 112, 57, 418, 141, 42, 1332, 1188, 175, 1085, 389, 490, 478, 588, 154, 160, 551, 150, 42, 678, 40, 241, 155, 13, 292, 231, 1506, 1343, 451, 224, 288, 65, 85, 50, 401, 91, 395, 287, 159, 389, 363, 651, 150, 112, 150, 116, 115, 806, 663, 299, 678, 231, 663, 679, 244, 425, 1285, 505, 146, 99, 659, 657, 786, 191, 59, 59, 69, 110, 286, 34, 18, 821, 191, 173, 1049, 772, 160, 175, 1059, 203, 357, 14, 77, 224, 37, 14, 131, 134, 210, 32, 53, 209, 334, 288, 558, 267, 14, 34, 173, 1134, 37, 133, 336, 735, 117, 732, 293, 162, 111, 961, 105, 537, 61, 114, 176, 826, 28, 951, 537, 118, 82, 208, 318, 615, 157, 77, 343, 236, 660, 270, 270, 137, 122, 224, 235, 261, 221, 1165, 762, 289, 126, 425, 16, 103, 294, 126, 180, 426, 294, 180, 146, 236, 307, 80, 257, 196, 1340, 699, 210, 340, 116, 233, 1363, 97, 257, 108, 104, 1342, 823, 1442, 14, 457, 440, 616, 1362, 41, 54, 616, 475, 635, 210, 658, 137, 152, 1071, 31, 3, 196, 398, 585, 279, 137, 197, 173, 175, 312, 224, 373, 232, 124, 231, 105, 173, 40, 431, 208, 322, 143, 87, 25, 697, 312, 697, 87, 324, 62, 104, 827, 399, 574, 201, 596, 623, 156, 496, 13, 453, 576, 911, 212, 1267, 392, 136, 392, 709, 102, 227, 210, 196, 806, 105, 1185, 211, 984, 211, 68, 114, 171, 211, 249, 307, 44, 155, 357, 602, 57, 1088, 73, 307, 89, 196, 489, 89, 114, 905, 157, 56, 59, 905, 18, 805, 574, 66, 260, 881, 196, 714, 441, 326, 504, 842, 13, 187, 87, 1763, 1296, 180, 80, 545, 209, 30, 77, 675, 538, 504, 48, 537, 305, 140, 139, 77, 337, 305, 161, 440, 455, 378, 21, 261, 448, 290, 67, 546, 637, 196, 713, 546, 285, 84, 196, 106, 906, 245, 247, 189, 146, 149, 191, 91, 254, 193, 174, 245, 24, 244, 246, 89, 253, 245, 121, 64, 72, 254, 260, 150, 143, 141, 260, 101, 30, 253, 266, 19, 37, 255, 25, 269, 53, 73, 257, 181, 247, 45, 14, 230, 219, 206, 36, 272, 19, 19, 23, 183, 36, 6, 257, 274, 171, 159, 157, 30, 26, 176, 155, 262, 92, 77, 61, 260, 255, 273, 62, 197, 77, 289, 92, 153, 32, 31, 168, 153, 122, 245, 249, 222, 269, 123, 6, 245, 19, 0, 0, 0, 249, 59, 87, 249, 252, 31, 252, 78, 122, 12, 247, 266, 236, 63, 176, 51, 473, 103, 39, 76, 285, 42, 42, 106, 58, 84, 86, 107, 111, 122, 201, 80, 168, 141, 270, 177, 377, 77, 196, 73, 289, 83, 179, 181, 60, 81, 74, 41, 324, 324, 102, 102, 5, 91, 173, 236, 353, 23, 23, 117, 42, 56, 578, 114, 55, 23, 212, 212, 69, 212, 212, 222, 25, 35, 73, 71, 220, 240, 474, 40, 42, 111, 76, 172, 172, 301, 52, 69, 114, 288, 241, 134, 39, 368, 117, 220, 53, 54, 86, 117, 454, 454, 77, 140, 46, 128, 116, 228, 228, 53, 502, 513, 38, 38, 257, 248, 178, 368, 96, 492, 163, 748, 404, 790, 105, 188, 28, 92, 104, 49, 79, 87, 137, 104, 133, 307, 185, 27, 412, 103, 83, 105, 23, 329, 48, 748, 452, 0, 474, 417, 563, 342, 188, 309, 34, 829, 179, 39, 48, 333, 124, 72, 137, 406, 220, 22, 425, 19, 138, 249, 285, 128, 164, 252, 1, 360, 126, 14, 836, 97, 83, 305, 305, 25, 154, 47, 153, 76, 216, 882, 315, 563, 333, 43, 9, 132, 84, 139, 351, 398, 426, 177, 398, 266, 489, 168, 190, 665, 426, 305, 1033, 211, 63, 629, 456, 570, 1144, 426, 304, 46, 265, 55, 230, 279, 48, 90, 104, 88, 350, 69, 214, 21, 400, 753, 66, 45, 140, 55, 188, 174, 135, 265, 19, 87, 142, 110, 111, 184, 110, 358, 50, 50, 81, 204, 267, 267, 134, 122, 107, 23, 273, 212, 9, 7, 172, 172, 13, 242, 50, 241, 297, 261, 293, 292, 167, 27, 35, 29, 83, 128, 238, 38, 46, 57, 273, 216, 240, 316, 43, 261, 730, 157, 28, 406, 381, 301, 144, 129, 175, 169, 93, 84, 275, 371, 197, 112, 328, 177, 49, 58, 406, 500, 91, 616, 106, 106, 157, 57, 195, 485, 97, 112, 169, 45, 485, 45, 266, 263, 107, 211, 539, 539, 132, 24, 98, 281, 69, 96, 7, 16, 328, 350, 30, 305, 178, 625, 283, 169, 339, 318, 45, 45, 515, 535, 357, 75, 613, 56, 413, 397, 86, 7, 558, 603, 698, 52, 188, 699, 322, 158, 473, 913, 552, 1428, 223, 59, 444, 318, 205, 77, 166, 381, 130, 59, 315, 94, 1252, 69, 132, 1449, 1449, 192, 1347, 378, 248, 906, 52, 248, 73, 689, 33, 301, 83, 298, 842, 724, 1245, 545, 87, 814, 258, 75, 815, 7, 141, 426, 1801, 441, 89, 1372, 21, 42, 139, 65, 30, 121, 63, 70, 39, 464, 86, 85, 87, 215, 83, 385, 82, 619, 78, 45, 48, 286, 1155, 319, 1290, 606, 259, 452, 111, 168, 782, 531, 251, 166, 119, 290, 798, 224, 606, 1379, 821, 119, 459, 1670, 31, 331, 598, 181, 346, 542, 293, 157, 14, 231, 462, 612, 150, 1169, 231, 206, 27, 85, 183, 839, 498, 115, 682, 323, 151, 90, 120, 440, 16, 256, 236, 973, 149, 401, 63, 371, 908, 913, 45, 637, 526, 198, 148, 155, 343, 789, 427, 172, 51, 1207, 372, 87, 175, 1025, 760, 759, 329, 592, 196, 126, 271, 1114, 362, 119, 149, 263, 122, 369, 1033, 223, 294, 1113, 1315, 994, 178, 753, 390, 210, 240, 86, 170, 55, 90, 507, 636, 126, 448, 142, 745, 946, 176, 452, 74, 81, 136, 239, 1120, 1347, 383, 119, 84, 110, 134, 325, 268, 84, 326, 14, 226, 247, 205, 921, 711, 221, 53, 23, 28, 28, 35, 37, 35, 17, 149, 25, 24, 25, 119, 57, 115, 212, 101, 84, 137, 133, 70, 137, 193, 178, 140, 116, 187, 184, 233, 589, 176, 270, 11, 796, 108, 249, 215, 130, 33, 149, 798, 796, 1120, 142, 99, 804, 307, 34, 902, 29, 585, 56, 135, 254, 568, 827, 337, 15, 363, 269, 357, -102, 101, 458, 224, 69, 58, 493, 199, 122, 124, 1093, 1385, 121, 40, 781, 1385, 98, 545, 177, 55, 235, 82, 208, 523, 542, 210, 316, 35, 23, 546, 130, 313, 184, 163, 303, 31, 11, 232, 197, 110, 34, 175, 553, 189, 951, 476, 561, 56, 136, 34, 134, 228, 314, 394, 309, 1147, 41, 12, 37, 141, 77, 77, 70, 42, 255, 169, 49, 43, 231, 373, 116, 170, 260, 220, 1338, 66, 159, 76, 191, 7, 377, 98, 156, 83, 156, 154, 421, 141, 1048, 1274, 678, 160, 176, 132, 548, 403, 39, 228, 39, 85, 382, 364, 78, 79, 148, 875, 143, 39, 232, 364, 77, 410, 207, 364, 708, 176, 64, 93, 999, 69, 46, 52, 1006, 43, 41, 650, 732, 171, 81, 55, 336, 175, 251, 173, 663, 364, 15, 343, 44, 2, 988, 239, 218, 447, 80, 267, 36, 1086, 78, 264, 105, 78, 980, 321, 197, 261, 100, 362, 66, 116, 30, 189, 230, 197, 30, 86, 200, 226, 413, 287, 30, 218, 457, 356, 99, 19, 16, 30, 189, 39, 528, 259, 30, 48, 312, 91, 9, 543, 20, 211, 848, 48, 92, 50, 712, 220, 211, 211, 959, 823, 692, 1449, 573, 566, 100, 546, 1267, 580, 1692, 547, 105, 996, 1896, 573, 2081, 243, 1113, 1206, 1973, 574, 1110, 164, 1455, 114, 393, 410, 791, 107, 1497, 663, 679, 1475, 202, 879, 1078, 807, 909, 601, 219, 193, 2624, 748, 138, 244, 725, 1352, 275, 2501, 1536, 1483, 1677, 335, 429, 358, 1325, 162, 146, 303, 775, 174, 51, 1833, 363, 62, 89, 366, 946, 55, 85, 431, 1028, 479, 482, 348, 743, 752, 419, 133, 1402, 535, 752, 37, 1730, 121, 1301, 1553, 2338, 636, 544, 913, 121, 590, 174, 328, 317, 174, 1322, 356, 463, 359, 258, 1333, 477, 1344, 699, 988, 113, 126, 969, 608, 484, 575, 1692, 574, 747, 45, 1269, 192, 1143, 198, 83, 62, 745, 139, 44, 332, 1193, 65, 230, 331, 93, 206, 258, 561, 324, 6, 2266, 1323, 545, 311, 496, 84, 1525, 363, 2313, 521, 530, 561, 240, 417, 1190, 848, 19, 359, 148, 1199, 617, 1454, 897, 601, 601, 1666, 1539, 1013, 267, 377, 267, 734, 288, 345, 469, 91, 819, 464, 398, 758, 592, 1099, 1819, 454, 443, 965, 758, 741, 378, 1212, 500, 818, 388, 131, 1427, 91, 103, 755, 576, 1760, 2077, 2180, 1710, 1476, 568, 456, 2860, 2076, 2024, 808, 980, 227, 865, 429, 521, 392, 949, 1985, 1657, 699, 834, 848, 713, 713, 132, 834, 402, 315, 1213, 107, 197, 671, 1215, 345, 342, 1393, 657, 234, 631, 734, 104, 650, 651, 41, 479, 83, 244, 508, 76, 227, 350, 261, 384, 380, 450, 381, 373, 338, 368, 272, 274, 1605, 148, 388, 1217, 321, 497, 377, 733, 761, 626, 997, 23, 656, 1200, 763, 1873, 66, 2635, 638, 20, 846, 366, 1162, 202, 1122, 1983, 390, 393, 2522, 254, 393, 477, 390, 30, 118, 432, 2006, 457, 2629, 118, 544, 123, 1290, 80, 2222, 624, 1357, 138, 1725, 2263, 314, 380, 486, 1970, 874, 1717, 38, 1611, 120, 2071, 2623, 838, 444, 51, 211, 689, 2207, 1035, 982, 2067, 597, 440, 28, 147, 959, 402, 2695, 28, 314, 503, 1088, 848, 2112, 884, 149, 907, 148, 132, 1356, 233, 1007, 1766, 1133, 363, 1186, 265, 1215, 149, 1818, 941, 142, 631, 77, 552, 265, 628, 772, 1321, 1441, 580, 1374, 370, 720, 2728, 2469, 1542, 631, 88, 1727, 646, 1307, 2627, 1487, 118, 1563, 911, 103, 88, 790, 267, 1642, 1244, 2207, 688, 191, 593, 198, 905, 545, 1209, 114, 712, 1094, 541, 593, 34, 122, 23, 287, 343, 1249, 99, 46, 653, 2772, 338, 1114, 215, 198, 721, 335, 553, 1106, 1726, 315, 412, 973, 40, 979, 37, 226, 311, 117, 323, 1726, 19, 238, 655, 479, 20, 161, 241, 1061, 821, 905, 272, 86, 230, 1716, 193, 373, 935, 450, 40, 299, 105, 1884, 132, 73, 399, 198, 246, 443, 180, 164, 99, 65, 730, 282, 552, 436, 178, 527, 414, 245, 79, 506, 54, 1460, 499, 28, 106, 388, 232, 336, 351, 210, 357, 192, 1636, 317, 568, 479, 1270, 559, 26, 2031, 1516, 450, 35, 726, 137, 531, 833, 1065, 1064, 79, 1270, 137, 179, 1738, 270, 1491, 128, 131, 393, 466, 470, 1491, 132, 516, 71, 177, 542, 347, 122, 791, 116, 311, 2128, 147, 598, 1047, 179, 513, 13, 223, 748, 1883, 114, 272, 512, 171, 111, 348, 308, 63, 896, 114, 48, 349, 268, 105, 207, 51, 168, 77, 5, 51, 217, 211, 201, 837, 257, 85, 298, 764, 532, 124, 1132, 213, 590, 1012, 44, 134, 424, 153, 501, 423, 170, 274, 21, 1623, 1650, 329, 181, 1219, 358, 281, 50, 19, 51, 516, 29, 1631, 657, 215, 312, 353, 261, 1513, 512, 657, 156, 212, 14, 182, 161, 149, 184, 214, 609, 680, 658, 230, 271, 200, 147, 194, 329, 403, 235, 118, 220, 126, 166, 510, 592, 73, 588, 71, 96, 195, 294, 648, 242, 84, 1765, 664, 986, 802, 1473, 546, 1640, 77, 355, 125, 361, 603, 323, 243, 464, 660, 660, 433, 301, 175, 723, 547, 201, 1032, 44, 305, 271, 212, 104, 224, 343, 350, 1205, 177, 320, 40, 63, 459, 108, 183, 688, 490, 300, 140, 1367, 163, 482, 258, 39, 626, 300, 986, 895, 622, 626, 329, 601, 168, 49, 195, 601, 119, 864, 195, 198, 249, 107, 176, 865, 34, 181, 179, 872, 170, 323, 1405, 461, 169, 1201, 798, 1428, 51, 751, 237, 245, 120, 97, 373, 173, 310, 455, 14, 187, 702, 383, 823, 454, 454, 77, 100, 63, 671, 48, 399, 745, 1445, 459, 882, 104, 252, 1393, 405, 184, 350, 574, 574, 81, 525, 889, 808, 284, 142, 1203, 168, 168, 83, 185, 940, 1332, 225, 86, 209, 247, 499, 170, 329, 1133, 243, 443, 139, 54, 688, 133, 437, 746, 334, 139, 334, 235, 334, 15, 77, 90, 143, 148, 733, 111, 61, 228, 1274, 275, 63, 64, 63, 442, 426, 105, 123, 775, 525, 167, 395, 22, 378, 359, 514, 1461, 161, 350, 58, 419, 1260, 241, 350, 861, 1598, 775, 1398, 926, 2090, 285, 161, 332, 180, 1139, 112, 8, 142, 90, 502, 295, 47, 636, 118, 342, 217, 218, 138, 367, 435, 1134, 365, 952, 574, 189, 293, 758, 36, 163, 689, 890, 1090, 296, 34, 327, 560, 67, 2357, 238, 357, 62, 517, 1825, 242, 991, 833, 189, 177, 190, 81, 379, 411, 79, 981, 135, 341, 53, 14, 455, 701, 29, 29, 260, 576, 342, 708, 170, 28, 247, 58, 112, 928, 180, 1388, 112, 2537, 250, 2070, 75, 133, 545, 350, 546, 434, 1269, 625, 175, 213, 370, 44, 1113, 514, 260, 332, 35, 608, 227, 152, 455, 680, 55, 74, 532, 180, 41, 202, 390, 343, 889, 202, 342, 350, 420, 907, 253, 547, 889, 392, 107, 452, 374, 547, 367, 248, 42, 58, 101, 140, 101, 874, 1708, 1047, 403, 716, 1141, 90, 183, 450, 60, 354, 298, 297, 135, 523, 1330, 127, 301, 266, 940, 600, 813, 63, 192, 467, 143, 14, 59, 1271, 379, 239, 189, 1349, 469, 51, 504, 546, 114, 339, 164, 237, 160, 105, 323, 520, 101, 546, 155, 197, 600, 212, 547, 89, 57, 322, 56, 151, 8, 211, 39, 28, 64, 322, 1680, 151, 1721, 306, 1607, 440, 1815, 498, 1881, 98, 291, 970, 889, 2035, 1501, 89, 23, 85, 14, 549, 409, 93, 42, 500, 30, 25, 252, 15, 59, 524, 15, 124, 58, 28, 104, 166, 136, 87, 329, 106, 179, 39, 365, 37, 7, 152, 76, 243, 77, 57, 211, 243, 240, 260, 214, 250, 48, 121, 148, 149, 48, 85, 75, 265, 149, 76, 343, 213, 88, 429, 24, 250, 142, 47, 318, 350, 26, 362, 75, 89, 46, 228, 57, 59, 60, 209, 26, 14, 515, 89, 12, 75, 518, 76, 457, 334, 60, 107, 75, 128, 25, 470, 209, 105, 464, 32, 67, 20, 100, 149, 100, 64, 16, 206, 16, 133, 334, 303, 89, 20, 497, 98, 20, 29, 90, 18, 56, 63, 53, 349, 341, 211, 67, 252, 231, 39, 534, 407, 152, 137, 450, 393, 14, 123, 14, 14, 116, 171, 21, 238, 252, 49, 426, 318, 399, 112, 58, 27, 20, 417, 18, 295, 53, 175, 11, 56, 116, 56, 46, 119, 119, 232, 238, 60, 133, 177, 30, 224, 483, 479, 119, 18, 159, 88, 406, 220, 73, 76, 56, 197, 419, 32, 173, 420, 99, 100, 123, 53, 604, 305, 91, 603, 235, 124, 41, 227, 138, 174, 127, 145, 43, 48, 19, 46, 165, 31, 108, 273, 108, 98, 25, 110, 91, 45, 266, 335, 58, 67, 121, 596, 63, 377, 78, 90, 378, 90, 37, 70, 346, 33, 71, 370, 176, 166, 91, 372, 212, 321, 70, 44, 289, 373, 34, 21, 151, 165, 362, 316, 161, 266, 35, 21, 61, 21, 119, 37, 334, 18, 14, 3, 524, 172], \"x\": [\"Windsor\", \"Windsor\", \"Windsor\", \"Windsor\", \"Windsor\", \"Windsor\", \"Windsor\", \"Windsor\", \"Windsor\", \"Windsor\", \"Windsor\", \"Windsor\", \"Windsor\", \"Windsor\", \"Windsor\", \"Windsor\", \"Windsor\", \"Windsor\", \"Windsor\", \"Windsor\", \"Windsor\", \"Windsor\", \"Windsor\", \"Windsor\", \"Windsor\", \"Windsor\", \"Windsor\", \"Windsor\", \"Windsor\", \"Windsor\", \"Windsor\", \"Windsor\", \"Windsor\", \"Windsor\", \"Windsor\", \"Windsor\", \"Windsor\", \"Windsor\", \"Windsor\", \"Windsor\", \"Windsor\", \"Windsor\", \"Windsor\", \"Windsor\", \"Windsor\", \"Windsor\", \"Windsor\", \"Windsor\", \"Windsor\", \"Windsor\", \"Windsor\", \"Windsor\", \"Windsor\", \"Windsor\", \"Windsor\", \"Windsor\", \"Windsor\", \"Windsor\", \"Windsor\", \"Windsor\", \"Windsor\", \"Windsor\", \"Windsor\", \"Windsor\", \"Windsor\", \"Windsor\", \"Windsor\", \"Windsor\", \"Windsor\", \"Windsor\", \"Windsor\", \"Windsor\", \"Windsor\", \"Windsor\", \"Windsor\", \"Windsor\", \"Windsor\", \"Windsor\", \"Windsor\", \"Windsor\", \"Windsor\", \"Windsor\", \"Windsor\", \"Windsor\", \"Windsor\", \"Windsor\", \"San Rafael\", \"San Rafael\", \"San Rafael\", \"San Rafael\", \"San Rafael\", \"San Rafael\", \"San Rafael\", \"San Rafael\", \"San Rafael\", \"San Rafael\", \"San Rafael\", \"San Rafael\", \"San Rafael\", \"San Rafael\", \"San Rafael\", \"San Rafael\", \"San Rafael\", \"San Rafael\", \"San Rafael\", \"San Rafael\", \"San Rafael\", \"San Rafael\", \"San Rafael\", \"San Rafael\", \"San Rafael\", \"San Rafael\", \"San Rafael\", \"San Rafael\", \"San Rafael\", \"San Rafael\", \"San Rafael\", \"San Rafael\", \"San Rafael\", \"San Rafael\", \"San Rafael\", \"San Rafael\", \"San Rafael\", \"San Rafael\", \"San Rafael\", \"San Rafael\", \"San Rafael\", \"San Rafael\", \"San Rafael\", \"San Rafael\", \"San Rafael\", \"San Rafael\", \"San Rafael\", \"San Rafael\", \"San Rafael\", \"San Rafael\", \"San Rafael\", \"San Rafael\", \"San Rafael\", \"San Rafael\", \"San Rafael\", \"San Rafael\", \"San Rafael\", \"San Rafael\", \"San Rafael\", \"San Rafael\", \"San Rafael\", \"San Rafael\", \"San Rafael\", \"San Rafael\", \"San Rafael\", \"San Rafael\", \"San Rafael\", \"San Rafael\", \"San Rafael\", \"San Rafael\", \"San Rafael\", \"San Rafael\", \"San Rafael\", \"San Rafael\", \"San Rafael\", \"San Rafael\", \"San Rafael\", \"San Rafael\", \"San Rafael\", \"San Rafael\", \"San Rafael\", \"San Rafael\", \"San Rafael\", \"San Rafael\", \"San Rafael\", \"San Rafael\", \"San Rafael\", \"San Rafael\", \"San Rafael\", \"San Rafael\", \"San Rafael\", \"San Rafael\", \"San Rafael\", \"San Rafael\", \"San Rafael\", \"San Rafael\", \"San Rafael\", \"San Rafael\", \"San Rafael\", \"San Rafael\", \"San Rafael\", \"San Rafael\", \"San Rafael\", \"San Rafael\", \"San Rafael\", \"San Rafael\", \"San Rafael\", \"San Rafael\", \"San Rafael\", \"San Rafael\", \"San Rafael\", \"San Rafael\", \"San Rafael\", \"San Rafael\", \"San Rafael\", \"San Rafael\", \"San Rafael\", \"San Rafael\", \"San Rafael\", \"San Rafael\", \"San Rafael\", \"San Rafael\", \"San Rafael\", \"San Rafael\", \"San Rafael\", \"San Rafael\", \"San Rafael\", \"San Rafael\", \"San Rafael\", \"San Rafael\", \"San Rafael\", \"San Rafael\", \"San Rafael\", \"San Rafael\", \"San Rafael\", \"San Rafael\", \"San Rafael\", \"San Rafael\", \"San Rafael\", \"San Rafael\", \"San Rafael\", \"San Rafael\", \"San Rafael\", \"San Rafael\", \"San Rafael\", \"San Rafael\", \"San Rafael\", \"San Rafael\", \"San Rafael\", \"San Rafael\", \"San Rafael\", \"San Rafael\", \"San Rafael\", \"San Rafael\", \"San Rafael\", \"San Rafael\", \"San Rafael\", \"San Rafael\", \"San Rafael\", \"San Rafael\", \"San Rafael\", \"San Rafael\", \"San Rafael\", \"San Rafael\", \"San Rafael\", \"San Rafael\", \"San Rafael\", \"San Rafael\", \"San Rafael\", \"San Rafael\", \"San Rafael\", \"San Rafael\", \"San Rafael\", \"San Rafael\", \"San Rafael\", \"San Rafael\", \"San Rafael\", \"San Rafael\", \"San Rafael\", \"San Rafael\", \"San Rafael\", \"San Rafael\", \"San Rafael\", \"San Rafael\", \"San Rafael\", \"San Rafael\", \"San Rafael\", \"San Rafael\", \"San Rafael\", \"San Rafael\", \"San Rafael\", \"San Rafael\", \"San Rafael\", \"San Rafael\", \"San Rafael\", \"San Rafael\", \"San Rafael\", \"San Rafael\", \"San Rafael\", \"San Rafael\", \"San Rafael\", \"San Rafael\", \"San Rafael\", \"San Rafael\", \"San Rafael\", \"San Rafael\", \"San Rafael\", \"San Rafael\", \"San Rafael\", \"San Rafael\", \"San Rafael\", \"San Rafael\", \"San Rafael\", \"San Rafael\", \"San Rafael\", \"San Rafael\", \"San Rafael\", \"San Rafael\", \"San Rafael\", \"San Rafael\", \"San Rafael\", \"San Rafael\", \"San Rafael\", \"San Rafael\", \"San Rafael\", \"San Rafael\", \"San Rafael\", \"San Rafael\", \"San Rafael\", \"San Rafael\", \"San Rafael\", \"San Rafael\", \"San Rafael\", \"San Rafael\", \"San Rafael\", \"San Rafael\", \"San Rafael\", \"San Rafael\", \"San Rafael\", \"San Rafael\", \"San Rafael\", \"San Rafael\", \"San Rafael\", \"San Rafael\", \"San Rafael\", \"San Rafael\", \"San Rafael\", \"San Rafael\", \"San Rafael\", \"San Rafael\", \"San Rafael\", \"San Rafael\", \"San Rafael\", \"San Rafael\", \"San Rafael\", \"San Rafael\", \"San Rafael\", \"San Rafael\", \"San Rafael\", \"San Rafael\", \"San Rafael\", \"San Rafael\", \"San Rafael\", \"San Rafael\", \"San Rafael\", \"San Rafael\", \"San Rafael\", \"San Rafael\", \"San Rafael\", \"San Rafael\", \"San Rafael\", \"San Rafael\", \"San Rafael\", \"San Rafael\", \"San Rafael\", \"San Rafael\", \"San Rafael\", \"San Rafael\", \"San Rafael\", \"San Rafael\", \"San Rafael\", \"San Rafael\", \"San Rafael\", \"San Rafael\", \"San Rafael\", \"San Rafael\", \"San Rafael\", \"San Rafael\", \"San Rafael\", \"San Rafael\", \"San Rafael\", \"San Rafael\", \"San Rafael\", \"San Rafael\", \"San Rafael\", \"San Rafael\", \"San Rafael\", \"San Rafael\", \"San Rafael\", \"San Rafael\", \"San Rafael\", \"San Rafael\", \"San Rafael\", \"San Rafael\", \"San Rafael\", \"San Rafael\", \"San Rafael\", \"San Rafael\", \"San Rafael\", \"San Rafael\", \"San Rafael\", \"San Rafael\", \"San Rafael\", \"San Rafael\", \"San Rafael\", \"San Rafael\", \"San Rafael\", \"San Rafael\", \"San Rafael\", \"San Rafael\", \"San Rafael\", \"San Rafael\", \"San Rafael\", \"San Rafael\", \"San Rafael\", \"San Rafael\", \"San Rafael\", \"San Rafael\", \"San Rafael\", \"San Rafael\", \"San Rafael\", \"San Rafael\", \"San Rafael\", \"San Rafael\", \"San Rafael\", \"San Rafael\", \"San Rafael\", \"San Rafael\", \"San Rafael\", \"San Rafael\", \"San Rafael\", \"San Rafael\", \"San Rafael\", \"San Rafael\", \"San Rafael\", \"San Rafael\", \"San Rafael\", \"San Rafael\", \"San Rafael\", \"San Rafael\", \"San Rafael\", \"San Rafael\", \"San Rafael\", \"San Rafael\", \"San Francisco\", \"San Francisco\", \"San Francisco\", \"San Francisco\", \"San Francisco\", \"San Francisco\", \"San Francisco\", \"San Francisco\", \"San Francisco\", \"San Francisco\", \"San Francisco\", \"San Francisco\", \"San Francisco\", \"San Francisco\", \"San Francisco\", \"San Francisco\", \"San Francisco\", \"San Francisco\", \"San Francisco\", \"San Francisco\", \"San Francisco\", \"San Francisco\", \"San Francisco\", \"San Francisco\", \"San Francisco\", \"San Francisco\", \"San Francisco\", \"San Francisco\", \"San Francisco\", \"San Francisco\", \"San Francisco\", \"San Francisco\", \"San Francisco\", \"San Francisco\", \"San Francisco\", \"San Francisco\", \"San Francisco\", \"San Francisco\", \"San Francisco\", \"San Francisco\", \"San Francisco\", \"San Francisco\", \"San Francisco\", \"San Francisco\", \"San Francisco\", \"San Francisco\", \"San Francisco\", \"San Francisco\", \"San Francisco\", \"San Francisco\", \"San Francisco\", \"San Francisco\", \"San Francisco\", \"San Francisco\", \"San Francisco\", \"San Francisco\", \"San Francisco\", \"San Francisco\", \"San Francisco\", \"San Francisco\", \"San Francisco\", \"San Francisco\", \"San Francisco\", \"San Francisco\", \"San Francisco\", \"San Francisco\", \"San Francisco\", \"San Francisco\", \"San Francisco\", \"San Francisco\", \"San Francisco\", \"San Francisco\", \"San Francisco\", \"San Francisco\", \"San Francisco\", \"San Francisco\", \"San Francisco\", \"San Francisco\", \"San Francisco\", \"San Francisco\", \"San Francisco\", \"San Francisco\", \"San Francisco\", \"San Francisco\", \"San Francisco\", \"San Francisco\", \"San Francisco\", \"San Francisco\", \"San Francisco\", \"San Francisco\", \"San Francisco\", \"San Francisco\", \"San Francisco\", \"San Francisco\", \"San Francisco\", \"San Francisco\", \"San Francisco\", \"San Francisco\", \"San Francisco\", \"San Francisco\", \"San Francisco\", \"San Francisco\", \"San Francisco\", \"Fairfield\", \"Fairfield\", \"Fairfield\", \"Fairfield\", \"Fairfield\", \"Fairfield\", \"Fairfield\", \"Fairfield\", \"Fairfield\", \"Fairfield\", \"Fairfield\", \"Fairfield\", \"Fairfield\", \"Fairfield\", \"Fairfield\", \"Fairfield\", \"Fairfield\", \"Fairfield\", \"Fairfield\", \"Fairfield\", \"Fairfield\", \"Fairfield\", \"Fairfield\", \"Fairfield\", \"Fairfield\", \"Fairfield\", \"Fairfield\", \"Fairfield\", \"Fairfield\", \"Fairfield\", \"Fairfield\", \"Fairfield\", \"Fairfield\", \"Fairfield\", \"Fairfield\", \"Fairfield\", \"Fairfield\", \"Fairfield\", \"Fairfield\", \"Fairfield\", \"Fairfield\", \"Fairfield\", \"Fairfield\", \"Fairfield\", \"Fairfield\", \"Fairfield\", \"Fairfield\", \"Fairfield\", \"Fairfield\", \"Fairfield\", \"Fairfield\", \"Fairfield\", \"Fairfield\", \"Fairfield\", \"Fairfield\", \"Fairfield\", \"Fairfield\", \"Fairfield\", \"Fairfield\", \"Fairfield\", \"Fairfield\", \"Fairfield\", \"Fairfield\", \"Fairfield\", \"Fairfield\", \"Fairfield\", \"Fairfield\", \"Fairfield\", \"Fairfield\", \"Fairfield\", \"Fairfield\", \"Fairfield\", \"Fairfield\", \"Fairfield\", \"Fairfield\", \"Fairfield\", \"Fairfield\", \"Fairfield\", \"Fairfield\", \"Fairfield\", \"Fairfield\", \"Fairfield\", \"Fairfield\", \"Fairfield\", \"Fairfield\", \"Fairfield\", \"Fairfield\", \"Fairfield\", \"Fairfield\", \"Fairfield\", \"Fairfield\", \"Fairfield\", \"Fairfield\", \"Fairfield\", \"Fairfield\", \"Fairfield\", \"Fairfield\", \"Fairfield\", \"Fairfield\", \"Fairfield\", \"Fairfield\", \"Fairfield\", \"Concord\", \"Concord\", \"Concord\", \"Concord\", \"Concord\", \"Concord\", \"Concord\", \"Concord\", \"Concord\", \"Concord\", \"Concord\", \"Concord\", \"Concord\", \"Concord\", \"Concord\", \"Concord\", \"Concord\", \"Concord\", \"Concord\", \"Concord\", \"Concord\", \"Concord\", \"Concord\", \"Concord\", \"Concord\", \"Concord\", \"Concord\", \"Concord\", \"Concord\", \"Concord\", \"Concord\", \"Concord\", \"Concord\", \"Concord\", \"Concord\", \"Concord\", \"Concord\", \"Concord\", \"Concord\", \"Concord\", \"Concord\", \"Concord\", \"Concord\", \"Concord\", \"Concord\", \"Concord\", \"Concord\", \"Concord\", \"Concord\", \"Concord\", \"Concord\", \"Concord\", \"Concord\", \"Concord\", \"Concord\", \"Concord\", \"Concord\", \"Concord\", \"Concord\", \"Concord\", \"Concord\", \"Concord\", \"Concord\", \"Concord\", \"Concord\", \"Concord\", \"Concord\", \"Concord\", \"Concord\", \"Concord\", \"Concord\", \"Concord\", \"Concord\", \"Concord\", \"Concord\", \"Concord\", \"Concord\", \"Concord\", \"Concord\", \"Concord\", \"Concord\", \"Concord\", \"Concord\", \"Concord\", \"Concord\", \"Concord\", \"Concord\", \"Concord\", \"Concord\", \"Concord\", \"Concord\", \"Concord\", \"Concord\", \"Concord\", \"Concord\", \"Concord\", \"Concord\", \"Concord\", \"Concord\", \"Concord\", \"Concord\", \"Concord\", \"Concord\", \"Concord\", \"Concord\", \"Concord\", \"Concord\", \"Concord\", \"Concord\", \"Concord\", \"Concord\", \"Concord\", \"Concord\", \"Concord\", \"Concord\", \"Concord\", \"Concord\", \"Concord\", \"Concord\", \"Concord\", \"Concord\", \"Santa Clara\", \"Santa Clara\", \"Santa Clara\", \"Santa Clara\", \"Santa Clara\", \"Santa Clara\", \"Santa Clara\", \"Santa Clara\", \"Santa Clara\", \"Santa Clara\", \"Santa Clara\", \"Santa Clara\", \"Santa Clara\", \"Santa Clara\", \"Santa Clara\", \"Santa Clara\", \"Santa Clara\", \"Santa Clara\", \"Santa Clara\", \"Santa Clara\", \"Santa Clara\", \"Santa Clara\", \"Santa Clara\", \"Santa Clara\", \"Santa Clara\", \"Santa Clara\", \"Santa Clara\", \"Santa Clara\", \"Santa Clara\", \"Santa Clara\", \"Santa Clara\", \"Santa Clara\", \"Santa Clara\", \"Santa Clara\", \"Santa Clara\", \"Santa Clara\", \"Santa Clara\", \"Santa Clara\", \"Santa Clara\", \"Santa Clara\", \"Santa Clara\", \"Santa Clara\", \"Santa Clara\", \"Santa Clara\", \"Santa Clara\", \"Santa Clara\", \"Santa Clara\", \"Santa Clara\", \"Santa Clara\", \"Santa Clara\", \"Santa Clara\", \"Santa Clara\", \"Santa Clara\", \"Torrance\", \"Torrance\", \"Torrance\", \"Torrance\", \"Torrance\", \"Torrance\", \"Torrance\", \"Torrance\", \"Torrance\", \"Torrance\", \"Torrance\", \"Torrance\", \"Torrance\", \"Torrance\", \"Torrance\", \"Torrance\", \"Torrance\", \"Torrance\", \"Torrance\", \"Torrance\", \"Torrance\", \"Torrance\", \"Torrance\", \"Torrance\", \"Torrance\", \"Torrance\", \"Torrance\", \"Torrance\", \"Torrance\", \"Torrance\", \"Torrance\", \"Torrance\", \"Torrance\", \"Torrance\", \"Torrance\", \"Torrance\", \"Torrance\", \"Torrance\", \"Torrance\", \"Torrance\", \"Torrance\", \"Torrance\", \"Torrance\", \"Torrance\", \"Torrance\", \"Torrance\", \"Torrance\", \"Torrance\", \"Torrance\", \"Torrance\", \"Torrance\", \"Torrance\", \"Torrance\", \"Torrance\", \"Torrance\", \"Torrance\", \"Torrance\", \"Torrance\", \"Torrance\", \"Torrance\", \"Torrance\", \"Torrance\", \"Torrance\", \"Torrance\", \"Torrance\", \"Torrance\", \"Torrance\", \"Torrance\", \"Torrance\", \"Torrance\", \"Torrance\", \"San Jose\", \"San Jose\", \"San Jose\", \"San Jose\", \"San Jose\", \"San Jose\", \"San Jose\", \"San Jose\", \"San Jose\", \"San Jose\", \"San Jose\", \"San Jose\", \"San Jose\", \"San Jose\", \"San Jose\", \"San Jose\", \"San Jose\", \"San Jose\", \"San Jose\", \"San Jose\", \"San Jose\", \"San Jose\", \"San Jose\", \"San Jose\", \"San Jose\", \"San Jose\", \"San Jose\", \"San Jose\", \"San Jose\", \"San Jose\", \"San Jose\", \"San Jose\", \"San Jose\", \"San Jose\", \"San Jose\", \"San Jose\", \"San Jose\", \"San Jose\", \"San Jose\", \"San Jose\", \"San Jose\", \"San Jose\", \"San Jose\", \"San Jose\", \"San Jose\", \"San Jose\", \"San Jose\", \"San Jose\", \"San Jose\", \"San Jose\", \"San Jose\", \"San Jose\", \"San Jose\", \"San Jose\", \"San Jose\", \"San Jose\", \"San Jose\", \"San Jose\", \"San Jose\", \"San Jose\", \"San Jose\", \"San Jose\", \"San Jose\", \"San Jose\", \"San Jose\", \"San Jose\", \"San Jose\", \"San Jose\", \"San Jose\", \"San Jose\", \"San Jose\", \"San Jose\", \"San Jose\", \"San Jose\", \"San Jose\", \"San Jose\", \"San Jose\", \"San Jose\", \"San Jose\", \"San Jose\", \"San Jose\", \"San Jose\", \"San Jose\", \"San Jose\", \"San Jose\", \"San Jose\", \"San Jose\", \"San Jose\", \"San Jose\", \"San Jose\", \"San Jose\", \"San Jose\", \"San Jose\", \"San Jose\", \"San Jose\", \"San Jose\", \"San Jose\", \"San Jose\", \"San Jose\", \"San Jose\", \"San Jose\", \"San Jose\", \"San Jose\", \"San Jose\", \"San Jose\", \"San Jose\", \"San Jose\", \"San Jose\", \"San Jose\", \"San Jose\", \"San Jose\", \"San Jose\", \"San Jose\", \"San Jose\", \"San Jose\", \"San Jose\", \"San Jose\", \"San Jose\", \"San Jose\", \"San Jose\", \"San Jose\", \"San Jose\", \"San Jose\", \"San Jose\", \"San Jose\", \"San Jose\", \"San Jose\", \"San Jose\", \"San Jose\", \"San Jose\", \"San Jose\", \"San Jose\", \"San Jose\", \"San Jose\", \"San Jose\", \"San Jose\", \"San Jose\", \"San Jose\", \"San Jose\", \"San Jose\", \"San Jose\", \"San Jose\", \"San Jose\", \"San Jose\", \"San Jose\", \"San Jose\", \"San Jose\", \"San Jose\", \"San Jose\", \"San Jose\", \"San Jose\", \"San Jose\", \"San Jose\", \"San Jose\", \"San Jose\", \"San Jose\", \"San Jose\", \"San Jose\", \"San Jose\", \"San Jose\", \"San Jose\", \"San Jose\", \"San Jose\", \"San Jose\", \"San Jose\", \"San Jose\", \"San Jose\", \"San Jose\", \"San Jose\", \"San Jose\", \"San Jose\", \"San Jose\", \"San Jose\", \"San Jose\", \"San Jose\", \"San Jose\", \"San Jose\", \"San Jose\", \"San Jose\", \"San Jose\", \"San Jose\", \"San Jose\", \"San Jose\", \"San Jose\", \"San Jose\", \"San Jose\", \"San Jose\", \"San Jose\", \"San Jose\", \"San Jose\", \"San Jose\", \"San Jose\", \"San Jose\", \"San Jose\", \"San Jose\", \"San Jose\", \"San Jose\", \"San Jose\", \"San Jose\", \"San Jose\", \"San Jose\", \"San Jose\", \"San Jose\", \"San Jose\", \"San Jose\", \"San Jose\", \"San Jose\", \"San Jose\", \"San Jose\", \"San Jose\", \"San Jose\", \"San Jose\", \"San Jose\", \"San Jose\", \"San Jose\", \"San Jose\", \"San Jose\", \"San Jose\", \"San Jose\", \"San Clemente\", \"San Clemente\", \"San Clemente\", \"San Clemente\", \"San Clemente\", \"San Clemente\", \"San Clemente\", \"San Clemente\", \"San Clemente\", \"San Clemente\", \"San Clemente\", \"San Clemente\", \"San Clemente\", \"San Clemente\", \"San Clemente\", \"San Clemente\", \"San Clemente\", \"San Clemente\", \"San Clemente\", \"San Clemente\", \"San Clemente\", \"San Clemente\", \"San Clemente\", \"San Clemente\", \"San Clemente\", \"San Clemente\", \"San Clemente\", \"Mission Viejo\", \"Mission Viejo\", \"Mission Viejo\", \"Mission Viejo\", \"Mission Viejo\", \"Mission Viejo\", \"Mission Viejo\", \"Mission Viejo\", \"Mission Viejo\", \"Mission Viejo\", \"Mission Viejo\", \"Mission Viejo\", \"Mission Viejo\", \"Mission Viejo\", \"Mission Viejo\", \"Mission Viejo\", \"Mission Viejo\", \"Mission Viejo\", \"Mission Viejo\", \"Mission Viejo\", \"Mission Viejo\", \"Mission Viejo\", \"Mission Viejo\", \"Mission Viejo\", \"Mission Viejo\", \"Mission Viejo\", \"Mission Viejo\", \"Mission Viejo\", \"Mission Viejo\", \"Mission Viejo\", \"Mission Viejo\", \"Mission Viejo\", \"Mission Viejo\", \"Mission Viejo\", \"Mission Viejo\", \"Mission Viejo\", \"Mission Viejo\", \"Mission Viejo\", \"Mission Viejo\", \"Mission Viejo\", \"Mission Viejo\", \"Mission Viejo\", \"Mission Viejo\", \"Mission Viejo\", \"Mission Viejo\", \"Mission Viejo\", \"Mission Viejo\", \"Mission Viejo\", \"Mission Viejo\", \"Mission Viejo\", \"Mission Viejo\", \"Mission Viejo\", \"Mission Viejo\", \"Mission Viejo\", \"Mission Viejo\", \"Mission Viejo\", \"Mission Viejo\", \"Mission Viejo\", \"Mission Viejo\", \"Mission Viejo\", \"Mission Viejo\", \"Mission Viejo\", \"Mission Viejo\", \"Mission Viejo\", \"Mission Viejo\", \"Mission Viejo\", \"Mission Viejo\", \"Mission Viejo\", \"Mission Viejo\", \"Mission Viejo\", \"Mission Viejo\", \"Mission Viejo\", \"Mission Viejo\", \"Mission Viejo\", \"Mission Viejo\", \"Mission Viejo\", \"Mission Viejo\", \"Mission Viejo\", \"Mission Viejo\", \"Mission Viejo\", \"Mission Viejo\", \"Mission Viejo\", \"Mission Viejo\", \"Mission Viejo\", \"Mission Viejo\", \"Mission Viejo\", \"Mission Viejo\", \"Mission Viejo\", \"Mission Viejo\", \"Mission Viejo\", \"Mission Viejo\", \"Mission Viejo\", \"Mission Viejo\", \"Mission Viejo\", \"Mission Viejo\", \"Mission Viejo\", \"Mission Viejo\", \"Mission Viejo\", \"Mission Viejo\", \"Mission Viejo\", \"Mission Viejo\", \"Mission Viejo\", \"Mission Viejo\", \"Mission Viejo\", \"Mission Viejo\", \"Mission Viejo\", \"Mission Viejo\", \"Mission Viejo\", \"Mission Viejo\", \"Mission Viejo\", \"Mission Viejo\", \"Mission Viejo\", \"Mission Viejo\", \"Mission Viejo\", \"Mission Viejo\", \"Mission Viejo\", \"Mission Viejo\", \"Mission Viejo\", \"Mission Viejo\", \"Mission Viejo\", \"Mission Viejo\", \"Mission Viejo\", \"Mission Viejo\", \"Mission Viejo\", \"Mission Viejo\", \"Mission Viejo\", \"Mission Viejo\", \"Mission Viejo\", \"Mission Viejo\", \"Mission Viejo\", \"Mission Viejo\", \"Mission Viejo\", \"Mission Viejo\", \"Mission Viejo\", \"Mission Viejo\", \"Mission Viejo\", \"Mission Viejo\", \"Mission Viejo\", \"Mission Viejo\", \"Mission Viejo\", \"Mission Viejo\", \"Mission Viejo\", \"Mission Viejo\", \"Mission Viejo\", \"Mission Viejo\", \"Mission Viejo\", \"Mission Viejo\", \"Mission Viejo\", \"Mission Viejo\", \"Mission Viejo\", \"Mission Viejo\", \"Mission Viejo\", \"Mission Viejo\", \"Mission Viejo\", \"Mission Viejo\", \"Mission Viejo\", \"Mission Viejo\", \"Mission Viejo\", \"Mission Viejo\", \"Mission Viejo\", \"Mission Viejo\", \"Mission Viejo\", \"Mission Viejo\", \"Mission Viejo\", \"Mission Viejo\", \"Mission Viejo\", \"Mission Viejo\", \"Mission Viejo\", \"Mission Viejo\", \"Mission Viejo\", \"Mission Viejo\", \"Mission Viejo\", \"Mission Viejo\", \"Mission Viejo\", \"Mission Viejo\", \"Mission Viejo\", \"Mission Viejo\", \"Mission Viejo\", \"Mission Viejo\", \"Mission Viejo\", \"Mission Viejo\", \"Mission Viejo\", \"Mission Viejo\", \"Mission Viejo\", \"Mission Viejo\", \"Mission Viejo\", \"Mission Viejo\", \"Mission Viejo\", \"Mission Viejo\", \"Mission Viejo\", \"Mission Viejo\", \"Mission Viejo\", \"Mission Viejo\", \"Mission Viejo\", \"Mission Viejo\", \"Mission Viejo\", \"Mission Viejo\", \"Mission Viejo\", \"Mission Viejo\", \"Mission Viejo\", \"Mission Viejo\", \"Mission Viejo\", \"Mission Viejo\", \"Mission Viejo\", \"Mission Viejo\", \"Mission Viejo\", \"Mission Viejo\", \"Mission Viejo\", \"Mission Viejo\", \"Mission Viejo\", \"Mission Viejo\", \"Mission Viejo\", \"Mission Viejo\", \"Mission Viejo\", \"Mission Viejo\", \"Mission Viejo\", \"Mission Viejo\", \"Mission Viejo\", \"Mission Viejo\", \"Mission Viejo\", \"Mission Viejo\", \"Mission Viejo\", \"Mission Viejo\", \"Mission Viejo\", \"Mission Viejo\", \"Mission Viejo\", \"Mission Viejo\", \"Mission Viejo\", \"Mission Viejo\", \"Mission Viejo\", \"Mission Viejo\", \"Mission Viejo\", \"Mission Viejo\", \"Mission Viejo\", \"Stockton\", \"Stockton\", \"Stockton\", \"Stockton\", \"Stockton\", \"Stockton\", \"Stockton\", \"Stockton\", \"Stockton\", \"Stockton\", \"Stockton\", \"Stockton\", \"Stockton\", \"Stockton\", \"Stockton\", \"Stockton\", \"Stockton\", \"Stockton\", \"Stockton\", \"Stockton\", \"Stockton\", \"Stockton\", \"Stockton\", \"Stockton\", \"Stockton\", \"Stockton\", \"Stockton\", \"Stockton\", \"Stockton\", \"Stockton\", \"Stockton\", \"Stockton\", \"Stockton\", \"Stockton\", \"Stockton\", \"Stockton\", \"Stockton\", \"Stockton\", \"Stockton\", \"Stockton\", \"Stockton\", \"Stockton\", \"Stockton\", \"Stockton\", \"Stockton\", \"Stockton\", \"Stockton\", \"Stockton\", \"Stockton\", \"Stockton\", \"Stockton\", \"Stockton\", \"Stockton\", \"Stockton\", \"Stockton\", \"Stockton\", \"Stockton\", \"Stockton\", \"Stockton\", \"Stockton\", \"Stockton\", \"Stockton\", \"Stockton\", \"Stockton\", \"Stockton\", \"Stockton\", \"Stockton\", \"Stockton\", \"Stockton\", \"Stockton\", \"Stockton\", \"Stockton\", \"Stockton\", \"Stockton\", \"Stockton\", \"Stockton\", \"Stockton\", \"Stockton\", \"Stockton\", \"Stockton\", \"Stockton\", \"Stockton\", \"Stockton\", \"Stockton\", \"Stockton\", \"Stockton\", \"Stockton\", \"Stockton\", \"Stockton\", \"Stockton\", \"Stockton\", \"Stockton\", \"Stockton\", \"Stockton\", \"Stockton\", \"Stockton\", \"Stockton\", \"Stockton\", \"Stockton\", \"Stockton\", \"Stockton\", \"Stockton\", \"Stockton\", \"Stockton\", \"Stockton\", \"Stockton\", \"Stockton\", \"Stockton\", \"Stockton\", \"Stockton\", \"Stockton\", \"Stockton\", \"Stockton\", \"Stockton\", \"Stockton\", \"Stockton\", \"Stockton\", \"Stockton\", \"Stockton\", \"Stockton\", \"Stockton\", \"Stockton\", \"Stockton\", \"Stockton\", \"Stockton\", \"Stockton\", \"Stockton\", \"Stockton\", \"Stockton\", \"Stockton\", \"Stockton\", \"Stockton\", \"Stockton\", \"Stockton\", \"Stockton\", \"Stockton\", \"Stockton\", \"Stockton\", \"Stockton\", \"Stockton\", \"Stockton\", \"Stockton\", \"Stockton\", \"Stockton\", \"Stockton\", \"Stockton\", \"Stockton\", \"Stockton\", \"Stockton\", \"Stockton\", \"Stockton\", \"Stockton\", \"Stockton\", \"Stockton\", \"Stockton\", \"Stockton\", \"Stockton\", \"Stockton\", \"Stockton\", \"Stockton\", \"Stockton\", \"Stockton\", \"Stockton\", \"Stockton\", \"Stockton\", \"Stockton\", \"Stockton\", \"Stockton\", \"Stockton\", \"Stockton\", \"Stockton\", \"Stockton\", \"Stockton\", \"Stockton\", \"Stockton\", \"Stockton\", \"Stockton\", \"Stockton\", \"Stockton\", \"Stockton\", \"Stockton\", \"Stockton\", \"Stockton\", \"Stockton\", \"Stockton\", \"Stockton\", \"Stockton\", \"Stockton\", \"Stockton\", \"Stockton\", \"Stockton\", \"Stockton\", \"Stockton\", \"Stockton\", \"Stockton\", \"Stockton\", \"Stockton\", \"Stockton\", \"Stockton\", \"Stockton\", \"Stockton\", \"Stockton\", \"Stockton\", \"Stockton\", \"Stockton\", \"Stockton\", \"Stockton\", \"Stockton\", \"Stockton\", \"Stockton\", \"Stockton\", \"Stockton\", \"Stockton\", \"Stockton\", \"Stockton\", \"Stockton\", \"Stockton\", \"Stockton\", \"Stockton\", \"Stockton\", \"Stockton\", \"Stockton\", \"Stockton\", \"Stockton\", \"Stockton\", \"Stockton\", \"Stockton\", \"Stockton\", \"Stockton\", \"Stockton\", \"Stockton\", \"Stockton\", \"Stockton\", \"Stockton\", \"Stockton\", \"Stockton\", \"Stockton\", \"Stockton\", \"Stockton\", \"Stockton\", \"Stockton\", \"Stockton\", \"Stockton\", \"Stockton\", \"Stockton\", \"Stockton\", \"Stockton\", \"Stockton\", \"Stockton\", \"Stockton\", \"Stockton\", \"Stockton\", \"Stockton\", \"Stockton\", \"Stockton\", \"Stockton\", \"Stockton\", \"Stockton\", \"Stockton\", \"Stockton\", \"Stockton\", \"Stockton\", \"Stockton\", \"Stockton\", \"Stockton\", \"Stockton\", \"Stockton\", \"Stockton\", \"Stockton\", \"Stockton\", \"Stockton\", \"Stockton\", \"Stockton\", \"Stockton\", \"Stockton\", \"Stockton\", \"Stockton\", \"Stockton\", \"Stockton\", \"Stockton\", \"Stockton\", \"Stockton\", \"Stockton\", \"Stockton\", \"Stockton\", \"Stockton\", \"Stockton\", \"Stockton\", \"Stockton\", \"Stockton\", \"Stockton\", \"Stockton\", \"Stockton\", \"Stockton\", \"Stockton\", \"Stockton\", \"Stockton\", \"Stockton\", \"Stockton\", \"Stockton\", \"Stockton\", \"Stockton\", \"Stockton\", \"Stockton\", \"Stockton\", \"Stockton\", \"Stockton\", \"Stockton\", \"Stockton\", \"Stockton\", \"Stockton\", \"Stockton\", \"Stockton\", \"Stockton\", \"Stockton\", \"Stockton\", \"Stockton\", \"Stockton\", \"Stockton\", \"Stockton\", \"Stockton\", \"Stockton\", \"Stockton\", \"Stockton\", \"Stockton\", \"Stockton\", \"Stockton\", \"Stockton\", \"Stockton\", \"Stockton\", \"Stockton\", \"Stockton\", \"Stockton\", \"Stockton\", \"Stockton\", \"Stockton\", \"Stockton\", \"Stockton\", \"Stockton\", \"Stockton\", \"Stockton\", \"Stockton\", \"Stockton\", \"Stockton\", \"Stockton\", \"Stockton\", \"Stockton\", \"Stockton\", \"Stockton\", \"Stockton\", \"Stockton\", \"Stockton\", \"Stockton\", \"Stockton\", \"Stockton\", \"Stockton\", \"Stockton\", \"Stockton\", \"Stockton\", \"Stockton\", \"Stockton\", \"Stockton\", \"Stockton\", \"Stockton\", \"Stockton\", \"Stockton\", \"Stockton\", \"Stockton\", \"Stockton\", \"Stockton\", \"Stockton\", \"Stockton\", \"Stockton\", \"Stockton\", \"Stockton\", \"Stockton\", \"Stockton\", \"Stockton\", \"Stockton\", \"Stockton\", \"Stockton\", \"Stockton\", \"Stockton\", \"Stockton\", \"Stockton\", \"Stockton\", \"Stockton\", \"Stockton\", \"Stockton\", \"Stockton\", \"Stockton\", \"Stockton\", \"Stockton\", \"Stockton\", \"Stockton\", \"Stockton\", \"Stockton\", \"Stockton\", \"Stockton\", \"Stockton\", \"Stockton\", \"Stockton\", \"Stockton\", \"Stockton\", \"Stockton\", \"Stockton\", \"Los Alamitos\", \"Los Alamitos\", \"Los Alamitos\", \"Los Alamitos\", \"Los Alamitos\", \"Los Alamitos\", \"Los Alamitos\", \"Los Alamitos\", \"Los Alamitos\", \"Los Alamitos\", \"Los Alamitos\", \"Los Alamitos\", \"Los Alamitos\", \"Los Alamitos\", \"Los Alamitos\", \"Los Alamitos\", \"Los Alamitos\", \"Los Alamitos\", \"Los Alamitos\", \"Los Alamitos\", \"Los Alamitos\", \"Los Alamitos\", \"Los Alamitos\", \"Los Alamitos\", \"Los Alamitos\", \"Los Alamitos\", \"Los Alamitos\", \"Los Alamitos\", \"Los Alamitos\", \"Los Alamitos\", \"Los Alamitos\", \"Los Alamitos\", \"Los Alamitos\", \"Los Alamitos\", \"Los Alamitos\", \"Los Alamitos\", \"Los Alamitos\", \"Los Alamitos\", \"Los Alamitos\", \"Los Alamitos\", \"Los Alamitos\", \"Los Alamitos\", \"Los Alamitos\", \"Los Alamitos\", \"Los Alamitos\", \"Los Alamitos\", \"Los Alamitos\", \"Los Alamitos\", \"Los Alamitos\", \"Los Alamitos\", \"Los Alamitos\", \"Los Alamitos\", \"Los Alamitos\", \"Los Alamitos\", \"Los Alamitos\", \"Los Alamitos\", \"Los Alamitos\", \"Los Alamitos\", \"Los Alamitos\", \"Los Alamitos\", \"Los Alamitos\", \"Los Alamitos\", \"Los Alamitos\", \"Los Alamitos\", \"Los Alamitos\", \"Los Alamitos\", \"Los Alamitos\", \"Los Alamitos\", \"Los Alamitos\", \"Los Alamitos\", \"Los Alamitos\", \"Los Alamitos\", \"Los Alamitos\", \"Los Alamitos\", \"Los Alamitos\", \"Los Alamitos\", \"Los Alamitos\", \"Los Alamitos\", \"Los Alamitos\", \"Los Alamitos\", \"Los Alamitos\", \"Los Alamitos\", \"Los Alamitos\", \"Los Alamitos\", \"Los Alamitos\", \"Los Alamitos\", \"Los Alamitos\", \"Los Alamitos\", \"Los Alamitos\", \"Los Alamitos\", \"Los Alamitos\", \"Los Alamitos\", \"Los Alamitos\", \"Los Alamitos\", \"Los Alamitos\", \"Los Alamitos\", \"Los Alamitos\", \"Los Alamitos\", \"Los Alamitos\", \"Los Alamitos\", \"Los Alamitos\", \"Los Alamitos\", \"Los Alamitos\", \"Los Alamitos\", \"Los Alamitos\", \"Los Alamitos\", \"Los Alamitos\", \"Los Alamitos\", \"Los Alamitos\", \"Los Alamitos\", \"Los Alamitos\", \"Los Alamitos\", \"Los Alamitos\", \"Los Alamitos\", \"Los Alamitos\", \"Los Alamitos\", \"Los Alamitos\", \"Los Alamitos\", \"Los Alamitos\", \"Los Alamitos\", \"Los Alamitos\", \"Los Alamitos\", \"Los Alamitos\", \"Los Alamitos\", \"Los Alamitos\", \"Los Alamitos\", \"Los Alamitos\", \"Los Alamitos\", \"Los Alamitos\", \"Los Alamitos\", \"Los Alamitos\", \"Los Alamitos\", \"Los Alamitos\", \"Los Alamitos\", \"Los Alamitos\", \"Los Alamitos\", \"Los Alamitos\", \"Los Alamitos\", \"Los Alamitos\", \"Los Alamitos\", \"Los Alamitos\", \"Los Alamitos\", \"Los Alamitos\", \"Los Alamitos\", \"Los Alamitos\", \"Los Alamitos\", \"Los Alamitos\", \"Los Alamitos\", \"Los Alamitos\", \"Los Alamitos\", \"Los Alamitos\", \"Los Alamitos\", \"Los Alamitos\", \"Los Alamitos\", \"Los Alamitos\", \"Los Alamitos\", \"Los Alamitos\", \"Los Alamitos\", \"Los Alamitos\", \"Los Alamitos\", \"Los Alamitos\", \"Los Alamitos\", \"Los Alamitos\", \"Los Alamitos\", \"Los Alamitos\", \"Los Alamitos\", \"Los Alamitos\", \"Los Alamitos\", \"Los Alamitos\", \"Los Alamitos\", \"Los Alamitos\", \"Los Alamitos\", \"Los Alamitos\", \"Los Alamitos\", \"Los Alamitos\", \"Los Alamitos\", \"Los Alamitos\", \"Los Alamitos\", \"Los Alamitos\", \"Los Alamitos\", \"Los Alamitos\", \"Los Alamitos\", \"Los Alamitos\", \"Los Alamitos\", \"Los Alamitos\", \"Los Alamitos\", \"Los Alamitos\", \"Los Alamitos\", \"Los Alamitos\", \"Los Alamitos\", \"Los Alamitos\", \"Los Alamitos\", \"Los Alamitos\", \"Los Alamitos\", \"Los Alamitos\", \"Los Alamitos\", \"Los Alamitos\", \"Los Alamitos\", \"Los Alamitos\", \"Los Alamitos\", \"Los Alamitos\", \"Los Alamitos\", \"Los Alamitos\", \"Los Alamitos\", \"Los Alamitos\", \"Los Alamitos\", \"Los Alamitos\", \"Los Alamitos\", \"Los Alamitos\", \"Los Alamitos\", \"Los Alamitos\", \"Los Alamitos\", \"Los Alamitos\", \"Los Alamitos\", \"Los Alamitos\", \"Los Alamitos\", \"Los Alamitos\", \"Los Alamitos\", \"Los Alamitos\", \"Los Alamitos\", \"Los Alamitos\", \"Los Alamitos\", \"Los Alamitos\", \"Los Alamitos\", \"Los Alamitos\", \"Los Alamitos\", \"Los Alamitos\", \"Los Alamitos\", \"Los Alamitos\", \"Los Alamitos\", \"Los Alamitos\", \"Los Alamitos\", \"Los Alamitos\", \"Los Alamitos\", \"Los Alamitos\", \"Los Alamitos\", \"Los Alamitos\", \"Los Alamitos\", \"Los Alamitos\", \"Los Alamitos\", \"Los Alamitos\", \"Los Alamitos\", \"Los Alamitos\", \"Los Alamitos\", \"Los Alamitos\", \"Los Alamitos\", \"Los Alamitos\", \"Los Alamitos\", \"Los Alamitos\", \"Los Alamitos\", \"Los Alamitos\", \"Los Alamitos\", \"Los Alamitos\", \"Los Alamitos\", \"Los Alamitos\", \"Los Alamitos\", \"Los Alamitos\", \"Los Alamitos\", \"Los Alamitos\", \"Los Alamitos\", \"Los Alamitos\", \"Los Alamitos\", \"Los Alamitos\", \"Los Alamitos\", \"Los Alamitos\", \"Los Alamitos\", \"Los Alamitos\", \"Los Alamitos\", \"Los Alamitos\", \"Los Alamitos\", \"Los Alamitos\", \"Los Alamitos\", \"Los Alamitos\", \"Los Alamitos\", \"Los Alamitos\", \"Los Alamitos\", \"Los Alamitos\", \"Los Alamitos\", \"Los Alamitos\", \"Los Alamitos\", \"Los Alamitos\", \"Los Alamitos\", \"Los Alamitos\", \"Los Alamitos\", \"Los Alamitos\", \"Los Alamitos\", \"Los Alamitos\", \"Los Alamitos\", \"Los Alamitos\", \"Los Alamitos\", \"Los Alamitos\", \"Los Alamitos\", \"Los Alamitos\", \"Los Alamitos\", \"Los Alamitos\", \"Los Alamitos\", \"Los Alamitos\", \"Los Alamitos\", \"Los Alamitos\", \"Los Alamitos\", \"Los Alamitos\", \"Los Alamitos\", \"Los Alamitos\", \"Los Alamitos\", \"Los Alamitos\", \"Los Alamitos\", \"Los Alamitos\", \"Los Alamitos\", \"Los Alamitos\", \"Los Alamitos\", \"Los Alamitos\", \"Los Alamitos\", \"Los Alamitos\", \"Los Alamitos\", \"Los Alamitos\", \"Los Alamitos\", \"Los Alamitos\", \"Los Alamitos\", \"Los Alamitos\", \"Los Alamitos\", \"Los Alamitos\", \"Los Alamitos\", \"Los Alamitos\", \"Los Alamitos\", \"Los Alamitos\", \"Los Alamitos\", \"Los Alamitos\", \"Los Alamitos\", \"Los Alamitos\", \"Los Alamitos\", \"Los Alamitos\", \"Los Alamitos\", \"Los Alamitos\", \"Los Alamitos\", \"Los Alamitos\", \"Los Alamitos\", \"Los Alamitos\", \"Los Alamitos\", \"Los Alamitos\", \"Los Alamitos\", \"Los Alamitos\", \"Los Alamitos\", \"Los Alamitos\", \"Los Alamitos\", \"Los Alamitos\", \"Los Alamitos\", \"Los Alamitos\", \"Los Alamitos\", \"Los Alamitos\", \"Los Alamitos\", \"Los Alamitos\", \"Los Alamitos\", \"Los Alamitos\", \"Los Alamitos\", \"Los Alamitos\", \"Los Alamitos\", \"Los Alamitos\", \"Los Alamitos\", \"Los Alamitos\", \"Los Alamitos\", \"Los Alamitos\", \"Los Alamitos\", \"Los Alamitos\", \"Los Alamitos\", \"Los Alamitos\", \"Los Alamitos\", \"Los Alamitos\", \"Los Alamitos\", \"Los Alamitos\", \"Los Alamitos\", \"Los Alamitos\", \"Los Alamitos\", \"Los Alamitos\", \"Los Alamitos\", \"Los Alamitos\", \"Los Alamitos\", \"Los Alamitos\", \"Los Alamitos\", \"Los Alamitos\", \"Los Alamitos\", \"Los Alamitos\", \"Los Alamitos\", \"Los Alamitos\", \"Los Alamitos\", \"Los Alamitos\", \"Los Alamitos\", \"Los Alamitos\", \"Los Alamitos\", \"Los Alamitos\", \"Los Alamitos\", \"Los Alamitos\", \"Los Alamitos\", \"Los Alamitos\", \"Los Alamitos\", \"Los Alamitos\", \"Los Alamitos\", \"Los Alamitos\", \"Los Alamitos\", \"Los Alamitos\", \"Los Alamitos\", \"Los Alamitos\", \"Los Alamitos\", \"Los Alamitos\", \"Los Alamitos\", \"Los Alamitos\", \"Los Alamitos\", \"Los Alamitos\", \"Los Alamitos\", \"Los Alamitos\", \"Los Alamitos\", \"Los Alamitos\", \"Los Alamitos\", \"Los Alamitos\", \"Los Alamitos\", \"Los Alamitos\", \"Los Alamitos\", \"Los Alamitos\", \"Los Alamitos\", \"Los Alamitos\", \"Los Alamitos\", \"Los Alamitos\", \"Los Alamitos\", \"Los Alamitos\", \"Los Alamitos\", \"Los Alamitos\", \"Los Alamitos\", \"Los Alamitos\", \"Los Alamitos\", \"Los Alamitos\", \"Los Alamitos\", \"Los Alamitos\", \"Los Alamitos\", \"Los Alamitos\", \"Los Alamitos\", \"Los Alamitos\", \"Los Alamitos\", \"Los Alamitos\", \"Los Alamitos\", \"Los Alamitos\", \"Los Alamitos\", \"Los Alamitos\", \"Los Alamitos\", \"Los Alamitos\", \"Los Alamitos\", \"Los Alamitos\", \"Los Alamitos\", \"Los Alamitos\", \"Los Alamitos\", \"Los Alamitos\", \"Los Alamitos\", \"Los Alamitos\", \"Los Alamitos\", \"Los Alamitos\", \"Los Alamitos\", \"Los Alamitos\", \"Los Alamitos\", \"Los Alamitos\", \"Los Alamitos\", \"Los Alamitos\", \"Los Alamitos\", \"Los Alamitos\", \"Los Alamitos\", \"Los Alamitos\", \"Los Alamitos\", \"Los Alamitos\", \"Los Alamitos\", \"Los Alamitos\", \"Los Alamitos\", \"Los Alamitos\", \"Los Alamitos\", \"Los Alamitos\", \"Los Alamitos\", \"Los Alamitos\", \"Los Alamitos\", \"Los Alamitos\", \"Los Alamitos\", \"Los Alamitos\", \"Los Alamitos\", \"Los Alamitos\", \"Los Alamitos\", \"Los Alamitos\", \"Los Alamitos\", \"Los Alamitos\", \"Los Alamitos\", \"Los Alamitos\", \"Los Alamitos\", \"Los Alamitos\", \"Los Alamitos\", \"Los Alamitos\", \"Los Alamitos\", \"Los Alamitos\", \"Los Alamitos\", \"Los Alamitos\", \"Los Alamitos\", \"Los Alamitos\", \"Los Alamitos\", \"Los Alamitos\", \"Los Alamitos\", \"Los Alamitos\", \"Los Alamitos\", \"Los Alamitos\", \"Los Alamitos\", \"Los Alamitos\", \"Los Alamitos\", \"Los Alamitos\", \"Los Alamitos\", \"Los Alamitos\", \"Los Alamitos\", \"Los Alamitos\", \"Los Alamitos\", \"Los Alamitos\", \"Los Alamitos\", \"Los Alamitos\", \"Los Alamitos\", \"Los Alamitos\", \"Los Alamitos\", \"Los Alamitos\", \"Los Alamitos\", \"Los Alamitos\", \"Los Alamitos\", \"Los Alamitos\", \"Los Alamitos\", \"Los Alamitos\", \"Los Alamitos\", \"Los Alamitos\", \"Los Alamitos\", \"Los Alamitos\", \"Los Alamitos\", \"Los Alamitos\", \"Los Alamitos\", \"Los Alamitos\", \"Los Alamitos\", \"Los Alamitos\", \"Los Alamitos\", \"Los Alamitos\", \"Los Alamitos\", \"Los Alamitos\", \"Los Alamitos\", \"Los Alamitos\", \"Los Alamitos\", \"Los Alamitos\", \"Los Alamitos\", \"Los Alamitos\", \"Los Alamitos\", \"Los Alamitos\", \"Los Alamitos\", \"Los Alamitos\", \"Los Alamitos\", \"Los Alamitos\", \"Los Alamitos\", \"Los Alamitos\", \"Los Alamitos\", \"Los Alamitos\", \"Los Alamitos\", \"Los Alamitos\", \"Los Alamitos\", \"Los Alamitos\", \"Los Alamitos\", \"Los Alamitos\", \"Los Alamitos\", \"Los Alamitos\", \"Los Alamitos\", \"Los Alamitos\", \"Los Alamitos\", \"Los Alamitos\", \"Los Alamitos\", \"Los Alamitos\", \"Los Alamitos\", \"Los Alamitos\", \"Los Alamitos\", \"Los Alamitos\", \"Los Alamitos\", \"Los Alamitos\", \"Los Alamitos\", \"Los Alamitos\", \"Los Alamitos\", \"Los Alamitos\", \"Los Alamitos\", \"Los Alamitos\", \"Los Alamitos\", \"Los Alamitos\", \"Los Alamitos\", \"Los Alamitos\", \"Los Alamitos\", \"Los Alamitos\", \"Los Alamitos\", \"Los Alamitos\", \"Los Alamitos\", \"Los Alamitos\", \"Los Alamitos\", \"Los Alamitos\", \"Los Alamitos\", \"Los Alamitos\", \"Los Alamitos\", \"Los Alamitos\", \"Los Alamitos\", \"Los Alamitos\", \"Los Alamitos\", \"Los Alamitos\", \"Los Alamitos\", \"Los Alamitos\", \"Los Alamitos\", \"Los Alamitos\", \"Los Alamitos\", \"Los Alamitos\", \"Los Alamitos\", \"Los Alamitos\", \"Los Alamitos\", \"Los Alamitos\", \"Los Alamitos\", \"Los Alamitos\", \"Los Alamitos\", \"Los Alamitos\", \"Los Alamitos\", \"Los Alamitos\", \"Los Alamitos\", \"Los Alamitos\", \"Los Alamitos\", \"Los Alamitos\", \"Los Alamitos\", \"Los Alamitos\", \"Los Alamitos\", \"Los Alamitos\", \"Los Alamitos\", \"Los Alamitos\", \"Whittier\", \"Whittier\", \"Whittier\", \"Whittier\", \"Whittier\", \"Whittier\", \"Whittier\", \"Whittier\", \"Whittier\", \"Whittier\", \"Whittier\", \"Whittier\", \"Whittier\", \"Whittier\", \"Whittier\", \"Whittier\", \"Whittier\", \"Whittier\", \"Whittier\", \"Whittier\", \"Whittier\", \"Whittier\", \"Whittier\", \"Whittier\", \"Whittier\", \"Whittier\", \"Whittier\", \"Whittier\", \"Whittier\", \"Whittier\", \"Whittier\", \"Whittier\", \"Whittier\", \"Whittier\", \"Whittier\", \"Whittier\", \"Whittier\", \"Whittier\", \"Whittier\", \"Whittier\", \"Whittier\", \"Whittier\", \"Whittier\", \"Whittier\", \"Whittier\", \"Whittier\", \"Whittier\", \"Whittier\", \"Whittier\", \"Whittier\", \"Whittier\", \"Whittier\", \"Whittier\", \"Whittier\", \"Whittier\", \"Whittier\", \"Whittier\", \"Whittier\", \"Whittier\", \"Whittier\", \"Whittier\", \"Whittier\", \"Whittier\", \"Whittier\", \"Whittier\", \"Whittier\", \"Whittier\", \"Whittier\", \"Whittier\", \"Whittier\", \"Whittier\", \"Whittier\", \"Whittier\", \"Whittier\", \"Whittier\", \"Whittier\", \"Whittier\", \"Whittier\", \"Whittier\", \"Whittier\", \"Whittier\", \"Whittier\", \"Whittier\", \"Whittier\", \"Whittier\", \"Whittier\", \"Whittier\", \"Whittier\", \"Whittier\", \"Whittier\", \"Whittier\", \"Whittier\", \"Whittier\", \"Whittier\", \"Whittier\", \"Whittier\", \"Whittier\", \"Whittier\", \"Whittier\", \"Whittier\", \"Victorville\", \"Victorville\", \"Victorville\", \"Victorville\", \"Victorville\", \"Victorville\", \"Victorville\", \"Victorville\", \"Victorville\", \"Victorville\", \"Victorville\", \"Victorville\", \"Victorville\", \"Victorville\", \"Victorville\", \"Victorville\", \"Victorville\", \"Victorville\", \"Victorville\", \"Victorville\", \"Victorville\", \"Victorville\", \"Victorville\", \"Victorville\", \"Victorville\", \"Victorville\", \"Victorville\", \"Victorville\", \"Victorville\", \"Victorville\", \"Victorville\", \"Victorville\", \"Victorville\", \"Victorville\", \"Victorville\", \"Victorville\", \"Victorville\", \"Victorville\", \"Victorville\", \"Victorville\", \"Victorville\", \"Victorville\", \"Victorville\", \"Victorville\", \"Victorville\", \"Victorville\", \"Victorville\", \"Victorville\", \"Victorville\", \"Victorville\", \"Victorville\", \"Victorville\", \"Victorville\", \"Victorville\", \"Victorville\", \"Victorville\", \"Victorville\", \"Victorville\", \"Victorville\", \"Victorville\", \"Victorville\", \"Victorville\", \"Victorville\", \"Victorville\", \"Victorville\", \"Victorville\", \"Victorville\", \"Victorville\", \"Victorville\", \"Victorville\", \"Victorville\", \"Victorville\", \"Victorville\", \"Victorville\", \"Victorville\", \"Victorville\", \"Victorville\", \"Victorville\", \"Victorville\", \"Victorville\", \"Victorville\", \"Victorville\", \"Victorville\", \"Victorville\", \"Victorville\", \"Victorville\", \"Victorville\", \"Victorville\", \"Victorville\", \"Victorville\", \"Victorville\", \"Victorville\", \"Victorville\", \"Victorville\", \"Victorville\", \"Victorville\", \"Victorville\", \"Victorville\", \"Victorville\", \"Victorville\", \"Victorville\", \"Victorville\", \"Victorville\", \"Victorville\", \"Victorville\", \"Victorville\", \"Victorville\", \"Victorville\", \"Victorville\", \"Victorville\", \"Victorville\", \"Fresno\", \"Fresno\", \"Fresno\", \"Fresno\", \"Fresno\", \"Fresno\", \"Fresno\", \"Fresno\", \"Fresno\", \"Fresno\", \"Fresno\", \"Fresno\", \"Fresno\", \"Fresno\", \"Fresno\", \"Fresno\", \"Fresno\", \"Fresno\", \"Fresno\", \"Fresno\", \"Fresno\", \"Fresno\", \"Fresno\", \"Fresno\", \"Fresno\", \"Fresno\", \"Fresno\", \"Fresno\", \"Fresno\", \"Fresno\", \"Fresno\", \"Fresno\", \"Fresno\", \"Fresno\", \"Fresno\", \"Fresno\", \"Fresno\", \"Fresno\", \"Fresno\", \"Fresno\", \"Fresno\", \"Fresno\", \"Fresno\", \"Fresno\", \"Fresno\", \"Fresno\"], \"type\": \"scatter\", \"mode\": \"markers\"}], {\"yaxis\": {\"title\": \"Time Enrolled\"}, \"xaxis\": {\"title\": \"City of Camp\"}, \"title\": \"City of Camp vs Time Enrolled\"}, {\"linkText\": \"Export to plot.ly\", \"showLink\": true})});</script>"
      ],
      "text/plain": [
       "<IPython.core.display.HTML object>"
      ]
     },
     "metadata": {},
     "output_type": "display_data"
    },
    {
     "data": {
      "text/plain": [
       "city_camp\n",
       "Concord          260.652893\n",
       "Fairfield        155.950980\n",
       "Fresno           169.434783\n",
       "Los Alamitos     459.307200\n",
       "Mission Viejo    286.478632\n",
       "San Clemente      91.037037\n",
       "San Francisco    149.582524\n",
       "San Jose         402.703196\n",
       "San Rafael       352.745763\n",
       "Santa Clara      148.207547\n",
       "Stockton         761.105911\n",
       "Torrance         233.338028\n",
       "Victorville      168.747748\n",
       "Whittier         156.200000\n",
       "Windsor          177.779070\n",
       "Name: time_enrolled, dtype: float64"
      ]
     },
     "execution_count": 58,
     "metadata": {},
     "output_type": "execute_result"
    }
   ],
   "source": [
    "# City of Camp and Days Enrolled\n",
    "\n",
    "trace1 = Scatter(x=students['city_camp'],y=students['time_enrolled'], mode='markers')\n",
    "data = [trace1]\n",
    "layout = Layout(xaxis=dict(title = 'City of Camp'),\n",
    "                 yaxis=dict(title='Time Enrolled'),\n",
    "                title='City of Camp vs Time Enrolled')\n",
    "\n",
    "\n",
    "fig1 = Figure(data=data, layout=layout)\n",
    "iplot(fig1)\n",
    "\n",
    "students['time_enrolled'].groupby(students['city_camp']).mean()\n"
   ]
  },
  {
   "cell_type": "code",
   "execution_count": 60,
   "metadata": {
    "collapsed": false
   },
   "outputs": [
    {
     "name": "stdout",
     "output_type": "stream",
     "text": [
      "The p value is 0.0989691751991 and the t value is -0.643884990064\n",
      "The effect size is -0.0499569449623\n",
      "Males are enrolled on average for 373 days\n",
      "Females are enrolled on average for 395 days\n",
      "Females are enrolled on average for a longer number of days, so might want to target males, but this is probably not a high return on investment because the distributions are not significantly different, and the effect on predicting churn is also small.\n"
     ]
    },
    {
     "data": {
      "text/html": [
       "<div id=\"b4df3b48-adac-4c9d-9e3a-23442daa3937\" style=\"height: 525px; width: 100%;\" class=\"plotly-graph-div\"></div><script type=\"text/javascript\">require([\"plotly\"], function(Plotly) { window.PLOTLYENV=window.PLOTLYENV || {};window.PLOTLYENV.BASE_URL=\"https://plot.ly\";Plotly.newPlot(\"b4df3b48-adac-4c9d-9e3a-23442daa3937\", [{\"y\": [90, 241, 85, 83, 149, 47, 57, 205, 225, 234, 469, 38, 23, 445, 82, 59, 54, 206, 17, 40, 240, 522, 15, 98, 161, 426, 23, 392, 263, 264, 424, 53, 41, 598, 139, 212, 77, 241, 160, 464, 12, 18, 41, 187, 210, 229, 272, 207, 68, 53, 453, 271, 133, 119, 107, 416, 348, 76, 229, 232, 97, 113, 142, 167, 12, 13, 140, 147, 101, 351, 327, 86, 85, 84, 609, 109, 98, 31, 552, 148, 148, 51, 27, 74, 41, 193, 77, 537, 433, 878, 334, 732, 338, 74, 557, 47, 88, 36, 259, 74, 93, 196, 197, 49, 1050, 505, 77, 77, 785, 480, 77, 263, 270, 229, 52, 40, 113, 52, 182, 112, 57, 418, 141, 42, 1332, 1188, 175, 1085, 389, 490, 478, 588, 154, 160, 551, 150, 42, 678, 40, 241, 155, 13, 292, 231, 1506, 1343, 451, 224, 288, 65, 85, 50, 401, 91, 395, 287, 159, 389, 363, 651, 150, 112, 150, 116, 115, 806, 663, 299, 678, 231, 663, 679, 244, 425, 1285, 505, 146, 99, 659, 657, 786, 191, 59, 59, 69, 110, 286, 34, 18, 821, 191, 173, 1049, 772, 160, 175, 1059, 203, 357, 14, 77, 224, 37, 14, 131, 134, 210, 32, 53, 209, 334, 288, 558, 267, 14, 34, 173, 1134, 37, 133, 336, 735, 117, 732, 293, 162, 111, 961, 105, 537, 61, 114, 176, 826, 28, 951, 537, 118, 82, 208, 318, 615, 157, 77, 343, 236, 660, 270, 270, 137, 122, 224, 235, 261, 221, 1165, 762, 289, 126, 425, 16, 103, 294, 126, 180, 426, 294, 180, 146, 236, 307, 80, 257, 196, 1340, 699, 210, 340, 116, 233, 1363, 97, 257, 108, 104, 1342, 823, 1442, 14, 457, 440, 616, 1362, 41, 54, 616, 475, 635, 210, 658, 137, 152, 1071, 31, 3, 196, 398, 585, 279, 137, 197, 173, 175, 312, 224, 373, 232, 124, 231, 105, 173, 40, 431, 208, 322, 143, 87, 25, 697, 312, 697, 87, 324, 62, 104, 827, 399, 574, 201, 596, 623, 156, 496, 13, 453, 576, 911, 212, 1267, 392, 136, 392, 709, 102, 227, 210, 196, 806, 105, 1185, 211, 984, 211, 68, 114, 171, 211, 249, 307, 44, 155, 357, 602, 57, 1088, 73, 307, 89, 196, 489, 89, 114, 905, 157, 56, 59, 905, 18, 805, 574, 66, 260, 881, 196, 714, 441, 326, 504, 842, 13, 187, 87, 1763, 1296, 180, 80, 545, 209, 30, 77, 675, 538, 504, 48, 537, 305, 140, 139, 77, 337, 305, 161, 440, 455, 378, 21, 261, 448, 290, 67, 546, 637, 196, 713, 546, 285, 84, 196, 106, 906, 245, 247, 189, 146, 149, 191, 91, 254, 193, 174, 245, 24, 244, 246, 89, 253, 245, 121, 64, 72, 254, 260, 150, 143, 141, 260, 101, 30, 253, 266, 19, 37, 255, 25, 269, 53, 73, 257, 181, 247, 45, 14, 230, 219, 206, 36, 272, 19, 19, 23, 183, 36, 6, 257, 274, 171, 159, 157, 30, 26, 176, 155, 262, 92, 77, 61, 260, 255, 273, 62, 197, 77, 289, 92, 153, 32, 31, 168, 153, 122, 245, 249, 222, 269, 123, 6, 245, 19, 0, 0, 0, 249, 59, 87, 249, 252, 31, 252, 78, 122, 12, 247, 266, 236, 63, 176, 51, 473, 103, 39, 76, 285, 42, 42, 106, 58, 84, 86, 107, 111, 122, 201, 80, 168, 141, 270, 177, 377, 77, 196, 73, 289, 83, 179, 181, 60, 81, 74, 41, 324, 324, 102, 102, 5, 91, 173, 236, 353, 23, 23, 117, 42, 56, 578, 114, 55, 23, 212, 212, 69, 212, 212, 222, 25, 35, 73, 71, 220, 240, 474, 40, 42, 111, 76, 172, 172, 301, 52, 69, 114, 288, 241, 134, 39, 368, 117, 220, 53, 54, 86, 117, 454, 454, 77, 140, 46, 128, 116, 228, 228, 53, 502, 513, 38, 38, 257, 248, 178, 368, 96, 492, 163, 748, 404, 790, 105, 188, 28, 92, 104, 49, 79, 87, 137, 104, 133, 307, 185, 27, 412, 103, 83, 105, 23, 329, 48, 748, 452, 0, 474, 417, 563, 342, 188, 309, 34, 829, 179, 39, 48, 333, 124, 72, 137, 406, 220, 22, 425, 19, 138, 249, 285, 128, 164, 252, 1, 360, 126, 14, 836, 97, 83, 305, 305, 25, 154, 47, 153, 76, 216, 882, 315, 563, 333, 43, 9, 132, 84, 139, 351, 398, 426, 177, 398, 266, 489, 168, 190, 665, 426, 305, 1033, 211, 63, 629, 456, 570, 1144, 426, 304, 46, 265, 55, 230, 279, 48, 90, 104, 88, 350, 69, 214, 21, 400, 753, 66, 45, 140, 55, 188, 174, 135, 265, 19, 87, 142, 110, 111, 184, 110, 358, 50, 50, 81, 204, 267, 267, 134, 122, 107, 23, 273, 212, 9, 7, 172, 172, 13, 242, 50, 241, 297, 261, 293, 292, 167, 27, 35, 29, 83, 128, 238, 38, 46, 57, 273, 216, 240, 316, 43, 261, 730, 157, 28, 406, 381, 301, 144, 129, 175, 169, 93, 84, 275, 371, 197, 112, 328, 177, 49, 58, 406, 500, 91, 616, 106, 106, 157, 57, 195, 485, 97, 112, 169, 45, 485, 45, 266, 263, 107, 211, 539, 539, 132, 24, 98, 281, 69, 96, 7, 16, 328, 350, 30, 305, 178, 625, 283, 169, 339, 318, 45, 45, 515, 535, 357, 75, 613, 56, 413, 397, 86, 7, 558, 603, 698, 52, 188, 699, 322, 158, 473, 913, 552, 1428, 223, 59, 444, 318, 205, 77, 166, 381, 130, 59, 315, 94, 1252, 69, 132, 1449, 1449, 192, 1347, 378, 248, 906, 52, 248, 73, 689, 33, 301, 83, 298, 842, 724, 1245, 545, 87, 814, 258, 75, 815, 7, 141, 426, 1801, 441, 89, 1372, 21, 42, 139, 65, 30, 121, 63, 70, 39, 464, 86, 85, 87, 215, 83, 385, 82, 619, 78, 45, 48, 286, 1155, 319, 1290, 606, 259, 452, 111, 168, 782, 531, 251, 166, 119, 290, 798, 224, 606, 1379, 821, 119, 459, 1670, 31, 331, 598, 181, 346, 542, 293, 157, 14, 231, 462, 612, 150, 1169, 231, 206, 27, 85, 183, 839, 498, 115, 682, 323, 151, 90, 120, 440, 16, 256, 236, 973, 149, 401, 63, 371, 908, 913, 45, 637, 526, 198, 148, 155, 343, 789, 427, 172, 51, 1207, 372, 87, 175, 1025, 760, 759, 329, 592, 196, 126, 271, 1114, 362, 119, 149, 263, 122, 369, 1033, 223, 294, 1113, 1315, 994, 178, 753, 390, 210, 240, 86, 170, 55, 90, 507, 636, 126, 448, 142, 745, 946, 176, 452, 74, 81, 136, 239, 1120, 1347, 383, 119, 84, 110, 134, 325, 268, 84, 326, 14, 226, 247, 205, 921, 711, 221, 53, 23, 28, 28, 35, 37, 35, 17, 149, 25, 24, 25, 119, 57, 115, 212, 101, 84, 137, 133, 70, 137, 193, 178, 140, 116, 187, 184, 233, 589, 176, 270, 11, 796, 108, 249, 215, 130, 33, 149, 798, 796, 1120, 142, 99, 804, 307, 34, 902, 29, 585, 56, 135, 254, 568, 827, 337, 15, 363, 269, 357, -102, 101, 458, 224, 69, 58, 493, 199, 122, 124, 1093, 1385, 121, 40, 781, 1385, 98, 545, 177, 55, 235, 82, 208, 523, 542, 210, 316, 35, 23, 546, 130, 313, 184, 163, 303, 31, 11, 232, 197, 110, 34, 175, 553, 189, 951, 476, 561, 56, 136, 34, 134, 228, 314, 394, 309, 1147, 41, 12, 37, 141, 77, 77, 70, 42, 255, 169, 49, 43, 231, 373, 116, 170, 260, 220, 1338, 66, 159, 76, 191, 7, 377, 98, 156, 83, 156, 154, 421, 141, 1048, 1274, 678, 160, 176, 132, 548, 403, 39, 228, 39, 85, 382, 364, 78, 79, 148, 875, 143, 39, 232, 364, 77, 410, 207, 364, 708, 176, 64, 93, 999, 69, 46, 52, 1006, 43, 41, 650, 732, 171, 81, 55, 336, 175, 251, 173, 663, 364, 15, 343, 44, 2, 988, 239, 218, 447, 80, 267, 36, 1086, 78, 264, 105, 78, 980, 321, 197, 261, 100, 362, 66, 116, 30, 189, 230, 197, 30, 86, 200, 226, 413, 287, 30, 218, 457, 356, 99, 19, 16, 30, 189, 39, 528, 259, 30, 48, 312, 91, 9, 543, 20, 211, 848, 48, 92, 50, 712, 220, 211, 211, 959, 823, 692, 1449, 573, 566, 100, 546, 1267, 580, 1692, 547, 105, 996, 1896, 573, 2081, 243, 1113, 1206, 1973, 574, 1110, 164, 1455, 114, 393, 410, 791, 107, 1497, 663, 679, 1475, 202, 879, 1078, 807, 909, 601, 219, 193, 2624, 748, 138, 244, 725, 1352, 275, 2501, 1536, 1483, 1677, 335, 429, 358, 1325, 162, 146, 303, 775, 174, 51, 1833, 363, 62, 89, 366, 946, 55, 85, 431, 1028, 479, 482, 348, 743, 752, 419, 133, 1402, 535, 752, 37, 1730, 121, 1301, 1553, 2338, 636, 544, 913, 121, 590, 174, 328, 317, 174, 1322, 356, 463, 359, 258, 1333, 477, 1344, 699, 988, 113, 126, 969, 608, 484, 575, 1692, 574, 747, 45, 1269, 192, 1143, 198, 83, 62, 745, 139, 44, 332, 1193, 65, 230, 331, 93, 206, 258, 561, 324, 6, 2266, 1323, 545, 311, 496, 84, 1525, 363, 2313, 521, 530, 561, 240, 417, 1190, 848, 19, 359, 148, 1199, 617, 1454, 897, 601, 601, 1666, 1539, 1013, 267, 377, 267, 734, 288, 345, 469, 91, 819, 464, 398, 758, 592, 1099, 1819, 454, 443, 965, 758, 741, 378, 1212, 500, 818, 388, 131, 1427, 91, 103, 755, 576, 1760, 2077, 2180, 1710, 1476, 568, 456, 2860, 2076, 2024, 808, 980, 227, 865, 429, 521, 392, 949, 1985, 1657, 699, 834, 848, 713, 713, 132, 834, 402, 315, 1213, 107, 197, 671, 1215, 345, 342, 1393, 657, 234, 631, 734, 104, 650, 651, 41, 479, 83, 244, 508, 76, 227, 350, 261, 384, 380, 450, 381, 373, 338, 368, 272, 274, 1605, 148, 388, 1217, 321, 497, 377, 733, 761, 626, 997, 23, 656, 1200, 763, 1873, 66, 2635, 638, 20, 846, 366, 1162, 202, 1122, 1983, 390, 393, 2522, 254, 393, 477, 390, 30, 118, 432, 2006, 457, 2629, 118, 544, 123, 1290, 80, 2222, 624, 1357, 138, 1725, 2263, 314, 380, 486, 1970, 874, 1717, 38, 1611, 120, 2071, 2623, 838, 444, 51, 211, 689, 2207, 1035, 982, 2067, 597, 440, 28, 147, 959, 402, 2695, 28, 314, 503, 1088, 848, 2112, 884, 149, 907, 148, 132, 1356, 233, 1007, 1766, 1133, 363, 1186, 265, 1215, 149, 1818, 941, 142, 631, 77, 552, 265, 628, 772, 1321, 1441, 580, 1374, 370, 720, 2728, 2469, 1542, 631, 88, 1727, 646, 1307, 2627, 1487, 118, 1563, 911, 103, 88, 790, 267, 1642, 1244, 2207, 688, 191, 593, 198, 905, 545, 1209, 114, 712, 1094, 541, 593, 34, 122, 23, 287, 343, 1249, 99, 46, 653, 2772, 338, 1114, 215, 198, 721, 335, 553, 1106, 1726, 315, 412, 973, 40, 979, 37, 226, 311, 117, 323, 1726, 19, 238, 655, 479, 20, 161, 241, 1061, 821, 905, 272, 86, 230, 1716, 193, 373, 935, 450, 40, 299, 105, 1884, 132, 73, 399, 198, 246, 443, 180, 164, 99, 65, 730, 282, 552, 436, 178, 527, 414, 245, 79, 506, 54, 1460, 499, 28, 106, 388, 232, 336, 351, 210, 357, 192, 1636, 317, 568, 479, 1270, 559, 26, 2031, 1516, 450, 35, 726, 137, 531, 833, 1065, 1064, 79, 1270, 137, 179, 1738, 270, 1491, 128, 131, 393, 466, 470, 1491, 132, 516, 71, 177, 542, 347, 122, 791, 116, 311, 2128, 147, 598, 1047, 179, 513, 13, 223, 748, 1883, 114, 272, 512, 171, 111, 348, 308, 63, 896, 114, 48, 349, 268, 105, 207, 51, 168, 77, 5, 51, 217, 211, 201, 837, 257, 85, 298, 764, 532, 124, 1132, 213, 590, 1012, 44, 134, 424, 153, 501, 423, 170, 274, 21, 1623, 1650, 329, 181, 1219, 358, 281, 50, 19, 51, 516, 29, 1631, 657, 215, 312, 353, 261, 1513, 512, 657, 156, 212, 14, 182, 161, 149, 184, 214, 609, 680, 658, 230, 271, 200, 147, 194, 329, 403, 235, 118, 220, 126, 166, 510, 592, 73, 588, 71, 96, 195, 294, 648, 242, 84, 1765, 664, 986, 802, 1473, 546, 1640, 77, 355, 125, 361, 603, 323, 243, 464, 660, 660, 433, 301, 175, 723, 547, 201, 1032, 44, 305, 271, 212, 104, 224, 343, 350, 1205, 177, 320, 40, 63, 459, 108, 183, 688, 490, 300, 140, 1367, 163, 482, 258, 39, 626, 300, 986, 895, 622, 626, 329, 601, 168, 49, 195, 601, 119, 864, 195, 198, 249, 107, 176, 865, 34, 181, 179, 872, 170, 323, 1405, 461, 169, 1201, 798, 1428, 51, 751, 237, 245, 120, 97, 373, 173, 310, 455, 14, 187, 702, 383, 823, 454, 454, 77, 100, 63, 671, 48, 399, 745, 1445, 459, 882, 104, 252, 1393, 405, 184, 350, 574, 574, 81, 525, 889, 808, 284, 142, 1203, 168, 168, 83, 185, 940, 1332, 225, 86, 209, 247, 499, 170, 329, 1133, 243, 443, 139, 54, 688, 133, 437, 746, 334, 139, 334, 235, 334, 15, 77, 90, 143, 148, 733, 111, 61, 228, 1274, 275, 63, 64, 63, 442, 426, 105, 123, 775, 525, 167, 395, 22, 378, 359, 514, 1461, 161, 350, 58, 419, 1260, 241, 350, 861, 1598, 775, 1398, 926, 2090, 285, 161, 332, 180, 1139, 112, 8, 142, 90, 502, 295, 47, 636, 118, 342, 217, 218, 138, 367, 435, 1134, 365, 952, 574, 189, 293, 758, 36, 163, 689, 890, 1090, 296, 34, 327, 560, 67, 2357, 238, 357, 62, 517, 1825, 242, 991, 833, 189, 177, 190, 81, 379, 411, 79, 981, 135, 341, 53, 14, 455, 701, 29, 29, 260, 576, 342, 708, 170, 28, 247, 58, 112, 928, 180, 1388, 112, 2537, 250, 2070, 75, 133, 545, 350, 546, 434, 1269, 625, 175, 213, 370, 44, 1113, 514, 260, 332, 35, 608, 227, 152, 455, 680, 55, 74, 532, 180, 41, 202, 390, 343, 889, 202, 342, 350, 420, 907, 253, 547, 889, 392, 107, 452, 374, 547, 367, 248, 42, 58, 101, 140, 101, 874, 1708, 1047, 403, 716, 1141, 90, 183, 450, 60, 354, 298, 297, 135, 523, 1330, 127, 301, 266, 940, 600, 813, 63, 192, 467, 143, 14, 59, 1271, 379, 239, 189, 1349, 469, 51, 504, 546, 114, 339, 164, 237, 160, 105, 323, 520, 101, 546, 155, 197, 600, 212, 547, 89, 57, 322, 56, 151, 8, 211, 39, 28, 64, 322, 1680, 151, 1721, 306, 1607, 440, 1815, 498, 1881, 98, 291, 970, 889, 2035, 1501, 89, 23, 85, 14, 549, 409, 93, 42, 500, 30, 25, 252, 15, 59, 524, 15, 124, 58, 28, 104, 166, 136, 87, 329, 106, 179, 39, 365, 37, 7, 152, 76, 243, 77, 57, 211, 243, 240, 260, 214, 250, 48, 121, 148, 149, 48, 85, 75, 265, 149, 76, 343, 213, 88, 429, 24, 250, 142, 47, 318, 350, 26, 362, 75, 89, 46, 228, 57, 59, 60, 209, 26, 14, 515, 89, 12, 75, 518, 76, 457, 334, 60, 107, 75, 128, 25, 470, 209, 105, 464, 32, 67, 20, 100, 149, 100, 64, 16, 206, 16, 133, 334, 303, 89, 20, 497, 98, 20, 29, 90, 18, 56, 63, 53, 349, 341, 211, 67, 252, 231, 39, 534, 407, 152, 137, 450, 393, 14, 123, 14, 14, 116, 171, 21, 238, 252, 49, 426, 318, 399, 112, 58, 27, 20, 417, 18, 295, 53, 175, 11, 56, 116, 56, 46, 119, 119, 232, 238, 60, 133, 177, 30, 224, 483, 479, 119, 18, 159, 88, 406, 220, 73, 76, 56, 197, 419, 32, 173, 420, 99, 100, 123, 53, 604, 305, 91, 603, 235, 124, 41, 227, 138, 174, 127, 145, 43, 48, 19, 46, 165, 31, 108, 273, 108, 98, 25, 110, 91, 45, 266, 335, 58, 67, 121, 596, 63, 377, 78, 90, 378, 90, 37, 70, 346, 33, 71, 370, 176, 166, 91, 372, 212, 321, 70, 44, 289, 373, 34, 21, 151, 165, 362, 316, 161, 266, 35, 21, 61, 21, 119, 37, 334, 18, 14, 3, 524, 172], \"x\": [\"M\", \"M\", \"F\", \"F\", \"M\", \"M\", \"M\", \"F\", \"M\", \"F\", \"F\", \"F\", \"F\", \"F\", \"F\", \"M\", \"F\", \"F\", \"F\", \"M\", \"F\", \"F\", \"M\", \"M\", \"M\", \"M\", \"F\", \"F\", \"M\", \"F\", \"F\", \"F\", \"M\", \"M\", \"F\", \"M\", \"M\", \"F\", \"F\", \"F\", \"F\", \"F\", \"F\", \"M\", \"F\", \"M\", \"F\", \"F\", \"M\", \"F\", \"M\", \"M\", \"F\", \"M\", \"F\", \"F\", \"F\", \"F\", \"F\", \"M\", \"F\", \"F\", \"M\", \"F\", \"F\", \"F\", \"F\", \"M\", \"F\", \"F\", \"M\", \"F\", \"F\", \"F\", \"M\", \"M\", \"F\", \"F\", \"F\", \"M\", \"F\", \"F\", \"M\", \"M\", \"F\", \"M\", \"M\", \"F\", \"M\", \"M\", \"F\", \"F\", \"M\", \"M\", \"F\", \"M\", \"M\", \"M\", \"M\", \"M\", \"F\", \"M\", \"M\", \"F\", \"M\", \"M\", \"F\", \"F\", \"M\", \"F\", \"M\", \"M\", \"M\", \"F\", \"F\", \"F\", \"M\", \"F\", \"M\", \"M\", \"F\", \"M\", \"M\", \"M\", \"F\", \"F\", \"F\", \"M\", \"F\", \"M\", \"M\", \"F\", \"M\", \"F\", \"M\", \"M\", \"M\", \"M\", \"M\", \"F\", \"F\", \"F\", \"M\", \"F\", \"F\", \"M\", \"M\", \"F\", \"F\", \"F\", \"M\", \"F\", \"M\", \"F\", \"F\", \"F\", \"F\", \"M\", \"M\", \"M\", \"M\", \"F\", \"M\", \"F\", \"F\", \"M\", \"F\", \"F\", \"M\", \"M\", \"F\", \"M\", \"M\", \"M\", \"M\", \"M\", \"M\", \"F\", \"F\", \"M\", \"F\", \"F\", \"F\", \"M\", \"F\", \"F\", \"M\", \"M\", \"M\", \"F\", \"M\", \"M\", \"F\", \"F\", \"M\", \"F\", \"M\", \"M\", \"M\", \"F\", \"F\", \"F\", \"F\", \"M\", \"F\", \"F\", \"M\", \"F\", \"F\", \"F\", \"F\", \"M\", \"M\", \"F\", \"F\", \"F\", \"M\", \"F\", \"F\", \"M\", \"F\", \"M\", \"M\", \"M\", \"M\", \"F\", \"M\", \"F\", \"F\", \"F\", \"M\", \"M\", \"M\", \"M\", \"F\", \"F\", \"M\", \"F\", \"M\", \"F\", \"F\", \"F\", \"F\", \"M\", \"F\", \"F\", \"M\", \"M\", \"M\", \"F\", \"F\", \"M\", \"F\", \"F\", \"M\", \"M\", \"M\", \"F\", \"F\", \"F\", \"F\", \"F\", \"F\", \"M\", \"F\", \"F\", \"F\", \"F\", \"M\", \"M\", \"M\", \"F\", \"M\", \"F\", \"M\", \"F\", \"M\", \"F\", \"M\", \"M\", \"M\", \"M\", \"M\", \"M\", \"F\", \"M\", \"M\", \"F\", \"M\", \"F\", \"F\", \"M\", \"F\", \"M\", \"M\", \"M\", \"M\", \"F\", \"M\", \"M\", \"M\", \"F\", \"M\", \"M\", \"F\", \"M\", \"M\", \"M\", \"F\", \"F\", \"M\", \"F\", \"M\", \"F\", \"M\", \"M\", \"F\", \"M\", \"M\", \"M\", \"F\", \"F\", \"M\", \"M\", \"F\", \"M\", \"F\", \"M\", \"M\", \"M\", \"M\", \"M\", \"F\", \"F\", \"F\", \"F\", \"M\", \"M\", \"F\", \"M\", \"M\", \"M\", \"M\", \"F\", \"M\", \"F\", \"F\", \"F\", \"F\", \"F\", \"M\", \"M\", \"F\", \"M\", \"F\", \"F\", \"F\", \"F\", \"F\", \"M\", \"F\", \"F\", \"F\", \"F\", \"M\", \"M\", \"M\", \"F\", \"M\", \"M\", \"M\", \"F\", \"F\", \"F\", \"M\", \"M\", \"M\", \"F\", \"F\", \"M\", \"M\", \"F\", \"F\", \"F\", \"F\", \"F\", \"F\", \"F\", \"M\", \"M\", \"M\", \"F\", \"M\", \"F\", \"F\", \"M\", \"F\", \"M\", \"F\", \"F\", \"F\", \"F\", \"F\", \"F\", \"F\", \"M\", \"F\", \"M\", \"F\", \"F\", \"M\", \"F\", \"M\", \"M\", \"F\", \"F\", \"M\", \"M\", \"F\", \"F\", \"M\", \"F\", \"F\", \"F\", \"M\", \"F\", \"F\", \"F\", \"M\", \"M\", \"F\", \"M\", \"M\", \"M\", \"F\", \"M\", \"M\", \"M\", \"F\", \"F\", \"M\", \"M\", \"M\", \"M\", \"F\", \"F\", \"F\", \"F\", \"F\", \"M\", \"F\", \"M\", \"F\", \"F\", \"F\", \"F\", \"F\", \"F\", \"F\", \"F\", \"F\", \"F\", \"M\", \"F\", \"F\", \"M\", \"F\", \"M\", \"F\", \"F\", \"F\", \"M\", \"F\", \"M\", \"F\", \"F\", \"F\", \"F\", \"M\", \"M\", \"F\", \"M\", \"F\", \"F\", \"F\", \"F\", \"M\", \"F\", \"M\", \"M\", \"M\", \"F\", \"F\", \"M\", \"M\", \"M\", \"F\", \"M\", \"M\", \"M\", \"M\", \"M\", \"F\", \"M\", \"M\", \"F\", \"M\", \"M\", \"F\", \"F\", \"M\", \"M\", \"F\", \"F\", \"F\", \"F\", \"F\", \"F\", \"M\", \"F\", \"F\", \"F\", \"M\", \"F\", \"F\", \"F\", \"M\", \"F\", \"M\", \"M\", \"M\", \"F\", \"F\", \"F\", \"F\", \"M\", \"M\", \"F\", \"F\", \"M\", \"F\", \"M\", \"M\", \"M\", \"M\", \"F\", \"F\", \"F\", \"F\", \"M\", \"M\", \"M\", \"M\", \"F\", \"M\", \"F\", \"F\", \"F\", \"F\", \"M\", \"F\", \"M\", \"F\", \"F\", \"F\", \"F\", \"M\", \"M\", \"M\", \"M\", \"M\", \"F\", \"F\", \"M\", \"F\", \"M\", \"F\", \"F\", \"M\", \"M\", \"F\", \"M\", \"F\", \"M\", \"F\", \"M\", \"F\", \"F\", \"F\", \"F\", \"M\", \"M\", \"F\", \"M\", \"F\", \"F\", \"F\", \"M\", \"F\", \"M\", \"F\", \"F\", \"M\", \"F\", \"F\", \"M\", \"M\", \"F\", \"M\", \"F\", \"F\", \"F\", \"M\", \"F\", \"M\", \"F\", \"M\", \"M\", \"M\", \"F\", \"F\", \"M\", \"M\", \"M\", \"M\", \"M\", \"M\", \"M\", \"F\", \"F\", \"M\", \"F\", \"M\", \"M\", \"M\", \"F\", \"F\", \"F\", \"M\", \"M\", \"F\", \"M\", \"M\", \"F\", \"F\", \"M\", \"F\", \"M\", \"F\", \"M\", \"M\", \"M\", \"M\", \"M\", \"M\", \"F\", \"M\", \"M\", \"M\", \"M\", \"F\", \"M\", \"F\", \"M\", \"F\", \"F\", \"F\", \"M\", \"M\", \"M\", \"M\", \"F\", \"F\", \"F\", \"M\", \"F\", \"F\", \"M\", \"F\", \"F\", \"F\", \"M\", \"F\", \"F\", \"F\", \"M\", \"F\", \"F\", \"M\", \"M\", \"M\", \"M\", \"M\", \"F\", \"F\", \"M\", \"M\", \"M\", \"F\", \"M\", \"F\", \"M\", \"F\", \"M\", \"F\", \"F\", \"M\", \"M\", \"F\", \"F\", \"F\", \"M\", \"F\", \"M\", \"F\", \"M\", \"F\", \"M\", \"M\", \"M\", \"M\", \"M\", \"F\", \"F\", \"F\", \"F\", \"M\", \"M\", \"M\", \"F\", \"F\", \"F\", \"M\", \"F\", \"F\", \"M\", \"F\", \"F\", \"M\", \"F\", \"F\", \"M\", \"M\", \"M\", \"F\", \"M\", \"M\", \"F\", \"F\", \"M\", \"F\", \"F\", \"F\", \"M\", \"M\", \"M\", \"F\", \"F\", \"M\", \"M\", \"F\", \"M\", \"M\", \"M\", \"F\", \"M\", \"F\", \"M\", \"F\", \"M\", \"M\", \"F\", \"F\", \"M\", \"F\", \"F\", \"F\", \"F\", \"M\", \"F\", \"M\", \"F\", \"F\", \"M\", \"F\", \"F\", \"F\", \"F\", \"F\", \"M\", \"F\", \"F\", \"F\", \"F\", \"F\", \"F\", \"F\", \"M\", \"M\", \"F\", \"F\", \"F\", \"M\", \"M\", \"M\", \"M\", \"F\", \"F\", \"F\", \"M\", \"M\", \"M\", \"F\", \"F\", \"M\", \"M\", \"M\", \"M\", \"F\", \"F\", \"M\", \"M\", \"M\", \"M\", \"M\", \"F\", \"M\", \"M\", \"F\", \"F\", \"F\", \"M\", \"F\", \"F\", \"F\", \"M\", \"F\", \"M\", \"F\", \"F\", \"M\", \"M\", \"M\", \"M\", \"F\", \"F\", \"F\", \"M\", \"F\", \"F\", \"F\", \"M\", \"F\", \"F\", \"M\", \"F\", \"F\", \"F\", \"F\", \"F\", \"F\", \"F\", \"F\", \"F\", \"F\", \"F\", \"F\", \"M\", \"F\", \"F\", \"M\", \"F\", \"F\", \"M\", \"F\", \"M\", \"M\", \"F\", \"M\", \"M\", \"F\", \"M\", \"F\", \"M\", \"F\", \"M\", \"F\", \"M\", \"F\", \"F\", \"M\", \"F\", \"M\", \"F\", \"M\", \"M\", \"F\", \"M\", \"M\", \"M\", \"M\", \"F\", \"M\", \"M\", \"M\", \"F\", \"F\", \"F\", \"M\", \"F\", \"F\", \"F\", \"M\", \"F\", \"M\", \"F\", \"F\", \"F\", \"M\", \"F\", \"F\", \"F\", \"M\", \"M\", \"M\", \"M\", \"M\", \"F\", \"M\", \"M\", \"M\", \"M\", \"M\", \"M\", \"M\", \"F\", \"F\", \"M\", \"F\", \"M\", \"M\", \"F\", \"M\", \"M\", \"M\", \"F\", \"F\", \"M\", \"F\", \"F\", \"M\", \"M\", \"F\", \"F\", \"F\", \"F\", \"M\", \"M\", \"F\", \"M\", \"F\", \"M\", \"F\", \"M\", \"F\", \"F\", \"F\", \"M\", \"M\", \"M\", \"F\", \"M\", \"F\", \"M\", \"M\", \"F\", \"F\", \"F\", \"M\", \"M\", \"M\", \"F\", \"M\", \"F\", \"F\", \"F\", \"M\", \"F\", \"F\", \"F\", \"M\", \"F\", \"F\", \"M\", \"F\", \"M\", \"M\", \"F\", \"M\", \"F\", \"F\", \"F\", \"M\", \"M\", \"M\", \"F\", \"F\", \"M\", \"M\", \"M\", \"F\", \"M\", \"M\", \"F\", \"F\", \"M\", \"M\", \"M\", \"M\", \"M\", \"F\", \"F\", \"F\", \"F\", \"F\", \"F\", \"F\", \"F\", \"M\", \"M\", \"F\", \"M\", \"F\", \"M\", \"F\", \"F\", \"M\", \"M\", \"F\", \"F\", \"M\", \"M\", \"M\", \"F\", \"F\", \"F\", \"M\", \"F\", \"F\", \"F\", \"F\", \"F\", \"M\", \"F\", \"M\", \"M\", \"M\", \"F\", \"F\", \"F\", \"M\", \"F\", \"M\", \"M\", \"M\", \"M\", \"F\", \"F\", \"M\", \"M\", \"M\", \"M\", \"F\", \"F\", \"M\", \"M\", \"M\", \"M\", \"M\", \"F\", \"F\", \"M\", \"M\", \"M\", \"M\", \"M\", \"M\", \"M\", \"M\", \"F\", \"M\", \"F\", \"F\", \"M\", \"F\", \"F\", \"M\", \"F\", \"F\", \"F\", \"M\", \"F\", \"M\", \"F\", \"M\", \"M\", \"M\", \"M\", \"M\", \"F\", \"M\", \"M\", \"F\", \"M\", \"M\", \"M\", \"F\", \"M\", \"F\", \"M\", \"F\", \"M\", \"F\", \"F\", \"M\", \"M\", \"M\", \"M\", \"M\", \"F\", \"F\", \"M\", \"M\", \"M\", \"M\", \"M\", \"F\", \"F\", \"F\", \"M\", \"M\", \"M\", \"F\", \"F\", \"M\", \"F\", \"M\", \"F\", \"F\", \"F\", \"M\", \"F\", \"F\", \"M\", \"M\", \"F\", \"M\", \"M\", \"F\", \"F\", \"F\", \"F\", \"F\", \"F\", \"F\", \"M\", \"F\", \"F\", \"M\", \"F\", \"M\", \"M\", \"F\", \"M\", \"F\", \"M\", \"M\", \"F\", \"F\", \"M\", \"F\", \"M\", \"M\", \"M\", \"F\", \"M\", \"M\", \"F\", \"F\", \"M\", \"F\", \"F\", \"M\", \"F\", \"M\", \"M\", \"M\", \"F\", \"F\", \"F\", \"F\", \"F\", \"F\", \"M\", \"M\", \"F\", \"M\", \"F\", \"M\", \"F\", \"M\", \"M\", \"F\", \"F\", \"F\", \"F\", \"M\", \"F\", \"M\", \"F\", \"F\", \"M\", \"M\", \"F\", \"F\", \"M\", \"M\", \"M\", \"F\", \"M\", \"F\", \"M\", \"F\", \"M\", \"M\", \"M\", \"F\", \"M\", \"F\", \"M\", \"M\", \"F\", \"F\", \"M\", \"F\", \"M\", \"F\", \"F\", \"F\", \"M\", \"F\", \"M\", \"F\", \"M\", \"M\", \"F\", \"M\", \"M\", \"F\", \"F\", \"M\", \"F\", \"F\", \"M\", \"M\", \"M\", \"M\", \"M\", \"F\", \"M\", \"M\", \"M\", \"F\", \"F\", \"F\", \"F\", \"F\", \"M\", \"M\", \"F\", \"F\", \"F\", \"F\", \"F\", \"M\", \"M\", \"F\", \"F\", \"F\", \"M\", \"M\", \"F\", \"M\", \"F\", \"M\", \"M\", \"M\", \"F\", \"F\", \"F\", \"F\", \"M\", \"F\", \"M\", \"F\", \"F\", \"M\", \"F\", \"F\", \"M\", \"F\", \"F\", \"F\", \"F\", \"F\", \"M\", \"F\", \"F\", \"F\", \"F\", \"M\", \"F\", \"F\", \"F\", \"F\", \"M\", \"F\", \"F\", \"M\", \"F\", \"M\", \"F\", \"M\", \"F\", \"F\", \"M\", \"M\", \"M\", \"M\", \"F\", \"M\", \"F\", \"M\", \"F\", \"M\", \"M\", \"M\", \"F\", \"F\", \"F\", \"F\", \"M\", \"F\", \"F\", \"M\", \"F\", \"F\", \"F\", \"F\", \"F\", \"M\", \"M\", \"F\", \"F\", \"F\", \"M\", \"F\", \"M\", \"F\", \"F\", \"F\", \"M\", \"M\", \"M\", \"M\", \"M\", \"M\", \"F\", \"F\", \"F\", \"F\", \"F\", \"M\", \"M\", \"F\", \"M\", \"F\", \"F\", \"M\", \"M\", \"F\", \"F\", \"M\", \"M\", \"F\", \"M\", \"F\", \"M\", \"M\", \"F\", \"M\", \"M\", \"M\", \"M\", \"M\", \"M\", \"M\", \"M\", \"M\", \"F\", \"F\", \"M\", \"M\", \"M\", \"M\", \"M\", \"M\", \"M\", \"M\", \"M\", \"F\", \"F\", \"F\", \"F\", \"F\", \"F\", \"M\", \"M\", \"M\", \"F\", \"M\", \"M\", \"F\", \"M\", \"M\", \"M\", \"M\", \"F\", \"M\", \"F\", \"F\", \"M\", \"F\", \"M\", \"F\", \"M\", \"F\", \"F\", \"F\", \"M\", \"F\", \"M\", \"M\", \"F\", \"M\", \"M\", \"F\", \"M\", \"M\", \"F\", \"F\", \"M\", \"M\", \"F\", \"M\", \"M\", \"M\", \"M\", \"F\", \"F\", \"M\", \"F\", \"F\", \"F\", \"M\", \"F\", \"M\", \"F\", \"F\", \"F\", \"M\", \"F\", \"F\", \"F\", \"F\", \"M\", \"F\", \"F\", \"F\", \"F\", \"M\", \"M\", \"M\", \"M\", \"M\", \"M\", \"F\", \"F\", \"M\", \"F\", \"F\", \"F\", \"F\", \"F\", \"M\", \"F\", \"M\", \"M\", \"M\", \"F\", \"F\", \"M\", \"F\", \"F\", \"F\", \"M\", \"F\", \"M\", \"M\", \"M\", \"F\", \"F\", \"F\", \"F\", \"F\", \"F\", \"F\", \"F\", \"F\", \"F\", \"M\", \"F\", \"M\", \"F\", \"M\", \"F\", \"M\", \"F\", \"M\", \"F\", \"F\", \"M\", \"F\", \"F\", \"F\", \"F\", \"F\", \"F\", \"M\", \"M\", \"M\", \"F\", \"M\", \"M\", \"M\", \"M\", \"M\", \"F\", \"F\", \"M\", \"M\", \"M\", \"M\", \"M\", \"F\", \"F\", \"M\", \"M\", \"M\", \"F\", \"F\", \"F\", \"F\", \"F\", \"F\", \"M\", \"F\", \"F\", \"F\", \"F\", \"F\", \"F\", \"M\", \"M\", \"F\", \"F\", \"M\", \"M\", \"M\", \"F\", \"M\", \"M\", \"F\", \"M\", \"F\", \"F\", \"F\", \"F\", \"F\", \"M\", \"F\", \"M\", \"M\", \"F\", \"M\", \"M\", \"F\", \"M\", \"F\", \"F\", \"F\", \"F\", \"M\", \"F\", \"M\", \"M\", \"F\", \"M\", \"M\", \"M\", \"M\", \"F\", \"M\", \"F\", \"M\", \"F\", \"M\", \"M\", \"M\", \"F\", \"F\", \"M\", \"M\", \"M\", \"F\", \"F\", \"F\", \"M\", \"F\", \"M\", \"M\", \"M\", \"F\", \"M\", \"M\", \"F\", \"F\", \"F\", \"F\", \"M\", \"M\", \"F\", \"F\", \"F\", \"F\", \"F\", \"M\", \"F\", \"F\", \"M\", \"M\", \"M\", \"F\", \"M\", \"M\", \"F\", \"F\", \"M\", \"F\", \"F\", \"F\", \"F\", \"M\", \"M\", \"M\", \"M\", \"M\", \"M\", \"M\", \"M\", \"M\", \"M\", \"M\", \"F\", \"M\", \"F\", \"F\", \"F\", \"M\", \"M\", \"M\", \"M\", \"F\", \"M\", \"M\", \"M\", \"F\", \"M\", \"F\", \"F\", \"M\", \"M\", \"M\", \"F\", \"M\", \"F\", \"F\", \"M\", \"M\", \"M\", \"M\", \"F\", \"M\", \"M\", \"M\", \"F\", \"F\", \"M\", \"M\", \"F\", \"M\", \"M\", \"F\", \"M\", \"M\", \"F\", \"F\", \"M\", \"M\", \"F\", \"F\", \"M\", \"M\", \"M\", \"F\", \"F\", \"M\", \"F\", \"F\", \"F\", \"F\", \"F\", \"M\", \"F\", \"M\", \"F\", \"M\", \"M\", \"M\", \"F\", \"F\", \"M\", \"F\", \"M\", \"M\", \"F\", \"M\", \"M\", \"F\", \"M\", \"M\", \"F\", \"F\", \"F\", \"M\", \"M\", \"M\", \"M\", \"F\", \"F\", \"F\", \"M\", \"M\", \"F\", \"M\", \"M\", \"M\", \"F\", \"F\", \"M\", \"F\", \"M\", \"F\", \"M\", \"F\", \"F\", \"F\", \"F\", \"F\", \"M\", \"F\", \"M\", \"F\", \"F\", \"M\", \"M\", \"M\", \"F\", \"M\", \"F\", \"F\", \"F\", \"F\", \"F\", \"F\", \"F\", \"M\", \"F\", \"F\", \"F\", \"M\", \"M\", \"F\", \"M\", \"M\", \"M\", \"F\", \"M\", \"F\", \"F\", \"M\", \"M\", \"M\", \"M\", \"M\", \"M\", \"F\", \"F\", \"F\", \"F\", \"M\", \"M\", \"M\", \"M\", \"F\", \"F\", \"F\", \"M\", \"F\", \"M\", \"F\", \"M\", \"M\", \"M\", \"F\", \"F\", \"F\", \"F\", \"M\", \"F\", \"M\", \"F\", \"F\", \"M\", \"F\", \"M\", \"M\", \"F\", \"F\", \"M\", \"F\", \"F\", \"F\", \"F\", \"M\", \"F\", \"M\", \"F\", \"M\", \"F\", \"M\", \"F\", \"F\", \"F\", \"M\", \"F\", \"F\", \"F\", \"M\", \"F\", \"M\", \"F\", \"F\", \"F\", \"F\", \"F\", \"M\", \"M\", \"F\", \"M\", \"F\", \"F\", \"M\", \"M\", \"F\", \"F\", \"F\", \"M\", \"F\", \"M\", \"M\", \"M\", \"M\", \"F\", \"M\", \"F\", \"M\", \"F\", \"F\", \"F\", \"F\", \"F\", \"M\", \"F\", \"M\", \"M\", \"M\", \"M\", \"F\", \"F\", \"F\", \"F\", \"F\", \"F\", \"F\", \"F\", \"F\", \"F\", \"F\", \"F\", \"M\", \"F\", \"M\", \"F\", \"M\", \"F\", \"F\", \"F\", \"F\", \"M\", \"F\", \"M\", \"M\", \"F\", \"F\", \"F\", \"F\", \"M\", \"F\", \"F\", \"M\", \"F\", \"F\", \"M\", \"M\", \"F\", \"F\", \"M\", \"M\", \"M\", \"M\", \"M\", \"F\", \"M\", \"F\", \"M\", \"M\", \"F\", \"F\", \"M\", \"F\", \"M\", \"M\", \"F\", \"F\", \"F\", \"F\", \"M\", \"F\", \"M\", \"M\", \"F\", \"M\", \"F\", \"M\", \"F\", \"M\", \"F\", \"F\", \"F\", \"F\", \"M\", \"M\", \"M\", \"M\", \"F\", \"F\", \"M\", \"F\", \"M\", \"F\", \"F\", \"M\", \"F\", \"F\", \"M\", \"F\", \"M\", \"F\", \"F\", \"F\", \"F\", \"F\", \"F\", \"M\", \"F\", \"M\", \"F\", \"M\", \"F\", \"M\", \"F\", \"F\", \"F\", \"F\", \"F\", \"M\", \"M\", \"M\", \"F\", \"M\", \"F\", \"M\", \"F\", \"F\", \"F\", \"M\", \"F\", \"M\", \"M\", \"F\", \"M\", \"F\", \"F\", \"M\", \"F\", \"F\", \"M\", \"F\", \"M\", \"M\", \"M\", \"M\", \"F\", \"F\", \"F\", \"M\", \"M\", \"M\", \"M\", \"F\", \"M\", \"F\", \"F\", \"M\", \"M\", \"F\", \"M\", \"M\", \"F\", \"M\", \"F\", \"F\", \"M\", \"M\", \"M\", \"M\", \"F\", \"F\", \"M\", \"M\", \"M\", \"F\", \"M\", \"F\", \"M\", \"F\", \"M\", \"M\", \"M\", \"M\", \"M\", \"M\", \"F\", \"F\", \"F\", \"F\", \"F\", \"F\", \"F\", \"F\", \"F\", \"F\", \"M\", \"M\", \"F\", \"M\", \"M\", \"M\", \"F\", \"F\", \"F\", \"M\", \"M\", \"F\", \"M\", \"M\", \"M\", \"F\", \"F\", \"F\", \"F\", \"F\", \"M\", \"M\", \"F\", \"M\", \"F\", \"M\", \"M\", \"M\", \"F\", \"M\", \"F\", \"M\", \"F\", \"M\", \"M\", \"M\", \"F\", \"M\", \"F\", \"M\", \"F\", \"F\", \"M\", \"F\", \"M\", \"F\", \"M\", \"M\", \"F\", \"F\", \"F\", \"F\", \"M\", \"F\", \"F\", \"M\", \"F\", \"F\", \"M\", \"M\", \"F\", \"F\", \"M\", \"M\", \"M\", \"F\", \"F\", \"M\", \"M\", \"M\", \"F\", \"F\", \"F\", \"M\", \"M\", \"F\", \"M\", \"M\", \"M\", \"F\", \"F\", \"F\", \"M\", \"F\", \"M\", \"F\", \"F\", \"M\", \"F\", \"F\", \"F\", \"M\", \"M\", \"F\", \"F\", \"F\", \"F\", \"F\", \"M\", \"M\", \"F\", \"F\", \"F\", \"M\", \"M\", \"F\", \"F\", \"M\", \"F\", \"F\", \"F\", \"F\", \"F\", \"M\", \"M\", \"F\", \"M\", \"F\", \"M\", \"M\", \"F\", \"F\", \"M\", \"F\", \"M\", \"M\", \"M\", \"F\", \"M\", \"M\", \"F\", \"F\", \"M\", \"F\", \"F\", \"F\", \"M\", \"F\", \"F\", \"F\", \"F\", \"F\", \"F\", \"M\", \"M\", \"M\", \"F\", \"M\", \"F\", \"F\", \"M\", \"F\", \"F\", \"M\", \"F\", \"F\", \"M\", \"M\", \"F\", \"F\", \"M\", \"F\", \"M\", \"F\", \"M\", \"F\", \"F\", \"F\", \"F\", \"F\", \"F\", \"F\", \"M\", \"F\", \"F\", \"M\", \"F\", \"F\", \"M\", \"M\", \"M\", \"F\", \"M\", \"F\", \"M\", \"M\", \"M\", \"F\", \"F\", \"F\", \"F\", \"M\", \"F\", \"F\", \"F\", \"F\", \"F\", \"F\", \"M\", \"F\", \"F\", \"F\", \"M\", \"M\", \"F\", \"F\", \"F\", \"F\", \"M\", \"F\", \"F\", \"F\", \"F\", \"F\", \"F\", \"F\", \"M\", \"M\", \"M\", \"M\", \"F\", \"F\", \"M\", \"M\", \"F\", \"F\", \"F\", \"F\", \"F\", \"F\", \"F\", \"M\", \"F\", \"M\", \"F\", \"F\", \"F\", \"F\", \"F\", \"F\", \"F\", \"F\", \"M\", \"M\", \"M\", \"M\", \"F\", \"F\", \"F\", \"F\", \"M\", \"M\", \"F\", \"F\", \"M\", \"F\", \"M\", \"M\", \"F\", \"M\", \"M\", \"M\", \"F\", \"M\", \"M\", \"F\", \"M\", \"M\", \"F\", \"F\", \"F\", \"F\", \"F\", \"F\", \"F\", \"M\", \"F\", \"F\", \"F\", \"F\", \"F\", \"F\", \"F\", \"F\", \"M\", \"F\", \"M\", \"M\", \"F\", \"F\", \"F\", \"F\", \"M\", \"M\", \"F\", \"F\", \"F\", \"M\", \"F\", \"M\", \"M\", \"F\", \"F\", \"M\", \"F\", \"M\", \"M\", \"M\", \"M\", \"M\", \"F\", \"M\", \"M\", \"M\", \"F\", \"M\", \"M\", \"M\", \"F\", \"M\", \"M\", \"F\", \"M\", \"M\", \"M\", \"F\", \"F\", \"M\", \"M\", \"M\", \"F\", \"F\", \"M\", \"F\", \"F\", \"F\", \"F\", \"F\", \"M\", \"M\", \"M\", \"M\", \"F\", \"F\", \"M\", \"M\", \"F\", \"F\", \"M\", \"M\", \"F\", \"M\", \"M\", \"M\", \"F\", \"M\", \"F\", \"M\", \"M\", \"F\", \"M\", \"M\", \"F\", \"M\", \"M\", \"F\", \"M\", \"F\", \"F\", \"M\", \"M\", \"M\", \"F\", \"M\", \"F\", \"M\", \"F\", \"M\", \"F\", \"F\", \"M\", \"F\", \"M\", \"F\", \"M\", \"M\", \"F\", \"M\", \"F\", \"M\", \"F\", \"F\", \"M\", \"F\", \"F\", \"M\", \"F\", \"F\", \"F\", \"M\", \"M\", \"M\", \"F\", \"F\", \"F\", \"F\", \"M\", \"F\", \"F\", \"F\", \"M\", \"F\", \"F\", \"M\", \"M\", \"F\", \"M\", \"M\", \"F\", \"F\", \"M\", \"M\", \"M\", \"M\", \"F\", \"M\", \"F\", \"M\", \"M\", \"M\", \"F\", \"F\", \"M\", \"M\", \"M\", \"F\", \"F\", \"M\", \"M\", \"M\", \"M\", \"F\", \"M\", \"M\", \"F\", \"F\", \"F\", \"M\", \"M\", \"M\", \"F\", \"F\", \"F\", \"M\", \"F\", \"M\", \"M\", \"F\", \"F\", \"F\", \"F\", \"M\", \"F\", \"F\", \"F\", \"F\", \"M\", \"M\", \"F\", \"M\", \"F\", \"M\", \"M\", \"M\", \"M\", \"F\", \"M\", \"F\", \"M\", \"F\", \"M\", \"F\", \"F\", \"M\", \"M\", \"M\", \"M\", \"M\", \"M\", \"F\", \"F\", \"F\", \"M\", \"M\", \"M\", \"M\", \"M\", \"F\", \"F\", \"M\", \"F\", \"M\", \"F\", \"M\", \"M\", \"M\", \"M\", \"M\", \"M\", \"M\", \"M\", \"F\", \"M\", \"F\", \"F\", \"F\", \"F\", \"M\", \"F\", \"F\", \"M\", \"F\", \"M\", \"M\", \"F\", \"F\", \"M\", \"F\", \"F\", \"F\", \"M\", \"M\", \"M\", \"F\", \"F\", \"M\", \"F\", \"M\", \"M\", \"M\", \"F\", \"M\", \"M\", \"F\", \"M\", \"F\", \"M\", \"F\", \"M\", \"M\", \"M\", \"M\", \"F\", \"F\", \"F\"], \"type\": \"scatter\", \"mode\": \"markers\"}], {\"yaxis\": {\"title\": \"Time Enrolled\"}, \"xaxis\": {\"title\": \"Gender\"}, \"title\": \"Gender vs Time Enrolled\"}, {\"linkText\": \"Export to plot.ly\", \"showLink\": true})});</script>"
      ],
      "text/plain": [
       "<IPython.core.display.HTML object>"
      ]
     },
     "metadata": {},
     "output_type": "display_data"
    }
   ],
   "source": [
    "# Gender and Time Enrolled\n",
    "\n",
    "male_time = students[students['gender'] == 'M']['time_enrolled']\n",
    "female_time = students[students['gender'] == 'F']['time_enrolled']\n",
    "\n",
    "import scipy as sp\n",
    "def cohensd(val1,val2):\n",
    "    return ( np.mean(val1) - np.mean(val2) ) / np.sqrt( (np.std(val1) ** 2 + np.std(val2) ** 2) / 2 )\n",
    "\n",
    "print(\"The p value is \" + str(sp.stats.ttest_ind(male_time, female_time,axis=0, equal_var=False).pvalue/float(2)) + \" and the t value is \" + str(sp.stats.ttest_ind(male_time, female_time,axis=0, equal_var=False).statistic/float(2)))\n",
    "print (\"The effect size is \" + str(cohensd(male_time, female_time)))\n",
    "print(\"Males are enrolled on average for \" + str(int(np.mean(male_time))) + \" days\")\n",
    "print(\"Females are enrolled on average for \" + str(int(np.mean(female_time)))+ \" days\")\n",
    "print(\"Females are enrolled on average for a longer number of days, so might want to target males, but this is probably not a high return on investment because the distributions are not significantly different, and the effect on predicting churn is also small.\")\n",
    "\n",
    "#iplot([Scatter(x=students['gender'],y=students['time_enrolled'], mode='markers')])\n",
    "trace1 = Scatter(x=students['gender'],y=students['time_enrolled'], mode='markers')\n",
    "data = [trace1]\n",
    "layout = Layout(xaxis=dict(title = 'Gender'),\n",
    "                 yaxis=dict(title='Time Enrolled'),\n",
    "                title='Gender vs Time Enrolled')\n",
    "\n",
    "\n",
    "fig1 = Figure(data=data, layout=layout)\n",
    "iplot(fig1)"
   ]
  },
  {
   "cell_type": "code",
   "execution_count": 63,
   "metadata": {
    "collapsed": false
   },
   "outputs": [
    {
     "name": "stdout",
     "output_type": "stream",
     "text": [
      "The p value is 2.8655314731e-05 and the t value is 2.01629683429\n",
      "The effect size is 0.160512995133\n",
      "Centers open for 2 days hav an average enrllment of 403 days\n",
      "Centers open for 3 days hav an average enrllment of 337 days\n"
     ]
    },
    {
     "data": {
      "text/html": [
       "<div id=\"f06d46c5-fa84-4514-8375-403c9246a8cb\" style=\"height: 525px; width: 100%;\" class=\"plotly-graph-div\"></div><script type=\"text/javascript\">require([\"plotly\"], function(Plotly) { window.PLOTLYENV=window.PLOTLYENV || {};window.PLOTLYENV.BASE_URL=\"https://plot.ly\";Plotly.newPlot(\"f06d46c5-fa84-4514-8375-403c9246a8cb\", [{\"y\": [90, 241, 85, 83, 149, 47, 57, 205, 225, 234, 469, 38, 23, 445, 82, 59, 54, 206, 17, 40, 240, 522, 15, 98, 161, 426, 23, 392, 263, 264, 424, 53, 41, 598, 139, 212, 77, 241, 160, 464, 12, 18, 41, 187, 210, 229, 272, 207, 68, 53, 453, 271, 133, 119, 107, 416, 348, 76, 229, 232, 97, 113, 142, 167, 12, 13, 140, 147, 101, 351, 327, 86, 85, 84, 609, 109, 98, 31, 552, 148, 148, 51, 27, 74, 41, 193, 77, 537, 433, 878, 334, 732, 338, 74, 557, 47, 88, 36, 259, 74, 93, 196, 197, 49, 1050, 505, 77, 77, 785, 480, 77, 263, 270, 229, 52, 40, 113, 52, 182, 112, 57, 418, 141, 42, 1332, 1188, 175, 1085, 389, 490, 478, 588, 154, 160, 551, 150, 42, 678, 40, 241, 155, 13, 292, 231, 1506, 1343, 451, 224, 288, 65, 85, 50, 401, 91, 395, 287, 159, 389, 363, 651, 150, 112, 150, 116, 115, 806, 663, 299, 678, 231, 663, 679, 244, 425, 1285, 505, 146, 99, 659, 657, 786, 191, 59, 59, 69, 110, 286, 34, 18, 821, 191, 173, 1049, 772, 160, 175, 1059, 203, 357, 14, 77, 224, 37, 14, 131, 134, 210, 32, 53, 209, 334, 288, 558, 267, 14, 34, 173, 1134, 37, 133, 336, 735, 117, 732, 293, 162, 111, 961, 105, 537, 61, 114, 176, 826, 28, 951, 537, 118, 82, 208, 318, 615, 157, 77, 343, 236, 660, 270, 270, 137, 122, 224, 235, 261, 221, 1165, 762, 289, 126, 425, 16, 103, 294, 126, 180, 426, 294, 180, 146, 236, 307, 80, 257, 196, 1340, 699, 210, 340, 116, 233, 1363, 97, 257, 108, 104, 1342, 823, 1442, 14, 457, 440, 616, 1362, 41, 54, 616, 475, 635, 210, 658, 137, 152, 1071, 31, 3, 196, 398, 585, 279, 137, 197, 173, 175, 312, 224, 373, 232, 124, 231, 105, 173, 40, 431, 208, 322, 143, 87, 25, 697, 312, 697, 87, 324, 62, 104, 827, 399, 574, 201, 596, 623, 156, 496, 13, 453, 576, 911, 212, 1267, 392, 136, 392, 709, 102, 227, 210, 196, 806, 105, 1185, 211, 984, 211, 68, 114, 171, 211, 249, 307, 44, 155, 357, 602, 57, 1088, 73, 307, 89, 196, 489, 89, 114, 905, 157, 56, 59, 905, 18, 805, 574, 66, 260, 881, 196, 714, 441, 326, 504, 842, 13, 187, 87, 1763, 1296, 180, 80, 545, 209, 30, 77, 675, 538, 504, 48, 537, 305, 140, 139, 77, 337, 305, 161, 440, 455, 378, 21, 261, 448, 290, 67, 546, 637, 196, 713, 546, 285, 84, 196, 106, 906, 245, 247, 189, 146, 149, 191, 91, 254, 193, 174, 245, 24, 244, 246, 89, 253, 245, 121, 64, 72, 254, 260, 150, 143, 141, 260, 101, 30, 253, 266, 19, 37, 255, 25, 269, 53, 73, 257, 181, 247, 45, 14, 230, 219, 206, 36, 272, 19, 19, 23, 183, 36, 6, 257, 274, 171, 159, 157, 30, 26, 176, 155, 262, 92, 77, 61, 260, 255, 273, 62, 197, 77, 289, 92, 153, 32, 31, 168, 153, 122, 245, 249, 222, 269, 123, 6, 245, 19, 0, 0, 0, 249, 59, 87, 249, 252, 31, 252, 78, 122, 12, 247, 266, 236, 63, 176, 51, 473, 103, 39, 76, 285, 42, 42, 106, 58, 84, 86, 107, 111, 122, 201, 80, 168, 141, 270, 177, 377, 77, 196, 73, 289, 83, 179, 181, 60, 81, 74, 41, 324, 324, 102, 102, 5, 91, 173, 236, 353, 23, 23, 117, 42, 56, 578, 114, 55, 23, 212, 212, 69, 212, 212, 222, 25, 35, 73, 71, 220, 240, 474, 40, 42, 111, 76, 172, 172, 301, 52, 69, 114, 288, 241, 134, 39, 368, 117, 220, 53, 54, 86, 117, 454, 454, 77, 140, 46, 128, 116, 228, 228, 53, 502, 513, 38, 38, 257, 248, 178, 368, 96, 492, 163, 748, 404, 790, 105, 188, 28, 92, 104, 49, 79, 87, 137, 104, 133, 307, 185, 27, 412, 103, 83, 105, 23, 329, 48, 748, 452, 0, 474, 417, 563, 342, 188, 309, 34, 829, 179, 39, 48, 333, 124, 72, 137, 406, 220, 22, 425, 19, 138, 249, 285, 128, 164, 252, 1, 360, 126, 14, 836, 97, 83, 305, 305, 25, 154, 47, 153, 76, 216, 882, 315, 563, 333, 43, 9, 132, 84, 139, 351, 398, 426, 177, 398, 266, 489, 168, 190, 665, 426, 305, 1033, 211, 63, 629, 456, 570, 1144, 426, 304, 46, 265, 55, 230, 279, 48, 90, 104, 88, 350, 69, 214, 21, 400, 753, 66, 45, 140, 55, 188, 174, 135, 265, 19, 87, 142, 110, 111, 184, 110, 358, 50, 50, 81, 204, 267, 267, 134, 122, 107, 23, 273, 212, 9, 7, 172, 172, 13, 242, 50, 241, 297, 261, 293, 292, 167, 27, 35, 29, 83, 128, 238, 38, 46, 57, 273, 216, 240, 316, 43, 261, 730, 157, 28, 406, 381, 301, 144, 129, 175, 169, 93, 84, 275, 371, 197, 112, 328, 177, 49, 58, 406, 500, 91, 616, 106, 106, 157, 57, 195, 485, 97, 112, 169, 45, 485, 45, 266, 263, 107, 211, 539, 539, 132, 24, 98, 281, 69, 96, 7, 16, 328, 350, 30, 305, 178, 625, 283, 169, 339, 318, 45, 45, 515, 535, 357, 75, 613, 56, 413, 397, 86, 7, 558, 603, 698, 52, 188, 699, 322, 158, 473, 913, 552, 1428, 223, 59, 444, 318, 205, 77, 166, 381, 130, 59, 315, 94, 1252, 69, 132, 1449, 1449, 192, 1347, 378, 248, 906, 52, 248, 73, 689, 33, 301, 83, 298, 842, 724, 1245, 545, 87, 814, 258, 75, 815, 7, 141, 426, 1801, 441, 89, 1372, 21, 42, 139, 65, 30, 121, 63, 70, 39, 464, 86, 85, 87, 215, 83, 385, 82, 619, 78, 45, 48, 286, 1155, 319, 1290, 606, 259, 452, 111, 168, 782, 531, 251, 166, 119, 290, 798, 224, 606, 1379, 821, 119, 459, 1670, 31, 331, 598, 181, 346, 542, 293, 157, 14, 231, 462, 612, 150, 1169, 231, 206, 27, 85, 183, 839, 498, 115, 682, 323, 151, 90, 120, 440, 16, 256, 236, 973, 149, 401, 63, 371, 908, 913, 45, 637, 526, 198, 148, 155, 343, 789, 427, 172, 51, 1207, 372, 87, 175, 1025, 760, 759, 329, 592, 196, 126, 271, 1114, 362, 119, 149, 263, 122, 369, 1033, 223, 294, 1113, 1315, 994, 178, 753, 390, 210, 240, 86, 170, 55, 90, 507, 636, 126, 448, 142, 745, 946, 176, 452, 74, 81, 136, 239, 1120, 1347, 383, 119, 84, 110, 134, 325, 268, 84, 326, 14, 226, 247, 205, 921, 711, 221, 53, 23, 28, 28, 35, 37, 35, 17, 149, 25, 24, 25, 119, 57, 115, 212, 101, 84, 137, 133, 70, 137, 193, 178, 140, 116, 187, 184, 233, 589, 176, 270, 11, 796, 108, 249, 215, 130, 33, 149, 798, 796, 1120, 142, 99, 804, 307, 34, 902, 29, 585, 56, 135, 254, 568, 827, 337, 15, 363, 269, 357, -102, 101, 458, 224, 69, 58, 493, 199, 122, 124, 1093, 1385, 121, 40, 781, 1385, 98, 545, 177, 55, 235, 82, 208, 523, 542, 210, 316, 35, 23, 546, 130, 313, 184, 163, 303, 31, 11, 232, 197, 110, 34, 175, 553, 189, 951, 476, 561, 56, 136, 34, 134, 228, 314, 394, 309, 1147, 41, 12, 37, 141, 77, 77, 70, 42, 255, 169, 49, 43, 231, 373, 116, 170, 260, 220, 1338, 66, 159, 76, 191, 7, 377, 98, 156, 83, 156, 154, 421, 141, 1048, 1274, 678, 160, 176, 132, 548, 403, 39, 228, 39, 85, 382, 364, 78, 79, 148, 875, 143, 39, 232, 364, 77, 410, 207, 364, 708, 176, 64, 93, 999, 69, 46, 52, 1006, 43, 41, 650, 732, 171, 81, 55, 336, 175, 251, 173, 663, 364, 15, 343, 44, 2, 988, 239, 218, 447, 80, 267, 36, 1086, 78, 264, 105, 78, 980, 321, 197, 261, 100, 362, 66, 116, 30, 189, 230, 197, 30, 86, 200, 226, 413, 287, 30, 218, 457, 356, 99, 19, 16, 30, 189, 39, 528, 259, 30, 48, 312, 91, 9, 543, 20, 211, 848, 48, 92, 50, 712, 220, 211, 211, 959, 823, 692, 1449, 573, 566, 100, 546, 1267, 580, 1692, 547, 105, 996, 1896, 573, 2081, 243, 1113, 1206, 1973, 574, 1110, 164, 1455, 114, 393, 410, 791, 107, 1497, 663, 679, 1475, 202, 879, 1078, 807, 909, 601, 219, 193, 2624, 748, 138, 244, 725, 1352, 275, 2501, 1536, 1483, 1677, 335, 429, 358, 1325, 162, 146, 303, 775, 174, 51, 1833, 363, 62, 89, 366, 946, 55, 85, 431, 1028, 479, 482, 348, 743, 752, 419, 133, 1402, 535, 752, 37, 1730, 121, 1301, 1553, 2338, 636, 544, 913, 121, 590, 174, 328, 317, 174, 1322, 356, 463, 359, 258, 1333, 477, 1344, 699, 988, 113, 126, 969, 608, 484, 575, 1692, 574, 747, 45, 1269, 192, 1143, 198, 83, 62, 745, 139, 44, 332, 1193, 65, 230, 331, 93, 206, 258, 561, 324, 6, 2266, 1323, 545, 311, 496, 84, 1525, 363, 2313, 521, 530, 561, 240, 417, 1190, 848, 19, 359, 148, 1199, 617, 1454, 897, 601, 601, 1666, 1539, 1013, 267, 377, 267, 734, 288, 345, 469, 91, 819, 464, 398, 758, 592, 1099, 1819, 454, 443, 965, 758, 741, 378, 1212, 500, 818, 388, 131, 1427, 91, 103, 755, 576, 1760, 2077, 2180, 1710, 1476, 568, 456, 2860, 2076, 2024, 808, 980, 227, 865, 429, 521, 392, 949, 1985, 1657, 699, 834, 848, 713, 713, 132, 834, 402, 315, 1213, 107, 197, 671, 1215, 345, 342, 1393, 657, 234, 631, 734, 104, 650, 651, 41, 479, 83, 244, 508, 76, 227, 350, 261, 384, 380, 450, 381, 373, 338, 368, 272, 274, 1605, 148, 388, 1217, 321, 497, 377, 733, 761, 626, 997, 23, 656, 1200, 763, 1873, 66, 2635, 638, 20, 846, 366, 1162, 202, 1122, 1983, 390, 393, 2522, 254, 393, 477, 390, 30, 118, 432, 2006, 457, 2629, 118, 544, 123, 1290, 80, 2222, 624, 1357, 138, 1725, 2263, 314, 380, 486, 1970, 874, 1717, 38, 1611, 120, 2071, 2623, 838, 444, 51, 211, 689, 2207, 1035, 982, 2067, 597, 440, 28, 147, 959, 402, 2695, 28, 314, 503, 1088, 848, 2112, 884, 149, 907, 148, 132, 1356, 233, 1007, 1766, 1133, 363, 1186, 265, 1215, 149, 1818, 941, 142, 631, 77, 552, 265, 628, 772, 1321, 1441, 580, 1374, 370, 720, 2728, 2469, 1542, 631, 88, 1727, 646, 1307, 2627, 1487, 118, 1563, 911, 103, 88, 790, 267, 1642, 1244, 2207, 688, 191, 593, 198, 905, 545, 1209, 114, 712, 1094, 541, 593, 34, 122, 23, 287, 343, 1249, 99, 46, 653, 2772, 338, 1114, 215, 198, 721, 335, 553, 1106, 1726, 315, 412, 973, 40, 979, 37, 226, 311, 117, 323, 1726, 19, 238, 655, 479, 20, 161, 241, 1061, 821, 905, 272, 86, 230, 1716, 193, 373, 935, 450, 40, 299, 105, 1884, 132, 73, 399, 198, 246, 443, 180, 164, 99, 65, 730, 282, 552, 436, 178, 527, 414, 245, 79, 506, 54, 1460, 499, 28, 106, 388, 232, 336, 351, 210, 357, 192, 1636, 317, 568, 479, 1270, 559, 26, 2031, 1516, 450, 35, 726, 137, 531, 833, 1065, 1064, 79, 1270, 137, 179, 1738, 270, 1491, 128, 131, 393, 466, 470, 1491, 132, 516, 71, 177, 542, 347, 122, 791, 116, 311, 2128, 147, 598, 1047, 179, 513, 13, 223, 748, 1883, 114, 272, 512, 171, 111, 348, 308, 63, 896, 114, 48, 349, 268, 105, 207, 51, 168, 77, 5, 51, 217, 211, 201, 837, 257, 85, 298, 764, 532, 124, 1132, 213, 590, 1012, 44, 134, 424, 153, 501, 423, 170, 274, 21, 1623, 1650, 329, 181, 1219, 358, 281, 50, 19, 51, 516, 29, 1631, 657, 215, 312, 353, 261, 1513, 512, 657, 156, 212, 14, 182, 161, 149, 184, 214, 609, 680, 658, 230, 271, 200, 147, 194, 329, 403, 235, 118, 220, 126, 166, 510, 592, 73, 588, 71, 96, 195, 294, 648, 242, 84, 1765, 664, 986, 802, 1473, 546, 1640, 77, 355, 125, 361, 603, 323, 243, 464, 660, 660, 433, 301, 175, 723, 547, 201, 1032, 44, 305, 271, 212, 104, 224, 343, 350, 1205, 177, 320, 40, 63, 459, 108, 183, 688, 490, 300, 140, 1367, 163, 482, 258, 39, 626, 300, 986, 895, 622, 626, 329, 601, 168, 49, 195, 601, 119, 864, 195, 198, 249, 107, 176, 865, 34, 181, 179, 872, 170, 323, 1405, 461, 169, 1201, 798, 1428, 51, 751, 237, 245, 120, 97, 373, 173, 310, 455, 14, 187, 702, 383, 823, 454, 454, 77, 100, 63, 671, 48, 399, 745, 1445, 459, 882, 104, 252, 1393, 405, 184, 350, 574, 574, 81, 525, 889, 808, 284, 142, 1203, 168, 168, 83, 185, 940, 1332, 225, 86, 209, 247, 499, 170, 329, 1133, 243, 443, 139, 54, 688, 133, 437, 746, 334, 139, 334, 235, 334, 15, 77, 90, 143, 148, 733, 111, 61, 228, 1274, 275, 63, 64, 63, 442, 426, 105, 123, 775, 525, 167, 395, 22, 378, 359, 514, 1461, 161, 350, 58, 419, 1260, 241, 350, 861, 1598, 775, 1398, 926, 2090, 285, 161, 332, 180, 1139, 112, 8, 142, 90, 502, 295, 47, 636, 118, 342, 217, 218, 138, 367, 435, 1134, 365, 952, 574, 189, 293, 758, 36, 163, 689, 890, 1090, 296, 34, 327, 560, 67, 2357, 238, 357, 62, 517, 1825, 242, 991, 833, 189, 177, 190, 81, 379, 411, 79, 981, 135, 341, 53, 14, 455, 701, 29, 29, 260, 576, 342, 708, 170, 28, 247, 58, 112, 928, 180, 1388, 112, 2537, 250, 2070, 75, 133, 545, 350, 546, 434, 1269, 625, 175, 213, 370, 44, 1113, 514, 260, 332, 35, 608, 227, 152, 455, 680, 55, 74, 532, 180, 41, 202, 390, 343, 889, 202, 342, 350, 420, 907, 253, 547, 889, 392, 107, 452, 374, 547, 367, 248, 42, 58, 101, 140, 101, 874, 1708, 1047, 403, 716, 1141, 90, 183, 450, 60, 354, 298, 297, 135, 523, 1330, 127, 301, 266, 940, 600, 813, 63, 192, 467, 143, 14, 59, 1271, 379, 239, 189, 1349, 469, 51, 504, 546, 114, 339, 164, 237, 160, 105, 323, 520, 101, 546, 155, 197, 600, 212, 547, 89, 57, 322, 56, 151, 8, 211, 39, 28, 64, 322, 1680, 151, 1721, 306, 1607, 440, 1815, 498, 1881, 98, 291, 970, 889, 2035, 1501, 89, 23, 85, 14, 549, 409, 93, 42, 500, 30, 25, 252, 15, 59, 524, 15, 124, 58, 28, 104, 166, 136, 87, 329, 106, 179, 39, 365, 37, 7, 152, 76, 243, 77, 57, 211, 243, 240, 260, 214, 250, 48, 121, 148, 149, 48, 85, 75, 265, 149, 76, 343, 213, 88, 429, 24, 250, 142, 47, 318, 350, 26, 362, 75, 89, 46, 228, 57, 59, 60, 209, 26, 14, 515, 89, 12, 75, 518, 76, 457, 334, 60, 107, 75, 128, 25, 470, 209, 105, 464, 32, 67, 20, 100, 149, 100, 64, 16, 206, 16, 133, 334, 303, 89, 20, 497, 98, 20, 29, 90, 18, 56, 63, 53, 349, 341, 211, 67, 252, 231, 39, 534, 407, 152, 137, 450, 393, 14, 123, 14, 14, 116, 171, 21, 238, 252, 49, 426, 318, 399, 112, 58, 27, 20, 417, 18, 295, 53, 175, 11, 56, 116, 56, 46, 119, 119, 232, 238, 60, 133, 177, 30, 224, 483, 479, 119, 18, 159, 88, 406, 220, 73, 76, 56, 197, 419, 32, 173, 420, 99, 100, 123, 53, 604, 305, 91, 603, 235, 124, 41, 227, 138, 174, 127, 145, 43, 48, 19, 46, 165, 31, 108, 273, 108, 98, 25, 110, 91, 45, 266, 335, 58, 67, 121, 596, 63, 377, 78, 90, 378, 90, 37, 70, 346, 33, 71, 370, 176, 166, 91, 372, 212, 321, 70, 44, 289, 373, 34, 21, 151, 165, 362, 316, 161, 266, 35, 21, 61, 21, 119, 37, 334, 18, 14, 3, 524, 172], \"x\": [2, 2, 2, 2, 2, 2, 2, 2, 2, 2, 2, 2, 2, 2, 2, 2, 2, 2, 2, 2, 2, 2, 2, 2, 2, 2, 2, 2, 2, 2, 2, 2, 2, 2, 2, 2, 2, 2, 2, 2, 2, 2, 2, 2, 2, 2, 2, 2, 2, 2, 2, 2, 2, 2, 2, 2, 2, 2, 2, 2, 2, 2, 2, 2, 2, 2, 2, 2, 2, 2, 2, 2, 2, 2, 2, 2, 2, 2, 2, 2, 2, 2, 2, 2, 2, 2, 3, 3, 3, 3, 3, 3, 3, 3, 3, 3, 3, 3, 3, 3, 3, 3, 3, 3, 3, 3, 3, 3, 3, 3, 3, 3, 3, 3, 3, 3, 3, 3, 3, 3, 3, 3, 3, 3, 3, 3, 3, 3, 3, 3, 3, 3, 3, 3, 3, 3, 3, 3, 3, 3, 3, 3, 3, 3, 3, 3, 3, 3, 3, 3, 3, 3, 3, 3, 3, 3, 3, 3, 3, 3, 3, 3, 3, 3, 3, 3, 3, 3, 3, 3, 3, 3, 3, 3, 3, 3, 3, 3, 3, 3, 3, 3, 3, 3, 3, 3, 3, 3, 3, 3, 3, 3, 3, 3, 3, 3, 3, 3, 3, 3, 3, 3, 3, 3, 3, 3, 3, 3, 3, 3, 3, 3, 3, 3, 3, 3, 3, 3, 3, 3, 3, 3, 3, 3, 3, 3, 3, 3, 3, 3, 3, 3, 3, 3, 3, 3, 3, 3, 3, 3, 3, 3, 3, 3, 3, 3, 3, 3, 3, 3, 3, 3, 3, 3, 3, 3, 3, 3, 3, 3, 3, 3, 3, 3, 3, 3, 3, 3, 3, 3, 3, 3, 3, 3, 3, 3, 3, 3, 3, 3, 3, 3, 3, 3, 3, 3, 3, 3, 3, 3, 3, 3, 3, 3, 3, 3, 3, 3, 3, 3, 3, 3, 3, 3, 3, 3, 3, 3, 3, 3, 3, 3, 3, 3, 3, 3, 3, 3, 3, 3, 3, 3, 3, 3, 3, 3, 3, 3, 3, 3, 3, 3, 3, 3, 3, 3, 3, 3, 3, 3, 3, 3, 3, 3, 3, 3, 3, 3, 3, 3, 3, 3, 3, 3, 3, 3, 3, 3, 3, 3, 3, 3, 3, 3, 3, 3, 3, 3, 3, 3, 3, 3, 3, 3, 3, 3, 3, 3, 3, 3, 3, 3, 3, 3, 3, 3, 3, 3, 3, 3, 3, 3, 3, 3, 3, 3, 3, 3, 3, 3, 3, 3, 3, 3, 3, 3, 3, 3, 3, 3, 3, 3, 3, 3, 3, 3, 3, 3, 3, 3, 3, 3, 3, 3, 3, 3, 3, 3, 3, 3, 3, 3, 3, 3, 3, 3, 3, 3, 3, 3, 2, 2, 2, 2, 2, 2, 2, 2, 2, 2, 2, 2, 2, 2, 2, 2, 2, 2, 2, 2, 2, 2, 2, 2, 2, 2, 2, 2, 2, 2, 2, 2, 2, 2, 2, 2, 2, 2, 2, 2, 2, 2, 2, 2, 2, 2, 2, 2, 2, 2, 2, 2, 2, 2, 2, 2, 2, 2, 2, 2, 2, 2, 2, 2, 2, 2, 2, 2, 2, 2, 2, 2, 2, 2, 2, 2, 2, 2, 2, 2, 2, 2, 2, 2, 2, 2, 2, 2, 2, 2, 2, 2, 2, 2, 2, 2, 2, 2, 2, 2, 2, 2, 2, 2, 2, 2, 2, 2, 2, 2, 2, 2, 2, 2, 2, 2, 2, 2, 2, 2, 2, 2, 2, 2, 2, 2, 2, 2, 2, 2, 2, 2, 2, 2, 2, 2, 2, 2, 2, 2, 2, 2, 2, 2, 2, 2, 2, 2, 2, 2, 2, 2, 2, 2, 2, 2, 2, 2, 2, 2, 2, 2, 2, 2, 2, 2, 2, 2, 2, 2, 2, 2, 2, 2, 2, 2, 2, 2, 2, 2, 2, 2, 2, 2, 2, 2, 2, 2, 2, 2, 2, 2, 2, 2, 2, 2, 2, 2, 2, 2, 2, 2, 2, 2, 2, 3, 3, 3, 3, 3, 3, 3, 3, 3, 3, 3, 3, 3, 3, 3, 3, 3, 3, 3, 3, 3, 3, 3, 3, 3, 3, 3, 3, 3, 3, 3, 3, 3, 3, 3, 3, 3, 3, 3, 3, 3, 3, 3, 3, 3, 3, 3, 3, 3, 3, 3, 3, 3, 3, 3, 3, 3, 3, 3, 3, 3, 3, 3, 3, 3, 3, 3, 3, 3, 3, 3, 3, 3, 3, 3, 3, 3, 3, 3, 3, 3, 3, 3, 3, 3, 3, 3, 3, 3, 3, 3, 3, 3, 3, 3, 3, 3, 3, 3, 3, 3, 3, 3, 3, 3, 3, 3, 3, 3, 3, 3, 3, 3, 3, 3, 3, 3, 3, 3, 3, 3, 3, 3, 3, 3, 3, 3, 3, 3, 3, 3, 3, 3, 3, 3, 3, 3, 3, 3, 3, 3, 3, 3, 3, 3, 3, 3, 3, 3, 3, 3, 3, 3, 3, 3, 3, 3, 3, 3, 3, 3, 3, 3, 3, 3, 3, 3, 3, 3, 3, 3, 3, 3, 3, 2, 2, 2, 2, 2, 2, 2, 2, 2, 2, 2, 2, 2, 2, 2, 2, 2, 2, 2, 2, 2, 2, 2, 2, 2, 2, 2, 2, 2, 2, 2, 2, 2, 2, 2, 2, 2, 2, 2, 2, 2, 2, 2, 2, 2, 2, 2, 2, 2, 2, 2, 2, 2, 2, 2, 2, 2, 2, 2, 2, 2, 2, 2, 2, 2, 2, 2, 2, 2, 2, 2, 3, 3, 3, 3, 3, 3, 3, 3, 3, 3, 3, 3, 3, 3, 3, 3, 3, 3, 3, 3, 3, 3, 3, 3, 3, 3, 3, 3, 3, 3, 3, 3, 3, 3, 3, 3, 3, 3, 3, 3, 3, 3, 3, 3, 3, 3, 3, 3, 3, 3, 3, 3, 3, 3, 3, 3, 3, 3, 3, 3, 3, 3, 3, 3, 3, 3, 3, 3, 3, 3, 3, 3, 3, 3, 3, 3, 3, 3, 3, 3, 3, 3, 3, 3, 3, 3, 3, 3, 3, 3, 3, 3, 3, 3, 3, 3, 3, 3, 3, 3, 3, 3, 3, 3, 3, 3, 3, 3, 3, 3, 3, 3, 3, 3, 3, 3, 3, 3, 3, 3, 3, 3, 3, 3, 3, 3, 3, 3, 3, 3, 3, 3, 3, 3, 3, 3, 3, 3, 3, 3, 3, 3, 3, 3, 3, 3, 3, 3, 3, 3, 3, 3, 3, 3, 3, 3, 3, 3, 3, 3, 3, 3, 3, 3, 3, 3, 3, 3, 3, 3, 3, 3, 3, 3, 3, 3, 3, 3, 3, 3, 3, 3, 3, 3, 3, 3, 3, 3, 3, 3, 3, 3, 3, 3, 3, 3, 3, 3, 3, 3, 3, 3, 3, 3, 3, 3, 3, 3, 3, 3, 3, 3, 3, 3, 3, 3, 3, 3, 3, 2, 2, 2, 2, 2, 2, 2, 2, 2, 2, 2, 2, 2, 2, 2, 2, 2, 2, 2, 2, 2, 2, 2, 2, 2, 2, 2, 2, 2, 2, 2, 2, 2, 2, 2, 2, 2, 2, 2, 2, 2, 2, 2, 2, 2, 2, 2, 2, 2, 2, 2, 2, 2, 2, 2, 2, 2, 2, 2, 2, 2, 2, 2, 2, 2, 2, 2, 2, 2, 2, 2, 2, 2, 2, 2, 2, 2, 2, 2, 2, 2, 2, 2, 2, 2, 2, 2, 2, 2, 2, 2, 2, 2, 2, 2, 2, 2, 2, 2, 2, 2, 2, 2, 2, 2, 2, 2, 2, 2, 2, 2, 2, 2, 2, 2, 2, 2, 2, 2, 2, 2, 2, 2, 2, 2, 2, 2, 2, 2, 2, 2, 2, 2, 2, 2, 2, 2, 2, 2, 2, 2, 2, 2, 2, 2, 2, 2, 2, 2, 2, 2, 2, 2, 2, 2, 2, 2, 2, 2, 2, 2, 2, 2, 2, 2, 2, 2, 2, 2, 2, 2, 2, 2, 2, 2, 2, 2, 2, 2, 2, 2, 2, 2, 2, 2, 2, 2, 2, 2, 2, 2, 2, 2, 2, 2, 2, 2, 2, 2, 2, 2, 2, 2, 2, 2, 2, 2, 2, 2, 2, 2, 2, 2, 2, 2, 2, 2, 2, 2, 2, 2, 2, 2, 2, 2, 2, 2, 2, 2, 2, 2, 2, 2, 2, 2, 2, 2, 2, 2, 2, 2, 2, 2, 2, 2, 2, 2, 2, 2, 2, 2, 2, 2, 2, 2, 2, 2, 2, 2, 2, 2, 2, 2, 2, 2, 2, 2, 2, 2, 2, 2, 2, 2, 2, 2, 2, 2, 2, 2, 2, 2, 2, 2, 2, 2, 2, 2, 2, 2, 2, 2, 2, 2, 2, 2, 2, 2, 2, 2, 2, 2, 2, 2, 2, 2, 2, 2, 2, 2, 2, 2, 2, 2, 2, 2, 2, 2, 2, 2, 2, 2, 2, 2, 2, 2, 2, 2, 2, 2, 2, 2, 2, 2, 2, 2, 2, 2, 2, 2, 2, 2, 2, 2, 2, 2, 2, 2, 2, 2, 2, 2, 2, 2, 2, 2, 2, 2, 2, 2, 2, 2, 2, 2, 2, 2, 2, 2, 2, 2, 2, 2, 2, 2, 2, 2, 2, 2, 2, 2, 2, 2, 2, 2, 2, 2, 2, 2, 2, 2, 2, 2, 2, 2, 2, 2, 2, 2, 2, 2, 2, 2, 2, 2, 2, 2, 2, 2, 2, 2, 2, 2, 2, 2, 2, 2, 2, 2, 2, 2, 2, 2, 2, 2, 2, 2, 2, 2, 2, 2, 2, 2, 2, 2, 2, 2, 2, 2, 2, 2, 2, 2, 2, 2, 2, 2, 2, 2, 2, 2, 2, 2, 2, 2, 2, 2, 2, 2, 2, 2, 2, 2, 2, 2, 2, 2, 2, 2, 2, 2, 2, 2, 2, 2, 2, 2, 2, 2, 2, 2, 2, 2, 2, 2, 2, 2, 2, 2, 2, 2, 2, 2, 2, 2, 2, 2, 2, 2, 2, 2, 2, 2, 2, 2, 2, 2, 2, 2, 2, 2, 2, 2, 2, 2, 2, 2, 2, 2, 2, 2, 2, 2, 2, 2, 2, 2, 2, 2, 2, 2, 2, 2, 2, 2, 2, 2, 2, 2, 2, 2, 2, 2, 2, 2, 2, 2, 2, 2, 2, 2, 2, 2, 2, 2, 2, 2, 2, 2, 2, 2, 2, 2, 2, 2, 2, 2, 2, 2, 2, 2, 2, 2, 2, 2, 2, 2, 2, 2, 2, 2, 2, 2, 2, 2, 2, 2, 2, 2, 2, 2, 2, 2, 2, 2, 2, 2, 2, 2, 2, 2, 2, 2, 2, 2, 2, 2, 2, 2, 2, 2, 2, 2, 2, 2, 2, 2, 2, 2, 2, 2, 2, 2, 2, 2, 2, 2, 2, 2, 2, 2, 2, 2, 2, 2, 2, 2, 2, 2, 2, 2, 2, 2, 2, 2, 2, 2, 2, 2, 2, 2, 2, 2, 2, 2, 2, 2, 2, 2, 2, 2, 2, 2, 2, 2, 2, 2, 2, 2, 2, 2, 2, 2, 2, 2, 2, 2, 2, 2, 2, 2, 2, 2, 2, 2, 2, 2, 2, 2, 2, 2, 2, 2, 2, 2, 2, 2, 2, 2, 2, 2, 2, 2, 2, 2, 2, 2, 2, 2, 2, 2, 2, 2, 2, 2, 2, 2, 2, 2, 2, 2, 2, 2, 2, 2, 2, 2, 2, 2, 2, 2, 2, 2, 2, 2, 2, 2, 2, 2, 2, 2, 2, 2, 2, 2, 2, 2, 2, 2, 2, 2, 2, 2, 2, 2, 2, 2, 2, 2, 2, 2, 2, 2, 2, 2, 2, 2, 2, 2, 2, 2, 2, 2, 2, 2, 2, 2, 2, 2, 2, 2, 2, 2, 2, 2, 2, 2, 2, 2, 2, 2, 2, 2, 2, 2, 2, 2, 2, 2, 2, 2, 2, 2, 2, 2, 2, 2, 2, 2, 2, 2, 2, 2, 2, 2, 2, 2, 2, 2, 2, 2, 2, 2, 2, 2, 2, 2, 2, 2, 2, 2, 2, 2, 2, 2, 2, 2, 2, 2, 2, 2, 2, 2, 2, 2, 2, 2, 2, 2, 2, 2, 2, 2, 2, 2, 2, 2, 2, 2, 2, 2, 2, 2, 2, 2, 2, 2, 2, 2, 2, 2, 2, 2, 2, 2, 2, 2, 2, 2, 2, 2, 2, 2, 2, 2, 2, 2, 2, 2, 2, 2, 2, 2, 2, 2, 2, 2, 2, 2, 2, 2, 2, 2, 2, 2, 2, 2, 2, 2, 2, 2, 2, 2, 2, 2, 2, 2, 2, 2, 2, 2, 2, 2, 2, 2, 2, 2, 2, 2, 2, 2, 2, 2, 2, 2, 2, 2, 2, 2, 2, 2, 2, 2, 2, 2, 2, 2, 2, 2, 2, 2, 2, 2, 2, 2, 2, 2, 2, 2, 2, 2, 2, 2, 2, 2, 2, 2, 2, 2, 2, 2, 2, 2, 2, 2, 2, 2, 2, 2, 2, 2, 2, 2, 2, 2, 2, 2, 2, 2, 2, 2, 2, 2, 2, 2, 2, 2, 2, 2, 2, 2, 2, 2, 2, 2, 2, 2, 2, 2, 2, 2, 2, 2, 2, 2, 2, 2, 2, 2, 2, 2, 2, 2, 2, 2, 2, 2, 2, 2, 2, 2, 2, 2, 2, 2, 2, 2, 2, 2, 2, 2, 2, 2, 2, 2, 2, 2, 2, 2, 2, 2, 2, 2, 2, 2, 2, 2, 2, 2, 2, 2, 2, 2, 2, 2, 2, 2, 2, 2, 2, 2, 2, 2, 2, 2, 2, 2, 2, 2, 2, 2, 2, 2, 2, 2, 2, 2, 2, 2, 2, 2, 2, 2, 2, 2, 2, 2, 2, 2, 2, 2, 2, 2, 2, 2, 2, 2, 2, 2, 2, 2, 2, 2, 2, 2, 2, 2, 2, 2, 2, 2, 2, 2, 2, 2, 2, 2, 2, 2, 2, 2, 2, 2, 2, 2, 2, 2, 2, 2, 2, 2, 2, 2, 2, 2, 2, 2, 2, 2, 2, 2, 2, 2, 2, 2, 2, 2, 2, 2, 2, 2, 2, 2, 2, 2, 2, 2, 2, 2, 2, 2, 2, 2, 2, 2, 2, 2, 2, 2, 2, 2, 2, 2, 2, 2, 2, 2, 2, 2, 2, 2, 2, 2, 2, 2, 2, 2, 2, 2, 2, 2, 2, 2, 2, 2, 2, 2, 2, 2, 2, 2, 2, 2, 2, 2, 2, 2, 2, 2, 2, 2, 2, 2, 2, 2, 2, 2, 2, 2, 2, 2, 2, 2, 2, 2, 2, 2, 2, 2, 2, 2, 2, 2, 2, 2, 2, 2, 2, 2, 2, 2, 2, 2, 2, 2, 2, 2, 2, 2, 2, 2, 2, 2, 2, 2, 2, 2, 2, 2, 2, 2, 2, 2, 2, 2, 2, 2, 2, 2, 2, 2, 2, 2, 2, 2, 2, 2, 2, 2, 2, 2, 2, 2, 2, 2, 2, 2, 2, 2, 2, 2, 2, 2, 2, 2, 2, 2, 2, 2, 2, 2, 2, 2, 2, 2, 2, 2, 2, 2, 2, 2, 2, 2, 2, 2, 2, 2, 2, 2, 2, 2, 2, 2, 2, 2, 2, 2, 2, 2, 2, 2, 2, 2, 2, 2, 2, 2, 2, 2, 2, 2, 2, 2, 2, 2, 2, 2, 2, 2, 2, 2, 2, 2, 2, 2, 2, 2, 2, 2, 2, 2, 2, 2, 2, 2, 2, 2, 2, 2, 2, 2, 2, 2, 2, 2, 2, 2, 2, 2, 2, 2, 2, 2, 2, 2, 2, 2, 2, 2, 2, 2, 2, 2, 2, 2, 2, 2, 2, 2, 2, 2, 2, 2, 2, 2, 2, 2, 2, 2, 2, 2, 2, 2, 2, 2, 2, 2, 2, 2, 2, 2, 2, 2, 2, 2, 2, 2, 2, 2, 2, 2, 2, 2, 2, 2, 2, 2, 2, 2, 2, 2, 2, 2, 2, 2, 2, 2, 2, 2, 2, 2, 2, 2, 2, 2, 2, 2, 2, 2, 2, 2, 2, 2, 2, 2, 2, 2, 2, 2, 2, 2, 2, 2, 2, 2, 2, 2, 2, 2, 2, 2, 2, 2, 2, 2, 2, 2, 2, 2, 2, 2, 2, 2, 2, 2, 2, 2, 2, 2, 2, 2, 2, 2, 2, 2, 2, 2, 2, 2, 2, 2, 2, 2, 2, 2, 2, 2, 2, 2, 2, 2, 2, 2, 2, 2, 2, 2, 2, 2, 2, 2, 2, 2, 2, 2, 2, 2, 2, 2, 2, 2], \"type\": \"scatter\", \"mode\": \"markers\"}], {\"yaxis\": {\"title\": \"Time Enrolled\"}, \"xaxis\": {\"title\": \"Days Open\"}, \"title\": \"Days Open vs Time Enrolled\"}, {\"linkText\": \"Export to plot.ly\", \"showLink\": true})});</script>"
      ],
      "text/plain": [
       "<IPython.core.display.HTML object>"
      ]
     },
     "metadata": {},
     "output_type": "display_data"
    }
   ],
   "source": [
    "# Days Open and Time Enrolled\n",
    "\n",
    "twodays_time = students[students['days_open'] == 2]['time_enrolled']\n",
    "threedays_time = students[students['days_open'] == 3]['time_enrolled']\n",
    "\n",
    "\n",
    "print(\"The p value is \" + str(sp.stats.ttest_ind(twodays_time, threedays_time,axis=0, equal_var=False).pvalue/float(2)) + \" and the t value is \" + str(sp.stats.ttest_ind(twodays_time, threedays_time,axis=0, equal_var=False).statistic/float(2)))\n",
    "print (\"The effect size is \" + str(cohensd(twodays_time, threedays_time)))\n",
    "print(\"Centers open for 2 days hav an average enrllment of \" + str(int(np.mean(twodays_time))) + \" days\")\n",
    "print(\"Centers open for 3 days hav an average enrllment of \" + str(int(np.mean(threedays_time)))+ \" days\")\n",
    "#print(\" The number of days the center is open does not seem to have a significant impact on the logistic regression - but the 2 distributions are significantly different: The centers open for 2 days have a higher mean enrollment time than those open for 3 days, albeit with a small effect size. This might be a feature we need to boost up in the LR model\")\n",
    "      \n",
    "trace1 = Scatter(x=students['days_open'],y=students['time_enrolled'], mode='markers')\n",
    "data = [trace1]\n",
    "layout = Layout(xaxis=dict(title = 'Days Open'),\n",
    "                 yaxis=dict(title='Time Enrolled'),\n",
    "                title='Days Open vs Time Enrolled')\n",
    "\n",
    "\n",
    "fig1 = Figure(data=data, layout=layout)\n",
    "iplot(fig1)"
   ]
  },
  {
   "cell_type": "code",
   "execution_count": 64,
   "metadata": {
    "collapsed": false
   },
   "outputs": [
    {
     "data": {
      "text/html": [
       "<div id=\"4e8c1823-82c4-4895-84a8-49fab8febf85\" style=\"height: 525px; width: 100%;\" class=\"plotly-graph-div\"></div><script type=\"text/javascript\">require([\"plotly\"], function(Plotly) { window.PLOTLYENV=window.PLOTLYENV || {};window.PLOTLYENV.BASE_URL=\"https://plot.ly\";Plotly.newPlot(\"4e8c1823-82c4-4895-84a8-49fab8febf85\", [{\"y\": [90, 241, 85, 83, 149, 47, 57, 205, 225, 234, 469, 38, 23, 445, 82, 59, 54, 206, 17, 40, 240, 522, 15, 98, 161, 426, 23, 392, 263, 264, 424, 53, 41, 598, 139, 212, 77, 241, 160, 464, 12, 18, 41, 187, 210, 229, 272, 207, 68, 53, 453, 271, 133, 119, 107, 416, 348, 76, 229, 232, 97, 113, 142, 167, 12, 13, 140, 147, 101, 351, 327, 86, 85, 84, 609, 109, 98, 31, 552, 148, 148, 51, 27, 74, 41, 193, 77, 537, 433, 878, 334, 732, 338, 74, 557, 47, 88, 36, 259, 74, 93, 196, 197, 49, 1050, 505, 77, 77, 785, 480, 77, 263, 270, 229, 52, 40, 113, 52, 182, 112, 57, 418, 141, 42, 1332, 1188, 175, 1085, 389, 490, 478, 588, 154, 160, 551, 150, 42, 678, 40, 241, 155, 13, 292, 231, 1506, 1343, 451, 224, 288, 65, 85, 50, 401, 91, 395, 287, 159, 389, 363, 651, 150, 112, 150, 116, 115, 806, 663, 299, 678, 231, 663, 679, 244, 425, 1285, 505, 146, 99, 659, 657, 786, 191, 59, 59, 69, 110, 286, 34, 18, 821, 191, 173, 1049, 772, 160, 175, 1059, 203, 357, 14, 77, 224, 37, 14, 131, 134, 210, 32, 53, 209, 334, 288, 558, 267, 14, 34, 173, 1134, 37, 133, 336, 735, 117, 732, 293, 162, 111, 961, 105, 537, 61, 114, 176, 826, 28, 951, 537, 118, 82, 208, 318, 615, 157, 77, 343, 236, 660, 270, 270, 137, 122, 224, 235, 261, 221, 1165, 762, 289, 126, 425, 16, 103, 294, 126, 180, 426, 294, 180, 146, 236, 307, 80, 257, 196, 1340, 699, 210, 340, 116, 233, 1363, 97, 257, 108, 104, 1342, 823, 1442, 14, 457, 440, 616, 1362, 41, 54, 616, 475, 635, 210, 658, 137, 152, 1071, 31, 3, 196, 398, 585, 279, 137, 197, 173, 175, 312, 224, 373, 232, 124, 231, 105, 173, 40, 431, 208, 322, 143, 87, 25, 697, 312, 697, 87, 324, 62, 104, 827, 399, 574, 201, 596, 623, 156, 496, 13, 453, 576, 911, 212, 1267, 392, 136, 392, 709, 102, 227, 210, 196, 806, 105, 1185, 211, 984, 211, 68, 114, 171, 211, 249, 307, 44, 155, 357, 602, 57, 1088, 73, 307, 89, 196, 489, 89, 114, 905, 157, 56, 59, 905, 18, 805, 574, 66, 260, 881, 196, 714, 441, 326, 504, 842, 13, 187, 87, 1763, 1296, 180, 80, 545, 209, 30, 77, 675, 538, 504, 48, 537, 305, 140, 139, 77, 337, 305, 161, 440, 455, 378, 21, 261, 448, 290, 67, 546, 637, 196, 713, 546, 285, 84, 196, 106, 906, 245, 247, 189, 146, 149, 191, 91, 254, 193, 174, 245, 24, 244, 246, 89, 253, 245, 121, 64, 72, 254, 260, 150, 143, 141, 260, 101, 30, 253, 266, 19, 37, 255, 25, 269, 53, 73, 257, 181, 247, 45, 14, 230, 219, 206, 36, 272, 19, 19, 23, 183, 36, 6, 257, 274, 171, 159, 157, 30, 26, 176, 155, 262, 92, 77, 61, 260, 255, 273, 62, 197, 77, 289, 92, 153, 32, 31, 168, 153, 122, 245, 249, 222, 269, 123, 6, 245, 19, 0, 0, 0, 249, 59, 87, 249, 252, 31, 252, 78, 122, 12, 247, 266, 236, 63, 176, 51, 473, 103, 39, 76, 285, 42, 42, 106, 58, 84, 86, 107, 111, 122, 201, 80, 168, 141, 270, 177, 377, 77, 196, 73, 289, 83, 179, 181, 60, 81, 74, 41, 324, 324, 102, 102, 5, 91, 173, 236, 353, 23, 23, 117, 42, 56, 578, 114, 55, 23, 212, 212, 69, 212, 212, 222, 25, 35, 73, 71, 220, 240, 474, 40, 42, 111, 76, 172, 172, 301, 52, 69, 114, 288, 241, 134, 39, 368, 117, 220, 53, 54, 86, 117, 454, 454, 77, 140, 46, 128, 116, 228, 228, 53, 502, 513, 38, 38, 257, 248, 178, 368, 96, 492, 163, 748, 404, 790, 105, 188, 28, 92, 104, 49, 79, 87, 137, 104, 133, 307, 185, 27, 412, 103, 83, 105, 23, 329, 48, 748, 452, 0, 474, 417, 563, 342, 188, 309, 34, 829, 179, 39, 48, 333, 124, 72, 137, 406, 220, 22, 425, 19, 138, 249, 285, 128, 164, 252, 1, 360, 126, 14, 836, 97, 83, 305, 305, 25, 154, 47, 153, 76, 216, 882, 315, 563, 333, 43, 9, 132, 84, 139, 351, 398, 426, 177, 398, 266, 489, 168, 190, 665, 426, 305, 1033, 211, 63, 629, 456, 570, 1144, 426, 304, 46, 265, 55, 230, 279, 48, 90, 104, 88, 350, 69, 214, 21, 400, 753, 66, 45, 140, 55, 188, 174, 135, 265, 19, 87, 142, 110, 111, 184, 110, 358, 50, 50, 81, 204, 267, 267, 134, 122, 107, 23, 273, 212, 9, 7, 172, 172, 13, 242, 50, 241, 297, 261, 293, 292, 167, 27, 35, 29, 83, 128, 238, 38, 46, 57, 273, 216, 240, 316, 43, 261, 730, 157, 28, 406, 381, 301, 144, 129, 175, 169, 93, 84, 275, 371, 197, 112, 328, 177, 49, 58, 406, 500, 91, 616, 106, 106, 157, 57, 195, 485, 97, 112, 169, 45, 485, 45, 266, 263, 107, 211, 539, 539, 132, 24, 98, 281, 69, 96, 7, 16, 328, 350, 30, 305, 178, 625, 283, 169, 339, 318, 45, 45, 515, 535, 357, 75, 613, 56, 413, 397, 86, 7, 558, 603, 698, 52, 188, 699, 322, 158, 473, 913, 552, 1428, 223, 59, 444, 318, 205, 77, 166, 381, 130, 59, 315, 94, 1252, 69, 132, 1449, 1449, 192, 1347, 378, 248, 906, 52, 248, 73, 689, 33, 301, 83, 298, 842, 724, 1245, 545, 87, 814, 258, 75, 815, 7, 141, 426, 1801, 441, 89, 1372, 21, 42, 139, 65, 30, 121, 63, 70, 39, 464, 86, 85, 87, 215, 83, 385, 82, 619, 78, 45, 48, 286, 1155, 319, 1290, 606, 259, 452, 111, 168, 782, 531, 251, 166, 119, 290, 798, 224, 606, 1379, 821, 119, 459, 1670, 31, 331, 598, 181, 346, 542, 293, 157, 14, 231, 462, 612, 150, 1169, 231, 206, 27, 85, 183, 839, 498, 115, 682, 323, 151, 90, 120, 440, 16, 256, 236, 973, 149, 401, 63, 371, 908, 913, 45, 637, 526, 198, 148, 155, 343, 789, 427, 172, 51, 1207, 372, 87, 175, 1025, 760, 759, 329, 592, 196, 126, 271, 1114, 362, 119, 149, 263, 122, 369, 1033, 223, 294, 1113, 1315, 994, 178, 753, 390, 210, 240, 86, 170, 55, 90, 507, 636, 126, 448, 142, 745, 946, 176, 452, 74, 81, 136, 239, 1120, 1347, 383, 119, 84, 110, 134, 325, 268, 84, 326, 14, 226, 247, 205, 921, 711, 221, 53, 23, 28, 28, 35, 37, 35, 17, 149, 25, 24, 25, 119, 57, 115, 212, 101, 84, 137, 133, 70, 137, 193, 178, 140, 116, 187, 184, 233, 589, 176, 270, 11, 796, 108, 249, 215, 130, 33, 149, 798, 796, 1120, 142, 99, 804, 307, 34, 902, 29, 585, 56, 135, 254, 568, 827, 337, 15, 363, 269, 357, -102, 101, 458, 224, 69, 58, 493, 199, 122, 124, 1093, 1385, 121, 40, 781, 1385, 98, 545, 177, 55, 235, 82, 208, 523, 542, 210, 316, 35, 23, 546, 130, 313, 184, 163, 303, 31, 11, 232, 197, 110, 34, 175, 553, 189, 951, 476, 561, 56, 136, 34, 134, 228, 314, 394, 309, 1147, 41, 12, 37, 141, 77, 77, 70, 42, 255, 169, 49, 43, 231, 373, 116, 170, 260, 220, 1338, 66, 159, 76, 191, 7, 377, 98, 156, 83, 156, 154, 421, 141, 1048, 1274, 678, 160, 176, 132, 548, 403, 39, 228, 39, 85, 382, 364, 78, 79, 148, 875, 143, 39, 232, 364, 77, 410, 207, 364, 708, 176, 64, 93, 999, 69, 46, 52, 1006, 43, 41, 650, 732, 171, 81, 55, 336, 175, 251, 173, 663, 364, 15, 343, 44, 2, 988, 239, 218, 447, 80, 267, 36, 1086, 78, 264, 105, 78, 980, 321, 197, 261, 100, 362, 66, 116, 30, 189, 230, 197, 30, 86, 200, 226, 413, 287, 30, 218, 457, 356, 99, 19, 16, 30, 189, 39, 528, 259, 30, 48, 312, 91, 9, 543, 20, 211, 848, 48, 92, 50, 712, 220, 211, 211, 959, 823, 692, 1449, 573, 566, 100, 546, 1267, 580, 1692, 547, 105, 996, 1896, 573, 2081, 243, 1113, 1206, 1973, 574, 1110, 164, 1455, 114, 393, 410, 791, 107, 1497, 663, 679, 1475, 202, 879, 1078, 807, 909, 601, 219, 193, 2624, 748, 138, 244, 725, 1352, 275, 2501, 1536, 1483, 1677, 335, 429, 358, 1325, 162, 146, 303, 775, 174, 51, 1833, 363, 62, 89, 366, 946, 55, 85, 431, 1028, 479, 482, 348, 743, 752, 419, 133, 1402, 535, 752, 37, 1730, 121, 1301, 1553, 2338, 636, 544, 913, 121, 590, 174, 328, 317, 174, 1322, 356, 463, 359, 258, 1333, 477, 1344, 699, 988, 113, 126, 969, 608, 484, 575, 1692, 574, 747, 45, 1269, 192, 1143, 198, 83, 62, 745, 139, 44, 332, 1193, 65, 230, 331, 93, 206, 258, 561, 324, 6, 2266, 1323, 545, 311, 496, 84, 1525, 363, 2313, 521, 530, 561, 240, 417, 1190, 848, 19, 359, 148, 1199, 617, 1454, 897, 601, 601, 1666, 1539, 1013, 267, 377, 267, 734, 288, 345, 469, 91, 819, 464, 398, 758, 592, 1099, 1819, 454, 443, 965, 758, 741, 378, 1212, 500, 818, 388, 131, 1427, 91, 103, 755, 576, 1760, 2077, 2180, 1710, 1476, 568, 456, 2860, 2076, 2024, 808, 980, 227, 865, 429, 521, 392, 949, 1985, 1657, 699, 834, 848, 713, 713, 132, 834, 402, 315, 1213, 107, 197, 671, 1215, 345, 342, 1393, 657, 234, 631, 734, 104, 650, 651, 41, 479, 83, 244, 508, 76, 227, 350, 261, 384, 380, 450, 381, 373, 338, 368, 272, 274, 1605, 148, 388, 1217, 321, 497, 377, 733, 761, 626, 997, 23, 656, 1200, 763, 1873, 66, 2635, 638, 20, 846, 366, 1162, 202, 1122, 1983, 390, 393, 2522, 254, 393, 477, 390, 30, 118, 432, 2006, 457, 2629, 118, 544, 123, 1290, 80, 2222, 624, 1357, 138, 1725, 2263, 314, 380, 486, 1970, 874, 1717, 38, 1611, 120, 2071, 2623, 838, 444, 51, 211, 689, 2207, 1035, 982, 2067, 597, 440, 28, 147, 959, 402, 2695, 28, 314, 503, 1088, 848, 2112, 884, 149, 907, 148, 132, 1356, 233, 1007, 1766, 1133, 363, 1186, 265, 1215, 149, 1818, 941, 142, 631, 77, 552, 265, 628, 772, 1321, 1441, 580, 1374, 370, 720, 2728, 2469, 1542, 631, 88, 1727, 646, 1307, 2627, 1487, 118, 1563, 911, 103, 88, 790, 267, 1642, 1244, 2207, 688, 191, 593, 198, 905, 545, 1209, 114, 712, 1094, 541, 593, 34, 122, 23, 287, 343, 1249, 99, 46, 653, 2772, 338, 1114, 215, 198, 721, 335, 553, 1106, 1726, 315, 412, 973, 40, 979, 37, 226, 311, 117, 323, 1726, 19, 238, 655, 479, 20, 161, 241, 1061, 821, 905, 272, 86, 230, 1716, 193, 373, 935, 450, 40, 299, 105, 1884, 132, 73, 399, 198, 246, 443, 180, 164, 99, 65, 730, 282, 552, 436, 178, 527, 414, 245, 79, 506, 54, 1460, 499, 28, 106, 388, 232, 336, 351, 210, 357, 192, 1636, 317, 568, 479, 1270, 559, 26, 2031, 1516, 450, 35, 726, 137, 531, 833, 1065, 1064, 79, 1270, 137, 179, 1738, 270, 1491, 128, 131, 393, 466, 470, 1491, 132, 516, 71, 177, 542, 347, 122, 791, 116, 311, 2128, 147, 598, 1047, 179, 513, 13, 223, 748, 1883, 114, 272, 512, 171, 111, 348, 308, 63, 896, 114, 48, 349, 268, 105, 207, 51, 168, 77, 5, 51, 217, 211, 201, 837, 257, 85, 298, 764, 532, 124, 1132, 213, 590, 1012, 44, 134, 424, 153, 501, 423, 170, 274, 21, 1623, 1650, 329, 181, 1219, 358, 281, 50, 19, 51, 516, 29, 1631, 657, 215, 312, 353, 261, 1513, 512, 657, 156, 212, 14, 182, 161, 149, 184, 214, 609, 680, 658, 230, 271, 200, 147, 194, 329, 403, 235, 118, 220, 126, 166, 510, 592, 73, 588, 71, 96, 195, 294, 648, 242, 84, 1765, 664, 986, 802, 1473, 546, 1640, 77, 355, 125, 361, 603, 323, 243, 464, 660, 660, 433, 301, 175, 723, 547, 201, 1032, 44, 305, 271, 212, 104, 224, 343, 350, 1205, 177, 320, 40, 63, 459, 108, 183, 688, 490, 300, 140, 1367, 163, 482, 258, 39, 626, 300, 986, 895, 622, 626, 329, 601, 168, 49, 195, 601, 119, 864, 195, 198, 249, 107, 176, 865, 34, 181, 179, 872, 170, 323, 1405, 461, 169, 1201, 798, 1428, 51, 751, 237, 245, 120, 97, 373, 173, 310, 455, 14, 187, 702, 383, 823, 454, 454, 77, 100, 63, 671, 48, 399, 745, 1445, 459, 882, 104, 252, 1393, 405, 184, 350, 574, 574, 81, 525, 889, 808, 284, 142, 1203, 168, 168, 83, 185, 940, 1332, 225, 86, 209, 247, 499, 170, 329, 1133, 243, 443, 139, 54, 688, 133, 437, 746, 334, 139, 334, 235, 334, 15, 77, 90, 143, 148, 733, 111, 61, 228, 1274, 275, 63, 64, 63, 442, 426, 105, 123, 775, 525, 167, 395, 22, 378, 359, 514, 1461, 161, 350, 58, 419, 1260, 241, 350, 861, 1598, 775, 1398, 926, 2090, 285, 161, 332, 180, 1139, 112, 8, 142, 90, 502, 295, 47, 636, 118, 342, 217, 218, 138, 367, 435, 1134, 365, 952, 574, 189, 293, 758, 36, 163, 689, 890, 1090, 296, 34, 327, 560, 67, 2357, 238, 357, 62, 517, 1825, 242, 991, 833, 189, 177, 190, 81, 379, 411, 79, 981, 135, 341, 53, 14, 455, 701, 29, 29, 260, 576, 342, 708, 170, 28, 247, 58, 112, 928, 180, 1388, 112, 2537, 250, 2070, 75, 133, 545, 350, 546, 434, 1269, 625, 175, 213, 370, 44, 1113, 514, 260, 332, 35, 608, 227, 152, 455, 680, 55, 74, 532, 180, 41, 202, 390, 343, 889, 202, 342, 350, 420, 907, 253, 547, 889, 392, 107, 452, 374, 547, 367, 248, 42, 58, 101, 140, 101, 874, 1708, 1047, 403, 716, 1141, 90, 183, 450, 60, 354, 298, 297, 135, 523, 1330, 127, 301, 266, 940, 600, 813, 63, 192, 467, 143, 14, 59, 1271, 379, 239, 189, 1349, 469, 51, 504, 546, 114, 339, 164, 237, 160, 105, 323, 520, 101, 546, 155, 197, 600, 212, 547, 89, 57, 322, 56, 151, 8, 211, 39, 28, 64, 322, 1680, 151, 1721, 306, 1607, 440, 1815, 498, 1881, 98, 291, 970, 889, 2035, 1501, 89, 23, 85, 14, 549, 409, 93, 42, 500, 30, 25, 252, 15, 59, 524, 15, 124, 58, 28, 104, 166, 136, 87, 329, 106, 179, 39, 365, 37, 7, 152, 76, 243, 77, 57, 211, 243, 240, 260, 214, 250, 48, 121, 148, 149, 48, 85, 75, 265, 149, 76, 343, 213, 88, 429, 24, 250, 142, 47, 318, 350, 26, 362, 75, 89, 46, 228, 57, 59, 60, 209, 26, 14, 515, 89, 12, 75, 518, 76, 457, 334, 60, 107, 75, 128, 25, 470, 209, 105, 464, 32, 67, 20, 100, 149, 100, 64, 16, 206, 16, 133, 334, 303, 89, 20, 497, 98, 20, 29, 90, 18, 56, 63, 53, 349, 341, 211, 67, 252, 231, 39, 534, 407, 152, 137, 450, 393, 14, 123, 14, 14, 116, 171, 21, 238, 252, 49, 426, 318, 399, 112, 58, 27, 20, 417, 18, 295, 53, 175, 11, 56, 116, 56, 46, 119, 119, 232, 238, 60, 133, 177, 30, 224, 483, 479, 119, 18, 159, 88, 406, 220, 73, 76, 56, 197, 419, 32, 173, 420, 99, 100, 123, 53, 604, 305, 91, 603, 235, 124, 41, 227, 138, 174, 127, 145, 43, 48, 19, 46, 165, 31, 108, 273, 108, 98, 25, 110, 91, 45, 266, 335, 58, 67, 121, 596, 63, 377, 78, 90, 378, 90, 37, 70, 346, 33, 71, 370, 176, 166, 91, 372, 212, 321, 70, 44, 289, 373, 34, 21, 151, 165, 362, 316, 161, 266, 35, 21, 61, 21, 119, 37, 334, 18, 14, 3, 524, 172], \"x\": [13, 14, 8, 11, 14, 10, 14, 7, 9, 9, 11, 17, 7, 9, 13, 8, 11, 11, 8, 8, 13, 7, 9, 16, 12, 10, 10, 11, 7, 7, 10, 4, 11, 8, 9, 12, 10, 11, 11, 11, 6, 14, 8, 10, 12, 11, 9, 11, 9, 5, 9, 12, 12, 5, 10, 9, 13, 10, 11, 7, 13, 12, 8, 9, 13, 14, 7, 9, 5, 11, 9, 9, 11, 12, 7, 10, 13, 9, 10, 7, 8, 10, 9, 11, 11, 9, 5, 9, 5, 5, 7, 9, 9, 9, 5, 5, 11, 11, 7, 7, 8, 10, 12, 9, 6, 8, 9, 7, 7, 8, 8, 5, 9, 6, 11, 11, 9, 9, 3, 9, 12, 5, 6, 11, 3, 6, 9, 10, 10, 12, 9, 3, 6, 7, 12, 4, 9, 5, 11, 6, 9, 9, 10, 4, 9, 8, 9, 6, 8, 13, 10, 5, 5, 19, 11, 10, 8, 3, 6, 11, 11, 8, 11, 3, 26, 11, 7, 8, 7, 7, 7, 3, 4, 12, 10, 4, 4, 5, 11, 13, 5, 12, 11, 9, 6, 4, 9, 6, 8, 8, 11, 5, 6, 4, 10, 8, 8, 9, 5, 10, 9, 7, 7, 7, 5, 11, 6, 10, 12, 10, 7, 4, 7, 11, 13, 9, 8, 8, 10, 8, 5, 7, 12, 6, 14, 6, 11, 8, 10, 7, 11, 7, 8, 8, 6, 10, 10, 12, 7, 9, 10, 9, 5, 9, 6, 6, 11, 10, 11, 12, 12, 6, 5, 6, 10, 8, 8, 8, 10, 9, 8, 9, 8, 12, 9, 6, 11, 8, 11, 8, 3, 9, 7, 7, 10, 10, 5, 8, 11, 5, 9, 8, 5, 4, 6, 10, 13, 7, 11, 7, 12, 9, 10, 13, 5, 7, 8, 10, 8, 8, 13, 7, 11, 6, 14, 9, 6, 12, 4, 11, 6, 7, 7, 7, 8, 9, 10, 9, 11, 6, 15, 10, 12, 4, 5, 6, 9, 11, 7, 11, 4, 10, 10, 9, 10, 11, 4, 8, 11, 4, 5, 9, 10, 7, 9, 6, 6, 7, 10, 9, 9, 4, 8, 6, 8, 8, 7, 7, 12, 8, 5, 4, 8, 6, 10, 7, 10, 6, 5, 10, 10, 8, 7, 10, 8, 12, 8, 11, 6, 7, 13, 9, 7, 10, 9, 7, 5, 13, 6, 7, 3, 9, 11, 8, 12, 13, 9, 6, 3, 7, 9, 10, 6, 9, 11, 9, 12, 6, 12, 9, 12, 7, 8, 12, 12, 9, 6, 5, 10, 6, 7, 15, 4, 10, 11, 16, 10, 8, 8, 12, 6, 9, 6, 9, 6, 10, 4, 8, 11, 4, 6, 6, 9, 9, 6, 10, 12, 11, 13, 8, 12, 15, 8, 5, 10, 8, 7, 9, 6, 8, 9, 11, 11, 9, 11, 7, 8, 4, 5, 4, 8, 4, 8, 6, 8, 12, 6, 4, 6, 9, 9, 5, 10, 7, 7, 5, 10, 7, 4, 9, 12, 5, 9, 9, 11, 8, 9, 12, 9, 4, 5, 9, 7, 5, 5, 7, 10, 6, 8, 3, 12, 12, 6, 9, 5, 12, 4, 6, 11, 8, 6, 7, 7, 10, 2, 3, 8, 7, 7, 4, 14, 4, 7, 9, 10, 7, 7, 7, 6, 9, 9, 6, 4, 9, 11, 12, 9, 7, 13, 6, 11, 7, 6, 8, 11, 17, 8, 12, 11, 8, 12, 7, 5, 3, 6, 8, 6, 8, 11, 8, 7, 10, 11, 10, 7, 14, 9, 12, 5, 12, 7, 11, 11, 3, 11, 10, 11, 4, 6, 7, 12, 10, 13, 6, 6, 10, 9, 14, 6, 8, 11, 6, 9, 9, 8, 5, 9, 7, 6, 9, 11, 5, 6, 9, 9, 10, 12, 9, 12, 9, 6, 7, 11, 11, 8, 8, 13, 11, 10, 13, 14, 6, 7, 14, 17, 13, 6, 8, 14, 8, 9, 13, 5, 7, 5, 8, 12, 8, 7, 10, 13, 3, 5, 12, 11, 8, 13, 4, 15, 4, 12, 10, 14, 9, 8, 7, 10, 10, 4, 10, 10, 9, 4, 10, 7, 14, 13, 5, 11, 8, 9, 7, 4, 15, 11, 11, 9, 8, 13, 8, 9, 9, 14, 10, 6, 6, 6, 12, 14, 7, 10, 9, 7, 7, 4, 11, 14, 10, 10, 14, 10, 14, 11, 10, 10, 6, 6, 12, 12, 8, 6, 13, 5, 10, 14, 8, 4, 13, 11, 46, 14, 13, 6, 9, 9, 3, 8, 5, 5, 6, 11, 9, 10, 8, 10, 16, 12, 10, 6, 6, 12, 10, 5, 8, 12, 10, 7, 7, 14, 9, 7, 6, 7, 15, 10, 11, 7, 6, 10, 12, 12, 10, 3, 7, 10, 6, 10, 5, 9, 6, 8, 11, 8, 4, 4, 12, 5, 5, 7, 13, 5, 7, 13, 8, 5, 8, 7, 6, 8, 6, 11, 8, 4, 13, 11, 4, 8, 6, 6, 9, 4, 4, 7, 9, 7, 8, 5, 4, 11, 8, 10, 5, 7, 8, 15, 12, 10, 6, 8, 8, 5, 12, 4, 7, 9, 5, 9, 5, 14, 6, 13, 11, 6, 7, 9, 5, 5, 10, 6, 4, 9, 11, 12, 8, 9, 3, 11, 11, 7, 5, 9, 8, 10, 10, 8, 6, 7, 5, 6, 9, 13, 8, 8, 10, 14, 8, 8, 5, 6, 7, 7, 9, 9, 8, 12, 3, 2, 2, 7, 6, 3, 3, 3, 13, 4, 7, 8, 5, 4, 9, 11, 11, 13, 8, 11, 9, 10, 5, 10, 7, 4, 4, 8, 7, 9, 7, 7, 7, 9, 15, 6, 4, 11, 9, 13, 12, 11, 9, 7, 5, 5, 11, 4, 10, 9, 7, 8, 11, 13, 7, 5, 10, 7, 7, 12, 14, 10, 11, 11, 9, 9, 5, 7, 8, 6, 12, 5, 8, 8, 5, 9, 11, 9, 4, 13, 7, 7, 12, 10, 5, 10, 9, 10, 11, 13, 9, 10, 11, 8, 6, 6, 7, 10, 10, 10, 6, 6, 8, 9, 6, 7, 10, 5, 8, 9, 7, 8, 8, 7, 12, 5, 14, 8, 5, 8, 9, 14, 11, 3, 6, 9, 6, 6, 5, 8, 9, 9, 12, 11, 9, 5, 8, 10, 9, 6, 7, 8, 4, 10, 11, 12, 15, 7, 4, 11, 10, 10, 10, 8, 16, 4, 8, 13, 9, 10, 5, 5, 13, 7, 14, 7, 12, 9, 11, 6, 12, 9, 15, 5, 10, 8, 10, 8, 7, 4, 9, 7, 17, 9, 15, 11, 6, 10, 8, 4, 4, 13, 6, 3, 7, 8, 11, 5, 8, 7, 6, 10, 2, 10, 12, 5, 13, 10, 11, 7, 15, 10, 5, 9, 6, 6, 8, 6, 6, 8, 6, 6, 8, 7, 10, 12, 16, 6, 6, 7, 12, 6, 9, 5, 8, 11, 10, 12, 7, 10, 8, 10, 5, 6, 8, 9, 4, 7, 11, 11, 7, 5, 10, 11, 13, 12, 9, 8, 12, 7, 10, 6, 7, 7, 9, 7, 12, 7, 12, 10, 8, 7, 8, 9, 8, 11, 10, 14, 13, 6, 11, 6, 11, 6, 7, 9, 5, 10, 10, 8, 9, 8, 10, 11, 10, 11, 7, 8, 5, 10, 11, 12, 4, 8, 9, 9, 11, 7, 12, 11, 7, 6, 13, 11, 11, 9, 8, 5, 10, 9, 7, 7, 10, 7, 9, 8, 4, 11, 11, 7, 4, 8, 7, 12, 5, 9, 9, 11, 6, 12, 7, 6, 10, 13, 7, 10, 9, 7, 8, 12, 7, 10, 7, 9, 9, 7, 10, 10, 7, 6, 7, 8, 15, 8, 12, 8, 7, 12, 11, 5, 10, 12, 5, 4, 5, 3, 11, 7, 10, 6, 9, 7, 8, 15, 6, 8, 11, 9, 10, 13, 11, 9, 8, 8, 9, 10, 7, 5, 11, 9, 7, 9, 13, 12, 8, 8, 6, 10, 14, 5, 12, 10, 8, 6, 6, 8, 10, 10, 9, 7, 8, 6, 8, 8, 9, 10, 12, 9, 7, 9, 12, 12, 8, 14, 6, 11, 6, 10, 14, 4, 10, 8, 6, 8, 7, 5, 10, 6, 3, 11, 12, 8, 9, 10, 12, 7, 10, 8, 4, 8, 6, 8, 9, 13, 8, 9, 8, 16, 11, 6, 7, 7, 9, 9, 11, 4, 10, 11, 15, 7, 12, 8, 8, 4, 7, 10, 8, 9, 7, 7, 9, 9, 3, 9, 10, 6, 13, 12, 7, 10, 7, 5, 12, 5, 6, 6, 7, 14, 10, 10, 4, 6, 7, 15, 5, 3, 15, 10, 8, 6, 10, 7, 10, 12, 11, 6, 8, 10, 4, 7, 10, 10, 3, 11, 6, 4, 5, 6, 6, 6, 8, 4, 9, 7, 10, 9, 7, 5, 6, 7, 6, 8, 10, 9, 4, 14, 11, 10, 11, 6, 8, 12, 15, 5, 12, 5, 3, 5, 5, 6, 15, 11, 9, 7, 10, 10, 16, 7, 12, 8, 9, 3, 7, 12, 11, 10, 12, 4, 12, 7, 6, 10, 8, 13, 7, 12, 5, 11, 8, 15, 11, 4, 10, 8, 5, 8, 6, 7, 8, 8, 5, 10, 9, 12, 9, 9, 10, 8, 5, 8, 12, 10, 6, 16, 5, 9, 11, 10, 7, 5, 8, 11, 8, 8, 5, 9, 13, 5, 15, 7, 9, 7, 7, 8, 12, 4, 5, 12, 7, 8, 5, 13, 11, 9, 9, 8, 11, 11, 5, 10, 10, 10, 11, 6, 12, 11, 7, 6, 15, 5, 6, 10, 7, 10, 6, 6, 8, 8, 6, 5, 4, 8, 13, 5, 6, 7, 8, 6, 11, 8, 10, 8, 9, 4, 7, 13, 6, 9, 9, 11, 8, 13, 4, 4, 12, 10, 11, 7, 4, 10, 5, 8, 5, 9, 11, 7, 11, 9, 12, 7, 6, 12, 8, 12, 7, 8, 9, 10, 8, 9, 7, 8, 5, 17, 7, 4, 7, 11, 15, 13, 10, 12, 5, 10, 7, 13, 13, 6, 8, 12, 6, 6, 4, 4, 10, 13, 11, 4, 7, 11, 13, 11, 10, 11, 9, 4, 8, 15, 6, 12, 11, 12, 12, 6, 7, 4, 7, 8, 11, 4, 9, 8, 7, 6, 11, 12, 8, 8, 6, 5, 9, 10, 9, 7, 13, 6, 9, 8, 12, 9, 9, 14, 11, 10, 6, 11, 10, 10, 8, 7, 5, 7, 11, 8, 4, 8, 9, 5, 13, 5, 6, 9, 3, 11, 10, 6, 13, 9, 5, 2, 4, 11, 8, 7, 12, 7, 8, 13, 13, 7, 10, 5, 8, 8, 9, 10, 8, 8, 7, 9, 15, 11, 7, 12, 5, 8, 8, 14, 9, 10, 8, 11, 8, 14, 5, 9, 5, 11, 11, 12, 12, 13, 5, 10, 7, 7, 9, 5, 9, 10, 9, 3, 7, 3, 6, 6, 12, 8, 8, 6, 11, 13, 8, 10, 10, 9, 6, 11, 14, 7, 8, 9, 10, 11, 9, 11, 7, 6, 6, 5, 13, 9, 9, 6, 8, 9, 7, 12, 15, 6, 10, 4, 14, 11, 10, 11, 9, 5, 12, 9, 6, 7, 9, 4, 5, 4, 8, 7, 8, 10, 11, 6, 6, 5, 8, 7, 9, 10, 14, 9, 12, 6, 7, 10, 9, 8, 10, 7, 9, 10, 7, 7, 10, 11, 10, 9, 9, 8, 11, 6, 7, 7, 10, 7, 13, 12, 6, 9, 8, 7, 3, 8, 5, 15, 5, 10, 6, 4, 9, 5, 5, 6, 7, 12, 5, 9, 9, 5, 9, 13, 7, 12, 14, 7, 6, 5, 12, 13, 6, 9, 7, 5, 13, 9, 5, 13, 5, 12, 7, 7, 8, 9, 4, 13, 7, 8, 7, 10, 7, 6, 6, 6, 10, 9, 12, 14, 8, 7, 6, 6, 11, 15, 8, 5, 8, 12, 5, 10, 5, 7, 8, 13, 6, 10, 7, 8, 8, 10, 14, 14, 10, 15, 7, 10, 10, 8, 9, 7, 5, 9, 7, 9, 6, 5, 10, 10, 6, 3, 12, 9, 10, 15, 13, 13, 11, 12, 7, 6, 6, 9, 7, 12, 12, 4, 7, 4, 12, 11, 13, 8, 9, 9, 10, 6, 7, 7, 5, 7, 12, 11, 8, 7, 6, 9, 5, 8, 11, 9, 11, 11, 10, 15, 11, 13, 15, 12, 12, 11, 12, 10, 9, 8, 7, 12, 6, 10, 5, 5, 11, 7, 12, 6, 11, 8, 12, 9, 7, 7, 10, 7, 10, 8, 6, 7, 10, 8, 12, 10, 5, 5, 7, 8, 10, 11, 6, 6, 4, 6, 10, 5, 6, 6, 9, 11, 6, 13, 9, 8, 42, 7, 7, 10, 10, 10, 5, 6, 10, 11, 42, 8, 6, 9, 5, 10, 9, 8, 14, 6, 7, 14, 8, 7, 10, 13, 7, 9, 10, 13, 8, 5, 6, 13, 9, 9, 14, 9, 8, 7, 5, 12, 10, 17, 5, 9, 6, 13, 10, 12, 6, 10, 10, 8, 10, 10, 8, 11, 7, 12, 13, 8, 5, 15, 7, 11, 11, 6, 11, 8, 5, 4, 13, 13, 10, 12, 11, 12, 13, 8, 6, 8, 12, 9, 9, 11, 5, 12, 11, 6, 9, 6, 13, 6, 5, 6, 7, 10, 8, 8, 15, 9, 6, 7, 3, 6, 6, 5, 13, 9, 6, 7, 6, 13, 11, 7, 6, 7, 11, 14, 11, 8, 12, 10, 14, 11, 6, 3, 5, 11, 12, 9, 12, 5, 8, 12, 4, 4, 5, 8, 10, 4, 7, 7, 9, 9, 5, 16, 7, 7, 46, 7, 13, 7, 7, 9, 12, 14, 7, 14, 10, 13, 11, 46, 9, 10, 9, 10, 9, 5, 10, 10, 8, 11, 12, 12, 10, 7, 7, 6, 4, 11, 12, 6, 5, 10, 6, 7, 8, 10, 7, 10, 9, 6, 5, 7, 9, 11, 7, 16, 8, 8, 15, 6, 9, 11, 7, 9, 12, 7, 12, 13, 8, 9, 12, 14, 10, 11, 7, 7, 5, 13, 7, 11, 6, 9, 10, 12, 9, 11, 4, 9, 7, 16, 7, 8, 7, 6, 12, 8, 10, 10, 9, 11, 13, 13, 6, 9, 14, 10, 5, 6, 8, 8, 9, 9, 11, 8, 5, 9, 9, 7, 11, 8, 14, 5, 9, 7, 13, 8, 9, 5, 5, 7, 11, 6, 8, 14, 7, 11, 5, 3, 7, 6, 4, 8, 7, 9, 13, 8, 10, 7, 7, 12, 7, 6, 5, 6, 7, 13, 10, 5, 13, 8, 11, 10, 7, 4, 8, 8, 9, 10, 9, 14, 5, 11, 6, 13, 6, 11, 10, 8, 7, 10, 7, 12, 8, 12, 8, 14, 7, 6, 3, 16, 9, 7, 6, 9, 8, 6, 6, 7, 6, 4, 17, 13, 6, 5, 6, 7, 3, 6, 5, 9, 11, 10, 12, 9, 10, 9, 10, 8, 7, 13, 15, 9, 11, 6, 11, 4, 5, 7, 14, 11, 7, 9, 8, 8, 10, 14, 10, 8, 10, 8, 8, 9, 7, 8, 12, 10, 11, 11, 11, 11, 11, 8, 12, 11, 14, 8, 7, 15, 9, 10, 11, 8, 8, 11, 9, 9, 9, 8, 8, 11, 14, 10, 10, 12, 10, 12, 11, 14, 9, 8, 18, 10, 12, 9, 7, 15, 5, 16, 14, 6, 6, 11, 12, 15, 10, 16, 10, 11, 6, 12, 7, 8, 11, 7, 13, 10, 6, 8, 7, 5, 5, 15, 8, 9, 11, 9, 12, 9, 14, 12, 14, 4, 8, 11, 14, 14, 13, 5, 16, 8, 11, 13, 7, 3, 7, 11, 8, 7, 8, 7, 9, 7, 12, 9, 8, 3, 8, 3, 18, 5, 7, 12, 6, 9, 15, 14, 8, 12, 7, 11, 6, 12, 3, 3, 9, 7, 11, 3, 8, 9, 11, 9, 7, 10, 16, 4, 10, 5, 8, 10, 11, 7, 10, 10, 5, 8, 7, 5, 6, 12, 10, 12, 7, 13, 12, 9, 6, 11, 5, 11, 13, 12, 5, 6, 10, 17, 10, 9, 7, 8, 10, 10, 5, 10, 8, 12, 7, 8, 3, 6, 5, 6, 12, 5, 5, 10, 5, 5, 9, 11, 9, 4, 12, 10, 7, 4, 9, 10, 8, 6, 8, 7, 3, 8, 8, 9, 9, 8, 9, 4, 10, 12, 12, 7, 9, 10, 10, 12, 16, 12, 6, 5, 9, 10, 12], \"type\": \"scatter\", \"mode\": \"markers\"}], {\"yaxis\": {\"title\": \"Time Enrolled\"}, \"xaxis\": {\"title\": \"Age of Student\"}, \"title\": \"Age of student vs Time Enrolled\"}, {\"linkText\": \"Export to plot.ly\", \"showLink\": true})});</script>"
      ],
      "text/plain": [
       "<IPython.core.display.HTML object>"
      ]
     },
     "metadata": {},
     "output_type": "display_data"
    },
    {
     "name": "stdout",
     "output_type": "stream",
     "text": [
      "The age of enrollment definitely seems to have an impact on enrollment times - seems like higher age of enrollment means slightly lower enrollment times - seems like you might want to target people between 12 and 19 and 2 and 3 to enroll for longer periods; also beyond 1 and below 4 you have lower enrollment\n",
      "Logistic regression also seems to be picking this up - negative values for ages 2-12 and beyond 19, postive for btw 12 and 19\n"
     ]
    },
    {
     "data": {
      "text/plain": [
       "2     123.0\n",
       "3     323.5\n",
       "4     297.0\n",
       "5     290.0\n",
       "6     266.0\n",
       "7     249.5\n",
       "8     272.5\n",
       "9     222.0\n",
       "10    215.0\n",
       "11    201.5\n",
       "12    193.0\n",
       "13    157.5\n",
       "14    137.5\n",
       "15    173.0\n",
       "16     64.0\n",
       "17     49.5\n",
       "18    100.5\n",
       "19     91.0\n",
       "26    115.0\n",
       "42     44.0\n",
       "46     90.0\n",
       "Name: time_enrolled, dtype: float64"
      ]
     },
     "execution_count": 64,
     "metadata": {},
     "output_type": "execute_result"
    }
   ],
   "source": [
    "# Age enrolled and Time Enrolled\n",
    "\n",
    "ae = (((ag_enroll / np.timedelta64(1, 'D')).astype(int))/365).astype(int)\n",
    "trace1 = Scatter(x=ae,y=students['time_enrolled'], mode='markers')\n",
    "data = [trace1]\n",
    "layout = Layout(xaxis=dict(title = 'Age of Student'),\n",
    "                 yaxis=dict(title='Time Enrolled'),\n",
    "                title='Age of student vs Time Enrolled')\n",
    "\n",
    "\n",
    "fig1 = Figure(data=data, layout=layout)\n",
    "iplot(fig1)\n",
    "\n",
    "#print(np.corrcoef(ae,students['time_enrolled'])[0,1])\n",
    "print('The age of enrollment definitely seems to have an impact on enrollment times - seems like higher age of enrollment means slightly lower enrollment times - seems like you might want to target people between 12 and 19 and 2 and 3 to enroll for longer periods; also beyond 1 and below 4 you have lower enrollment')\n",
    "print('Logistic regression also seems to be picking this up - negative values for ages 2-12 and beyond 19, postive for btw 12 and 19')\n",
    "students['time_enrolled'].groupby(ae).median()"
   ]
  },
  {
   "cell_type": "code",
   "execution_count": 61,
   "metadata": {
    "collapsed": false
   },
   "outputs": [
    {
     "data": {
      "text/html": [
       "<div id=\"26dd1cc8-e0bd-4571-a209-634d2149c2f9\" style=\"height: 525px; width: 100%;\" class=\"plotly-graph-div\"></div><script type=\"text/javascript\">require([\"plotly\"], function(Plotly) { window.PLOTLYENV=window.PLOTLYENV || {};window.PLOTLYENV.BASE_URL=\"https://plot.ly\";Plotly.newPlot(\"26dd1cc8-e0bd-4571-a209-634d2149c2f9\", [{\"y\": [35, 140, 120, 217, 282, 332, 289, 333, 694, 216], \"x\": [2007, 2008, 2009, 2010, 2011, 2012, 2013, 2014, 2015, 2016], \"type\": \"scatter\", \"name\": \"Number of students enrolled\", \"mode\": \"lines+markers\"}, {\"y\": [6, 3, 1, 3, 10, 11, 12, 8, 7], \"x\": [2007, 2008, 2009, 2010, 2011, 2012, 2013, 2014, 2015], \"type\": \"scatter\", \"name\": \"Number of camps opened\", \"mode\": \"lines+markers\"}, {\"y\": [4, 42, 78, 69, 156, 335, 312, 384, 658, 620], \"x\": [2007, 2008, 2009, 2010, 2011, 2012, 2013, 2014, 2015, 2016], \"type\": \"scatter\", \"name\": \"Number of students who quit\", \"mode\": \"lines+markers\"}], {\"title\": \"Trends over the years\"}, {\"linkText\": \"Export to plot.ly\", \"showLink\": true})});</script>"
      ],
      "text/plain": [
       "<IPython.core.display.HTML object>"
      ]
     },
     "metadata": {},
     "output_type": "display_data"
    }
   ],
   "source": [
    "# Enrollment over the years\n",
    "\n",
    "students['enroll_date'].groupby(students['enroll_date'].dt.year).size().values\n",
    "\n",
    "trace0 = Scatter(x = [2007,2008,2009,2010,2011,2012,2013,2014,2015,2016],y = students['enroll_date'].groupby(students['enroll_date'].dt.year).size().values,\n",
    "                    mode = 'lines+markers',name = 'Number of students enrolled')\n",
    "trace1 = Scatter(x = [2007,2008,2009,2010,2011,2012,2013,2014,2015], y = camps.groupby(camps[camps['state_code']== 'CA']['open_date'].dt.year).size().values[9:18],\n",
    "                 mode = 'lines+markers',name = 'Number of camps opened')\n",
    "trace2 = Scatter(x = [2007,2008,2009,2010,2011,2012,2013,2014,2015, 2016], y = students['end_date'].groupby(students['end_date'].dt.year).size().values,\n",
    "                 mode = 'lines+markers',name = 'Number of students who quit')\n",
    "data = [trace0, trace1, trace2]\n",
    "layout = dict(title = 'Trends over the years')\n",
    "fig = dict(data=data, layout=layout)\n",
    "iplot(fig, filename='scatter-mode')\n",
    "\n"
   ]
  },
  {
   "cell_type": "code",
   "execution_count": null,
   "metadata": {
    "collapsed": true
   },
   "outputs": [],
   "source": []
  }
 ],
 "metadata": {
  "anaconda-cloud": {},
  "kernelspec": {
   "display_name": "Python [conda env:my_projects_env]",
   "language": "python",
   "name": "conda-env-my_projects_env-py"
  },
  "language_info": {
   "codemirror_mode": {
    "name": "ipython",
    "version": 2
   },
   "file_extension": ".py",
   "mimetype": "text/x-python",
   "name": "python",
   "nbconvert_exporter": "python",
   "pygments_lexer": "ipython2",
   "version": "2.7.13"
  }
 },
 "nbformat": 4,
 "nbformat_minor": 1
}
